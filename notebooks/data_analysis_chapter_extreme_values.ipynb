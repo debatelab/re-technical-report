{
 "cells": [
  {
   "cell_type": "code",
   "execution_count": 29,
   "id": "170b743b",
   "metadata": {},
   "outputs": [],
   "source": [
    "# importing libraries\n",
    "from os import getcwd, path\n",
    "from pathlib import Path\n",
    "\n",
    "from pandas import Series, DataFrame\n",
    "import pandas as pd\n",
    "import numpy as np\n",
    "from typing import Set, List\n",
    "\n",
    "from data_analysis_helper_fun import *"
   ]
  },
  {
   "cell_type": "code",
   "execution_count": 30,
   "id": "d48e47a1",
   "metadata": {},
   "outputs": [],
   "source": [
    "import warnings\n",
    "warnings.filterwarnings('ignore')"
   ]
  },
  {
   "cell_type": "code",
   "execution_count": 31,
   "id": "9abd279f",
   "metadata": {},
   "outputs": [],
   "source": [
    "import plotly.express as px\n",
    "import plotly.graph_objects as go\n",
    "import plotly.io as pio\n",
    "from plotly.subplots import make_subplots"
   ]
  },
  {
   "cell_type": "markdown",
   "id": "761cdf39",
   "metadata": {},
   "source": [
    "## Loading Data"
   ]
  },
  {
   "cell_type": "code",
   "execution_count": 32,
   "id": "a8c15216",
   "metadata": {},
   "outputs": [],
   "source": [
    " # relative path to data directory\n",
    "data_dir = path.join(Path(getcwd()).parent.absolute(), \"data\")\n",
    "data_set_name = 're_data_tau_alpha_mini'\n",
    "data_file_name = f'{data_set_name}.csv.tar.gz'\n",
    "re_data = load_re_data(data_dir, \n",
    "                                data_file_name,\n",
    "                                usecols = [\"model_name\",\n",
    "                                           'n_sentence_pool',\n",
    "                                           \"ds\",\n",
    "                                           \"init_coms\",\n",
    "                                           'weight_account', \n",
    "                                           'weight_systematicity',\n",
    "                                           \"n_fixed_points\",\n",
    "                                           'fp_account', \n",
    "                                           'fp_faithfulness',\n",
    "                                           \"n_global_optima\",\n",
    "                                           'go_account', \n",
    "                                           'go_faithfulness',\n",
    "                                           'error_code',\n",
    "                                           'fixed_points',\n",
    "                                           'global_optima'\n",
    "                                           ],\n",
    "                               evalcols = [\n",
    "                                    'fp_account', \n",
    "                                   'fp_faithfulness',\n",
    "                                   'go_account', \n",
    "                                    'go_faithfulness',\n",
    "                                   'fixed_points',\n",
    "                                    'global_optima'\n",
    "                                   ],\n",
    "                      filter_erroneous_runs = True)"
   ]
  },
  {
   "cell_type": "code",
   "execution_count": 33,
   "id": "3d1badec",
   "metadata": {},
   "outputs": [
    {
     "name": "stdout",
     "output_type": "stream",
     "text": [
      "The data set contains 0/349319 rows of erroneous model runs.\n"
     ]
    }
   ],
   "source": [
    "# useful, if filter_erroneous_runs = False\n",
    "\n",
    "print(f\"The data set contains {sum(re_data['error_code'].isna()==False)}/{len(re_data)} rows of erroneous model runs.\")\n",
    "# filter\n",
    "re_data = re_data.loc[re_data['error_code'].isna()]"
   ]
  },
  {
   "cell_type": "code",
   "execution_count": 34,
   "id": "ac06eca9",
   "metadata": {},
   "outputs": [],
   "source": [
    "# output directory\n",
    "tables_output_dir = path.join(Path(getcwd()).parent.absolute(), \"report\", \"tables\")\n",
    "figures_output_dir = path.join(Path(getcwd()).parent.absolute(), \"report\", \"figures\")"
   ]
  },
  {
   "cell_type": "code",
   "execution_count": 35,
   "id": "dff393de",
   "metadata": {},
   "outputs": [
    {
     "name": "stdout",
     "output_type": "stream",
     "text": [
      "\u001b[1mGeneral information: \u001b[0m\n",
      "   Amount of rows: 349319\n",
      "   Number of dialectical structures: 20\n",
      "   Overall number of initial commitments: 80\n",
      "   Sentence-pools: [6 7 8 9]\n",
      "   Models: ['QuadraticGlobalRE' 'LinearGlobalRE' 'QuadraticLocalRE' 'LinearLocalRE']\n",
      "\n",
      "\n"
     ]
    }
   ],
   "source": [
    "print('\\033[1m' + 'General information: ' + '\\033[0m')\n",
    "print(\"   Amount of rows:\" , len(re_data))\n",
    "print('   Number of dialectical structures:', len(re_data['ds'].unique()))\n",
    "print('   Overall number of initial commitments:', len(re_data['init_coms'].unique()))\n",
    "print('   Sentence-pools:' , re_data['n_sentence_pool'].unique())\n",
    "print('   Models:' , re_data['model_name'].unique())\n",
    "print('\\n')"
   ]
  },
  {
   "cell_type": "code",
   "execution_count": 36,
   "id": "ef347a8a",
   "metadata": {},
   "outputs": [
    {
     "data": {
      "text/plain": [
       "Index(['model_name', 'ds', 'n_sentence_pool', 'weight_account',\n",
       "       'weight_systematicity', 'init_coms', 'error_code', 'fixed_points',\n",
       "       'n_fixed_points', 'fp_account', 'fp_faithfulness', 'global_optima',\n",
       "       'n_global_optima', 'go_account', 'go_faithfulness', 'model_short_name'],\n",
       "      dtype='object')"
      ]
     },
     "execution_count": 36,
     "metadata": {},
     "output_type": "execute_result"
    }
   ],
   "source": [
    "re_data.columns"
   ]
  },
  {
   "cell_type": "markdown",
   "id": "4852598a",
   "metadata": {},
   "source": [
    "## Setup Dataframes"
   ]
  },
  {
   "cell_type": "code",
   "execution_count": 163,
   "id": "862cdccf",
   "metadata": {},
   "outputs": [],
   "source": [
    "\"\"\" \n",
    "If `analyse_branches` is set to `true`, all branches of RE processes are considered for the analysis. \n",
    "This may lead to the multiple counting of a unique fixed point, \n",
    "if they are reached on different paths from a simulation setup.\n",
    "Otherwise, the subsequent analysis comprises only unique fixed points per simulation setups\n",
    "\"\"\"\n",
    "\n",
    "# Currently, no information concerning account/faithfulness values is stored in branches.\n",
    "analyse_branches = False \n",
    "\n",
    "\n",
    "grouping = [\"model_name\"]\n",
    "\n",
    "# Whether resulting tables and figures are exported to the corresponing output directory\"\"\"\n",
    "export_results = True"
   ]
  },
  {
   "cell_type": "code",
   "execution_count": 164,
   "id": "7ccd2d6f",
   "metadata": {},
   "outputs": [
    {
     "data": {
      "text/plain": [
       "(247843, 8)"
      ]
     },
     "execution_count": 164,
     "metadata": {},
     "output_type": "execute_result"
    }
   ],
   "source": [
    "# the analysis of global optima is not affected by status of `analyse_branches`\n",
    "\n",
    "# restrict data to unique simulation setups to prevent multiple counting of branches \n",
    "re_data_unique_setups = re_data.drop_duplicates([\"model_name\",\n",
    "                         \"ds\",\n",
    "                         \"n_sentence_pool\",\n",
    "                         'weight_account', \n",
    "                         'weight_systematicity', \n",
    "                         'init_coms'\n",
    "                        ])\n",
    "\n",
    "# restrict to relevant columns\n",
    "go_data = re_data_unique_setups[[\"model_name\",\n",
    "                                 \"ds\",\n",
    "                                 \"init_coms\",\n",
    "                                 \"weight_account\", \n",
    "                                 \"weight_systematicity\",\n",
    "                                 \"global_optima\",\n",
    "                                 'go_account', \n",
    "                                 'go_faithfulness'\n",
    "                                ]]\n",
    "\n",
    "# explode information about global optima, which is stored rowwise (per simulation setup) \n",
    "# in lists (e.g. in the column `go_full_re_state`)\n",
    "exploded_go_data = go_data.set_index([\"model_name\",\n",
    "                                      \"ds\",\n",
    "                                      \"init_coms\",\n",
    "                                      \"weight_account\", \n",
    "                                      \"weight_systematicity\",\n",
    "                                     ]).apply(pd.Series.explode).reset_index()\n",
    "\n",
    "exploded_go_data.shape"
   ]
  },
  {
   "cell_type": "code",
   "execution_count": 165,
   "id": "26e1e501",
   "metadata": {},
   "outputs": [],
   "source": [
    "# add lengths of global optima theories\n",
    "exploded_go_data[\"go_theory_len\"] = exploded_go_data[\"global_optima\"].apply(lambda x: len(x[0]))"
   ]
  },
  {
   "cell_type": "code",
   "execution_count": null,
   "id": "04371a52",
   "metadata": {},
   "outputs": [],
   "source": []
  },
  {
   "cell_type": "code",
   "execution_count": 166,
   "id": "30c4b371",
   "metadata": {},
   "outputs": [
    {
     "data": {
      "text/plain": [
       "model_name\n",
       "LinearGlobalRE       14400\n",
       "LinearLocalRE        14330\n",
       "QuadraticGlobalRE    14399\n",
       "QuadraticLocalRE     14384\n",
       "Name: ds, dtype: int64"
      ]
     },
     "execution_count": 166,
     "metadata": {},
     "output_type": "execute_result"
    }
   ],
   "source": [
    "re_data_unique_setups.groupby(\"model_name\")[\"ds\"].size()"
   ]
  },
  {
   "cell_type": "code",
   "execution_count": 167,
   "id": "501e6215",
   "metadata": {},
   "outputs": [
    {
     "data": {
      "text/plain": [
       "(152485, 8)"
      ]
     },
     "execution_count": 167,
     "metadata": {},
     "output_type": "execute_result"
    }
   ],
   "source": [
    "if analyse_branches:\n",
    "    \n",
    "    raise ValueError(\"`analyse_branches` cannot be set to `true`\")\n",
    "    # use all rows and restrict to relevant columns\n",
    "    #fp_data = re_data[[\"model_name\",\n",
    "    #                   \"ds\",\n",
    "    #                   \"init_coms\",\n",
    "    #                   \"weight_account\", \n",
    "    #                   \"weight_systematicity\", \n",
    "    #                   'fixed_point_is_full_re_state']]\n",
    "    #\n",
    "    ## rename fixed point columns \n",
    "    ## note: df is already exploded\n",
    "    #exploded_fp_data = fp_data.rename(columns={'fixed_point_is_full_re_state': \"fp_full_re_state\",})\n",
    "    \n",
    "else:\n",
    "    \n",
    "    # use unique setups and restrict to relevant columns\n",
    "    fp_data = re_data_unique_setups[[\"model_name\",\n",
    "                                     \"ds\",\n",
    "                                     \"init_coms\",\n",
    "                                     \"weight_account\", \n",
    "                                     \"weight_systematicity\",\n",
    "                                     \"fixed_points\",\n",
    "                                     'fp_account', \n",
    "                                     'fp_faithfulness',\n",
    "                                    ]]\n",
    "    \n",
    "    # explode information about unique fixed points, which is stored rowwise (per simulation setup) \n",
    "    # in lists (e.g. in the column `fp_full_re_state`) \n",
    "    exploded_fp_data = fp_data.set_index([\"model_name\",\n",
    "                                          \"ds\",\n",
    "                                          \"init_coms\",\n",
    "                                          \"weight_account\", \n",
    "                                          \"weight_systematicity\"]).apply(pd.Series.explode).reset_index()\n",
    "    \n",
    "exploded_fp_data.shape"
   ]
  },
  {
   "cell_type": "code",
   "execution_count": 168,
   "id": "67581d8a",
   "metadata": {},
   "outputs": [],
   "source": [
    "# add lengths of fixed points theories\n",
    "exploded_fp_data[\"fp_theory_len\"] = exploded_fp_data[\"fixed_points\"].apply(lambda x: len(x[0]))"
   ]
  },
  {
   "cell_type": "code",
   "execution_count": 169,
   "id": "4e6c1cad",
   "metadata": {},
   "outputs": [],
   "source": [
    "#for df, endpoint_type in zip([exploded_go_data, exploded_fp_data], [\"go\", \"fp\"]):\n",
    "#\n",
    "#    fig = make_subplots(rows=2, cols=2,\n",
    "#                        shared_xaxes=True,\n",
    "#                        #shared_yaxes=True,\n",
    "#                        vertical_spacing=0.12,\n",
    "#                        subplot_titles=(model_names))\n",
    "#\n",
    "#    for model_name, pos in zip(model_names, [(1,1), (1,2), (2,1), (2,2)]):\n",
    "#\n",
    "#        g_df = df[df[\"model_name\"]==model_name]\n",
    "#\n",
    "#        # Note: init_coms is used as a dummy column for counting\n",
    "#        g_df = g_df.groupby(\"{}_account\".format(endpoint_type))[\"init_coms\"].size().reset_index()\n",
    "#\n",
    "#        fig.add_trace(go.Bar(x=g_df[\"{}_account\".format(endpoint_type)], \n",
    "#                             y=g_df[\"init_coms\"],\n",
    "#                             marker_color=viridis_map[model_name]), \n",
    "#                      row=pos[0], \n",
    "#                      col=pos[1])\n",
    "#\n",
    "#    fig.update_xaxes(title_text=\"Account\", row=2, col=1)\n",
    "#    fig.update_xaxes(title_text=\"Account\", row=2, col=2)\n",
    "#    \n",
    "#    fig.update_xaxes(range=[0.0, 1.0])\n",
    "#\n",
    "#    fig.update_yaxes(title_text=\"Number\", row=1, col=1)\n",
    "#    fig.update_yaxes(title_text=\"Number\", row=2, col=1)\n",
    "#\n",
    "#    fig.update_annotations(font_size=12)\n",
    "#    fig.update_yaxes(title_font=dict(size=12))\n",
    "#    fig.update_xaxes(title_font=dict(size=12))\n",
    "#    \n",
    "#    endpoint = \"global optima\" if endpoint_type == \"go\" else \"fixed points\"\n",
    "#    fig_title = \"Number of {} achieving specific account measure values\".format(endpoint)\n",
    "#    \n",
    "#    fig.update_layout(template=\"plotly_white\",\n",
    "#                      showlegend=False,\n",
    "#                      title=fig_title)\n",
    "#\n",
    "#    fig.show()"
   ]
  },
  {
   "cell_type": "code",
   "execution_count": 170,
   "id": "12b1f924",
   "metadata": {},
   "outputs": [],
   "source": [
    "#for df, endpoint_type in zip([exploded_go_data, exploded_fp_data], [\"go\", \"fp\"]):\n",
    "#\n",
    "#    fig = make_subplots(rows=2, cols=2,\n",
    "#                        shared_xaxes=True,\n",
    "#                        #shared_yaxes=True,\n",
    "#                        vertical_spacing=0.12,\n",
    "#                        subplot_titles=(model_names))\n",
    "#\n",
    "#    for model_name, pos in zip(model_names, [(1,1), (1,2), (2,1), (2,2)]):\n",
    "#\n",
    "#        g_df = df[df[\"model_name\"]==model_name]\n",
    "#\n",
    "#        # Note: init_coms is used as a dummy column for counting\n",
    "#        g_df = g_df.groupby(\"{}_faithfulness\".format(endpoint_type))[\"init_coms\"].size().reset_index()\n",
    "#\n",
    "#        fig.add_trace(go.Bar(x=g_df[\"{}_faithfulness\".format(endpoint_type)], \n",
    "#                             y=g_df[\"init_coms\"],\n",
    "#                             marker_color=viridis_map[model_name]), \n",
    "#                      row=pos[0], \n",
    "#                      col=pos[1])\n",
    "#\n",
    "#    fig.update_xaxes(title_text=\"Faithfulness\", row=2, col=1)\n",
    "#    fig.update_xaxes(title_text=\"Faithfulness\", row=2, col=2)\n",
    "#    \n",
    "#    fig.update_xaxes(range=[0.0, 1.0])\n",
    "#\n",
    "#    fig.update_yaxes(title_text=\"Number\", row=1, col=1)\n",
    "#    fig.update_yaxes(title_text=\"Number\", row=2, col=1)\n",
    "#\n",
    "#    fig.update_annotations(font_size=12)\n",
    "#    fig.update_yaxes(title_font=dict(size=12))\n",
    "#    fig.update_xaxes(title_font=dict(size=12))\n",
    "#    \n",
    "#    endpoint = \"global optima\" if endpoint_type == \"go\" else \"fixed points\"\n",
    "#    fig_title = \"Number of {} achieving specific faithfulness measure values\".format(endpoint)\n",
    "#    \n",
    "#    fig.update_layout(template=\"plotly_white\",\n",
    "#                      showlegend=False,\n",
    "#                      title=fig_title)\n",
    "#\n",
    "#    fig.show()"
   ]
  },
  {
   "cell_type": "code",
   "execution_count": null,
   "id": "47cf1be7",
   "metadata": {},
   "outputs": [],
   "source": []
  },
  {
   "cell_type": "markdown",
   "id": "79ebf3b9",
   "metadata": {},
   "source": [
    "## Tables"
   ]
  },
  {
   "cell_type": "markdown",
   "id": "8868cc79",
   "metadata": {},
   "source": [
    "### Maximal values"
   ]
  },
  {
   "cell_type": "code",
   "execution_count": 171,
   "id": "d5bff3d6",
   "metadata": {},
   "outputs": [],
   "source": [
    "grouping = [\"model_name\"]"
   ]
  },
  {
   "cell_type": "code",
   "execution_count": 172,
   "id": "0c0069b2",
   "metadata": {},
   "outputs": [
    {
     "data": {
      "text/html": [
       "<div>\n",
       "<style scoped>\n",
       "    .dataframe tbody tr th:only-of-type {\n",
       "        vertical-align: middle;\n",
       "    }\n",
       "\n",
       "    .dataframe tbody tr th {\n",
       "        vertical-align: top;\n",
       "    }\n",
       "\n",
       "    .dataframe thead th {\n",
       "        text-align: right;\n",
       "    }\n",
       "</style>\n",
       "<table border=\"1\" class=\"dataframe\">\n",
       "  <thead>\n",
       "    <tr style=\"text-align: right;\">\n",
       "      <th></th>\n",
       "      <th>model_name</th>\n",
       "      <th>n_go_max_account</th>\n",
       "      <th>n_go_max_systematicity</th>\n",
       "      <th>n_go_max_faithfulness</th>\n",
       "      <th>n_global_optima</th>\n",
       "      <th>rel_go_max_account</th>\n",
       "      <th>rel_go_max_systematicity</th>\n",
       "      <th>rel_go_max_faithfulness</th>\n",
       "    </tr>\n",
       "  </thead>\n",
       "  <tbody>\n",
       "    <tr>\n",
       "      <th>0</th>\n",
       "      <td>LinearGlobalRE</td>\n",
       "      <td>19430</td>\n",
       "      <td>51305</td>\n",
       "      <td>20301</td>\n",
       "      <td>59949</td>\n",
       "      <td>0.324109</td>\n",
       "      <td>0.855811</td>\n",
       "      <td>0.338638</td>\n",
       "    </tr>\n",
       "    <tr>\n",
       "      <th>1</th>\n",
       "      <td>LinearLocalRE</td>\n",
       "      <td>19163</td>\n",
       "      <td>51077</td>\n",
       "      <td>20297</td>\n",
       "      <td>59682</td>\n",
       "      <td>0.321085</td>\n",
       "      <td>0.855819</td>\n",
       "      <td>0.340086</td>\n",
       "    </tr>\n",
       "    <tr>\n",
       "      <th>2</th>\n",
       "      <td>QuadraticGlobalRE</td>\n",
       "      <td>8167</td>\n",
       "      <td>44715</td>\n",
       "      <td>8185</td>\n",
       "      <td>64141</td>\n",
       "      <td>0.127329</td>\n",
       "      <td>0.697136</td>\n",
       "      <td>0.127609</td>\n",
       "    </tr>\n",
       "    <tr>\n",
       "      <th>3</th>\n",
       "      <td>QuadraticLocalRE</td>\n",
       "      <td>8150</td>\n",
       "      <td>44685</td>\n",
       "      <td>8183</td>\n",
       "      <td>64071</td>\n",
       "      <td>0.127203</td>\n",
       "      <td>0.697429</td>\n",
       "      <td>0.127718</td>\n",
       "    </tr>\n",
       "  </tbody>\n",
       "</table>\n",
       "</div>"
      ],
      "text/plain": [
       "          model_name  n_go_max_account  n_go_max_systematicity  \\\n",
       "0     LinearGlobalRE             19430                   51305   \n",
       "1      LinearLocalRE             19163                   51077   \n",
       "2  QuadraticGlobalRE              8167                   44715   \n",
       "3   QuadraticLocalRE              8150                   44685   \n",
       "\n",
       "   n_go_max_faithfulness  n_global_optima  rel_go_max_account  \\\n",
       "0                  20301            59949            0.324109   \n",
       "1                  20297            59682            0.321085   \n",
       "2                   8185            64141            0.127329   \n",
       "3                   8183            64071            0.127203   \n",
       "\n",
       "   rel_go_max_systematicity  rel_go_max_faithfulness  \n",
       "0                  0.855811                 0.338638  \n",
       "1                  0.855819                 0.340086  \n",
       "2                  0.697136                 0.127609  \n",
       "3                  0.697429                 0.127718  "
      ]
     },
     "execution_count": 172,
     "metadata": {},
     "output_type": "execute_result"
    }
   ],
   "source": [
    "# number of global optima with account = 1\n",
    "df1 = exploded_go_data[exploded_go_data[\"go_account\"]==1].groupby(grouping)[\"go_account\"].size().reset_index()\n",
    "df1.rename(columns={\"go_account\":\"n_go_max_account\"}, inplace=True)\n",
    "\n",
    "# number of global optima with systematicity = 1\n",
    "df2 = exploded_go_data[exploded_go_data[\"go_theory_len\"]==1].groupby(grouping)[\"go_theory_len\"].size().reset_index()\n",
    "df2.rename(columns={\"go_theory_len\":\"n_go_max_systematicity\"}, inplace=True)\n",
    "\n",
    "# number of global optima with faithfulness = 1\n",
    "df3 = exploded_go_data[exploded_go_data[\"go_faithfulness\"]==1].groupby(grouping)[\"go_faithfulness\"].size().reset_index()\n",
    "df3.rename(columns={\"go_faithfulness\":\"n_go_max_faithfulness\"}, inplace=True)\n",
    "\n",
    "# number of global optima\n",
    "df4 = exploded_go_data.groupby(grouping)[\"go_account\"].size().reset_index()\n",
    "df4.rename(columns={\"go_account\":\"n_global_optima\"}, inplace=True)\n",
    "\n",
    "go_df = df1.join(df2.set_index(\"model_name\"), on=\"model_name\")\n",
    "go_df = go_df.join(df3.set_index(\"model_name\"), on=\"model_name\")\n",
    "go_df = go_df.join(df4.set_index(\"model_name\"), on=\"model_name\")\n",
    "\n",
    "go_df[\"rel_go_max_account\"] = go_df[\"n_go_max_account\"]/go_df[\"n_global_optima\"]\n",
    "go_df[\"rel_go_max_systematicity\"] = go_df[\"n_go_max_systematicity\"]/go_df[\"n_global_optima\"]\n",
    "go_df[\"rel_go_max_faithfulness\"] = go_df[\"n_go_max_faithfulness\"]/go_df[\"n_global_optima\"]\n",
    "\n",
    "go_df"
   ]
  },
  {
   "cell_type": "code",
   "execution_count": 173,
   "id": "f63cbee7",
   "metadata": {},
   "outputs": [
    {
     "data": {
      "text/html": [
       "<div>\n",
       "<style scoped>\n",
       "    .dataframe tbody tr th:only-of-type {\n",
       "        vertical-align: middle;\n",
       "    }\n",
       "\n",
       "    .dataframe tbody tr th {\n",
       "        vertical-align: top;\n",
       "    }\n",
       "\n",
       "    .dataframe thead th {\n",
       "        text-align: right;\n",
       "    }\n",
       "</style>\n",
       "<table border=\"1\" class=\"dataframe\">\n",
       "  <thead>\n",
       "    <tr style=\"text-align: right;\">\n",
       "      <th></th>\n",
       "      <th>model_name</th>\n",
       "      <th>n_fp_max_account</th>\n",
       "      <th>n_fp_max_systematicity</th>\n",
       "      <th>n_fp_max_faithfulness</th>\n",
       "      <th>n_fixed_points</th>\n",
       "      <th>rel_fp_max_account</th>\n",
       "      <th>rel_fp_max_systematicity</th>\n",
       "      <th>rel_fp_max_faithfulness</th>\n",
       "    </tr>\n",
       "  </thead>\n",
       "  <tbody>\n",
       "    <tr>\n",
       "      <th>0</th>\n",
       "      <td>LinearGlobalRE</td>\n",
       "      <td>11893</td>\n",
       "      <td>23756</td>\n",
       "      <td>17311</td>\n",
       "      <td>32210</td>\n",
       "      <td>0.369233</td>\n",
       "      <td>0.737535</td>\n",
       "      <td>0.537442</td>\n",
       "    </tr>\n",
       "    <tr>\n",
       "      <th>1</th>\n",
       "      <td>LinearLocalRE</td>\n",
       "      <td>14661</td>\n",
       "      <td>11364</td>\n",
       "      <td>8136</td>\n",
       "      <td>22907</td>\n",
       "      <td>0.640023</td>\n",
       "      <td>0.496093</td>\n",
       "      <td>0.355175</td>\n",
       "    </tr>\n",
       "    <tr>\n",
       "      <th>2</th>\n",
       "      <td>QuadraticGlobalRE</td>\n",
       "      <td>7482</td>\n",
       "      <td>22990</td>\n",
       "      <td>9244</td>\n",
       "      <td>41725</td>\n",
       "      <td>0.179317</td>\n",
       "      <td>0.550989</td>\n",
       "      <td>0.221546</td>\n",
       "    </tr>\n",
       "    <tr>\n",
       "      <th>3</th>\n",
       "      <td>QuadraticLocalRE</td>\n",
       "      <td>8353</td>\n",
       "      <td>25863</td>\n",
       "      <td>5100</td>\n",
       "      <td>55643</td>\n",
       "      <td>0.150118</td>\n",
       "      <td>0.464802</td>\n",
       "      <td>0.091656</td>\n",
       "    </tr>\n",
       "  </tbody>\n",
       "</table>\n",
       "</div>"
      ],
      "text/plain": [
       "          model_name  n_fp_max_account  n_fp_max_systematicity  \\\n",
       "0     LinearGlobalRE             11893                   23756   \n",
       "1      LinearLocalRE             14661                   11364   \n",
       "2  QuadraticGlobalRE              7482                   22990   \n",
       "3   QuadraticLocalRE              8353                   25863   \n",
       "\n",
       "   n_fp_max_faithfulness  n_fixed_points  rel_fp_max_account  \\\n",
       "0                  17311           32210            0.369233   \n",
       "1                   8136           22907            0.640023   \n",
       "2                   9244           41725            0.179317   \n",
       "3                   5100           55643            0.150118   \n",
       "\n",
       "   rel_fp_max_systematicity  rel_fp_max_faithfulness  \n",
       "0                  0.737535                 0.537442  \n",
       "1                  0.496093                 0.355175  \n",
       "2                  0.550989                 0.221546  \n",
       "3                  0.464802                 0.091656  "
      ]
     },
     "execution_count": 173,
     "metadata": {},
     "output_type": "execute_result"
    }
   ],
   "source": [
    "# number of fixed points with account = 1\n",
    "df1 = exploded_fp_data[exploded_fp_data[\"fp_account\"]==1].groupby(grouping)[\"fp_account\"].size().reset_index()\n",
    "df1.rename(columns={\"fp_account\":\"n_fp_max_account\"}, inplace=True)\n",
    "\n",
    "# number of fixed points with systematicity = 1\n",
    "df2 = exploded_fp_data[exploded_fp_data[\"fp_theory_len\"]==1].groupby(grouping)[\"fp_theory_len\"].size().reset_index()\n",
    "df2.rename(columns={\"fp_theory_len\":\"n_fp_max_systematicity\"}, inplace=True)\n",
    "\n",
    "# number of fixed points with faithfulness = 1\n",
    "df3 = exploded_fp_data[exploded_fp_data[\"fp_faithfulness\"]==1].groupby(grouping)[\"fp_faithfulness\"].size().reset_index()\n",
    "df3.rename(columns={\"fp_faithfulness\":\"n_fp_max_faithfulness\"}, inplace=True)\n",
    "\n",
    "# number of fixed points\n",
    "df4 = exploded_fp_data.groupby(grouping)[\"fp_account\"].size().reset_index()\n",
    "df4.rename(columns={\"fp_account\":\"n_fixed_points\"}, inplace=True)\n",
    "\n",
    "\n",
    "\n",
    "fp_df = df1.join(df2.set_index(\"model_name\"), on=\"model_name\")\n",
    "fp_df = fp_df.join(df3.set_index(\"model_name\"), on=\"model_name\")\n",
    "fp_df = fp_df.join(df4.set_index(\"model_name\"), on=\"model_name\")\n",
    "\n",
    "\n",
    "fp_df[\"rel_fp_max_account\"] = fp_df[\"n_fp_max_account\"]/fp_df[\"n_fixed_points\"]\n",
    "fp_df[\"rel_fp_max_systematicity\"] = fp_df[\"n_fp_max_systematicity\"]/fp_df[\"n_fixed_points\"]\n",
    "fp_df[\"rel_fp_max_faithfulness\"] = fp_df[\"n_fp_max_faithfulness\"]/fp_df[\"n_fixed_points\"]\n",
    "\n",
    "fp_df"
   ]
  },
  {
   "cell_type": "code",
   "execution_count": 174,
   "id": "d149bc96",
   "metadata": {},
   "outputs": [
    {
     "data": {
      "text/html": [
       "<div>\n",
       "<style scoped>\n",
       "    .dataframe tbody tr th:only-of-type {\n",
       "        vertical-align: middle;\n",
       "    }\n",
       "\n",
       "    .dataframe tbody tr th {\n",
       "        vertical-align: top;\n",
       "    }\n",
       "\n",
       "    .dataframe thead th {\n",
       "        text-align: right;\n",
       "    }\n",
       "</style>\n",
       "<table border=\"1\" class=\"dataframe\">\n",
       "  <thead>\n",
       "    <tr style=\"text-align: right;\">\n",
       "      <th></th>\n",
       "      <th>Model</th>\n",
       "      <th>Number of global optima with maximal account</th>\n",
       "      <th>Number of global optima with maximal systematicity</th>\n",
       "      <th>Number of global optima with maximal faithfulness</th>\n",
       "      <th>Number of global optima</th>\n",
       "      <th>Relative share of global optima with maximal account</th>\n",
       "      <th>Relative share of global optima with maximal systematicity</th>\n",
       "      <th>Relative share of global optima with maximal faithfulness</th>\n",
       "    </tr>\n",
       "  </thead>\n",
       "  <tbody>\n",
       "    <tr>\n",
       "      <th>2</th>\n",
       "      <td>QuadraticGlobalRE</td>\n",
       "      <td>8167</td>\n",
       "      <td>44715</td>\n",
       "      <td>8185</td>\n",
       "      <td>64141</td>\n",
       "      <td>0.127329</td>\n",
       "      <td>0.697136</td>\n",
       "      <td>0.127609</td>\n",
       "    </tr>\n",
       "    <tr>\n",
       "      <th>0</th>\n",
       "      <td>LinearGlobalRE</td>\n",
       "      <td>19430</td>\n",
       "      <td>51305</td>\n",
       "      <td>20301</td>\n",
       "      <td>59949</td>\n",
       "      <td>0.324109</td>\n",
       "      <td>0.855811</td>\n",
       "      <td>0.338638</td>\n",
       "    </tr>\n",
       "    <tr>\n",
       "      <th>3</th>\n",
       "      <td>QuadraticLocalRE</td>\n",
       "      <td>8150</td>\n",
       "      <td>44685</td>\n",
       "      <td>8183</td>\n",
       "      <td>64071</td>\n",
       "      <td>0.127203</td>\n",
       "      <td>0.697429</td>\n",
       "      <td>0.127718</td>\n",
       "    </tr>\n",
       "    <tr>\n",
       "      <th>1</th>\n",
       "      <td>LinearLocalRE</td>\n",
       "      <td>19163</td>\n",
       "      <td>51077</td>\n",
       "      <td>20297</td>\n",
       "      <td>59682</td>\n",
       "      <td>0.321085</td>\n",
       "      <td>0.855819</td>\n",
       "      <td>0.340086</td>\n",
       "    </tr>\n",
       "  </tbody>\n",
       "</table>\n",
       "</div>"
      ],
      "text/plain": [
       "               Model  Number of global optima with maximal account  \\\n",
       "2  QuadraticGlobalRE                                          8167   \n",
       "0     LinearGlobalRE                                         19430   \n",
       "3   QuadraticLocalRE                                          8150   \n",
       "1      LinearLocalRE                                         19163   \n",
       "\n",
       "   Number of global optima with maximal systematicity  \\\n",
       "2                                              44715    \n",
       "0                                              51305    \n",
       "3                                              44685    \n",
       "1                                              51077    \n",
       "\n",
       "   Number of global optima with maximal faithfulness  Number of global optima  \\\n",
       "2                                               8185                    64141   \n",
       "0                                              20301                    59949   \n",
       "3                                               8183                    64071   \n",
       "1                                              20297                    59682   \n",
       "\n",
       "   Relative share of global optima with maximal account  \\\n",
       "2                                           0.127329      \n",
       "0                                           0.324109      \n",
       "3                                           0.127203      \n",
       "1                                           0.321085      \n",
       "\n",
       "   Relative share of global optima with maximal systematicity  \\\n",
       "2                                           0.697136            \n",
       "0                                           0.855811            \n",
       "3                                           0.697429            \n",
       "1                                           0.855819            \n",
       "\n",
       "   Relative share of global optima with maximal faithfulness  \n",
       "2                                           0.127609          \n",
       "0                                           0.338638          \n",
       "3                                           0.127718          \n",
       "1                                           0.340086          "
      ]
     },
     "metadata": {},
     "output_type": "display_data"
    },
    {
     "data": {
      "text/html": [
       "<div>\n",
       "<style scoped>\n",
       "    .dataframe tbody tr th:only-of-type {\n",
       "        vertical-align: middle;\n",
       "    }\n",
       "\n",
       "    .dataframe tbody tr th {\n",
       "        vertical-align: top;\n",
       "    }\n",
       "\n",
       "    .dataframe thead th {\n",
       "        text-align: right;\n",
       "    }\n",
       "</style>\n",
       "<table border=\"1\" class=\"dataframe\">\n",
       "  <thead>\n",
       "    <tr style=\"text-align: right;\">\n",
       "      <th></th>\n",
       "      <th>Model</th>\n",
       "      <th>Number of fixed points with maximal account</th>\n",
       "      <th>Number of fixed points with maximal systematicity</th>\n",
       "      <th>Number of fixed points with maximal faithfulness</th>\n",
       "      <th>Number of fixed points</th>\n",
       "      <th>Relative share of fixed points with maximal account</th>\n",
       "      <th>Relative share of fixed points with maximal systematicity</th>\n",
       "      <th>Relative share of fixed points with maximal faithfulness</th>\n",
       "    </tr>\n",
       "  </thead>\n",
       "  <tbody>\n",
       "    <tr>\n",
       "      <th>2</th>\n",
       "      <td>QuadraticGlobalRE</td>\n",
       "      <td>7482</td>\n",
       "      <td>22990</td>\n",
       "      <td>9244</td>\n",
       "      <td>41725</td>\n",
       "      <td>0.179317</td>\n",
       "      <td>0.550989</td>\n",
       "      <td>0.221546</td>\n",
       "    </tr>\n",
       "    <tr>\n",
       "      <th>0</th>\n",
       "      <td>LinearGlobalRE</td>\n",
       "      <td>11893</td>\n",
       "      <td>23756</td>\n",
       "      <td>17311</td>\n",
       "      <td>32210</td>\n",
       "      <td>0.369233</td>\n",
       "      <td>0.737535</td>\n",
       "      <td>0.537442</td>\n",
       "    </tr>\n",
       "    <tr>\n",
       "      <th>3</th>\n",
       "      <td>QuadraticLocalRE</td>\n",
       "      <td>8353</td>\n",
       "      <td>25863</td>\n",
       "      <td>5100</td>\n",
       "      <td>55643</td>\n",
       "      <td>0.150118</td>\n",
       "      <td>0.464802</td>\n",
       "      <td>0.091656</td>\n",
       "    </tr>\n",
       "    <tr>\n",
       "      <th>1</th>\n",
       "      <td>LinearLocalRE</td>\n",
       "      <td>14661</td>\n",
       "      <td>11364</td>\n",
       "      <td>8136</td>\n",
       "      <td>22907</td>\n",
       "      <td>0.640023</td>\n",
       "      <td>0.496093</td>\n",
       "      <td>0.355175</td>\n",
       "    </tr>\n",
       "  </tbody>\n",
       "</table>\n",
       "</div>"
      ],
      "text/plain": [
       "               Model  Number of fixed points with maximal account  \\\n",
       "2  QuadraticGlobalRE                                         7482   \n",
       "0     LinearGlobalRE                                        11893   \n",
       "3   QuadraticLocalRE                                         8353   \n",
       "1      LinearLocalRE                                        14661   \n",
       "\n",
       "   Number of fixed points with maximal systematicity  \\\n",
       "2                                              22990   \n",
       "0                                              23756   \n",
       "3                                              25863   \n",
       "1                                              11364   \n",
       "\n",
       "   Number of fixed points with maximal faithfulness  Number of fixed points  \\\n",
       "2                                              9244                   41725   \n",
       "0                                             17311                   32210   \n",
       "3                                              5100                   55643   \n",
       "1                                              8136                   22907   \n",
       "\n",
       "   Relative share of fixed points with maximal account  \\\n",
       "2                                           0.179317     \n",
       "0                                           0.369233     \n",
       "3                                           0.150118     \n",
       "1                                           0.640023     \n",
       "\n",
       "   Relative share of fixed points with maximal systematicity  \\\n",
       "2                                           0.550989           \n",
       "0                                           0.737535           \n",
       "3                                           0.464802           \n",
       "1                                           0.496093           \n",
       "\n",
       "   Relative share of fixed points with maximal faithfulness  \n",
       "2                                           0.221546         \n",
       "0                                           0.537442         \n",
       "3                                           0.091656         \n",
       "1                                           0.355175         "
      ]
     },
     "metadata": {},
     "output_type": "display_data"
    }
   ],
   "source": [
    "# separate tables for go and fp\n",
    "\n",
    "for df, endpoint_type in zip([go_df, fp_df], [\"go\", \"fp\"]):\n",
    "    \n",
    "    # sort by model name\n",
    "    df['model_name'] = pd.Categorical(df['model_name'], [\"QuadraticGlobalRE\", \"LinearGlobalRE\", \"QuadraticLocalRE\", \"LinearLocalRE\"])\n",
    "    df.sort_values(\"model_name\", inplace=True)\n",
    "    \n",
    "    # Changing col names for readability\n",
    "    cols_for_tables = {'model_name':'Model',\n",
    "                       'n_fp_max_account': 'Number of fixed points with maximal account',\n",
    "                       'n_fp_max_systematicity': 'Number of fixed points with maximal systematicity',\n",
    "                       'n_fp_max_faithfulness': 'Number of fixed points with maximal faithfulness',\n",
    "                       'n_fixed_points': 'Number of fixed points',\n",
    "                       'rel_fp_max_account': 'Relative share of fixed points with maximal account',\n",
    "                       'rel_fp_max_systematicity': 'Relative share of fixed points with maximal systematicity',\n",
    "                       'rel_fp_max_faithfulness': 'Relative share of fixed points with maximal faithfulness',\n",
    "                       'n_go_max_account': 'Number of global optima with maximal account',\n",
    "                       'n_go_max_systematicity': 'Number of global optima with maximal systematicity',\n",
    "                       'n_go_max_faithfulness': 'Number of global optima with maximal faithfulness', \n",
    "                       'n_global_optima': 'Number of global optima',\n",
    "                       'rel_go_max_account': 'Relative share of global optima with maximal account',\n",
    "                       'rel_go_max_systematicity': 'Relative share of global optima with maximal systematicity',\n",
    "                       'rel_go_max_faithfulness': 'Relative share of global optima with maximal faithfulness'\n",
    "                  }\n",
    "\n",
    "    display(df.rename(columns=cols_for_tables))\n",
    "    \n",
    "    \n",
    "    # Exporting relevant cols\n",
    "    if export_results:\n",
    "        file_name = 'table_max_values_{}_{}.csv'.format(endpoint_type, 'branches' if analyse_branches else 'setups')\n",
    "        df.rename(columns=cols_for_tables).to_csv(path.join(tables_output_dir, file_name), index=False)\n",
    "    "
   ]
  },
  {
   "cell_type": "markdown",
   "id": "e978b826",
   "metadata": {},
   "source": [
    "### Minimal values"
   ]
  },
  {
   "cell_type": "code",
   "execution_count": 175,
   "id": "bb9aea85",
   "metadata": {},
   "outputs": [
    {
     "data": {
      "text/html": [
       "<div>\n",
       "<style scoped>\n",
       "    .dataframe tbody tr th:only-of-type {\n",
       "        vertical-align: middle;\n",
       "    }\n",
       "\n",
       "    .dataframe tbody tr th {\n",
       "        vertical-align: top;\n",
       "    }\n",
       "\n",
       "    .dataframe thead th {\n",
       "        text-align: right;\n",
       "    }\n",
       "</style>\n",
       "<table border=\"1\" class=\"dataframe\">\n",
       "  <thead>\n",
       "    <tr style=\"text-align: right;\">\n",
       "      <th></th>\n",
       "      <th>model_name</th>\n",
       "      <th>n_go_min_account</th>\n",
       "    </tr>\n",
       "  </thead>\n",
       "  <tbody>\n",
       "  </tbody>\n",
       "</table>\n",
       "</div>"
      ],
      "text/plain": [
       "Empty DataFrame\n",
       "Columns: [model_name, n_go_min_account]\n",
       "Index: []"
      ]
     },
     "execution_count": 175,
     "metadata": {},
     "output_type": "execute_result"
    }
   ],
   "source": [
    "# number of global optima with account = 0\n",
    "df1 = exploded_go_data[exploded_go_data[\"go_account\"]==0].groupby(grouping)[\"go_account\"].size().reset_index()\n",
    "df1.rename(columns={\"go_account\":\"n_go_min_account\"}, inplace=True)\n",
    "df1"
   ]
  },
  {
   "cell_type": "code",
   "execution_count": 176,
   "id": "c1d9d46e",
   "metadata": {},
   "outputs": [
    {
     "data": {
      "text/html": [
       "<div>\n",
       "<style scoped>\n",
       "    .dataframe tbody tr th:only-of-type {\n",
       "        vertical-align: middle;\n",
       "    }\n",
       "\n",
       "    .dataframe tbody tr th {\n",
       "        vertical-align: top;\n",
       "    }\n",
       "\n",
       "    .dataframe thead th {\n",
       "        text-align: right;\n",
       "    }\n",
       "</style>\n",
       "<table border=\"1\" class=\"dataframe\">\n",
       "  <thead>\n",
       "    <tr style=\"text-align: right;\">\n",
       "      <th></th>\n",
       "      <th>model_name</th>\n",
       "      <th>n_go_max_systematicity</th>\n",
       "    </tr>\n",
       "  </thead>\n",
       "  <tbody>\n",
       "  </tbody>\n",
       "</table>\n",
       "</div>"
      ],
      "text/plain": [
       "Empty DataFrame\n",
       "Columns: [model_name, n_go_max_systematicity]\n",
       "Index: []"
      ]
     },
     "execution_count": 176,
     "metadata": {},
     "output_type": "execute_result"
    }
   ],
   "source": [
    "# number of global optima with systematicity = 0\n",
    "df2 = exploded_go_data[exploded_go_data[\"go_theory_len\"]==0].groupby(grouping)[\"go_theory_len\"].size().reset_index()\n",
    "df2.rename(columns={\"go_theory_len\":\"n_go_max_systematicity\"}, inplace=True)\n",
    "df2"
   ]
  },
  {
   "cell_type": "code",
   "execution_count": 177,
   "id": "6bc66695",
   "metadata": {},
   "outputs": [
    {
     "data": {
      "text/html": [
       "<div>\n",
       "<style scoped>\n",
       "    .dataframe tbody tr th:only-of-type {\n",
       "        vertical-align: middle;\n",
       "    }\n",
       "\n",
       "    .dataframe tbody tr th {\n",
       "        vertical-align: top;\n",
       "    }\n",
       "\n",
       "    .dataframe thead th {\n",
       "        text-align: right;\n",
       "    }\n",
       "</style>\n",
       "<table border=\"1\" class=\"dataframe\">\n",
       "  <thead>\n",
       "    <tr style=\"text-align: right;\">\n",
       "      <th></th>\n",
       "      <th>model_name</th>\n",
       "      <th>n_go_min_faithfulness</th>\n",
       "    </tr>\n",
       "  </thead>\n",
       "  <tbody>\n",
       "  </tbody>\n",
       "</table>\n",
       "</div>"
      ],
      "text/plain": [
       "Empty DataFrame\n",
       "Columns: [model_name, n_go_min_faithfulness]\n",
       "Index: []"
      ]
     },
     "execution_count": 177,
     "metadata": {},
     "output_type": "execute_result"
    }
   ],
   "source": [
    "# number of global optima with faithfulness = 0\n",
    "df3 = exploded_go_data[exploded_go_data[\"go_faithfulness\"]==0].groupby(grouping)[\"go_faithfulness\"].size().reset_index()\n",
    "df3.rename(columns={\"go_faithfulness\":\"n_go_min_faithfulness\"}, inplace=True)\n",
    "df3"
   ]
  },
  {
   "cell_type": "code",
   "execution_count": 178,
   "id": "30e1bece",
   "metadata": {},
   "outputs": [
    {
     "data": {
      "text/html": [
       "<div>\n",
       "<style scoped>\n",
       "    .dataframe tbody tr th:only-of-type {\n",
       "        vertical-align: middle;\n",
       "    }\n",
       "\n",
       "    .dataframe tbody tr th {\n",
       "        vertical-align: top;\n",
       "    }\n",
       "\n",
       "    .dataframe thead th {\n",
       "        text-align: right;\n",
       "    }\n",
       "</style>\n",
       "<table border=\"1\" class=\"dataframe\">\n",
       "  <thead>\n",
       "    <tr style=\"text-align: right;\">\n",
       "      <th></th>\n",
       "      <th>model_name</th>\n",
       "      <th>n_fp_min_account</th>\n",
       "    </tr>\n",
       "  </thead>\n",
       "  <tbody>\n",
       "  </tbody>\n",
       "</table>\n",
       "</div>"
      ],
      "text/plain": [
       "Empty DataFrame\n",
       "Columns: [model_name, n_fp_min_account]\n",
       "Index: []"
      ]
     },
     "execution_count": 178,
     "metadata": {},
     "output_type": "execute_result"
    }
   ],
   "source": [
    "# number of fixed points with account = 0\n",
    "df1 = exploded_fp_data[exploded_fp_data[\"fp_account\"]==0].groupby(grouping)[\"fp_account\"].size().reset_index()\n",
    "df1.rename(columns={\"fp_account\":\"n_fp_min_account\"}, inplace=True)\n",
    "df1"
   ]
  },
  {
   "cell_type": "code",
   "execution_count": 179,
   "id": "9c7e8940",
   "metadata": {},
   "outputs": [
    {
     "data": {
      "text/html": [
       "<div>\n",
       "<style scoped>\n",
       "    .dataframe tbody tr th:only-of-type {\n",
       "        vertical-align: middle;\n",
       "    }\n",
       "\n",
       "    .dataframe tbody tr th {\n",
       "        vertical-align: top;\n",
       "    }\n",
       "\n",
       "    .dataframe thead th {\n",
       "        text-align: right;\n",
       "    }\n",
       "</style>\n",
       "<table border=\"1\" class=\"dataframe\">\n",
       "  <thead>\n",
       "    <tr style=\"text-align: right;\">\n",
       "      <th></th>\n",
       "      <th>model_name</th>\n",
       "      <th>n_fp_max_systematicity</th>\n",
       "    </tr>\n",
       "  </thead>\n",
       "  <tbody>\n",
       "  </tbody>\n",
       "</table>\n",
       "</div>"
      ],
      "text/plain": [
       "Empty DataFrame\n",
       "Columns: [model_name, n_fp_max_systematicity]\n",
       "Index: []"
      ]
     },
     "execution_count": 179,
     "metadata": {},
     "output_type": "execute_result"
    }
   ],
   "source": [
    "# number of fixed points with systematicity = 0\n",
    "df2 = exploded_fp_data[exploded_fp_data[\"fp_theory_len\"]==0].groupby(grouping)[\"fp_theory_len\"].size().reset_index()\n",
    "df2.rename(columns={\"fp_theory_len\":\"n_fp_max_systematicity\"}, inplace=True)\n",
    "df2"
   ]
  },
  {
   "cell_type": "code",
   "execution_count": 180,
   "id": "e5af098e",
   "metadata": {},
   "outputs": [
    {
     "data": {
      "text/html": [
       "<div>\n",
       "<style scoped>\n",
       "    .dataframe tbody tr th:only-of-type {\n",
       "        vertical-align: middle;\n",
       "    }\n",
       "\n",
       "    .dataframe tbody tr th {\n",
       "        vertical-align: top;\n",
       "    }\n",
       "\n",
       "    .dataframe thead th {\n",
       "        text-align: right;\n",
       "    }\n",
       "</style>\n",
       "<table border=\"1\" class=\"dataframe\">\n",
       "  <thead>\n",
       "    <tr style=\"text-align: right;\">\n",
       "      <th></th>\n",
       "      <th>model_name</th>\n",
       "      <th>n_fp_min_faithfulness</th>\n",
       "    </tr>\n",
       "  </thead>\n",
       "  <tbody>\n",
       "  </tbody>\n",
       "</table>\n",
       "</div>"
      ],
      "text/plain": [
       "Empty DataFrame\n",
       "Columns: [model_name, n_fp_min_faithfulness]\n",
       "Index: []"
      ]
     },
     "execution_count": 180,
     "metadata": {},
     "output_type": "execute_result"
    }
   ],
   "source": [
    "# number of fixed points with faithfulness = 0\n",
    "df3 = exploded_fp_data[exploded_fp_data[\"fp_faithfulness\"]==0].groupby(grouping)[\"fp_faithfulness\"].size().reset_index()\n",
    "df3.rename(columns={\"fp_faithfulness\":\"n_fp_min_faithfulness\"}, inplace=True)\n",
    "df3"
   ]
  },
  {
   "cell_type": "markdown",
   "id": "72d25192",
   "metadata": {},
   "source": [
    "## Plots"
   ]
  },
  {
   "cell_type": "code",
   "execution_count": 181,
   "id": "3571ceb3",
   "metadata": {},
   "outputs": [],
   "source": [
    "model_names = ['QuadraticGlobalRE',\n",
    "               'LinearGlobalRE',\n",
    "               'QuadraticLocalRE',\n",
    "               'LinearLocalRE',]\n",
    "\n",
    "# color palette\n",
    "viridis = [\"#472c7a\", \"#2c718e\", \"#29ae80\", \"#b0dd31\"]\n",
    "viridis_map = {}\n",
    "for model_name, color in zip(model_names, viridis):\n",
    "    viridis_map[model_name] = color"
   ]
  },
  {
   "cell_type": "code",
   "execution_count": null,
   "id": "02d0dd92",
   "metadata": {},
   "outputs": [],
   "source": []
  },
  {
   "cell_type": "markdown",
   "id": "7f049892",
   "metadata": {},
   "source": [
    "### Barplots"
   ]
  },
  {
   "cell_type": "code",
   "execution_count": 182,
   "id": "c281ad7f",
   "metadata": {
    "scrolled": false
   },
   "outputs": [
    {
     "data": {
      "application/vnd.plotly.v1+json": {
       "config": {
        "plotlyServerURL": "https://plot.ly"
       },
       "data": [
        {
         "marker": {
          "color": "#472c7a"
         },
         "text": [
          0.179,
          0.551,
          0.222
         ],
         "type": "bar",
         "x": [
          "$A$",
          "$S$",
          "$F$"
         ],
         "xaxis": "x",
         "y": [
          0.179,
          0.551,
          0.222
         ],
         "yaxis": "y"
        },
        {
         "marker": {
          "color": "#2c718e"
         },
         "text": [
          0.369,
          0.738,
          0.537
         ],
         "type": "bar",
         "x": [
          "$A$",
          "$S$",
          "$F$"
         ],
         "xaxis": "x2",
         "y": [
          0.369,
          0.738,
          0.537
         ],
         "yaxis": "y2"
        },
        {
         "marker": {
          "color": "#29ae80"
         },
         "text": [
          0.15,
          0.465,
          0.092
         ],
         "type": "bar",
         "x": [
          "$A$",
          "$S$",
          "$F$"
         ],
         "xaxis": "x3",
         "y": [
          0.15,
          0.465,
          0.092
         ],
         "yaxis": "y3"
        },
        {
         "marker": {
          "color": "#b0dd31"
         },
         "text": [
          0.64,
          0.496,
          0.355
         ],
         "type": "bar",
         "x": [
          "$A$",
          "$S$",
          "$F$"
         ],
         "xaxis": "x4",
         "y": [
          0.64,
          0.496,
          0.355
         ],
         "yaxis": "y4"
        }
       ],
       "layout": {
        "font": {
         "color": "black",
         "size": 12
        },
        "legend": {
         "title": {
          "text": ""
         }
        },
        "margin": {
         "t": 80
        },
        "showlegend": false,
        "template": {
         "data": {
          "bar": [
           {
            "error_x": {
             "color": "#2a3f5f"
            },
            "error_y": {
             "color": "#2a3f5f"
            },
            "marker": {
             "line": {
              "color": "white",
              "width": 0.5
             },
             "pattern": {
              "fillmode": "overlay",
              "size": 10,
              "solidity": 0.2
             }
            },
            "type": "bar"
           }
          ],
          "barpolar": [
           {
            "marker": {
             "line": {
              "color": "white",
              "width": 0.5
             },
             "pattern": {
              "fillmode": "overlay",
              "size": 10,
              "solidity": 0.2
             }
            },
            "type": "barpolar"
           }
          ],
          "carpet": [
           {
            "aaxis": {
             "endlinecolor": "#2a3f5f",
             "gridcolor": "#C8D4E3",
             "linecolor": "#C8D4E3",
             "minorgridcolor": "#C8D4E3",
             "startlinecolor": "#2a3f5f"
            },
            "baxis": {
             "endlinecolor": "#2a3f5f",
             "gridcolor": "#C8D4E3",
             "linecolor": "#C8D4E3",
             "minorgridcolor": "#C8D4E3",
             "startlinecolor": "#2a3f5f"
            },
            "type": "carpet"
           }
          ],
          "choropleth": [
           {
            "colorbar": {
             "outlinewidth": 0,
             "ticks": ""
            },
            "type": "choropleth"
           }
          ],
          "contour": [
           {
            "colorbar": {
             "outlinewidth": 0,
             "ticks": ""
            },
            "colorscale": [
             [
              0,
              "#0d0887"
             ],
             [
              0.1111111111111111,
              "#46039f"
             ],
             [
              0.2222222222222222,
              "#7201a8"
             ],
             [
              0.3333333333333333,
              "#9c179e"
             ],
             [
              0.4444444444444444,
              "#bd3786"
             ],
             [
              0.5555555555555556,
              "#d8576b"
             ],
             [
              0.6666666666666666,
              "#ed7953"
             ],
             [
              0.7777777777777778,
              "#fb9f3a"
             ],
             [
              0.8888888888888888,
              "#fdca26"
             ],
             [
              1,
              "#f0f921"
             ]
            ],
            "type": "contour"
           }
          ],
          "contourcarpet": [
           {
            "colorbar": {
             "outlinewidth": 0,
             "ticks": ""
            },
            "type": "contourcarpet"
           }
          ],
          "heatmap": [
           {
            "colorbar": {
             "outlinewidth": 0,
             "ticks": ""
            },
            "colorscale": [
             [
              0,
              "#0d0887"
             ],
             [
              0.1111111111111111,
              "#46039f"
             ],
             [
              0.2222222222222222,
              "#7201a8"
             ],
             [
              0.3333333333333333,
              "#9c179e"
             ],
             [
              0.4444444444444444,
              "#bd3786"
             ],
             [
              0.5555555555555556,
              "#d8576b"
             ],
             [
              0.6666666666666666,
              "#ed7953"
             ],
             [
              0.7777777777777778,
              "#fb9f3a"
             ],
             [
              0.8888888888888888,
              "#fdca26"
             ],
             [
              1,
              "#f0f921"
             ]
            ],
            "type": "heatmap"
           }
          ],
          "heatmapgl": [
           {
            "colorbar": {
             "outlinewidth": 0,
             "ticks": ""
            },
            "colorscale": [
             [
              0,
              "#0d0887"
             ],
             [
              0.1111111111111111,
              "#46039f"
             ],
             [
              0.2222222222222222,
              "#7201a8"
             ],
             [
              0.3333333333333333,
              "#9c179e"
             ],
             [
              0.4444444444444444,
              "#bd3786"
             ],
             [
              0.5555555555555556,
              "#d8576b"
             ],
             [
              0.6666666666666666,
              "#ed7953"
             ],
             [
              0.7777777777777778,
              "#fb9f3a"
             ],
             [
              0.8888888888888888,
              "#fdca26"
             ],
             [
              1,
              "#f0f921"
             ]
            ],
            "type": "heatmapgl"
           }
          ],
          "histogram": [
           {
            "marker": {
             "pattern": {
              "fillmode": "overlay",
              "size": 10,
              "solidity": 0.2
             }
            },
            "type": "histogram"
           }
          ],
          "histogram2d": [
           {
            "colorbar": {
             "outlinewidth": 0,
             "ticks": ""
            },
            "colorscale": [
             [
              0,
              "#0d0887"
             ],
             [
              0.1111111111111111,
              "#46039f"
             ],
             [
              0.2222222222222222,
              "#7201a8"
             ],
             [
              0.3333333333333333,
              "#9c179e"
             ],
             [
              0.4444444444444444,
              "#bd3786"
             ],
             [
              0.5555555555555556,
              "#d8576b"
             ],
             [
              0.6666666666666666,
              "#ed7953"
             ],
             [
              0.7777777777777778,
              "#fb9f3a"
             ],
             [
              0.8888888888888888,
              "#fdca26"
             ],
             [
              1,
              "#f0f921"
             ]
            ],
            "type": "histogram2d"
           }
          ],
          "histogram2dcontour": [
           {
            "colorbar": {
             "outlinewidth": 0,
             "ticks": ""
            },
            "colorscale": [
             [
              0,
              "#0d0887"
             ],
             [
              0.1111111111111111,
              "#46039f"
             ],
             [
              0.2222222222222222,
              "#7201a8"
             ],
             [
              0.3333333333333333,
              "#9c179e"
             ],
             [
              0.4444444444444444,
              "#bd3786"
             ],
             [
              0.5555555555555556,
              "#d8576b"
             ],
             [
              0.6666666666666666,
              "#ed7953"
             ],
             [
              0.7777777777777778,
              "#fb9f3a"
             ],
             [
              0.8888888888888888,
              "#fdca26"
             ],
             [
              1,
              "#f0f921"
             ]
            ],
            "type": "histogram2dcontour"
           }
          ],
          "mesh3d": [
           {
            "colorbar": {
             "outlinewidth": 0,
             "ticks": ""
            },
            "type": "mesh3d"
           }
          ],
          "parcoords": [
           {
            "line": {
             "colorbar": {
              "outlinewidth": 0,
              "ticks": ""
             }
            },
            "type": "parcoords"
           }
          ],
          "pie": [
           {
            "automargin": true,
            "type": "pie"
           }
          ],
          "scatter": [
           {
            "fillpattern": {
             "fillmode": "overlay",
             "size": 10,
             "solidity": 0.2
            },
            "type": "scatter"
           }
          ],
          "scatter3d": [
           {
            "line": {
             "colorbar": {
              "outlinewidth": 0,
              "ticks": ""
             }
            },
            "marker": {
             "colorbar": {
              "outlinewidth": 0,
              "ticks": ""
             }
            },
            "type": "scatter3d"
           }
          ],
          "scattercarpet": [
           {
            "marker": {
             "colorbar": {
              "outlinewidth": 0,
              "ticks": ""
             }
            },
            "type": "scattercarpet"
           }
          ],
          "scattergeo": [
           {
            "marker": {
             "colorbar": {
              "outlinewidth": 0,
              "ticks": ""
             }
            },
            "type": "scattergeo"
           }
          ],
          "scattergl": [
           {
            "marker": {
             "colorbar": {
              "outlinewidth": 0,
              "ticks": ""
             }
            },
            "type": "scattergl"
           }
          ],
          "scattermapbox": [
           {
            "marker": {
             "colorbar": {
              "outlinewidth": 0,
              "ticks": ""
             }
            },
            "type": "scattermapbox"
           }
          ],
          "scatterpolar": [
           {
            "marker": {
             "colorbar": {
              "outlinewidth": 0,
              "ticks": ""
             }
            },
            "type": "scatterpolar"
           }
          ],
          "scatterpolargl": [
           {
            "marker": {
             "colorbar": {
              "outlinewidth": 0,
              "ticks": ""
             }
            },
            "type": "scatterpolargl"
           }
          ],
          "scatterternary": [
           {
            "marker": {
             "colorbar": {
              "outlinewidth": 0,
              "ticks": ""
             }
            },
            "type": "scatterternary"
           }
          ],
          "surface": [
           {
            "colorbar": {
             "outlinewidth": 0,
             "ticks": ""
            },
            "colorscale": [
             [
              0,
              "#0d0887"
             ],
             [
              0.1111111111111111,
              "#46039f"
             ],
             [
              0.2222222222222222,
              "#7201a8"
             ],
             [
              0.3333333333333333,
              "#9c179e"
             ],
             [
              0.4444444444444444,
              "#bd3786"
             ],
             [
              0.5555555555555556,
              "#d8576b"
             ],
             [
              0.6666666666666666,
              "#ed7953"
             ],
             [
              0.7777777777777778,
              "#fb9f3a"
             ],
             [
              0.8888888888888888,
              "#fdca26"
             ],
             [
              1,
              "#f0f921"
             ]
            ],
            "type": "surface"
           }
          ],
          "table": [
           {
            "cells": {
             "fill": {
              "color": "#EBF0F8"
             },
             "line": {
              "color": "white"
             }
            },
            "header": {
             "fill": {
              "color": "#C8D4E3"
             },
             "line": {
              "color": "white"
             }
            },
            "type": "table"
           }
          ]
         },
         "layout": {
          "annotationdefaults": {
           "arrowcolor": "#2a3f5f",
           "arrowhead": 0,
           "arrowwidth": 1
          },
          "autotypenumbers": "strict",
          "coloraxis": {
           "colorbar": {
            "outlinewidth": 0,
            "ticks": ""
           }
          },
          "colorscale": {
           "diverging": [
            [
             0,
             "#8e0152"
            ],
            [
             0.1,
             "#c51b7d"
            ],
            [
             0.2,
             "#de77ae"
            ],
            [
             0.3,
             "#f1b6da"
            ],
            [
             0.4,
             "#fde0ef"
            ],
            [
             0.5,
             "#f7f7f7"
            ],
            [
             0.6,
             "#e6f5d0"
            ],
            [
             0.7,
             "#b8e186"
            ],
            [
             0.8,
             "#7fbc41"
            ],
            [
             0.9,
             "#4d9221"
            ],
            [
             1,
             "#276419"
            ]
           ],
           "sequential": [
            [
             0,
             "#0d0887"
            ],
            [
             0.1111111111111111,
             "#46039f"
            ],
            [
             0.2222222222222222,
             "#7201a8"
            ],
            [
             0.3333333333333333,
             "#9c179e"
            ],
            [
             0.4444444444444444,
             "#bd3786"
            ],
            [
             0.5555555555555556,
             "#d8576b"
            ],
            [
             0.6666666666666666,
             "#ed7953"
            ],
            [
             0.7777777777777778,
             "#fb9f3a"
            ],
            [
             0.8888888888888888,
             "#fdca26"
            ],
            [
             1,
             "#f0f921"
            ]
           ],
           "sequentialminus": [
            [
             0,
             "#0d0887"
            ],
            [
             0.1111111111111111,
             "#46039f"
            ],
            [
             0.2222222222222222,
             "#7201a8"
            ],
            [
             0.3333333333333333,
             "#9c179e"
            ],
            [
             0.4444444444444444,
             "#bd3786"
            ],
            [
             0.5555555555555556,
             "#d8576b"
            ],
            [
             0.6666666666666666,
             "#ed7953"
            ],
            [
             0.7777777777777778,
             "#fb9f3a"
            ],
            [
             0.8888888888888888,
             "#fdca26"
            ],
            [
             1,
             "#f0f921"
            ]
           ]
          },
          "colorway": [
           "#636efa",
           "#EF553B",
           "#00cc96",
           "#ab63fa",
           "#FFA15A",
           "#19d3f3",
           "#FF6692",
           "#B6E880",
           "#FF97FF",
           "#FECB52"
          ],
          "font": {
           "color": "#2a3f5f"
          },
          "geo": {
           "bgcolor": "white",
           "lakecolor": "white",
           "landcolor": "white",
           "showlakes": true,
           "showland": true,
           "subunitcolor": "#C8D4E3"
          },
          "hoverlabel": {
           "align": "left"
          },
          "hovermode": "closest",
          "mapbox": {
           "style": "light"
          },
          "paper_bgcolor": "white",
          "plot_bgcolor": "white",
          "polar": {
           "angularaxis": {
            "gridcolor": "#EBF0F8",
            "linecolor": "#EBF0F8",
            "ticks": ""
           },
           "bgcolor": "white",
           "radialaxis": {
            "gridcolor": "#EBF0F8",
            "linecolor": "#EBF0F8",
            "ticks": ""
           }
          },
          "scene": {
           "xaxis": {
            "backgroundcolor": "white",
            "gridcolor": "#DFE8F3",
            "gridwidth": 2,
            "linecolor": "#EBF0F8",
            "showbackground": true,
            "ticks": "",
            "zerolinecolor": "#EBF0F8"
           },
           "yaxis": {
            "backgroundcolor": "white",
            "gridcolor": "#DFE8F3",
            "gridwidth": 2,
            "linecolor": "#EBF0F8",
            "showbackground": true,
            "ticks": "",
            "zerolinecolor": "#EBF0F8"
           },
           "zaxis": {
            "backgroundcolor": "white",
            "gridcolor": "#DFE8F3",
            "gridwidth": 2,
            "linecolor": "#EBF0F8",
            "showbackground": true,
            "ticks": "",
            "zerolinecolor": "#EBF0F8"
           }
          },
          "shapedefaults": {
           "line": {
            "color": "#2a3f5f"
           }
          },
          "ternary": {
           "aaxis": {
            "gridcolor": "#DFE8F3",
            "linecolor": "#A2B1C6",
            "ticks": ""
           },
           "baxis": {
            "gridcolor": "#DFE8F3",
            "linecolor": "#A2B1C6",
            "ticks": ""
           },
           "bgcolor": "white",
           "caxis": {
            "gridcolor": "#DFE8F3",
            "linecolor": "#A2B1C6",
            "ticks": ""
           }
          },
          "title": {
           "x": 0.05
          },
          "xaxis": {
           "automargin": true,
           "gridcolor": "#EBF0F8",
           "linecolor": "#EBF0F8",
           "ticks": "",
           "title": {
            "standoff": 15
           },
           "zerolinecolor": "#EBF0F8",
           "zerolinewidth": 2
          },
          "yaxis": {
           "automargin": true,
           "gridcolor": "#EBF0F8",
           "linecolor": "#EBF0F8",
           "ticks": "",
           "title": {
            "standoff": 15
           },
           "zerolinecolor": "#EBF0F8",
           "zerolinewidth": 2
          }
         }
        },
        "title": {
         "text": "Relative share of fixed points maximizing desiderata measures"
        },
        "xaxis": {
         "anchor": "y",
         "domain": [
          0,
          0.2125
         ],
         "linecolor": "DarkGrey",
         "showgrid": false,
         "showticklabels": true,
         "title": {
          "text": "QuadraticGlobalRE"
         }
        },
        "xaxis2": {
         "anchor": "y2",
         "domain": [
          0.2625,
          0.475
         ],
         "linecolor": "DarkGrey",
         "showgrid": false,
         "showticklabels": true,
         "title": {
          "text": "LinearGlobalRE"
         }
        },
        "xaxis3": {
         "anchor": "y3",
         "domain": [
          0.525,
          0.7375
         ],
         "linecolor": "DarkGrey",
         "showgrid": false,
         "showticklabels": true,
         "title": {
          "text": "QuadraticLocalRE"
         }
        },
        "xaxis4": {
         "anchor": "y4",
         "domain": [
          0.7875,
          1
         ],
         "linecolor": "DarkGrey",
         "showgrid": false,
         "showticklabels": true,
         "title": {
          "text": "LinearLocalRE"
         }
        },
        "yaxis": {
         "anchor": "x",
         "domain": [
          0,
          1
         ],
         "linecolor": "DarkGrey",
         "range": [
          0,
          1
         ],
         "tickcolor": "DarkGrey",
         "ticks": "outside",
         "title": {
          "text": "Relative share"
         },
         "zeroline": true,
         "zerolinecolor": "DarkGrey",
         "zerolinewidth": 1
        },
        "yaxis2": {
         "anchor": "x2",
         "domain": [
          0,
          1
         ],
         "matches": "y",
         "range": [
          0,
          1
         ],
         "showticklabels": false
        },
        "yaxis3": {
         "anchor": "x3",
         "domain": [
          0,
          1
         ],
         "matches": "y",
         "range": [
          0,
          1
         ],
         "showticklabels": false
        },
        "yaxis4": {
         "anchor": "x4",
         "domain": [
          0,
          1
         ],
         "matches": "y",
         "range": [
          0,
          1
         ],
         "showticklabels": false
        }
       }
      },
      "text/html": [
       "<div>                            <div id=\"e4eafc61-f49f-4437-a225-07dff8d4c5f2\" class=\"plotly-graph-div\" style=\"height:525px; width:100%;\"></div>            <script type=\"text/javascript\">                require([\"plotly\"], function(Plotly) {                    window.PLOTLYENV=window.PLOTLYENV || {};                                    if (document.getElementById(\"e4eafc61-f49f-4437-a225-07dff8d4c5f2\")) {                    Plotly.newPlot(                        \"e4eafc61-f49f-4437-a225-07dff8d4c5f2\",                        [{\"marker\":{\"color\":\"#472c7a\"},\"text\":[0.179,0.551,0.222],\"x\":[\"$A$\",\"$S$\",\"$F$\"],\"y\":[0.179,0.551,0.222],\"type\":\"bar\",\"xaxis\":\"x\",\"yaxis\":\"y\"},{\"marker\":{\"color\":\"#2c718e\"},\"text\":[0.369,0.738,0.537],\"x\":[\"$A$\",\"$S$\",\"$F$\"],\"y\":[0.369,0.738,0.537],\"type\":\"bar\",\"xaxis\":\"x2\",\"yaxis\":\"y2\"},{\"marker\":{\"color\":\"#29ae80\"},\"text\":[0.15,0.465,0.092],\"x\":[\"$A$\",\"$S$\",\"$F$\"],\"y\":[0.15,0.465,0.092],\"type\":\"bar\",\"xaxis\":\"x3\",\"yaxis\":\"y3\"},{\"marker\":{\"color\":\"#b0dd31\"},\"text\":[0.64,0.496,0.355],\"x\":[\"$A$\",\"$S$\",\"$F$\"],\"y\":[0.64,0.496,0.355],\"type\":\"bar\",\"xaxis\":\"x4\",\"yaxis\":\"y4\"}],                        {\"template\":{\"data\":{\"barpolar\":[{\"marker\":{\"line\":{\"color\":\"white\",\"width\":0.5},\"pattern\":{\"fillmode\":\"overlay\",\"size\":10,\"solidity\":0.2}},\"type\":\"barpolar\"}],\"bar\":[{\"error_x\":{\"color\":\"#2a3f5f\"},\"error_y\":{\"color\":\"#2a3f5f\"},\"marker\":{\"line\":{\"color\":\"white\",\"width\":0.5},\"pattern\":{\"fillmode\":\"overlay\",\"size\":10,\"solidity\":0.2}},\"type\":\"bar\"}],\"carpet\":[{\"aaxis\":{\"endlinecolor\":\"#2a3f5f\",\"gridcolor\":\"#C8D4E3\",\"linecolor\":\"#C8D4E3\",\"minorgridcolor\":\"#C8D4E3\",\"startlinecolor\":\"#2a3f5f\"},\"baxis\":{\"endlinecolor\":\"#2a3f5f\",\"gridcolor\":\"#C8D4E3\",\"linecolor\":\"#C8D4E3\",\"minorgridcolor\":\"#C8D4E3\",\"startlinecolor\":\"#2a3f5f\"},\"type\":\"carpet\"}],\"choropleth\":[{\"colorbar\":{\"outlinewidth\":0,\"ticks\":\"\"},\"type\":\"choropleth\"}],\"contourcarpet\":[{\"colorbar\":{\"outlinewidth\":0,\"ticks\":\"\"},\"type\":\"contourcarpet\"}],\"contour\":[{\"colorbar\":{\"outlinewidth\":0,\"ticks\":\"\"},\"colorscale\":[[0.0,\"#0d0887\"],[0.1111111111111111,\"#46039f\"],[0.2222222222222222,\"#7201a8\"],[0.3333333333333333,\"#9c179e\"],[0.4444444444444444,\"#bd3786\"],[0.5555555555555556,\"#d8576b\"],[0.6666666666666666,\"#ed7953\"],[0.7777777777777778,\"#fb9f3a\"],[0.8888888888888888,\"#fdca26\"],[1.0,\"#f0f921\"]],\"type\":\"contour\"}],\"heatmapgl\":[{\"colorbar\":{\"outlinewidth\":0,\"ticks\":\"\"},\"colorscale\":[[0.0,\"#0d0887\"],[0.1111111111111111,\"#46039f\"],[0.2222222222222222,\"#7201a8\"],[0.3333333333333333,\"#9c179e\"],[0.4444444444444444,\"#bd3786\"],[0.5555555555555556,\"#d8576b\"],[0.6666666666666666,\"#ed7953\"],[0.7777777777777778,\"#fb9f3a\"],[0.8888888888888888,\"#fdca26\"],[1.0,\"#f0f921\"]],\"type\":\"heatmapgl\"}],\"heatmap\":[{\"colorbar\":{\"outlinewidth\":0,\"ticks\":\"\"},\"colorscale\":[[0.0,\"#0d0887\"],[0.1111111111111111,\"#46039f\"],[0.2222222222222222,\"#7201a8\"],[0.3333333333333333,\"#9c179e\"],[0.4444444444444444,\"#bd3786\"],[0.5555555555555556,\"#d8576b\"],[0.6666666666666666,\"#ed7953\"],[0.7777777777777778,\"#fb9f3a\"],[0.8888888888888888,\"#fdca26\"],[1.0,\"#f0f921\"]],\"type\":\"heatmap\"}],\"histogram2dcontour\":[{\"colorbar\":{\"outlinewidth\":0,\"ticks\":\"\"},\"colorscale\":[[0.0,\"#0d0887\"],[0.1111111111111111,\"#46039f\"],[0.2222222222222222,\"#7201a8\"],[0.3333333333333333,\"#9c179e\"],[0.4444444444444444,\"#bd3786\"],[0.5555555555555556,\"#d8576b\"],[0.6666666666666666,\"#ed7953\"],[0.7777777777777778,\"#fb9f3a\"],[0.8888888888888888,\"#fdca26\"],[1.0,\"#f0f921\"]],\"type\":\"histogram2dcontour\"}],\"histogram2d\":[{\"colorbar\":{\"outlinewidth\":0,\"ticks\":\"\"},\"colorscale\":[[0.0,\"#0d0887\"],[0.1111111111111111,\"#46039f\"],[0.2222222222222222,\"#7201a8\"],[0.3333333333333333,\"#9c179e\"],[0.4444444444444444,\"#bd3786\"],[0.5555555555555556,\"#d8576b\"],[0.6666666666666666,\"#ed7953\"],[0.7777777777777778,\"#fb9f3a\"],[0.8888888888888888,\"#fdca26\"],[1.0,\"#f0f921\"]],\"type\":\"histogram2d\"}],\"histogram\":[{\"marker\":{\"pattern\":{\"fillmode\":\"overlay\",\"size\":10,\"solidity\":0.2}},\"type\":\"histogram\"}],\"mesh3d\":[{\"colorbar\":{\"outlinewidth\":0,\"ticks\":\"\"},\"type\":\"mesh3d\"}],\"parcoords\":[{\"line\":{\"colorbar\":{\"outlinewidth\":0,\"ticks\":\"\"}},\"type\":\"parcoords\"}],\"pie\":[{\"automargin\":true,\"type\":\"pie\"}],\"scatter3d\":[{\"line\":{\"colorbar\":{\"outlinewidth\":0,\"ticks\":\"\"}},\"marker\":{\"colorbar\":{\"outlinewidth\":0,\"ticks\":\"\"}},\"type\":\"scatter3d\"}],\"scattercarpet\":[{\"marker\":{\"colorbar\":{\"outlinewidth\":0,\"ticks\":\"\"}},\"type\":\"scattercarpet\"}],\"scattergeo\":[{\"marker\":{\"colorbar\":{\"outlinewidth\":0,\"ticks\":\"\"}},\"type\":\"scattergeo\"}],\"scattergl\":[{\"marker\":{\"colorbar\":{\"outlinewidth\":0,\"ticks\":\"\"}},\"type\":\"scattergl\"}],\"scattermapbox\":[{\"marker\":{\"colorbar\":{\"outlinewidth\":0,\"ticks\":\"\"}},\"type\":\"scattermapbox\"}],\"scatterpolargl\":[{\"marker\":{\"colorbar\":{\"outlinewidth\":0,\"ticks\":\"\"}},\"type\":\"scatterpolargl\"}],\"scatterpolar\":[{\"marker\":{\"colorbar\":{\"outlinewidth\":0,\"ticks\":\"\"}},\"type\":\"scatterpolar\"}],\"scatter\":[{\"fillpattern\":{\"fillmode\":\"overlay\",\"size\":10,\"solidity\":0.2},\"type\":\"scatter\"}],\"scatterternary\":[{\"marker\":{\"colorbar\":{\"outlinewidth\":0,\"ticks\":\"\"}},\"type\":\"scatterternary\"}],\"surface\":[{\"colorbar\":{\"outlinewidth\":0,\"ticks\":\"\"},\"colorscale\":[[0.0,\"#0d0887\"],[0.1111111111111111,\"#46039f\"],[0.2222222222222222,\"#7201a8\"],[0.3333333333333333,\"#9c179e\"],[0.4444444444444444,\"#bd3786\"],[0.5555555555555556,\"#d8576b\"],[0.6666666666666666,\"#ed7953\"],[0.7777777777777778,\"#fb9f3a\"],[0.8888888888888888,\"#fdca26\"],[1.0,\"#f0f921\"]],\"type\":\"surface\"}],\"table\":[{\"cells\":{\"fill\":{\"color\":\"#EBF0F8\"},\"line\":{\"color\":\"white\"}},\"header\":{\"fill\":{\"color\":\"#C8D4E3\"},\"line\":{\"color\":\"white\"}},\"type\":\"table\"}]},\"layout\":{\"annotationdefaults\":{\"arrowcolor\":\"#2a3f5f\",\"arrowhead\":0,\"arrowwidth\":1},\"autotypenumbers\":\"strict\",\"coloraxis\":{\"colorbar\":{\"outlinewidth\":0,\"ticks\":\"\"}},\"colorscale\":{\"diverging\":[[0,\"#8e0152\"],[0.1,\"#c51b7d\"],[0.2,\"#de77ae\"],[0.3,\"#f1b6da\"],[0.4,\"#fde0ef\"],[0.5,\"#f7f7f7\"],[0.6,\"#e6f5d0\"],[0.7,\"#b8e186\"],[0.8,\"#7fbc41\"],[0.9,\"#4d9221\"],[1,\"#276419\"]],\"sequential\":[[0.0,\"#0d0887\"],[0.1111111111111111,\"#46039f\"],[0.2222222222222222,\"#7201a8\"],[0.3333333333333333,\"#9c179e\"],[0.4444444444444444,\"#bd3786\"],[0.5555555555555556,\"#d8576b\"],[0.6666666666666666,\"#ed7953\"],[0.7777777777777778,\"#fb9f3a\"],[0.8888888888888888,\"#fdca26\"],[1.0,\"#f0f921\"]],\"sequentialminus\":[[0.0,\"#0d0887\"],[0.1111111111111111,\"#46039f\"],[0.2222222222222222,\"#7201a8\"],[0.3333333333333333,\"#9c179e\"],[0.4444444444444444,\"#bd3786\"],[0.5555555555555556,\"#d8576b\"],[0.6666666666666666,\"#ed7953\"],[0.7777777777777778,\"#fb9f3a\"],[0.8888888888888888,\"#fdca26\"],[1.0,\"#f0f921\"]]},\"colorway\":[\"#636efa\",\"#EF553B\",\"#00cc96\",\"#ab63fa\",\"#FFA15A\",\"#19d3f3\",\"#FF6692\",\"#B6E880\",\"#FF97FF\",\"#FECB52\"],\"font\":{\"color\":\"#2a3f5f\"},\"geo\":{\"bgcolor\":\"white\",\"lakecolor\":\"white\",\"landcolor\":\"white\",\"showlakes\":true,\"showland\":true,\"subunitcolor\":\"#C8D4E3\"},\"hoverlabel\":{\"align\":\"left\"},\"hovermode\":\"closest\",\"mapbox\":{\"style\":\"light\"},\"paper_bgcolor\":\"white\",\"plot_bgcolor\":\"white\",\"polar\":{\"angularaxis\":{\"gridcolor\":\"#EBF0F8\",\"linecolor\":\"#EBF0F8\",\"ticks\":\"\"},\"bgcolor\":\"white\",\"radialaxis\":{\"gridcolor\":\"#EBF0F8\",\"linecolor\":\"#EBF0F8\",\"ticks\":\"\"}},\"scene\":{\"xaxis\":{\"backgroundcolor\":\"white\",\"gridcolor\":\"#DFE8F3\",\"gridwidth\":2,\"linecolor\":\"#EBF0F8\",\"showbackground\":true,\"ticks\":\"\",\"zerolinecolor\":\"#EBF0F8\"},\"yaxis\":{\"backgroundcolor\":\"white\",\"gridcolor\":\"#DFE8F3\",\"gridwidth\":2,\"linecolor\":\"#EBF0F8\",\"showbackground\":true,\"ticks\":\"\",\"zerolinecolor\":\"#EBF0F8\"},\"zaxis\":{\"backgroundcolor\":\"white\",\"gridcolor\":\"#DFE8F3\",\"gridwidth\":2,\"linecolor\":\"#EBF0F8\",\"showbackground\":true,\"ticks\":\"\",\"zerolinecolor\":\"#EBF0F8\"}},\"shapedefaults\":{\"line\":{\"color\":\"#2a3f5f\"}},\"ternary\":{\"aaxis\":{\"gridcolor\":\"#DFE8F3\",\"linecolor\":\"#A2B1C6\",\"ticks\":\"\"},\"baxis\":{\"gridcolor\":\"#DFE8F3\",\"linecolor\":\"#A2B1C6\",\"ticks\":\"\"},\"bgcolor\":\"white\",\"caxis\":{\"gridcolor\":\"#DFE8F3\",\"linecolor\":\"#A2B1C6\",\"ticks\":\"\"}},\"title\":{\"x\":0.05},\"xaxis\":{\"automargin\":true,\"gridcolor\":\"#EBF0F8\",\"linecolor\":\"#EBF0F8\",\"ticks\":\"\",\"title\":{\"standoff\":15},\"zerolinecolor\":\"#EBF0F8\",\"zerolinewidth\":2},\"yaxis\":{\"automargin\":true,\"gridcolor\":\"#EBF0F8\",\"linecolor\":\"#EBF0F8\",\"ticks\":\"\",\"title\":{\"standoff\":15},\"zerolinecolor\":\"#EBF0F8\",\"zerolinewidth\":2}}},\"xaxis\":{\"anchor\":\"y\",\"domain\":[0.0,0.2125],\"title\":{\"text\":\"QuadraticGlobalRE\"},\"showticklabels\":true,\"showgrid\":false,\"linecolor\":\"DarkGrey\"},\"yaxis\":{\"anchor\":\"x\",\"domain\":[0.0,1.0],\"range\":[0.0,1.0],\"title\":{\"text\":\"Relative share\"},\"ticks\":\"outside\",\"tickcolor\":\"DarkGrey\",\"linecolor\":\"DarkGrey\",\"zeroline\":true,\"zerolinecolor\":\"DarkGrey\",\"zerolinewidth\":1},\"xaxis2\":{\"anchor\":\"y2\",\"domain\":[0.2625,0.475],\"title\":{\"text\":\"LinearGlobalRE\"},\"showticklabels\":true,\"showgrid\":false,\"linecolor\":\"DarkGrey\"},\"yaxis2\":{\"anchor\":\"x2\",\"domain\":[0.0,1.0],\"matches\":\"y\",\"showticklabels\":false,\"range\":[0.0,1.0]},\"xaxis3\":{\"anchor\":\"y3\",\"domain\":[0.525,0.7375],\"title\":{\"text\":\"QuadraticLocalRE\"},\"showticklabels\":true,\"showgrid\":false,\"linecolor\":\"DarkGrey\"},\"yaxis3\":{\"anchor\":\"x3\",\"domain\":[0.0,1.0],\"matches\":\"y\",\"showticklabels\":false,\"range\":[0.0,1.0]},\"xaxis4\":{\"anchor\":\"y4\",\"domain\":[0.7875,1.0],\"title\":{\"text\":\"LinearLocalRE\"},\"showticklabels\":true,\"showgrid\":false,\"linecolor\":\"DarkGrey\"},\"yaxis4\":{\"anchor\":\"x4\",\"domain\":[0.0,1.0],\"matches\":\"y\",\"showticklabels\":false,\"range\":[0.0,1.0]},\"showlegend\":false,\"font\":{\"color\":\"black\",\"size\":12},\"margin\":{\"t\":80},\"legend\":{\"title\":{\"text\":\"\"}},\"title\":{\"text\":\"Relative share of fixed points maximizing desiderata measures\"}},                        {\"responsive\": true}                    ).then(function(){\n",
       "                            \n",
       "var gd = document.getElementById('e4eafc61-f49f-4437-a225-07dff8d4c5f2');\n",
       "var x = new MutationObserver(function (mutations, observer) {{\n",
       "        var display = window.getComputedStyle(gd).display;\n",
       "        if (!display || display === 'none') {{\n",
       "            console.log([gd, 'removed!']);\n",
       "            Plotly.purge(gd);\n",
       "            observer.disconnect();\n",
       "        }}\n",
       "}});\n",
       "\n",
       "// Listen for the removal of the full notebook cells\n",
       "var notebookContainer = gd.closest('#notebook-container');\n",
       "if (notebookContainer) {{\n",
       "    x.observe(notebookContainer, {childList: true});\n",
       "}}\n",
       "\n",
       "// Listen for the clearing of the current output cell\n",
       "var outputEl = gd.closest('.output');\n",
       "if (outputEl) {{\n",
       "    x.observe(outputEl, {childList: true});\n",
       "}}\n",
       "\n",
       "                        })                };                });            </script>        </div>"
      ]
     },
     "metadata": {},
     "output_type": "display_data"
    },
    {
     "data": {
      "application/vnd.plotly.v1+json": {
       "config": {
        "plotlyServerURL": "https://plot.ly"
       },
       "data": [
        {
         "marker": {
          "color": "#472c7a"
         },
         "text": [
          0.127,
          0.697,
          0.128
         ],
         "type": "bar",
         "x": [
          "$A$",
          "$S$",
          "$F$"
         ],
         "xaxis": "x",
         "y": [
          0.127,
          0.697,
          0.128
         ],
         "yaxis": "y"
        },
        {
         "marker": {
          "color": "#2c718e"
         },
         "text": [
          0.324,
          0.856,
          0.339
         ],
         "type": "bar",
         "x": [
          "$A$",
          "$S$",
          "$F$"
         ],
         "xaxis": "x2",
         "y": [
          0.324,
          0.856,
          0.339
         ],
         "yaxis": "y2"
        },
        {
         "marker": {
          "color": "#29ae80"
         },
         "text": [
          0.127,
          0.697,
          0.128
         ],
         "type": "bar",
         "x": [
          "$A$",
          "$S$",
          "$F$"
         ],
         "xaxis": "x3",
         "y": [
          0.127,
          0.697,
          0.128
         ],
         "yaxis": "y3"
        },
        {
         "marker": {
          "color": "#b0dd31"
         },
         "text": [
          0.321,
          0.856,
          0.34
         ],
         "type": "bar",
         "x": [
          "$A$",
          "$S$",
          "$F$"
         ],
         "xaxis": "x4",
         "y": [
          0.321,
          0.856,
          0.34
         ],
         "yaxis": "y4"
        }
       ],
       "layout": {
        "font": {
         "color": "black",
         "size": 12
        },
        "legend": {
         "title": {
          "text": ""
         }
        },
        "margin": {
         "t": 80
        },
        "showlegend": false,
        "template": {
         "data": {
          "bar": [
           {
            "error_x": {
             "color": "#2a3f5f"
            },
            "error_y": {
             "color": "#2a3f5f"
            },
            "marker": {
             "line": {
              "color": "white",
              "width": 0.5
             },
             "pattern": {
              "fillmode": "overlay",
              "size": 10,
              "solidity": 0.2
             }
            },
            "type": "bar"
           }
          ],
          "barpolar": [
           {
            "marker": {
             "line": {
              "color": "white",
              "width": 0.5
             },
             "pattern": {
              "fillmode": "overlay",
              "size": 10,
              "solidity": 0.2
             }
            },
            "type": "barpolar"
           }
          ],
          "carpet": [
           {
            "aaxis": {
             "endlinecolor": "#2a3f5f",
             "gridcolor": "#C8D4E3",
             "linecolor": "#C8D4E3",
             "minorgridcolor": "#C8D4E3",
             "startlinecolor": "#2a3f5f"
            },
            "baxis": {
             "endlinecolor": "#2a3f5f",
             "gridcolor": "#C8D4E3",
             "linecolor": "#C8D4E3",
             "minorgridcolor": "#C8D4E3",
             "startlinecolor": "#2a3f5f"
            },
            "type": "carpet"
           }
          ],
          "choropleth": [
           {
            "colorbar": {
             "outlinewidth": 0,
             "ticks": ""
            },
            "type": "choropleth"
           }
          ],
          "contour": [
           {
            "colorbar": {
             "outlinewidth": 0,
             "ticks": ""
            },
            "colorscale": [
             [
              0,
              "#0d0887"
             ],
             [
              0.1111111111111111,
              "#46039f"
             ],
             [
              0.2222222222222222,
              "#7201a8"
             ],
             [
              0.3333333333333333,
              "#9c179e"
             ],
             [
              0.4444444444444444,
              "#bd3786"
             ],
             [
              0.5555555555555556,
              "#d8576b"
             ],
             [
              0.6666666666666666,
              "#ed7953"
             ],
             [
              0.7777777777777778,
              "#fb9f3a"
             ],
             [
              0.8888888888888888,
              "#fdca26"
             ],
             [
              1,
              "#f0f921"
             ]
            ],
            "type": "contour"
           }
          ],
          "contourcarpet": [
           {
            "colorbar": {
             "outlinewidth": 0,
             "ticks": ""
            },
            "type": "contourcarpet"
           }
          ],
          "heatmap": [
           {
            "colorbar": {
             "outlinewidth": 0,
             "ticks": ""
            },
            "colorscale": [
             [
              0,
              "#0d0887"
             ],
             [
              0.1111111111111111,
              "#46039f"
             ],
             [
              0.2222222222222222,
              "#7201a8"
             ],
             [
              0.3333333333333333,
              "#9c179e"
             ],
             [
              0.4444444444444444,
              "#bd3786"
             ],
             [
              0.5555555555555556,
              "#d8576b"
             ],
             [
              0.6666666666666666,
              "#ed7953"
             ],
             [
              0.7777777777777778,
              "#fb9f3a"
             ],
             [
              0.8888888888888888,
              "#fdca26"
             ],
             [
              1,
              "#f0f921"
             ]
            ],
            "type": "heatmap"
           }
          ],
          "heatmapgl": [
           {
            "colorbar": {
             "outlinewidth": 0,
             "ticks": ""
            },
            "colorscale": [
             [
              0,
              "#0d0887"
             ],
             [
              0.1111111111111111,
              "#46039f"
             ],
             [
              0.2222222222222222,
              "#7201a8"
             ],
             [
              0.3333333333333333,
              "#9c179e"
             ],
             [
              0.4444444444444444,
              "#bd3786"
             ],
             [
              0.5555555555555556,
              "#d8576b"
             ],
             [
              0.6666666666666666,
              "#ed7953"
             ],
             [
              0.7777777777777778,
              "#fb9f3a"
             ],
             [
              0.8888888888888888,
              "#fdca26"
             ],
             [
              1,
              "#f0f921"
             ]
            ],
            "type": "heatmapgl"
           }
          ],
          "histogram": [
           {
            "marker": {
             "pattern": {
              "fillmode": "overlay",
              "size": 10,
              "solidity": 0.2
             }
            },
            "type": "histogram"
           }
          ],
          "histogram2d": [
           {
            "colorbar": {
             "outlinewidth": 0,
             "ticks": ""
            },
            "colorscale": [
             [
              0,
              "#0d0887"
             ],
             [
              0.1111111111111111,
              "#46039f"
             ],
             [
              0.2222222222222222,
              "#7201a8"
             ],
             [
              0.3333333333333333,
              "#9c179e"
             ],
             [
              0.4444444444444444,
              "#bd3786"
             ],
             [
              0.5555555555555556,
              "#d8576b"
             ],
             [
              0.6666666666666666,
              "#ed7953"
             ],
             [
              0.7777777777777778,
              "#fb9f3a"
             ],
             [
              0.8888888888888888,
              "#fdca26"
             ],
             [
              1,
              "#f0f921"
             ]
            ],
            "type": "histogram2d"
           }
          ],
          "histogram2dcontour": [
           {
            "colorbar": {
             "outlinewidth": 0,
             "ticks": ""
            },
            "colorscale": [
             [
              0,
              "#0d0887"
             ],
             [
              0.1111111111111111,
              "#46039f"
             ],
             [
              0.2222222222222222,
              "#7201a8"
             ],
             [
              0.3333333333333333,
              "#9c179e"
             ],
             [
              0.4444444444444444,
              "#bd3786"
             ],
             [
              0.5555555555555556,
              "#d8576b"
             ],
             [
              0.6666666666666666,
              "#ed7953"
             ],
             [
              0.7777777777777778,
              "#fb9f3a"
             ],
             [
              0.8888888888888888,
              "#fdca26"
             ],
             [
              1,
              "#f0f921"
             ]
            ],
            "type": "histogram2dcontour"
           }
          ],
          "mesh3d": [
           {
            "colorbar": {
             "outlinewidth": 0,
             "ticks": ""
            },
            "type": "mesh3d"
           }
          ],
          "parcoords": [
           {
            "line": {
             "colorbar": {
              "outlinewidth": 0,
              "ticks": ""
             }
            },
            "type": "parcoords"
           }
          ],
          "pie": [
           {
            "automargin": true,
            "type": "pie"
           }
          ],
          "scatter": [
           {
            "fillpattern": {
             "fillmode": "overlay",
             "size": 10,
             "solidity": 0.2
            },
            "type": "scatter"
           }
          ],
          "scatter3d": [
           {
            "line": {
             "colorbar": {
              "outlinewidth": 0,
              "ticks": ""
             }
            },
            "marker": {
             "colorbar": {
              "outlinewidth": 0,
              "ticks": ""
             }
            },
            "type": "scatter3d"
           }
          ],
          "scattercarpet": [
           {
            "marker": {
             "colorbar": {
              "outlinewidth": 0,
              "ticks": ""
             }
            },
            "type": "scattercarpet"
           }
          ],
          "scattergeo": [
           {
            "marker": {
             "colorbar": {
              "outlinewidth": 0,
              "ticks": ""
             }
            },
            "type": "scattergeo"
           }
          ],
          "scattergl": [
           {
            "marker": {
             "colorbar": {
              "outlinewidth": 0,
              "ticks": ""
             }
            },
            "type": "scattergl"
           }
          ],
          "scattermapbox": [
           {
            "marker": {
             "colorbar": {
              "outlinewidth": 0,
              "ticks": ""
             }
            },
            "type": "scattermapbox"
           }
          ],
          "scatterpolar": [
           {
            "marker": {
             "colorbar": {
              "outlinewidth": 0,
              "ticks": ""
             }
            },
            "type": "scatterpolar"
           }
          ],
          "scatterpolargl": [
           {
            "marker": {
             "colorbar": {
              "outlinewidth": 0,
              "ticks": ""
             }
            },
            "type": "scatterpolargl"
           }
          ],
          "scatterternary": [
           {
            "marker": {
             "colorbar": {
              "outlinewidth": 0,
              "ticks": ""
             }
            },
            "type": "scatterternary"
           }
          ],
          "surface": [
           {
            "colorbar": {
             "outlinewidth": 0,
             "ticks": ""
            },
            "colorscale": [
             [
              0,
              "#0d0887"
             ],
             [
              0.1111111111111111,
              "#46039f"
             ],
             [
              0.2222222222222222,
              "#7201a8"
             ],
             [
              0.3333333333333333,
              "#9c179e"
             ],
             [
              0.4444444444444444,
              "#bd3786"
             ],
             [
              0.5555555555555556,
              "#d8576b"
             ],
             [
              0.6666666666666666,
              "#ed7953"
             ],
             [
              0.7777777777777778,
              "#fb9f3a"
             ],
             [
              0.8888888888888888,
              "#fdca26"
             ],
             [
              1,
              "#f0f921"
             ]
            ],
            "type": "surface"
           }
          ],
          "table": [
           {
            "cells": {
             "fill": {
              "color": "#EBF0F8"
             },
             "line": {
              "color": "white"
             }
            },
            "header": {
             "fill": {
              "color": "#C8D4E3"
             },
             "line": {
              "color": "white"
             }
            },
            "type": "table"
           }
          ]
         },
         "layout": {
          "annotationdefaults": {
           "arrowcolor": "#2a3f5f",
           "arrowhead": 0,
           "arrowwidth": 1
          },
          "autotypenumbers": "strict",
          "coloraxis": {
           "colorbar": {
            "outlinewidth": 0,
            "ticks": ""
           }
          },
          "colorscale": {
           "diverging": [
            [
             0,
             "#8e0152"
            ],
            [
             0.1,
             "#c51b7d"
            ],
            [
             0.2,
             "#de77ae"
            ],
            [
             0.3,
             "#f1b6da"
            ],
            [
             0.4,
             "#fde0ef"
            ],
            [
             0.5,
             "#f7f7f7"
            ],
            [
             0.6,
             "#e6f5d0"
            ],
            [
             0.7,
             "#b8e186"
            ],
            [
             0.8,
             "#7fbc41"
            ],
            [
             0.9,
             "#4d9221"
            ],
            [
             1,
             "#276419"
            ]
           ],
           "sequential": [
            [
             0,
             "#0d0887"
            ],
            [
             0.1111111111111111,
             "#46039f"
            ],
            [
             0.2222222222222222,
             "#7201a8"
            ],
            [
             0.3333333333333333,
             "#9c179e"
            ],
            [
             0.4444444444444444,
             "#bd3786"
            ],
            [
             0.5555555555555556,
             "#d8576b"
            ],
            [
             0.6666666666666666,
             "#ed7953"
            ],
            [
             0.7777777777777778,
             "#fb9f3a"
            ],
            [
             0.8888888888888888,
             "#fdca26"
            ],
            [
             1,
             "#f0f921"
            ]
           ],
           "sequentialminus": [
            [
             0,
             "#0d0887"
            ],
            [
             0.1111111111111111,
             "#46039f"
            ],
            [
             0.2222222222222222,
             "#7201a8"
            ],
            [
             0.3333333333333333,
             "#9c179e"
            ],
            [
             0.4444444444444444,
             "#bd3786"
            ],
            [
             0.5555555555555556,
             "#d8576b"
            ],
            [
             0.6666666666666666,
             "#ed7953"
            ],
            [
             0.7777777777777778,
             "#fb9f3a"
            ],
            [
             0.8888888888888888,
             "#fdca26"
            ],
            [
             1,
             "#f0f921"
            ]
           ]
          },
          "colorway": [
           "#636efa",
           "#EF553B",
           "#00cc96",
           "#ab63fa",
           "#FFA15A",
           "#19d3f3",
           "#FF6692",
           "#B6E880",
           "#FF97FF",
           "#FECB52"
          ],
          "font": {
           "color": "#2a3f5f"
          },
          "geo": {
           "bgcolor": "white",
           "lakecolor": "white",
           "landcolor": "white",
           "showlakes": true,
           "showland": true,
           "subunitcolor": "#C8D4E3"
          },
          "hoverlabel": {
           "align": "left"
          },
          "hovermode": "closest",
          "mapbox": {
           "style": "light"
          },
          "paper_bgcolor": "white",
          "plot_bgcolor": "white",
          "polar": {
           "angularaxis": {
            "gridcolor": "#EBF0F8",
            "linecolor": "#EBF0F8",
            "ticks": ""
           },
           "bgcolor": "white",
           "radialaxis": {
            "gridcolor": "#EBF0F8",
            "linecolor": "#EBF0F8",
            "ticks": ""
           }
          },
          "scene": {
           "xaxis": {
            "backgroundcolor": "white",
            "gridcolor": "#DFE8F3",
            "gridwidth": 2,
            "linecolor": "#EBF0F8",
            "showbackground": true,
            "ticks": "",
            "zerolinecolor": "#EBF0F8"
           },
           "yaxis": {
            "backgroundcolor": "white",
            "gridcolor": "#DFE8F3",
            "gridwidth": 2,
            "linecolor": "#EBF0F8",
            "showbackground": true,
            "ticks": "",
            "zerolinecolor": "#EBF0F8"
           },
           "zaxis": {
            "backgroundcolor": "white",
            "gridcolor": "#DFE8F3",
            "gridwidth": 2,
            "linecolor": "#EBF0F8",
            "showbackground": true,
            "ticks": "",
            "zerolinecolor": "#EBF0F8"
           }
          },
          "shapedefaults": {
           "line": {
            "color": "#2a3f5f"
           }
          },
          "ternary": {
           "aaxis": {
            "gridcolor": "#DFE8F3",
            "linecolor": "#A2B1C6",
            "ticks": ""
           },
           "baxis": {
            "gridcolor": "#DFE8F3",
            "linecolor": "#A2B1C6",
            "ticks": ""
           },
           "bgcolor": "white",
           "caxis": {
            "gridcolor": "#DFE8F3",
            "linecolor": "#A2B1C6",
            "ticks": ""
           }
          },
          "title": {
           "x": 0.05
          },
          "xaxis": {
           "automargin": true,
           "gridcolor": "#EBF0F8",
           "linecolor": "#EBF0F8",
           "ticks": "",
           "title": {
            "standoff": 15
           },
           "zerolinecolor": "#EBF0F8",
           "zerolinewidth": 2
          },
          "yaxis": {
           "automargin": true,
           "gridcolor": "#EBF0F8",
           "linecolor": "#EBF0F8",
           "ticks": "",
           "title": {
            "standoff": 15
           },
           "zerolinecolor": "#EBF0F8",
           "zerolinewidth": 2
          }
         }
        },
        "title": {
         "text": "Relative share of global optima maximizing desiderata measures"
        },
        "xaxis": {
         "anchor": "y",
         "domain": [
          0,
          0.2125
         ],
         "linecolor": "DarkGrey",
         "showgrid": false,
         "showticklabels": true,
         "title": {
          "text": "QuadraticGlobalRE"
         }
        },
        "xaxis2": {
         "anchor": "y2",
         "domain": [
          0.2625,
          0.475
         ],
         "linecolor": "DarkGrey",
         "showgrid": false,
         "showticklabels": true,
         "title": {
          "text": "LinearGlobalRE"
         }
        },
        "xaxis3": {
         "anchor": "y3",
         "domain": [
          0.525,
          0.7375
         ],
         "linecolor": "DarkGrey",
         "showgrid": false,
         "showticklabels": true,
         "title": {
          "text": "QuadraticLocalRE"
         }
        },
        "xaxis4": {
         "anchor": "y4",
         "domain": [
          0.7875,
          1
         ],
         "linecolor": "DarkGrey",
         "showgrid": false,
         "showticklabels": true,
         "title": {
          "text": "LinearLocalRE"
         }
        },
        "yaxis": {
         "anchor": "x",
         "domain": [
          0,
          1
         ],
         "linecolor": "DarkGrey",
         "range": [
          0,
          1
         ],
         "tickcolor": "DarkGrey",
         "ticks": "outside",
         "title": {
          "text": "Relative share"
         },
         "zeroline": true,
         "zerolinecolor": "DarkGrey",
         "zerolinewidth": 1
        },
        "yaxis2": {
         "anchor": "x2",
         "domain": [
          0,
          1
         ],
         "matches": "y",
         "range": [
          0,
          1
         ],
         "showticklabels": false
        },
        "yaxis3": {
         "anchor": "x3",
         "domain": [
          0,
          1
         ],
         "matches": "y",
         "range": [
          0,
          1
         ],
         "showticklabels": false
        },
        "yaxis4": {
         "anchor": "x4",
         "domain": [
          0,
          1
         ],
         "matches": "y",
         "range": [
          0,
          1
         ],
         "showticklabels": false
        }
       }
      },
      "text/html": [
       "<div>                            <div id=\"789c31a1-bcc7-4a3e-87d9-2b714586ed6b\" class=\"plotly-graph-div\" style=\"height:525px; width:100%;\"></div>            <script type=\"text/javascript\">                require([\"plotly\"], function(Plotly) {                    window.PLOTLYENV=window.PLOTLYENV || {};                                    if (document.getElementById(\"789c31a1-bcc7-4a3e-87d9-2b714586ed6b\")) {                    Plotly.newPlot(                        \"789c31a1-bcc7-4a3e-87d9-2b714586ed6b\",                        [{\"marker\":{\"color\":\"#472c7a\"},\"text\":[0.127,0.697,0.128],\"x\":[\"$A$\",\"$S$\",\"$F$\"],\"y\":[0.127,0.697,0.128],\"type\":\"bar\",\"xaxis\":\"x\",\"yaxis\":\"y\"},{\"marker\":{\"color\":\"#2c718e\"},\"text\":[0.324,0.856,0.339],\"x\":[\"$A$\",\"$S$\",\"$F$\"],\"y\":[0.324,0.856,0.339],\"type\":\"bar\",\"xaxis\":\"x2\",\"yaxis\":\"y2\"},{\"marker\":{\"color\":\"#29ae80\"},\"text\":[0.127,0.697,0.128],\"x\":[\"$A$\",\"$S$\",\"$F$\"],\"y\":[0.127,0.697,0.128],\"type\":\"bar\",\"xaxis\":\"x3\",\"yaxis\":\"y3\"},{\"marker\":{\"color\":\"#b0dd31\"},\"text\":[0.321,0.856,0.34],\"x\":[\"$A$\",\"$S$\",\"$F$\"],\"y\":[0.321,0.856,0.34],\"type\":\"bar\",\"xaxis\":\"x4\",\"yaxis\":\"y4\"}],                        {\"template\":{\"data\":{\"barpolar\":[{\"marker\":{\"line\":{\"color\":\"white\",\"width\":0.5},\"pattern\":{\"fillmode\":\"overlay\",\"size\":10,\"solidity\":0.2}},\"type\":\"barpolar\"}],\"bar\":[{\"error_x\":{\"color\":\"#2a3f5f\"},\"error_y\":{\"color\":\"#2a3f5f\"},\"marker\":{\"line\":{\"color\":\"white\",\"width\":0.5},\"pattern\":{\"fillmode\":\"overlay\",\"size\":10,\"solidity\":0.2}},\"type\":\"bar\"}],\"carpet\":[{\"aaxis\":{\"endlinecolor\":\"#2a3f5f\",\"gridcolor\":\"#C8D4E3\",\"linecolor\":\"#C8D4E3\",\"minorgridcolor\":\"#C8D4E3\",\"startlinecolor\":\"#2a3f5f\"},\"baxis\":{\"endlinecolor\":\"#2a3f5f\",\"gridcolor\":\"#C8D4E3\",\"linecolor\":\"#C8D4E3\",\"minorgridcolor\":\"#C8D4E3\",\"startlinecolor\":\"#2a3f5f\"},\"type\":\"carpet\"}],\"choropleth\":[{\"colorbar\":{\"outlinewidth\":0,\"ticks\":\"\"},\"type\":\"choropleth\"}],\"contourcarpet\":[{\"colorbar\":{\"outlinewidth\":0,\"ticks\":\"\"},\"type\":\"contourcarpet\"}],\"contour\":[{\"colorbar\":{\"outlinewidth\":0,\"ticks\":\"\"},\"colorscale\":[[0.0,\"#0d0887\"],[0.1111111111111111,\"#46039f\"],[0.2222222222222222,\"#7201a8\"],[0.3333333333333333,\"#9c179e\"],[0.4444444444444444,\"#bd3786\"],[0.5555555555555556,\"#d8576b\"],[0.6666666666666666,\"#ed7953\"],[0.7777777777777778,\"#fb9f3a\"],[0.8888888888888888,\"#fdca26\"],[1.0,\"#f0f921\"]],\"type\":\"contour\"}],\"heatmapgl\":[{\"colorbar\":{\"outlinewidth\":0,\"ticks\":\"\"},\"colorscale\":[[0.0,\"#0d0887\"],[0.1111111111111111,\"#46039f\"],[0.2222222222222222,\"#7201a8\"],[0.3333333333333333,\"#9c179e\"],[0.4444444444444444,\"#bd3786\"],[0.5555555555555556,\"#d8576b\"],[0.6666666666666666,\"#ed7953\"],[0.7777777777777778,\"#fb9f3a\"],[0.8888888888888888,\"#fdca26\"],[1.0,\"#f0f921\"]],\"type\":\"heatmapgl\"}],\"heatmap\":[{\"colorbar\":{\"outlinewidth\":0,\"ticks\":\"\"},\"colorscale\":[[0.0,\"#0d0887\"],[0.1111111111111111,\"#46039f\"],[0.2222222222222222,\"#7201a8\"],[0.3333333333333333,\"#9c179e\"],[0.4444444444444444,\"#bd3786\"],[0.5555555555555556,\"#d8576b\"],[0.6666666666666666,\"#ed7953\"],[0.7777777777777778,\"#fb9f3a\"],[0.8888888888888888,\"#fdca26\"],[1.0,\"#f0f921\"]],\"type\":\"heatmap\"}],\"histogram2dcontour\":[{\"colorbar\":{\"outlinewidth\":0,\"ticks\":\"\"},\"colorscale\":[[0.0,\"#0d0887\"],[0.1111111111111111,\"#46039f\"],[0.2222222222222222,\"#7201a8\"],[0.3333333333333333,\"#9c179e\"],[0.4444444444444444,\"#bd3786\"],[0.5555555555555556,\"#d8576b\"],[0.6666666666666666,\"#ed7953\"],[0.7777777777777778,\"#fb9f3a\"],[0.8888888888888888,\"#fdca26\"],[1.0,\"#f0f921\"]],\"type\":\"histogram2dcontour\"}],\"histogram2d\":[{\"colorbar\":{\"outlinewidth\":0,\"ticks\":\"\"},\"colorscale\":[[0.0,\"#0d0887\"],[0.1111111111111111,\"#46039f\"],[0.2222222222222222,\"#7201a8\"],[0.3333333333333333,\"#9c179e\"],[0.4444444444444444,\"#bd3786\"],[0.5555555555555556,\"#d8576b\"],[0.6666666666666666,\"#ed7953\"],[0.7777777777777778,\"#fb9f3a\"],[0.8888888888888888,\"#fdca26\"],[1.0,\"#f0f921\"]],\"type\":\"histogram2d\"}],\"histogram\":[{\"marker\":{\"pattern\":{\"fillmode\":\"overlay\",\"size\":10,\"solidity\":0.2}},\"type\":\"histogram\"}],\"mesh3d\":[{\"colorbar\":{\"outlinewidth\":0,\"ticks\":\"\"},\"type\":\"mesh3d\"}],\"parcoords\":[{\"line\":{\"colorbar\":{\"outlinewidth\":0,\"ticks\":\"\"}},\"type\":\"parcoords\"}],\"pie\":[{\"automargin\":true,\"type\":\"pie\"}],\"scatter3d\":[{\"line\":{\"colorbar\":{\"outlinewidth\":0,\"ticks\":\"\"}},\"marker\":{\"colorbar\":{\"outlinewidth\":0,\"ticks\":\"\"}},\"type\":\"scatter3d\"}],\"scattercarpet\":[{\"marker\":{\"colorbar\":{\"outlinewidth\":0,\"ticks\":\"\"}},\"type\":\"scattercarpet\"}],\"scattergeo\":[{\"marker\":{\"colorbar\":{\"outlinewidth\":0,\"ticks\":\"\"}},\"type\":\"scattergeo\"}],\"scattergl\":[{\"marker\":{\"colorbar\":{\"outlinewidth\":0,\"ticks\":\"\"}},\"type\":\"scattergl\"}],\"scattermapbox\":[{\"marker\":{\"colorbar\":{\"outlinewidth\":0,\"ticks\":\"\"}},\"type\":\"scattermapbox\"}],\"scatterpolargl\":[{\"marker\":{\"colorbar\":{\"outlinewidth\":0,\"ticks\":\"\"}},\"type\":\"scatterpolargl\"}],\"scatterpolar\":[{\"marker\":{\"colorbar\":{\"outlinewidth\":0,\"ticks\":\"\"}},\"type\":\"scatterpolar\"}],\"scatter\":[{\"fillpattern\":{\"fillmode\":\"overlay\",\"size\":10,\"solidity\":0.2},\"type\":\"scatter\"}],\"scatterternary\":[{\"marker\":{\"colorbar\":{\"outlinewidth\":0,\"ticks\":\"\"}},\"type\":\"scatterternary\"}],\"surface\":[{\"colorbar\":{\"outlinewidth\":0,\"ticks\":\"\"},\"colorscale\":[[0.0,\"#0d0887\"],[0.1111111111111111,\"#46039f\"],[0.2222222222222222,\"#7201a8\"],[0.3333333333333333,\"#9c179e\"],[0.4444444444444444,\"#bd3786\"],[0.5555555555555556,\"#d8576b\"],[0.6666666666666666,\"#ed7953\"],[0.7777777777777778,\"#fb9f3a\"],[0.8888888888888888,\"#fdca26\"],[1.0,\"#f0f921\"]],\"type\":\"surface\"}],\"table\":[{\"cells\":{\"fill\":{\"color\":\"#EBF0F8\"},\"line\":{\"color\":\"white\"}},\"header\":{\"fill\":{\"color\":\"#C8D4E3\"},\"line\":{\"color\":\"white\"}},\"type\":\"table\"}]},\"layout\":{\"annotationdefaults\":{\"arrowcolor\":\"#2a3f5f\",\"arrowhead\":0,\"arrowwidth\":1},\"autotypenumbers\":\"strict\",\"coloraxis\":{\"colorbar\":{\"outlinewidth\":0,\"ticks\":\"\"}},\"colorscale\":{\"diverging\":[[0,\"#8e0152\"],[0.1,\"#c51b7d\"],[0.2,\"#de77ae\"],[0.3,\"#f1b6da\"],[0.4,\"#fde0ef\"],[0.5,\"#f7f7f7\"],[0.6,\"#e6f5d0\"],[0.7,\"#b8e186\"],[0.8,\"#7fbc41\"],[0.9,\"#4d9221\"],[1,\"#276419\"]],\"sequential\":[[0.0,\"#0d0887\"],[0.1111111111111111,\"#46039f\"],[0.2222222222222222,\"#7201a8\"],[0.3333333333333333,\"#9c179e\"],[0.4444444444444444,\"#bd3786\"],[0.5555555555555556,\"#d8576b\"],[0.6666666666666666,\"#ed7953\"],[0.7777777777777778,\"#fb9f3a\"],[0.8888888888888888,\"#fdca26\"],[1.0,\"#f0f921\"]],\"sequentialminus\":[[0.0,\"#0d0887\"],[0.1111111111111111,\"#46039f\"],[0.2222222222222222,\"#7201a8\"],[0.3333333333333333,\"#9c179e\"],[0.4444444444444444,\"#bd3786\"],[0.5555555555555556,\"#d8576b\"],[0.6666666666666666,\"#ed7953\"],[0.7777777777777778,\"#fb9f3a\"],[0.8888888888888888,\"#fdca26\"],[1.0,\"#f0f921\"]]},\"colorway\":[\"#636efa\",\"#EF553B\",\"#00cc96\",\"#ab63fa\",\"#FFA15A\",\"#19d3f3\",\"#FF6692\",\"#B6E880\",\"#FF97FF\",\"#FECB52\"],\"font\":{\"color\":\"#2a3f5f\"},\"geo\":{\"bgcolor\":\"white\",\"lakecolor\":\"white\",\"landcolor\":\"white\",\"showlakes\":true,\"showland\":true,\"subunitcolor\":\"#C8D4E3\"},\"hoverlabel\":{\"align\":\"left\"},\"hovermode\":\"closest\",\"mapbox\":{\"style\":\"light\"},\"paper_bgcolor\":\"white\",\"plot_bgcolor\":\"white\",\"polar\":{\"angularaxis\":{\"gridcolor\":\"#EBF0F8\",\"linecolor\":\"#EBF0F8\",\"ticks\":\"\"},\"bgcolor\":\"white\",\"radialaxis\":{\"gridcolor\":\"#EBF0F8\",\"linecolor\":\"#EBF0F8\",\"ticks\":\"\"}},\"scene\":{\"xaxis\":{\"backgroundcolor\":\"white\",\"gridcolor\":\"#DFE8F3\",\"gridwidth\":2,\"linecolor\":\"#EBF0F8\",\"showbackground\":true,\"ticks\":\"\",\"zerolinecolor\":\"#EBF0F8\"},\"yaxis\":{\"backgroundcolor\":\"white\",\"gridcolor\":\"#DFE8F3\",\"gridwidth\":2,\"linecolor\":\"#EBF0F8\",\"showbackground\":true,\"ticks\":\"\",\"zerolinecolor\":\"#EBF0F8\"},\"zaxis\":{\"backgroundcolor\":\"white\",\"gridcolor\":\"#DFE8F3\",\"gridwidth\":2,\"linecolor\":\"#EBF0F8\",\"showbackground\":true,\"ticks\":\"\",\"zerolinecolor\":\"#EBF0F8\"}},\"shapedefaults\":{\"line\":{\"color\":\"#2a3f5f\"}},\"ternary\":{\"aaxis\":{\"gridcolor\":\"#DFE8F3\",\"linecolor\":\"#A2B1C6\",\"ticks\":\"\"},\"baxis\":{\"gridcolor\":\"#DFE8F3\",\"linecolor\":\"#A2B1C6\",\"ticks\":\"\"},\"bgcolor\":\"white\",\"caxis\":{\"gridcolor\":\"#DFE8F3\",\"linecolor\":\"#A2B1C6\",\"ticks\":\"\"}},\"title\":{\"x\":0.05},\"xaxis\":{\"automargin\":true,\"gridcolor\":\"#EBF0F8\",\"linecolor\":\"#EBF0F8\",\"ticks\":\"\",\"title\":{\"standoff\":15},\"zerolinecolor\":\"#EBF0F8\",\"zerolinewidth\":2},\"yaxis\":{\"automargin\":true,\"gridcolor\":\"#EBF0F8\",\"linecolor\":\"#EBF0F8\",\"ticks\":\"\",\"title\":{\"standoff\":15},\"zerolinecolor\":\"#EBF0F8\",\"zerolinewidth\":2}}},\"xaxis\":{\"anchor\":\"y\",\"domain\":[0.0,0.2125],\"title\":{\"text\":\"QuadraticGlobalRE\"},\"showticklabels\":true,\"showgrid\":false,\"linecolor\":\"DarkGrey\"},\"yaxis\":{\"anchor\":\"x\",\"domain\":[0.0,1.0],\"range\":[0.0,1.0],\"title\":{\"text\":\"Relative share\"},\"ticks\":\"outside\",\"tickcolor\":\"DarkGrey\",\"linecolor\":\"DarkGrey\",\"zeroline\":true,\"zerolinecolor\":\"DarkGrey\",\"zerolinewidth\":1},\"xaxis2\":{\"anchor\":\"y2\",\"domain\":[0.2625,0.475],\"title\":{\"text\":\"LinearGlobalRE\"},\"showticklabels\":true,\"showgrid\":false,\"linecolor\":\"DarkGrey\"},\"yaxis2\":{\"anchor\":\"x2\",\"domain\":[0.0,1.0],\"matches\":\"y\",\"showticklabels\":false,\"range\":[0.0,1.0]},\"xaxis3\":{\"anchor\":\"y3\",\"domain\":[0.525,0.7375],\"title\":{\"text\":\"QuadraticLocalRE\"},\"showticklabels\":true,\"showgrid\":false,\"linecolor\":\"DarkGrey\"},\"yaxis3\":{\"anchor\":\"x3\",\"domain\":[0.0,1.0],\"matches\":\"y\",\"showticklabels\":false,\"range\":[0.0,1.0]},\"xaxis4\":{\"anchor\":\"y4\",\"domain\":[0.7875,1.0],\"title\":{\"text\":\"LinearLocalRE\"},\"showticklabels\":true,\"showgrid\":false,\"linecolor\":\"DarkGrey\"},\"yaxis4\":{\"anchor\":\"x4\",\"domain\":[0.0,1.0],\"matches\":\"y\",\"showticklabels\":false,\"range\":[0.0,1.0]},\"showlegend\":false,\"font\":{\"color\":\"black\",\"size\":12},\"margin\":{\"t\":80},\"legend\":{\"title\":{\"text\":\"\"}},\"title\":{\"text\":\"Relative share of global optima maximizing desiderata measures\"}},                        {\"responsive\": true}                    ).then(function(){\n",
       "                            \n",
       "var gd = document.getElementById('789c31a1-bcc7-4a3e-87d9-2b714586ed6b');\n",
       "var x = new MutationObserver(function (mutations, observer) {{\n",
       "        var display = window.getComputedStyle(gd).display;\n",
       "        if (!display || display === 'none') {{\n",
       "            console.log([gd, 'removed!']);\n",
       "            Plotly.purge(gd);\n",
       "            observer.disconnect();\n",
       "        }}\n",
       "}});\n",
       "\n",
       "// Listen for the removal of the full notebook cells\n",
       "var notebookContainer = gd.closest('#notebook-container');\n",
       "if (notebookContainer) {{\n",
       "    x.observe(notebookContainer, {childList: true});\n",
       "}}\n",
       "\n",
       "// Listen for the clearing of the current output cell\n",
       "var outputEl = gd.closest('.output');\n",
       "if (outputEl) {{\n",
       "    x.observe(outputEl, {childList: true});\n",
       "}}\n",
       "\n",
       "                        })                };                });            </script>        </div>"
      ]
     },
     "metadata": {},
     "output_type": "display_data"
    }
   ],
   "source": [
    "for df, endpoint_type in zip([fp_df, go_df], ['fp', 'go']):\n",
    "    \n",
    "    fig = make_subplots(rows=1, \n",
    "                        cols=4,\n",
    "                        shared_yaxes=True)\n",
    "    \n",
    "    for i, model_name in enumerate(model_names):\n",
    "        \n",
    "        rdf = df[df[\"model_name\"]==model_name]\n",
    "        \n",
    "        x_arr = [\"$A$\", \"$S$\", \"$F$\"]\n",
    "        \n",
    "        y_arr = rdf[[\"rel_{}_max_account\".format(endpoint_type),\n",
    "                                   \"rel_{}_max_systematicity\".format(endpoint_type),\n",
    "                                   \"rel_{}_max_faithfulness\".format(endpoint_type)\n",
    "                                  ]].round(3).to_numpy()\n",
    "        \n",
    "        fig.add_trace(go.Bar(x=x_arr, \n",
    "                             y=y_arr[0],\n",
    "                             marker_color=viridis_map[model_name],\n",
    "                             text=y_arr[0]), \n",
    "                      row=1, \n",
    "                      col=i+1)\n",
    "        \n",
    "        fig.update_xaxes(title=model_name, \n",
    "                         showticklabels=True, \n",
    "                         showgrid=False, \n",
    "                         linecolor= 'DarkGrey', \n",
    "                         row=1, \n",
    "                         col=i+1)\n",
    "        \n",
    "    fig.update_layout(showlegend=False)\n",
    "    \n",
    "    fig.update_yaxes(range=[0.0, 1.0])\n",
    "    \n",
    "    fig.update_yaxes(title=\"Relative share\", \n",
    "                     ticks=\"outside\", \n",
    "                     tickcolor=\"DarkGrey\", \n",
    "                     #showgrid=False, \n",
    "                     linecolor='DarkGrey', \n",
    "                     zeroline=True, \n",
    "                     zerolinecolor=\"DarkGrey\",\n",
    "                     zerolinewidth=1, \n",
    "                     row=1, \n",
    "                     col=1)\n",
    "    \n",
    "    \n",
    "    fig.update_layout(template=\"plotly_white\",\n",
    "                       #paper_bgcolor=\"#e9e8e6\",\n",
    "                       #plot_bgcolor=\"#e9e8e6\",\n",
    "                       font={\"color\": \"black\", \"size\":12},\n",
    "                       #width=900,\n",
    "                       margin={\"t\":80}\n",
    "                      )\n",
    "\n",
    "    \n",
    "    \n",
    "    fig.update_layout(legend_title_text=\"\")\n",
    "    \n",
    "    endpoints = \"global optima\" if endpoint_type==\"go\" else \"fixed points\"\n",
    "    \n",
    "    if (endpoint_type == \"fp\") & (analyse_branches):\n",
    "        endpoints += \" (all branches)\"\n",
    "    \n",
    "    fig.update_layout(title_text=\"Relative share of {} maximizing desiderata measures\".format(endpoints))\n",
    "\n",
    "    fig.show()\n",
    "    \n",
    "    if export_results:\n",
    "        file_name = 'overall_max_values_{}_{}.png'.format(endpoint_type, 'branches' if analyse_branches else 'setups')\n",
    "        fig.write_image(path.join(figures_output_dir, file_name), scale=2)\n",
    "        \n",
    "        file_name = 'overall_max_values_{}_{}.pdf'.format(endpoint_type, 'branches' if analyse_branches else 'setups')\n",
    "        fig.write_image(path.join(figures_output_dir, file_name), scale=2)"
   ]
  },
  {
   "cell_type": "markdown",
   "id": "5f66615c",
   "metadata": {},
   "source": [
    "### Heatmaps"
   ]
  },
  {
   "cell_type": "code",
   "execution_count": 183,
   "id": "11e86017",
   "metadata": {},
   "outputs": [],
   "source": [
    "new_grouping = ['model_name', 'weight_account','weight_systematicity']"
   ]
  },
  {
   "cell_type": "code",
   "execution_count": 184,
   "id": "fc2031fa",
   "metadata": {},
   "outputs": [
    {
     "data": {
      "text/html": [
       "<div>\n",
       "<style scoped>\n",
       "    .dataframe tbody tr th:only-of-type {\n",
       "        vertical-align: middle;\n",
       "    }\n",
       "\n",
       "    .dataframe tbody tr th {\n",
       "        vertical-align: top;\n",
       "    }\n",
       "\n",
       "    .dataframe thead th {\n",
       "        text-align: right;\n",
       "    }\n",
       "</style>\n",
       "<table border=\"1\" class=\"dataframe\">\n",
       "  <thead>\n",
       "    <tr style=\"text-align: right;\">\n",
       "      <th></th>\n",
       "      <th>model_name</th>\n",
       "      <th>weight_account</th>\n",
       "      <th>weight_systematicity</th>\n",
       "      <th>n_go_max_account</th>\n",
       "      <th>n_go_max_systematicity</th>\n",
       "      <th>n_go_max_faithfulness</th>\n",
       "      <th>n_global_optima</th>\n",
       "      <th>rel_go_max_account</th>\n",
       "      <th>rel_go_max_systematicity</th>\n",
       "      <th>rel_go_max_faithfulness</th>\n",
       "    </tr>\n",
       "  </thead>\n",
       "  <tbody>\n",
       "    <tr>\n",
       "      <th>105</th>\n",
       "      <td>QuadraticGlobalRE</td>\n",
       "      <td>0.7</td>\n",
       "      <td>0.1</td>\n",
       "      <td>595</td>\n",
       "      <td>46</td>\n",
       "      <td>75</td>\n",
       "      <td>622</td>\n",
       "      <td>0.96</td>\n",
       "      <td>0.07</td>\n",
       "      <td>0.12</td>\n",
       "    </tr>\n",
       "    <tr>\n",
       "      <th>84</th>\n",
       "      <td>QuadraticGlobalRE</td>\n",
       "      <td>0.2</td>\n",
       "      <td>0.5</td>\n",
       "      <td>15</td>\n",
       "      <td>1428</td>\n",
       "      <td>150</td>\n",
       "      <td>1969</td>\n",
       "      <td>0.01</td>\n",
       "      <td>0.73</td>\n",
       "      <td>0.08</td>\n",
       "    </tr>\n",
       "    <tr>\n",
       "      <th>83</th>\n",
       "      <td>QuadraticGlobalRE</td>\n",
       "      <td>0.2</td>\n",
       "      <td>0.4</td>\n",
       "      <td>21</td>\n",
       "      <td>1012</td>\n",
       "      <td>194</td>\n",
       "      <td>1700</td>\n",
       "      <td>0.01</td>\n",
       "      <td>0.60</td>\n",
       "      <td>0.11</td>\n",
       "    </tr>\n",
       "    <tr>\n",
       "      <th>82</th>\n",
       "      <td>QuadraticGlobalRE</td>\n",
       "      <td>0.2</td>\n",
       "      <td>0.3</td>\n",
       "      <td>27</td>\n",
       "      <td>352</td>\n",
       "      <td>247</td>\n",
       "      <td>1199</td>\n",
       "      <td>0.02</td>\n",
       "      <td>0.29</td>\n",
       "      <td>0.21</td>\n",
       "    </tr>\n",
       "    <tr>\n",
       "      <th>81</th>\n",
       "      <td>QuadraticGlobalRE</td>\n",
       "      <td>0.2</td>\n",
       "      <td>0.2</td>\n",
       "      <td>47</td>\n",
       "      <td>164</td>\n",
       "      <td>571</td>\n",
       "      <td>1023</td>\n",
       "      <td>0.05</td>\n",
       "      <td>0.16</td>\n",
       "      <td>0.56</td>\n",
       "    </tr>\n",
       "    <tr>\n",
       "      <th>...</th>\n",
       "      <td>...</td>\n",
       "      <td>...</td>\n",
       "      <td>...</td>\n",
       "      <td>...</td>\n",
       "      <td>...</td>\n",
       "      <td>...</td>\n",
       "      <td>...</td>\n",
       "      <td>...</td>\n",
       "      <td>...</td>\n",
       "      <td>...</td>\n",
       "    </tr>\n",
       "    <tr>\n",
       "      <th>57</th>\n",
       "      <td>LinearLocalRE</td>\n",
       "      <td>0.4</td>\n",
       "      <td>0.1</td>\n",
       "      <td>301</td>\n",
       "      <td>19</td>\n",
       "      <td>544</td>\n",
       "      <td>544</td>\n",
       "      <td>0.55</td>\n",
       "      <td>0.03</td>\n",
       "      <td>1.00</td>\n",
       "    </tr>\n",
       "    <tr>\n",
       "      <th>56</th>\n",
       "      <td>LinearLocalRE</td>\n",
       "      <td>0.3</td>\n",
       "      <td>0.6</td>\n",
       "      <td>1190</td>\n",
       "      <td>1190</td>\n",
       "      <td>8</td>\n",
       "      <td>1190</td>\n",
       "      <td>1.00</td>\n",
       "      <td>1.00</td>\n",
       "      <td>0.01</td>\n",
       "    </tr>\n",
       "    <tr>\n",
       "      <th>55</th>\n",
       "      <td>LinearLocalRE</td>\n",
       "      <td>0.3</td>\n",
       "      <td>0.5</td>\n",
       "      <td>1143</td>\n",
       "      <td>1127</td>\n",
       "      <td>11</td>\n",
       "      <td>1143</td>\n",
       "      <td>1.00</td>\n",
       "      <td>0.99</td>\n",
       "      <td>0.01</td>\n",
       "    </tr>\n",
       "    <tr>\n",
       "      <th>53</th>\n",
       "      <td>LinearLocalRE</td>\n",
       "      <td>0.3</td>\n",
       "      <td>0.3</td>\n",
       "      <td>150</td>\n",
       "      <td>575</td>\n",
       "      <td>1075</td>\n",
       "      <td>1075</td>\n",
       "      <td>0.14</td>\n",
       "      <td>0.53</td>\n",
       "      <td>1.00</td>\n",
       "    </tr>\n",
       "    <tr>\n",
       "      <th>71</th>\n",
       "      <td>LinearLocalRE</td>\n",
       "      <td>0.8</td>\n",
       "      <td>0.1</td>\n",
       "      <td>1051</td>\n",
       "      <td>571</td>\n",
       "      <td>157</td>\n",
       "      <td>1051</td>\n",
       "      <td>1.00</td>\n",
       "      <td>0.54</td>\n",
       "      <td>0.15</td>\n",
       "    </tr>\n",
       "  </tbody>\n",
       "</table>\n",
       "<p>144 rows × 10 columns</p>\n",
       "</div>"
      ],
      "text/plain": [
       "            model_name  weight_account  weight_systematicity  \\\n",
       "105  QuadraticGlobalRE             0.7                   0.1   \n",
       "84   QuadraticGlobalRE             0.2                   0.5   \n",
       "83   QuadraticGlobalRE             0.2                   0.4   \n",
       "82   QuadraticGlobalRE             0.2                   0.3   \n",
       "81   QuadraticGlobalRE             0.2                   0.2   \n",
       "..                 ...             ...                   ...   \n",
       "57       LinearLocalRE             0.4                   0.1   \n",
       "56       LinearLocalRE             0.3                   0.6   \n",
       "55       LinearLocalRE             0.3                   0.5   \n",
       "53       LinearLocalRE             0.3                   0.3   \n",
       "71       LinearLocalRE             0.8                   0.1   \n",
       "\n",
       "     n_go_max_account  n_go_max_systematicity  n_go_max_faithfulness  \\\n",
       "105               595                      46                     75   \n",
       "84                 15                    1428                    150   \n",
       "83                 21                    1012                    194   \n",
       "82                 27                     352                    247   \n",
       "81                 47                     164                    571   \n",
       "..                ...                     ...                    ...   \n",
       "57                301                      19                    544   \n",
       "56               1190                    1190                      8   \n",
       "55               1143                    1127                     11   \n",
       "53                150                     575                   1075   \n",
       "71               1051                     571                    157   \n",
       "\n",
       "     n_global_optima  rel_go_max_account  rel_go_max_systematicity  \\\n",
       "105              622                0.96                      0.07   \n",
       "84              1969                0.01                      0.73   \n",
       "83              1700                0.01                      0.60   \n",
       "82              1199                0.02                      0.29   \n",
       "81              1023                0.05                      0.16   \n",
       "..               ...                 ...                       ...   \n",
       "57               544                0.55                      0.03   \n",
       "56              1190                1.00                      1.00   \n",
       "55              1143                1.00                      0.99   \n",
       "53              1075                0.14                      0.53   \n",
       "71              1051                1.00                      0.54   \n",
       "\n",
       "     rel_go_max_faithfulness  \n",
       "105                     0.12  \n",
       "84                      0.08  \n",
       "83                      0.11  \n",
       "82                      0.21  \n",
       "81                      0.56  \n",
       "..                       ...  \n",
       "57                      1.00  \n",
       "56                      0.01  \n",
       "55                      0.01  \n",
       "53                      1.00  \n",
       "71                      0.15  \n",
       "\n",
       "[144 rows x 10 columns]"
      ]
     },
     "execution_count": 184,
     "metadata": {},
     "output_type": "execute_result"
    }
   ],
   "source": [
    "# number of global optima with account = 1\n",
    "wdf1 = exploded_go_data[exploded_go_data[\"go_account\"]==1].groupby(new_grouping)[\"go_account\"].size().reset_index()\n",
    "wdf1.rename(columns={\"go_account\":\"n_go_max_account\"}, inplace=True)\n",
    "\n",
    "# number of global optima with systematicity = 1\n",
    "wdf2 = exploded_go_data[exploded_go_data[\"go_theory_len\"]==1].groupby(new_grouping)[\"go_theory_len\"].size().reset_index()\n",
    "wdf2.rename(columns={\"go_theory_len\":\"n_go_max_systematicity\"}, inplace=True)\n",
    "\n",
    "# number of global optima with faithfulness = 1\n",
    "wdf3 = exploded_go_data[exploded_go_data[\"go_faithfulness\"]==1].groupby(new_grouping)[\"go_faithfulness\"].size().reset_index()\n",
    "wdf3.rename(columns={\"go_faithfulness\":\"n_go_max_faithfulness\"}, inplace=True)\n",
    "\n",
    "# number of global optima\n",
    "wdf4 = exploded_go_data.groupby(new_grouping)[\"go_account\"].size().reset_index()\n",
    "wdf4.rename(columns={\"go_account\":\"n_global_optima\"}, inplace=True)\n",
    "\n",
    "wgo_df = wdf1.join(wdf2.set_index(new_grouping), on=new_grouping)\n",
    "wgo_df = wgo_df.join(wdf3.set_index(new_grouping), on=new_grouping)\n",
    "wgo_df = wgo_df.join(wdf4.set_index(new_grouping), on=new_grouping)\n",
    "\n",
    "wgo_df[\"rel_go_max_account\"] = wgo_df[\"n_go_max_account\"]/wgo_df[\"n_global_optima\"]\n",
    "wgo_df[\"rel_go_max_systematicity\"] = wgo_df[\"n_go_max_systematicity\"]/wgo_df[\"n_global_optima\"]\n",
    "wgo_df[\"rel_go_max_faithfulness\"] = wgo_df[\"n_go_max_faithfulness\"]/wgo_df[\"n_global_optima\"]\n",
    "\n",
    "wgo_df[\"rel_go_max_account\"] = wgo_df[\"rel_go_max_account\"].astype(float).round(2)\n",
    "wgo_df[\"rel_go_max_systematicity\"] = wgo_df[\"rel_go_max_systematicity\"].astype(float).round(2)\n",
    "wgo_df[\"rel_go_max_faithfulness\"] = wgo_df[\"rel_go_max_faithfulness\"].astype(float).round(2)\n",
    "\n",
    "# sort by model name\n",
    "wgo_df['model_name'] = pd.Categorical(wgo_df['model_name'], [\"QuadraticGlobalRE\", \"LinearGlobalRE\", \"QuadraticLocalRE\", \"LinearLocalRE\"])\n",
    "wgo_df.sort_values(\"model_name\", inplace=True)\n",
    "\n",
    "wgo_df"
   ]
  },
  {
   "cell_type": "code",
   "execution_count": 185,
   "id": "3d25508e",
   "metadata": {},
   "outputs": [
    {
     "data": {
      "text/html": [
       "<div>\n",
       "<style scoped>\n",
       "    .dataframe tbody tr th:only-of-type {\n",
       "        vertical-align: middle;\n",
       "    }\n",
       "\n",
       "    .dataframe tbody tr th {\n",
       "        vertical-align: top;\n",
       "    }\n",
       "\n",
       "    .dataframe thead th {\n",
       "        text-align: right;\n",
       "    }\n",
       "</style>\n",
       "<table border=\"1\" class=\"dataframe\">\n",
       "  <thead>\n",
       "    <tr style=\"text-align: right;\">\n",
       "      <th></th>\n",
       "      <th>model_name</th>\n",
       "      <th>weight_account</th>\n",
       "      <th>weight_systematicity</th>\n",
       "      <th>n_fp_max_account</th>\n",
       "      <th>n_fp_max_systematicity</th>\n",
       "      <th>n_fp_max_faithfulness</th>\n",
       "      <th>n_fixed_points</th>\n",
       "      <th>rel_fp_max_account</th>\n",
       "      <th>rel_fp_max_systematicity</th>\n",
       "      <th>rel_fp_max_faithfulness</th>\n",
       "    </tr>\n",
       "  </thead>\n",
       "  <tbody>\n",
       "    <tr>\n",
       "      <th>105</th>\n",
       "      <td>QuadraticGlobalRE</td>\n",
       "      <td>0.7</td>\n",
       "      <td>0.1</td>\n",
       "      <td>504</td>\n",
       "      <td>19</td>\n",
       "      <td>247</td>\n",
       "      <td>513</td>\n",
       "      <td>0.98</td>\n",
       "      <td>0.04</td>\n",
       "      <td>0.48</td>\n",
       "    </tr>\n",
       "    <tr>\n",
       "      <th>84</th>\n",
       "      <td>QuadraticGlobalRE</td>\n",
       "      <td>0.2</td>\n",
       "      <td>0.5</td>\n",
       "      <td>19</td>\n",
       "      <td>1048</td>\n",
       "      <td>151</td>\n",
       "      <td>1520</td>\n",
       "      <td>0.01</td>\n",
       "      <td>0.69</td>\n",
       "      <td>0.10</td>\n",
       "    </tr>\n",
       "    <tr>\n",
       "      <th>83</th>\n",
       "      <td>QuadraticGlobalRE</td>\n",
       "      <td>0.2</td>\n",
       "      <td>0.4</td>\n",
       "      <td>23</td>\n",
       "      <td>731</td>\n",
       "      <td>164</td>\n",
       "      <td>1324</td>\n",
       "      <td>0.02</td>\n",
       "      <td>0.55</td>\n",
       "      <td>0.12</td>\n",
       "    </tr>\n",
       "    <tr>\n",
       "      <th>82</th>\n",
       "      <td>QuadraticGlobalRE</td>\n",
       "      <td>0.2</td>\n",
       "      <td>0.3</td>\n",
       "      <td>31</td>\n",
       "      <td>494</td>\n",
       "      <td>200</td>\n",
       "      <td>1140</td>\n",
       "      <td>0.03</td>\n",
       "      <td>0.43</td>\n",
       "      <td>0.18</td>\n",
       "    </tr>\n",
       "    <tr>\n",
       "      <th>81</th>\n",
       "      <td>QuadraticGlobalRE</td>\n",
       "      <td>0.2</td>\n",
       "      <td>0.2</td>\n",
       "      <td>41</td>\n",
       "      <td>181</td>\n",
       "      <td>596</td>\n",
       "      <td>925</td>\n",
       "      <td>0.04</td>\n",
       "      <td>0.20</td>\n",
       "      <td>0.64</td>\n",
       "    </tr>\n",
       "    <tr>\n",
       "      <th>...</th>\n",
       "      <td>...</td>\n",
       "      <td>...</td>\n",
       "      <td>...</td>\n",
       "      <td>...</td>\n",
       "      <td>...</td>\n",
       "      <td>...</td>\n",
       "      <td>...</td>\n",
       "      <td>...</td>\n",
       "      <td>...</td>\n",
       "      <td>...</td>\n",
       "    </tr>\n",
       "    <tr>\n",
       "      <th>57</th>\n",
       "      <td>LinearLocalRE</td>\n",
       "      <td>0.4</td>\n",
       "      <td>0.1</td>\n",
       "      <td>175</td>\n",
       "      <td>47</td>\n",
       "      <td>494</td>\n",
       "      <td>494</td>\n",
       "      <td>0.35</td>\n",
       "      <td>0.10</td>\n",
       "      <td>1.00</td>\n",
       "    </tr>\n",
       "    <tr>\n",
       "      <th>56</th>\n",
       "      <td>LinearLocalRE</td>\n",
       "      <td>0.3</td>\n",
       "      <td>0.6</td>\n",
       "      <td>396</td>\n",
       "      <td>390</td>\n",
       "      <td>6</td>\n",
       "      <td>396</td>\n",
       "      <td>1.00</td>\n",
       "      <td>0.98</td>\n",
       "      <td>0.02</td>\n",
       "    </tr>\n",
       "    <tr>\n",
       "      <th>55</th>\n",
       "      <td>LinearLocalRE</td>\n",
       "      <td>0.3</td>\n",
       "      <td>0.5</td>\n",
       "      <td>404</td>\n",
       "      <td>389</td>\n",
       "      <td>6</td>\n",
       "      <td>404</td>\n",
       "      <td>1.00</td>\n",
       "      <td>0.96</td>\n",
       "      <td>0.01</td>\n",
       "    </tr>\n",
       "    <tr>\n",
       "      <th>53</th>\n",
       "      <td>LinearLocalRE</td>\n",
       "      <td>0.3</td>\n",
       "      <td>0.3</td>\n",
       "      <td>24</td>\n",
       "      <td>334</td>\n",
       "      <td>405</td>\n",
       "      <td>405</td>\n",
       "      <td>0.06</td>\n",
       "      <td>0.82</td>\n",
       "      <td>1.00</td>\n",
       "    </tr>\n",
       "    <tr>\n",
       "      <th>71</th>\n",
       "      <td>LinearLocalRE</td>\n",
       "      <td>0.8</td>\n",
       "      <td>0.1</td>\n",
       "      <td>1390</td>\n",
       "      <td>119</td>\n",
       "      <td>17</td>\n",
       "      <td>1390</td>\n",
       "      <td>1.00</td>\n",
       "      <td>0.09</td>\n",
       "      <td>0.01</td>\n",
       "    </tr>\n",
       "  </tbody>\n",
       "</table>\n",
       "<p>144 rows × 10 columns</p>\n",
       "</div>"
      ],
      "text/plain": [
       "            model_name  weight_account  weight_systematicity  \\\n",
       "105  QuadraticGlobalRE             0.7                   0.1   \n",
       "84   QuadraticGlobalRE             0.2                   0.5   \n",
       "83   QuadraticGlobalRE             0.2                   0.4   \n",
       "82   QuadraticGlobalRE             0.2                   0.3   \n",
       "81   QuadraticGlobalRE             0.2                   0.2   \n",
       "..                 ...             ...                   ...   \n",
       "57       LinearLocalRE             0.4                   0.1   \n",
       "56       LinearLocalRE             0.3                   0.6   \n",
       "55       LinearLocalRE             0.3                   0.5   \n",
       "53       LinearLocalRE             0.3                   0.3   \n",
       "71       LinearLocalRE             0.8                   0.1   \n",
       "\n",
       "     n_fp_max_account  n_fp_max_systematicity  n_fp_max_faithfulness  \\\n",
       "105               504                      19                    247   \n",
       "84                 19                    1048                    151   \n",
       "83                 23                     731                    164   \n",
       "82                 31                     494                    200   \n",
       "81                 41                     181                    596   \n",
       "..                ...                     ...                    ...   \n",
       "57                175                      47                    494   \n",
       "56                396                     390                      6   \n",
       "55                404                     389                      6   \n",
       "53                 24                     334                    405   \n",
       "71               1390                     119                     17   \n",
       "\n",
       "     n_fixed_points  rel_fp_max_account  rel_fp_max_systematicity  \\\n",
       "105             513                0.98                      0.04   \n",
       "84             1520                0.01                      0.69   \n",
       "83             1324                0.02                      0.55   \n",
       "82             1140                0.03                      0.43   \n",
       "81              925                0.04                      0.20   \n",
       "..              ...                 ...                       ...   \n",
       "57              494                0.35                      0.10   \n",
       "56              396                1.00                      0.98   \n",
       "55              404                1.00                      0.96   \n",
       "53              405                0.06                      0.82   \n",
       "71             1390                1.00                      0.09   \n",
       "\n",
       "     rel_fp_max_faithfulness  \n",
       "105                     0.48  \n",
       "84                      0.10  \n",
       "83                      0.12  \n",
       "82                      0.18  \n",
       "81                      0.64  \n",
       "..                       ...  \n",
       "57                      1.00  \n",
       "56                      0.02  \n",
       "55                      0.01  \n",
       "53                      1.00  \n",
       "71                      0.01  \n",
       "\n",
       "[144 rows x 10 columns]"
      ]
     },
     "execution_count": 185,
     "metadata": {},
     "output_type": "execute_result"
    }
   ],
   "source": [
    "# number of fixed points with account = 1\n",
    "wdf1 = exploded_fp_data[exploded_fp_data[\"fp_account\"]==1].groupby(new_grouping)[\"fp_account\"].size().reset_index()\n",
    "wdf1.rename(columns={\"fp_account\":\"n_fp_max_account\"}, inplace=True)\n",
    "\n",
    "# number of fixed points with systematicity = 1\n",
    "wdf2 = exploded_fp_data[exploded_fp_data[\"fp_theory_len\"]==1].groupby(new_grouping)[\"fp_theory_len\"].size().reset_index()\n",
    "wdf2.rename(columns={\"fp_theory_len\":\"n_fp_max_systematicity\"}, inplace=True)\n",
    "\n",
    "# number of fixed points with faithfulness = 1\n",
    "wdf3 = exploded_fp_data[exploded_fp_data[\"fp_faithfulness\"]==1].groupby(new_grouping)[\"fp_faithfulness\"].size().reset_index()\n",
    "wdf3.rename(columns={\"fp_faithfulness\":\"n_fp_max_faithfulness\"}, inplace=True)\n",
    "\n",
    "# number of fixed points\n",
    "wdf4 = exploded_fp_data.groupby(new_grouping)[\"fp_account\"].size().reset_index()\n",
    "wdf4.rename(columns={\"fp_account\":\"n_fixed_points\"}, inplace=True)\n",
    "\n",
    "\n",
    "\n",
    "wfp_df = wdf1.join(wdf2.set_index(new_grouping), on=new_grouping)\n",
    "wfp_df = wfp_df.join(wdf3.set_index(new_grouping), on=new_grouping)\n",
    "wfp_df = wfp_df.join(wdf4.set_index(new_grouping), on=new_grouping)\n",
    "\n",
    "\n",
    "wfp_df[\"rel_fp_max_account\"] = wfp_df[\"n_fp_max_account\"]/wfp_df[\"n_fixed_points\"]\n",
    "wfp_df[\"rel_fp_max_systematicity\"] = wfp_df[\"n_fp_max_systematicity\"]/wfp_df[\"n_fixed_points\"]\n",
    "wfp_df[\"rel_fp_max_faithfulness\"] = wfp_df[\"n_fp_max_faithfulness\"]/wfp_df[\"n_fixed_points\"]\n",
    "\n",
    "wfp_df[\"rel_fp_max_account\"] = wfp_df[\"rel_fp_max_account\"].astype(float).round(2)\n",
    "wfp_df[\"rel_fp_max_systematicity\"] = wfp_df[\"rel_fp_max_systematicity\"].astype(float).round(2)\n",
    "wfp_df[\"rel_fp_max_faithfulness\"] = wfp_df[\"rel_fp_max_faithfulness\"].astype(float).round(2)\n",
    "\n",
    "# sort by model name\n",
    "wfp_df['model_name'] = pd.Categorical(wfp_df['model_name'], [\"QuadraticGlobalRE\", \"LinearGlobalRE\", \"QuadraticLocalRE\", \"LinearLocalRE\"])\n",
    "wfp_df.sort_values(\"model_name\", inplace=True)\n",
    "\n",
    "wfp_df"
   ]
  },
  {
   "cell_type": "code",
   "execution_count": 186,
   "id": "93c44b58",
   "metadata": {},
   "outputs": [],
   "source": [
    "from itertools import product"
   ]
  },
  {
   "cell_type": "code",
   "execution_count": 187,
   "id": "2ffe0325",
   "metadata": {
    "scrolled": false
   },
   "outputs": [
    {
     "data": {
      "image/png": "[encoded data removed]",
      "text/plain": [
       "<Figure size 720x720 with 4 Axes>"
      ]
     },
     "metadata": {
      "needs_background": "light"
     },
     "output_type": "display_data"
    },
    {
     "data": {
      "image/png": "[encoded data removed]",
      "text/plain": [
       "<Figure size 720x720 with 4 Axes>"
      ]
     },
     "metadata": {
      "needs_background": "light"
     },
     "output_type": "display_data"
    },
    {
     "data": {
      "image/png": "[encoded data removed]",
      "text/plain": [
       "<Figure size 720x720 with 4 Axes>"
      ]
     },
     "metadata": {
      "needs_background": "light"
     },
     "output_type": "display_data"
    },
    {
     "data": {
      "image/png": "[encoded data removed]",
      "text/plain": [
       "<Figure size 720x720 with 4 Axes>"
      ]
     },
     "metadata": {
      "needs_background": "light"
     },
     "output_type": "display_data"
    },
    {
     "data": {
      "image/png": "[encoded data removed]",
      "text/plain": [
       "<Figure size 720x720 with 4 Axes>"
      ]
     },
     "metadata": {
      "needs_background": "light"
     },
     "output_type": "display_data"
    },
    {
     "data": {
      "image/png": "[encoded data removed]",
      "text/plain": [
       "<Figure size 720x720 with 4 Axes>"
      ]
     },
     "metadata": {
      "needs_background": "light"
     },
     "output_type": "display_data"
    }
   ],
   "source": [
    "for measure, endpoint_type in product([\"account\", \"systematicity\", \"faithfulness\"], [\"fp\", \"go\"]):\n",
    "    \n",
    "    df = wgo_df if endpoint_type == \"go\" else wfp_df\n",
    "    endpoint = \"global optima\" if endpoint_type == \"go\" else \"fixed points\"\n",
    "\n",
    "    normalized_heat_maps_by_weights(df, \n",
    "                                    \"rel_{}_max_{}\".format(endpoint_type, measure), \n",
    "                                    \"Relative share of {} with maximal {}\".format(endpoint, measure),\n",
    "                                    annot_std = False,\n",
    "                                    #annot_fmt=\"{:2.2f}\\n\"\n",
    "                                   )\n",
    "\n",
    "    branches = \"branches\" if analyse_branches else \"setups\"\n",
    "\n",
    "    if export_results:\n",
    "        plt.savefig(path.join(figures_output_dir, 'rel_{}_max_{}_{}.png'.format(endpoint_type, measure, branches)), bbox_inches='tight')"
   ]
  },
  {
   "cell_type": "code",
   "execution_count": null,
   "id": "50547fde",
   "metadata": {},
   "outputs": [],
   "source": []
  },
  {
   "cell_type": "code",
   "execution_count": null,
   "id": "4aac48d9",
   "metadata": {},
   "outputs": [],
   "source": []
  }
 ],
 "metadata": {
  "kernelspec": {
   "display_name": "Python 3 (ipykernel)",
   "language": "python",
   "name": "python3"
  },
  "language_info": {
   "codemirror_mode": {
    "name": "ipython",
    "version": 3
   },
   "file_extension": ".py",
   "mimetype": "text/x-python",
   "name": "python",
   "nbconvert_exporter": "python",
   "pygments_lexer": "ipython3",
   "version": "3.9.7"
  }
 },
 "nbformat": 4,
 "nbformat_minor": 5
}
