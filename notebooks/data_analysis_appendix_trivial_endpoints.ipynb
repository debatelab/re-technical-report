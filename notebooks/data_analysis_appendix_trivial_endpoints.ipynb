{
 "cells": [
  {
   "cell_type": "markdown",
   "id": "38dd3b2c",
   "metadata": {},
   "source": [
    "# Trivial Endpoints"
   ]
  },
  {
   "cell_type": "markdown",
   "id": "7e66fcb3",
   "metadata": {},
   "source": [
    "This notebook can be used to reproduce the data analysis of the Appendix \"Trivial Endpoints\" of the technical report [\"Assessing a Formal Model of Reflective Equilibrium\"](https://re-models.github.io/re-technical-report/). "
   ]
  },
  {
   "cell_type": "markdown",
   "id": "b0e93403",
   "metadata": {},
   "source": [
    "## How to run this notebook"
   ]
  },
  {
   "cell_type": "markdown",
   "id": "860ca5f2",
   "metadata": {},
   "source": [
    "There are several possibilities to execute this notebook. You can, for instance,\n",
    "\n",
    "1. execute this notebook on Colab: [![Open In Colab](https://colab.research.google.com/assets/colab-badge.svg)](https://colab.research.google.com/github/re-models/re-technical-report/blob/main/notebooks/data_analysis_appendix_trivial_endpoints.ipynb), or\n",
    "2. execute this notebook locally in, for instance, [JupyterLab](https://jupyter.org/) by cloning the Github repository of the report (for details, see <https://github.com/re-models/re-technical-report>).\n",
    "\n",
    "Note, however, that Colab is not suited to analyse the full data set that is used in the report. Instead, you can only use the subdata set `TINY` (see <https://github.com/re-models/re-technical-report> for details)."
   ]
  },
  {
   "cell_type": "markdown",
   "id": "ef660f8a",
   "metadata": {},
   "source": [
    "## Installing and importing libraries"
   ]
  },
  {
   "cell_type": "code",
   "execution_count": null,
   "id": "2f069f4c",
   "metadata": {},
   "outputs": [],
   "source": [
    "!pip install re-technical-report"
   ]
  },
  {
   "cell_type": "code",
   "execution_count": 47,
   "id": "eacbe45a",
   "metadata": {},
   "outputs": [],
   "source": [
    "# importing libraries\n",
    "from os import getcwd, path\n",
    "from pathlib import Path\n",
    "\n",
    "from pandas import DataFrame\n",
    "import pandas as pd\n",
    "import numpy as np\n",
    "from itertools import product\n",
    "\n",
    "import matplotlib.pyplot as plt\n",
    "\n",
    "from re_technical_report import (\n",
    "    re_data_by_name,\n",
    "    rel_share_of_property,\n",
    "    consistency_case_barplot,\n",
    "    consistency_case_heatmaps_by_weights,\n",
    "    plot_multiple_error_bars,\n",
    "    heat_maps_by_weights,\n",
    "    set_errorbar_plot_style,\n",
    "    set_heatmap_plot_style,\n",
    "    \n",
    "    #TODO: uncomment\n",
    "    \n",
    "    #get_length, \n",
    "    #get_lengths,    \n",
    ")"
   ]
  },
  {
   "cell_type": "markdown",
   "id": "949c417e",
   "metadata": {},
   "source": [
    "### Utility"
   ]
  },
  {
   "cell_type": "code",
   "execution_count": 56,
   "id": "b00a6ebe",
   "metadata": {},
   "outputs": [],
   "source": [
    "# TODO: remove \n",
    "\n",
    "# working on strings directly in order to avoid having to literal_eval millions of strings\n",
    "\n",
    "def get_length(pos):\n",
    "    return len(pos.split(\",\"))\n",
    "\n",
    "def get_lengths(x, pos_type):\n",
    "    \n",
    "    # split the list of endpoint tuples \n",
    "    l = x.split('), (')\n",
    "\n",
    "    # split each endpoint tuple into a theory and a commitment position (set representation with {})\n",
    "    l = [s.split('}, {') for s in l]\n",
    "    \n",
    "    if not pos_type in [\"theory\", \"commitments\"]:\n",
    "        raise ValueError(\"pos_type must be 'theory' or 'commitments'\")\n",
    "    \n",
    "    idx = 0 if pos_type == \"theory\" else 1\n",
    "     \n",
    "    # length of the first (theory) or second (commitments) element  after \n",
    "    # the comma-separated sentences have been split\n",
    "    return [len(s[idx].split(',')) for s in l]"
   ]
  },
  {
   "cell_type": "markdown",
   "id": "fde057f1",
   "metadata": {},
   "source": [
    "## Loading data"
   ]
  },
  {
   "cell_type": "code",
   "execution_count": 48,
   "id": "6d39958a",
   "metadata": {},
   "outputs": [],
   "source": [
    "# Directories that are use to save generated tables and figures.\n",
    "tables_output_dir = path.join(Path(getcwd()).parent.absolute(), \"report\", \"tables\")\n",
    "figures_output_dir = path.join(Path(getcwd()).parent.absolute(), \"report\", \"figures\")\n",
    "\n",
    "# Are we on Colab?\n",
    "on_colab = 'google.colab' in str(get_ipython())\n",
    "\n",
    "# Configuring sns styles\n",
    "set_errorbar_plot_style()\n",
    "set_heatmap_plot_style()"
   ]
  },
  {
   "cell_type": "code",
   "execution_count": 49,
   "id": "ef004bac",
   "metadata": {},
   "outputs": [],
   "source": [
    "# TODO: remove\n",
    "on_colab = True"
   ]
  },
  {
   "cell_type": "code",
   "execution_count": 50,
   "id": "aae48016",
   "metadata": {},
   "outputs": [],
   "source": [
    "# Columns relevant for this notebook.\n",
    "usecols = [\"model_name\",\n",
    "           \"n_sentence_pool\",\n",
    "           \"ds\",\n",
    "           \"init_coms\",\n",
    "           \"weight_account\", \n",
    "           \"weight_systematicity\",\n",
    "           \"n_fixed_points\",\n",
    "           \"n_global_optima\",\n",
    "           \"error_code\",\n",
    "           \"fixed_points\",\n",
    "           \"global_optima\",\n",
    "           \"fixed_point_coms\",\n",
    "           \"fixed_point_theory\",\n",
    "          ]"
   ]
  },
  {
   "cell_type": "code",
   "execution_count": 51,
   "id": "57615a5d",
   "metadata": {},
   "outputs": [],
   "source": [
    "# Columns that need to be evaluated literally\n",
    "\n",
    "evalcols =[\"x\"] # dummy column to circumvent literal evaluation"
   ]
  },
  {
   "cell_type": "code",
   "execution_count": 52,
   "id": "494f3891",
   "metadata": {},
   "outputs": [],
   "source": [
    "# data_name: one of 'TINY', 'MINI', 'FULL'\n",
    "re_data = re_data_by_name(data_name=\"TINY\", \n",
    "                          usecols = usecols,\n",
    "                          evalcols = evalcols,\n",
    "                          filter_erroneous_runs = True)"
   ]
  },
  {
   "cell_type": "code",
   "execution_count": 53,
   "id": "945bca5d",
   "metadata": {},
   "outputs": [
    {
     "name": "stdout",
     "output_type": "stream",
     "text": [
      "\u001b[1mGeneral information: \u001b[0m\n",
      "   Amount of rows: 12637\n",
      "   Number of dialectical structures: 2\n",
      "   Overall number of initial commitments: 40\n",
      "   Sentence-pools: [6 7]\n",
      "   Models: ['QuadraticGlobalRE' 'LinearGlobalRE' 'QuadraticLocalRE' 'LinearLocalRE']\n",
      "\n",
      "\n"
     ]
    }
   ],
   "source": [
    "print('\\033[1m' + 'General information: ' + '\\033[0m')\n",
    "print(\"   Amount of rows:\" , len(re_data))\n",
    "print('   Number of dialectical structures:', len(re_data['ds'].unique()))\n",
    "print('   Overall number of initial commitments:', len(re_data['init_coms'].unique()))\n",
    "print('   Sentence-pools:' , re_data['n_sentence_pool'].unique())\n",
    "print('   Models:' , re_data['model_name'].unique())\n",
    "print('\\n')"
   ]
  },
  {
   "cell_type": "code",
   "execution_count": 54,
   "id": "b7df3396",
   "metadata": {},
   "outputs": [
    {
     "data": {
      "text/plain": [
       "model_name\n",
       "LinearGlobalRE       1440\n",
       "LinearLocalRE        1440\n",
       "QuadraticGlobalRE    1440\n",
       "QuadraticLocalRE     1440\n",
       "dtype: int64"
      ]
     },
     "execution_count": 54,
     "metadata": {},
     "output_type": "execute_result"
    }
   ],
   "source": [
    "# counting simulation setups\n",
    "re_data_unique_setups = re_data.drop_duplicates([\"model_name\",\n",
    "                                                 \"ds\",\n",
    "                                                 \"n_sentence_pool\",\n",
    "                                                 \"weight_account\", \n",
    "                                                 \"weight_systematicity\", \n",
    "                                                 \"init_coms\"\n",
    "                                                ])\n",
    "\n",
    "re_data_unique_setups.groupby(['model_name']).size()"
   ]
  },
  {
   "cell_type": "code",
   "execution_count": 55,
   "id": "b8ef449b",
   "metadata": {},
   "outputs": [],
   "source": [
    "#coolwarm = ['#6788ee', '#9abbff', '#e26952', '#f7a889']"
   ]
  },
  {
   "cell_type": "markdown",
   "id": "11d62508",
   "metadata": {},
   "source": [
    "## Setup dataframes"
   ]
  },
  {
   "cell_type": "markdown",
   "id": "91c73f5c",
   "metadata": {},
   "source": [
    "If `analyse_branches` is set to `true`, all branches of RE processes are considered for the analysis. \n",
    "This may lead to the multiple counting of a unique fixed point if they are reached on different paths from a simulation setup. The corresponing results are presented under rubric of *process perspective* in the technical report. Otherwise, the subsequent analysis comprises only unique fixed points per simulation setup resulting in what is called *result perspectve* in the technical report."
   ]
  },
  {
   "cell_type": "code",
   "execution_count": 57,
   "id": "bc265f7c",
   "metadata": {},
   "outputs": [],
   "source": [
    "analyse_branches = False"
   ]
  },
  {
   "cell_type": "markdown",
   "id": "7efc86fc",
   "metadata": {},
   "source": [
    "`bootstrap` determines whether bootstrapping is applied to estimate the mean and the standard deviation. `n_resamples` sets the number of resamples use for bootstrapping."
   ]
  },
  {
   "cell_type": "code",
   "execution_count": 58,
   "id": "4e2f020d",
   "metadata": {},
   "outputs": [],
   "source": [
    "bootstrap = True\n",
    "n_resamples = 400"
   ]
  },
  {
   "cell_type": "markdown",
   "id": "518677f8",
   "metadata": {},
   "source": [
    "### Dataframe for global optima"
   ]
  },
  {
   "cell_type": "code",
   "execution_count": 59,
   "id": "415b4013",
   "metadata": {},
   "outputs": [],
   "source": [
    "# restrict to relevant columns\n",
    "go_data = re_data_unique_setups[[\"model_name\",\n",
    "                                 \"ds\",\n",
    "                                 \"n_sentence_pool\",\n",
    "                                 \"init_coms\",\n",
    "                                 \"weight_account\", \n",
    "                                 \"weight_systematicity\",\n",
    "                                 \"global_optima\",\n",
    "                                ]]"
   ]
  },
  {
   "cell_type": "code",
   "execution_count": 60,
   "id": "f35b3069",
   "metadata": {},
   "outputs": [
    {
     "name": "stderr",
     "output_type": "stream",
     "text": [
      "C:\\Users\\afrei\\AppData\\Local\\Temp/ipykernel_5804/359487206.py:3: SettingWithCopyWarning: \n",
      "A value is trying to be set on a copy of a slice from a DataFrame.\n",
      "Try using .loc[row_indexer,col_indexer] = value instead\n",
      "\n",
      "See the caveats in the documentation: https://pandas.pydata.org/pandas-docs/stable/user_guide/indexing.html#returning-a-view-versus-a-copy\n",
      "  go_data[\"go_theory_len\"] = go_data[\"global_optima\"].apply(get_lengths, pos_type=\"theory\")\n",
      "C:\\Users\\afrei\\AppData\\Local\\Temp/ipykernel_5804/359487206.py:4: SettingWithCopyWarning: \n",
      "A value is trying to be set on a copy of a slice from a DataFrame.\n",
      "Try using .loc[row_indexer,col_indexer] = value instead\n",
      "\n",
      "See the caveats in the documentation: https://pandas.pydata.org/pandas-docs/stable/user_guide/indexing.html#returning-a-view-versus-a-copy\n",
      "  go_data[\"go_coms_len\"] = go_data[\"global_optima\"].apply(get_lengths, pos_type=\"commitments\")\n"
     ]
    }
   ],
   "source": [
    "# add lengths of global optima theories and commitments\n",
    "\n",
    "go_data[\"go_theory_len\"] = go_data[\"global_optima\"].apply(get_lengths, pos_type=\"theory\")\n",
    "go_data[\"go_coms_len\"] = go_data[\"global_optima\"].apply(get_lengths, pos_type=\"commitments\")"
   ]
  },
  {
   "cell_type": "code",
   "execution_count": 30,
   "id": "97e1f162",
   "metadata": {},
   "outputs": [
    {
     "data": {
      "text/plain": [
       "(16476, 8)"
      ]
     },
     "execution_count": 30,
     "metadata": {},
     "output_type": "execute_result"
    }
   ],
   "source": [
    "# explode information about global optima, which is stored rowwise (per simulation setup) \n",
    "# in lists (e.g. in the column `go_full_re_state`)\n",
    "exploded_go_data = go_data.set_index([\"model_name\",\n",
    "                                      \"ds\",\n",
    "                                      \"n_sentence_pool\",\n",
    "                                      \"init_coms\",\n",
    "                                      \"weight_account\", \n",
    "                                      \"weight_systematicity\",\n",
    "                                     ]).apply(pd.Series.explode).reset_index()\n",
    "\n",
    "exploded_go_data.shape"
   ]
  },
  {
   "cell_type": "code",
   "execution_count": 31,
   "id": "c4ea6323",
   "metadata": {},
   "outputs": [],
   "source": [
    "# We restrict some graphics to two models variants for global optima \n",
    "# graphics in order to avoid (almost) redundant results.\n",
    "\n",
    "go_models = [\"LinearGlobalRE\", \"QuadraticGlobalRE\"]"
   ]
  },
  {
   "cell_type": "markdown",
   "id": "4f167bc1",
   "metadata": {},
   "source": [
    "### Dataframe for fixed points"
   ]
  },
  {
   "cell_type": "code",
   "execution_count": 32,
   "id": "e6ff659e",
   "metadata": {},
   "outputs": [
    {
     "name": "stderr",
     "output_type": "stream",
     "text": [
      "C:\\Users\\afrei\\AppData\\Local\\Temp/ipykernel_5804/1672763951.py:18: SettingWithCopyWarning: \n",
      "A value is trying to be set on a copy of a slice from a DataFrame.\n",
      "Try using .loc[row_indexer,col_indexer] = value instead\n",
      "\n",
      "See the caveats in the documentation: https://pandas.pydata.org/pandas-docs/stable/user_guide/indexing.html#returning-a-view-versus-a-copy\n",
      "  exploded_fp_data[\"fp_theory_len\"] =  exploded_fp_data['fixed_point_theory'].apply(get_length)\n",
      "C:\\Users\\afrei\\AppData\\Local\\Temp/ipykernel_5804/1672763951.py:19: SettingWithCopyWarning: \n",
      "A value is trying to be set on a copy of a slice from a DataFrame.\n",
      "Try using .loc[row_indexer,col_indexer] = value instead\n",
      "\n",
      "See the caveats in the documentation: https://pandas.pydata.org/pandas-docs/stable/user_guide/indexing.html#returning-a-view-versus-a-copy\n",
      "  exploded_fp_data[\"fp_coms_len\"] =  exploded_fp_data['fixed_point_coms'].apply(get_length)\n"
     ]
    },
    {
     "data": {
      "text/plain": [
       "(12637, 10)"
      ]
     },
     "execution_count": 32,
     "metadata": {},
     "output_type": "execute_result"
    }
   ],
   "source": [
    "if analyse_branches:\n",
    "    \n",
    "    # use all rows and restrict to relevant columns\n",
    "    fp_data = re_data[[\"model_name\",\n",
    "                       \"ds\",\n",
    "                       'n_sentence_pool',\n",
    "                       \"init_coms\",\n",
    "                       \"weight_account\", \n",
    "                       \"weight_systematicity\", \n",
    "                       'fixed_point_theory',\n",
    "                       'fixed_point_coms']]\n",
    "    \n",
    "    # rename fixed point columns \n",
    "    # note: df is already exploded\n",
    "    exploded_fp_data = fp_data #.rename(columns={'fixed_point': \"fixed_points\",})\n",
    "    \n",
    "    # add lengths of fixed points theories and commitments\n",
    "    exploded_fp_data[\"fp_theory_len\"] =  exploded_fp_data['fixed_point_theory'].apply(get_length)\n",
    "    exploded_fp_data[\"fp_coms_len\"] =  exploded_fp_data['fixed_point_coms'].apply(get_length)\n",
    "    \n",
    "else:\n",
    "    \n",
    "    # use unique setups and restrict to relevant columns\n",
    "    fp_data = re_data_unique_setups[[\"model_name\",\n",
    "                                     \"ds\",\n",
    "                                     \"n_sentence_pool\",\n",
    "                                     \"init_coms\",\n",
    "                                     \"weight_account\", \n",
    "                                     \"weight_systematicity\",\n",
    "                                     \"fixed_points\",\n",
    "                                    ]]\n",
    "    \n",
    "    # add lengths of fixed points theories and commitments\n",
    "    fp_data[\"fp_theory_len\"] = fp_data[\"fixed_points\"].apply(get_lengths, pos_type=\"theory\")\n",
    "    fp_data[\"fp_coms_len\"] = fp_data[\"fixed_points\"].apply(get_lengths, pos_type=\"commitments\")\n",
    "    \n",
    "    # remove fixed_points column\n",
    "    fp_data = fp_data[[\"model_name\",\n",
    "                       \"ds\",\n",
    "                       \"n_sentence_pool\",\n",
    "                       \"init_coms\",\n",
    "                       \"weight_account\", \n",
    "                       \"weight_systematicity\",\n",
    "                       'fp_theory_len',\n",
    "                       \"fp_coms_len\"\n",
    "                                    ]]\n",
    "    \n",
    "    # explode information about unique fixed points, which is stored rowwise (per simulation setup) \n",
    "    # in lists (e.g. in the column `fp_full_re_state`) \n",
    "    exploded_fp_data = fp_data.set_index([\"model_name\",\n",
    "                                          \"ds\",\n",
    "                                          \"n_sentence_pool\",\n",
    "                                          \"init_coms\",\n",
    "                                          \"weight_account\", \n",
    "                                          \"weight_systematicity\"]).apply(pd.Series.explode).reset_index()\n",
    "    \n",
    "exploded_fp_data.shape"
   ]
  },
  {
   "cell_type": "code",
   "execution_count": 33,
   "id": "b6cb061a",
   "metadata": {},
   "outputs": [
    {
     "name": "stderr",
     "output_type": "stream",
     "text": [
      "C:\\Users\\afrei\\AppData\\Local\\Temp/ipykernel_5804/3346458934.py:3: SettingWithCopyWarning: \n",
      "A value is trying to be set on a copy of a slice from a DataFrame.\n",
      "Try using .loc[row_indexer,col_indexer] = value instead\n",
      "\n",
      "See the caveats in the documentation: https://pandas.pydata.org/pandas-docs/stable/user_guide/indexing.html#returning-a-view-versus-a-copy\n",
      "  exploded_fp_data[\"fp_trivial\"] = (exploded_fp_data[\"fp_theory_len\"]==1) & (exploded_fp_data[\"fp_coms_len\"]==1)\n"
     ]
    }
   ],
   "source": [
    "# trivial endpoints consist of a singletion theory and a single commitment\n",
    "exploded_go_data[\"go_trivial\"] = (exploded_go_data[\"go_theory_len\"]==1) & (exploded_go_data[\"go_coms_len\"]==1)\n",
    "exploded_fp_data[\"fp_trivial\"] = (exploded_fp_data[\"fp_theory_len\"]==1) & (exploded_fp_data[\"fp_coms_len\"]==1)"
   ]
  },
  {
   "cell_type": "markdown",
   "id": "b755a05f",
   "metadata": {},
   "source": [
    "### Tables"
   ]
  },
  {
   "cell_type": "code",
   "execution_count": 34,
   "id": "dd3210fd",
   "metadata": {},
   "outputs": [
    {
     "data": {
      "text/html": [
       "<div>\n",
       "<style scoped>\n",
       "    .dataframe tbody tr th:only-of-type {\n",
       "        vertical-align: middle;\n",
       "    }\n",
       "\n",
       "    .dataframe tbody tr th {\n",
       "        vertical-align: top;\n",
       "    }\n",
       "\n",
       "    .dataframe thead th {\n",
       "        text-align: right;\n",
       "    }\n",
       "</style>\n",
       "<table border=\"1\" class=\"dataframe\">\n",
       "  <thead>\n",
       "    <tr style=\"text-align: right;\">\n",
       "      <th></th>\n",
       "      <th>Model</th>\n",
       "      <th>Relative share of trivial global optima</th>\n",
       "      <th>Standard deviation GO</th>\n",
       "      <th>Number of trivial global optima</th>\n",
       "      <th>Number of global optima</th>\n",
       "    </tr>\n",
       "  </thead>\n",
       "  <tbody>\n",
       "    <tr>\n",
       "      <th>2</th>\n",
       "      <td>QuadraticGlobalRE</td>\n",
       "      <td>0.0</td>\n",
       "      <td>0.0</td>\n",
       "      <td>0</td>\n",
       "      <td>4200</td>\n",
       "    </tr>\n",
       "    <tr>\n",
       "      <th>0</th>\n",
       "      <td>LinearGlobalRE</td>\n",
       "      <td>0.0</td>\n",
       "      <td>0.0</td>\n",
       "      <td>0</td>\n",
       "      <td>4038</td>\n",
       "    </tr>\n",
       "    <tr>\n",
       "      <th>3</th>\n",
       "      <td>QuadraticLocalRE</td>\n",
       "      <td>0.0</td>\n",
       "      <td>0.0</td>\n",
       "      <td>0</td>\n",
       "      <td>4200</td>\n",
       "    </tr>\n",
       "    <tr>\n",
       "      <th>1</th>\n",
       "      <td>LinearLocalRE</td>\n",
       "      <td>0.0</td>\n",
       "      <td>0.0</td>\n",
       "      <td>0</td>\n",
       "      <td>4038</td>\n",
       "    </tr>\n",
       "  </tbody>\n",
       "</table>\n",
       "</div>"
      ],
      "text/plain": [
       "               Model  Relative share of trivial global optima  \\\n",
       "2  QuadraticGlobalRE                                      0.0   \n",
       "0     LinearGlobalRE                                      0.0   \n",
       "3   QuadraticLocalRE                                      0.0   \n",
       "1      LinearLocalRE                                      0.0   \n",
       "\n",
       "   Standard deviation GO  Number of trivial global optima  \\\n",
       "2                    0.0                                0   \n",
       "0                    0.0                                0   \n",
       "3                    0.0                                0   \n",
       "1                    0.0                                0   \n",
       "\n",
       "   Number of global optima  \n",
       "2                     4200  \n",
       "0                     4038  \n",
       "3                     4200  \n",
       "1                     4038  "
      ]
     },
     "metadata": {},
     "output_type": "display_data"
    },
    {
     "data": {
      "text/html": [
       "<div>\n",
       "<style scoped>\n",
       "    .dataframe tbody tr th:only-of-type {\n",
       "        vertical-align: middle;\n",
       "    }\n",
       "\n",
       "    .dataframe tbody tr th {\n",
       "        vertical-align: top;\n",
       "    }\n",
       "\n",
       "    .dataframe thead th {\n",
       "        text-align: right;\n",
       "    }\n",
       "</style>\n",
       "<table border=\"1\" class=\"dataframe\">\n",
       "  <thead>\n",
       "    <tr style=\"text-align: right;\">\n",
       "      <th></th>\n",
       "      <th>Model</th>\n",
       "      <th>Relative share of trivial fixed points</th>\n",
       "      <th>Standard deviation FP</th>\n",
       "      <th>Number of trivial fixed points</th>\n",
       "      <th>Number of fixed points</th>\n",
       "    </tr>\n",
       "  </thead>\n",
       "  <tbody>\n",
       "    <tr>\n",
       "      <th>2</th>\n",
       "      <td>QuadraticGlobalRE</td>\n",
       "      <td>0.0</td>\n",
       "      <td>0.0</td>\n",
       "      <td>0</td>\n",
       "      <td>2707</td>\n",
       "    </tr>\n",
       "    <tr>\n",
       "      <th>0</th>\n",
       "      <td>LinearGlobalRE</td>\n",
       "      <td>0.0</td>\n",
       "      <td>0.0</td>\n",
       "      <td>0</td>\n",
       "      <td>2387</td>\n",
       "    </tr>\n",
       "    <tr>\n",
       "      <th>3</th>\n",
       "      <td>QuadraticLocalRE</td>\n",
       "      <td>0.0</td>\n",
       "      <td>0.0</td>\n",
       "      <td>0</td>\n",
       "      <td>4264</td>\n",
       "    </tr>\n",
       "    <tr>\n",
       "      <th>1</th>\n",
       "      <td>LinearLocalRE</td>\n",
       "      <td>0.0</td>\n",
       "      <td>0.0</td>\n",
       "      <td>0</td>\n",
       "      <td>3279</td>\n",
       "    </tr>\n",
       "  </tbody>\n",
       "</table>\n",
       "</div>"
      ],
      "text/plain": [
       "               Model  Relative share of trivial fixed points  \\\n",
       "2  QuadraticGlobalRE                                     0.0   \n",
       "0     LinearGlobalRE                                     0.0   \n",
       "3   QuadraticLocalRE                                     0.0   \n",
       "1      LinearLocalRE                                     0.0   \n",
       "\n",
       "   Standard deviation FP  Number of trivial fixed points  \\\n",
       "2                    0.0                               0   \n",
       "0                    0.0                               0   \n",
       "3                    0.0                               0   \n",
       "1                    0.0                               0   \n",
       "\n",
       "   Number of fixed points  \n",
       "2                    2707  \n",
       "0                    2387  \n",
       "3                    4264  \n",
       "1                    3279  "
      ]
     },
     "metadata": {},
     "output_type": "display_data"
    }
   ],
   "source": [
    "# separate tables for go and fp\n",
    "\n",
    "for df, endpoint_type in zip([exploded_go_data, exploded_fp_data], [\"go\", \"fp\"]):\n",
    "    \n",
    "    result_df = None\n",
    "    \n",
    "\n",
    "\n",
    "    result_df = rel_share_of_property(df, \n",
    "                           \"{}_trivial\".format(endpoint_type), \n",
    "                            col_rename = None,\n",
    "                            groupby_cols=['model_name'],\n",
    "                            collapse_branches=False,\n",
    "                            cols_group_branches = ['model_name','ds','init_coms', 'weight_account', 'weight_systematicity'],\n",
    "                            explode_cols=None,\n",
    "                            bootstrap=bootstrap, \n",
    "                            n_resamples=n_resamples)\n",
    "    \n",
    "    result_df.reset_index(inplace=True)\n",
    "    \n",
    "\n",
    "            \n",
    "    # for later use\n",
    "    if endpoint_type == \"go\":\n",
    "        go_result_df = result_df\n",
    "    else:\n",
    "        fp_result_df = result_df\n",
    "    \n",
    "    # sort by model name\n",
    "    result_df['model_name'] = pd.Categorical(result_df['model_name'], [\"QuadraticGlobalRE\", \n",
    "                                                                       \"LinearGlobalRE\", \n",
    "                                                                       \"QuadraticLocalRE\", \n",
    "                                                                       \"LinearLocalRE\"])\n",
    "    result_df.sort_values(\"model_name\", inplace=True)\n",
    "    \n",
    "    \n",
    "    \n",
    "    # Changing col names for readability\n",
    "    cols_for_tables = {'model_name':'Model',\n",
    "                       'sum_fp_trivial': 'Number of trivial fixed points',\n",
    "                       'size_fp_trivial': 'Number of fixed points',\n",
    "                       'rel_fp_trivial': 'Relative share of trivial fixed points',\n",
    "                       'sum_go_trivial': 'Number of trivial global optima',\n",
    "                       'size_go_trivial': 'Number of global optima',\n",
    "                       'rel_go_trivial': 'Relative share of trivial global optima',\n",
    "                       'std_go_trivial': 'Standard deviation GO',\n",
    "                       'std_fp_trivial': 'Standard deviation FP',\n",
    "                  }\n",
    "    renamed_result_df = result_df.rename(columns=cols_for_tables)\n",
    "    \n",
    "    # restrict to most relevant columns\n",
    "    retain_columns = [col for col in renamed_result_df.columns if ((\"size\" not in col) and (\"sum\" not in col))]\n",
    "    \n",
    "    renamed_result_df = renamed_result_df[retain_columns]\n",
    "\n",
    "    display(renamed_result_df)\n",
    "    \n",
    "    # Exporting relevant cols\n",
    "    if not on_colab:\n",
    "        file_name = 'table_trivial_{}_{}.csv'.format(endpoint_type, 'pp' if analyse_branches else 'rp')\n",
    "        renamed_result_df.to_csv(path.join(tables_output_dir, file_name), index=False)"
   ]
  },
  {
   "cell_type": "markdown",
   "id": "9562dd1a",
   "metadata": {},
   "source": [
    "### Results grouped by sentence pool size"
   ]
  },
  {
   "cell_type": "code",
   "execution_count": 35,
   "id": "964c94f7",
   "metadata": {},
   "outputs": [
    {
     "data": {
      "image/png": "[encoded data removed]",
      "text/plain": [
       "<Figure size 648x540 with 1 Axes>"
      ]
     },
     "metadata": {},
     "output_type": "display_data"
    },
    {
     "data": {
      "image/png": "[encoded data removed]",
      "text/plain": [
       "<Figure size 648x540 with 1 Axes>"
      ]
     },
     "metadata": {},
     "output_type": "display_data"
    }
   ],
   "source": [
    "grouping = ['model_name',\n",
    "            'n_sentence_pool',]\n",
    "\n",
    "for df, endpoint_type in zip([exploded_fp_data, exploded_go_data], [\"fp\", \"go\"]):\n",
    "  \n",
    "    endpoint = \"global optima\" if endpoint_type == \"go\" else \"fixed points\"\n",
    "    \n",
    "    result_df = rel_share_of_property(df, \n",
    "                           \"{}_trivial\".format(endpoint_type), \n",
    "                            col_rename = None,\n",
    "                            groupby_cols= grouping,\n",
    "                            collapse_branches=False,\n",
    "                            cols_group_branches = ['model_name','ds','init_coms', 'weight_account', 'weight_systematicity'],\n",
    "                            explode_cols=None,\n",
    "                            bootstrap=bootstrap, \n",
    "                            n_resamples=n_resamples)\n",
    "    \n",
    "    \n",
    "    perspective = \"pp\" if analyse_branches else \"rp\"\n",
    "    \n",
    "    file_name = None\n",
    "    if not on_colab:\n",
    "        file_name = f\"rel_{endpoint_type}_trivial_by_sp_{perspective}\"\n",
    "    \n",
    "    \n",
    "    \n",
    "    plot_multiple_error_bars(result_df.reset_index(), \n",
    "                             var_y = f\"rel_{endpoint_type}_trivial\", \n",
    "                             ylabel = f\"Relative share of trivial {endpoint}\",\n",
    "                             xlabel = \"Sentence pool size\",\n",
    "                             var_std=f\"std_{endpoint_type}_trivial\",\n",
    "                             file_name=file_name,\n",
    "                             output_dir = figures_output_dir)\n",
    "    \n",
    "    plt.show()"
   ]
  },
  {
   "cell_type": "markdown",
   "id": "bf9717cc",
   "metadata": {},
   "source": [
    "### Heatmaps"
   ]
  },
  {
   "cell_type": "code",
   "execution_count": 36,
   "id": "45c0299a",
   "metadata": {},
   "outputs": [
    {
     "data": {
      "image/png": "[encoded data removed]",
      "text/plain": [
       "<Figure size 720x720 with 4 Axes>"
      ]
     },
     "metadata": {},
     "output_type": "display_data"
    },
    {
     "data": {
      "image/png": "[encoded data removed]",
      "text/plain": [
       "<Figure size 720x360 with 2 Axes>"
      ]
     },
     "metadata": {},
     "output_type": "display_data"
    }
   ],
   "source": [
    "for df, endpoint_type in zip([exploded_fp_data, exploded_go_data], [\"fp\", \"go\"]):\n",
    "    \n",
    "    # restrict global optima dataframe to two variants\n",
    "    if endpoint_type==\"go\":\n",
    "        df = df[df[\"model_name\"].isin(go_models)]\n",
    "    \n",
    "    endpoint = \"global optima\" if endpoint_type == \"go\" else \"fixed points\"\n",
    "\n",
    "    heat_maps_by_weights(re_data = df, \n",
    "                     values = \"{}_trivial\".format(endpoint_type), \n",
    "                     #title = \"Relative share of trivial {}\".format(endpoint),\n",
    "                     annot_std = False,\n",
    "                     annot_fmt=\"{:2.2f}\\n\", \n",
    "                     annot_std_fmt = r'$\\pm${:2.3f}',\n",
    "                     vmin=0,\n",
    "                     vmax=1,\n",
    "                     bootstrap=bootstrap,\n",
    "                     n_resamples=n_resamples)\n",
    "    \n",
    "    \n",
    "\n",
    "    branches = \"pp\" if analyse_branches else \"rp\"\n",
    "\n",
    "    if not on_colab:\n",
    "        plt.savefig(path.join(figures_output_dir, 'rel_trivial_{}_{}.png'.format(endpoint_type, branches)), bbox_inches='tight')\n",
    "        plt.savefig(path.join(figures_output_dir, 'rel_trivial_{}_{}.pdf'.format(endpoint_type, branches)), bbox_inches='tight')\n",
    "        \n",
    "    plt.show()"
   ]
  },
  {
   "cell_type": "code",
   "execution_count": null,
   "id": "e7bdbc11",
   "metadata": {},
   "outputs": [],
   "source": []
  }
 ],
 "metadata": {
  "kernelspec": {
   "display_name": "Python 3 (ipykernel)",
   "language": "python",
   "name": "python3"
  },
  "language_info": {
   "codemirror_mode": {
    "name": "ipython",
    "version": 3
   },
   "file_extension": ".py",
   "mimetype": "text/x-python",
   "name": "python",
   "nbconvert_exporter": "python",
   "pygments_lexer": "ipython3",
   "version": "3.9.7"
  }
 },
 "nbformat": 4,
 "nbformat_minor": 5
}
