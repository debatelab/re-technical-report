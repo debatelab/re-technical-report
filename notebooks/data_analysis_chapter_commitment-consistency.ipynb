{
 "cells": [
  {
   "cell_type": "code",
   "execution_count": 84,
   "id": "ae4ad3aa-b0f3-4fac-bd72-605b4c464b33",
   "metadata": {},
   "outputs": [],
   "source": [
    "# importing libraries\n",
    "from os import getcwd, path\n",
    "from pathlib import Path\n",
    "\n",
    "from pandas import Series, DataFrame\n",
    "import pandas as pd\n",
    "import numpy as np\n",
    "from typing import Set, List\n",
    "\n",
    "from data_analysis_helper_fun import *\n"
   ]
  },
  {
   "cell_type": "code",
   "execution_count": 85,
   "id": "504e1dac",
   "metadata": {},
   "outputs": [],
   "source": [
    "from data_analysis_helper_fun import normalized_heat_maps_by_weights"
   ]
  },
  {
   "cell_type": "markdown",
   "id": "e357588d-8d9d-42c6-932c-80acc025ec95",
   "metadata": {},
   "source": [
    "## Loading data"
   ]
  },
  {
   "cell_type": "code",
   "execution_count": 86,
   "id": "c7f42407-b3f7-428f-a1d3-9bec30ccec30",
   "metadata": {},
   "outputs": [],
   "source": [
    " # relative path to data directory\n",
    "data_dir = path.join(Path(getcwd()).parent.absolute(), \"data\")\n",
    "data_set_name = 're_data_20231108_process_results'\n",
    "data_file_name = f'{data_set_name}.csv.tar.gz'\n",
    "re_data = load_re_data(data_dir, data_file_name)\n",
    "\n",
    "# output directory\n",
    "tables_output_dir = path.join(Path(getcwd()).parent.absolute(), \"report\", \"tables\")\n",
    "figures_output_dir = path.join(Path(getcwd()).parent.absolute(), \"report\", \"figures\")"
   ]
  },
  {
   "cell_type": "code",
   "execution_count": 87,
   "id": "5ad8f326-1942-4d6d-b0ef-1038c3b8cbb2",
   "metadata": {},
   "outputs": [
    {
     "name": "stdout",
     "output_type": "stream",
     "text": [
      "\u001b[1mGeneral information: \u001b[0m\n",
      "   Amount of rows: 2047\n",
      "   Number of dialectical structures: 8\n",
      "   Overall number of initial commitments: 20\n",
      "   Sentence-pools: [6 7]\n",
      "   Models: ['StandardGlobalReflectiveEquilibrium'\n",
      " 'StandardGlobalReflectiveEquilibriumLinearG'\n",
      " 'StandardLocalReflectiveEquilibrium'\n",
      " 'StandardLocalReflectiveEquilibriumLinearG']\n",
      "\n",
      "\n"
     ]
    }
   ],
   "source": [
    "print('\\033[1m' + 'General information: ' + '\\033[0m')\n",
    "print(\"   Amount of rows:\" , len(re_data))\n",
    "print('   Number of dialectical structures:', len(re_data['ds'].unique()))\n",
    "print('   Overall number of initial commitments:', len(re_data['init_coms'].unique()))\n",
    "print('   Sentence-pools:' , re_data['n_sentence_pool'].unique())\n",
    "print('   Models:' , re_data['model_name'].unique())\n",
    "print('\\n')"
   ]
  },
  {
   "cell_type": "code",
   "execution_count": 88,
   "id": "543bacdd",
   "metadata": {},
   "outputs": [
    {
     "data": {
      "text/plain": [
       "Index(['model_name', 'ds', 'tau_name', 'n_sentence_pool', 'ds_arg_size',\n",
       "       'ds_infer_dens', 'ds_n_consistent_complete_positions', 'ds_mean_prem',\n",
       "       'ds_variance_prem', 'tau_truths', 'principles', 'account_penalties',\n",
       "       'faithfulness_penalties', 'weight_account', 'weight_systematicity',\n",
       "       'weight_faithfulness', 'init_coms', 'init_coms_size',\n",
       "       'init_coms_n_tau_truths', 'init_coms_n_tau_falsehoods',\n",
       "       'init_coms_n_consistent_complete_positions', 'init_coms_dia_consistent',\n",
       "       'init_coms_closed', 'fixed_point_coms', 'fixed_point_coms_size',\n",
       "       'fixed_point_coms_n_tau_truths', 'fixed_point_coms_n_tau_falsehoods',\n",
       "       'fixed_point_coms_closed', 'fixed_point_coms_consistent',\n",
       "       'fixed_point_coms_n_consistent_complete_positions',\n",
       "       'fixed_point_theory', 'fixed_point_theory_closure',\n",
       "       'init_coms_min_ax_bases', 'n_init_coms_min_ax_base',\n",
       "       'achievements_evolution', 'fixed_point_dia_consistent',\n",
       "       'init_final_coms_simple_hamming', 'init_final_coms_hamming',\n",
       "       'init_final_coms_contradictions', 'init_final_coms_expansions',\n",
       "       'init_final_coms_contractions', 'init_final_coms_identities',\n",
       "       'random_choices', 'n_random_choices', 'coms_evolution',\n",
       "       'theory_evolution', 'process_length', 'n_branches', 'fixed_points',\n",
       "       'n_fixed_points', 'fp_coms_consistent', 'fp_union_consistent',\n",
       "       'fp_account', 'fp_faithfulness', 'fixed_point_is_global_optimum',\n",
       "       'fixed_point_is_re_state', 'fixed_point_is_full_re_state',\n",
       "       'global_optima', 'n_global_optima', 'go_coms_consistent',\n",
       "       'go_union_consistent', 'go_full_re_state', 'go_account',\n",
       "       'go_faithfulness', 're_states', 'n_re_states', 'full_re_states',\n",
       "       'n_full_re_states', 'fixed_point_coms_min_ax_bases',\n",
       "       'n_fixed_point_coms_min_ax_base',\n",
       "       'fixed_point_coms_min_ax_bases_theory',\n",
       "       'n_fixed_point_coms_min_ax_base_theory', 'fixed_point_theory_axioms',\n",
       "       'go_fixed_point', 'fp_full_re_state', 'fp_global_optimum'],\n",
       "      dtype='object')"
      ]
     },
     "execution_count": 88,
     "metadata": {},
     "output_type": "execute_result"
    }
   ],
   "source": [
    "re_data.columns"
   ]
  },
  {
   "cell_type": "markdown",
   "id": "fd59c9c8",
   "metadata": {},
   "source": [
    "## Setup dataframes"
   ]
  },
  {
   "cell_type": "code",
   "execution_count": 121,
   "id": "c4d17c58",
   "metadata": {},
   "outputs": [],
   "source": [
    "\"\"\" \n",
    "If `analyse_branches` is set to `true`, all branches of RE processes are considered for the analysis. \n",
    "This may lead to the multiple counting of a unique fixed point, \n",
    "if they are reached on different paths from a simulation setup.\n",
    "Otherwise, the subsequent analysis comprises only unique fixed points per simulation setups\n",
    "\"\"\"\n",
    "analyse_branches = True\n",
    "\n",
    "\"\"\"\n",
    "To discuss: Should thi always be set to `true`? \n",
    "\n",
    "If `group_results` is set to `true`, the results (relative share of consistency cases) \n",
    "are grouped by simulation setup, and afterwards, their mean is reported. \n",
    "Otherwise, the relative share of consistency cases is reported without grouping beforehand (=> no mean +- SD).\n",
    "\"\"\"\n",
    "group_results = True\n",
    "\n",
    "# Whether resulting tables and figures are exported to the corresponing output directory\"\"\"\n",
    "export_results = False"
   ]
  },
  {
   "cell_type": "code",
   "execution_count": 122,
   "id": "63378b08",
   "metadata": {},
   "outputs": [
    {
     "data": {
      "text/plain": [
       "(2842, 7)"
      ]
     },
     "execution_count": 122,
     "metadata": {},
     "output_type": "execute_result"
    }
   ],
   "source": [
    "# the analysis of global optima is not affected by status of `analyse_branches`\n",
    "\n",
    "# restrict data to unique simulation setups to prevent multiple counting of branches \n",
    "re_data_unique_setups = re_data.drop_duplicates([\"model_name\",\n",
    "                         \"ds\",\n",
    "                         \"n_sentence_pool\",\n",
    "                         'weight_account', \n",
    "                         'weight_systematicity',\n",
    "                         'weight_faithfulness', \n",
    "                         'init_coms'\n",
    "                        ])\n",
    "\n",
    "# restrict to relevant columns\n",
    "go_data = re_data_unique_setups[[\"model_name\",\n",
    "                                 \"ds\",\n",
    "                                 \"init_coms\",\n",
    "                                 \"weight_account\", \n",
    "                                 \"weight_systematicity\", \n",
    "                                 \"init_coms_dia_consistent\", \n",
    "                                 \"go_coms_consistent\"]]\n",
    "\n",
    "# explode information about global optima, which is stored rowwise (per simulation setup) \n",
    "# in lists (e.g. in the column `go_coms_consistent`) \n",
    "exploded_go_data = go_data.set_index([\"model_name\",\n",
    "                                      \"ds\",\n",
    "                                      \"init_coms\",\n",
    "                                      \"weight_account\", \n",
    "                                      \"weight_systematicity\", \n",
    "                                      \"init_coms_dia_consistent\"]).apply(pd.Series.explode).reset_index()\n",
    "\n",
    "exploded_go_data.shape"
   ]
  },
  {
   "cell_type": "code",
   "execution_count": 123,
   "id": "5c84e784",
   "metadata": {},
   "outputs": [
    {
     "data": {
      "text/plain": [
       "(2047, 7)"
      ]
     },
     "execution_count": 123,
     "metadata": {},
     "output_type": "execute_result"
    }
   ],
   "source": [
    "if analyse_branches:\n",
    "    \n",
    "    # use all rows and restrict to relevant columns\n",
    "    fp_data = re_data[[\"model_name\",\n",
    "                       \"ds\",\n",
    "                       \"init_coms\",\n",
    "                       \"weight_account\", \n",
    "                       \"weight_systematicity\", \n",
    "                       \"init_coms_dia_consistent\", \n",
    "                       \"fixed_point_coms_consistent\"]]\n",
    "    \n",
    "    # rename fixed point columns \n",
    "    # note: data is already exploded\n",
    "    exploded_fp_data = fp_data.rename(columns={\"fixed_point_coms_consistent\": \"fp_coms_consistent\",})\n",
    "    \n",
    "    \n",
    "else:\n",
    "    \n",
    "    # use unique setups and restrict to relevant columns\n",
    "    fp_data = re_data_unique_setups[[\"model_name\",\n",
    "                                     \"ds\",\n",
    "                                     \"init_coms\",\n",
    "                                     \"weight_account\", \n",
    "                                     \"weight_systematicity\", \n",
    "                                     \"init_coms_dia_consistent\", \n",
    "                                     \"fp_coms_consistent\"]]\n",
    "    \n",
    "    # explode information about unique fixed points, which is stored rowwise (per simulation setup) \n",
    "    # in lists (e.g. in the column `go_coms_consistent`) \n",
    "    exploded_fp_data = fp_data.set_index([\"model_name\",\n",
    "                                          \"ds\",\n",
    "                                          \"init_coms\",\n",
    "                                          \"weight_account\", \n",
    "                                          \"weight_systematicity\", \n",
    "                                          \"init_coms_dia_consistent\"]).apply(pd.Series.explode).reset_index()\n",
    "    \n",
    "exploded_fp_data.shape"
   ]
  },
  {
   "cell_type": "code",
   "execution_count": 124,
   "id": "b88c9e8a",
   "metadata": {},
   "outputs": [
    {
     "data": {
      "text/plain": [
       "1663"
      ]
     },
     "execution_count": 124,
     "metadata": {},
     "output_type": "execute_result"
    }
   ],
   "source": [
    "# quick check: If `analyse_branches` is false, the length of exploed_fp_data \n",
    "# should be equal to the number of unique fixed points in the dataframe with unique setups\n",
    "re_data_unique_setups[\"n_fixed_points\"].sum()"
   ]
  },
  {
   "cell_type": "markdown",
   "id": "34640205-45f9-4434-86ce-085d3b4bde7d",
   "metadata": {},
   "source": [
    "## Labelling cases"
   ]
  },
  {
   "cell_type": "code",
   "execution_count": 125,
   "id": "a7288f54-73aa-49da-81c8-86da3a274701",
   "metadata": {},
   "outputs": [],
   "source": [
    "# global optima\n",
    "exploded_go_data['go_inconsistency_eliminating_case'] = exploded_go_data.apply(lambda row: (not row['init_coms_dia_consistent']) and row['go_coms_consistent'], axis = 1)\n",
    "exploded_go_data['go_consistency_preserving_case'] = exploded_go_data.apply(lambda row: row['init_coms_dia_consistent'] and row['go_coms_consistent'], axis = 1)\n",
    "exploded_go_data['go_inconsistency_preserving_case'] = exploded_go_data.apply(lambda row: (not row['init_coms_dia_consistent']) and (not row['go_coms_consistent']), axis = 1)\n",
    "exploded_go_data['go_consistency_eliminating_case'] = exploded_go_data.apply(lambda row: row['init_coms_dia_consistent'] and (not row['go_coms_consistent']), axis = 1)"
   ]
  },
  {
   "cell_type": "code",
   "execution_count": 126,
   "id": "f3dc949e",
   "metadata": {},
   "outputs": [
    {
     "data": {
      "text/html": [
       "<div>\n",
       "<style scoped>\n",
       "    .dataframe tbody tr th:only-of-type {\n",
       "        vertical-align: middle;\n",
       "    }\n",
       "\n",
       "    .dataframe tbody tr th {\n",
       "        vertical-align: top;\n",
       "    }\n",
       "\n",
       "    .dataframe thead th {\n",
       "        text-align: right;\n",
       "    }\n",
       "</style>\n",
       "<table border=\"1\" class=\"dataframe\">\n",
       "  <thead>\n",
       "    <tr style=\"text-align: right;\">\n",
       "      <th></th>\n",
       "      <th>go_coms_consistent</th>\n",
       "      <th>go_inconsistency_eliminating_case</th>\n",
       "      <th>go_consistency_preserving_case</th>\n",
       "      <th>go_inconsistency_preserving_case</th>\n",
       "      <th>go_consistency_eliminating_case</th>\n",
       "    </tr>\n",
       "  </thead>\n",
       "  <tbody>\n",
       "    <tr>\n",
       "      <th>0</th>\n",
       "      <td>False</td>\n",
       "      <td>False</td>\n",
       "      <td>False</td>\n",
       "      <td>True</td>\n",
       "      <td>False</td>\n",
       "    </tr>\n",
       "    <tr>\n",
       "      <th>1</th>\n",
       "      <td>False</td>\n",
       "      <td>False</td>\n",
       "      <td>False</td>\n",
       "      <td>True</td>\n",
       "      <td>False</td>\n",
       "    </tr>\n",
       "    <tr>\n",
       "      <th>2</th>\n",
       "      <td>True</td>\n",
       "      <td>False</td>\n",
       "      <td>True</td>\n",
       "      <td>False</td>\n",
       "      <td>False</td>\n",
       "    </tr>\n",
       "    <tr>\n",
       "      <th>3</th>\n",
       "      <td>True</td>\n",
       "      <td>False</td>\n",
       "      <td>True</td>\n",
       "      <td>False</td>\n",
       "      <td>False</td>\n",
       "    </tr>\n",
       "    <tr>\n",
       "      <th>4</th>\n",
       "      <td>False</td>\n",
       "      <td>False</td>\n",
       "      <td>False</td>\n",
       "      <td>True</td>\n",
       "      <td>False</td>\n",
       "    </tr>\n",
       "    <tr>\n",
       "      <th>5</th>\n",
       "      <td>False</td>\n",
       "      <td>False</td>\n",
       "      <td>False</td>\n",
       "      <td>True</td>\n",
       "      <td>False</td>\n",
       "    </tr>\n",
       "  </tbody>\n",
       "</table>\n",
       "</div>"
      ],
      "text/plain": [
       "  go_coms_consistent  go_inconsistency_eliminating_case  \\\n",
       "0              False                              False   \n",
       "1              False                              False   \n",
       "2               True                              False   \n",
       "3               True                              False   \n",
       "4              False                              False   \n",
       "5              False                              False   \n",
       "\n",
       "   go_consistency_preserving_case  go_inconsistency_preserving_case  \\\n",
       "0                           False                              True   \n",
       "1                           False                              True   \n",
       "2                            True                             False   \n",
       "3                            True                             False   \n",
       "4                           False                              True   \n",
       "5                           False                              True   \n",
       "\n",
       "   go_consistency_eliminating_case  \n",
       "0                            False  \n",
       "1                            False  \n",
       "2                            False  \n",
       "3                            False  \n",
       "4                            False  \n",
       "5                            False  "
      ]
     },
     "metadata": {},
     "output_type": "display_data"
    }
   ],
   "source": [
    "display(exploded_go_data.head(6)[[#'global_optima', \n",
    "                                  'go_coms_consistent', \n",
    "                                  'go_inconsistency_eliminating_case',\n",
    "                                  'go_consistency_preserving_case',\n",
    "                                  'go_inconsistency_preserving_case',\n",
    "                                  'go_consistency_eliminating_case'\n",
    "                                 ]])"
   ]
  },
  {
   "cell_type": "code",
   "execution_count": 127,
   "id": "cb4a53b8",
   "metadata": {},
   "outputs": [],
   "source": [
    "# fixed points\n",
    "exploded_fp_data['fp_inconsistency_eliminating_case'] = exploded_fp_data.apply(lambda row: (not row['init_coms_dia_consistent']) and row['fp_coms_consistent'], axis = 1)\n",
    "exploded_fp_data['fp_consistency_preserving_case'] = exploded_fp_data.apply(lambda row: row['init_coms_dia_consistent'] and row['fp_coms_consistent'], axis = 1)\n",
    "exploded_fp_data['fp_inconsistency_preserving_case'] = exploded_fp_data.apply(lambda row: (not row['init_coms_dia_consistent']) and (not row['fp_coms_consistent']), axis = 1)\n",
    "exploded_fp_data['fp_consistency_eliminating_case'] = exploded_fp_data.apply(lambda row: row['init_coms_dia_consistent'] and (not row['fp_coms_consistent']), axis = 1)"
   ]
  },
  {
   "cell_type": "code",
   "execution_count": 128,
   "id": "f0ac22ec",
   "metadata": {},
   "outputs": [
    {
     "data": {
      "text/html": [
       "<div>\n",
       "<style scoped>\n",
       "    .dataframe tbody tr th:only-of-type {\n",
       "        vertical-align: middle;\n",
       "    }\n",
       "\n",
       "    .dataframe tbody tr th {\n",
       "        vertical-align: top;\n",
       "    }\n",
       "\n",
       "    .dataframe thead th {\n",
       "        text-align: right;\n",
       "    }\n",
       "</style>\n",
       "<table border=\"1\" class=\"dataframe\">\n",
       "  <thead>\n",
       "    <tr style=\"text-align: right;\">\n",
       "      <th></th>\n",
       "      <th>fp_coms_consistent</th>\n",
       "      <th>fp_inconsistency_eliminating_case</th>\n",
       "      <th>fp_consistency_preserving_case</th>\n",
       "      <th>fp_inconsistency_preserving_case</th>\n",
       "      <th>fp_consistency_eliminating_case</th>\n",
       "    </tr>\n",
       "  </thead>\n",
       "  <tbody>\n",
       "    <tr>\n",
       "      <th>0</th>\n",
       "      <td>False</td>\n",
       "      <td>False</td>\n",
       "      <td>False</td>\n",
       "      <td>True</td>\n",
       "      <td>False</td>\n",
       "    </tr>\n",
       "    <tr>\n",
       "      <th>1</th>\n",
       "      <td>False</td>\n",
       "      <td>False</td>\n",
       "      <td>False</td>\n",
       "      <td>True</td>\n",
       "      <td>False</td>\n",
       "    </tr>\n",
       "    <tr>\n",
       "      <th>2</th>\n",
       "      <td>True</td>\n",
       "      <td>False</td>\n",
       "      <td>True</td>\n",
       "      <td>False</td>\n",
       "      <td>False</td>\n",
       "    </tr>\n",
       "    <tr>\n",
       "      <th>3</th>\n",
       "      <td>True</td>\n",
       "      <td>False</td>\n",
       "      <td>True</td>\n",
       "      <td>False</td>\n",
       "      <td>False</td>\n",
       "    </tr>\n",
       "    <tr>\n",
       "      <th>4</th>\n",
       "      <td>True</td>\n",
       "      <td>False</td>\n",
       "      <td>True</td>\n",
       "      <td>False</td>\n",
       "      <td>False</td>\n",
       "    </tr>\n",
       "    <tr>\n",
       "      <th>5</th>\n",
       "      <td>True</td>\n",
       "      <td>False</td>\n",
       "      <td>True</td>\n",
       "      <td>False</td>\n",
       "      <td>False</td>\n",
       "    </tr>\n",
       "  </tbody>\n",
       "</table>\n",
       "</div>"
      ],
      "text/plain": [
       "   fp_coms_consistent  fp_inconsistency_eliminating_case  \\\n",
       "0               False                              False   \n",
       "1               False                              False   \n",
       "2                True                              False   \n",
       "3                True                              False   \n",
       "4                True                              False   \n",
       "5                True                              False   \n",
       "\n",
       "   fp_consistency_preserving_case  fp_inconsistency_preserving_case  \\\n",
       "0                           False                              True   \n",
       "1                           False                              True   \n",
       "2                            True                             False   \n",
       "3                            True                             False   \n",
       "4                            True                             False   \n",
       "5                            True                             False   \n",
       "\n",
       "   fp_consistency_eliminating_case  \n",
       "0                            False  \n",
       "1                            False  \n",
       "2                            False  \n",
       "3                            False  \n",
       "4                            False  \n",
       "5                            False  "
      ]
     },
     "metadata": {},
     "output_type": "display_data"
    }
   ],
   "source": [
    "display(exploded_fp_data.head(6)[[#'fixed_point', \n",
    "                                  'fp_coms_consistent', \n",
    "                                  'fp_inconsistency_eliminating_case',\n",
    "                                  'fp_consistency_preserving_case',\n",
    "                                  'fp_inconsistency_preserving_case',\n",
    "                                  'fp_consistency_eliminating_case'\n",
    "                                 ]])"
   ]
  },
  {
   "cell_type": "code",
   "execution_count": 129,
   "id": "8c7eb8d6",
   "metadata": {},
   "outputs": [
    {
     "data": {
      "text/plain": [
       "['model_name', 'ds', 'init_coms', 'weight_account', 'weight_systematicity']"
      ]
     },
     "execution_count": 129,
     "metadata": {},
     "output_type": "execute_result"
    }
   ],
   "source": [
    "# grouping:\n",
    "if group_results:\n",
    "    \n",
    "    # grouping additionally includes `ds` and `init_coms` \n",
    "    # to determine the relative share of cases per simulation setup\n",
    "    \n",
    "    grouping = ['model_name',\n",
    "                'ds',\n",
    "                'init_coms',\n",
    "                'weight_account',\n",
    "                'weight_systematicity']\n",
    "else:\n",
    "    \n",
    "    grouping = ['model_name',\n",
    "                #'ds',\n",
    "                #'init_coms',\n",
    "                'weight_account',\n",
    "                'weight_systematicity']\n",
    "grouping"
   ]
  },
  {
   "cell_type": "code",
   "execution_count": 130,
   "id": "f46fb81e-2505-4c0f-b0f5-e70c3c4f0e73",
   "metadata": {},
   "outputs": [],
   "source": [
    "# count cases in a group\n",
    "go_result_df = exploded_go_data[['model_name',\n",
    "                                 \"ds\",\n",
    "                                 \"init_coms\",\n",
    "                                 'weight_account', \n",
    "                                 'weight_systematicity', \n",
    "                                 'go_coms_consistent', \n",
    "                                 'go_inconsistency_eliminating_case',\n",
    "                                 'go_consistency_preserving_case',\n",
    "                                 'go_inconsistency_preserving_case',\n",
    "                                 'go_consistency_eliminating_case']].groupby(grouping).agg('sum').reset_index()\n",
    "\n",
    "# count total number of global optima in a group\n",
    "go_result_df['n_global_optima'] = go_result_df.apply(lambda x: sum(x[col] for col in ['go_inconsistency_eliminating_case',\n",
    "                                 'go_consistency_preserving_case',\n",
    "                                 'go_inconsistency_preserving_case',\n",
    "                                 'go_consistency_eliminating_case']) , axis=1)\n",
    "\n",
    "#go_result_df.reset_index(inplace=True)"
   ]
  },
  {
   "cell_type": "code",
   "execution_count": 131,
   "id": "83cb54c6",
   "metadata": {},
   "outputs": [
    {
     "data": {
      "text/plain": [
       "(960, 10)"
      ]
     },
     "execution_count": 131,
     "metadata": {},
     "output_type": "execute_result"
    }
   ],
   "source": [
    "go_result_df.shape"
   ]
  },
  {
   "cell_type": "code",
   "execution_count": 132,
   "id": "4c30bdf0",
   "metadata": {},
   "outputs": [
    {
     "data": {
      "text/plain": [
       "2842"
      ]
     },
     "execution_count": 132,
     "metadata": {},
     "output_type": "execute_result"
    }
   ],
   "source": [
    "go_result_df[\"n_global_optima\"].sum()"
   ]
  },
  {
   "cell_type": "code",
   "execution_count": 133,
   "id": "a9d38d7d",
   "metadata": {},
   "outputs": [],
   "source": [
    "# count cases in a group\n",
    "fp_result_df = exploded_fp_data[['model_name',\n",
    "                                 'ds',\n",
    "                                 'init_coms',\n",
    "                                 'weight_account', \n",
    "                                 'weight_systematicity', \n",
    "                                 'fp_coms_consistent', \n",
    "                                 'fp_inconsistency_eliminating_case',\n",
    "                                 'fp_consistency_preserving_case',\n",
    "                                 'fp_inconsistency_preserving_case',\n",
    "                                 'fp_consistency_eliminating_case']].groupby(grouping).agg('sum').reset_index()\n",
    "\n",
    "# count total number of fixe points in a group\n",
    "fp_result_df['n_fixed_points'] = fp_result_df.apply(lambda x: sum(x[col] for col in ['fp_inconsistency_eliminating_case',\n",
    "                                 'fp_consistency_preserving_case',\n",
    "                                 'fp_inconsistency_preserving_case',\n",
    "                                 'fp_consistency_eliminating_case']) , axis=1)\n",
    "\n",
    "#fp_result_df.reset_index(inplace=True)"
   ]
  },
  {
   "cell_type": "code",
   "execution_count": 134,
   "id": "81479b37",
   "metadata": {},
   "outputs": [
    {
     "data": {
      "text/plain": [
       "(960, 11)"
      ]
     },
     "execution_count": 134,
     "metadata": {},
     "output_type": "execute_result"
    }
   ],
   "source": [
    "fp_result_df.shape"
   ]
  },
  {
   "cell_type": "code",
   "execution_count": 135,
   "id": "37cd76f4",
   "metadata": {},
   "outputs": [
    {
     "data": {
      "text/plain": [
       "2047"
      ]
     },
     "execution_count": 135,
     "metadata": {},
     "output_type": "execute_result"
    }
   ],
   "source": [
    "fp_result_df[\"n_fixed_points\"].sum()"
   ]
  },
  {
   "cell_type": "markdown",
   "id": "814b00df",
   "metadata": {},
   "source": [
    "## Tables"
   ]
  },
  {
   "cell_type": "code",
   "execution_count": 136,
   "id": "38e9d12a",
   "metadata": {},
   "outputs": [
    {
     "data": {
      "text/html": [
       "<div>\n",
       "<style scoped>\n",
       "    .dataframe tbody tr th:only-of-type {\n",
       "        vertical-align: middle;\n",
       "    }\n",
       "\n",
       "    .dataframe tbody tr th {\n",
       "        vertical-align: top;\n",
       "    }\n",
       "\n",
       "    .dataframe thead th {\n",
       "        text-align: right;\n",
       "    }\n",
       "</style>\n",
       "<table border=\"1\" class=\"dataframe\">\n",
       "  <thead>\n",
       "    <tr style=\"text-align: right;\">\n",
       "      <th></th>\n",
       "      <th>model_name</th>\n",
       "      <th>ds</th>\n",
       "      <th>init_coms</th>\n",
       "      <th>weight_account</th>\n",
       "      <th>weight_systematicity</th>\n",
       "      <th>fp_coms_consistent</th>\n",
       "      <th>fp_inconsistency_eliminating_case</th>\n",
       "      <th>fp_consistency_preserving_case</th>\n",
       "      <th>fp_inconsistency_preserving_case</th>\n",
       "      <th>fp_consistency_eliminating_case</th>\n",
       "      <th>n_fixed_points</th>\n",
       "    </tr>\n",
       "  </thead>\n",
       "  <tbody>\n",
       "    <tr>\n",
       "      <th>0</th>\n",
       "      <td>StandardGlobalReflectiveEquilibrium</td>\n",
       "      <td>[[-1, -7], [6, 1], [-4, -7], [-5, -1], [3, 1],...</td>\n",
       "      <td>{-3, 4, 5, 7}</td>\n",
       "      <td>0.25</td>\n",
       "      <td>0.25</td>\n",
       "      <td>1</td>\n",
       "      <td>0</td>\n",
       "      <td>1</td>\n",
       "      <td>0</td>\n",
       "      <td>0</td>\n",
       "      <td>1</td>\n",
       "    </tr>\n",
       "    <tr>\n",
       "      <th>1</th>\n",
       "      <td>StandardGlobalReflectiveEquilibrium</td>\n",
       "      <td>[[-1, -7], [6, 1], [-4, -7], [-5, -1], [3, 1],...</td>\n",
       "      <td>{-3, 4, 5, 7}</td>\n",
       "      <td>0.25</td>\n",
       "      <td>0.50</td>\n",
       "      <td>2</td>\n",
       "      <td>0</td>\n",
       "      <td>2</td>\n",
       "      <td>0</td>\n",
       "      <td>0</td>\n",
       "      <td>2</td>\n",
       "    </tr>\n",
       "    <tr>\n",
       "      <th>2</th>\n",
       "      <td>StandardGlobalReflectiveEquilibrium</td>\n",
       "      <td>[[-1, -7], [6, 1], [-4, -7], [-5, -1], [3, 1],...</td>\n",
       "      <td>{-3, 4, 5, 7}</td>\n",
       "      <td>0.50</td>\n",
       "      <td>0.25</td>\n",
       "      <td>1</td>\n",
       "      <td>0</td>\n",
       "      <td>1</td>\n",
       "      <td>0</td>\n",
       "      <td>0</td>\n",
       "      <td>1</td>\n",
       "    </tr>\n",
       "    <tr>\n",
       "      <th>3</th>\n",
       "      <td>StandardGlobalReflectiveEquilibrium</td>\n",
       "      <td>[[-1, -7], [6, 1], [-4, -7], [-5, -1], [3, 1],...</td>\n",
       "      <td>{-7, -3, -1, 6}</td>\n",
       "      <td>0.25</td>\n",
       "      <td>0.25</td>\n",
       "      <td>0</td>\n",
       "      <td>0</td>\n",
       "      <td>0</td>\n",
       "      <td>1</td>\n",
       "      <td>0</td>\n",
       "      <td>1</td>\n",
       "    </tr>\n",
       "    <tr>\n",
       "      <th>4</th>\n",
       "      <td>StandardGlobalReflectiveEquilibrium</td>\n",
       "      <td>[[-1, -7], [6, 1], [-4, -7], [-5, -1], [3, 1],...</td>\n",
       "      <td>{-7, -3, -1, 6}</td>\n",
       "      <td>0.25</td>\n",
       "      <td>0.50</td>\n",
       "      <td>1</td>\n",
       "      <td>1</td>\n",
       "      <td>0</td>\n",
       "      <td>1</td>\n",
       "      <td>0</td>\n",
       "      <td>2</td>\n",
       "    </tr>\n",
       "  </tbody>\n",
       "</table>\n",
       "</div>"
      ],
      "text/plain": [
       "                            model_name  \\\n",
       "0  StandardGlobalReflectiveEquilibrium   \n",
       "1  StandardGlobalReflectiveEquilibrium   \n",
       "2  StandardGlobalReflectiveEquilibrium   \n",
       "3  StandardGlobalReflectiveEquilibrium   \n",
       "4  StandardGlobalReflectiveEquilibrium   \n",
       "\n",
       "                                                  ds        init_coms  \\\n",
       "0  [[-1, -7], [6, 1], [-4, -7], [-5, -1], [3, 1],...    {-3, 4, 5, 7}   \n",
       "1  [[-1, -7], [6, 1], [-4, -7], [-5, -1], [3, 1],...    {-3, 4, 5, 7}   \n",
       "2  [[-1, -7], [6, 1], [-4, -7], [-5, -1], [3, 1],...    {-3, 4, 5, 7}   \n",
       "3  [[-1, -7], [6, 1], [-4, -7], [-5, -1], [3, 1],...  {-7, -3, -1, 6}   \n",
       "4  [[-1, -7], [6, 1], [-4, -7], [-5, -1], [3, 1],...  {-7, -3, -1, 6}   \n",
       "\n",
       "   weight_account  weight_systematicity  fp_coms_consistent  \\\n",
       "0            0.25                  0.25                   1   \n",
       "1            0.25                  0.50                   2   \n",
       "2            0.50                  0.25                   1   \n",
       "3            0.25                  0.25                   0   \n",
       "4            0.25                  0.50                   1   \n",
       "\n",
       "   fp_inconsistency_eliminating_case  fp_consistency_preserving_case  \\\n",
       "0                                  0                               1   \n",
       "1                                  0                               2   \n",
       "2                                  0                               1   \n",
       "3                                  0                               0   \n",
       "4                                  1                               0   \n",
       "\n",
       "   fp_inconsistency_preserving_case  fp_consistency_eliminating_case  \\\n",
       "0                                 0                                0   \n",
       "1                                 0                                0   \n",
       "2                                 0                                0   \n",
       "3                                 1                                0   \n",
       "4                                 1                                0   \n",
       "\n",
       "   n_fixed_points  \n",
       "0               1  \n",
       "1               2  \n",
       "2               1  \n",
       "3               1  \n",
       "4               2  "
      ]
     },
     "execution_count": 136,
     "metadata": {},
     "output_type": "execute_result"
    }
   ],
   "source": [
    "fp_result_df.head()"
   ]
  },
  {
   "cell_type": "markdown",
   "id": "05917872",
   "metadata": {},
   "source": [
    "### XX"
   ]
  },
  {
   "cell_type": "code",
   "execution_count": 137,
   "id": "9e01911f",
   "metadata": {},
   "outputs": [],
   "source": [
    "# relative share of consistency cases\n",
    "\n",
    "for df, endpoint_type in zip([fp_result_df, go_result_df], ['fp', 'go']):\n",
    "    for case_name in [\"inconsistency_eliminating\", \n",
    "                      \"consistency_preserving\", \n",
    "                      \"inconsistency_preserving\", \n",
    "                      \"consistency_eliminating\"]:\n",
    "        \n",
    "        endpoint_name = \"n_global_optima\" if endpoint_type == \"go\" else \"n_fixed_points\"\n",
    "    \n",
    "        relative_share_col_name = 'rel_' + endpoint_type + '_' + case_name + '_case' \n",
    "        \n",
    "        df[relative_share_col_name] = df[endpoint_type + '_' + case_name + '_case']/df[endpoint_name]"
   ]
  },
  {
   "cell_type": "code",
   "execution_count": 105,
   "id": "d5fb6d8b",
   "metadata": {},
   "outputs": [],
   "source": [
    "if group_results:\n",
    "    # group by simulation setup and calculate mean over relative shares of consistency cases\n",
    "    fp_overall_results = fp_result_df.groupby(['model_name',\n",
    "                                               'ds',\n",
    "                                               'init_coms',\n",
    "                                               'weight_account',\n",
    "                                               'weight_systematicity'\n",
    "                                              ])[[\"rel_fp_inconsistency_eliminating_case\",\n",
    "                         \"rel_fp_consistency_preserving_case\",\n",
    "                         \"rel_fp_inconsistency_preserving_case\",\n",
    "                         \"rel_fp_consistency_eliminating_case\"]].mean().reset_index()\n",
    "    \n",
    "    # and then group by model_name only\n",
    "    fp_overall_results = fp_overall_results.groupby(['model_name',\n",
    "                     #'ds',\n",
    "                     #'init_coms',\n",
    "                     #'weight_account',\n",
    "                     #'weight_systematicity'\n",
    "                     ])[[\"rel_fp_inconsistency_eliminating_case\",\n",
    "                         \"rel_fp_consistency_preserving_case\",\n",
    "                         \"rel_fp_inconsistency_preserving_case\",\n",
    "                         \"rel_fp_consistency_eliminating_case\"]].mean().round(2).reset_index()\n",
    "    \n",
    "else:\n",
    "    # directly group by model name and calculate average\n",
    "    fp_overall_results = fp_result_df.groupby(['model_name',\n",
    "                     #'ds',\n",
    "                     #'init_coms',\n",
    "                     #'weight_account',\n",
    "                     #'weight_systematicity'\n",
    "                     ])[[\"rel_fp_inconsistency_eliminating_case\",\n",
    "                         \"rel_fp_consistency_preserving_case\",\n",
    "                         \"rel_fp_inconsistency_preserving_case\",\n",
    "                         \"rel_fp_consistency_eliminating_case\"]].mean().round(2).reset_index()"
   ]
  },
  {
   "cell_type": "code",
   "execution_count": 106,
   "id": "15538284",
   "metadata": {},
   "outputs": [],
   "source": [
    "go_overall_results = go_result_df.groupby(['model_name',\n",
    "                     #'ds',\n",
    "                     #'init_coms',\n",
    "                     #'weight_account',\n",
    "                     #'weight_systematicity'\n",
    "                     ])[[\"rel_go_inconsistency_eliminating_case\",\n",
    "                         \"rel_go_consistency_preserving_case\",\n",
    "                         \"rel_go_inconsistency_preserving_case\",\n",
    "                         \"rel_go_consistency_eliminating_case\"]].mean().round(2).reset_index()"
   ]
  },
  {
   "cell_type": "code",
   "execution_count": 107,
   "id": "47cff17b",
   "metadata": {},
   "outputs": [
    {
     "data": {
      "text/html": [
       "<div>\n",
       "<style scoped>\n",
       "    .dataframe tbody tr th:only-of-type {\n",
       "        vertical-align: middle;\n",
       "    }\n",
       "\n",
       "    .dataframe tbody tr th {\n",
       "        vertical-align: top;\n",
       "    }\n",
       "\n",
       "    .dataframe thead th {\n",
       "        text-align: right;\n",
       "    }\n",
       "</style>\n",
       "<table border=\"1\" class=\"dataframe\">\n",
       "  <thead>\n",
       "    <tr style=\"text-align: right;\">\n",
       "      <th></th>\n",
       "      <th>model_name</th>\n",
       "      <th>rel_go_inconsistency_eliminating_case</th>\n",
       "      <th>rel_go_consistency_preserving_case</th>\n",
       "      <th>rel_go_inconsistency_preserving_case</th>\n",
       "      <th>rel_go_consistency_eliminating_case</th>\n",
       "      <th>rel_fp_inconsistency_eliminating_case</th>\n",
       "      <th>rel_fp_consistency_preserving_case</th>\n",
       "      <th>rel_fp_inconsistency_preserving_case</th>\n",
       "      <th>rel_fp_consistency_eliminating_case</th>\n",
       "    </tr>\n",
       "  </thead>\n",
       "  <tbody>\n",
       "    <tr>\n",
       "      <th>0</th>\n",
       "      <td>StandardGlobalReflectiveEquilibrium</td>\n",
       "      <td>0.24</td>\n",
       "      <td>0.37</td>\n",
       "      <td>0.37</td>\n",
       "      <td>0.02</td>\n",
       "      <td>0.25</td>\n",
       "      <td>0.37</td>\n",
       "      <td>0.36</td>\n",
       "      <td>0.01</td>\n",
       "    </tr>\n",
       "    <tr>\n",
       "      <th>1</th>\n",
       "      <td>StandardGlobalReflectiveEquilibriumLinearG</td>\n",
       "      <td>0.29</td>\n",
       "      <td>0.37</td>\n",
       "      <td>0.32</td>\n",
       "      <td>0.02</td>\n",
       "      <td>0.27</td>\n",
       "      <td>0.38</td>\n",
       "      <td>0.34</td>\n",
       "      <td>0.01</td>\n",
       "    </tr>\n",
       "    <tr>\n",
       "      <th>2</th>\n",
       "      <td>StandardLocalReflectiveEquilibrium</td>\n",
       "      <td>0.24</td>\n",
       "      <td>0.37</td>\n",
       "      <td>0.37</td>\n",
       "      <td>0.02</td>\n",
       "      <td>0.22</td>\n",
       "      <td>0.37</td>\n",
       "      <td>0.40</td>\n",
       "      <td>0.01</td>\n",
       "    </tr>\n",
       "    <tr>\n",
       "      <th>3</th>\n",
       "      <td>StandardLocalReflectiveEquilibriumLinearG</td>\n",
       "      <td>0.29</td>\n",
       "      <td>0.37</td>\n",
       "      <td>0.32</td>\n",
       "      <td>0.02</td>\n",
       "      <td>0.21</td>\n",
       "      <td>0.37</td>\n",
       "      <td>0.40</td>\n",
       "      <td>0.02</td>\n",
       "    </tr>\n",
       "  </tbody>\n",
       "</table>\n",
       "</div>"
      ],
      "text/plain": [
       "                                   model_name  \\\n",
       "0         StandardGlobalReflectiveEquilibrium   \n",
       "1  StandardGlobalReflectiveEquilibriumLinearG   \n",
       "2          StandardLocalReflectiveEquilibrium   \n",
       "3   StandardLocalReflectiveEquilibriumLinearG   \n",
       "\n",
       "   rel_go_inconsistency_eliminating_case  rel_go_consistency_preserving_case  \\\n",
       "0                                   0.24                                0.37   \n",
       "1                                   0.29                                0.37   \n",
       "2                                   0.24                                0.37   \n",
       "3                                   0.29                                0.37   \n",
       "\n",
       "   rel_go_inconsistency_preserving_case  rel_go_consistency_eliminating_case  \\\n",
       "0                                  0.37                                 0.02   \n",
       "1                                  0.32                                 0.02   \n",
       "2                                  0.37                                 0.02   \n",
       "3                                  0.32                                 0.02   \n",
       "\n",
       "   rel_fp_inconsistency_eliminating_case  rel_fp_consistency_preserving_case  \\\n",
       "0                                   0.25                                0.37   \n",
       "1                                   0.27                                0.38   \n",
       "2                                   0.22                                0.37   \n",
       "3                                   0.21                                0.37   \n",
       "\n",
       "   rel_fp_inconsistency_preserving_case  rel_fp_consistency_eliminating_case  \n",
       "0                                  0.36                                 0.01  \n",
       "1                                  0.34                                 0.01  \n",
       "2                                  0.40                                 0.01  \n",
       "3                                  0.40                                 0.02  "
      ]
     },
     "execution_count": 107,
     "metadata": {},
     "output_type": "execute_result"
    }
   ],
   "source": [
    "overall_result_df = go_overall_results.join(fp_overall_results.set_index(\"model_name\"), on=\"model_name\")\n",
    "overall_result_df"
   ]
  },
  {
   "cell_type": "code",
   "execution_count": 108,
   "id": "34c36d17",
   "metadata": {},
   "outputs": [
    {
     "data": {
      "text/html": [
       "<div>\n",
       "<style scoped>\n",
       "    .dataframe tbody tr th:only-of-type {\n",
       "        vertical-align: middle;\n",
       "    }\n",
       "\n",
       "    .dataframe tbody tr th {\n",
       "        vertical-align: top;\n",
       "    }\n",
       "\n",
       "    .dataframe thead th {\n",
       "        text-align: right;\n",
       "    }\n",
       "</style>\n",
       "<table border=\"1\" class=\"dataframe\">\n",
       "  <thead>\n",
       "    <tr style=\"text-align: right;\">\n",
       "      <th></th>\n",
       "      <th>model_name</th>\n",
       "      <th>Relative share of inconsistency eliminating cases among global optima</th>\n",
       "      <th>Relative share of consistency preserving cases among global optima</th>\n",
       "      <th>Relative share of inconsistency preserving cases among global optima</th>\n",
       "      <th>Relative share of consistency eliminating cases among global optima</th>\n",
       "      <th>Relative share of inconsistency eliminating cases among fixed points</th>\n",
       "      <th>Relative share of consistency preserving cases among fixed points</th>\n",
       "      <th>Relative share of inconsistency preserving cases among fixed points</th>\n",
       "      <th>Relative share of consistency eliminating cases among fixed points</th>\n",
       "      <th>Model</th>\n",
       "    </tr>\n",
       "  </thead>\n",
       "  <tbody>\n",
       "    <tr>\n",
       "      <th>0</th>\n",
       "      <td>StandardGlobalReflectiveEquilibrium</td>\n",
       "      <td>0.24</td>\n",
       "      <td>0.37</td>\n",
       "      <td>0.37</td>\n",
       "      <td>0.02</td>\n",
       "      <td>0.25</td>\n",
       "      <td>0.37</td>\n",
       "      <td>0.36</td>\n",
       "      <td>0.01</td>\n",
       "      <td>QuadraticGlobalRE</td>\n",
       "    </tr>\n",
       "    <tr>\n",
       "      <th>1</th>\n",
       "      <td>StandardGlobalReflectiveEquilibriumLinearG</td>\n",
       "      <td>0.29</td>\n",
       "      <td>0.37</td>\n",
       "      <td>0.32</td>\n",
       "      <td>0.02</td>\n",
       "      <td>0.27</td>\n",
       "      <td>0.38</td>\n",
       "      <td>0.34</td>\n",
       "      <td>0.01</td>\n",
       "      <td>LinearGlobalRE</td>\n",
       "    </tr>\n",
       "    <tr>\n",
       "      <th>2</th>\n",
       "      <td>StandardLocalReflectiveEquilibrium</td>\n",
       "      <td>0.24</td>\n",
       "      <td>0.37</td>\n",
       "      <td>0.37</td>\n",
       "      <td>0.02</td>\n",
       "      <td>0.22</td>\n",
       "      <td>0.37</td>\n",
       "      <td>0.40</td>\n",
       "      <td>0.01</td>\n",
       "      <td>QuadraticLocalRE</td>\n",
       "    </tr>\n",
       "    <tr>\n",
       "      <th>3</th>\n",
       "      <td>StandardLocalReflectiveEquilibriumLinearG</td>\n",
       "      <td>0.29</td>\n",
       "      <td>0.37</td>\n",
       "      <td>0.32</td>\n",
       "      <td>0.02</td>\n",
       "      <td>0.21</td>\n",
       "      <td>0.37</td>\n",
       "      <td>0.40</td>\n",
       "      <td>0.02</td>\n",
       "      <td>LinearLocalRE</td>\n",
       "    </tr>\n",
       "  </tbody>\n",
       "</table>\n",
       "</div>"
      ],
      "text/plain": [
       "                                   model_name  \\\n",
       "0         StandardGlobalReflectiveEquilibrium   \n",
       "1  StandardGlobalReflectiveEquilibriumLinearG   \n",
       "2          StandardLocalReflectiveEquilibrium   \n",
       "3   StandardLocalReflectiveEquilibriumLinearG   \n",
       "\n",
       "   Relative share of inconsistency eliminating cases among global optima  \\\n",
       "0                                               0.24                       \n",
       "1                                               0.29                       \n",
       "2                                               0.24                       \n",
       "3                                               0.29                       \n",
       "\n",
       "   Relative share of consistency preserving cases among global optima  \\\n",
       "0                                               0.37                    \n",
       "1                                               0.37                    \n",
       "2                                               0.37                    \n",
       "3                                               0.37                    \n",
       "\n",
       "   Relative share of inconsistency preserving cases among global optima  \\\n",
       "0                                               0.37                      \n",
       "1                                               0.32                      \n",
       "2                                               0.37                      \n",
       "3                                               0.32                      \n",
       "\n",
       "   Relative share of consistency eliminating cases among global optima  \\\n",
       "0                                               0.02                     \n",
       "1                                               0.02                     \n",
       "2                                               0.02                     \n",
       "3                                               0.02                     \n",
       "\n",
       "   Relative share of inconsistency eliminating cases among fixed points  \\\n",
       "0                                               0.25                      \n",
       "1                                               0.27                      \n",
       "2                                               0.22                      \n",
       "3                                               0.21                      \n",
       "\n",
       "   Relative share of consistency preserving cases among fixed points  \\\n",
       "0                                               0.37                   \n",
       "1                                               0.38                   \n",
       "2                                               0.37                   \n",
       "3                                               0.37                   \n",
       "\n",
       "   Relative share of inconsistency preserving cases among fixed points  \\\n",
       "0                                               0.36                     \n",
       "1                                               0.34                     \n",
       "2                                               0.40                     \n",
       "3                                               0.40                     \n",
       "\n",
       "   Relative share of consistency eliminating cases among fixed points  \\\n",
       "0                                               0.01                    \n",
       "1                                               0.01                    \n",
       "2                                               0.01                    \n",
       "3                                               0.02                    \n",
       "\n",
       "               Model  \n",
       "0  QuadraticGlobalRE  \n",
       "1     LinearGlobalRE  \n",
       "2   QuadraticLocalRE  \n",
       "3      LinearLocalRE  "
      ]
     },
     "metadata": {},
     "output_type": "display_data"
    }
   ],
   "source": [
    "# Preparing the dataframe for csv export\n",
    "model_short_names = {'StandardGlobalReflectiveEquilibrium':'QuadraticGlobalRE',\n",
    "                     'StandardLocalReflectiveEquilibrium':'QuadraticLocalRE',\n",
    "                     'StandardGlobalReflectiveEquilibriumLinearG': 'LinearGlobalRE',\n",
    "                     'StandardLocalReflectiveEquilibriumLinearG': 'LinearLocalRE'\n",
    "                    }\n",
    "\n",
    "\n",
    "# Adding model short names\n",
    "overall_result_df['model_short_name'] = overall_result_df['model_name'].map(lambda x: model_short_names[x])\n",
    "\n",
    "# Changing col names for readability\n",
    "cols_for_tables = {'model_short_name':'Model',\n",
    "                   \"rel_go_inconsistency_eliminating_case\": \"Relative share of inconsistency eliminating cases among global optima\",\n",
    "                   \"rel_go_consistency_preserving_case\": \"Relative share of consistency preserving cases among global optima\",\n",
    "                   \"rel_go_inconsistency_preserving_case\": \"Relative share of inconsistency preserving cases among global optima\",\n",
    "                   \"rel_go_consistency_eliminating_case\": \"Relative share of consistency eliminating cases among global optima\",\n",
    "                   \"rel_fp_inconsistency_eliminating_case\": \"Relative share of inconsistency eliminating cases among fixed points\",\n",
    "                   \"rel_fp_consistency_preserving_case\": \"Relative share of consistency preserving cases among fixed points\",\n",
    "                   \"rel_fp_inconsistency_preserving_case\": \"Relative share of inconsistency preserving cases among fixed points\",\n",
    "                   \"rel_fp_consistency_eliminating_case\": \"Relative share of consistency eliminating cases among fixed points\",\n",
    "                  }\n",
    "\n",
    "display(overall_result_df.rename(columns=cols_for_tables))\n",
    "\n",
    "\n",
    "\n",
    "\n",
    "# Exporting relevant cols\n",
    "if export_results:\n",
    "    file_name = 'table_consistency_cases_go_fp_{}.csv'.format('branches' if analyse_branches else 'setups')\n",
    "    overall_result_df[['model_short_name',\n",
    "                       \"rel_go_inconsistency_eliminating_case\",\n",
    "                       \"rel_go_consistency_preserving_case\",\n",
    "                       \"rel_go_inconsistency_preserving_case\",\n",
    "                       \"rel_go_consistency_eliminating_case\",\n",
    "                       \"rel_fp_inconsistency_eliminating_case\",\n",
    "                       \"rel_fp_consistency_preserving_case\",\n",
    "                       \"rel_fp_inconsistency_preserving_case\",\n",
    "                       \"rel_fp_consistency_eliminating_case\"]].rename(columns=cols_for_tables).to_csv(path.join(tables_output_dir, file_name), index=False)"
   ]
  },
  {
   "cell_type": "markdown",
   "id": "b7cf963a",
   "metadata": {},
   "source": [
    "## Plots"
   ]
  },
  {
   "cell_type": "code",
   "execution_count": 109,
   "id": "0d1ca7cb",
   "metadata": {},
   "outputs": [],
   "source": [
    "import plotly.express as px\n",
    "import plotly.graph_objects as go\n",
    "import plotly.io as pio\n",
    "from plotly.subplots import make_subplots"
   ]
  },
  {
   "cell_type": "code",
   "execution_count": 110,
   "id": "70927fc9",
   "metadata": {},
   "outputs": [],
   "source": [
    "# color palette\n",
    "viridis = [\"#472c7a\", \"#2c718e\", \"#29ae80\", \"#b0dd31\"]\n",
    "viridis_light = [\"rgba(71, 44, 122, 0.5)\", \"rgba(44, 113, 142, 0.5)\", \"rgba(41, 174, 128, 0.5)\", \"rgba(176, 221, 49, 0.5)\"]"
   ]
  },
  {
   "cell_type": "code",
   "execution_count": 111,
   "id": "ce13fdd3",
   "metadata": {},
   "outputs": [],
   "source": [
    "\n",
    "model_short_names = {'StandardGlobalReflectiveEquilibrium':'QuadraticGlobalRE',\n",
    "                     'StandardLocalReflectiveEquilibrium':'QuadraticLocalRE',\n",
    "                     'StandardGlobalReflectiveEquilibriumLinearG': 'LinearGlobalRE',\n",
    "                     'StandardLocalReflectiveEquilibriumLinearG': 'LinearLocalRE'\n",
    "                    }\n",
    "\n",
    "\n",
    "# Adding model short names\n",
    "go_overall_results['model_short_name'] = go_overall_results['model_name'].map(lambda x: model_short_names[x])\n",
    "fp_overall_results['model_short_name'] = fp_overall_results['model_name'].map(lambda x: model_short_names[x])"
   ]
  },
  {
   "cell_type": "markdown",
   "id": "25a3ad42",
   "metadata": {},
   "source": [
    "### Barplots"
   ]
  },
  {
   "cell_type": "markdown",
   "id": "059bdada",
   "metadata": {},
   "source": [
    "#### Overall barplots across configuration of weights"
   ]
  },
  {
   "cell_type": "code",
   "execution_count": 112,
   "id": "d9b8acb0",
   "metadata": {},
   "outputs": [],
   "source": [
    "def barplot(data, endpoint_type):\n",
    "    \n",
    "    \n",
    "    y_cols = [\"rel_{}_inconsistency_eliminating_case\".format(endpoint_type),\n",
    "              \"rel_{}_consistency_preserving_case\".format(endpoint_type),\n",
    "              \"rel_{}_inconsistency_preserving_case\".format(endpoint_type),\n",
    "              \"rel_{}_consistency_eliminating_case\".format(endpoint_type)]\n",
    "    \n",
    "    fig3 = px.bar(data, \n",
    "                  x=\"model_short_name\", \n",
    "                  y=y_cols, \n",
    "                  barmode=\"stack\", \n",
    "                  text_auto=True)\n",
    "\n",
    "    fig3.update_yaxes(range=[0.0, 1.0])\n",
    "    fig3.update_traces(name=\"Consistency preserving (CP)\", \n",
    "                       marker_color=viridis[2], \n",
    "                       selector=dict(name='rel_{}_consistency_preserving_case'.format(endpoint_type)))\n",
    "    \n",
    "    fig3.update_traces(name=\"Inconsistency eliminating (IE)\", \n",
    "                       marker_color=viridis[3],\n",
    "                       selector=dict(name='rel_{}_inconsistency_eliminating_case'.format(endpoint_type)))\n",
    "    \n",
    "    fig3.update_traces(name=\"Inconsistency preserving (IP)\",\n",
    "                       marker_color=viridis[1],\n",
    "                       selector=dict(name='rel_{}_inconsistency_preserving_case'.format(endpoint_type)))\n",
    "    \n",
    "    fig3.update_traces(name=\"Consistency eliminating (CE)\",\n",
    "                       marker_color=viridis[0], \n",
    "                       selector=dict(name=\"rel_{}_consistency_eliminating_case\".format(endpoint_type)))\n",
    "\n",
    "    fig3.update_layout(template=\"plotly_white\",\n",
    "                       #paper_bgcolor=\"#e9e8e6\",\n",
    "                       #plot_bgcolor=\"#e9e8e6\",\n",
    "                       font={\"color\": \"black\", \"size\":12},\n",
    "                       width=860,\n",
    "                       margin={\"t\":80}\n",
    "                      )\n",
    "\n",
    "    fig3.update_xaxes(title=\"Model variant\", showticklabels=True, showgrid=False, linecolor= 'DarkGrey')\n",
    "    fig3.update_yaxes(title=\"Relative share\", ticks=\"outside\", tickcolor=\"DarkGrey\", showgrid=False, linecolor='DarkGrey', zeroline=True, zerolinecolor=\"DarkGrey\",\n",
    "                      zerolinewidth=1)\n",
    "    fig3.update_layout(legend_title_text=\"\")\n",
    "    fig3.update_layout(legend={'traceorder':'reversed', \n",
    "                              \"orientation\":\"v\", \"x\":1.0, \"y\":1.025, \"xanchor\":\"left\"})\n",
    "    fig3.update_layout(title_text=\"Mean relative share of consistency cases among {} <br>across all configurations of weights\".format(\"global optima\" if endpoint_type==\"go\" else \"fixed points\"))\n",
    "    fig3.update_traces(opacity=0.8)\n",
    "    fig3.show()\n",
    "\n",
    "\n",
    "\n",
    "    if export_results:\n",
    "        file_name = 'overall_consistency_cases_{}_{}.png'.format(endpoint_type, 'branches' if analyse_branches else 'setups')\n",
    "        fig3.write_image(path.join(figures_output_dir, file_name), scale=2)"
   ]
  },
  {
   "cell_type": "code",
   "execution_count": 113,
   "id": "1c32f663",
   "metadata": {},
   "outputs": [
    {
     "data": {
      "application/vnd.plotly.v1+json": {
       "config": {
        "plotlyServerURL": "https://plot.ly"
       },
       "data": [
        {
         "alignmentgroup": "True",
         "hovertemplate": "variable=rel_go_inconsistency_eliminating_case<br>model_short_name=%{x}<br>value=%{y}<extra></extra>",
         "legendgroup": "rel_go_inconsistency_eliminating_case",
         "marker": {
          "color": "#b0dd31",
          "pattern": {
           "shape": ""
          }
         },
         "name": "Inconsistency eliminating (IE)",
         "offsetgroup": "rel_go_inconsistency_eliminating_case",
         "opacity": 0.8,
         "orientation": "v",
         "showlegend": true,
         "textposition": "auto",
         "texttemplate": "%{y}",
         "type": "bar",
         "x": [
          "QuadraticGlobalRE",
          "LinearGlobalRE",
          "QuadraticLocalRE",
          "LinearLocalRE"
         ],
         "xaxis": "x",
         "y": [
          0.24,
          0.29,
          0.24,
          0.29
         ],
         "yaxis": "y"
        },
        {
         "alignmentgroup": "True",
         "hovertemplate": "variable=rel_go_consistency_preserving_case<br>model_short_name=%{x}<br>value=%{y}<extra></extra>",
         "legendgroup": "rel_go_consistency_preserving_case",
         "marker": {
          "color": "#29ae80",
          "pattern": {
           "shape": ""
          }
         },
         "name": "Consistency preserving (CP)",
         "offsetgroup": "rel_go_consistency_preserving_case",
         "opacity": 0.8,
         "orientation": "v",
         "showlegend": true,
         "textposition": "auto",
         "texttemplate": "%{y}",
         "type": "bar",
         "x": [
          "QuadraticGlobalRE",
          "LinearGlobalRE",
          "QuadraticLocalRE",
          "LinearLocalRE"
         ],
         "xaxis": "x",
         "y": [
          0.37,
          0.37,
          0.37,
          0.37
         ],
         "yaxis": "y"
        },
        {
         "alignmentgroup": "True",
         "hovertemplate": "variable=rel_go_inconsistency_preserving_case<br>model_short_name=%{x}<br>value=%{y}<extra></extra>",
         "legendgroup": "rel_go_inconsistency_preserving_case",
         "marker": {
          "color": "#2c718e",
          "pattern": {
           "shape": ""
          }
         },
         "name": "Inconsistency preserving (IP)",
         "offsetgroup": "rel_go_inconsistency_preserving_case",
         "opacity": 0.8,
         "orientation": "v",
         "showlegend": true,
         "textposition": "auto",
         "texttemplate": "%{y}",
         "type": "bar",
         "x": [
          "QuadraticGlobalRE",
          "LinearGlobalRE",
          "QuadraticLocalRE",
          "LinearLocalRE"
         ],
         "xaxis": "x",
         "y": [
          0.37,
          0.32,
          0.37,
          0.32
         ],
         "yaxis": "y"
        },
        {
         "alignmentgroup": "True",
         "hovertemplate": "variable=rel_go_consistency_eliminating_case<br>model_short_name=%{x}<br>value=%{y}<extra></extra>",
         "legendgroup": "rel_go_consistency_eliminating_case",
         "marker": {
          "color": "#472c7a",
          "pattern": {
           "shape": ""
          }
         },
         "name": "Consistency eliminating (CE)",
         "offsetgroup": "rel_go_consistency_eliminating_case",
         "opacity": 0.8,
         "orientation": "v",
         "showlegend": true,
         "textposition": "auto",
         "texttemplate": "%{y}",
         "type": "bar",
         "x": [
          "QuadraticGlobalRE",
          "LinearGlobalRE",
          "QuadraticLocalRE",
          "LinearLocalRE"
         ],
         "xaxis": "x",
         "y": [
          0.02,
          0.02,
          0.02,
          0.02
         ],
         "yaxis": "y"
        }
       ],
       "layout": {
        "barmode": "stack",
        "font": {
         "color": "black",
         "size": 12
        },
        "legend": {
         "orientation": "v",
         "title": {
          "text": ""
         },
         "tracegroupgap": 0,
         "traceorder": "reversed",
         "x": 1,
         "xanchor": "left",
         "y": 1.025
        },
        "margin": {
         "t": 80
        },
        "template": {
         "data": {
          "bar": [
           {
            "error_x": {
             "color": "#2a3f5f"
            },
            "error_y": {
             "color": "#2a3f5f"
            },
            "marker": {
             "line": {
              "color": "white",
              "width": 0.5
             },
             "pattern": {
              "fillmode": "overlay",
              "size": 10,
              "solidity": 0.2
             }
            },
            "type": "bar"
           }
          ],
          "barpolar": [
           {
            "marker": {
             "line": {
              "color": "white",
              "width": 0.5
             },
             "pattern": {
              "fillmode": "overlay",
              "size": 10,
              "solidity": 0.2
             }
            },
            "type": "barpolar"
           }
          ],
          "carpet": [
           {
            "aaxis": {
             "endlinecolor": "#2a3f5f",
             "gridcolor": "#C8D4E3",
             "linecolor": "#C8D4E3",
             "minorgridcolor": "#C8D4E3",
             "startlinecolor": "#2a3f5f"
            },
            "baxis": {
             "endlinecolor": "#2a3f5f",
             "gridcolor": "#C8D4E3",
             "linecolor": "#C8D4E3",
             "minorgridcolor": "#C8D4E3",
             "startlinecolor": "#2a3f5f"
            },
            "type": "carpet"
           }
          ],
          "choropleth": [
           {
            "colorbar": {
             "outlinewidth": 0,
             "ticks": ""
            },
            "type": "choropleth"
           }
          ],
          "contour": [
           {
            "colorbar": {
             "outlinewidth": 0,
             "ticks": ""
            },
            "colorscale": [
             [
              0,
              "#0d0887"
             ],
             [
              0.1111111111111111,
              "#46039f"
             ],
             [
              0.2222222222222222,
              "#7201a8"
             ],
             [
              0.3333333333333333,
              "#9c179e"
             ],
             [
              0.4444444444444444,
              "#bd3786"
             ],
             [
              0.5555555555555556,
              "#d8576b"
             ],
             [
              0.6666666666666666,
              "#ed7953"
             ],
             [
              0.7777777777777778,
              "#fb9f3a"
             ],
             [
              0.8888888888888888,
              "#fdca26"
             ],
             [
              1,
              "#f0f921"
             ]
            ],
            "type": "contour"
           }
          ],
          "contourcarpet": [
           {
            "colorbar": {
             "outlinewidth": 0,
             "ticks": ""
            },
            "type": "contourcarpet"
           }
          ],
          "heatmap": [
           {
            "colorbar": {
             "outlinewidth": 0,
             "ticks": ""
            },
            "colorscale": [
             [
              0,
              "#0d0887"
             ],
             [
              0.1111111111111111,
              "#46039f"
             ],
             [
              0.2222222222222222,
              "#7201a8"
             ],
             [
              0.3333333333333333,
              "#9c179e"
             ],
             [
              0.4444444444444444,
              "#bd3786"
             ],
             [
              0.5555555555555556,
              "#d8576b"
             ],
             [
              0.6666666666666666,
              "#ed7953"
             ],
             [
              0.7777777777777778,
              "#fb9f3a"
             ],
             [
              0.8888888888888888,
              "#fdca26"
             ],
             [
              1,
              "#f0f921"
             ]
            ],
            "type": "heatmap"
           }
          ],
          "heatmapgl": [
           {
            "colorbar": {
             "outlinewidth": 0,
             "ticks": ""
            },
            "colorscale": [
             [
              0,
              "#0d0887"
             ],
             [
              0.1111111111111111,
              "#46039f"
             ],
             [
              0.2222222222222222,
              "#7201a8"
             ],
             [
              0.3333333333333333,
              "#9c179e"
             ],
             [
              0.4444444444444444,
              "#bd3786"
             ],
             [
              0.5555555555555556,
              "#d8576b"
             ],
             [
              0.6666666666666666,
              "#ed7953"
             ],
             [
              0.7777777777777778,
              "#fb9f3a"
             ],
             [
              0.8888888888888888,
              "#fdca26"
             ],
             [
              1,
              "#f0f921"
             ]
            ],
            "type": "heatmapgl"
           }
          ],
          "histogram": [
           {
            "marker": {
             "pattern": {
              "fillmode": "overlay",
              "size": 10,
              "solidity": 0.2
             }
            },
            "type": "histogram"
           }
          ],
          "histogram2d": [
           {
            "colorbar": {
             "outlinewidth": 0,
             "ticks": ""
            },
            "colorscale": [
             [
              0,
              "#0d0887"
             ],
             [
              0.1111111111111111,
              "#46039f"
             ],
             [
              0.2222222222222222,
              "#7201a8"
             ],
             [
              0.3333333333333333,
              "#9c179e"
             ],
             [
              0.4444444444444444,
              "#bd3786"
             ],
             [
              0.5555555555555556,
              "#d8576b"
             ],
             [
              0.6666666666666666,
              "#ed7953"
             ],
             [
              0.7777777777777778,
              "#fb9f3a"
             ],
             [
              0.8888888888888888,
              "#fdca26"
             ],
             [
              1,
              "#f0f921"
             ]
            ],
            "type": "histogram2d"
           }
          ],
          "histogram2dcontour": [
           {
            "colorbar": {
             "outlinewidth": 0,
             "ticks": ""
            },
            "colorscale": [
             [
              0,
              "#0d0887"
             ],
             [
              0.1111111111111111,
              "#46039f"
             ],
             [
              0.2222222222222222,
              "#7201a8"
             ],
             [
              0.3333333333333333,
              "#9c179e"
             ],
             [
              0.4444444444444444,
              "#bd3786"
             ],
             [
              0.5555555555555556,
              "#d8576b"
             ],
             [
              0.6666666666666666,
              "#ed7953"
             ],
             [
              0.7777777777777778,
              "#fb9f3a"
             ],
             [
              0.8888888888888888,
              "#fdca26"
             ],
             [
              1,
              "#f0f921"
             ]
            ],
            "type": "histogram2dcontour"
           }
          ],
          "mesh3d": [
           {
            "colorbar": {
             "outlinewidth": 0,
             "ticks": ""
            },
            "type": "mesh3d"
           }
          ],
          "parcoords": [
           {
            "line": {
             "colorbar": {
              "outlinewidth": 0,
              "ticks": ""
             }
            },
            "type": "parcoords"
           }
          ],
          "pie": [
           {
            "automargin": true,
            "type": "pie"
           }
          ],
          "scatter": [
           {
            "fillpattern": {
             "fillmode": "overlay",
             "size": 10,
             "solidity": 0.2
            },
            "type": "scatter"
           }
          ],
          "scatter3d": [
           {
            "line": {
             "colorbar": {
              "outlinewidth": 0,
              "ticks": ""
             }
            },
            "marker": {
             "colorbar": {
              "outlinewidth": 0,
              "ticks": ""
             }
            },
            "type": "scatter3d"
           }
          ],
          "scattercarpet": [
           {
            "marker": {
             "colorbar": {
              "outlinewidth": 0,
              "ticks": ""
             }
            },
            "type": "scattercarpet"
           }
          ],
          "scattergeo": [
           {
            "marker": {
             "colorbar": {
              "outlinewidth": 0,
              "ticks": ""
             }
            },
            "type": "scattergeo"
           }
          ],
          "scattergl": [
           {
            "marker": {
             "colorbar": {
              "outlinewidth": 0,
              "ticks": ""
             }
            },
            "type": "scattergl"
           }
          ],
          "scattermapbox": [
           {
            "marker": {
             "colorbar": {
              "outlinewidth": 0,
              "ticks": ""
             }
            },
            "type": "scattermapbox"
           }
          ],
          "scatterpolar": [
           {
            "marker": {
             "colorbar": {
              "outlinewidth": 0,
              "ticks": ""
             }
            },
            "type": "scatterpolar"
           }
          ],
          "scatterpolargl": [
           {
            "marker": {
             "colorbar": {
              "outlinewidth": 0,
              "ticks": ""
             }
            },
            "type": "scatterpolargl"
           }
          ],
          "scatterternary": [
           {
            "marker": {
             "colorbar": {
              "outlinewidth": 0,
              "ticks": ""
             }
            },
            "type": "scatterternary"
           }
          ],
          "surface": [
           {
            "colorbar": {
             "outlinewidth": 0,
             "ticks": ""
            },
            "colorscale": [
             [
              0,
              "#0d0887"
             ],
             [
              0.1111111111111111,
              "#46039f"
             ],
             [
              0.2222222222222222,
              "#7201a8"
             ],
             [
              0.3333333333333333,
              "#9c179e"
             ],
             [
              0.4444444444444444,
              "#bd3786"
             ],
             [
              0.5555555555555556,
              "#d8576b"
             ],
             [
              0.6666666666666666,
              "#ed7953"
             ],
             [
              0.7777777777777778,
              "#fb9f3a"
             ],
             [
              0.8888888888888888,
              "#fdca26"
             ],
             [
              1,
              "#f0f921"
             ]
            ],
            "type": "surface"
           }
          ],
          "table": [
           {
            "cells": {
             "fill": {
              "color": "#EBF0F8"
             },
             "line": {
              "color": "white"
             }
            },
            "header": {
             "fill": {
              "color": "#C8D4E3"
             },
             "line": {
              "color": "white"
             }
            },
            "type": "table"
           }
          ]
         },
         "layout": {
          "annotationdefaults": {
           "arrowcolor": "#2a3f5f",
           "arrowhead": 0,
           "arrowwidth": 1
          },
          "autotypenumbers": "strict",
          "coloraxis": {
           "colorbar": {
            "outlinewidth": 0,
            "ticks": ""
           }
          },
          "colorscale": {
           "diverging": [
            [
             0,
             "#8e0152"
            ],
            [
             0.1,
             "#c51b7d"
            ],
            [
             0.2,
             "#de77ae"
            ],
            [
             0.3,
             "#f1b6da"
            ],
            [
             0.4,
             "#fde0ef"
            ],
            [
             0.5,
             "#f7f7f7"
            ],
            [
             0.6,
             "#e6f5d0"
            ],
            [
             0.7,
             "#b8e186"
            ],
            [
             0.8,
             "#7fbc41"
            ],
            [
             0.9,
             "#4d9221"
            ],
            [
             1,
             "#276419"
            ]
           ],
           "sequential": [
            [
             0,
             "#0d0887"
            ],
            [
             0.1111111111111111,
             "#46039f"
            ],
            [
             0.2222222222222222,
             "#7201a8"
            ],
            [
             0.3333333333333333,
             "#9c179e"
            ],
            [
             0.4444444444444444,
             "#bd3786"
            ],
            [
             0.5555555555555556,
             "#d8576b"
            ],
            [
             0.6666666666666666,
             "#ed7953"
            ],
            [
             0.7777777777777778,
             "#fb9f3a"
            ],
            [
             0.8888888888888888,
             "#fdca26"
            ],
            [
             1,
             "#f0f921"
            ]
           ],
           "sequentialminus": [
            [
             0,
             "#0d0887"
            ],
            [
             0.1111111111111111,
             "#46039f"
            ],
            [
             0.2222222222222222,
             "#7201a8"
            ],
            [
             0.3333333333333333,
             "#9c179e"
            ],
            [
             0.4444444444444444,
             "#bd3786"
            ],
            [
             0.5555555555555556,
             "#d8576b"
            ],
            [
             0.6666666666666666,
             "#ed7953"
            ],
            [
             0.7777777777777778,
             "#fb9f3a"
            ],
            [
             0.8888888888888888,
             "#fdca26"
            ],
            [
             1,
             "#f0f921"
            ]
           ]
          },
          "colorway": [
           "#636efa",
           "#EF553B",
           "#00cc96",
           "#ab63fa",
           "#FFA15A",
           "#19d3f3",
           "#FF6692",
           "#B6E880",
           "#FF97FF",
           "#FECB52"
          ],
          "font": {
           "color": "#2a3f5f"
          },
          "geo": {
           "bgcolor": "white",
           "lakecolor": "white",
           "landcolor": "white",
           "showlakes": true,
           "showland": true,
           "subunitcolor": "#C8D4E3"
          },
          "hoverlabel": {
           "align": "left"
          },
          "hovermode": "closest",
          "mapbox": {
           "style": "light"
          },
          "paper_bgcolor": "white",
          "plot_bgcolor": "white",
          "polar": {
           "angularaxis": {
            "gridcolor": "#EBF0F8",
            "linecolor": "#EBF0F8",
            "ticks": ""
           },
           "bgcolor": "white",
           "radialaxis": {
            "gridcolor": "#EBF0F8",
            "linecolor": "#EBF0F8",
            "ticks": ""
           }
          },
          "scene": {
           "xaxis": {
            "backgroundcolor": "white",
            "gridcolor": "#DFE8F3",
            "gridwidth": 2,
            "linecolor": "#EBF0F8",
            "showbackground": true,
            "ticks": "",
            "zerolinecolor": "#EBF0F8"
           },
           "yaxis": {
            "backgroundcolor": "white",
            "gridcolor": "#DFE8F3",
            "gridwidth": 2,
            "linecolor": "#EBF0F8",
            "showbackground": true,
            "ticks": "",
            "zerolinecolor": "#EBF0F8"
           },
           "zaxis": {
            "backgroundcolor": "white",
            "gridcolor": "#DFE8F3",
            "gridwidth": 2,
            "linecolor": "#EBF0F8",
            "showbackground": true,
            "ticks": "",
            "zerolinecolor": "#EBF0F8"
           }
          },
          "shapedefaults": {
           "line": {
            "color": "#2a3f5f"
           }
          },
          "ternary": {
           "aaxis": {
            "gridcolor": "#DFE8F3",
            "linecolor": "#A2B1C6",
            "ticks": ""
           },
           "baxis": {
            "gridcolor": "#DFE8F3",
            "linecolor": "#A2B1C6",
            "ticks": ""
           },
           "bgcolor": "white",
           "caxis": {
            "gridcolor": "#DFE8F3",
            "linecolor": "#A2B1C6",
            "ticks": ""
           }
          },
          "title": {
           "x": 0.05
          },
          "xaxis": {
           "automargin": true,
           "gridcolor": "#EBF0F8",
           "linecolor": "#EBF0F8",
           "ticks": "",
           "title": {
            "standoff": 15
           },
           "zerolinecolor": "#EBF0F8",
           "zerolinewidth": 2
          },
          "yaxis": {
           "automargin": true,
           "gridcolor": "#EBF0F8",
           "linecolor": "#EBF0F8",
           "ticks": "",
           "title": {
            "standoff": 15
           },
           "zerolinecolor": "#EBF0F8",
           "zerolinewidth": 2
          }
         }
        },
        "title": {
         "text": "Mean relative share of consistency cases among global optima <br>across all configurations of weights"
        },
        "width": 860,
        "xaxis": {
         "anchor": "y",
         "domain": [
          0,
          1
         ],
         "linecolor": "DarkGrey",
         "showgrid": false,
         "showticklabels": true,
         "title": {
          "text": "Model variant"
         }
        },
        "yaxis": {
         "anchor": "x",
         "domain": [
          0,
          1
         ],
         "linecolor": "DarkGrey",
         "range": [
          0,
          1
         ],
         "showgrid": false,
         "tickcolor": "DarkGrey",
         "ticks": "outside",
         "title": {
          "text": "Relative share"
         },
         "zeroline": true,
         "zerolinecolor": "DarkGrey",
         "zerolinewidth": 1
        }
       }
      },
      "text/html": [
       "<div>                            <div id=\"b4a6de0e-25ea-49f7-a6c4-739a27e00702\" class=\"plotly-graph-div\" style=\"height:525px; width:860px;\"></div>            <script type=\"text/javascript\">                require([\"plotly\"], function(Plotly) {                    window.PLOTLYENV=window.PLOTLYENV || {};                                    if (document.getElementById(\"b4a6de0e-25ea-49f7-a6c4-739a27e00702\")) {                    Plotly.newPlot(                        \"b4a6de0e-25ea-49f7-a6c4-739a27e00702\",                        [{\"alignmentgroup\":\"True\",\"hovertemplate\":\"variable=rel_go_inconsistency_eliminating_case<br>model_short_name=%{x}<br>value=%{y}<extra></extra>\",\"legendgroup\":\"rel_go_inconsistency_eliminating_case\",\"marker\":{\"color\":\"#b0dd31\",\"pattern\":{\"shape\":\"\"}},\"name\":\"Inconsistency eliminating (IE)\",\"offsetgroup\":\"rel_go_inconsistency_eliminating_case\",\"orientation\":\"v\",\"showlegend\":true,\"textposition\":\"auto\",\"texttemplate\":\"%{y}\",\"x\":[\"QuadraticGlobalRE\",\"LinearGlobalRE\",\"QuadraticLocalRE\",\"LinearLocalRE\"],\"xaxis\":\"x\",\"y\":[0.24,0.29,0.24,0.29],\"yaxis\":\"y\",\"type\":\"bar\",\"opacity\":0.8},{\"alignmentgroup\":\"True\",\"hovertemplate\":\"variable=rel_go_consistency_preserving_case<br>model_short_name=%{x}<br>value=%{y}<extra></extra>\",\"legendgroup\":\"rel_go_consistency_preserving_case\",\"marker\":{\"color\":\"#29ae80\",\"pattern\":{\"shape\":\"\"}},\"name\":\"Consistency preserving (CP)\",\"offsetgroup\":\"rel_go_consistency_preserving_case\",\"orientation\":\"v\",\"showlegend\":true,\"textposition\":\"auto\",\"texttemplate\":\"%{y}\",\"x\":[\"QuadraticGlobalRE\",\"LinearGlobalRE\",\"QuadraticLocalRE\",\"LinearLocalRE\"],\"xaxis\":\"x\",\"y\":[0.37,0.37,0.37,0.37],\"yaxis\":\"y\",\"type\":\"bar\",\"opacity\":0.8},{\"alignmentgroup\":\"True\",\"hovertemplate\":\"variable=rel_go_inconsistency_preserving_case<br>model_short_name=%{x}<br>value=%{y}<extra></extra>\",\"legendgroup\":\"rel_go_inconsistency_preserving_case\",\"marker\":{\"color\":\"#2c718e\",\"pattern\":{\"shape\":\"\"}},\"name\":\"Inconsistency preserving (IP)\",\"offsetgroup\":\"rel_go_inconsistency_preserving_case\",\"orientation\":\"v\",\"showlegend\":true,\"textposition\":\"auto\",\"texttemplate\":\"%{y}\",\"x\":[\"QuadraticGlobalRE\",\"LinearGlobalRE\",\"QuadraticLocalRE\",\"LinearLocalRE\"],\"xaxis\":\"x\",\"y\":[0.37,0.32,0.37,0.32],\"yaxis\":\"y\",\"type\":\"bar\",\"opacity\":0.8},{\"alignmentgroup\":\"True\",\"hovertemplate\":\"variable=rel_go_consistency_eliminating_case<br>model_short_name=%{x}<br>value=%{y}<extra></extra>\",\"legendgroup\":\"rel_go_consistency_eliminating_case\",\"marker\":{\"color\":\"#472c7a\",\"pattern\":{\"shape\":\"\"}},\"name\":\"Consistency eliminating (CE)\",\"offsetgroup\":\"rel_go_consistency_eliminating_case\",\"orientation\":\"v\",\"showlegend\":true,\"textposition\":\"auto\",\"texttemplate\":\"%{y}\",\"x\":[\"QuadraticGlobalRE\",\"LinearGlobalRE\",\"QuadraticLocalRE\",\"LinearLocalRE\"],\"xaxis\":\"x\",\"y\":[0.02,0.02,0.02,0.02],\"yaxis\":\"y\",\"type\":\"bar\",\"opacity\":0.8}],                        {\"template\":{\"data\":{\"barpolar\":[{\"marker\":{\"line\":{\"color\":\"white\",\"width\":0.5},\"pattern\":{\"fillmode\":\"overlay\",\"size\":10,\"solidity\":0.2}},\"type\":\"barpolar\"}],\"bar\":[{\"error_x\":{\"color\":\"#2a3f5f\"},\"error_y\":{\"color\":\"#2a3f5f\"},\"marker\":{\"line\":{\"color\":\"white\",\"width\":0.5},\"pattern\":{\"fillmode\":\"overlay\",\"size\":10,\"solidity\":0.2}},\"type\":\"bar\"}],\"carpet\":[{\"aaxis\":{\"endlinecolor\":\"#2a3f5f\",\"gridcolor\":\"#C8D4E3\",\"linecolor\":\"#C8D4E3\",\"minorgridcolor\":\"#C8D4E3\",\"startlinecolor\":\"#2a3f5f\"},\"baxis\":{\"endlinecolor\":\"#2a3f5f\",\"gridcolor\":\"#C8D4E3\",\"linecolor\":\"#C8D4E3\",\"minorgridcolor\":\"#C8D4E3\",\"startlinecolor\":\"#2a3f5f\"},\"type\":\"carpet\"}],\"choropleth\":[{\"colorbar\":{\"outlinewidth\":0,\"ticks\":\"\"},\"type\":\"choropleth\"}],\"contourcarpet\":[{\"colorbar\":{\"outlinewidth\":0,\"ticks\":\"\"},\"type\":\"contourcarpet\"}],\"contour\":[{\"colorbar\":{\"outlinewidth\":0,\"ticks\":\"\"},\"colorscale\":[[0.0,\"#0d0887\"],[0.1111111111111111,\"#46039f\"],[0.2222222222222222,\"#7201a8\"],[0.3333333333333333,\"#9c179e\"],[0.4444444444444444,\"#bd3786\"],[0.5555555555555556,\"#d8576b\"],[0.6666666666666666,\"#ed7953\"],[0.7777777777777778,\"#fb9f3a\"],[0.8888888888888888,\"#fdca26\"],[1.0,\"#f0f921\"]],\"type\":\"contour\"}],\"heatmapgl\":[{\"colorbar\":{\"outlinewidth\":0,\"ticks\":\"\"},\"colorscale\":[[0.0,\"#0d0887\"],[0.1111111111111111,\"#46039f\"],[0.2222222222222222,\"#7201a8\"],[0.3333333333333333,\"#9c179e\"],[0.4444444444444444,\"#bd3786\"],[0.5555555555555556,\"#d8576b\"],[0.6666666666666666,\"#ed7953\"],[0.7777777777777778,\"#fb9f3a\"],[0.8888888888888888,\"#fdca26\"],[1.0,\"#f0f921\"]],\"type\":\"heatmapgl\"}],\"heatmap\":[{\"colorbar\":{\"outlinewidth\":0,\"ticks\":\"\"},\"colorscale\":[[0.0,\"#0d0887\"],[0.1111111111111111,\"#46039f\"],[0.2222222222222222,\"#7201a8\"],[0.3333333333333333,\"#9c179e\"],[0.4444444444444444,\"#bd3786\"],[0.5555555555555556,\"#d8576b\"],[0.6666666666666666,\"#ed7953\"],[0.7777777777777778,\"#fb9f3a\"],[0.8888888888888888,\"#fdca26\"],[1.0,\"#f0f921\"]],\"type\":\"heatmap\"}],\"histogram2dcontour\":[{\"colorbar\":{\"outlinewidth\":0,\"ticks\":\"\"},\"colorscale\":[[0.0,\"#0d0887\"],[0.1111111111111111,\"#46039f\"],[0.2222222222222222,\"#7201a8\"],[0.3333333333333333,\"#9c179e\"],[0.4444444444444444,\"#bd3786\"],[0.5555555555555556,\"#d8576b\"],[0.6666666666666666,\"#ed7953\"],[0.7777777777777778,\"#fb9f3a\"],[0.8888888888888888,\"#fdca26\"],[1.0,\"#f0f921\"]],\"type\":\"histogram2dcontour\"}],\"histogram2d\":[{\"colorbar\":{\"outlinewidth\":0,\"ticks\":\"\"},\"colorscale\":[[0.0,\"#0d0887\"],[0.1111111111111111,\"#46039f\"],[0.2222222222222222,\"#7201a8\"],[0.3333333333333333,\"#9c179e\"],[0.4444444444444444,\"#bd3786\"],[0.5555555555555556,\"#d8576b\"],[0.6666666666666666,\"#ed7953\"],[0.7777777777777778,\"#fb9f3a\"],[0.8888888888888888,\"#fdca26\"],[1.0,\"#f0f921\"]],\"type\":\"histogram2d\"}],\"histogram\":[{\"marker\":{\"pattern\":{\"fillmode\":\"overlay\",\"size\":10,\"solidity\":0.2}},\"type\":\"histogram\"}],\"mesh3d\":[{\"colorbar\":{\"outlinewidth\":0,\"ticks\":\"\"},\"type\":\"mesh3d\"}],\"parcoords\":[{\"line\":{\"colorbar\":{\"outlinewidth\":0,\"ticks\":\"\"}},\"type\":\"parcoords\"}],\"pie\":[{\"automargin\":true,\"type\":\"pie\"}],\"scatter3d\":[{\"line\":{\"colorbar\":{\"outlinewidth\":0,\"ticks\":\"\"}},\"marker\":{\"colorbar\":{\"outlinewidth\":0,\"ticks\":\"\"}},\"type\":\"scatter3d\"}],\"scattercarpet\":[{\"marker\":{\"colorbar\":{\"outlinewidth\":0,\"ticks\":\"\"}},\"type\":\"scattercarpet\"}],\"scattergeo\":[{\"marker\":{\"colorbar\":{\"outlinewidth\":0,\"ticks\":\"\"}},\"type\":\"scattergeo\"}],\"scattergl\":[{\"marker\":{\"colorbar\":{\"outlinewidth\":0,\"ticks\":\"\"}},\"type\":\"scattergl\"}],\"scattermapbox\":[{\"marker\":{\"colorbar\":{\"outlinewidth\":0,\"ticks\":\"\"}},\"type\":\"scattermapbox\"}],\"scatterpolargl\":[{\"marker\":{\"colorbar\":{\"outlinewidth\":0,\"ticks\":\"\"}},\"type\":\"scatterpolargl\"}],\"scatterpolar\":[{\"marker\":{\"colorbar\":{\"outlinewidth\":0,\"ticks\":\"\"}},\"type\":\"scatterpolar\"}],\"scatter\":[{\"fillpattern\":{\"fillmode\":\"overlay\",\"size\":10,\"solidity\":0.2},\"type\":\"scatter\"}],\"scatterternary\":[{\"marker\":{\"colorbar\":{\"outlinewidth\":0,\"ticks\":\"\"}},\"type\":\"scatterternary\"}],\"surface\":[{\"colorbar\":{\"outlinewidth\":0,\"ticks\":\"\"},\"colorscale\":[[0.0,\"#0d0887\"],[0.1111111111111111,\"#46039f\"],[0.2222222222222222,\"#7201a8\"],[0.3333333333333333,\"#9c179e\"],[0.4444444444444444,\"#bd3786\"],[0.5555555555555556,\"#d8576b\"],[0.6666666666666666,\"#ed7953\"],[0.7777777777777778,\"#fb9f3a\"],[0.8888888888888888,\"#fdca26\"],[1.0,\"#f0f921\"]],\"type\":\"surface\"}],\"table\":[{\"cells\":{\"fill\":{\"color\":\"#EBF0F8\"},\"line\":{\"color\":\"white\"}},\"header\":{\"fill\":{\"color\":\"#C8D4E3\"},\"line\":{\"color\":\"white\"}},\"type\":\"table\"}]},\"layout\":{\"annotationdefaults\":{\"arrowcolor\":\"#2a3f5f\",\"arrowhead\":0,\"arrowwidth\":1},\"autotypenumbers\":\"strict\",\"coloraxis\":{\"colorbar\":{\"outlinewidth\":0,\"ticks\":\"\"}},\"colorscale\":{\"diverging\":[[0,\"#8e0152\"],[0.1,\"#c51b7d\"],[0.2,\"#de77ae\"],[0.3,\"#f1b6da\"],[0.4,\"#fde0ef\"],[0.5,\"#f7f7f7\"],[0.6,\"#e6f5d0\"],[0.7,\"#b8e186\"],[0.8,\"#7fbc41\"],[0.9,\"#4d9221\"],[1,\"#276419\"]],\"sequential\":[[0.0,\"#0d0887\"],[0.1111111111111111,\"#46039f\"],[0.2222222222222222,\"#7201a8\"],[0.3333333333333333,\"#9c179e\"],[0.4444444444444444,\"#bd3786\"],[0.5555555555555556,\"#d8576b\"],[0.6666666666666666,\"#ed7953\"],[0.7777777777777778,\"#fb9f3a\"],[0.8888888888888888,\"#fdca26\"],[1.0,\"#f0f921\"]],\"sequentialminus\":[[0.0,\"#0d0887\"],[0.1111111111111111,\"#46039f\"],[0.2222222222222222,\"#7201a8\"],[0.3333333333333333,\"#9c179e\"],[0.4444444444444444,\"#bd3786\"],[0.5555555555555556,\"#d8576b\"],[0.6666666666666666,\"#ed7953\"],[0.7777777777777778,\"#fb9f3a\"],[0.8888888888888888,\"#fdca26\"],[1.0,\"#f0f921\"]]},\"colorway\":[\"#636efa\",\"#EF553B\",\"#00cc96\",\"#ab63fa\",\"#FFA15A\",\"#19d3f3\",\"#FF6692\",\"#B6E880\",\"#FF97FF\",\"#FECB52\"],\"font\":{\"color\":\"#2a3f5f\"},\"geo\":{\"bgcolor\":\"white\",\"lakecolor\":\"white\",\"landcolor\":\"white\",\"showlakes\":true,\"showland\":true,\"subunitcolor\":\"#C8D4E3\"},\"hoverlabel\":{\"align\":\"left\"},\"hovermode\":\"closest\",\"mapbox\":{\"style\":\"light\"},\"paper_bgcolor\":\"white\",\"plot_bgcolor\":\"white\",\"polar\":{\"angularaxis\":{\"gridcolor\":\"#EBF0F8\",\"linecolor\":\"#EBF0F8\",\"ticks\":\"\"},\"bgcolor\":\"white\",\"radialaxis\":{\"gridcolor\":\"#EBF0F8\",\"linecolor\":\"#EBF0F8\",\"ticks\":\"\"}},\"scene\":{\"xaxis\":{\"backgroundcolor\":\"white\",\"gridcolor\":\"#DFE8F3\",\"gridwidth\":2,\"linecolor\":\"#EBF0F8\",\"showbackground\":true,\"ticks\":\"\",\"zerolinecolor\":\"#EBF0F8\"},\"yaxis\":{\"backgroundcolor\":\"white\",\"gridcolor\":\"#DFE8F3\",\"gridwidth\":2,\"linecolor\":\"#EBF0F8\",\"showbackground\":true,\"ticks\":\"\",\"zerolinecolor\":\"#EBF0F8\"},\"zaxis\":{\"backgroundcolor\":\"white\",\"gridcolor\":\"#DFE8F3\",\"gridwidth\":2,\"linecolor\":\"#EBF0F8\",\"showbackground\":true,\"ticks\":\"\",\"zerolinecolor\":\"#EBF0F8\"}},\"shapedefaults\":{\"line\":{\"color\":\"#2a3f5f\"}},\"ternary\":{\"aaxis\":{\"gridcolor\":\"#DFE8F3\",\"linecolor\":\"#A2B1C6\",\"ticks\":\"\"},\"baxis\":{\"gridcolor\":\"#DFE8F3\",\"linecolor\":\"#A2B1C6\",\"ticks\":\"\"},\"bgcolor\":\"white\",\"caxis\":{\"gridcolor\":\"#DFE8F3\",\"linecolor\":\"#A2B1C6\",\"ticks\":\"\"}},\"title\":{\"x\":0.05},\"xaxis\":{\"automargin\":true,\"gridcolor\":\"#EBF0F8\",\"linecolor\":\"#EBF0F8\",\"ticks\":\"\",\"title\":{\"standoff\":15},\"zerolinecolor\":\"#EBF0F8\",\"zerolinewidth\":2},\"yaxis\":{\"automargin\":true,\"gridcolor\":\"#EBF0F8\",\"linecolor\":\"#EBF0F8\",\"ticks\":\"\",\"title\":{\"standoff\":15},\"zerolinecolor\":\"#EBF0F8\",\"zerolinewidth\":2}}},\"xaxis\":{\"anchor\":\"y\",\"domain\":[0.0,1.0],\"title\":{\"text\":\"Model variant\"},\"showticklabels\":true,\"showgrid\":false,\"linecolor\":\"DarkGrey\"},\"yaxis\":{\"anchor\":\"x\",\"domain\":[0.0,1.0],\"title\":{\"text\":\"Relative share\"},\"range\":[0.0,1.0],\"ticks\":\"outside\",\"tickcolor\":\"DarkGrey\",\"showgrid\":false,\"linecolor\":\"DarkGrey\",\"zeroline\":true,\"zerolinecolor\":\"DarkGrey\",\"zerolinewidth\":1},\"legend\":{\"title\":{\"text\":\"\"},\"tracegroupgap\":0,\"traceorder\":\"reversed\",\"orientation\":\"v\",\"x\":1.0,\"y\":1.025,\"xanchor\":\"left\"},\"margin\":{\"t\":80},\"barmode\":\"stack\",\"font\":{\"color\":\"black\",\"size\":12},\"width\":860,\"title\":{\"text\":\"Mean relative share of consistency cases among global optima <br>across all configurations of weights\"}},                        {\"responsive\": true}                    ).then(function(){\n",
       "                            \n",
       "var gd = document.getElementById('b4a6de0e-25ea-49f7-a6c4-739a27e00702');\n",
       "var x = new MutationObserver(function (mutations, observer) {{\n",
       "        var display = window.getComputedStyle(gd).display;\n",
       "        if (!display || display === 'none') {{\n",
       "            console.log([gd, 'removed!']);\n",
       "            Plotly.purge(gd);\n",
       "            observer.disconnect();\n",
       "        }}\n",
       "}});\n",
       "\n",
       "// Listen for the removal of the full notebook cells\n",
       "var notebookContainer = gd.closest('#notebook-container');\n",
       "if (notebookContainer) {{\n",
       "    x.observe(notebookContainer, {childList: true});\n",
       "}}\n",
       "\n",
       "// Listen for the clearing of the current output cell\n",
       "var outputEl = gd.closest('.output');\n",
       "if (outputEl) {{\n",
       "    x.observe(outputEl, {childList: true});\n",
       "}}\n",
       "\n",
       "                        })                };                });            </script>        </div>"
      ]
     },
     "metadata": {},
     "output_type": "display_data"
    },
    {
     "data": {
      "application/vnd.plotly.v1+json": {
       "config": {
        "plotlyServerURL": "https://plot.ly"
       },
       "data": [
        {
         "alignmentgroup": "True",
         "hovertemplate": "variable=rel_fp_inconsistency_eliminating_case<br>model_short_name=%{x}<br>value=%{y}<extra></extra>",
         "legendgroup": "rel_fp_inconsistency_eliminating_case",
         "marker": {
          "color": "#b0dd31",
          "pattern": {
           "shape": ""
          }
         },
         "name": "Inconsistency eliminating (IE)",
         "offsetgroup": "rel_fp_inconsistency_eliminating_case",
         "opacity": 0.8,
         "orientation": "v",
         "showlegend": true,
         "textposition": "auto",
         "texttemplate": "%{y}",
         "type": "bar",
         "x": [
          "QuadraticGlobalRE",
          "LinearGlobalRE",
          "QuadraticLocalRE",
          "LinearLocalRE"
         ],
         "xaxis": "x",
         "y": [
          0.25,
          0.27,
          0.22,
          0.21
         ],
         "yaxis": "y"
        },
        {
         "alignmentgroup": "True",
         "hovertemplate": "variable=rel_fp_consistency_preserving_case<br>model_short_name=%{x}<br>value=%{y}<extra></extra>",
         "legendgroup": "rel_fp_consistency_preserving_case",
         "marker": {
          "color": "#29ae80",
          "pattern": {
           "shape": ""
          }
         },
         "name": "Consistency preserving (CP)",
         "offsetgroup": "rel_fp_consistency_preserving_case",
         "opacity": 0.8,
         "orientation": "v",
         "showlegend": true,
         "textposition": "auto",
         "texttemplate": "%{y}",
         "type": "bar",
         "x": [
          "QuadraticGlobalRE",
          "LinearGlobalRE",
          "QuadraticLocalRE",
          "LinearLocalRE"
         ],
         "xaxis": "x",
         "y": [
          0.37,
          0.38,
          0.37,
          0.37
         ],
         "yaxis": "y"
        },
        {
         "alignmentgroup": "True",
         "hovertemplate": "variable=rel_fp_inconsistency_preserving_case<br>model_short_name=%{x}<br>value=%{y}<extra></extra>",
         "legendgroup": "rel_fp_inconsistency_preserving_case",
         "marker": {
          "color": "#2c718e",
          "pattern": {
           "shape": ""
          }
         },
         "name": "Inconsistency preserving (IP)",
         "offsetgroup": "rel_fp_inconsistency_preserving_case",
         "opacity": 0.8,
         "orientation": "v",
         "showlegend": true,
         "textposition": "auto",
         "texttemplate": "%{y}",
         "type": "bar",
         "x": [
          "QuadraticGlobalRE",
          "LinearGlobalRE",
          "QuadraticLocalRE",
          "LinearLocalRE"
         ],
         "xaxis": "x",
         "y": [
          0.36,
          0.34,
          0.4,
          0.4
         ],
         "yaxis": "y"
        },
        {
         "alignmentgroup": "True",
         "hovertemplate": "variable=rel_fp_consistency_eliminating_case<br>model_short_name=%{x}<br>value=%{y}<extra></extra>",
         "legendgroup": "rel_fp_consistency_eliminating_case",
         "marker": {
          "color": "#472c7a",
          "pattern": {
           "shape": ""
          }
         },
         "name": "Consistency eliminating (CE)",
         "offsetgroup": "rel_fp_consistency_eliminating_case",
         "opacity": 0.8,
         "orientation": "v",
         "showlegend": true,
         "textposition": "auto",
         "texttemplate": "%{y}",
         "type": "bar",
         "x": [
          "QuadraticGlobalRE",
          "LinearGlobalRE",
          "QuadraticLocalRE",
          "LinearLocalRE"
         ],
         "xaxis": "x",
         "y": [
          0.01,
          0.01,
          0.01,
          0.02
         ],
         "yaxis": "y"
        }
       ],
       "layout": {
        "barmode": "stack",
        "font": {
         "color": "black",
         "size": 12
        },
        "legend": {
         "orientation": "v",
         "title": {
          "text": ""
         },
         "tracegroupgap": 0,
         "traceorder": "reversed",
         "x": 1,
         "xanchor": "left",
         "y": 1.025
        },
        "margin": {
         "t": 80
        },
        "template": {
         "data": {
          "bar": [
           {
            "error_x": {
             "color": "#2a3f5f"
            },
            "error_y": {
             "color": "#2a3f5f"
            },
            "marker": {
             "line": {
              "color": "white",
              "width": 0.5
             },
             "pattern": {
              "fillmode": "overlay",
              "size": 10,
              "solidity": 0.2
             }
            },
            "type": "bar"
           }
          ],
          "barpolar": [
           {
            "marker": {
             "line": {
              "color": "white",
              "width": 0.5
             },
             "pattern": {
              "fillmode": "overlay",
              "size": 10,
              "solidity": 0.2
             }
            },
            "type": "barpolar"
           }
          ],
          "carpet": [
           {
            "aaxis": {
             "endlinecolor": "#2a3f5f",
             "gridcolor": "#C8D4E3",
             "linecolor": "#C8D4E3",
             "minorgridcolor": "#C8D4E3",
             "startlinecolor": "#2a3f5f"
            },
            "baxis": {
             "endlinecolor": "#2a3f5f",
             "gridcolor": "#C8D4E3",
             "linecolor": "#C8D4E3",
             "minorgridcolor": "#C8D4E3",
             "startlinecolor": "#2a3f5f"
            },
            "type": "carpet"
           }
          ],
          "choropleth": [
           {
            "colorbar": {
             "outlinewidth": 0,
             "ticks": ""
            },
            "type": "choropleth"
           }
          ],
          "contour": [
           {
            "colorbar": {
             "outlinewidth": 0,
             "ticks": ""
            },
            "colorscale": [
             [
              0,
              "#0d0887"
             ],
             [
              0.1111111111111111,
              "#46039f"
             ],
             [
              0.2222222222222222,
              "#7201a8"
             ],
             [
              0.3333333333333333,
              "#9c179e"
             ],
             [
              0.4444444444444444,
              "#bd3786"
             ],
             [
              0.5555555555555556,
              "#d8576b"
             ],
             [
              0.6666666666666666,
              "#ed7953"
             ],
             [
              0.7777777777777778,
              "#fb9f3a"
             ],
             [
              0.8888888888888888,
              "#fdca26"
             ],
             [
              1,
              "#f0f921"
             ]
            ],
            "type": "contour"
           }
          ],
          "contourcarpet": [
           {
            "colorbar": {
             "outlinewidth": 0,
             "ticks": ""
            },
            "type": "contourcarpet"
           }
          ],
          "heatmap": [
           {
            "colorbar": {
             "outlinewidth": 0,
             "ticks": ""
            },
            "colorscale": [
             [
              0,
              "#0d0887"
             ],
             [
              0.1111111111111111,
              "#46039f"
             ],
             [
              0.2222222222222222,
              "#7201a8"
             ],
             [
              0.3333333333333333,
              "#9c179e"
             ],
             [
              0.4444444444444444,
              "#bd3786"
             ],
             [
              0.5555555555555556,
              "#d8576b"
             ],
             [
              0.6666666666666666,
              "#ed7953"
             ],
             [
              0.7777777777777778,
              "#fb9f3a"
             ],
             [
              0.8888888888888888,
              "#fdca26"
             ],
             [
              1,
              "#f0f921"
             ]
            ],
            "type": "heatmap"
           }
          ],
          "heatmapgl": [
           {
            "colorbar": {
             "outlinewidth": 0,
             "ticks": ""
            },
            "colorscale": [
             [
              0,
              "#0d0887"
             ],
             [
              0.1111111111111111,
              "#46039f"
             ],
             [
              0.2222222222222222,
              "#7201a8"
             ],
             [
              0.3333333333333333,
              "#9c179e"
             ],
             [
              0.4444444444444444,
              "#bd3786"
             ],
             [
              0.5555555555555556,
              "#d8576b"
             ],
             [
              0.6666666666666666,
              "#ed7953"
             ],
             [
              0.7777777777777778,
              "#fb9f3a"
             ],
             [
              0.8888888888888888,
              "#fdca26"
             ],
             [
              1,
              "#f0f921"
             ]
            ],
            "type": "heatmapgl"
           }
          ],
          "histogram": [
           {
            "marker": {
             "pattern": {
              "fillmode": "overlay",
              "size": 10,
              "solidity": 0.2
             }
            },
            "type": "histogram"
           }
          ],
          "histogram2d": [
           {
            "colorbar": {
             "outlinewidth": 0,
             "ticks": ""
            },
            "colorscale": [
             [
              0,
              "#0d0887"
             ],
             [
              0.1111111111111111,
              "#46039f"
             ],
             [
              0.2222222222222222,
              "#7201a8"
             ],
             [
              0.3333333333333333,
              "#9c179e"
             ],
             [
              0.4444444444444444,
              "#bd3786"
             ],
             [
              0.5555555555555556,
              "#d8576b"
             ],
             [
              0.6666666666666666,
              "#ed7953"
             ],
             [
              0.7777777777777778,
              "#fb9f3a"
             ],
             [
              0.8888888888888888,
              "#fdca26"
             ],
             [
              1,
              "#f0f921"
             ]
            ],
            "type": "histogram2d"
           }
          ],
          "histogram2dcontour": [
           {
            "colorbar": {
             "outlinewidth": 0,
             "ticks": ""
            },
            "colorscale": [
             [
              0,
              "#0d0887"
             ],
             [
              0.1111111111111111,
              "#46039f"
             ],
             [
              0.2222222222222222,
              "#7201a8"
             ],
             [
              0.3333333333333333,
              "#9c179e"
             ],
             [
              0.4444444444444444,
              "#bd3786"
             ],
             [
              0.5555555555555556,
              "#d8576b"
             ],
             [
              0.6666666666666666,
              "#ed7953"
             ],
             [
              0.7777777777777778,
              "#fb9f3a"
             ],
             [
              0.8888888888888888,
              "#fdca26"
             ],
             [
              1,
              "#f0f921"
             ]
            ],
            "type": "histogram2dcontour"
           }
          ],
          "mesh3d": [
           {
            "colorbar": {
             "outlinewidth": 0,
             "ticks": ""
            },
            "type": "mesh3d"
           }
          ],
          "parcoords": [
           {
            "line": {
             "colorbar": {
              "outlinewidth": 0,
              "ticks": ""
             }
            },
            "type": "parcoords"
           }
          ],
          "pie": [
           {
            "automargin": true,
            "type": "pie"
           }
          ],
          "scatter": [
           {
            "fillpattern": {
             "fillmode": "overlay",
             "size": 10,
             "solidity": 0.2
            },
            "type": "scatter"
           }
          ],
          "scatter3d": [
           {
            "line": {
             "colorbar": {
              "outlinewidth": 0,
              "ticks": ""
             }
            },
            "marker": {
             "colorbar": {
              "outlinewidth": 0,
              "ticks": ""
             }
            },
            "type": "scatter3d"
           }
          ],
          "scattercarpet": [
           {
            "marker": {
             "colorbar": {
              "outlinewidth": 0,
              "ticks": ""
             }
            },
            "type": "scattercarpet"
           }
          ],
          "scattergeo": [
           {
            "marker": {
             "colorbar": {
              "outlinewidth": 0,
              "ticks": ""
             }
            },
            "type": "scattergeo"
           }
          ],
          "scattergl": [
           {
            "marker": {
             "colorbar": {
              "outlinewidth": 0,
              "ticks": ""
             }
            },
            "type": "scattergl"
           }
          ],
          "scattermapbox": [
           {
            "marker": {
             "colorbar": {
              "outlinewidth": 0,
              "ticks": ""
             }
            },
            "type": "scattermapbox"
           }
          ],
          "scatterpolar": [
           {
            "marker": {
             "colorbar": {
              "outlinewidth": 0,
              "ticks": ""
             }
            },
            "type": "scatterpolar"
           }
          ],
          "scatterpolargl": [
           {
            "marker": {
             "colorbar": {
              "outlinewidth": 0,
              "ticks": ""
             }
            },
            "type": "scatterpolargl"
           }
          ],
          "scatterternary": [
           {
            "marker": {
             "colorbar": {
              "outlinewidth": 0,
              "ticks": ""
             }
            },
            "type": "scatterternary"
           }
          ],
          "surface": [
           {
            "colorbar": {
             "outlinewidth": 0,
             "ticks": ""
            },
            "colorscale": [
             [
              0,
              "#0d0887"
             ],
             [
              0.1111111111111111,
              "#46039f"
             ],
             [
              0.2222222222222222,
              "#7201a8"
             ],
             [
              0.3333333333333333,
              "#9c179e"
             ],
             [
              0.4444444444444444,
              "#bd3786"
             ],
             [
              0.5555555555555556,
              "#d8576b"
             ],
             [
              0.6666666666666666,
              "#ed7953"
             ],
             [
              0.7777777777777778,
              "#fb9f3a"
             ],
             [
              0.8888888888888888,
              "#fdca26"
             ],
             [
              1,
              "#f0f921"
             ]
            ],
            "type": "surface"
           }
          ],
          "table": [
           {
            "cells": {
             "fill": {
              "color": "#EBF0F8"
             },
             "line": {
              "color": "white"
             }
            },
            "header": {
             "fill": {
              "color": "#C8D4E3"
             },
             "line": {
              "color": "white"
             }
            },
            "type": "table"
           }
          ]
         },
         "layout": {
          "annotationdefaults": {
           "arrowcolor": "#2a3f5f",
           "arrowhead": 0,
           "arrowwidth": 1
          },
          "autotypenumbers": "strict",
          "coloraxis": {
           "colorbar": {
            "outlinewidth": 0,
            "ticks": ""
           }
          },
          "colorscale": {
           "diverging": [
            [
             0,
             "#8e0152"
            ],
            [
             0.1,
             "#c51b7d"
            ],
            [
             0.2,
             "#de77ae"
            ],
            [
             0.3,
             "#f1b6da"
            ],
            [
             0.4,
             "#fde0ef"
            ],
            [
             0.5,
             "#f7f7f7"
            ],
            [
             0.6,
             "#e6f5d0"
            ],
            [
             0.7,
             "#b8e186"
            ],
            [
             0.8,
             "#7fbc41"
            ],
            [
             0.9,
             "#4d9221"
            ],
            [
             1,
             "#276419"
            ]
           ],
           "sequential": [
            [
             0,
             "#0d0887"
            ],
            [
             0.1111111111111111,
             "#46039f"
            ],
            [
             0.2222222222222222,
             "#7201a8"
            ],
            [
             0.3333333333333333,
             "#9c179e"
            ],
            [
             0.4444444444444444,
             "#bd3786"
            ],
            [
             0.5555555555555556,
             "#d8576b"
            ],
            [
             0.6666666666666666,
             "#ed7953"
            ],
            [
             0.7777777777777778,
             "#fb9f3a"
            ],
            [
             0.8888888888888888,
             "#fdca26"
            ],
            [
             1,
             "#f0f921"
            ]
           ],
           "sequentialminus": [
            [
             0,
             "#0d0887"
            ],
            [
             0.1111111111111111,
             "#46039f"
            ],
            [
             0.2222222222222222,
             "#7201a8"
            ],
            [
             0.3333333333333333,
             "#9c179e"
            ],
            [
             0.4444444444444444,
             "#bd3786"
            ],
            [
             0.5555555555555556,
             "#d8576b"
            ],
            [
             0.6666666666666666,
             "#ed7953"
            ],
            [
             0.7777777777777778,
             "#fb9f3a"
            ],
            [
             0.8888888888888888,
             "#fdca26"
            ],
            [
             1,
             "#f0f921"
            ]
           ]
          },
          "colorway": [
           "#636efa",
           "#EF553B",
           "#00cc96",
           "#ab63fa",
           "#FFA15A",
           "#19d3f3",
           "#FF6692",
           "#B6E880",
           "#FF97FF",
           "#FECB52"
          ],
          "font": {
           "color": "#2a3f5f"
          },
          "geo": {
           "bgcolor": "white",
           "lakecolor": "white",
           "landcolor": "white",
           "showlakes": true,
           "showland": true,
           "subunitcolor": "#C8D4E3"
          },
          "hoverlabel": {
           "align": "left"
          },
          "hovermode": "closest",
          "mapbox": {
           "style": "light"
          },
          "paper_bgcolor": "white",
          "plot_bgcolor": "white",
          "polar": {
           "angularaxis": {
            "gridcolor": "#EBF0F8",
            "linecolor": "#EBF0F8",
            "ticks": ""
           },
           "bgcolor": "white",
           "radialaxis": {
            "gridcolor": "#EBF0F8",
            "linecolor": "#EBF0F8",
            "ticks": ""
           }
          },
          "scene": {
           "xaxis": {
            "backgroundcolor": "white",
            "gridcolor": "#DFE8F3",
            "gridwidth": 2,
            "linecolor": "#EBF0F8",
            "showbackground": true,
            "ticks": "",
            "zerolinecolor": "#EBF0F8"
           },
           "yaxis": {
            "backgroundcolor": "white",
            "gridcolor": "#DFE8F3",
            "gridwidth": 2,
            "linecolor": "#EBF0F8",
            "showbackground": true,
            "ticks": "",
            "zerolinecolor": "#EBF0F8"
           },
           "zaxis": {
            "backgroundcolor": "white",
            "gridcolor": "#DFE8F3",
            "gridwidth": 2,
            "linecolor": "#EBF0F8",
            "showbackground": true,
            "ticks": "",
            "zerolinecolor": "#EBF0F8"
           }
          },
          "shapedefaults": {
           "line": {
            "color": "#2a3f5f"
           }
          },
          "ternary": {
           "aaxis": {
            "gridcolor": "#DFE8F3",
            "linecolor": "#A2B1C6",
            "ticks": ""
           },
           "baxis": {
            "gridcolor": "#DFE8F3",
            "linecolor": "#A2B1C6",
            "ticks": ""
           },
           "bgcolor": "white",
           "caxis": {
            "gridcolor": "#DFE8F3",
            "linecolor": "#A2B1C6",
            "ticks": ""
           }
          },
          "title": {
           "x": 0.05
          },
          "xaxis": {
           "automargin": true,
           "gridcolor": "#EBF0F8",
           "linecolor": "#EBF0F8",
           "ticks": "",
           "title": {
            "standoff": 15
           },
           "zerolinecolor": "#EBF0F8",
           "zerolinewidth": 2
          },
          "yaxis": {
           "automargin": true,
           "gridcolor": "#EBF0F8",
           "linecolor": "#EBF0F8",
           "ticks": "",
           "title": {
            "standoff": 15
           },
           "zerolinecolor": "#EBF0F8",
           "zerolinewidth": 2
          }
         }
        },
        "title": {
         "text": "Mean relative share of consistency cases among fixed points <br>across all configurations of weights"
        },
        "width": 860,
        "xaxis": {
         "anchor": "y",
         "domain": [
          0,
          1
         ],
         "linecolor": "DarkGrey",
         "showgrid": false,
         "showticklabels": true,
         "title": {
          "text": "Model variant"
         }
        },
        "yaxis": {
         "anchor": "x",
         "domain": [
          0,
          1
         ],
         "linecolor": "DarkGrey",
         "range": [
          0,
          1
         ],
         "showgrid": false,
         "tickcolor": "DarkGrey",
         "ticks": "outside",
         "title": {
          "text": "Relative share"
         },
         "zeroline": true,
         "zerolinecolor": "DarkGrey",
         "zerolinewidth": 1
        }
       }
      },
      "text/html": [
       "<div>                            <div id=\"703a01d9-4260-4253-bc75-addc27708115\" class=\"plotly-graph-div\" style=\"height:525px; width:860px;\"></div>            <script type=\"text/javascript\">                require([\"plotly\"], function(Plotly) {                    window.PLOTLYENV=window.PLOTLYENV || {};                                    if (document.getElementById(\"703a01d9-4260-4253-bc75-addc27708115\")) {                    Plotly.newPlot(                        \"703a01d9-4260-4253-bc75-addc27708115\",                        [{\"alignmentgroup\":\"True\",\"hovertemplate\":\"variable=rel_fp_inconsistency_eliminating_case<br>model_short_name=%{x}<br>value=%{y}<extra></extra>\",\"legendgroup\":\"rel_fp_inconsistency_eliminating_case\",\"marker\":{\"color\":\"#b0dd31\",\"pattern\":{\"shape\":\"\"}},\"name\":\"Inconsistency eliminating (IE)\",\"offsetgroup\":\"rel_fp_inconsistency_eliminating_case\",\"orientation\":\"v\",\"showlegend\":true,\"textposition\":\"auto\",\"texttemplate\":\"%{y}\",\"x\":[\"QuadraticGlobalRE\",\"LinearGlobalRE\",\"QuadraticLocalRE\",\"LinearLocalRE\"],\"xaxis\":\"x\",\"y\":[0.25,0.27,0.22,0.21],\"yaxis\":\"y\",\"type\":\"bar\",\"opacity\":0.8},{\"alignmentgroup\":\"True\",\"hovertemplate\":\"variable=rel_fp_consistency_preserving_case<br>model_short_name=%{x}<br>value=%{y}<extra></extra>\",\"legendgroup\":\"rel_fp_consistency_preserving_case\",\"marker\":{\"color\":\"#29ae80\",\"pattern\":{\"shape\":\"\"}},\"name\":\"Consistency preserving (CP)\",\"offsetgroup\":\"rel_fp_consistency_preserving_case\",\"orientation\":\"v\",\"showlegend\":true,\"textposition\":\"auto\",\"texttemplate\":\"%{y}\",\"x\":[\"QuadraticGlobalRE\",\"LinearGlobalRE\",\"QuadraticLocalRE\",\"LinearLocalRE\"],\"xaxis\":\"x\",\"y\":[0.37,0.38,0.37,0.37],\"yaxis\":\"y\",\"type\":\"bar\",\"opacity\":0.8},{\"alignmentgroup\":\"True\",\"hovertemplate\":\"variable=rel_fp_inconsistency_preserving_case<br>model_short_name=%{x}<br>value=%{y}<extra></extra>\",\"legendgroup\":\"rel_fp_inconsistency_preserving_case\",\"marker\":{\"color\":\"#2c718e\",\"pattern\":{\"shape\":\"\"}},\"name\":\"Inconsistency preserving (IP)\",\"offsetgroup\":\"rel_fp_inconsistency_preserving_case\",\"orientation\":\"v\",\"showlegend\":true,\"textposition\":\"auto\",\"texttemplate\":\"%{y}\",\"x\":[\"QuadraticGlobalRE\",\"LinearGlobalRE\",\"QuadraticLocalRE\",\"LinearLocalRE\"],\"xaxis\":\"x\",\"y\":[0.36,0.34,0.4,0.4],\"yaxis\":\"y\",\"type\":\"bar\",\"opacity\":0.8},{\"alignmentgroup\":\"True\",\"hovertemplate\":\"variable=rel_fp_consistency_eliminating_case<br>model_short_name=%{x}<br>value=%{y}<extra></extra>\",\"legendgroup\":\"rel_fp_consistency_eliminating_case\",\"marker\":{\"color\":\"#472c7a\",\"pattern\":{\"shape\":\"\"}},\"name\":\"Consistency eliminating (CE)\",\"offsetgroup\":\"rel_fp_consistency_eliminating_case\",\"orientation\":\"v\",\"showlegend\":true,\"textposition\":\"auto\",\"texttemplate\":\"%{y}\",\"x\":[\"QuadraticGlobalRE\",\"LinearGlobalRE\",\"QuadraticLocalRE\",\"LinearLocalRE\"],\"xaxis\":\"x\",\"y\":[0.01,0.01,0.01,0.02],\"yaxis\":\"y\",\"type\":\"bar\",\"opacity\":0.8}],                        {\"template\":{\"data\":{\"barpolar\":[{\"marker\":{\"line\":{\"color\":\"white\",\"width\":0.5},\"pattern\":{\"fillmode\":\"overlay\",\"size\":10,\"solidity\":0.2}},\"type\":\"barpolar\"}],\"bar\":[{\"error_x\":{\"color\":\"#2a3f5f\"},\"error_y\":{\"color\":\"#2a3f5f\"},\"marker\":{\"line\":{\"color\":\"white\",\"width\":0.5},\"pattern\":{\"fillmode\":\"overlay\",\"size\":10,\"solidity\":0.2}},\"type\":\"bar\"}],\"carpet\":[{\"aaxis\":{\"endlinecolor\":\"#2a3f5f\",\"gridcolor\":\"#C8D4E3\",\"linecolor\":\"#C8D4E3\",\"minorgridcolor\":\"#C8D4E3\",\"startlinecolor\":\"#2a3f5f\"},\"baxis\":{\"endlinecolor\":\"#2a3f5f\",\"gridcolor\":\"#C8D4E3\",\"linecolor\":\"#C8D4E3\",\"minorgridcolor\":\"#C8D4E3\",\"startlinecolor\":\"#2a3f5f\"},\"type\":\"carpet\"}],\"choropleth\":[{\"colorbar\":{\"outlinewidth\":0,\"ticks\":\"\"},\"type\":\"choropleth\"}],\"contourcarpet\":[{\"colorbar\":{\"outlinewidth\":0,\"ticks\":\"\"},\"type\":\"contourcarpet\"}],\"contour\":[{\"colorbar\":{\"outlinewidth\":0,\"ticks\":\"\"},\"colorscale\":[[0.0,\"#0d0887\"],[0.1111111111111111,\"#46039f\"],[0.2222222222222222,\"#7201a8\"],[0.3333333333333333,\"#9c179e\"],[0.4444444444444444,\"#bd3786\"],[0.5555555555555556,\"#d8576b\"],[0.6666666666666666,\"#ed7953\"],[0.7777777777777778,\"#fb9f3a\"],[0.8888888888888888,\"#fdca26\"],[1.0,\"#f0f921\"]],\"type\":\"contour\"}],\"heatmapgl\":[{\"colorbar\":{\"outlinewidth\":0,\"ticks\":\"\"},\"colorscale\":[[0.0,\"#0d0887\"],[0.1111111111111111,\"#46039f\"],[0.2222222222222222,\"#7201a8\"],[0.3333333333333333,\"#9c179e\"],[0.4444444444444444,\"#bd3786\"],[0.5555555555555556,\"#d8576b\"],[0.6666666666666666,\"#ed7953\"],[0.7777777777777778,\"#fb9f3a\"],[0.8888888888888888,\"#fdca26\"],[1.0,\"#f0f921\"]],\"type\":\"heatmapgl\"}],\"heatmap\":[{\"colorbar\":{\"outlinewidth\":0,\"ticks\":\"\"},\"colorscale\":[[0.0,\"#0d0887\"],[0.1111111111111111,\"#46039f\"],[0.2222222222222222,\"#7201a8\"],[0.3333333333333333,\"#9c179e\"],[0.4444444444444444,\"#bd3786\"],[0.5555555555555556,\"#d8576b\"],[0.6666666666666666,\"#ed7953\"],[0.7777777777777778,\"#fb9f3a\"],[0.8888888888888888,\"#fdca26\"],[1.0,\"#f0f921\"]],\"type\":\"heatmap\"}],\"histogram2dcontour\":[{\"colorbar\":{\"outlinewidth\":0,\"ticks\":\"\"},\"colorscale\":[[0.0,\"#0d0887\"],[0.1111111111111111,\"#46039f\"],[0.2222222222222222,\"#7201a8\"],[0.3333333333333333,\"#9c179e\"],[0.4444444444444444,\"#bd3786\"],[0.5555555555555556,\"#d8576b\"],[0.6666666666666666,\"#ed7953\"],[0.7777777777777778,\"#fb9f3a\"],[0.8888888888888888,\"#fdca26\"],[1.0,\"#f0f921\"]],\"type\":\"histogram2dcontour\"}],\"histogram2d\":[{\"colorbar\":{\"outlinewidth\":0,\"ticks\":\"\"},\"colorscale\":[[0.0,\"#0d0887\"],[0.1111111111111111,\"#46039f\"],[0.2222222222222222,\"#7201a8\"],[0.3333333333333333,\"#9c179e\"],[0.4444444444444444,\"#bd3786\"],[0.5555555555555556,\"#d8576b\"],[0.6666666666666666,\"#ed7953\"],[0.7777777777777778,\"#fb9f3a\"],[0.8888888888888888,\"#fdca26\"],[1.0,\"#f0f921\"]],\"type\":\"histogram2d\"}],\"histogram\":[{\"marker\":{\"pattern\":{\"fillmode\":\"overlay\",\"size\":10,\"solidity\":0.2}},\"type\":\"histogram\"}],\"mesh3d\":[{\"colorbar\":{\"outlinewidth\":0,\"ticks\":\"\"},\"type\":\"mesh3d\"}],\"parcoords\":[{\"line\":{\"colorbar\":{\"outlinewidth\":0,\"ticks\":\"\"}},\"type\":\"parcoords\"}],\"pie\":[{\"automargin\":true,\"type\":\"pie\"}],\"scatter3d\":[{\"line\":{\"colorbar\":{\"outlinewidth\":0,\"ticks\":\"\"}},\"marker\":{\"colorbar\":{\"outlinewidth\":0,\"ticks\":\"\"}},\"type\":\"scatter3d\"}],\"scattercarpet\":[{\"marker\":{\"colorbar\":{\"outlinewidth\":0,\"ticks\":\"\"}},\"type\":\"scattercarpet\"}],\"scattergeo\":[{\"marker\":{\"colorbar\":{\"outlinewidth\":0,\"ticks\":\"\"}},\"type\":\"scattergeo\"}],\"scattergl\":[{\"marker\":{\"colorbar\":{\"outlinewidth\":0,\"ticks\":\"\"}},\"type\":\"scattergl\"}],\"scattermapbox\":[{\"marker\":{\"colorbar\":{\"outlinewidth\":0,\"ticks\":\"\"}},\"type\":\"scattermapbox\"}],\"scatterpolargl\":[{\"marker\":{\"colorbar\":{\"outlinewidth\":0,\"ticks\":\"\"}},\"type\":\"scatterpolargl\"}],\"scatterpolar\":[{\"marker\":{\"colorbar\":{\"outlinewidth\":0,\"ticks\":\"\"}},\"type\":\"scatterpolar\"}],\"scatter\":[{\"fillpattern\":{\"fillmode\":\"overlay\",\"size\":10,\"solidity\":0.2},\"type\":\"scatter\"}],\"scatterternary\":[{\"marker\":{\"colorbar\":{\"outlinewidth\":0,\"ticks\":\"\"}},\"type\":\"scatterternary\"}],\"surface\":[{\"colorbar\":{\"outlinewidth\":0,\"ticks\":\"\"},\"colorscale\":[[0.0,\"#0d0887\"],[0.1111111111111111,\"#46039f\"],[0.2222222222222222,\"#7201a8\"],[0.3333333333333333,\"#9c179e\"],[0.4444444444444444,\"#bd3786\"],[0.5555555555555556,\"#d8576b\"],[0.6666666666666666,\"#ed7953\"],[0.7777777777777778,\"#fb9f3a\"],[0.8888888888888888,\"#fdca26\"],[1.0,\"#f0f921\"]],\"type\":\"surface\"}],\"table\":[{\"cells\":{\"fill\":{\"color\":\"#EBF0F8\"},\"line\":{\"color\":\"white\"}},\"header\":{\"fill\":{\"color\":\"#C8D4E3\"},\"line\":{\"color\":\"white\"}},\"type\":\"table\"}]},\"layout\":{\"annotationdefaults\":{\"arrowcolor\":\"#2a3f5f\",\"arrowhead\":0,\"arrowwidth\":1},\"autotypenumbers\":\"strict\",\"coloraxis\":{\"colorbar\":{\"outlinewidth\":0,\"ticks\":\"\"}},\"colorscale\":{\"diverging\":[[0,\"#8e0152\"],[0.1,\"#c51b7d\"],[0.2,\"#de77ae\"],[0.3,\"#f1b6da\"],[0.4,\"#fde0ef\"],[0.5,\"#f7f7f7\"],[0.6,\"#e6f5d0\"],[0.7,\"#b8e186\"],[0.8,\"#7fbc41\"],[0.9,\"#4d9221\"],[1,\"#276419\"]],\"sequential\":[[0.0,\"#0d0887\"],[0.1111111111111111,\"#46039f\"],[0.2222222222222222,\"#7201a8\"],[0.3333333333333333,\"#9c179e\"],[0.4444444444444444,\"#bd3786\"],[0.5555555555555556,\"#d8576b\"],[0.6666666666666666,\"#ed7953\"],[0.7777777777777778,\"#fb9f3a\"],[0.8888888888888888,\"#fdca26\"],[1.0,\"#f0f921\"]],\"sequentialminus\":[[0.0,\"#0d0887\"],[0.1111111111111111,\"#46039f\"],[0.2222222222222222,\"#7201a8\"],[0.3333333333333333,\"#9c179e\"],[0.4444444444444444,\"#bd3786\"],[0.5555555555555556,\"#d8576b\"],[0.6666666666666666,\"#ed7953\"],[0.7777777777777778,\"#fb9f3a\"],[0.8888888888888888,\"#fdca26\"],[1.0,\"#f0f921\"]]},\"colorway\":[\"#636efa\",\"#EF553B\",\"#00cc96\",\"#ab63fa\",\"#FFA15A\",\"#19d3f3\",\"#FF6692\",\"#B6E880\",\"#FF97FF\",\"#FECB52\"],\"font\":{\"color\":\"#2a3f5f\"},\"geo\":{\"bgcolor\":\"white\",\"lakecolor\":\"white\",\"landcolor\":\"white\",\"showlakes\":true,\"showland\":true,\"subunitcolor\":\"#C8D4E3\"},\"hoverlabel\":{\"align\":\"left\"},\"hovermode\":\"closest\",\"mapbox\":{\"style\":\"light\"},\"paper_bgcolor\":\"white\",\"plot_bgcolor\":\"white\",\"polar\":{\"angularaxis\":{\"gridcolor\":\"#EBF0F8\",\"linecolor\":\"#EBF0F8\",\"ticks\":\"\"},\"bgcolor\":\"white\",\"radialaxis\":{\"gridcolor\":\"#EBF0F8\",\"linecolor\":\"#EBF0F8\",\"ticks\":\"\"}},\"scene\":{\"xaxis\":{\"backgroundcolor\":\"white\",\"gridcolor\":\"#DFE8F3\",\"gridwidth\":2,\"linecolor\":\"#EBF0F8\",\"showbackground\":true,\"ticks\":\"\",\"zerolinecolor\":\"#EBF0F8\"},\"yaxis\":{\"backgroundcolor\":\"white\",\"gridcolor\":\"#DFE8F3\",\"gridwidth\":2,\"linecolor\":\"#EBF0F8\",\"showbackground\":true,\"ticks\":\"\",\"zerolinecolor\":\"#EBF0F8\"},\"zaxis\":{\"backgroundcolor\":\"white\",\"gridcolor\":\"#DFE8F3\",\"gridwidth\":2,\"linecolor\":\"#EBF0F8\",\"showbackground\":true,\"ticks\":\"\",\"zerolinecolor\":\"#EBF0F8\"}},\"shapedefaults\":{\"line\":{\"color\":\"#2a3f5f\"}},\"ternary\":{\"aaxis\":{\"gridcolor\":\"#DFE8F3\",\"linecolor\":\"#A2B1C6\",\"ticks\":\"\"},\"baxis\":{\"gridcolor\":\"#DFE8F3\",\"linecolor\":\"#A2B1C6\",\"ticks\":\"\"},\"bgcolor\":\"white\",\"caxis\":{\"gridcolor\":\"#DFE8F3\",\"linecolor\":\"#A2B1C6\",\"ticks\":\"\"}},\"title\":{\"x\":0.05},\"xaxis\":{\"automargin\":true,\"gridcolor\":\"#EBF0F8\",\"linecolor\":\"#EBF0F8\",\"ticks\":\"\",\"title\":{\"standoff\":15},\"zerolinecolor\":\"#EBF0F8\",\"zerolinewidth\":2},\"yaxis\":{\"automargin\":true,\"gridcolor\":\"#EBF0F8\",\"linecolor\":\"#EBF0F8\",\"ticks\":\"\",\"title\":{\"standoff\":15},\"zerolinecolor\":\"#EBF0F8\",\"zerolinewidth\":2}}},\"xaxis\":{\"anchor\":\"y\",\"domain\":[0.0,1.0],\"title\":{\"text\":\"Model variant\"},\"showticklabels\":true,\"showgrid\":false,\"linecolor\":\"DarkGrey\"},\"yaxis\":{\"anchor\":\"x\",\"domain\":[0.0,1.0],\"title\":{\"text\":\"Relative share\"},\"range\":[0.0,1.0],\"ticks\":\"outside\",\"tickcolor\":\"DarkGrey\",\"showgrid\":false,\"linecolor\":\"DarkGrey\",\"zeroline\":true,\"zerolinecolor\":\"DarkGrey\",\"zerolinewidth\":1},\"legend\":{\"title\":{\"text\":\"\"},\"tracegroupgap\":0,\"traceorder\":\"reversed\",\"orientation\":\"v\",\"x\":1.0,\"y\":1.025,\"xanchor\":\"left\"},\"margin\":{\"t\":80},\"barmode\":\"stack\",\"font\":{\"color\":\"black\",\"size\":12},\"width\":860,\"title\":{\"text\":\"Mean relative share of consistency cases among fixed points <br>across all configurations of weights\"}},                        {\"responsive\": true}                    ).then(function(){\n",
       "                            \n",
       "var gd = document.getElementById('703a01d9-4260-4253-bc75-addc27708115');\n",
       "var x = new MutationObserver(function (mutations, observer) {{\n",
       "        var display = window.getComputedStyle(gd).display;\n",
       "        if (!display || display === 'none') {{\n",
       "            console.log([gd, 'removed!']);\n",
       "            Plotly.purge(gd);\n",
       "            observer.disconnect();\n",
       "        }}\n",
       "}});\n",
       "\n",
       "// Listen for the removal of the full notebook cells\n",
       "var notebookContainer = gd.closest('#notebook-container');\n",
       "if (notebookContainer) {{\n",
       "    x.observe(notebookContainer, {childList: true});\n",
       "}}\n",
       "\n",
       "// Listen for the clearing of the current output cell\n",
       "var outputEl = gd.closest('.output');\n",
       "if (outputEl) {{\n",
       "    x.observe(outputEl, {childList: true});\n",
       "}}\n",
       "\n",
       "                        })                };                });            </script>        </div>"
      ]
     },
     "metadata": {},
     "output_type": "display_data"
    }
   ],
   "source": [
    "barplot(go_overall_results, \"go\")\n",
    "barplot(fp_overall_results, \"fp\")"
   ]
  },
  {
   "cell_type": "markdown",
   "id": "236957a6",
   "metadata": {},
   "source": [
    "#### Barplots by configuration of weights"
   ]
  },
  {
   "cell_type": "code",
   "execution_count": 114,
   "id": "f743f8fc",
   "metadata": {},
   "outputs": [],
   "source": [
    "go_df = go_result_df.groupby(['model_name',\n",
    "                     #'ds',\n",
    "                     #'init_coms',\n",
    "                     'weight_account',\n",
    "                     'weight_systematicity'\n",
    "                     ])[[\"rel_go_inconsistency_eliminating_case\",\n",
    "                         \"rel_go_consistency_preserving_case\",\n",
    "                         \"rel_go_inconsistency_preserving_case\",\n",
    "                         \"rel_go_consistency_eliminating_case\"]].mean().round(2).reset_index()\n",
    "\n",
    "fp_df = fp_result_df.groupby(['model_name',\n",
    "                     #'ds',\n",
    "                     #'init_coms',\n",
    "                     'weight_account',\n",
    "                     'weight_systematicity'\n",
    "                     ])[[\"rel_fp_inconsistency_eliminating_case\",\n",
    "                         \"rel_fp_consistency_preserving_case\",\n",
    "                         \"rel_fp_inconsistency_preserving_case\",\n",
    "                         \"rel_fp_consistency_eliminating_case\"]].mean().round(2).reset_index()\n",
    "\n",
    "model_short_names = {'StandardGlobalReflectiveEquilibrium':'QGRE',\n",
    "                     'StandardLocalReflectiveEquilibrium':'QLRE',\n",
    "                     'StandardGlobalReflectiveEquilibriumLinearG': 'LGRE',\n",
    "                     'StandardLocalReflectiveEquilibriumLinearG': 'LLRE'\n",
    "                    }\n",
    "\n",
    "# Adding model short names\n",
    "go_df['model_short_name'] = go_df['model_name'].map(lambda x: model_short_names[x])\n",
    "fp_df['model_short_name'] = fp_df['model_name'].map(lambda x: model_short_names[x])"
   ]
  },
  {
   "cell_type": "code",
   "execution_count": 115,
   "id": "f5bbac1e",
   "metadata": {},
   "outputs": [],
   "source": [
    "def transform_y(y):\n",
    "    if y<0.999:\n",
    "        return y\n",
    "    return -0.15"
   ]
  },
  {
   "cell_type": "code",
   "execution_count": 116,
   "id": "6015b7cb",
   "metadata": {},
   "outputs": [],
   "source": [
    "def barplot_by_weight(data, endpoint_type):\n",
    "    \n",
    "    y_cols = [\"rel_{}_inconsistency_eliminating_case\".format(endpoint_type),\n",
    "              \"rel_{}_consistency_preserving_case\".format(endpoint_type),\n",
    "              \"rel_{}_inconsistency_preserving_case\".format(endpoint_type),\n",
    "              \"rel_{}_consistency_eliminating_case\".format(endpoint_type)]\n",
    "\n",
    "    fig = px.bar(data, x=\"model_short_name\", y=y_cols,\n",
    "                 facet_row=\"weight_systematicity\", \n",
    "                 facet_col=\"weight_account\",\n",
    "                 facet_row_spacing=0.07, # default is 0.07 when facet_col_wrap is used\n",
    "                 facet_col_spacing=0.04, # default is 0.03\n",
    "                 text_auto=False\n",
    "                )\n",
    "    fig.update_traces(name=\"Consistency preserving (CP)\", \n",
    "                       marker_color=viridis[2], \n",
    "                       selector=dict(name='rel_{}_consistency_preserving_case'.format(endpoint_type)))\n",
    "    \n",
    "    fig.update_traces(name=\"Inconsistency eliminating (IE)\", \n",
    "                       marker_color=viridis[3],\n",
    "                       selector=dict(name='rel_{}_inconsistency_eliminating_case'.format(endpoint_type)))\n",
    "    \n",
    "    fig.update_traces(name=\"Inconsistency preserving (IP)\",\n",
    "                       marker_color=viridis[1],\n",
    "                       selector=dict(name='rel_{}_inconsistency_preserving_case'.format(endpoint_type)))\n",
    "    \n",
    "    fig.update_traces(name=\"Consistency eliminating (CE)\",\n",
    "                       marker_color=viridis[0], \n",
    "                       selector=dict(name=\"rel_{}_consistency_eliminating_case\".format(endpoint_type)))\n",
    "    fig.update_xaxes(title=\"\", showticklabels=True, showgrid=False, linecolor= 'DarkGrey')\n",
    "    fig.update_yaxes(title=\"\",)\n",
    "\n",
    "    #legend\n",
    "    fig.update_layout(legend_title_text=\"\")\n",
    "    fig.update_layout(legend={'traceorder':'reversed', \n",
    "                              \"orientation\":\"v\", \"x\":1.0, \"y\":1.025, \"xanchor\":\"left\"})\n",
    "\n",
    "    # annotations\n",
    "    fig.for_each_annotation(lambda a: a.update(text=a.text.replace(\"weight_account=\", \"\"), y=transform_y(a.y)))\n",
    "    fig.for_each_annotation(lambda a: a.update(text=a.text.replace(\"weight_systematicity=\", \"\")))\n",
    "\n",
    "    #fig.for_each_annotation(lambda a: print(a))\n",
    "\n",
    "    fig.add_annotation(text=\"Weight account\", xref=\"paper\", yref=\"paper\", x= 0.5, y=-0.2, showarrow=False)\n",
    "    fig.add_annotation(text=\"Weight systematicity\", xref=\"paper\", yref=\"paper\", x= 1.05, y=0.5, showarrow=False, textangle=90)\n",
    "\n",
    "\n",
    "\n",
    "    fig.update_layout(template=\"plotly_white\",\n",
    "                       #paper_bgcolor=\"#e9e8e6\",\n",
    "                       #plot_bgcolor=\"#e9e8e6\",\n",
    "                       font={\"color\": \"black\", \"size\":12},\n",
    "                       width=860,\n",
    "                       margin={\"t\":80}\n",
    "                      )\n",
    "\n",
    "    fig.update_layout(title_text=\"Mean relative share of consistency cases among {} <br>grouped by configuration of weights\".format(\"global optima\" if endpoint_type==\"go\" else \"fixed points\"))\n",
    "\n",
    "    fig.show()\n",
    "    \n",
    "    if export_results:\n",
    "        file_name = 'weight_consistency_cases_{}_{}.png'.format(endpoint_type, 'branches' if analyse_branches else 'setups')\n",
    "        fig.write_image(path.join(figures_output_dir, file_name), scale=2)"
   ]
  },
  {
   "cell_type": "code",
   "execution_count": 117,
   "id": "de10f69a",
   "metadata": {},
   "outputs": [
    {
     "data": {
      "application/vnd.plotly.v1+json": {
       "config": {
        "plotlyServerURL": "https://plot.ly"
       },
       "data": [
        {
         "alignmentgroup": "True",
         "hovertemplate": "variable=rel_go_inconsistency_eliminating_case<br>weight_systematicity=0.25<br>weight_account=0.25<br>model_short_name=%{x}<br>value=%{y}<extra></extra>",
         "legendgroup": "rel_go_inconsistency_eliminating_case",
         "marker": {
          "color": "#b0dd31",
          "pattern": {
           "shape": ""
          }
         },
         "name": "Inconsistency eliminating (IE)",
         "offsetgroup": "rel_go_inconsistency_eliminating_case",
         "orientation": "v",
         "showlegend": true,
         "textposition": "auto",
         "type": "bar",
         "x": [
          "QGRE",
          "LGRE",
          "QLRE",
          "LLRE"
         ],
         "xaxis": "x3",
         "y": [
          0.04,
          0,
          0.04,
          0
         ],
         "yaxis": "y3"
        },
        {
         "alignmentgroup": "True",
         "hovertemplate": "variable=rel_go_inconsistency_eliminating_case<br>weight_systematicity=0.25<br>weight_account=0.5<br>model_short_name=%{x}<br>value=%{y}<extra></extra>",
         "legendgroup": "rel_go_inconsistency_eliminating_case",
         "marker": {
          "color": "#b0dd31",
          "pattern": {
           "shape": ""
          }
         },
         "name": "Inconsistency eliminating (IE)",
         "offsetgroup": "rel_go_inconsistency_eliminating_case",
         "orientation": "v",
         "showlegend": false,
         "textposition": "auto",
         "type": "bar",
         "x": [
          "QGRE",
          "LGRE",
          "QLRE",
          "LLRE"
         ],
         "xaxis": "x4",
         "y": [
          0.42,
          0.61,
          0.42,
          0.61
         ],
         "yaxis": "y4"
        },
        {
         "alignmentgroup": "True",
         "hovertemplate": "variable=rel_go_inconsistency_eliminating_case<br>weight_systematicity=0.5<br>weight_account=0.25<br>model_short_name=%{x}<br>value=%{y}<extra></extra>",
         "legendgroup": "rel_go_inconsistency_eliminating_case",
         "marker": {
          "color": "#b0dd31",
          "pattern": {
           "shape": ""
          }
         },
         "name": "Inconsistency eliminating (IE)",
         "offsetgroup": "rel_go_inconsistency_eliminating_case",
         "orientation": "v",
         "showlegend": false,
         "textposition": "auto",
         "type": "bar",
         "x": [
          "QGRE",
          "LGRE",
          "QLRE",
          "LLRE"
         ],
         "xaxis": "x",
         "y": [
          0.25,
          0.25,
          0.25,
          0.25
         ],
         "yaxis": "y"
        },
        {
         "alignmentgroup": "True",
         "hovertemplate": "variable=rel_go_consistency_preserving_case<br>weight_systematicity=0.25<br>weight_account=0.25<br>model_short_name=%{x}<br>value=%{y}<extra></extra>",
         "legendgroup": "rel_go_consistency_preserving_case",
         "marker": {
          "color": "#29ae80",
          "pattern": {
           "shape": ""
          }
         },
         "name": "Consistency preserving (CP)",
         "offsetgroup": "rel_go_consistency_preserving_case",
         "orientation": "v",
         "showlegend": true,
         "textposition": "auto",
         "type": "bar",
         "x": [
          "QGRE",
          "LGRE",
          "QLRE",
          "LLRE"
         ],
         "xaxis": "x3",
         "y": [
          0.35,
          0.36,
          0.35,
          0.36
         ],
         "yaxis": "y3"
        },
        {
         "alignmentgroup": "True",
         "hovertemplate": "variable=rel_go_consistency_preserving_case<br>weight_systematicity=0.25<br>weight_account=0.5<br>model_short_name=%{x}<br>value=%{y}<extra></extra>",
         "legendgroup": "rel_go_consistency_preserving_case",
         "marker": {
          "color": "#29ae80",
          "pattern": {
           "shape": ""
          }
         },
         "name": "Consistency preserving (CP)",
         "offsetgroup": "rel_go_consistency_preserving_case",
         "orientation": "v",
         "showlegend": false,
         "textposition": "auto",
         "type": "bar",
         "x": [
          "QGRE",
          "LGRE",
          "QLRE",
          "LLRE"
         ],
         "xaxis": "x4",
         "y": [
          0.39,
          0.39,
          0.39,
          0.39
         ],
         "yaxis": "y4"
        },
        {
         "alignmentgroup": "True",
         "hovertemplate": "variable=rel_go_consistency_preserving_case<br>weight_systematicity=0.5<br>weight_account=0.25<br>model_short_name=%{x}<br>value=%{y}<extra></extra>",
         "legendgroup": "rel_go_consistency_preserving_case",
         "marker": {
          "color": "#29ae80",
          "pattern": {
           "shape": ""
          }
         },
         "name": "Consistency preserving (CP)",
         "offsetgroup": "rel_go_consistency_preserving_case",
         "orientation": "v",
         "showlegend": false,
         "textposition": "auto",
         "type": "bar",
         "x": [
          "QGRE",
          "LGRE",
          "QLRE",
          "LLRE"
         ],
         "xaxis": "x",
         "y": [
          0.37,
          0.37,
          0.37,
          0.37
         ],
         "yaxis": "y"
        },
        {
         "alignmentgroup": "True",
         "hovertemplate": "variable=rel_go_inconsistency_preserving_case<br>weight_systematicity=0.25<br>weight_account=0.25<br>model_short_name=%{x}<br>value=%{y}<extra></extra>",
         "legendgroup": "rel_go_inconsistency_preserving_case",
         "marker": {
          "color": "#2c718e",
          "pattern": {
           "shape": ""
          }
         },
         "name": "Inconsistency preserving (IP)",
         "offsetgroup": "rel_go_inconsistency_preserving_case",
         "orientation": "v",
         "showlegend": true,
         "textposition": "auto",
         "type": "bar",
         "x": [
          "QGRE",
          "LGRE",
          "QLRE",
          "LLRE"
         ],
         "xaxis": "x3",
         "y": [
          0.57,
          0.61,
          0.57,
          0.61
         ],
         "yaxis": "y3"
        },
        {
         "alignmentgroup": "True",
         "hovertemplate": "variable=rel_go_inconsistency_preserving_case<br>weight_systematicity=0.25<br>weight_account=0.5<br>model_short_name=%{x}<br>value=%{y}<extra></extra>",
         "legendgroup": "rel_go_inconsistency_preserving_case",
         "marker": {
          "color": "#2c718e",
          "pattern": {
           "shape": ""
          }
         },
         "name": "Inconsistency preserving (IP)",
         "offsetgroup": "rel_go_inconsistency_preserving_case",
         "orientation": "v",
         "showlegend": false,
         "textposition": "auto",
         "type": "bar",
         "x": [
          "QGRE",
          "LGRE",
          "QLRE",
          "LLRE"
         ],
         "xaxis": "x4",
         "y": [
          0.19,
          0,
          0.19,
          0
         ],
         "yaxis": "y4"
        },
        {
         "alignmentgroup": "True",
         "hovertemplate": "variable=rel_go_inconsistency_preserving_case<br>weight_systematicity=0.5<br>weight_account=0.25<br>model_short_name=%{x}<br>value=%{y}<extra></extra>",
         "legendgroup": "rel_go_inconsistency_preserving_case",
         "marker": {
          "color": "#2c718e",
          "pattern": {
           "shape": ""
          }
         },
         "name": "Inconsistency preserving (IP)",
         "offsetgroup": "rel_go_inconsistency_preserving_case",
         "orientation": "v",
         "showlegend": false,
         "textposition": "auto",
         "type": "bar",
         "x": [
          "QGRE",
          "LGRE",
          "QLRE",
          "LLRE"
         ],
         "xaxis": "x",
         "y": [
          0.36,
          0.36,
          0.36,
          0.36
         ],
         "yaxis": "y"
        },
        {
         "alignmentgroup": "True",
         "hovertemplate": "variable=rel_go_consistency_eliminating_case<br>weight_systematicity=0.25<br>weight_account=0.25<br>model_short_name=%{x}<br>value=%{y}<extra></extra>",
         "legendgroup": "rel_go_consistency_eliminating_case",
         "marker": {
          "color": "#472c7a",
          "pattern": {
           "shape": ""
          }
         },
         "name": "Consistency eliminating (CE)",
         "offsetgroup": "rel_go_consistency_eliminating_case",
         "orientation": "v",
         "showlegend": true,
         "textposition": "auto",
         "type": "bar",
         "x": [
          "QGRE",
          "LGRE",
          "QLRE",
          "LLRE"
         ],
         "xaxis": "x3",
         "y": [
          0.04,
          0.03,
          0.04,
          0.03
         ],
         "yaxis": "y3"
        },
        {
         "alignmentgroup": "True",
         "hovertemplate": "variable=rel_go_consistency_eliminating_case<br>weight_systematicity=0.25<br>weight_account=0.5<br>model_short_name=%{x}<br>value=%{y}<extra></extra>",
         "legendgroup": "rel_go_consistency_eliminating_case",
         "marker": {
          "color": "#472c7a",
          "pattern": {
           "shape": ""
          }
         },
         "name": "Consistency eliminating (CE)",
         "offsetgroup": "rel_go_consistency_eliminating_case",
         "orientation": "v",
         "showlegend": false,
         "textposition": "auto",
         "type": "bar",
         "x": [
          "QGRE",
          "LGRE",
          "QLRE",
          "LLRE"
         ],
         "xaxis": "x4",
         "y": [
          0,
          0,
          0,
          0
         ],
         "yaxis": "y4"
        },
        {
         "alignmentgroup": "True",
         "hovertemplate": "variable=rel_go_consistency_eliminating_case<br>weight_systematicity=0.5<br>weight_account=0.25<br>model_short_name=%{x}<br>value=%{y}<extra></extra>",
         "legendgroup": "rel_go_consistency_eliminating_case",
         "marker": {
          "color": "#472c7a",
          "pattern": {
           "shape": ""
          }
         },
         "name": "Consistency eliminating (CE)",
         "offsetgroup": "rel_go_consistency_eliminating_case",
         "orientation": "v",
         "showlegend": false,
         "textposition": "auto",
         "type": "bar",
         "x": [
          "QGRE",
          "LGRE",
          "QLRE",
          "LLRE"
         ],
         "xaxis": "x",
         "y": [
          0.02,
          0.02,
          0.02,
          0.02
         ],
         "yaxis": "y"
        }
       ],
       "layout": {
        "annotations": [
         {
          "showarrow": false,
          "text": "0.25",
          "x": 0.235,
          "xanchor": "center",
          "xref": "paper",
          "y": -0.15,
          "yanchor": "bottom",
          "yref": "paper"
         },
         {
          "showarrow": false,
          "text": "0.5",
          "x": 0.745,
          "xanchor": "center",
          "xref": "paper",
          "y": -0.15,
          "yanchor": "bottom",
          "yref": "paper"
         },
         {
          "showarrow": false,
          "text": "0.5",
          "textangle": 90,
          "x": 0.98,
          "xanchor": "left",
          "xref": "paper",
          "y": 0.23249999999999998,
          "yanchor": "middle",
          "yref": "paper"
         },
         {
          "showarrow": false,
          "text": "0.25",
          "textangle": 90,
          "x": 0.98,
          "xanchor": "left",
          "xref": "paper",
          "y": 0.7674999999999998,
          "yanchor": "middle",
          "yref": "paper"
         },
         {
          "showarrow": false,
          "text": "Weight account",
          "x": 0.5,
          "xref": "paper",
          "y": -0.2,
          "yref": "paper"
         },
         {
          "showarrow": false,
          "text": "Weight systematicity",
          "textangle": 90,
          "x": 1.05,
          "xref": "paper",
          "y": 0.5,
          "yref": "paper"
         }
        ],
        "barmode": "relative",
        "font": {
         "color": "black",
         "size": 12
        },
        "legend": {
         "orientation": "v",
         "title": {
          "text": ""
         },
         "tracegroupgap": 0,
         "traceorder": "reversed",
         "x": 1,
         "xanchor": "left",
         "y": 1.025
        },
        "margin": {
         "t": 80
        },
        "template": {
         "data": {
          "bar": [
           {
            "error_x": {
             "color": "#2a3f5f"
            },
            "error_y": {
             "color": "#2a3f5f"
            },
            "marker": {
             "line": {
              "color": "white",
              "width": 0.5
             },
             "pattern": {
              "fillmode": "overlay",
              "size": 10,
              "solidity": 0.2
             }
            },
            "type": "bar"
           }
          ],
          "barpolar": [
           {
            "marker": {
             "line": {
              "color": "white",
              "width": 0.5
             },
             "pattern": {
              "fillmode": "overlay",
              "size": 10,
              "solidity": 0.2
             }
            },
            "type": "barpolar"
           }
          ],
          "carpet": [
           {
            "aaxis": {
             "endlinecolor": "#2a3f5f",
             "gridcolor": "#C8D4E3",
             "linecolor": "#C8D4E3",
             "minorgridcolor": "#C8D4E3",
             "startlinecolor": "#2a3f5f"
            },
            "baxis": {
             "endlinecolor": "#2a3f5f",
             "gridcolor": "#C8D4E3",
             "linecolor": "#C8D4E3",
             "minorgridcolor": "#C8D4E3",
             "startlinecolor": "#2a3f5f"
            },
            "type": "carpet"
           }
          ],
          "choropleth": [
           {
            "colorbar": {
             "outlinewidth": 0,
             "ticks": ""
            },
            "type": "choropleth"
           }
          ],
          "contour": [
           {
            "colorbar": {
             "outlinewidth": 0,
             "ticks": ""
            },
            "colorscale": [
             [
              0,
              "#0d0887"
             ],
             [
              0.1111111111111111,
              "#46039f"
             ],
             [
              0.2222222222222222,
              "#7201a8"
             ],
             [
              0.3333333333333333,
              "#9c179e"
             ],
             [
              0.4444444444444444,
              "#bd3786"
             ],
             [
              0.5555555555555556,
              "#d8576b"
             ],
             [
              0.6666666666666666,
              "#ed7953"
             ],
             [
              0.7777777777777778,
              "#fb9f3a"
             ],
             [
              0.8888888888888888,
              "#fdca26"
             ],
             [
              1,
              "#f0f921"
             ]
            ],
            "type": "contour"
           }
          ],
          "contourcarpet": [
           {
            "colorbar": {
             "outlinewidth": 0,
             "ticks": ""
            },
            "type": "contourcarpet"
           }
          ],
          "heatmap": [
           {
            "colorbar": {
             "outlinewidth": 0,
             "ticks": ""
            },
            "colorscale": [
             [
              0,
              "#0d0887"
             ],
             [
              0.1111111111111111,
              "#46039f"
             ],
             [
              0.2222222222222222,
              "#7201a8"
             ],
             [
              0.3333333333333333,
              "#9c179e"
             ],
             [
              0.4444444444444444,
              "#bd3786"
             ],
             [
              0.5555555555555556,
              "#d8576b"
             ],
             [
              0.6666666666666666,
              "#ed7953"
             ],
             [
              0.7777777777777778,
              "#fb9f3a"
             ],
             [
              0.8888888888888888,
              "#fdca26"
             ],
             [
              1,
              "#f0f921"
             ]
            ],
            "type": "heatmap"
           }
          ],
          "heatmapgl": [
           {
            "colorbar": {
             "outlinewidth": 0,
             "ticks": ""
            },
            "colorscale": [
             [
              0,
              "#0d0887"
             ],
             [
              0.1111111111111111,
              "#46039f"
             ],
             [
              0.2222222222222222,
              "#7201a8"
             ],
             [
              0.3333333333333333,
              "#9c179e"
             ],
             [
              0.4444444444444444,
              "#bd3786"
             ],
             [
              0.5555555555555556,
              "#d8576b"
             ],
             [
              0.6666666666666666,
              "#ed7953"
             ],
             [
              0.7777777777777778,
              "#fb9f3a"
             ],
             [
              0.8888888888888888,
              "#fdca26"
             ],
             [
              1,
              "#f0f921"
             ]
            ],
            "type": "heatmapgl"
           }
          ],
          "histogram": [
           {
            "marker": {
             "pattern": {
              "fillmode": "overlay",
              "size": 10,
              "solidity": 0.2
             }
            },
            "type": "histogram"
           }
          ],
          "histogram2d": [
           {
            "colorbar": {
             "outlinewidth": 0,
             "ticks": ""
            },
            "colorscale": [
             [
              0,
              "#0d0887"
             ],
             [
              0.1111111111111111,
              "#46039f"
             ],
             [
              0.2222222222222222,
              "#7201a8"
             ],
             [
              0.3333333333333333,
              "#9c179e"
             ],
             [
              0.4444444444444444,
              "#bd3786"
             ],
             [
              0.5555555555555556,
              "#d8576b"
             ],
             [
              0.6666666666666666,
              "#ed7953"
             ],
             [
              0.7777777777777778,
              "#fb9f3a"
             ],
             [
              0.8888888888888888,
              "#fdca26"
             ],
             [
              1,
              "#f0f921"
             ]
            ],
            "type": "histogram2d"
           }
          ],
          "histogram2dcontour": [
           {
            "colorbar": {
             "outlinewidth": 0,
             "ticks": ""
            },
            "colorscale": [
             [
              0,
              "#0d0887"
             ],
             [
              0.1111111111111111,
              "#46039f"
             ],
             [
              0.2222222222222222,
              "#7201a8"
             ],
             [
              0.3333333333333333,
              "#9c179e"
             ],
             [
              0.4444444444444444,
              "#bd3786"
             ],
             [
              0.5555555555555556,
              "#d8576b"
             ],
             [
              0.6666666666666666,
              "#ed7953"
             ],
             [
              0.7777777777777778,
              "#fb9f3a"
             ],
             [
              0.8888888888888888,
              "#fdca26"
             ],
             [
              1,
              "#f0f921"
             ]
            ],
            "type": "histogram2dcontour"
           }
          ],
          "mesh3d": [
           {
            "colorbar": {
             "outlinewidth": 0,
             "ticks": ""
            },
            "type": "mesh3d"
           }
          ],
          "parcoords": [
           {
            "line": {
             "colorbar": {
              "outlinewidth": 0,
              "ticks": ""
             }
            },
            "type": "parcoords"
           }
          ],
          "pie": [
           {
            "automargin": true,
            "type": "pie"
           }
          ],
          "scatter": [
           {
            "fillpattern": {
             "fillmode": "overlay",
             "size": 10,
             "solidity": 0.2
            },
            "type": "scatter"
           }
          ],
          "scatter3d": [
           {
            "line": {
             "colorbar": {
              "outlinewidth": 0,
              "ticks": ""
             }
            },
            "marker": {
             "colorbar": {
              "outlinewidth": 0,
              "ticks": ""
             }
            },
            "type": "scatter3d"
           }
          ],
          "scattercarpet": [
           {
            "marker": {
             "colorbar": {
              "outlinewidth": 0,
              "ticks": ""
             }
            },
            "type": "scattercarpet"
           }
          ],
          "scattergeo": [
           {
            "marker": {
             "colorbar": {
              "outlinewidth": 0,
              "ticks": ""
             }
            },
            "type": "scattergeo"
           }
          ],
          "scattergl": [
           {
            "marker": {
             "colorbar": {
              "outlinewidth": 0,
              "ticks": ""
             }
            },
            "type": "scattergl"
           }
          ],
          "scattermapbox": [
           {
            "marker": {
             "colorbar": {
              "outlinewidth": 0,
              "ticks": ""
             }
            },
            "type": "scattermapbox"
           }
          ],
          "scatterpolar": [
           {
            "marker": {
             "colorbar": {
              "outlinewidth": 0,
              "ticks": ""
             }
            },
            "type": "scatterpolar"
           }
          ],
          "scatterpolargl": [
           {
            "marker": {
             "colorbar": {
              "outlinewidth": 0,
              "ticks": ""
             }
            },
            "type": "scatterpolargl"
           }
          ],
          "scatterternary": [
           {
            "marker": {
             "colorbar": {
              "outlinewidth": 0,
              "ticks": ""
             }
            },
            "type": "scatterternary"
           }
          ],
          "surface": [
           {
            "colorbar": {
             "outlinewidth": 0,
             "ticks": ""
            },
            "colorscale": [
             [
              0,
              "#0d0887"
             ],
             [
              0.1111111111111111,
              "#46039f"
             ],
             [
              0.2222222222222222,
              "#7201a8"
             ],
             [
              0.3333333333333333,
              "#9c179e"
             ],
             [
              0.4444444444444444,
              "#bd3786"
             ],
             [
              0.5555555555555556,
              "#d8576b"
             ],
             [
              0.6666666666666666,
              "#ed7953"
             ],
             [
              0.7777777777777778,
              "#fb9f3a"
             ],
             [
              0.8888888888888888,
              "#fdca26"
             ],
             [
              1,
              "#f0f921"
             ]
            ],
            "type": "surface"
           }
          ],
          "table": [
           {
            "cells": {
             "fill": {
              "color": "#EBF0F8"
             },
             "line": {
              "color": "white"
             }
            },
            "header": {
             "fill": {
              "color": "#C8D4E3"
             },
             "line": {
              "color": "white"
             }
            },
            "type": "table"
           }
          ]
         },
         "layout": {
          "annotationdefaults": {
           "arrowcolor": "#2a3f5f",
           "arrowhead": 0,
           "arrowwidth": 1
          },
          "autotypenumbers": "strict",
          "coloraxis": {
           "colorbar": {
            "outlinewidth": 0,
            "ticks": ""
           }
          },
          "colorscale": {
           "diverging": [
            [
             0,
             "#8e0152"
            ],
            [
             0.1,
             "#c51b7d"
            ],
            [
             0.2,
             "#de77ae"
            ],
            [
             0.3,
             "#f1b6da"
            ],
            [
             0.4,
             "#fde0ef"
            ],
            [
             0.5,
             "#f7f7f7"
            ],
            [
             0.6,
             "#e6f5d0"
            ],
            [
             0.7,
             "#b8e186"
            ],
            [
             0.8,
             "#7fbc41"
            ],
            [
             0.9,
             "#4d9221"
            ],
            [
             1,
             "#276419"
            ]
           ],
           "sequential": [
            [
             0,
             "#0d0887"
            ],
            [
             0.1111111111111111,
             "#46039f"
            ],
            [
             0.2222222222222222,
             "#7201a8"
            ],
            [
             0.3333333333333333,
             "#9c179e"
            ],
            [
             0.4444444444444444,
             "#bd3786"
            ],
            [
             0.5555555555555556,
             "#d8576b"
            ],
            [
             0.6666666666666666,
             "#ed7953"
            ],
            [
             0.7777777777777778,
             "#fb9f3a"
            ],
            [
             0.8888888888888888,
             "#fdca26"
            ],
            [
             1,
             "#f0f921"
            ]
           ],
           "sequentialminus": [
            [
             0,
             "#0d0887"
            ],
            [
             0.1111111111111111,
             "#46039f"
            ],
            [
             0.2222222222222222,
             "#7201a8"
            ],
            [
             0.3333333333333333,
             "#9c179e"
            ],
            [
             0.4444444444444444,
             "#bd3786"
            ],
            [
             0.5555555555555556,
             "#d8576b"
            ],
            [
             0.6666666666666666,
             "#ed7953"
            ],
            [
             0.7777777777777778,
             "#fb9f3a"
            ],
            [
             0.8888888888888888,
             "#fdca26"
            ],
            [
             1,
             "#f0f921"
            ]
           ]
          },
          "colorway": [
           "#636efa",
           "#EF553B",
           "#00cc96",
           "#ab63fa",
           "#FFA15A",
           "#19d3f3",
           "#FF6692",
           "#B6E880",
           "#FF97FF",
           "#FECB52"
          ],
          "font": {
           "color": "#2a3f5f"
          },
          "geo": {
           "bgcolor": "white",
           "lakecolor": "white",
           "landcolor": "white",
           "showlakes": true,
           "showland": true,
           "subunitcolor": "#C8D4E3"
          },
          "hoverlabel": {
           "align": "left"
          },
          "hovermode": "closest",
          "mapbox": {
           "style": "light"
          },
          "paper_bgcolor": "white",
          "plot_bgcolor": "white",
          "polar": {
           "angularaxis": {
            "gridcolor": "#EBF0F8",
            "linecolor": "#EBF0F8",
            "ticks": ""
           },
           "bgcolor": "white",
           "radialaxis": {
            "gridcolor": "#EBF0F8",
            "linecolor": "#EBF0F8",
            "ticks": ""
           }
          },
          "scene": {
           "xaxis": {
            "backgroundcolor": "white",
            "gridcolor": "#DFE8F3",
            "gridwidth": 2,
            "linecolor": "#EBF0F8",
            "showbackground": true,
            "ticks": "",
            "zerolinecolor": "#EBF0F8"
           },
           "yaxis": {
            "backgroundcolor": "white",
            "gridcolor": "#DFE8F3",
            "gridwidth": 2,
            "linecolor": "#EBF0F8",
            "showbackground": true,
            "ticks": "",
            "zerolinecolor": "#EBF0F8"
           },
           "zaxis": {
            "backgroundcolor": "white",
            "gridcolor": "#DFE8F3",
            "gridwidth": 2,
            "linecolor": "#EBF0F8",
            "showbackground": true,
            "ticks": "",
            "zerolinecolor": "#EBF0F8"
           }
          },
          "shapedefaults": {
           "line": {
            "color": "#2a3f5f"
           }
          },
          "ternary": {
           "aaxis": {
            "gridcolor": "#DFE8F3",
            "linecolor": "#A2B1C6",
            "ticks": ""
           },
           "baxis": {
            "gridcolor": "#DFE8F3",
            "linecolor": "#A2B1C6",
            "ticks": ""
           },
           "bgcolor": "white",
           "caxis": {
            "gridcolor": "#DFE8F3",
            "linecolor": "#A2B1C6",
            "ticks": ""
           }
          },
          "title": {
           "x": 0.05
          },
          "xaxis": {
           "automargin": true,
           "gridcolor": "#EBF0F8",
           "linecolor": "#EBF0F8",
           "ticks": "",
           "title": {
            "standoff": 15
           },
           "zerolinecolor": "#EBF0F8",
           "zerolinewidth": 2
          },
          "yaxis": {
           "automargin": true,
           "gridcolor": "#EBF0F8",
           "linecolor": "#EBF0F8",
           "ticks": "",
           "title": {
            "standoff": 15
           },
           "zerolinecolor": "#EBF0F8",
           "zerolinewidth": 2
          }
         }
        },
        "title": {
         "text": "Mean relative share of consistency cases among global optima <br>grouped by configuration of weights"
        },
        "width": 860,
        "xaxis": {
         "anchor": "y",
         "domain": [
          0,
          0.47
         ],
         "linecolor": "DarkGrey",
         "showgrid": false,
         "showticklabels": true,
         "title": {
          "text": ""
         }
        },
        "xaxis2": {
         "anchor": "y2",
         "domain": [
          0.51,
          0.98
         ],
         "linecolor": "DarkGrey",
         "matches": "x",
         "showgrid": false,
         "showticklabels": true,
         "title": {
          "text": ""
         }
        },
        "xaxis3": {
         "anchor": "y3",
         "domain": [
          0,
          0.47
         ],
         "linecolor": "DarkGrey",
         "matches": "x",
         "showgrid": false,
         "showticklabels": true,
         "title": {
          "text": ""
         }
        },
        "xaxis4": {
         "anchor": "y4",
         "domain": [
          0.51,
          0.98
         ],
         "linecolor": "DarkGrey",
         "matches": "x",
         "showgrid": false,
         "showticklabels": true,
         "title": {
          "text": ""
         }
        },
        "yaxis": {
         "anchor": "x",
         "domain": [
          0,
          0.46499999999999997
         ],
         "title": {
          "text": ""
         }
        },
        "yaxis2": {
         "anchor": "x2",
         "domain": [
          0,
          0.46499999999999997
         ],
         "matches": "y",
         "showticklabels": false,
         "title": {
          "text": ""
         }
        },
        "yaxis3": {
         "anchor": "x3",
         "domain": [
          0.5349999999999999,
          0.9999999999999999
         ],
         "matches": "y",
         "title": {
          "text": ""
         }
        },
        "yaxis4": {
         "anchor": "x4",
         "domain": [
          0.5349999999999999,
          0.9999999999999999
         ],
         "matches": "y",
         "showticklabels": false,
         "title": {
          "text": ""
         }
        }
       }
      },
      "text/html": [
       "<div>                            <div id=\"d77671e5-3229-4d01-92d3-719dab1a1015\" class=\"plotly-graph-div\" style=\"height:525px; width:860px;\"></div>            <script type=\"text/javascript\">                require([\"plotly\"], function(Plotly) {                    window.PLOTLYENV=window.PLOTLYENV || {};                                    if (document.getElementById(\"d77671e5-3229-4d01-92d3-719dab1a1015\")) {                    Plotly.newPlot(                        \"d77671e5-3229-4d01-92d3-719dab1a1015\",                        [{\"alignmentgroup\":\"True\",\"hovertemplate\":\"variable=rel_go_inconsistency_eliminating_case<br>weight_systematicity=0.25<br>weight_account=0.25<br>model_short_name=%{x}<br>value=%{y}<extra></extra>\",\"legendgroup\":\"rel_go_inconsistency_eliminating_case\",\"marker\":{\"color\":\"#b0dd31\",\"pattern\":{\"shape\":\"\"}},\"name\":\"Inconsistency eliminating (IE)\",\"offsetgroup\":\"rel_go_inconsistency_eliminating_case\",\"orientation\":\"v\",\"showlegend\":true,\"textposition\":\"auto\",\"x\":[\"QGRE\",\"LGRE\",\"QLRE\",\"LLRE\"],\"xaxis\":\"x3\",\"y\":[0.04,0.0,0.04,0.0],\"yaxis\":\"y3\",\"type\":\"bar\"},{\"alignmentgroup\":\"True\",\"hovertemplate\":\"variable=rel_go_inconsistency_eliminating_case<br>weight_systematicity=0.25<br>weight_account=0.5<br>model_short_name=%{x}<br>value=%{y}<extra></extra>\",\"legendgroup\":\"rel_go_inconsistency_eliminating_case\",\"marker\":{\"color\":\"#b0dd31\",\"pattern\":{\"shape\":\"\"}},\"name\":\"Inconsistency eliminating (IE)\",\"offsetgroup\":\"rel_go_inconsistency_eliminating_case\",\"orientation\":\"v\",\"showlegend\":false,\"textposition\":\"auto\",\"x\":[\"QGRE\",\"LGRE\",\"QLRE\",\"LLRE\"],\"xaxis\":\"x4\",\"y\":[0.42,0.61,0.42,0.61],\"yaxis\":\"y4\",\"type\":\"bar\"},{\"alignmentgroup\":\"True\",\"hovertemplate\":\"variable=rel_go_inconsistency_eliminating_case<br>weight_systematicity=0.5<br>weight_account=0.25<br>model_short_name=%{x}<br>value=%{y}<extra></extra>\",\"legendgroup\":\"rel_go_inconsistency_eliminating_case\",\"marker\":{\"color\":\"#b0dd31\",\"pattern\":{\"shape\":\"\"}},\"name\":\"Inconsistency eliminating (IE)\",\"offsetgroup\":\"rel_go_inconsistency_eliminating_case\",\"orientation\":\"v\",\"showlegend\":false,\"textposition\":\"auto\",\"x\":[\"QGRE\",\"LGRE\",\"QLRE\",\"LLRE\"],\"xaxis\":\"x\",\"y\":[0.25,0.25,0.25,0.25],\"yaxis\":\"y\",\"type\":\"bar\"},{\"alignmentgroup\":\"True\",\"hovertemplate\":\"variable=rel_go_consistency_preserving_case<br>weight_systematicity=0.25<br>weight_account=0.25<br>model_short_name=%{x}<br>value=%{y}<extra></extra>\",\"legendgroup\":\"rel_go_consistency_preserving_case\",\"marker\":{\"color\":\"#29ae80\",\"pattern\":{\"shape\":\"\"}},\"name\":\"Consistency preserving (CP)\",\"offsetgroup\":\"rel_go_consistency_preserving_case\",\"orientation\":\"v\",\"showlegend\":true,\"textposition\":\"auto\",\"x\":[\"QGRE\",\"LGRE\",\"QLRE\",\"LLRE\"],\"xaxis\":\"x3\",\"y\":[0.35,0.36,0.35,0.36],\"yaxis\":\"y3\",\"type\":\"bar\"},{\"alignmentgroup\":\"True\",\"hovertemplate\":\"variable=rel_go_consistency_preserving_case<br>weight_systematicity=0.25<br>weight_account=0.5<br>model_short_name=%{x}<br>value=%{y}<extra></extra>\",\"legendgroup\":\"rel_go_consistency_preserving_case\",\"marker\":{\"color\":\"#29ae80\",\"pattern\":{\"shape\":\"\"}},\"name\":\"Consistency preserving (CP)\",\"offsetgroup\":\"rel_go_consistency_preserving_case\",\"orientation\":\"v\",\"showlegend\":false,\"textposition\":\"auto\",\"x\":[\"QGRE\",\"LGRE\",\"QLRE\",\"LLRE\"],\"xaxis\":\"x4\",\"y\":[0.39,0.39,0.39,0.39],\"yaxis\":\"y4\",\"type\":\"bar\"},{\"alignmentgroup\":\"True\",\"hovertemplate\":\"variable=rel_go_consistency_preserving_case<br>weight_systematicity=0.5<br>weight_account=0.25<br>model_short_name=%{x}<br>value=%{y}<extra></extra>\",\"legendgroup\":\"rel_go_consistency_preserving_case\",\"marker\":{\"color\":\"#29ae80\",\"pattern\":{\"shape\":\"\"}},\"name\":\"Consistency preserving (CP)\",\"offsetgroup\":\"rel_go_consistency_preserving_case\",\"orientation\":\"v\",\"showlegend\":false,\"textposition\":\"auto\",\"x\":[\"QGRE\",\"LGRE\",\"QLRE\",\"LLRE\"],\"xaxis\":\"x\",\"y\":[0.37,0.37,0.37,0.37],\"yaxis\":\"y\",\"type\":\"bar\"},{\"alignmentgroup\":\"True\",\"hovertemplate\":\"variable=rel_go_inconsistency_preserving_case<br>weight_systematicity=0.25<br>weight_account=0.25<br>model_short_name=%{x}<br>value=%{y}<extra></extra>\",\"legendgroup\":\"rel_go_inconsistency_preserving_case\",\"marker\":{\"color\":\"#2c718e\",\"pattern\":{\"shape\":\"\"}},\"name\":\"Inconsistency preserving (IP)\",\"offsetgroup\":\"rel_go_inconsistency_preserving_case\",\"orientation\":\"v\",\"showlegend\":true,\"textposition\":\"auto\",\"x\":[\"QGRE\",\"LGRE\",\"QLRE\",\"LLRE\"],\"xaxis\":\"x3\",\"y\":[0.57,0.61,0.57,0.61],\"yaxis\":\"y3\",\"type\":\"bar\"},{\"alignmentgroup\":\"True\",\"hovertemplate\":\"variable=rel_go_inconsistency_preserving_case<br>weight_systematicity=0.25<br>weight_account=0.5<br>model_short_name=%{x}<br>value=%{y}<extra></extra>\",\"legendgroup\":\"rel_go_inconsistency_preserving_case\",\"marker\":{\"color\":\"#2c718e\",\"pattern\":{\"shape\":\"\"}},\"name\":\"Inconsistency preserving (IP)\",\"offsetgroup\":\"rel_go_inconsistency_preserving_case\",\"orientation\":\"v\",\"showlegend\":false,\"textposition\":\"auto\",\"x\":[\"QGRE\",\"LGRE\",\"QLRE\",\"LLRE\"],\"xaxis\":\"x4\",\"y\":[0.19,0.0,0.19,0.0],\"yaxis\":\"y4\",\"type\":\"bar\"},{\"alignmentgroup\":\"True\",\"hovertemplate\":\"variable=rel_go_inconsistency_preserving_case<br>weight_systematicity=0.5<br>weight_account=0.25<br>model_short_name=%{x}<br>value=%{y}<extra></extra>\",\"legendgroup\":\"rel_go_inconsistency_preserving_case\",\"marker\":{\"color\":\"#2c718e\",\"pattern\":{\"shape\":\"\"}},\"name\":\"Inconsistency preserving (IP)\",\"offsetgroup\":\"rel_go_inconsistency_preserving_case\",\"orientation\":\"v\",\"showlegend\":false,\"textposition\":\"auto\",\"x\":[\"QGRE\",\"LGRE\",\"QLRE\",\"LLRE\"],\"xaxis\":\"x\",\"y\":[0.36,0.36,0.36,0.36],\"yaxis\":\"y\",\"type\":\"bar\"},{\"alignmentgroup\":\"True\",\"hovertemplate\":\"variable=rel_go_consistency_eliminating_case<br>weight_systematicity=0.25<br>weight_account=0.25<br>model_short_name=%{x}<br>value=%{y}<extra></extra>\",\"legendgroup\":\"rel_go_consistency_eliminating_case\",\"marker\":{\"color\":\"#472c7a\",\"pattern\":{\"shape\":\"\"}},\"name\":\"Consistency eliminating (CE)\",\"offsetgroup\":\"rel_go_consistency_eliminating_case\",\"orientation\":\"v\",\"showlegend\":true,\"textposition\":\"auto\",\"x\":[\"QGRE\",\"LGRE\",\"QLRE\",\"LLRE\"],\"xaxis\":\"x3\",\"y\":[0.04,0.03,0.04,0.03],\"yaxis\":\"y3\",\"type\":\"bar\"},{\"alignmentgroup\":\"True\",\"hovertemplate\":\"variable=rel_go_consistency_eliminating_case<br>weight_systematicity=0.25<br>weight_account=0.5<br>model_short_name=%{x}<br>value=%{y}<extra></extra>\",\"legendgroup\":\"rel_go_consistency_eliminating_case\",\"marker\":{\"color\":\"#472c7a\",\"pattern\":{\"shape\":\"\"}},\"name\":\"Consistency eliminating (CE)\",\"offsetgroup\":\"rel_go_consistency_eliminating_case\",\"orientation\":\"v\",\"showlegend\":false,\"textposition\":\"auto\",\"x\":[\"QGRE\",\"LGRE\",\"QLRE\",\"LLRE\"],\"xaxis\":\"x4\",\"y\":[0.0,0.0,0.0,0.0],\"yaxis\":\"y4\",\"type\":\"bar\"},{\"alignmentgroup\":\"True\",\"hovertemplate\":\"variable=rel_go_consistency_eliminating_case<br>weight_systematicity=0.5<br>weight_account=0.25<br>model_short_name=%{x}<br>value=%{y}<extra></extra>\",\"legendgroup\":\"rel_go_consistency_eliminating_case\",\"marker\":{\"color\":\"#472c7a\",\"pattern\":{\"shape\":\"\"}},\"name\":\"Consistency eliminating (CE)\",\"offsetgroup\":\"rel_go_consistency_eliminating_case\",\"orientation\":\"v\",\"showlegend\":false,\"textposition\":\"auto\",\"x\":[\"QGRE\",\"LGRE\",\"QLRE\",\"LLRE\"],\"xaxis\":\"x\",\"y\":[0.02,0.02,0.02,0.02],\"yaxis\":\"y\",\"type\":\"bar\"}],                        {\"template\":{\"data\":{\"barpolar\":[{\"marker\":{\"line\":{\"color\":\"white\",\"width\":0.5},\"pattern\":{\"fillmode\":\"overlay\",\"size\":10,\"solidity\":0.2}},\"type\":\"barpolar\"}],\"bar\":[{\"error_x\":{\"color\":\"#2a3f5f\"},\"error_y\":{\"color\":\"#2a3f5f\"},\"marker\":{\"line\":{\"color\":\"white\",\"width\":0.5},\"pattern\":{\"fillmode\":\"overlay\",\"size\":10,\"solidity\":0.2}},\"type\":\"bar\"}],\"carpet\":[{\"aaxis\":{\"endlinecolor\":\"#2a3f5f\",\"gridcolor\":\"#C8D4E3\",\"linecolor\":\"#C8D4E3\",\"minorgridcolor\":\"#C8D4E3\",\"startlinecolor\":\"#2a3f5f\"},\"baxis\":{\"endlinecolor\":\"#2a3f5f\",\"gridcolor\":\"#C8D4E3\",\"linecolor\":\"#C8D4E3\",\"minorgridcolor\":\"#C8D4E3\",\"startlinecolor\":\"#2a3f5f\"},\"type\":\"carpet\"}],\"choropleth\":[{\"colorbar\":{\"outlinewidth\":0,\"ticks\":\"\"},\"type\":\"choropleth\"}],\"contourcarpet\":[{\"colorbar\":{\"outlinewidth\":0,\"ticks\":\"\"},\"type\":\"contourcarpet\"}],\"contour\":[{\"colorbar\":{\"outlinewidth\":0,\"ticks\":\"\"},\"colorscale\":[[0.0,\"#0d0887\"],[0.1111111111111111,\"#46039f\"],[0.2222222222222222,\"#7201a8\"],[0.3333333333333333,\"#9c179e\"],[0.4444444444444444,\"#bd3786\"],[0.5555555555555556,\"#d8576b\"],[0.6666666666666666,\"#ed7953\"],[0.7777777777777778,\"#fb9f3a\"],[0.8888888888888888,\"#fdca26\"],[1.0,\"#f0f921\"]],\"type\":\"contour\"}],\"heatmapgl\":[{\"colorbar\":{\"outlinewidth\":0,\"ticks\":\"\"},\"colorscale\":[[0.0,\"#0d0887\"],[0.1111111111111111,\"#46039f\"],[0.2222222222222222,\"#7201a8\"],[0.3333333333333333,\"#9c179e\"],[0.4444444444444444,\"#bd3786\"],[0.5555555555555556,\"#d8576b\"],[0.6666666666666666,\"#ed7953\"],[0.7777777777777778,\"#fb9f3a\"],[0.8888888888888888,\"#fdca26\"],[1.0,\"#f0f921\"]],\"type\":\"heatmapgl\"}],\"heatmap\":[{\"colorbar\":{\"outlinewidth\":0,\"ticks\":\"\"},\"colorscale\":[[0.0,\"#0d0887\"],[0.1111111111111111,\"#46039f\"],[0.2222222222222222,\"#7201a8\"],[0.3333333333333333,\"#9c179e\"],[0.4444444444444444,\"#bd3786\"],[0.5555555555555556,\"#d8576b\"],[0.6666666666666666,\"#ed7953\"],[0.7777777777777778,\"#fb9f3a\"],[0.8888888888888888,\"#fdca26\"],[1.0,\"#f0f921\"]],\"type\":\"heatmap\"}],\"histogram2dcontour\":[{\"colorbar\":{\"outlinewidth\":0,\"ticks\":\"\"},\"colorscale\":[[0.0,\"#0d0887\"],[0.1111111111111111,\"#46039f\"],[0.2222222222222222,\"#7201a8\"],[0.3333333333333333,\"#9c179e\"],[0.4444444444444444,\"#bd3786\"],[0.5555555555555556,\"#d8576b\"],[0.6666666666666666,\"#ed7953\"],[0.7777777777777778,\"#fb9f3a\"],[0.8888888888888888,\"#fdca26\"],[1.0,\"#f0f921\"]],\"type\":\"histogram2dcontour\"}],\"histogram2d\":[{\"colorbar\":{\"outlinewidth\":0,\"ticks\":\"\"},\"colorscale\":[[0.0,\"#0d0887\"],[0.1111111111111111,\"#46039f\"],[0.2222222222222222,\"#7201a8\"],[0.3333333333333333,\"#9c179e\"],[0.4444444444444444,\"#bd3786\"],[0.5555555555555556,\"#d8576b\"],[0.6666666666666666,\"#ed7953\"],[0.7777777777777778,\"#fb9f3a\"],[0.8888888888888888,\"#fdca26\"],[1.0,\"#f0f921\"]],\"type\":\"histogram2d\"}],\"histogram\":[{\"marker\":{\"pattern\":{\"fillmode\":\"overlay\",\"size\":10,\"solidity\":0.2}},\"type\":\"histogram\"}],\"mesh3d\":[{\"colorbar\":{\"outlinewidth\":0,\"ticks\":\"\"},\"type\":\"mesh3d\"}],\"parcoords\":[{\"line\":{\"colorbar\":{\"outlinewidth\":0,\"ticks\":\"\"}},\"type\":\"parcoords\"}],\"pie\":[{\"automargin\":true,\"type\":\"pie\"}],\"scatter3d\":[{\"line\":{\"colorbar\":{\"outlinewidth\":0,\"ticks\":\"\"}},\"marker\":{\"colorbar\":{\"outlinewidth\":0,\"ticks\":\"\"}},\"type\":\"scatter3d\"}],\"scattercarpet\":[{\"marker\":{\"colorbar\":{\"outlinewidth\":0,\"ticks\":\"\"}},\"type\":\"scattercarpet\"}],\"scattergeo\":[{\"marker\":{\"colorbar\":{\"outlinewidth\":0,\"ticks\":\"\"}},\"type\":\"scattergeo\"}],\"scattergl\":[{\"marker\":{\"colorbar\":{\"outlinewidth\":0,\"ticks\":\"\"}},\"type\":\"scattergl\"}],\"scattermapbox\":[{\"marker\":{\"colorbar\":{\"outlinewidth\":0,\"ticks\":\"\"}},\"type\":\"scattermapbox\"}],\"scatterpolargl\":[{\"marker\":{\"colorbar\":{\"outlinewidth\":0,\"ticks\":\"\"}},\"type\":\"scatterpolargl\"}],\"scatterpolar\":[{\"marker\":{\"colorbar\":{\"outlinewidth\":0,\"ticks\":\"\"}},\"type\":\"scatterpolar\"}],\"scatter\":[{\"fillpattern\":{\"fillmode\":\"overlay\",\"size\":10,\"solidity\":0.2},\"type\":\"scatter\"}],\"scatterternary\":[{\"marker\":{\"colorbar\":{\"outlinewidth\":0,\"ticks\":\"\"}},\"type\":\"scatterternary\"}],\"surface\":[{\"colorbar\":{\"outlinewidth\":0,\"ticks\":\"\"},\"colorscale\":[[0.0,\"#0d0887\"],[0.1111111111111111,\"#46039f\"],[0.2222222222222222,\"#7201a8\"],[0.3333333333333333,\"#9c179e\"],[0.4444444444444444,\"#bd3786\"],[0.5555555555555556,\"#d8576b\"],[0.6666666666666666,\"#ed7953\"],[0.7777777777777778,\"#fb9f3a\"],[0.8888888888888888,\"#fdca26\"],[1.0,\"#f0f921\"]],\"type\":\"surface\"}],\"table\":[{\"cells\":{\"fill\":{\"color\":\"#EBF0F8\"},\"line\":{\"color\":\"white\"}},\"header\":{\"fill\":{\"color\":\"#C8D4E3\"},\"line\":{\"color\":\"white\"}},\"type\":\"table\"}]},\"layout\":{\"annotationdefaults\":{\"arrowcolor\":\"#2a3f5f\",\"arrowhead\":0,\"arrowwidth\":1},\"autotypenumbers\":\"strict\",\"coloraxis\":{\"colorbar\":{\"outlinewidth\":0,\"ticks\":\"\"}},\"colorscale\":{\"diverging\":[[0,\"#8e0152\"],[0.1,\"#c51b7d\"],[0.2,\"#de77ae\"],[0.3,\"#f1b6da\"],[0.4,\"#fde0ef\"],[0.5,\"#f7f7f7\"],[0.6,\"#e6f5d0\"],[0.7,\"#b8e186\"],[0.8,\"#7fbc41\"],[0.9,\"#4d9221\"],[1,\"#276419\"]],\"sequential\":[[0.0,\"#0d0887\"],[0.1111111111111111,\"#46039f\"],[0.2222222222222222,\"#7201a8\"],[0.3333333333333333,\"#9c179e\"],[0.4444444444444444,\"#bd3786\"],[0.5555555555555556,\"#d8576b\"],[0.6666666666666666,\"#ed7953\"],[0.7777777777777778,\"#fb9f3a\"],[0.8888888888888888,\"#fdca26\"],[1.0,\"#f0f921\"]],\"sequentialminus\":[[0.0,\"#0d0887\"],[0.1111111111111111,\"#46039f\"],[0.2222222222222222,\"#7201a8\"],[0.3333333333333333,\"#9c179e\"],[0.4444444444444444,\"#bd3786\"],[0.5555555555555556,\"#d8576b\"],[0.6666666666666666,\"#ed7953\"],[0.7777777777777778,\"#fb9f3a\"],[0.8888888888888888,\"#fdca26\"],[1.0,\"#f0f921\"]]},\"colorway\":[\"#636efa\",\"#EF553B\",\"#00cc96\",\"#ab63fa\",\"#FFA15A\",\"#19d3f3\",\"#FF6692\",\"#B6E880\",\"#FF97FF\",\"#FECB52\"],\"font\":{\"color\":\"#2a3f5f\"},\"geo\":{\"bgcolor\":\"white\",\"lakecolor\":\"white\",\"landcolor\":\"white\",\"showlakes\":true,\"showland\":true,\"subunitcolor\":\"#C8D4E3\"},\"hoverlabel\":{\"align\":\"left\"},\"hovermode\":\"closest\",\"mapbox\":{\"style\":\"light\"},\"paper_bgcolor\":\"white\",\"plot_bgcolor\":\"white\",\"polar\":{\"angularaxis\":{\"gridcolor\":\"#EBF0F8\",\"linecolor\":\"#EBF0F8\",\"ticks\":\"\"},\"bgcolor\":\"white\",\"radialaxis\":{\"gridcolor\":\"#EBF0F8\",\"linecolor\":\"#EBF0F8\",\"ticks\":\"\"}},\"scene\":{\"xaxis\":{\"backgroundcolor\":\"white\",\"gridcolor\":\"#DFE8F3\",\"gridwidth\":2,\"linecolor\":\"#EBF0F8\",\"showbackground\":true,\"ticks\":\"\",\"zerolinecolor\":\"#EBF0F8\"},\"yaxis\":{\"backgroundcolor\":\"white\",\"gridcolor\":\"#DFE8F3\",\"gridwidth\":2,\"linecolor\":\"#EBF0F8\",\"showbackground\":true,\"ticks\":\"\",\"zerolinecolor\":\"#EBF0F8\"},\"zaxis\":{\"backgroundcolor\":\"white\",\"gridcolor\":\"#DFE8F3\",\"gridwidth\":2,\"linecolor\":\"#EBF0F8\",\"showbackground\":true,\"ticks\":\"\",\"zerolinecolor\":\"#EBF0F8\"}},\"shapedefaults\":{\"line\":{\"color\":\"#2a3f5f\"}},\"ternary\":{\"aaxis\":{\"gridcolor\":\"#DFE8F3\",\"linecolor\":\"#A2B1C6\",\"ticks\":\"\"},\"baxis\":{\"gridcolor\":\"#DFE8F3\",\"linecolor\":\"#A2B1C6\",\"ticks\":\"\"},\"bgcolor\":\"white\",\"caxis\":{\"gridcolor\":\"#DFE8F3\",\"linecolor\":\"#A2B1C6\",\"ticks\":\"\"}},\"title\":{\"x\":0.05},\"xaxis\":{\"automargin\":true,\"gridcolor\":\"#EBF0F8\",\"linecolor\":\"#EBF0F8\",\"ticks\":\"\",\"title\":{\"standoff\":15},\"zerolinecolor\":\"#EBF0F8\",\"zerolinewidth\":2},\"yaxis\":{\"automargin\":true,\"gridcolor\":\"#EBF0F8\",\"linecolor\":\"#EBF0F8\",\"ticks\":\"\",\"title\":{\"standoff\":15},\"zerolinecolor\":\"#EBF0F8\",\"zerolinewidth\":2}}},\"xaxis\":{\"anchor\":\"y\",\"domain\":[0.0,0.47],\"title\":{\"text\":\"\"},\"showticklabels\":true,\"showgrid\":false,\"linecolor\":\"DarkGrey\"},\"yaxis\":{\"anchor\":\"x\",\"domain\":[0.0,0.46499999999999997],\"title\":{\"text\":\"\"}},\"xaxis2\":{\"anchor\":\"y2\",\"domain\":[0.51,0.98],\"matches\":\"x\",\"title\":{\"text\":\"\"},\"showticklabels\":true,\"showgrid\":false,\"linecolor\":\"DarkGrey\"},\"yaxis2\":{\"anchor\":\"x2\",\"domain\":[0.0,0.46499999999999997],\"matches\":\"y\",\"showticklabels\":false,\"title\":{\"text\":\"\"}},\"xaxis3\":{\"anchor\":\"y3\",\"domain\":[0.0,0.47],\"matches\":\"x\",\"showticklabels\":true,\"title\":{\"text\":\"\"},\"showgrid\":false,\"linecolor\":\"DarkGrey\"},\"yaxis3\":{\"anchor\":\"x3\",\"domain\":[0.5349999999999999,0.9999999999999999],\"matches\":\"y\",\"title\":{\"text\":\"\"}},\"xaxis4\":{\"anchor\":\"y4\",\"domain\":[0.51,0.98],\"matches\":\"x\",\"showticklabels\":true,\"title\":{\"text\":\"\"},\"showgrid\":false,\"linecolor\":\"DarkGrey\"},\"yaxis4\":{\"anchor\":\"x4\",\"domain\":[0.5349999999999999,0.9999999999999999],\"matches\":\"y\",\"showticklabels\":false,\"title\":{\"text\":\"\"}},\"annotations\":[{\"showarrow\":false,\"text\":\"0.25\",\"x\":0.235,\"xanchor\":\"center\",\"xref\":\"paper\",\"y\":-0.15,\"yanchor\":\"bottom\",\"yref\":\"paper\"},{\"showarrow\":false,\"text\":\"0.5\",\"x\":0.745,\"xanchor\":\"center\",\"xref\":\"paper\",\"y\":-0.15,\"yanchor\":\"bottom\",\"yref\":\"paper\"},{\"showarrow\":false,\"text\":\"0.5\",\"textangle\":90,\"x\":0.98,\"xanchor\":\"left\",\"xref\":\"paper\",\"y\":0.23249999999999998,\"yanchor\":\"middle\",\"yref\":\"paper\"},{\"showarrow\":false,\"text\":\"0.25\",\"textangle\":90,\"x\":0.98,\"xanchor\":\"left\",\"xref\":\"paper\",\"y\":0.7674999999999998,\"yanchor\":\"middle\",\"yref\":\"paper\"},{\"showarrow\":false,\"text\":\"Weight account\",\"x\":0.5,\"xref\":\"paper\",\"y\":-0.2,\"yref\":\"paper\"},{\"showarrow\":false,\"text\":\"Weight systematicity\",\"textangle\":90,\"x\":1.05,\"xref\":\"paper\",\"y\":0.5,\"yref\":\"paper\"}],\"legend\":{\"title\":{\"text\":\"\"},\"tracegroupgap\":0,\"traceorder\":\"reversed\",\"orientation\":\"v\",\"x\":1.0,\"y\":1.025,\"xanchor\":\"left\"},\"margin\":{\"t\":80},\"barmode\":\"relative\",\"font\":{\"color\":\"black\",\"size\":12},\"width\":860,\"title\":{\"text\":\"Mean relative share of consistency cases among global optima <br>grouped by configuration of weights\"}},                        {\"responsive\": true}                    ).then(function(){\n",
       "                            \n",
       "var gd = document.getElementById('d77671e5-3229-4d01-92d3-719dab1a1015');\n",
       "var x = new MutationObserver(function (mutations, observer) {{\n",
       "        var display = window.getComputedStyle(gd).display;\n",
       "        if (!display || display === 'none') {{\n",
       "            console.log([gd, 'removed!']);\n",
       "            Plotly.purge(gd);\n",
       "            observer.disconnect();\n",
       "        }}\n",
       "}});\n",
       "\n",
       "// Listen for the removal of the full notebook cells\n",
       "var notebookContainer = gd.closest('#notebook-container');\n",
       "if (notebookContainer) {{\n",
       "    x.observe(notebookContainer, {childList: true});\n",
       "}}\n",
       "\n",
       "// Listen for the clearing of the current output cell\n",
       "var outputEl = gd.closest('.output');\n",
       "if (outputEl) {{\n",
       "    x.observe(outputEl, {childList: true});\n",
       "}}\n",
       "\n",
       "                        })                };                });            </script>        </div>"
      ]
     },
     "metadata": {},
     "output_type": "display_data"
    },
    {
     "data": {
      "application/vnd.plotly.v1+json": {
       "config": {
        "plotlyServerURL": "https://plot.ly"
       },
       "data": [
        {
         "alignmentgroup": "True",
         "hovertemplate": "variable=rel_fp_inconsistency_eliminating_case<br>weight_systematicity=0.25<br>weight_account=0.25<br>model_short_name=%{x}<br>value=%{y}<extra></extra>",
         "legendgroup": "rel_fp_inconsistency_eliminating_case",
         "marker": {
          "color": "#b0dd31",
          "pattern": {
           "shape": ""
          }
         },
         "name": "Inconsistency eliminating (IE)",
         "offsetgroup": "rel_fp_inconsistency_eliminating_case",
         "orientation": "v",
         "showlegend": true,
         "textposition": "auto",
         "type": "bar",
         "x": [
          "QGRE",
          "LGRE",
          "QLRE",
          "LLRE"
         ],
         "xaxis": "x3",
         "y": [
          0.02,
          0,
          0.12,
          0
         ],
         "yaxis": "y3"
        },
        {
         "alignmentgroup": "True",
         "hovertemplate": "variable=rel_fp_inconsistency_eliminating_case<br>weight_systematicity=0.25<br>weight_account=0.5<br>model_short_name=%{x}<br>value=%{y}<extra></extra>",
         "legendgroup": "rel_fp_inconsistency_eliminating_case",
         "marker": {
          "color": "#b0dd31",
          "pattern": {
           "shape": ""
          }
         },
         "name": "Inconsistency eliminating (IE)",
         "offsetgroup": "rel_fp_inconsistency_eliminating_case",
         "orientation": "v",
         "showlegend": false,
         "textposition": "auto",
         "type": "bar",
         "x": [
          "QGRE",
          "LGRE",
          "QLRE",
          "LLRE"
         ],
         "xaxis": "x4",
         "y": [
          0.52,
          0.61,
          0.31,
          0.61
         ],
         "yaxis": "y4"
        },
        {
         "alignmentgroup": "True",
         "hovertemplate": "variable=rel_fp_inconsistency_eliminating_case<br>weight_systematicity=0.5<br>weight_account=0.25<br>model_short_name=%{x}<br>value=%{y}<extra></extra>",
         "legendgroup": "rel_fp_inconsistency_eliminating_case",
         "marker": {
          "color": "#b0dd31",
          "pattern": {
           "shape": ""
          }
         },
         "name": "Inconsistency eliminating (IE)",
         "offsetgroup": "rel_fp_inconsistency_eliminating_case",
         "orientation": "v",
         "showlegend": false,
         "textposition": "auto",
         "type": "bar",
         "x": [
          "QGRE",
          "LGRE",
          "QLRE",
          "LLRE"
         ],
         "xaxis": "x",
         "y": [
          0.21,
          0.19,
          0.21,
          0.01
         ],
         "yaxis": "y"
        },
        {
         "alignmentgroup": "True",
         "hovertemplate": "variable=rel_fp_consistency_preserving_case<br>weight_systematicity=0.25<br>weight_account=0.25<br>model_short_name=%{x}<br>value=%{y}<extra></extra>",
         "legendgroup": "rel_fp_consistency_preserving_case",
         "marker": {
          "color": "#29ae80",
          "pattern": {
           "shape": ""
          }
         },
         "name": "Consistency preserving (CP)",
         "offsetgroup": "rel_fp_consistency_preserving_case",
         "orientation": "v",
         "showlegend": true,
         "textposition": "auto",
         "type": "bar",
         "x": [
          "QGRE",
          "LGRE",
          "QLRE",
          "LLRE"
         ],
         "xaxis": "x3",
         "y": [
          0.36,
          0.37,
          0.37,
          0.36
         ],
         "yaxis": "y3"
        },
        {
         "alignmentgroup": "True",
         "hovertemplate": "variable=rel_fp_consistency_preserving_case<br>weight_systematicity=0.25<br>weight_account=0.5<br>model_short_name=%{x}<br>value=%{y}<extra></extra>",
         "legendgroup": "rel_fp_consistency_preserving_case",
         "marker": {
          "color": "#29ae80",
          "pattern": {
           "shape": ""
          }
         },
         "name": "Consistency preserving (CP)",
         "offsetgroup": "rel_fp_consistency_preserving_case",
         "orientation": "v",
         "showlegend": false,
         "textposition": "auto",
         "type": "bar",
         "x": [
          "QGRE",
          "LGRE",
          "QLRE",
          "LLRE"
         ],
         "xaxis": "x4",
         "y": [
          0.39,
          0.39,
          0.38,
          0.39
         ],
         "yaxis": "y4"
        },
        {
         "alignmentgroup": "True",
         "hovertemplate": "variable=rel_fp_consistency_preserving_case<br>weight_systematicity=0.5<br>weight_account=0.25<br>model_short_name=%{x}<br>value=%{y}<extra></extra>",
         "legendgroup": "rel_fp_consistency_preserving_case",
         "marker": {
          "color": "#29ae80",
          "pattern": {
           "shape": ""
          }
         },
         "name": "Consistency preserving (CP)",
         "offsetgroup": "rel_fp_consistency_preserving_case",
         "orientation": "v",
         "showlegend": false,
         "textposition": "auto",
         "type": "bar",
         "x": [
          "QGRE",
          "LGRE",
          "QLRE",
          "LLRE"
         ],
         "xaxis": "x",
         "y": [
          0.38,
          0.38,
          0.38,
          0.36
         ],
         "yaxis": "y"
        },
        {
         "alignmentgroup": "True",
         "hovertemplate": "variable=rel_fp_inconsistency_preserving_case<br>weight_systematicity=0.25<br>weight_account=0.25<br>model_short_name=%{x}<br>value=%{y}<extra></extra>",
         "legendgroup": "rel_fp_inconsistency_preserving_case",
         "marker": {
          "color": "#2c718e",
          "pattern": {
           "shape": ""
          }
         },
         "name": "Inconsistency preserving (IP)",
         "offsetgroup": "rel_fp_inconsistency_preserving_case",
         "orientation": "v",
         "showlegend": true,
         "textposition": "auto",
         "type": "bar",
         "x": [
          "QGRE",
          "LGRE",
          "QLRE",
          "LLRE"
         ],
         "xaxis": "x3",
         "y": [
          0.59,
          0.61,
          0.49,
          0.61
         ],
         "yaxis": "y3"
        },
        {
         "alignmentgroup": "True",
         "hovertemplate": "variable=rel_fp_inconsistency_preserving_case<br>weight_systematicity=0.25<br>weight_account=0.5<br>model_short_name=%{x}<br>value=%{y}<extra></extra>",
         "legendgroup": "rel_fp_inconsistency_preserving_case",
         "marker": {
          "color": "#2c718e",
          "pattern": {
           "shape": ""
          }
         },
         "name": "Inconsistency preserving (IP)",
         "offsetgroup": "rel_fp_inconsistency_preserving_case",
         "orientation": "v",
         "showlegend": false,
         "textposition": "auto",
         "type": "bar",
         "x": [
          "QGRE",
          "LGRE",
          "QLRE",
          "LLRE"
         ],
         "xaxis": "x4",
         "y": [
          0.09,
          0,
          0.3,
          0
         ],
         "yaxis": "y4"
        },
        {
         "alignmentgroup": "True",
         "hovertemplate": "variable=rel_fp_inconsistency_preserving_case<br>weight_systematicity=0.5<br>weight_account=0.25<br>model_short_name=%{x}<br>value=%{y}<extra></extra>",
         "legendgroup": "rel_fp_inconsistency_preserving_case",
         "marker": {
          "color": "#2c718e",
          "pattern": {
           "shape": ""
          }
         },
         "name": "Inconsistency preserving (IP)",
         "offsetgroup": "rel_fp_inconsistency_preserving_case",
         "orientation": "v",
         "showlegend": false,
         "textposition": "auto",
         "type": "bar",
         "x": [
          "QGRE",
          "LGRE",
          "QLRE",
          "LLRE"
         ],
         "xaxis": "x",
         "y": [
          0.4,
          0.42,
          0.4,
          0.6
         ],
         "yaxis": "y"
        },
        {
         "alignmentgroup": "True",
         "hovertemplate": "variable=rel_fp_consistency_eliminating_case<br>weight_systematicity=0.25<br>weight_account=0.25<br>model_short_name=%{x}<br>value=%{y}<extra></extra>",
         "legendgroup": "rel_fp_consistency_eliminating_case",
         "marker": {
          "color": "#472c7a",
          "pattern": {
           "shape": ""
          }
         },
         "name": "Consistency eliminating (CE)",
         "offsetgroup": "rel_fp_consistency_eliminating_case",
         "orientation": "v",
         "showlegend": true,
         "textposition": "auto",
         "type": "bar",
         "x": [
          "QGRE",
          "LGRE",
          "QLRE",
          "LLRE"
         ],
         "xaxis": "x3",
         "y": [
          0.03,
          0.02,
          0.02,
          0.02
         ],
         "yaxis": "y3"
        },
        {
         "alignmentgroup": "True",
         "hovertemplate": "variable=rel_fp_consistency_eliminating_case<br>weight_systematicity=0.25<br>weight_account=0.5<br>model_short_name=%{x}<br>value=%{y}<extra></extra>",
         "legendgroup": "rel_fp_consistency_eliminating_case",
         "marker": {
          "color": "#472c7a",
          "pattern": {
           "shape": ""
          }
         },
         "name": "Consistency eliminating (CE)",
         "offsetgroup": "rel_fp_consistency_eliminating_case",
         "orientation": "v",
         "showlegend": false,
         "textposition": "auto",
         "type": "bar",
         "x": [
          "QGRE",
          "LGRE",
          "QLRE",
          "LLRE"
         ],
         "xaxis": "x4",
         "y": [
          0,
          0,
          0.01,
          0
         ],
         "yaxis": "y4"
        },
        {
         "alignmentgroup": "True",
         "hovertemplate": "variable=rel_fp_consistency_eliminating_case<br>weight_systematicity=0.5<br>weight_account=0.25<br>model_short_name=%{x}<br>value=%{y}<extra></extra>",
         "legendgroup": "rel_fp_consistency_eliminating_case",
         "marker": {
          "color": "#472c7a",
          "pattern": {
           "shape": ""
          }
         },
         "name": "Consistency eliminating (CE)",
         "offsetgroup": "rel_fp_consistency_eliminating_case",
         "orientation": "v",
         "showlegend": false,
         "textposition": "auto",
         "type": "bar",
         "x": [
          "QGRE",
          "LGRE",
          "QLRE",
          "LLRE"
         ],
         "xaxis": "x",
         "y": [
          0.01,
          0.01,
          0.01,
          0.02
         ],
         "yaxis": "y"
        }
       ],
       "layout": {
        "annotations": [
         {
          "showarrow": false,
          "text": "0.25",
          "x": 0.235,
          "xanchor": "center",
          "xref": "paper",
          "y": -0.15,
          "yanchor": "bottom",
          "yref": "paper"
         },
         {
          "showarrow": false,
          "text": "0.5",
          "x": 0.745,
          "xanchor": "center",
          "xref": "paper",
          "y": -0.15,
          "yanchor": "bottom",
          "yref": "paper"
         },
         {
          "showarrow": false,
          "text": "0.5",
          "textangle": 90,
          "x": 0.98,
          "xanchor": "left",
          "xref": "paper",
          "y": 0.23249999999999998,
          "yanchor": "middle",
          "yref": "paper"
         },
         {
          "showarrow": false,
          "text": "0.25",
          "textangle": 90,
          "x": 0.98,
          "xanchor": "left",
          "xref": "paper",
          "y": 0.7674999999999998,
          "yanchor": "middle",
          "yref": "paper"
         },
         {
          "showarrow": false,
          "text": "Weight account",
          "x": 0.5,
          "xref": "paper",
          "y": -0.2,
          "yref": "paper"
         },
         {
          "showarrow": false,
          "text": "Weight systematicity",
          "textangle": 90,
          "x": 1.05,
          "xref": "paper",
          "y": 0.5,
          "yref": "paper"
         }
        ],
        "barmode": "relative",
        "font": {
         "color": "black",
         "size": 12
        },
        "legend": {
         "orientation": "v",
         "title": {
          "text": ""
         },
         "tracegroupgap": 0,
         "traceorder": "reversed",
         "x": 1,
         "xanchor": "left",
         "y": 1.025
        },
        "margin": {
         "t": 80
        },
        "template": {
         "data": {
          "bar": [
           {
            "error_x": {
             "color": "#2a3f5f"
            },
            "error_y": {
             "color": "#2a3f5f"
            },
            "marker": {
             "line": {
              "color": "white",
              "width": 0.5
             },
             "pattern": {
              "fillmode": "overlay",
              "size": 10,
              "solidity": 0.2
             }
            },
            "type": "bar"
           }
          ],
          "barpolar": [
           {
            "marker": {
             "line": {
              "color": "white",
              "width": 0.5
             },
             "pattern": {
              "fillmode": "overlay",
              "size": 10,
              "solidity": 0.2
             }
            },
            "type": "barpolar"
           }
          ],
          "carpet": [
           {
            "aaxis": {
             "endlinecolor": "#2a3f5f",
             "gridcolor": "#C8D4E3",
             "linecolor": "#C8D4E3",
             "minorgridcolor": "#C8D4E3",
             "startlinecolor": "#2a3f5f"
            },
            "baxis": {
             "endlinecolor": "#2a3f5f",
             "gridcolor": "#C8D4E3",
             "linecolor": "#C8D4E3",
             "minorgridcolor": "#C8D4E3",
             "startlinecolor": "#2a3f5f"
            },
            "type": "carpet"
           }
          ],
          "choropleth": [
           {
            "colorbar": {
             "outlinewidth": 0,
             "ticks": ""
            },
            "type": "choropleth"
           }
          ],
          "contour": [
           {
            "colorbar": {
             "outlinewidth": 0,
             "ticks": ""
            },
            "colorscale": [
             [
              0,
              "#0d0887"
             ],
             [
              0.1111111111111111,
              "#46039f"
             ],
             [
              0.2222222222222222,
              "#7201a8"
             ],
             [
              0.3333333333333333,
              "#9c179e"
             ],
             [
              0.4444444444444444,
              "#bd3786"
             ],
             [
              0.5555555555555556,
              "#d8576b"
             ],
             [
              0.6666666666666666,
              "#ed7953"
             ],
             [
              0.7777777777777778,
              "#fb9f3a"
             ],
             [
              0.8888888888888888,
              "#fdca26"
             ],
             [
              1,
              "#f0f921"
             ]
            ],
            "type": "contour"
           }
          ],
          "contourcarpet": [
           {
            "colorbar": {
             "outlinewidth": 0,
             "ticks": ""
            },
            "type": "contourcarpet"
           }
          ],
          "heatmap": [
           {
            "colorbar": {
             "outlinewidth": 0,
             "ticks": ""
            },
            "colorscale": [
             [
              0,
              "#0d0887"
             ],
             [
              0.1111111111111111,
              "#46039f"
             ],
             [
              0.2222222222222222,
              "#7201a8"
             ],
             [
              0.3333333333333333,
              "#9c179e"
             ],
             [
              0.4444444444444444,
              "#bd3786"
             ],
             [
              0.5555555555555556,
              "#d8576b"
             ],
             [
              0.6666666666666666,
              "#ed7953"
             ],
             [
              0.7777777777777778,
              "#fb9f3a"
             ],
             [
              0.8888888888888888,
              "#fdca26"
             ],
             [
              1,
              "#f0f921"
             ]
            ],
            "type": "heatmap"
           }
          ],
          "heatmapgl": [
           {
            "colorbar": {
             "outlinewidth": 0,
             "ticks": ""
            },
            "colorscale": [
             [
              0,
              "#0d0887"
             ],
             [
              0.1111111111111111,
              "#46039f"
             ],
             [
              0.2222222222222222,
              "#7201a8"
             ],
             [
              0.3333333333333333,
              "#9c179e"
             ],
             [
              0.4444444444444444,
              "#bd3786"
             ],
             [
              0.5555555555555556,
              "#d8576b"
             ],
             [
              0.6666666666666666,
              "#ed7953"
             ],
             [
              0.7777777777777778,
              "#fb9f3a"
             ],
             [
              0.8888888888888888,
              "#fdca26"
             ],
             [
              1,
              "#f0f921"
             ]
            ],
            "type": "heatmapgl"
           }
          ],
          "histogram": [
           {
            "marker": {
             "pattern": {
              "fillmode": "overlay",
              "size": 10,
              "solidity": 0.2
             }
            },
            "type": "histogram"
           }
          ],
          "histogram2d": [
           {
            "colorbar": {
             "outlinewidth": 0,
             "ticks": ""
            },
            "colorscale": [
             [
              0,
              "#0d0887"
             ],
             [
              0.1111111111111111,
              "#46039f"
             ],
             [
              0.2222222222222222,
              "#7201a8"
             ],
             [
              0.3333333333333333,
              "#9c179e"
             ],
             [
              0.4444444444444444,
              "#bd3786"
             ],
             [
              0.5555555555555556,
              "#d8576b"
             ],
             [
              0.6666666666666666,
              "#ed7953"
             ],
             [
              0.7777777777777778,
              "#fb9f3a"
             ],
             [
              0.8888888888888888,
              "#fdca26"
             ],
             [
              1,
              "#f0f921"
             ]
            ],
            "type": "histogram2d"
           }
          ],
          "histogram2dcontour": [
           {
            "colorbar": {
             "outlinewidth": 0,
             "ticks": ""
            },
            "colorscale": [
             [
              0,
              "#0d0887"
             ],
             [
              0.1111111111111111,
              "#46039f"
             ],
             [
              0.2222222222222222,
              "#7201a8"
             ],
             [
              0.3333333333333333,
              "#9c179e"
             ],
             [
              0.4444444444444444,
              "#bd3786"
             ],
             [
              0.5555555555555556,
              "#d8576b"
             ],
             [
              0.6666666666666666,
              "#ed7953"
             ],
             [
              0.7777777777777778,
              "#fb9f3a"
             ],
             [
              0.8888888888888888,
              "#fdca26"
             ],
             [
              1,
              "#f0f921"
             ]
            ],
            "type": "histogram2dcontour"
           }
          ],
          "mesh3d": [
           {
            "colorbar": {
             "outlinewidth": 0,
             "ticks": ""
            },
            "type": "mesh3d"
           }
          ],
          "parcoords": [
           {
            "line": {
             "colorbar": {
              "outlinewidth": 0,
              "ticks": ""
             }
            },
            "type": "parcoords"
           }
          ],
          "pie": [
           {
            "automargin": true,
            "type": "pie"
           }
          ],
          "scatter": [
           {
            "fillpattern": {
             "fillmode": "overlay",
             "size": 10,
             "solidity": 0.2
            },
            "type": "scatter"
           }
          ],
          "scatter3d": [
           {
            "line": {
             "colorbar": {
              "outlinewidth": 0,
              "ticks": ""
             }
            },
            "marker": {
             "colorbar": {
              "outlinewidth": 0,
              "ticks": ""
             }
            },
            "type": "scatter3d"
           }
          ],
          "scattercarpet": [
           {
            "marker": {
             "colorbar": {
              "outlinewidth": 0,
              "ticks": ""
             }
            },
            "type": "scattercarpet"
           }
          ],
          "scattergeo": [
           {
            "marker": {
             "colorbar": {
              "outlinewidth": 0,
              "ticks": ""
             }
            },
            "type": "scattergeo"
           }
          ],
          "scattergl": [
           {
            "marker": {
             "colorbar": {
              "outlinewidth": 0,
              "ticks": ""
             }
            },
            "type": "scattergl"
           }
          ],
          "scattermapbox": [
           {
            "marker": {
             "colorbar": {
              "outlinewidth": 0,
              "ticks": ""
             }
            },
            "type": "scattermapbox"
           }
          ],
          "scatterpolar": [
           {
            "marker": {
             "colorbar": {
              "outlinewidth": 0,
              "ticks": ""
             }
            },
            "type": "scatterpolar"
           }
          ],
          "scatterpolargl": [
           {
            "marker": {
             "colorbar": {
              "outlinewidth": 0,
              "ticks": ""
             }
            },
            "type": "scatterpolargl"
           }
          ],
          "scatterternary": [
           {
            "marker": {
             "colorbar": {
              "outlinewidth": 0,
              "ticks": ""
             }
            },
            "type": "scatterternary"
           }
          ],
          "surface": [
           {
            "colorbar": {
             "outlinewidth": 0,
             "ticks": ""
            },
            "colorscale": [
             [
              0,
              "#0d0887"
             ],
             [
              0.1111111111111111,
              "#46039f"
             ],
             [
              0.2222222222222222,
              "#7201a8"
             ],
             [
              0.3333333333333333,
              "#9c179e"
             ],
             [
              0.4444444444444444,
              "#bd3786"
             ],
             [
              0.5555555555555556,
              "#d8576b"
             ],
             [
              0.6666666666666666,
              "#ed7953"
             ],
             [
              0.7777777777777778,
              "#fb9f3a"
             ],
             [
              0.8888888888888888,
              "#fdca26"
             ],
             [
              1,
              "#f0f921"
             ]
            ],
            "type": "surface"
           }
          ],
          "table": [
           {
            "cells": {
             "fill": {
              "color": "#EBF0F8"
             },
             "line": {
              "color": "white"
             }
            },
            "header": {
             "fill": {
              "color": "#C8D4E3"
             },
             "line": {
              "color": "white"
             }
            },
            "type": "table"
           }
          ]
         },
         "layout": {
          "annotationdefaults": {
           "arrowcolor": "#2a3f5f",
           "arrowhead": 0,
           "arrowwidth": 1
          },
          "autotypenumbers": "strict",
          "coloraxis": {
           "colorbar": {
            "outlinewidth": 0,
            "ticks": ""
           }
          },
          "colorscale": {
           "diverging": [
            [
             0,
             "#8e0152"
            ],
            [
             0.1,
             "#c51b7d"
            ],
            [
             0.2,
             "#de77ae"
            ],
            [
             0.3,
             "#f1b6da"
            ],
            [
             0.4,
             "#fde0ef"
            ],
            [
             0.5,
             "#f7f7f7"
            ],
            [
             0.6,
             "#e6f5d0"
            ],
            [
             0.7,
             "#b8e186"
            ],
            [
             0.8,
             "#7fbc41"
            ],
            [
             0.9,
             "#4d9221"
            ],
            [
             1,
             "#276419"
            ]
           ],
           "sequential": [
            [
             0,
             "#0d0887"
            ],
            [
             0.1111111111111111,
             "#46039f"
            ],
            [
             0.2222222222222222,
             "#7201a8"
            ],
            [
             0.3333333333333333,
             "#9c179e"
            ],
            [
             0.4444444444444444,
             "#bd3786"
            ],
            [
             0.5555555555555556,
             "#d8576b"
            ],
            [
             0.6666666666666666,
             "#ed7953"
            ],
            [
             0.7777777777777778,
             "#fb9f3a"
            ],
            [
             0.8888888888888888,
             "#fdca26"
            ],
            [
             1,
             "#f0f921"
            ]
           ],
           "sequentialminus": [
            [
             0,
             "#0d0887"
            ],
            [
             0.1111111111111111,
             "#46039f"
            ],
            [
             0.2222222222222222,
             "#7201a8"
            ],
            [
             0.3333333333333333,
             "#9c179e"
            ],
            [
             0.4444444444444444,
             "#bd3786"
            ],
            [
             0.5555555555555556,
             "#d8576b"
            ],
            [
             0.6666666666666666,
             "#ed7953"
            ],
            [
             0.7777777777777778,
             "#fb9f3a"
            ],
            [
             0.8888888888888888,
             "#fdca26"
            ],
            [
             1,
             "#f0f921"
            ]
           ]
          },
          "colorway": [
           "#636efa",
           "#EF553B",
           "#00cc96",
           "#ab63fa",
           "#FFA15A",
           "#19d3f3",
           "#FF6692",
           "#B6E880",
           "#FF97FF",
           "#FECB52"
          ],
          "font": {
           "color": "#2a3f5f"
          },
          "geo": {
           "bgcolor": "white",
           "lakecolor": "white",
           "landcolor": "white",
           "showlakes": true,
           "showland": true,
           "subunitcolor": "#C8D4E3"
          },
          "hoverlabel": {
           "align": "left"
          },
          "hovermode": "closest",
          "mapbox": {
           "style": "light"
          },
          "paper_bgcolor": "white",
          "plot_bgcolor": "white",
          "polar": {
           "angularaxis": {
            "gridcolor": "#EBF0F8",
            "linecolor": "#EBF0F8",
            "ticks": ""
           },
           "bgcolor": "white",
           "radialaxis": {
            "gridcolor": "#EBF0F8",
            "linecolor": "#EBF0F8",
            "ticks": ""
           }
          },
          "scene": {
           "xaxis": {
            "backgroundcolor": "white",
            "gridcolor": "#DFE8F3",
            "gridwidth": 2,
            "linecolor": "#EBF0F8",
            "showbackground": true,
            "ticks": "",
            "zerolinecolor": "#EBF0F8"
           },
           "yaxis": {
            "backgroundcolor": "white",
            "gridcolor": "#DFE8F3",
            "gridwidth": 2,
            "linecolor": "#EBF0F8",
            "showbackground": true,
            "ticks": "",
            "zerolinecolor": "#EBF0F8"
           },
           "zaxis": {
            "backgroundcolor": "white",
            "gridcolor": "#DFE8F3",
            "gridwidth": 2,
            "linecolor": "#EBF0F8",
            "showbackground": true,
            "ticks": "",
            "zerolinecolor": "#EBF0F8"
           }
          },
          "shapedefaults": {
           "line": {
            "color": "#2a3f5f"
           }
          },
          "ternary": {
           "aaxis": {
            "gridcolor": "#DFE8F3",
            "linecolor": "#A2B1C6",
            "ticks": ""
           },
           "baxis": {
            "gridcolor": "#DFE8F3",
            "linecolor": "#A2B1C6",
            "ticks": ""
           },
           "bgcolor": "white",
           "caxis": {
            "gridcolor": "#DFE8F3",
            "linecolor": "#A2B1C6",
            "ticks": ""
           }
          },
          "title": {
           "x": 0.05
          },
          "xaxis": {
           "automargin": true,
           "gridcolor": "#EBF0F8",
           "linecolor": "#EBF0F8",
           "ticks": "",
           "title": {
            "standoff": 15
           },
           "zerolinecolor": "#EBF0F8",
           "zerolinewidth": 2
          },
          "yaxis": {
           "automargin": true,
           "gridcolor": "#EBF0F8",
           "linecolor": "#EBF0F8",
           "ticks": "",
           "title": {
            "standoff": 15
           },
           "zerolinecolor": "#EBF0F8",
           "zerolinewidth": 2
          }
         }
        },
        "title": {
         "text": "Mean relative share of consistency cases among fixed points <br>grouped by configuration of weights"
        },
        "width": 860,
        "xaxis": {
         "anchor": "y",
         "domain": [
          0,
          0.47
         ],
         "linecolor": "DarkGrey",
         "showgrid": false,
         "showticklabels": true,
         "title": {
          "text": ""
         }
        },
        "xaxis2": {
         "anchor": "y2",
         "domain": [
          0.51,
          0.98
         ],
         "linecolor": "DarkGrey",
         "matches": "x",
         "showgrid": false,
         "showticklabels": true,
         "title": {
          "text": ""
         }
        },
        "xaxis3": {
         "anchor": "y3",
         "domain": [
          0,
          0.47
         ],
         "linecolor": "DarkGrey",
         "matches": "x",
         "showgrid": false,
         "showticklabels": true,
         "title": {
          "text": ""
         }
        },
        "xaxis4": {
         "anchor": "y4",
         "domain": [
          0.51,
          0.98
         ],
         "linecolor": "DarkGrey",
         "matches": "x",
         "showgrid": false,
         "showticklabels": true,
         "title": {
          "text": ""
         }
        },
        "yaxis": {
         "anchor": "x",
         "domain": [
          0,
          0.46499999999999997
         ],
         "title": {
          "text": ""
         }
        },
        "yaxis2": {
         "anchor": "x2",
         "domain": [
          0,
          0.46499999999999997
         ],
         "matches": "y",
         "showticklabels": false,
         "title": {
          "text": ""
         }
        },
        "yaxis3": {
         "anchor": "x3",
         "domain": [
          0.5349999999999999,
          0.9999999999999999
         ],
         "matches": "y",
         "title": {
          "text": ""
         }
        },
        "yaxis4": {
         "anchor": "x4",
         "domain": [
          0.5349999999999999,
          0.9999999999999999
         ],
         "matches": "y",
         "showticklabels": false,
         "title": {
          "text": ""
         }
        }
       }
      },
      "text/html": [
       "<div>                            <div id=\"9bb89248-bc18-4ca0-a52a-2d4f3ad8be42\" class=\"plotly-graph-div\" style=\"height:525px; width:860px;\"></div>            <script type=\"text/javascript\">                require([\"plotly\"], function(Plotly) {                    window.PLOTLYENV=window.PLOTLYENV || {};                                    if (document.getElementById(\"9bb89248-bc18-4ca0-a52a-2d4f3ad8be42\")) {                    Plotly.newPlot(                        \"9bb89248-bc18-4ca0-a52a-2d4f3ad8be42\",                        [{\"alignmentgroup\":\"True\",\"hovertemplate\":\"variable=rel_fp_inconsistency_eliminating_case<br>weight_systematicity=0.25<br>weight_account=0.25<br>model_short_name=%{x}<br>value=%{y}<extra></extra>\",\"legendgroup\":\"rel_fp_inconsistency_eliminating_case\",\"marker\":{\"color\":\"#b0dd31\",\"pattern\":{\"shape\":\"\"}},\"name\":\"Inconsistency eliminating (IE)\",\"offsetgroup\":\"rel_fp_inconsistency_eliminating_case\",\"orientation\":\"v\",\"showlegend\":true,\"textposition\":\"auto\",\"x\":[\"QGRE\",\"LGRE\",\"QLRE\",\"LLRE\"],\"xaxis\":\"x3\",\"y\":[0.02,0.0,0.12,0.0],\"yaxis\":\"y3\",\"type\":\"bar\"},{\"alignmentgroup\":\"True\",\"hovertemplate\":\"variable=rel_fp_inconsistency_eliminating_case<br>weight_systematicity=0.25<br>weight_account=0.5<br>model_short_name=%{x}<br>value=%{y}<extra></extra>\",\"legendgroup\":\"rel_fp_inconsistency_eliminating_case\",\"marker\":{\"color\":\"#b0dd31\",\"pattern\":{\"shape\":\"\"}},\"name\":\"Inconsistency eliminating (IE)\",\"offsetgroup\":\"rel_fp_inconsistency_eliminating_case\",\"orientation\":\"v\",\"showlegend\":false,\"textposition\":\"auto\",\"x\":[\"QGRE\",\"LGRE\",\"QLRE\",\"LLRE\"],\"xaxis\":\"x4\",\"y\":[0.52,0.61,0.31,0.61],\"yaxis\":\"y4\",\"type\":\"bar\"},{\"alignmentgroup\":\"True\",\"hovertemplate\":\"variable=rel_fp_inconsistency_eliminating_case<br>weight_systematicity=0.5<br>weight_account=0.25<br>model_short_name=%{x}<br>value=%{y}<extra></extra>\",\"legendgroup\":\"rel_fp_inconsistency_eliminating_case\",\"marker\":{\"color\":\"#b0dd31\",\"pattern\":{\"shape\":\"\"}},\"name\":\"Inconsistency eliminating (IE)\",\"offsetgroup\":\"rel_fp_inconsistency_eliminating_case\",\"orientation\":\"v\",\"showlegend\":false,\"textposition\":\"auto\",\"x\":[\"QGRE\",\"LGRE\",\"QLRE\",\"LLRE\"],\"xaxis\":\"x\",\"y\":[0.21,0.19,0.21,0.01],\"yaxis\":\"y\",\"type\":\"bar\"},{\"alignmentgroup\":\"True\",\"hovertemplate\":\"variable=rel_fp_consistency_preserving_case<br>weight_systematicity=0.25<br>weight_account=0.25<br>model_short_name=%{x}<br>value=%{y}<extra></extra>\",\"legendgroup\":\"rel_fp_consistency_preserving_case\",\"marker\":{\"color\":\"#29ae80\",\"pattern\":{\"shape\":\"\"}},\"name\":\"Consistency preserving (CP)\",\"offsetgroup\":\"rel_fp_consistency_preserving_case\",\"orientation\":\"v\",\"showlegend\":true,\"textposition\":\"auto\",\"x\":[\"QGRE\",\"LGRE\",\"QLRE\",\"LLRE\"],\"xaxis\":\"x3\",\"y\":[0.36,0.37,0.37,0.36],\"yaxis\":\"y3\",\"type\":\"bar\"},{\"alignmentgroup\":\"True\",\"hovertemplate\":\"variable=rel_fp_consistency_preserving_case<br>weight_systematicity=0.25<br>weight_account=0.5<br>model_short_name=%{x}<br>value=%{y}<extra></extra>\",\"legendgroup\":\"rel_fp_consistency_preserving_case\",\"marker\":{\"color\":\"#29ae80\",\"pattern\":{\"shape\":\"\"}},\"name\":\"Consistency preserving (CP)\",\"offsetgroup\":\"rel_fp_consistency_preserving_case\",\"orientation\":\"v\",\"showlegend\":false,\"textposition\":\"auto\",\"x\":[\"QGRE\",\"LGRE\",\"QLRE\",\"LLRE\"],\"xaxis\":\"x4\",\"y\":[0.39,0.39,0.38,0.39],\"yaxis\":\"y4\",\"type\":\"bar\"},{\"alignmentgroup\":\"True\",\"hovertemplate\":\"variable=rel_fp_consistency_preserving_case<br>weight_systematicity=0.5<br>weight_account=0.25<br>model_short_name=%{x}<br>value=%{y}<extra></extra>\",\"legendgroup\":\"rel_fp_consistency_preserving_case\",\"marker\":{\"color\":\"#29ae80\",\"pattern\":{\"shape\":\"\"}},\"name\":\"Consistency preserving (CP)\",\"offsetgroup\":\"rel_fp_consistency_preserving_case\",\"orientation\":\"v\",\"showlegend\":false,\"textposition\":\"auto\",\"x\":[\"QGRE\",\"LGRE\",\"QLRE\",\"LLRE\"],\"xaxis\":\"x\",\"y\":[0.38,0.38,0.38,0.36],\"yaxis\":\"y\",\"type\":\"bar\"},{\"alignmentgroup\":\"True\",\"hovertemplate\":\"variable=rel_fp_inconsistency_preserving_case<br>weight_systematicity=0.25<br>weight_account=0.25<br>model_short_name=%{x}<br>value=%{y}<extra></extra>\",\"legendgroup\":\"rel_fp_inconsistency_preserving_case\",\"marker\":{\"color\":\"#2c718e\",\"pattern\":{\"shape\":\"\"}},\"name\":\"Inconsistency preserving (IP)\",\"offsetgroup\":\"rel_fp_inconsistency_preserving_case\",\"orientation\":\"v\",\"showlegend\":true,\"textposition\":\"auto\",\"x\":[\"QGRE\",\"LGRE\",\"QLRE\",\"LLRE\"],\"xaxis\":\"x3\",\"y\":[0.59,0.61,0.49,0.61],\"yaxis\":\"y3\",\"type\":\"bar\"},{\"alignmentgroup\":\"True\",\"hovertemplate\":\"variable=rel_fp_inconsistency_preserving_case<br>weight_systematicity=0.25<br>weight_account=0.5<br>model_short_name=%{x}<br>value=%{y}<extra></extra>\",\"legendgroup\":\"rel_fp_inconsistency_preserving_case\",\"marker\":{\"color\":\"#2c718e\",\"pattern\":{\"shape\":\"\"}},\"name\":\"Inconsistency preserving (IP)\",\"offsetgroup\":\"rel_fp_inconsistency_preserving_case\",\"orientation\":\"v\",\"showlegend\":false,\"textposition\":\"auto\",\"x\":[\"QGRE\",\"LGRE\",\"QLRE\",\"LLRE\"],\"xaxis\":\"x4\",\"y\":[0.09,0.0,0.3,0.0],\"yaxis\":\"y4\",\"type\":\"bar\"},{\"alignmentgroup\":\"True\",\"hovertemplate\":\"variable=rel_fp_inconsistency_preserving_case<br>weight_systematicity=0.5<br>weight_account=0.25<br>model_short_name=%{x}<br>value=%{y}<extra></extra>\",\"legendgroup\":\"rel_fp_inconsistency_preserving_case\",\"marker\":{\"color\":\"#2c718e\",\"pattern\":{\"shape\":\"\"}},\"name\":\"Inconsistency preserving (IP)\",\"offsetgroup\":\"rel_fp_inconsistency_preserving_case\",\"orientation\":\"v\",\"showlegend\":false,\"textposition\":\"auto\",\"x\":[\"QGRE\",\"LGRE\",\"QLRE\",\"LLRE\"],\"xaxis\":\"x\",\"y\":[0.4,0.42,0.4,0.6],\"yaxis\":\"y\",\"type\":\"bar\"},{\"alignmentgroup\":\"True\",\"hovertemplate\":\"variable=rel_fp_consistency_eliminating_case<br>weight_systematicity=0.25<br>weight_account=0.25<br>model_short_name=%{x}<br>value=%{y}<extra></extra>\",\"legendgroup\":\"rel_fp_consistency_eliminating_case\",\"marker\":{\"color\":\"#472c7a\",\"pattern\":{\"shape\":\"\"}},\"name\":\"Consistency eliminating (CE)\",\"offsetgroup\":\"rel_fp_consistency_eliminating_case\",\"orientation\":\"v\",\"showlegend\":true,\"textposition\":\"auto\",\"x\":[\"QGRE\",\"LGRE\",\"QLRE\",\"LLRE\"],\"xaxis\":\"x3\",\"y\":[0.03,0.02,0.02,0.02],\"yaxis\":\"y3\",\"type\":\"bar\"},{\"alignmentgroup\":\"True\",\"hovertemplate\":\"variable=rel_fp_consistency_eliminating_case<br>weight_systematicity=0.25<br>weight_account=0.5<br>model_short_name=%{x}<br>value=%{y}<extra></extra>\",\"legendgroup\":\"rel_fp_consistency_eliminating_case\",\"marker\":{\"color\":\"#472c7a\",\"pattern\":{\"shape\":\"\"}},\"name\":\"Consistency eliminating (CE)\",\"offsetgroup\":\"rel_fp_consistency_eliminating_case\",\"orientation\":\"v\",\"showlegend\":false,\"textposition\":\"auto\",\"x\":[\"QGRE\",\"LGRE\",\"QLRE\",\"LLRE\"],\"xaxis\":\"x4\",\"y\":[0.0,0.0,0.01,0.0],\"yaxis\":\"y4\",\"type\":\"bar\"},{\"alignmentgroup\":\"True\",\"hovertemplate\":\"variable=rel_fp_consistency_eliminating_case<br>weight_systematicity=0.5<br>weight_account=0.25<br>model_short_name=%{x}<br>value=%{y}<extra></extra>\",\"legendgroup\":\"rel_fp_consistency_eliminating_case\",\"marker\":{\"color\":\"#472c7a\",\"pattern\":{\"shape\":\"\"}},\"name\":\"Consistency eliminating (CE)\",\"offsetgroup\":\"rel_fp_consistency_eliminating_case\",\"orientation\":\"v\",\"showlegend\":false,\"textposition\":\"auto\",\"x\":[\"QGRE\",\"LGRE\",\"QLRE\",\"LLRE\"],\"xaxis\":\"x\",\"y\":[0.01,0.01,0.01,0.02],\"yaxis\":\"y\",\"type\":\"bar\"}],                        {\"template\":{\"data\":{\"barpolar\":[{\"marker\":{\"line\":{\"color\":\"white\",\"width\":0.5},\"pattern\":{\"fillmode\":\"overlay\",\"size\":10,\"solidity\":0.2}},\"type\":\"barpolar\"}],\"bar\":[{\"error_x\":{\"color\":\"#2a3f5f\"},\"error_y\":{\"color\":\"#2a3f5f\"},\"marker\":{\"line\":{\"color\":\"white\",\"width\":0.5},\"pattern\":{\"fillmode\":\"overlay\",\"size\":10,\"solidity\":0.2}},\"type\":\"bar\"}],\"carpet\":[{\"aaxis\":{\"endlinecolor\":\"#2a3f5f\",\"gridcolor\":\"#C8D4E3\",\"linecolor\":\"#C8D4E3\",\"minorgridcolor\":\"#C8D4E3\",\"startlinecolor\":\"#2a3f5f\"},\"baxis\":{\"endlinecolor\":\"#2a3f5f\",\"gridcolor\":\"#C8D4E3\",\"linecolor\":\"#C8D4E3\",\"minorgridcolor\":\"#C8D4E3\",\"startlinecolor\":\"#2a3f5f\"},\"type\":\"carpet\"}],\"choropleth\":[{\"colorbar\":{\"outlinewidth\":0,\"ticks\":\"\"},\"type\":\"choropleth\"}],\"contourcarpet\":[{\"colorbar\":{\"outlinewidth\":0,\"ticks\":\"\"},\"type\":\"contourcarpet\"}],\"contour\":[{\"colorbar\":{\"outlinewidth\":0,\"ticks\":\"\"},\"colorscale\":[[0.0,\"#0d0887\"],[0.1111111111111111,\"#46039f\"],[0.2222222222222222,\"#7201a8\"],[0.3333333333333333,\"#9c179e\"],[0.4444444444444444,\"#bd3786\"],[0.5555555555555556,\"#d8576b\"],[0.6666666666666666,\"#ed7953\"],[0.7777777777777778,\"#fb9f3a\"],[0.8888888888888888,\"#fdca26\"],[1.0,\"#f0f921\"]],\"type\":\"contour\"}],\"heatmapgl\":[{\"colorbar\":{\"outlinewidth\":0,\"ticks\":\"\"},\"colorscale\":[[0.0,\"#0d0887\"],[0.1111111111111111,\"#46039f\"],[0.2222222222222222,\"#7201a8\"],[0.3333333333333333,\"#9c179e\"],[0.4444444444444444,\"#bd3786\"],[0.5555555555555556,\"#d8576b\"],[0.6666666666666666,\"#ed7953\"],[0.7777777777777778,\"#fb9f3a\"],[0.8888888888888888,\"#fdca26\"],[1.0,\"#f0f921\"]],\"type\":\"heatmapgl\"}],\"heatmap\":[{\"colorbar\":{\"outlinewidth\":0,\"ticks\":\"\"},\"colorscale\":[[0.0,\"#0d0887\"],[0.1111111111111111,\"#46039f\"],[0.2222222222222222,\"#7201a8\"],[0.3333333333333333,\"#9c179e\"],[0.4444444444444444,\"#bd3786\"],[0.5555555555555556,\"#d8576b\"],[0.6666666666666666,\"#ed7953\"],[0.7777777777777778,\"#fb9f3a\"],[0.8888888888888888,\"#fdca26\"],[1.0,\"#f0f921\"]],\"type\":\"heatmap\"}],\"histogram2dcontour\":[{\"colorbar\":{\"outlinewidth\":0,\"ticks\":\"\"},\"colorscale\":[[0.0,\"#0d0887\"],[0.1111111111111111,\"#46039f\"],[0.2222222222222222,\"#7201a8\"],[0.3333333333333333,\"#9c179e\"],[0.4444444444444444,\"#bd3786\"],[0.5555555555555556,\"#d8576b\"],[0.6666666666666666,\"#ed7953\"],[0.7777777777777778,\"#fb9f3a\"],[0.8888888888888888,\"#fdca26\"],[1.0,\"#f0f921\"]],\"type\":\"histogram2dcontour\"}],\"histogram2d\":[{\"colorbar\":{\"outlinewidth\":0,\"ticks\":\"\"},\"colorscale\":[[0.0,\"#0d0887\"],[0.1111111111111111,\"#46039f\"],[0.2222222222222222,\"#7201a8\"],[0.3333333333333333,\"#9c179e\"],[0.4444444444444444,\"#bd3786\"],[0.5555555555555556,\"#d8576b\"],[0.6666666666666666,\"#ed7953\"],[0.7777777777777778,\"#fb9f3a\"],[0.8888888888888888,\"#fdca26\"],[1.0,\"#f0f921\"]],\"type\":\"histogram2d\"}],\"histogram\":[{\"marker\":{\"pattern\":{\"fillmode\":\"overlay\",\"size\":10,\"solidity\":0.2}},\"type\":\"histogram\"}],\"mesh3d\":[{\"colorbar\":{\"outlinewidth\":0,\"ticks\":\"\"},\"type\":\"mesh3d\"}],\"parcoords\":[{\"line\":{\"colorbar\":{\"outlinewidth\":0,\"ticks\":\"\"}},\"type\":\"parcoords\"}],\"pie\":[{\"automargin\":true,\"type\":\"pie\"}],\"scatter3d\":[{\"line\":{\"colorbar\":{\"outlinewidth\":0,\"ticks\":\"\"}},\"marker\":{\"colorbar\":{\"outlinewidth\":0,\"ticks\":\"\"}},\"type\":\"scatter3d\"}],\"scattercarpet\":[{\"marker\":{\"colorbar\":{\"outlinewidth\":0,\"ticks\":\"\"}},\"type\":\"scattercarpet\"}],\"scattergeo\":[{\"marker\":{\"colorbar\":{\"outlinewidth\":0,\"ticks\":\"\"}},\"type\":\"scattergeo\"}],\"scattergl\":[{\"marker\":{\"colorbar\":{\"outlinewidth\":0,\"ticks\":\"\"}},\"type\":\"scattergl\"}],\"scattermapbox\":[{\"marker\":{\"colorbar\":{\"outlinewidth\":0,\"ticks\":\"\"}},\"type\":\"scattermapbox\"}],\"scatterpolargl\":[{\"marker\":{\"colorbar\":{\"outlinewidth\":0,\"ticks\":\"\"}},\"type\":\"scatterpolargl\"}],\"scatterpolar\":[{\"marker\":{\"colorbar\":{\"outlinewidth\":0,\"ticks\":\"\"}},\"type\":\"scatterpolar\"}],\"scatter\":[{\"fillpattern\":{\"fillmode\":\"overlay\",\"size\":10,\"solidity\":0.2},\"type\":\"scatter\"}],\"scatterternary\":[{\"marker\":{\"colorbar\":{\"outlinewidth\":0,\"ticks\":\"\"}},\"type\":\"scatterternary\"}],\"surface\":[{\"colorbar\":{\"outlinewidth\":0,\"ticks\":\"\"},\"colorscale\":[[0.0,\"#0d0887\"],[0.1111111111111111,\"#46039f\"],[0.2222222222222222,\"#7201a8\"],[0.3333333333333333,\"#9c179e\"],[0.4444444444444444,\"#bd3786\"],[0.5555555555555556,\"#d8576b\"],[0.6666666666666666,\"#ed7953\"],[0.7777777777777778,\"#fb9f3a\"],[0.8888888888888888,\"#fdca26\"],[1.0,\"#f0f921\"]],\"type\":\"surface\"}],\"table\":[{\"cells\":{\"fill\":{\"color\":\"#EBF0F8\"},\"line\":{\"color\":\"white\"}},\"header\":{\"fill\":{\"color\":\"#C8D4E3\"},\"line\":{\"color\":\"white\"}},\"type\":\"table\"}]},\"layout\":{\"annotationdefaults\":{\"arrowcolor\":\"#2a3f5f\",\"arrowhead\":0,\"arrowwidth\":1},\"autotypenumbers\":\"strict\",\"coloraxis\":{\"colorbar\":{\"outlinewidth\":0,\"ticks\":\"\"}},\"colorscale\":{\"diverging\":[[0,\"#8e0152\"],[0.1,\"#c51b7d\"],[0.2,\"#de77ae\"],[0.3,\"#f1b6da\"],[0.4,\"#fde0ef\"],[0.5,\"#f7f7f7\"],[0.6,\"#e6f5d0\"],[0.7,\"#b8e186\"],[0.8,\"#7fbc41\"],[0.9,\"#4d9221\"],[1,\"#276419\"]],\"sequential\":[[0.0,\"#0d0887\"],[0.1111111111111111,\"#46039f\"],[0.2222222222222222,\"#7201a8\"],[0.3333333333333333,\"#9c179e\"],[0.4444444444444444,\"#bd3786\"],[0.5555555555555556,\"#d8576b\"],[0.6666666666666666,\"#ed7953\"],[0.7777777777777778,\"#fb9f3a\"],[0.8888888888888888,\"#fdca26\"],[1.0,\"#f0f921\"]],\"sequentialminus\":[[0.0,\"#0d0887\"],[0.1111111111111111,\"#46039f\"],[0.2222222222222222,\"#7201a8\"],[0.3333333333333333,\"#9c179e\"],[0.4444444444444444,\"#bd3786\"],[0.5555555555555556,\"#d8576b\"],[0.6666666666666666,\"#ed7953\"],[0.7777777777777778,\"#fb9f3a\"],[0.8888888888888888,\"#fdca26\"],[1.0,\"#f0f921\"]]},\"colorway\":[\"#636efa\",\"#EF553B\",\"#00cc96\",\"#ab63fa\",\"#FFA15A\",\"#19d3f3\",\"#FF6692\",\"#B6E880\",\"#FF97FF\",\"#FECB52\"],\"font\":{\"color\":\"#2a3f5f\"},\"geo\":{\"bgcolor\":\"white\",\"lakecolor\":\"white\",\"landcolor\":\"white\",\"showlakes\":true,\"showland\":true,\"subunitcolor\":\"#C8D4E3\"},\"hoverlabel\":{\"align\":\"left\"},\"hovermode\":\"closest\",\"mapbox\":{\"style\":\"light\"},\"paper_bgcolor\":\"white\",\"plot_bgcolor\":\"white\",\"polar\":{\"angularaxis\":{\"gridcolor\":\"#EBF0F8\",\"linecolor\":\"#EBF0F8\",\"ticks\":\"\"},\"bgcolor\":\"white\",\"radialaxis\":{\"gridcolor\":\"#EBF0F8\",\"linecolor\":\"#EBF0F8\",\"ticks\":\"\"}},\"scene\":{\"xaxis\":{\"backgroundcolor\":\"white\",\"gridcolor\":\"#DFE8F3\",\"gridwidth\":2,\"linecolor\":\"#EBF0F8\",\"showbackground\":true,\"ticks\":\"\",\"zerolinecolor\":\"#EBF0F8\"},\"yaxis\":{\"backgroundcolor\":\"white\",\"gridcolor\":\"#DFE8F3\",\"gridwidth\":2,\"linecolor\":\"#EBF0F8\",\"showbackground\":true,\"ticks\":\"\",\"zerolinecolor\":\"#EBF0F8\"},\"zaxis\":{\"backgroundcolor\":\"white\",\"gridcolor\":\"#DFE8F3\",\"gridwidth\":2,\"linecolor\":\"#EBF0F8\",\"showbackground\":true,\"ticks\":\"\",\"zerolinecolor\":\"#EBF0F8\"}},\"shapedefaults\":{\"line\":{\"color\":\"#2a3f5f\"}},\"ternary\":{\"aaxis\":{\"gridcolor\":\"#DFE8F3\",\"linecolor\":\"#A2B1C6\",\"ticks\":\"\"},\"baxis\":{\"gridcolor\":\"#DFE8F3\",\"linecolor\":\"#A2B1C6\",\"ticks\":\"\"},\"bgcolor\":\"white\",\"caxis\":{\"gridcolor\":\"#DFE8F3\",\"linecolor\":\"#A2B1C6\",\"ticks\":\"\"}},\"title\":{\"x\":0.05},\"xaxis\":{\"automargin\":true,\"gridcolor\":\"#EBF0F8\",\"linecolor\":\"#EBF0F8\",\"ticks\":\"\",\"title\":{\"standoff\":15},\"zerolinecolor\":\"#EBF0F8\",\"zerolinewidth\":2},\"yaxis\":{\"automargin\":true,\"gridcolor\":\"#EBF0F8\",\"linecolor\":\"#EBF0F8\",\"ticks\":\"\",\"title\":{\"standoff\":15},\"zerolinecolor\":\"#EBF0F8\",\"zerolinewidth\":2}}},\"xaxis\":{\"anchor\":\"y\",\"domain\":[0.0,0.47],\"title\":{\"text\":\"\"},\"showticklabels\":true,\"showgrid\":false,\"linecolor\":\"DarkGrey\"},\"yaxis\":{\"anchor\":\"x\",\"domain\":[0.0,0.46499999999999997],\"title\":{\"text\":\"\"}},\"xaxis2\":{\"anchor\":\"y2\",\"domain\":[0.51,0.98],\"matches\":\"x\",\"title\":{\"text\":\"\"},\"showticklabels\":true,\"showgrid\":false,\"linecolor\":\"DarkGrey\"},\"yaxis2\":{\"anchor\":\"x2\",\"domain\":[0.0,0.46499999999999997],\"matches\":\"y\",\"showticklabels\":false,\"title\":{\"text\":\"\"}},\"xaxis3\":{\"anchor\":\"y3\",\"domain\":[0.0,0.47],\"matches\":\"x\",\"showticklabels\":true,\"title\":{\"text\":\"\"},\"showgrid\":false,\"linecolor\":\"DarkGrey\"},\"yaxis3\":{\"anchor\":\"x3\",\"domain\":[0.5349999999999999,0.9999999999999999],\"matches\":\"y\",\"title\":{\"text\":\"\"}},\"xaxis4\":{\"anchor\":\"y4\",\"domain\":[0.51,0.98],\"matches\":\"x\",\"showticklabels\":true,\"title\":{\"text\":\"\"},\"showgrid\":false,\"linecolor\":\"DarkGrey\"},\"yaxis4\":{\"anchor\":\"x4\",\"domain\":[0.5349999999999999,0.9999999999999999],\"matches\":\"y\",\"showticklabels\":false,\"title\":{\"text\":\"\"}},\"annotations\":[{\"showarrow\":false,\"text\":\"0.25\",\"x\":0.235,\"xanchor\":\"center\",\"xref\":\"paper\",\"y\":-0.15,\"yanchor\":\"bottom\",\"yref\":\"paper\"},{\"showarrow\":false,\"text\":\"0.5\",\"x\":0.745,\"xanchor\":\"center\",\"xref\":\"paper\",\"y\":-0.15,\"yanchor\":\"bottom\",\"yref\":\"paper\"},{\"showarrow\":false,\"text\":\"0.5\",\"textangle\":90,\"x\":0.98,\"xanchor\":\"left\",\"xref\":\"paper\",\"y\":0.23249999999999998,\"yanchor\":\"middle\",\"yref\":\"paper\"},{\"showarrow\":false,\"text\":\"0.25\",\"textangle\":90,\"x\":0.98,\"xanchor\":\"left\",\"xref\":\"paper\",\"y\":0.7674999999999998,\"yanchor\":\"middle\",\"yref\":\"paper\"},{\"showarrow\":false,\"text\":\"Weight account\",\"x\":0.5,\"xref\":\"paper\",\"y\":-0.2,\"yref\":\"paper\"},{\"showarrow\":false,\"text\":\"Weight systematicity\",\"textangle\":90,\"x\":1.05,\"xref\":\"paper\",\"y\":0.5,\"yref\":\"paper\"}],\"legend\":{\"title\":{\"text\":\"\"},\"tracegroupgap\":0,\"traceorder\":\"reversed\",\"orientation\":\"v\",\"x\":1.0,\"y\":1.025,\"xanchor\":\"left\"},\"margin\":{\"t\":80},\"barmode\":\"relative\",\"font\":{\"color\":\"black\",\"size\":12},\"width\":860,\"title\":{\"text\":\"Mean relative share of consistency cases among fixed points <br>grouped by configuration of weights\"}},                        {\"responsive\": true}                    ).then(function(){\n",
       "                            \n",
       "var gd = document.getElementById('9bb89248-bc18-4ca0-a52a-2d4f3ad8be42');\n",
       "var x = new MutationObserver(function (mutations, observer) {{\n",
       "        var display = window.getComputedStyle(gd).display;\n",
       "        if (!display || display === 'none') {{\n",
       "            console.log([gd, 'removed!']);\n",
       "            Plotly.purge(gd);\n",
       "            observer.disconnect();\n",
       "        }}\n",
       "}});\n",
       "\n",
       "// Listen for the removal of the full notebook cells\n",
       "var notebookContainer = gd.closest('#notebook-container');\n",
       "if (notebookContainer) {{\n",
       "    x.observe(notebookContainer, {childList: true});\n",
       "}}\n",
       "\n",
       "// Listen for the clearing of the current output cell\n",
       "var outputEl = gd.closest('.output');\n",
       "if (outputEl) {{\n",
       "    x.observe(outputEl, {childList: true});\n",
       "}}\n",
       "\n",
       "                        })                };                });            </script>        </div>"
      ]
     },
     "metadata": {},
     "output_type": "display_data"
    }
   ],
   "source": [
    "barplot_by_weight(go_df, \"go\")\n",
    "barplot_by_weight(fp_df, \"fp\")"
   ]
  },
  {
   "cell_type": "markdown",
   "id": "1100caf5",
   "metadata": {},
   "source": [
    "### Heatmaps"
   ]
  },
  {
   "cell_type": "code",
   "execution_count": 118,
   "id": "c6ce77db",
   "metadata": {},
   "outputs": [],
   "source": [
    "#from restudies.notebook_util import simple_heatmap_plot, heatmap_plot, heat_maps_by_weights, reproduce_re_process, evolution_data\n"
   ]
  },
  {
   "cell_type": "code",
   "execution_count": 119,
   "id": "6188b252",
   "metadata": {},
   "outputs": [],
   "source": [
    "def case_heatmaps_by_weights(data, endpoint_type, case_name, analyse_branches):\n",
    "    \n",
    "    display_std = group_results\n",
    "    metric = \"Mean(SD) relative\"\n",
    "    branches=\"\"\n",
    "    \n",
    "    if analyse_branches:\n",
    "        display_std = True\n",
    "        metric = \"Mean(SD) relative\"\n",
    "        branches = \" (all branches)\"\n",
    "        \n",
    "    #number_of_endpoints = \"n_global_optima\" if endpoint_type == \"go\" else \"n_fixed_points\"\n",
    "    \n",
    "    relative_share = 'rel_' + endpoint_type + '_' + case_name + '_case' \n",
    "        \n",
    "    #data[relative_share] = data[endpoint_type + '_' + case_name + '_case']/data[number_of_endpoints]\n",
    "    \n",
    "    display_case_name = \" \".join(case_name.split(\"_\"))\n",
    "    display_endpoint_type = \"global optima\" if endpoint_type == \"go\" else \"fixed points\"\n",
    "    \n",
    "    normalized_heat_maps_by_weights(re_data = data, \n",
    "                     values = relative_share, \n",
    "                     title = '{} share of {} cases for {}{}'.format(metric, display_case_name, display_endpoint_type, branches), \n",
    "                     annot_std = display_std,\n",
    "                     annot_fmt=\"{:2.2f}\\n\", \n",
    "                     annot_std_fmt = r'$\\pm${:2.1f}')"
   ]
  },
  {
   "cell_type": "code",
   "execution_count": 120,
   "id": "81e5915d",
   "metadata": {
    "scrolled": false
   },
   "outputs": [
    {
     "data": {
      "image/png": "[encoded data removed]",
      "text/plain": [
       "<Figure size 720x720 with 4 Axes>"
      ]
     },
     "metadata": {
      "needs_background": "light"
     },
     "output_type": "display_data"
    },
    {
     "data": {
      "image/png": "[encoded data removed]",
      "text/plain": [
       "<Figure size 720x720 with 4 Axes>"
      ]
     },
     "metadata": {
      "needs_background": "light"
     },
     "output_type": "display_data"
    },
    {
     "data": {
      "image/png": "[encoded data removed]",
      "text/plain": [
       "<Figure size 720x720 with 4 Axes>"
      ]
     },
     "metadata": {
      "needs_background": "light"
     },
     "output_type": "display_data"
    },
    {
     "data": {
      "image/png": "[encoded data removed]",
      "text/plain": [
       "<Figure size 720x720 with 4 Axes>"
      ]
     },
     "metadata": {
      "needs_background": "light"
     },
     "output_type": "display_data"
    },
    {
     "data": {
      "image/png": "[encoded data removed]",
      "text/plain": [
       "<Figure size 720x720 with 4 Axes>"
      ]
     },
     "metadata": {
      "needs_background": "light"
     },
     "output_type": "display_data"
    },
    {
     "data": {
      "image/png": "[encoded data removed]",
      "text/plain": [
       "<Figure size 720x720 with 4 Axes>"
      ]
     },
     "metadata": {
      "needs_background": "light"
     },
     "output_type": "display_data"
    },
    {
     "data": {
      "image/png": "[encoded data removed]",
      "text/plain": [
       "<Figure size 720x720 with 4 Axes>"
      ]
     },
     "metadata": {
      "needs_background": "light"
     },
     "output_type": "display_data"
    },
    {
     "data": {
      "image/png": "[encoded data removed]",
      "text/plain": [
       "<Figure size 720x720 with 4 Axes>"
      ]
     },
     "metadata": {
      "needs_background": "light"
     },
     "output_type": "display_data"
    }
   ],
   "source": [
    "for df, endpoint_type in zip([fp_result_df, go_result_df], ['fp', 'go']):\n",
    "    for case_name in [\"inconsistency_eliminating\", \n",
    "                      \"consistency_preserving\", \n",
    "                      \"inconsistency_preserving\", \n",
    "                      \"consistency_eliminating\"]:\n",
    "        \n",
    "        case_heatmaps_by_weights(df, endpoint_type, case_name, analyse_branches)\n",
    "        \n",
    "        branches = \"branches\" if analyse_branches else \"setups\"\n",
    "        \n",
    "        if export_results:\n",
    "            plt.savefig(path.join(figures_output_dir, '{}_{}_cases_{}.png'.format(endpoint_type, case_name, branches)), bbox_inches='tight')\n",
    "            plt.savefig(path.join(figures_output_dir, '{}_{}_cases_{}.pdf'.format(endpoint_type, case_name, branches)), bbox_inches='tight')"
   ]
  },
  {
   "cell_type": "code",
   "execution_count": null,
   "id": "e389adfa",
   "metadata": {},
   "outputs": [],
   "source": []
  }
 ],
 "metadata": {
  "kernelspec": {
   "display_name": "Python 3 (ipykernel)",
   "language": "python",
   "name": "python3"
  },
  "language_info": {
   "codemirror_mode": {
    "name": "ipython",
    "version": 3
   },
   "file_extension": ".py",
   "mimetype": "text/x-python",
   "name": "python",
   "nbconvert_exporter": "python",
   "pygments_lexer": "ipython3",
   "version": "3.9.7"
  }
 },
 "nbformat": 4,
 "nbformat_minor": 5
}
