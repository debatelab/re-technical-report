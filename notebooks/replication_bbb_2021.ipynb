{
 "cells": [
  {
   "cell_type": "markdown",
   "metadata": {},
   "source": [
    "# Replicating the Simulation Results from the Published Paper"
   ]
  },
  {
   "cell_type": "markdown",
   "metadata": {},
   "source": [
    "Checking whether the results from the Beisbart, Betz, and Brun (2021) (generated with an implementation of the model in Mathematica, see [here](https://github.com/debatelab/remoma)) are replicable in the current Python implementation.\n",
    "\n",
    "**Result:** The results from Beisbart, Betz, and Brun (2021) can be reproduced with the Python model. \n",
    "\n",
    "*Remark:* Beisbart, Betz, and Brun (2021) do not specify standard deviations of their results. We omit these as well for simplicity and regard the results as sufficiently similar. (Admittedly, an uncertainty analysis should corroborate this hypothesis.)  "
   ]
  },
  {
   "cell_type": "markdown",
   "metadata": {},
   "source": [
    "## How to run this notebook"
   ]
  },
  {
   "cell_type": "markdown",
   "metadata": {},
   "source": [
    "There are several possibilities to execute this notebook. You can, for instance,\n",
    "\n",
    "1. execute this notebook on Colab: [![Open In Colab](https://colab.research.google.com/assets/colab-badge.svg)](https://colab.research.google.com/github/re-models/re-technical-report/blob/main/notebooks/replication_bbb_2021.ipynb), or\n",
    "2. execute this notebook locally in, for instance, [JupyterLab](https://jupyter.org/) by cloning the Github repository of the report (for details, see <https://github.com/re-models/re-technical-report>)."
   ]
  },
  {
   "cell_type": "markdown",
   "metadata": {},
   "source": [
    "## Installing and importing libraries"
   ]
  },
  {
   "cell_type": "code",
   "execution_count": null,
   "metadata": {},
   "outputs": [],
   "source": [
    "!pip install re-technical-report"
   ]
  },
  {
   "cell_type": "code",
   "execution_count": 2,
   "metadata": {},
   "outputs": [],
   "source": [
    "from theodias import StandardPosition, DAGDialecticalStructure\n",
    "from rethon import StandardGlobalReflectiveEquilibrium\n",
    "from theodias.util import random_position_as_set\n",
    "import random\n",
    "from re_technical_report import random_weights\n",
    "\n",
    "from IPython.display import clear_output"
   ]
  },
  {
   "cell_type": "code",
   "execution_count": 3,
   "metadata": {},
   "outputs": [
    {
     "name": "stdout",
     "output_type": "stream",
     "text": [
      "{'account': 0.35, 'systematicity': 0.55, 'faithfulness': 0.1}\n"
     ]
    }
   ],
   "source": [
    "# The standard example (see Beisbart, Betz, and Brun 2021, 451):\n",
    "dia = DAGDialecticalStructure(7, initial_arguments=[[1,3],[1,4],[1,5],[1,-6],[2,-4],[2,5],[2,6],[2,7]])\n",
    "\n",
    "pos1 = StandardPosition.from_set({3,4,5}, 7)\n",
    "pos2 = StandardPosition.from_set({2,3,4,5}, 7)\n",
    "pos3 = StandardPosition.from_set({3,4,5,6,7}, 7)\n",
    "pos4 = StandardPosition.from_set({3,4,5,-6,7}, 7)\n",
    "\n",
    "positions = [pos1, pos2, pos3, pos4]\n",
    "\n",
    "re = StandardGlobalReflectiveEquilibrium(dia)\n",
    "print(re.model_parameters()['weights'])"
   ]
  },
  {
   "cell_type": "markdown",
   "metadata": {},
   "source": [
    "## First Ensemble"
   ]
  },
  {
   "cell_type": "markdown",
   "metadata": {},
   "source": [
    "- Dialectical structure: standard example\n",
    "- 500 randomly generated initial commitments\n",
    "- Fixed weights: account = 0.35, systematicity = 0.55, faithfulness = 0.1\n",
    "\n",
    "> The first ensemble is based on a random sample of initial conditions (N = 500) on the basic dialectical\n",
    "structure defined above. Using the same values of the weights as before, we find\n",
    "that in 95% of all cases, the equilibration fixed points are also global optima. Of\n",
    "these, 75% are full RE states (Beisbart, Betz, and Brun 2021, 455)."
   ]
  },
  {
   "cell_type": "code",
   "execution_count": 4,
   "metadata": {},
   "outputs": [
    {
     "name": "stdout",
     "output_type": "stream",
     "text": [
      "Total:  500\n",
      "Number of reached global optima:  468\n",
      "Relative to total [%] 93.6\n",
      "Number of full RE states among reached global optima:  366\n",
      "Relative to global optima [%] 78.21\n"
     ]
    }
   ],
   "source": [
    "n = 500\n",
    "\n",
    "go_count = 0\n",
    "full_re_count = 0\n",
    "\n",
    "for i in range(n):\n",
    "    clear_output(wait=True)\n",
    "    print('Progress [%]: ', round((i/n)*100,1))\n",
    "    init_coms = StandardPosition.from_set(random_position_as_set(7, allow_empty_position=False), 7)\n",
    "    re.set_initial_state(init_coms)\n",
    "    re.re_process()\n",
    "    tcp = (re.state().last_theory(), re.state().last_commitments())\n",
    "    global_optima = re.global_optima(init_coms)\n",
    "    \n",
    "    if tcp in global_optima:\n",
    "        go_count += 1\n",
    "        \n",
    "        if re.dialectical_structure().closure(tcp[0]) == tcp[1]:\n",
    "            full_re_count += 1\n",
    "            \n",
    "clear_output(wait=True)\n",
    "\n",
    "\n",
    "print(\"Total: \", n)\n",
    "print(\"Number of reached global optima: \", go_count)\n",
    "print(\"Relative to total [%]\", round((go_count/n)*100, 2))\n",
    "print(\"Number of full RE states among reached global optima: \", full_re_count)\n",
    "print(\"Relative to global optima [%]\", round((full_re_count/go_count)*100, 2))"
   ]
  },
  {
   "cell_type": "markdown",
   "metadata": {},
   "source": [
    "## Second Ensemble"
   ]
  },
  {
   "cell_type": "markdown",
   "metadata": {},
   "source": [
    "- Dialectical structure: standard example\n",
    "- 4 standard initial commitments\n",
    "- Randomly generated weights\n",
    "\n",
    "> The second ensemble (N = 500) uses the initial commitments and dialectical structure from the four illustrative cases discussed above, but randomly varies the weights within the achievement function. Given such systematic parameter perturbation, 88% of the equilibration fixed points are also global optima; and of these, 65% are full RE states (Beisbart, Betz, and Brun 2021, 455)."
   ]
  },
  {
   "cell_type": "code",
   "execution_count": 10,
   "metadata": {},
   "outputs": [
    {
     "name": "stdout",
     "output_type": "stream",
     "text": [
      "Total number of model runs:  500\n",
      "Number of reached global optima:  439\n",
      "Relative to total [%] 87.8\n",
      "Number of full RE states among reached global optima:  307\n",
      "Relative to global optima [%] 69.93\n"
     ]
    }
   ],
   "source": [
    "n = 125\n",
    "\n",
    "go_count = 0\n",
    "full_re_count = 0\n",
    "\n",
    "for i in range(n):\n",
    "    \n",
    "    a,f,s = random_weights()\n",
    "    re.model_parameters()[\"weights\"] = {\"account\":a, \"systematicity\":s, \"faithfulness\":f}\n",
    "    clear_output(wait=True)\n",
    "    print('Progress [%]: ', round((i/n)*100,1))\n",
    "          \n",
    "    for pos in positions:\n",
    "        re.set_initial_state(pos)\n",
    "        re.re_process()\n",
    "        tcp = (re.state().last_theory(), re.state().last_commitments())\n",
    "        global_optima = re.global_optima(pos)\n",
    "        \n",
    "        if tcp in global_optima:\n",
    "            go_count += 1\n",
    "            if re.dialectical_structure().closure(tcp[0]) == tcp[1]:\n",
    "                full_re_count += 1\n",
    "\n",
    "clear_output(wait=True)\n",
    "print(\"Total number of model runs: \", n*4)\n",
    "print(\"Number of reached global optima: \", go_count)\n",
    "print(\"Relative to total [%]\", round((go_count/(n*4))*100, 2))\n",
    "print(\"Number of full RE states among reached global optima: \", full_re_count)\n",
    "print(\"Relative to global optima [%]\", round((full_re_count/go_count)*100, 2))"
   ]
  },
  {
   "cell_type": "code",
   "execution_count": null,
   "metadata": {},
   "outputs": [],
   "source": []
  }
 ],
 "metadata": {
  "kernelspec": {
   "display_name": "py39",
   "language": "python",
   "name": "py39"
  },
  "language_info": {
   "codemirror_mode": {
    "name": "ipython",
    "version": 3
   },
   "file_extension": ".py",
   "mimetype": "text/x-python",
   "name": "python",
   "nbconvert_exporter": "python",
   "pygments_lexer": "ipython3",
   "version": "3.9.16"
  }
 },
 "nbformat": 4,
 "nbformat_minor": 4
}
