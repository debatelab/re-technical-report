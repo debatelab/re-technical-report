{
 "cells": [
  {
   "cell_type": "markdown",
   "id": "6eae1fec-209a-4795-920f-dc600a95c361",
   "metadata": {},
   "source": [
    "# Data analysis for Chapter \"Global optima and fixed points\""
   ]
  },
  {
   "cell_type": "markdown",
   "id": "794f1fb0-ef67-41dc-b179-fd609522f595",
   "metadata": {},
   "source": [
    "This notebook ...."
   ]
  },
  {
   "cell_type": "code",
   "execution_count": 3,
   "id": "9bc25f23-3009-4536-8565-f5f37e2d72e7",
   "metadata": {},
   "outputs": [],
   "source": [
    "# importing libraries\n",
    "from os import getcwd, path\n",
    "from pathlib import Path\n",
    "\n",
    "from pandas import Series, DataFrame\n",
    "import pandas as pd\n",
    "import numpy as np\n",
    "from typing import Set, List\n",
    "\n",
    "from data_analysis_helper_fun import *\n"
   ]
  },
  {
   "cell_type": "markdown",
   "id": "4bdefe2a-01dd-411f-b4bd-d62fc1b963d9",
   "metadata": {},
   "source": [
    "## Loading data"
   ]
  },
  {
   "cell_type": "code",
   "execution_count": 5,
   "id": "67540212-37b5-4bcf-b33a-28eb27419379",
   "metadata": {},
   "outputs": [
    {
     "name": "stdout",
     "output_type": "stream",
     "text": [
      "/home/sebastian/Nextcloud/Documents/mindmaps/events/projekte/re/reflective-equilibrium/github-repository/re-technical-report/data\n"
     ]
    }
   ],
   "source": [
    " # relative path to data directory\n",
    "data_dir = path.join(Path(getcwd()).parent.absolute(), \"data\")\n",
    "data_set_name = 're_data_20231105_process_results'\n",
    "data_file_name = f'{data_set_name}.csv.tar.gz'\n",
    "re_data = load_re_data(data_dir, data_file_name)"
   ]
  },
  {
   "cell_type": "code",
   "execution_count": 6,
   "id": "a5a8c1f8-8036-44bc-80f5-6cdb3d9d1afe",
   "metadata": {},
   "outputs": [
    {
     "name": "stdout",
     "output_type": "stream",
     "text": [
      "\u001b[1mGeneral information: \u001b[0m\n",
      "   Amount of rows: 197\n",
      "   Number of dialectical structures: 4\n",
      "   Overall number of initial commitments: 2\n",
      "   Sentence-pools: [6 7]\n",
      "   Models: ['GlobalNumpyReflectiveEquilibrium'\n",
      " 'StandardGlobalReflectiveEquilibriumLinearG'\n",
      " 'LocalStandardReflectiveEquilibrium'\n",
      " 'StandardLocalReflectiveEquilibriumLinearG']\n",
      "\n",
      "\n"
     ]
    }
   ],
   "source": [
    "print('\\033[1m' + 'General information: ' + '\\033[0m')\n",
    "print(\"   Amount of rows:\" , len(re_data))\n",
    "print('   Number of dialectical structures:', len(re_data['ds'].unique()))\n",
    "print('   Overall number of initial commitments:', len(re_data['init_coms'].unique()))\n",
    "print('   Sentence-pools:' , re_data['n_sentence_pool'].unique())\n",
    "print('   Models:' , re_data['model_name'].unique())\n",
    "print('\\n')"
   ]
  },
  {
   "cell_type": "markdown",
   "id": "f72b2482-0e9b-447c-8559-c06cd385e4cb",
   "metadata": {},
   "source": [
    "## Are global optima fixed points?"
   ]
  },
  {
   "cell_type": "code",
   "execution_count": 8,
   "id": "90a53908-6b1b-4cf4-bf2c-1c9cea1297d7",
   "metadata": {},
   "outputs": [
    {
     "name": "stdout",
     "output_type": "stream",
     "text": [
      "In 107 out of 197 (= 54.3 %) processes are all global optima fixed points.\n",
      "\n",
      "\n",
      "Mean relative share of global optima that are fixed points:\n"
     ]
    },
    {
     "name": "stderr",
     "output_type": "stream",
     "text": [
      "/tmp/ipykernel_452939/3852607997.py:8: FutureWarning: The default value of numeric_only in DataFrameGroupBy.mean is deprecated. In a future version, numeric_only will default to False. Either specify numeric_only or select only columns which should be valid for the function.\n",
      "  display(re_data.groupby(['model_name']).mean()[['rel_global_optima_that_are_fixed_points']])\n"
     ]
    },
    {
     "data": {
      "text/html": [
       "<div>\n",
       "<style scoped>\n",
       "    .dataframe tbody tr th:only-of-type {\n",
       "        vertical-align: middle;\n",
       "    }\n",
       "\n",
       "    .dataframe tbody tr th {\n",
       "        vertical-align: top;\n",
       "    }\n",
       "\n",
       "    .dataframe thead th {\n",
       "        text-align: right;\n",
       "    }\n",
       "</style>\n",
       "<table border=\"1\" class=\"dataframe\">\n",
       "  <thead>\n",
       "    <tr style=\"text-align: right;\">\n",
       "      <th></th>\n",
       "      <th>rel_global_optima_that_are_fixed_points</th>\n",
       "    </tr>\n",
       "    <tr>\n",
       "      <th>model_name</th>\n",
       "      <th></th>\n",
       "    </tr>\n",
       "  </thead>\n",
       "  <tbody>\n",
       "    <tr>\n",
       "      <th>GlobalNumpyReflectiveEquilibrium</th>\n",
       "      <td>0.885714</td>\n",
       "    </tr>\n",
       "    <tr>\n",
       "      <th>LocalStandardReflectiveEquilibrium</th>\n",
       "      <td>0.118056</td>\n",
       "    </tr>\n",
       "    <tr>\n",
       "      <th>StandardGlobalReflectiveEquilibriumLinearG</th>\n",
       "      <td>0.955009</td>\n",
       "    </tr>\n",
       "    <tr>\n",
       "      <th>StandardLocalReflectiveEquilibriumLinearG</th>\n",
       "      <td>0.066667</td>\n",
       "    </tr>\n",
       "  </tbody>\n",
       "</table>\n",
       "</div>"
      ],
      "text/plain": [
       "                                            rel_global_optima_that_are_fixed_points\n",
       "model_name                                                                         \n",
       "GlobalNumpyReflectiveEquilibrium                                           0.885714\n",
       "LocalStandardReflectiveEquilibrium                                         0.118056\n",
       "StandardGlobalReflectiveEquilibriumLinearG                                 0.955009\n",
       "StandardLocalReflectiveEquilibriumLinearG                                  0.066667"
      ]
     },
     "metadata": {},
     "output_type": "display_data"
    }
   ],
   "source": [
    "# Is this correct? What about the multiplicity due to branching? The possible double-counting wouldn't matter \n",
    "# only if there is always the same number of branches, right? \n",
    "re_data['rel_global_optima_that_are_fixed_points'] = re_data['go_fixed_point'].map(sum)/re_data['go_fixed_point'].map(len)\n",
    "print('In', len(re_data[re_data['rel_global_optima_that_are_fixed_points'] == 1]),\n",
    "      'out of', len(re_data),'(=', \"{:2.1f}\".format( len(re_data[re_data['rel_global_optima_that_are_fixed_points'] == 1])/len(re_data)*100),\n",
    "      '%) processes are all global optima fixed points.')\n",
    "\n",
    "print('\\n')\n",
    "print(\"Mean relative share of global optima that are fixed points:\")\n",
    "display(re_data.groupby(['model_name']).mean()[['rel_global_optima_that_are_fixed_points']])"
   ]
  },
  {
   "cell_type": "code",
   "execution_count": null,
   "id": "2bd963da-f2c2-4893-962d-6d20d2b0d265",
   "metadata": {},
   "outputs": [],
   "source": []
  }
 ],
 "metadata": {
  "kernelspec": {
   "display_name": "py39",
   "language": "python",
   "name": "py39"
  },
  "language_info": {
   "codemirror_mode": {
    "name": "ipython",
    "version": 3
   },
   "file_extension": ".py",
   "mimetype": "text/x-python",
   "name": "python",
   "nbconvert_exporter": "python",
   "pygments_lexer": "ipython3",
   "version": "3.9.16"
  }
 },
 "nbformat": 4,
 "nbformat_minor": 5
}
