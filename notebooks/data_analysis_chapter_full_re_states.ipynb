{
 "cells": [
  {
   "cell_type": "code",
   "execution_count": 1,
   "id": "738ffb7e",
   "metadata": {},
   "outputs": [],
   "source": [
    "# importing libraries\n",
    "from os import getcwd, path\n",
    "from pathlib import Path\n",
    "\n",
    "from pandas import Series, DataFrame\n",
    "import pandas as pd\n",
    "import numpy as np\n",
    "from typing import Set, List\n",
    "\n",
    "from data_analysis_helper_fun import *"
   ]
  },
  {
   "cell_type": "code",
   "execution_count": 2,
   "id": "6a660d43",
   "metadata": {},
   "outputs": [],
   "source": [
    "from data_analysis_helper_fun import normalized_heat_maps_by_weights"
   ]
  },
  {
   "cell_type": "code",
   "execution_count": 3,
   "id": "ff73e56e",
   "metadata": {},
   "outputs": [],
   "source": [
    "import warnings\n",
    "warnings.filterwarnings('ignore')"
   ]
  },
  {
   "cell_type": "markdown",
   "id": "8d5e3cc9",
   "metadata": {},
   "source": [
    "## Loading Data"
   ]
  },
  {
   "cell_type": "code",
   "execution_count": 4,
   "id": "00a6fe95",
   "metadata": {},
   "outputs": [],
   "source": [
    " # relative path to data directory\n",
    "data_dir = path.join(Path(getcwd()).parent.absolute(), \"data\")\n",
    "data_set_name = 're_data_tau_alpha_mini'\n",
    "data_file_name = f'{data_set_name}.csv.tar.gz'\n",
    "re_data = load_re_data(data_dir, \n",
    "                                data_file_name,\n",
    "                                usecols = [\"model_name\",\n",
    "                                           'n_sentence_pool',\n",
    "                                           \"ds\",\n",
    "                                           \"init_coms\",\n",
    "                                           'weight_account', \n",
    "                                           'weight_systematicity',\n",
    "                                           \"fixed_point_coms_consistent\",\n",
    "                                           \"n_fixed_points\",\n",
    "                                           \"n_global_optima\",\n",
    "                                           \"fp_full_re_state\",\n",
    "                                           \"go_full_re_state\",\n",
    "                                           'n_full_re_states',\n",
    "                                           'fixed_point_is_full_re_state'\n",
    "                                           ],\n",
    "                               evalcols = [\n",
    "                                    \"fp_full_re_state\",\n",
    "                                    \"go_full_re_state\"\n",
    "                                   ])"
   ]
  },
  {
   "cell_type": "code",
   "execution_count": 5,
   "id": "ba81ba81",
   "metadata": {},
   "outputs": [],
   "source": [
    "# output directory\n",
    "tables_output_dir = path.join(Path(getcwd()).parent.absolute(), \"report\", \"tables\")\n",
    "figures_output_dir = path.join(Path(getcwd()).parent.absolute(), \"report\", \"figures\")"
   ]
  },
  {
   "cell_type": "code",
   "execution_count": 6,
   "id": "9acdd224",
   "metadata": {},
   "outputs": [
    {
     "name": "stdout",
     "output_type": "stream",
     "text": [
      "\u001b[1mGeneral information: \u001b[0m\n",
      "   Amount of rows: 349406\n",
      "   Number of dialectical structures: 20\n",
      "   Overall number of initial commitments: 80\n",
      "   Sentence-pools: [6 7 8 9]\n",
      "   Models: ['QuadraticGlobalRE' 'LinearGlobalRE' 'QuadraticLocalRE' 'LinearLocalRE']\n",
      "\n",
      "\n"
     ]
    }
   ],
   "source": [
    "print('\\033[1m' + 'General information: ' + '\\033[0m')\n",
    "print(\"   Amount of rows:\" , len(re_data))\n",
    "print('   Number of dialectical structures:', len(re_data['ds'].unique()))\n",
    "print('   Overall number of initial commitments:', len(re_data['init_coms'].unique()))\n",
    "print('   Sentence-pools:' , re_data['n_sentence_pool'].unique())\n",
    "print('   Models:' , re_data['model_name'].unique())\n",
    "print('\\n')"
   ]
  },
  {
   "cell_type": "code",
   "execution_count": 7,
   "id": "3bfbaf65",
   "metadata": {},
   "outputs": [
    {
     "data": {
      "text/plain": [
       "Index(['model_name', 'ds', 'n_sentence_pool', 'weight_account',\n",
       "       'weight_systematicity', 'init_coms', 'fixed_point_coms_consistent',\n",
       "       'n_fixed_points', 'fixed_point_is_full_re_state', 'n_global_optima',\n",
       "       'go_full_re_state', 'n_full_re_states', 'fp_full_re_state',\n",
       "       'model_short_name'],\n",
       "      dtype='object')"
      ]
     },
     "execution_count": 7,
     "metadata": {},
     "output_type": "execute_result"
    }
   ],
   "source": [
    "re_data.columns"
   ]
  },
  {
   "cell_type": "markdown",
   "id": "5e750126",
   "metadata": {},
   "source": [
    "## Setup Dataframes"
   ]
  },
  {
   "cell_type": "code",
   "execution_count": 72,
   "id": "583d4d16",
   "metadata": {},
   "outputs": [],
   "source": [
    "\"\"\" \n",
    "If `analyse_branches` is set to `true`, all branches of RE processes are considered for the analysis. \n",
    "This may lead to the multiple counting of a unique fixed point, \n",
    "if they are reached on different paths from a simulation setup.\n",
    "Otherwise, the subsequent analysis comprises only unique fixed points per simulation setups\n",
    "\"\"\"\n",
    "analyse_branches = False\n",
    "\n",
    "grouping = [\"model_name\"]\n",
    "\n",
    "# Whether resulting tables and figures are exported to the corresponing output directory\"\"\"\n",
    "export_results = True"
   ]
  },
  {
   "cell_type": "code",
   "execution_count": 73,
   "id": "fc1f2261",
   "metadata": {},
   "outputs": [
    {
     "data": {
      "text/plain": [
       "(248192, 6)"
      ]
     },
     "execution_count": 73,
     "metadata": {},
     "output_type": "execute_result"
    }
   ],
   "source": [
    "# the analysis of global optima is not affected by status of `analyse_branches`\n",
    "\n",
    "# restrict data to unique simulation setups to prevent multiple counting of branches \n",
    "re_data_unique_setups = re_data.drop_duplicates([\"model_name\",\n",
    "                         \"ds\",\n",
    "                         \"n_sentence_pool\",\n",
    "                         'weight_account', \n",
    "                         'weight_systematicity', \n",
    "                         'init_coms'\n",
    "                        ])\n",
    "\n",
    "# restrict to relevant columns\n",
    "go_data = re_data_unique_setups[[\"model_name\",\n",
    "                                 \"ds\",\n",
    "                                 \"init_coms\",\n",
    "                                 \"weight_account\", \n",
    "                                 \"weight_systematicity\",\n",
    "                                 #'n_global_optima',\n",
    "                                 'go_full_re_state',\n",
    "                                 #'n_full_re_states'\n",
    "                                ]]\n",
    "\n",
    "# explode information about global optima, which is stored rowwise (per simulation setup) \n",
    "# in lists (e.g. in the column `go_full_re_state`)\n",
    "exploded_go_data = go_data.set_index([\"model_name\",\n",
    "                                      \"ds\",\n",
    "                                      \"init_coms\",\n",
    "                                      \"weight_account\", \n",
    "                                      \"weight_systematicity\",\n",
    "                                     ]).apply(pd.Series.explode).reset_index()\n",
    "\n",
    "exploded_go_data.shape"
   ]
  },
  {
   "cell_type": "code",
   "execution_count": 74,
   "id": "e3bb2025",
   "metadata": {},
   "outputs": [],
   "source": [
    "# this corresponds to a grouping according to simulation setups\n",
    "\n",
    "#go_data[\"rel_go_full_re\"] = go_data[\"n_full_re_states\"]/go_data[\"n_global_optima\"]\n",
    "#go_data.groupby(\"model_name\")[\"rel_go_full_re\"].describe()\n"
   ]
  },
  {
   "cell_type": "code",
   "execution_count": 75,
   "id": "12cb72e8",
   "metadata": {},
   "outputs": [],
   "source": [
    "grouped_go_data=exploded_go_data.groupby(grouping)[\"go_full_re_state\"].agg([\"sum\", \"size\"]).reset_index()\n",
    "    \n",
    "grouped_go_data = grouped_go_data.rename(columns={'sum': \"n_go_full_re_state\",\n",
    "                                                      'size': 'n_global_optima'})"
   ]
  },
  {
   "cell_type": "code",
   "execution_count": 76,
   "id": "49512df0",
   "metadata": {},
   "outputs": [
    {
     "data": {
      "text/plain": [
       "248192"
      ]
     },
     "execution_count": 76,
     "metadata": {},
     "output_type": "execute_result"
    }
   ],
   "source": [
    "grouped_go_data[\"n_global_optima\"].sum()"
   ]
  },
  {
   "cell_type": "code",
   "execution_count": 77,
   "id": "ad23a047",
   "metadata": {},
   "outputs": [],
   "source": [
    "# relative shares\n",
    "grouped_go_data[\"rel_go_full_re\"] = grouped_go_data[\"n_go_full_re_state\"]/grouped_go_data[\"n_global_optima\"]"
   ]
  },
  {
   "cell_type": "code",
   "execution_count": 78,
   "id": "f203ce7f",
   "metadata": {},
   "outputs": [
    {
     "data": {
      "text/html": [
       "<div>\n",
       "<style scoped>\n",
       "    .dataframe tbody tr th:only-of-type {\n",
       "        vertical-align: middle;\n",
       "    }\n",
       "\n",
       "    .dataframe tbody tr th {\n",
       "        vertical-align: top;\n",
       "    }\n",
       "\n",
       "    .dataframe thead th {\n",
       "        text-align: right;\n",
       "    }\n",
       "</style>\n",
       "<table border=\"1\" class=\"dataframe\">\n",
       "  <thead>\n",
       "    <tr style=\"text-align: right;\">\n",
       "      <th></th>\n",
       "      <th>model_name</th>\n",
       "      <th>n_go_full_re_state</th>\n",
       "      <th>n_global_optima</th>\n",
       "      <th>rel_go_full_re</th>\n",
       "    </tr>\n",
       "  </thead>\n",
       "  <tbody>\n",
       "    <tr>\n",
       "      <th>0</th>\n",
       "      <td>LinearGlobalRE</td>\n",
       "      <td>19430</td>\n",
       "      <td>59949</td>\n",
       "      <td>0.324109</td>\n",
       "    </tr>\n",
       "    <tr>\n",
       "      <th>1</th>\n",
       "      <td>LinearLocalRE</td>\n",
       "      <td>19430</td>\n",
       "      <td>59949</td>\n",
       "      <td>0.324109</td>\n",
       "    </tr>\n",
       "    <tr>\n",
       "      <th>2</th>\n",
       "      <td>QuadraticGlobalRE</td>\n",
       "      <td>8167</td>\n",
       "      <td>64147</td>\n",
       "      <td>0.127317</td>\n",
       "    </tr>\n",
       "    <tr>\n",
       "      <th>3</th>\n",
       "      <td>QuadraticLocalRE</td>\n",
       "      <td>8167</td>\n",
       "      <td>64147</td>\n",
       "      <td>0.127317</td>\n",
       "    </tr>\n",
       "  </tbody>\n",
       "</table>\n",
       "</div>"
      ],
      "text/plain": [
       "          model_name n_go_full_re_state  n_global_optima rel_go_full_re\n",
       "0     LinearGlobalRE              19430            59949       0.324109\n",
       "1      LinearLocalRE              19430            59949       0.324109\n",
       "2  QuadraticGlobalRE               8167            64147       0.127317\n",
       "3   QuadraticLocalRE               8167            64147       0.127317"
      ]
     },
     "execution_count": 78,
     "metadata": {},
     "output_type": "execute_result"
    }
   ],
   "source": [
    "grouped_go_data"
   ]
  },
  {
   "cell_type": "code",
   "execution_count": 79,
   "id": "23a71197",
   "metadata": {},
   "outputs": [
    {
     "data": {
      "text/plain": [
       "(152572, 6)"
      ]
     },
     "execution_count": 79,
     "metadata": {},
     "output_type": "execute_result"
    }
   ],
   "source": [
    "if analyse_branches:\n",
    "    \n",
    "    # use all rows and restrict to relevant columns\n",
    "    fp_data = re_data[[\"model_name\",\n",
    "                       \"ds\",\n",
    "                       \"init_coms\",\n",
    "                       \"weight_account\", \n",
    "                       \"weight_systematicity\", \n",
    "                       'fixed_point_is_full_re_state']]\n",
    "    \n",
    "    # rename fixed point columns \n",
    "    # note: df is already exploded\n",
    "    exploded_fp_data = fp_data.rename(columns={'fixed_point_is_full_re_state': \"fp_full_re_state\",})\n",
    "    \n",
    "else:\n",
    "    \n",
    "    # use unique setups and restrict to relevant columns\n",
    "    fp_data = re_data_unique_setups[[\"model_name\",\n",
    "                                     \"ds\",\n",
    "                                     \"init_coms\",\n",
    "                                     \"weight_account\", \n",
    "                                     \"weight_systematicity\", \n",
    "                                     \"fp_full_re_state\",\n",
    "                                     #\"n_fixed_points\"\n",
    "                                    ]]\n",
    "    \n",
    "    # explode information about unique fixed points, which is stored rowwise (per simulation setup) \n",
    "    # in lists (e.g. in the column `fp_full_re_state`) \n",
    "    exploded_fp_data = fp_data.set_index([\"model_name\",\n",
    "                                          \"ds\",\n",
    "                                          \"init_coms\",\n",
    "                                          \"weight_account\", \n",
    "                                          \"weight_systematicity\"]).apply(pd.Series.explode).reset_index()\n",
    "    \n",
    "exploded_fp_data.shape"
   ]
  },
  {
   "cell_type": "code",
   "execution_count": 80,
   "id": "ae2fc907",
   "metadata": {},
   "outputs": [
    {
     "data": {
      "text/plain": [
       "(57600, 6)"
      ]
     },
     "execution_count": 80,
     "metadata": {},
     "output_type": "execute_result"
    }
   ],
   "source": [
    "fp_data.shape"
   ]
  },
  {
   "cell_type": "code",
   "execution_count": 81,
   "id": "4310acd0",
   "metadata": {},
   "outputs": [],
   "source": [
    "grouped_fp_data=exploded_fp_data.groupby(grouping)[\"fp_full_re_state\"].agg([\"sum\", \"size\"]).reset_index()\n",
    "    \n",
    "grouped_fp_data = grouped_fp_data.rename(columns={'sum': \"n_fp_full_re_state\",\n",
    "                                                      'size': 'n_fixed_points'})"
   ]
  },
  {
   "cell_type": "code",
   "execution_count": 82,
   "id": "633c3492",
   "metadata": {},
   "outputs": [],
   "source": [
    "#if analyse_branches:\n",
    "#    \n",
    "#    grouped_fp_data=fp_data.groupby(grouping)[\"fp_full_re_state\"].agg([\"sum\", \"size\"]).reset_index()\n",
    "#    \n",
    "#    grouped_fp_data = grouped_fp_data.rename(columns={'sum': \"n_fp_full_re_state\",\n",
    "#                                                      'size': 'n_fixed_points'})\n",
    "#else:\n",
    "#    \n",
    "#    fp_data[\"n_fp_full_re_state\"] = fp_data[\"fp_full_re_state\"].map(sum)"
   ]
  },
  {
   "cell_type": "code",
   "execution_count": 83,
   "id": "4cbcdb73",
   "metadata": {},
   "outputs": [],
   "source": [
    "#fp_data.head()"
   ]
  },
  {
   "cell_type": "code",
   "execution_count": 84,
   "id": "30b522c8",
   "metadata": {},
   "outputs": [
    {
     "data": {
      "text/plain": [
       "152572"
      ]
     },
     "execution_count": 84,
     "metadata": {},
     "output_type": "execute_result"
    }
   ],
   "source": [
    "grouped_fp_data[\"n_fixed_points\"].sum()"
   ]
  },
  {
   "cell_type": "code",
   "execution_count": 85,
   "id": "509e2877",
   "metadata": {},
   "outputs": [],
   "source": [
    "# relative shares\n",
    "grouped_fp_data[\"rel_fp_full_re\"] = grouped_fp_data[\"n_fp_full_re_state\"]/grouped_fp_data[\"n_fixed_points\"]"
   ]
  },
  {
   "cell_type": "code",
   "execution_count": 86,
   "id": "682dbd3e",
   "metadata": {},
   "outputs": [
    {
     "data": {
      "text/html": [
       "<div>\n",
       "<style scoped>\n",
       "    .dataframe tbody tr th:only-of-type {\n",
       "        vertical-align: middle;\n",
       "    }\n",
       "\n",
       "    .dataframe tbody tr th {\n",
       "        vertical-align: top;\n",
       "    }\n",
       "\n",
       "    .dataframe thead th {\n",
       "        text-align: right;\n",
       "    }\n",
       "</style>\n",
       "<table border=\"1\" class=\"dataframe\">\n",
       "  <thead>\n",
       "    <tr style=\"text-align: right;\">\n",
       "      <th></th>\n",
       "      <th>model_name</th>\n",
       "      <th>n_fp_full_re_state</th>\n",
       "      <th>n_fixed_points</th>\n",
       "      <th>rel_fp_full_re</th>\n",
       "    </tr>\n",
       "  </thead>\n",
       "  <tbody>\n",
       "    <tr>\n",
       "      <th>0</th>\n",
       "      <td>LinearGlobalRE</td>\n",
       "      <td>7418</td>\n",
       "      <td>32210</td>\n",
       "      <td>0.230301</td>\n",
       "    </tr>\n",
       "    <tr>\n",
       "      <th>1</th>\n",
       "      <td>LinearLocalRE</td>\n",
       "      <td>4538</td>\n",
       "      <td>22977</td>\n",
       "      <td>0.197502</td>\n",
       "    </tr>\n",
       "    <tr>\n",
       "      <th>2</th>\n",
       "      <td>QuadraticGlobalRE</td>\n",
       "      <td>4201</td>\n",
       "      <td>41726</td>\n",
       "      <td>0.100681</td>\n",
       "    </tr>\n",
       "    <tr>\n",
       "      <th>3</th>\n",
       "      <td>QuadraticLocalRE</td>\n",
       "      <td>3025</td>\n",
       "      <td>55659</td>\n",
       "      <td>0.054349</td>\n",
       "    </tr>\n",
       "  </tbody>\n",
       "</table>\n",
       "</div>"
      ],
      "text/plain": [
       "          model_name n_fp_full_re_state  n_fixed_points rel_fp_full_re\n",
       "0     LinearGlobalRE               7418           32210       0.230301\n",
       "1      LinearLocalRE               4538           22977       0.197502\n",
       "2  QuadraticGlobalRE               4201           41726       0.100681\n",
       "3   QuadraticLocalRE               3025           55659       0.054349"
      ]
     },
     "execution_count": 86,
     "metadata": {},
     "output_type": "execute_result"
    }
   ],
   "source": [
    "grouped_fp_data"
   ]
  },
  {
   "cell_type": "markdown",
   "id": "451ec6e5",
   "metadata": {},
   "source": [
    "## Tables"
   ]
  },
  {
   "cell_type": "code",
   "execution_count": 87,
   "id": "7fbf3692",
   "metadata": {},
   "outputs": [],
   "source": [
    "#model_short_names = {'StandardGlobalReflectiveEquilibrium':'QuadraticGlobalRE',\n",
    "#                     'StandardLocalReflectiveEquilibrium':'QuadraticLocalRE',\n",
    "#                     'StandardGlobalReflectiveEquilibriumLinearG': 'LinearGlobalRE',\n",
    "#                     'StandardLocalReflectiveEquilibriumLinearG': 'LinearLocalRE'\n",
    "#                    }\n",
    "#\n",
    "#\n",
    "## Adding model short names\n",
    "#go_data['model_name'] = go_data['model_name'].map(lambda x: model_short_names[x])\n",
    "#fp_data['model_name'] = fp_data['model_name'].map(lambda x: model_short_names[x])"
   ]
  },
  {
   "cell_type": "code",
   "execution_count": 88,
   "id": "15c0f6fb",
   "metadata": {},
   "outputs": [],
   "source": [
    "#fp_data.groupby(\"model_name\")[[\"rel_fp_full_re\", \n",
    "#                               \"n_fp_full_re_state\",\n",
    "#                               \"n_fixed_points\"]].agg({\"rel_fp_full_re\":\"mean\",\n",
    "#                                                       \"n_fp_full_re_state\":\"sum\",\n",
    "#                                                       \"n_fixed_points\":\"sum\"})"
   ]
  },
  {
   "cell_type": "code",
   "execution_count": 89,
   "id": "f3c30d1f",
   "metadata": {},
   "outputs": [],
   "source": [
    "#fp_data.groupby(\"model_name\")[[\"rel_fp_full_re\", \n",
    "#                               \"n_fp_full_re_state\",\n",
    "#                               \"n_fixed_points\"]].agg({\"rel_fp_full_re\":\"mean\",\n",
    "#                                                       \"n_fp_full_re_state\":\"sum\",\n",
    "#                                                       \"n_fixed_points\":\"sum\"})"
   ]
  },
  {
   "cell_type": "code",
   "execution_count": 90,
   "id": "becf90e8",
   "metadata": {},
   "outputs": [],
   "source": [
    "# if not analyse_branches:\n",
    "#     \n",
    "#     # group by simulation setup and calculate mean over relative shares of consistency cases\n",
    "#     fp_overall_results = fp_data.groupby(['model_name',\n",
    "#                                                'ds',\n",
    "#                                                'init_coms',\n",
    "#                                                'weight_account',\n",
    "#                                                'weight_systematicity'\n",
    "#                                               ])[\"rel_fp_full_re\"].mean().reset_index()\n",
    "#     \n",
    "#     # and then group by model_name only\n",
    "#     fp_overall_results = fp_overall_results.groupby(['model_name',\n",
    "#                      #'ds',\n",
    "#                      #'init_coms',\n",
    "#                      #'weight_account',\n",
    "#                      #'weight_systematicity'\n",
    "#                      ])[\"rel_fp_full_re\"].mean().round(2).reset_index()\n",
    "#     \n",
    "# else:\n",
    "#     fp_overall_results = fp_data[[\"model_name\", \"rel_fp_full_re\"]].round(2)"
   ]
  },
  {
   "cell_type": "code",
   "execution_count": 91,
   "id": "e15010bf",
   "metadata": {},
   "outputs": [],
   "source": [
    "# group by model_name only\n",
    "#fp_overall_results = grouped_fp_data.groupby(['model_name',\n",
    "#                      #'ds',\n",
    "#                      #'init_coms',\n",
    "#                      #'weight_account',\n",
    "#                      #'weight_systematicity'\n",
    "#                      ])[\"rel_fp_full_re\"].mean().reset_index()\n",
    "#\n",
    "#go_overall_results =grouped_go_data.groupby(['model_name',\n",
    "#                     #'ds',\n",
    "#                     #'init_coms',\n",
    "#                     #'weight_account',\n",
    "#                     #'weight_systematicity'\n",
    "#                     ])[\"rel_go_full_re\"].mean().reset_index()"
   ]
  },
  {
   "cell_type": "code",
   "execution_count": 92,
   "id": "5b5ea7be",
   "metadata": {},
   "outputs": [],
   "source": [
    "#fp_overall_results"
   ]
  },
  {
   "cell_type": "code",
   "execution_count": 93,
   "id": "9b079d1d",
   "metadata": {},
   "outputs": [],
   "source": [
    "# group by simulation setup and calculate mean over relative shares of consistency cases\n",
    "#o_overall_results = go_data.groupby(['model_name',\n",
    "#                                              'ds',\n",
    "#                                              'init_coms',\n",
    "#                                              'weight_account',\n",
    "#                                              'weight_systematicity'\n",
    "#                                             ])[\"rel_go_full_re\"].mean().reset_index()\n",
    "\n",
    "#o_overall_results = go_overall_results.groupby(['model_name',\n",
    "#                    #'ds',\n",
    "#                    #'init_coms',\n",
    "#                    #'weight_account',\n",
    "#                    #'weight_systematicity'\n",
    "#                    ])[\"rel_go_full_re\"].mean().round(2).reset_index()"
   ]
  },
  {
   "cell_type": "code",
   "execution_count": 94,
   "id": "65a77f85",
   "metadata": {},
   "outputs": [],
   "source": [
    "#go_overall_results"
   ]
  },
  {
   "cell_type": "code",
   "execution_count": 95,
   "id": "35bd4631",
   "metadata": {},
   "outputs": [
    {
     "data": {
      "text/html": [
       "<div>\n",
       "<style scoped>\n",
       "    .dataframe tbody tr th:only-of-type {\n",
       "        vertical-align: middle;\n",
       "    }\n",
       "\n",
       "    .dataframe tbody tr th {\n",
       "        vertical-align: top;\n",
       "    }\n",
       "\n",
       "    .dataframe thead th {\n",
       "        text-align: right;\n",
       "    }\n",
       "</style>\n",
       "<table border=\"1\" class=\"dataframe\">\n",
       "  <thead>\n",
       "    <tr style=\"text-align: right;\">\n",
       "      <th></th>\n",
       "      <th>Model</th>\n",
       "      <th>Number of full RE global optima</th>\n",
       "      <th>Number of global optima</th>\n",
       "      <th>Relative share of full RE global optima</th>\n",
       "    </tr>\n",
       "  </thead>\n",
       "  <tbody>\n",
       "    <tr>\n",
       "      <th>2</th>\n",
       "      <td>QuadraticGlobalRE</td>\n",
       "      <td>8167</td>\n",
       "      <td>64147</td>\n",
       "      <td>0.127317</td>\n",
       "    </tr>\n",
       "    <tr>\n",
       "      <th>0</th>\n",
       "      <td>LinearGlobalRE</td>\n",
       "      <td>19430</td>\n",
       "      <td>59949</td>\n",
       "      <td>0.324109</td>\n",
       "    </tr>\n",
       "    <tr>\n",
       "      <th>3</th>\n",
       "      <td>QuadraticLocalRE</td>\n",
       "      <td>8167</td>\n",
       "      <td>64147</td>\n",
       "      <td>0.127317</td>\n",
       "    </tr>\n",
       "    <tr>\n",
       "      <th>1</th>\n",
       "      <td>LinearLocalRE</td>\n",
       "      <td>19430</td>\n",
       "      <td>59949</td>\n",
       "      <td>0.324109</td>\n",
       "    </tr>\n",
       "  </tbody>\n",
       "</table>\n",
       "</div>"
      ],
      "text/plain": [
       "               Model Number of full RE global optima  Number of global optima  \\\n",
       "2  QuadraticGlobalRE                            8167                    64147   \n",
       "0     LinearGlobalRE                           19430                    59949   \n",
       "3   QuadraticLocalRE                            8167                    64147   \n",
       "1      LinearLocalRE                           19430                    59949   \n",
       "\n",
       "  Relative share of full RE global optima  \n",
       "2                                0.127317  \n",
       "0                                0.324109  \n",
       "3                                0.127317  \n",
       "1                                0.324109  "
      ]
     },
     "metadata": {},
     "output_type": "display_data"
    },
    {
     "data": {
      "text/html": [
       "<div>\n",
       "<style scoped>\n",
       "    .dataframe tbody tr th:only-of-type {\n",
       "        vertical-align: middle;\n",
       "    }\n",
       "\n",
       "    .dataframe tbody tr th {\n",
       "        vertical-align: top;\n",
       "    }\n",
       "\n",
       "    .dataframe thead th {\n",
       "        text-align: right;\n",
       "    }\n",
       "</style>\n",
       "<table border=\"1\" class=\"dataframe\">\n",
       "  <thead>\n",
       "    <tr style=\"text-align: right;\">\n",
       "      <th></th>\n",
       "      <th>Model</th>\n",
       "      <th>Number of full RE fixed points</th>\n",
       "      <th>Number of fixed points</th>\n",
       "      <th>Relative share of full RE fixed points</th>\n",
       "    </tr>\n",
       "  </thead>\n",
       "  <tbody>\n",
       "    <tr>\n",
       "      <th>2</th>\n",
       "      <td>QuadraticGlobalRE</td>\n",
       "      <td>4201</td>\n",
       "      <td>41726</td>\n",
       "      <td>0.100681</td>\n",
       "    </tr>\n",
       "    <tr>\n",
       "      <th>0</th>\n",
       "      <td>LinearGlobalRE</td>\n",
       "      <td>7418</td>\n",
       "      <td>32210</td>\n",
       "      <td>0.230301</td>\n",
       "    </tr>\n",
       "    <tr>\n",
       "      <th>3</th>\n",
       "      <td>QuadraticLocalRE</td>\n",
       "      <td>3025</td>\n",
       "      <td>55659</td>\n",
       "      <td>0.054349</td>\n",
       "    </tr>\n",
       "    <tr>\n",
       "      <th>1</th>\n",
       "      <td>LinearLocalRE</td>\n",
       "      <td>4538</td>\n",
       "      <td>22977</td>\n",
       "      <td>0.197502</td>\n",
       "    </tr>\n",
       "  </tbody>\n",
       "</table>\n",
       "</div>"
      ],
      "text/plain": [
       "               Model Number of full RE fixed points  Number of fixed points  \\\n",
       "2  QuadraticGlobalRE                           4201                   41726   \n",
       "0     LinearGlobalRE                           7418                   32210   \n",
       "3   QuadraticLocalRE                           3025                   55659   \n",
       "1      LinearLocalRE                           4538                   22977   \n",
       "\n",
       "  Relative share of full RE fixed points  \n",
       "2                               0.100681  \n",
       "0                               0.230301  \n",
       "3                               0.054349  \n",
       "1                               0.197502  "
      ]
     },
     "metadata": {},
     "output_type": "display_data"
    }
   ],
   "source": [
    "# separate tables for go and fp\n",
    "\n",
    "for df, endpoint_type in zip([grouped_go_data, grouped_fp_data], [\"go\", \"fp\"]):\n",
    "    \n",
    "    # sort by model name\n",
    "    df['model_name'] = pd.Categorical(df['model_name'], [\"QuadraticGlobalRE\", \"LinearGlobalRE\", \"QuadraticLocalRE\", \"LinearLocalRE\"])\n",
    "    df.sort_values(\"model_name\", inplace=True)\n",
    "    \n",
    "    # Changing col names for readability\n",
    "    cols_for_tables = {'model_name':'Model',\n",
    "                   'n_go_full_re_state': 'Number of full RE global optima',\n",
    "                   'n_global_optima': 'Number of global optima',\n",
    "                   'rel_go_full_re': 'Relative share of full RE global optima',\n",
    "                   'n_fp_full_re_state': 'Number of full RE fixed points',\n",
    "                   'n_fixed_points': 'Number of fixed points',\n",
    "                   'rel_fp_full_re': 'Relative share of full RE fixed points',\n",
    "                  }\n",
    "\n",
    "    display(df.rename(columns=cols_for_tables))\n",
    "    \n",
    "    \n",
    "    if export_results:\n",
    "        file_name = 'table_full_re_{}_{}.csv'.format(endpoint_type, 'branches' if analyse_branches else 'setups')\n",
    "        df.rename(columns=cols_for_tables).to_csv(path.join(tables_output_dir, file_name), index=False)\n",
    "    "
   ]
  },
  {
   "cell_type": "code",
   "execution_count": 96,
   "id": "a0eefb53",
   "metadata": {},
   "outputs": [],
   "source": [
    "#overall_result_df = go_overall_results.join(fp_overall_results.set_index(\"model_name\"), on=\"model_name\")\n",
    "#overall_result_df"
   ]
  },
  {
   "cell_type": "code",
   "execution_count": 97,
   "id": "b7cc0444",
   "metadata": {},
   "outputs": [],
   "source": [
    "# Changing col names for readability\n",
    "#cols_for_tables = {'model_name':'Model',\n",
    "#                   'rel_go_full_re': 'Relative share of full RE states among global optima',\n",
    "#                   'rel_fp_full_re': 'Relative share of full RE states among fixed_points',\n",
    "#                  }\n",
    "#\n",
    "#display(overall_result_df.rename(columns=cols_for_tables))"
   ]
  },
  {
   "cell_type": "code",
   "execution_count": 98,
   "id": "07e0f782",
   "metadata": {},
   "outputs": [],
   "source": [
    "# Export\n",
    "#if export_results:\n",
    "#    file_name = 'table_rel_full_re_go_fp_{}.csv'.format('branches' if analyse_branches else 'setups')\n",
    "#    overall_result_df.rename(columns=cols_for_tables).to_csv(path.join(tables_output_dir, file_name), index=False)"
   ]
  },
  {
   "cell_type": "markdown",
   "id": "1fa5cc33",
   "metadata": {},
   "source": [
    "## Plots"
   ]
  },
  {
   "cell_type": "code",
   "execution_count": 99,
   "id": "9ad677ee",
   "metadata": {},
   "outputs": [],
   "source": [
    "import seaborn as sns\n",
    "import matplotlib.pyplot as plt"
   ]
  },
  {
   "cell_type": "code",
   "execution_count": 100,
   "id": "c17df1eb",
   "metadata": {},
   "outputs": [],
   "source": [
    "#custom_params = {\"axes.spines.right\": False, \"axes.spines.top\": False, 'figure.figsize':(11,8)}\n",
    "#sns.set_theme(style=\"white\", context=\"notebook\", font_scale=1.25, rc=custom_params)\n",
    "\n",
    "\n",
    "\n",
    "viridis = [\"#472c7a\", \"#2c718e\", \"#29ae80\", \"#b0dd31\"]\n",
    "sns.set_palette(sns.color_palette(viridis))"
   ]
  },
  {
   "cell_type": "code",
   "execution_count": null,
   "id": "10457114",
   "metadata": {},
   "outputs": [],
   "source": []
  },
  {
   "cell_type": "markdown",
   "id": "bf767a75",
   "metadata": {},
   "source": [
    "### Barplots"
   ]
  },
  {
   "cell_type": "code",
   "execution_count": 101,
   "id": "10411d00",
   "metadata": {},
   "outputs": [],
   "source": [
    "import plotly.express as px\n",
    "import plotly.graph_objects as go\n",
    "import plotly.io as pio\n",
    "from plotly.subplots import make_subplots"
   ]
  },
  {
   "cell_type": "code",
   "execution_count": 102,
   "id": "76f581bc",
   "metadata": {},
   "outputs": [],
   "source": [
    "viridis_map = {\"QuadraticGlobalRE\":\"#472c7a\", \n",
    "               \"LinearGlobalRE\":\"#2c718e\", \n",
    "               \"QuadraticLocalRE\":\"#29ae80\", \n",
    "               \"LinearLocalRE\": \"#b0dd31\"}"
   ]
  },
  {
   "cell_type": "code",
   "execution_count": 103,
   "id": "5fb1f709",
   "metadata": {},
   "outputs": [],
   "source": [
    "grouped_go_data[\"rel_go_full_re\"] = grouped_go_data[\"rel_go_full_re\"].astype(float)"
   ]
  },
  {
   "cell_type": "code",
   "execution_count": 104,
   "id": "c2d40a38",
   "metadata": {
    "scrolled": false
   },
   "outputs": [
    {
     "data": {
      "application/vnd.plotly.v1+json": {
       "config": {
        "plotlyServerURL": "https://plot.ly"
       },
       "data": [
        {
         "alignmentgroup": "True",
         "hovertemplate": "model_name=%{x}<br>rel_fp_full_re=%{y}<extra></extra>",
         "legendgroup": "QuadraticGlobalRE",
         "marker": {
          "color": "#472c7a",
          "pattern": {
           "shape": ""
          }
         },
         "name": "QuadraticGlobalRE",
         "offsetgroup": "QuadraticGlobalRE",
         "orientation": "v",
         "showlegend": true,
         "textposition": "auto",
         "texttemplate": "%{y}",
         "type": "bar",
         "x": [
          "QuadraticGlobalRE"
         ],
         "xaxis": "x",
         "y": [
          0.10068063078176677
         ],
         "yaxis": "y"
        },
        {
         "alignmentgroup": "True",
         "hovertemplate": "model_name=%{x}<br>rel_fp_full_re=%{y}<extra></extra>",
         "legendgroup": "LinearGlobalRE",
         "marker": {
          "color": "#2c718e",
          "pattern": {
           "shape": ""
          }
         },
         "name": "LinearGlobalRE",
         "offsetgroup": "LinearGlobalRE",
         "orientation": "v",
         "showlegend": true,
         "textposition": "auto",
         "texttemplate": "%{y}",
         "type": "bar",
         "x": [
          "LinearGlobalRE"
         ],
         "xaxis": "x",
         "y": [
          0.23030114871158025
         ],
         "yaxis": "y"
        },
        {
         "alignmentgroup": "True",
         "hovertemplate": "model_name=%{x}<br>rel_fp_full_re=%{y}<extra></extra>",
         "legendgroup": "QuadraticLocalRE",
         "marker": {
          "color": "#29ae80",
          "pattern": {
           "shape": ""
          }
         },
         "name": "QuadraticLocalRE",
         "offsetgroup": "QuadraticLocalRE",
         "orientation": "v",
         "showlegend": true,
         "textposition": "auto",
         "texttemplate": "%{y}",
         "type": "bar",
         "x": [
          "QuadraticLocalRE"
         ],
         "xaxis": "x",
         "y": [
          0.05434880252968972
         ],
         "yaxis": "y"
        },
        {
         "alignmentgroup": "True",
         "hovertemplate": "model_name=%{x}<br>rel_fp_full_re=%{y}<extra></extra>",
         "legendgroup": "LinearLocalRE",
         "marker": {
          "color": "#b0dd31",
          "pattern": {
           "shape": ""
          }
         },
         "name": "LinearLocalRE",
         "offsetgroup": "LinearLocalRE",
         "orientation": "v",
         "showlegend": true,
         "textposition": "auto",
         "texttemplate": "%{y}",
         "type": "bar",
         "x": [
          "LinearLocalRE"
         ],
         "xaxis": "x",
         "y": [
          0.19750184967576273
         ],
         "yaxis": "y"
        }
       ],
       "layout": {
        "barmode": "relative",
        "font": {
         "color": "black",
         "size": 12
        },
        "legend": {
         "title": {
          "text": ""
         },
         "tracegroupgap": 0
        },
        "margin": {
         "t": 80
        },
        "showlegend": false,
        "template": {
         "data": {
          "bar": [
           {
            "error_x": {
             "color": "#2a3f5f"
            },
            "error_y": {
             "color": "#2a3f5f"
            },
            "marker": {
             "line": {
              "color": "white",
              "width": 0.5
             },
             "pattern": {
              "fillmode": "overlay",
              "size": 10,
              "solidity": 0.2
             }
            },
            "type": "bar"
           }
          ],
          "barpolar": [
           {
            "marker": {
             "line": {
              "color": "white",
              "width": 0.5
             },
             "pattern": {
              "fillmode": "overlay",
              "size": 10,
              "solidity": 0.2
             }
            },
            "type": "barpolar"
           }
          ],
          "carpet": [
           {
            "aaxis": {
             "endlinecolor": "#2a3f5f",
             "gridcolor": "#C8D4E3",
             "linecolor": "#C8D4E3",
             "minorgridcolor": "#C8D4E3",
             "startlinecolor": "#2a3f5f"
            },
            "baxis": {
             "endlinecolor": "#2a3f5f",
             "gridcolor": "#C8D4E3",
             "linecolor": "#C8D4E3",
             "minorgridcolor": "#C8D4E3",
             "startlinecolor": "#2a3f5f"
            },
            "type": "carpet"
           }
          ],
          "choropleth": [
           {
            "colorbar": {
             "outlinewidth": 0,
             "ticks": ""
            },
            "type": "choropleth"
           }
          ],
          "contour": [
           {
            "colorbar": {
             "outlinewidth": 0,
             "ticks": ""
            },
            "colorscale": [
             [
              0,
              "#0d0887"
             ],
             [
              0.1111111111111111,
              "#46039f"
             ],
             [
              0.2222222222222222,
              "#7201a8"
             ],
             [
              0.3333333333333333,
              "#9c179e"
             ],
             [
              0.4444444444444444,
              "#bd3786"
             ],
             [
              0.5555555555555556,
              "#d8576b"
             ],
             [
              0.6666666666666666,
              "#ed7953"
             ],
             [
              0.7777777777777778,
              "#fb9f3a"
             ],
             [
              0.8888888888888888,
              "#fdca26"
             ],
             [
              1,
              "#f0f921"
             ]
            ],
            "type": "contour"
           }
          ],
          "contourcarpet": [
           {
            "colorbar": {
             "outlinewidth": 0,
             "ticks": ""
            },
            "type": "contourcarpet"
           }
          ],
          "heatmap": [
           {
            "colorbar": {
             "outlinewidth": 0,
             "ticks": ""
            },
            "colorscale": [
             [
              0,
              "#0d0887"
             ],
             [
              0.1111111111111111,
              "#46039f"
             ],
             [
              0.2222222222222222,
              "#7201a8"
             ],
             [
              0.3333333333333333,
              "#9c179e"
             ],
             [
              0.4444444444444444,
              "#bd3786"
             ],
             [
              0.5555555555555556,
              "#d8576b"
             ],
             [
              0.6666666666666666,
              "#ed7953"
             ],
             [
              0.7777777777777778,
              "#fb9f3a"
             ],
             [
              0.8888888888888888,
              "#fdca26"
             ],
             [
              1,
              "#f0f921"
             ]
            ],
            "type": "heatmap"
           }
          ],
          "heatmapgl": [
           {
            "colorbar": {
             "outlinewidth": 0,
             "ticks": ""
            },
            "colorscale": [
             [
              0,
              "#0d0887"
             ],
             [
              0.1111111111111111,
              "#46039f"
             ],
             [
              0.2222222222222222,
              "#7201a8"
             ],
             [
              0.3333333333333333,
              "#9c179e"
             ],
             [
              0.4444444444444444,
              "#bd3786"
             ],
             [
              0.5555555555555556,
              "#d8576b"
             ],
             [
              0.6666666666666666,
              "#ed7953"
             ],
             [
              0.7777777777777778,
              "#fb9f3a"
             ],
             [
              0.8888888888888888,
              "#fdca26"
             ],
             [
              1,
              "#f0f921"
             ]
            ],
            "type": "heatmapgl"
           }
          ],
          "histogram": [
           {
            "marker": {
             "pattern": {
              "fillmode": "overlay",
              "size": 10,
              "solidity": 0.2
             }
            },
            "type": "histogram"
           }
          ],
          "histogram2d": [
           {
            "colorbar": {
             "outlinewidth": 0,
             "ticks": ""
            },
            "colorscale": [
             [
              0,
              "#0d0887"
             ],
             [
              0.1111111111111111,
              "#46039f"
             ],
             [
              0.2222222222222222,
              "#7201a8"
             ],
             [
              0.3333333333333333,
              "#9c179e"
             ],
             [
              0.4444444444444444,
              "#bd3786"
             ],
             [
              0.5555555555555556,
              "#d8576b"
             ],
             [
              0.6666666666666666,
              "#ed7953"
             ],
             [
              0.7777777777777778,
              "#fb9f3a"
             ],
             [
              0.8888888888888888,
              "#fdca26"
             ],
             [
              1,
              "#f0f921"
             ]
            ],
            "type": "histogram2d"
           }
          ],
          "histogram2dcontour": [
           {
            "colorbar": {
             "outlinewidth": 0,
             "ticks": ""
            },
            "colorscale": [
             [
              0,
              "#0d0887"
             ],
             [
              0.1111111111111111,
              "#46039f"
             ],
             [
              0.2222222222222222,
              "#7201a8"
             ],
             [
              0.3333333333333333,
              "#9c179e"
             ],
             [
              0.4444444444444444,
              "#bd3786"
             ],
             [
              0.5555555555555556,
              "#d8576b"
             ],
             [
              0.6666666666666666,
              "#ed7953"
             ],
             [
              0.7777777777777778,
              "#fb9f3a"
             ],
             [
              0.8888888888888888,
              "#fdca26"
             ],
             [
              1,
              "#f0f921"
             ]
            ],
            "type": "histogram2dcontour"
           }
          ],
          "mesh3d": [
           {
            "colorbar": {
             "outlinewidth": 0,
             "ticks": ""
            },
            "type": "mesh3d"
           }
          ],
          "parcoords": [
           {
            "line": {
             "colorbar": {
              "outlinewidth": 0,
              "ticks": ""
             }
            },
            "type": "parcoords"
           }
          ],
          "pie": [
           {
            "automargin": true,
            "type": "pie"
           }
          ],
          "scatter": [
           {
            "fillpattern": {
             "fillmode": "overlay",
             "size": 10,
             "solidity": 0.2
            },
            "type": "scatter"
           }
          ],
          "scatter3d": [
           {
            "line": {
             "colorbar": {
              "outlinewidth": 0,
              "ticks": ""
             }
            },
            "marker": {
             "colorbar": {
              "outlinewidth": 0,
              "ticks": ""
             }
            },
            "type": "scatter3d"
           }
          ],
          "scattercarpet": [
           {
            "marker": {
             "colorbar": {
              "outlinewidth": 0,
              "ticks": ""
             }
            },
            "type": "scattercarpet"
           }
          ],
          "scattergeo": [
           {
            "marker": {
             "colorbar": {
              "outlinewidth": 0,
              "ticks": ""
             }
            },
            "type": "scattergeo"
           }
          ],
          "scattergl": [
           {
            "marker": {
             "colorbar": {
              "outlinewidth": 0,
              "ticks": ""
             }
            },
            "type": "scattergl"
           }
          ],
          "scattermapbox": [
           {
            "marker": {
             "colorbar": {
              "outlinewidth": 0,
              "ticks": ""
             }
            },
            "type": "scattermapbox"
           }
          ],
          "scatterpolar": [
           {
            "marker": {
             "colorbar": {
              "outlinewidth": 0,
              "ticks": ""
             }
            },
            "type": "scatterpolar"
           }
          ],
          "scatterpolargl": [
           {
            "marker": {
             "colorbar": {
              "outlinewidth": 0,
              "ticks": ""
             }
            },
            "type": "scatterpolargl"
           }
          ],
          "scatterternary": [
           {
            "marker": {
             "colorbar": {
              "outlinewidth": 0,
              "ticks": ""
             }
            },
            "type": "scatterternary"
           }
          ],
          "surface": [
           {
            "colorbar": {
             "outlinewidth": 0,
             "ticks": ""
            },
            "colorscale": [
             [
              0,
              "#0d0887"
             ],
             [
              0.1111111111111111,
              "#46039f"
             ],
             [
              0.2222222222222222,
              "#7201a8"
             ],
             [
              0.3333333333333333,
              "#9c179e"
             ],
             [
              0.4444444444444444,
              "#bd3786"
             ],
             [
              0.5555555555555556,
              "#d8576b"
             ],
             [
              0.6666666666666666,
              "#ed7953"
             ],
             [
              0.7777777777777778,
              "#fb9f3a"
             ],
             [
              0.8888888888888888,
              "#fdca26"
             ],
             [
              1,
              "#f0f921"
             ]
            ],
            "type": "surface"
           }
          ],
          "table": [
           {
            "cells": {
             "fill": {
              "color": "#EBF0F8"
             },
             "line": {
              "color": "white"
             }
            },
            "header": {
             "fill": {
              "color": "#C8D4E3"
             },
             "line": {
              "color": "white"
             }
            },
            "type": "table"
           }
          ]
         },
         "layout": {
          "annotationdefaults": {
           "arrowcolor": "#2a3f5f",
           "arrowhead": 0,
           "arrowwidth": 1
          },
          "autotypenumbers": "strict",
          "coloraxis": {
           "colorbar": {
            "outlinewidth": 0,
            "ticks": ""
           }
          },
          "colorscale": {
           "diverging": [
            [
             0,
             "#8e0152"
            ],
            [
             0.1,
             "#c51b7d"
            ],
            [
             0.2,
             "#de77ae"
            ],
            [
             0.3,
             "#f1b6da"
            ],
            [
             0.4,
             "#fde0ef"
            ],
            [
             0.5,
             "#f7f7f7"
            ],
            [
             0.6,
             "#e6f5d0"
            ],
            [
             0.7,
             "#b8e186"
            ],
            [
             0.8,
             "#7fbc41"
            ],
            [
             0.9,
             "#4d9221"
            ],
            [
             1,
             "#276419"
            ]
           ],
           "sequential": [
            [
             0,
             "#0d0887"
            ],
            [
             0.1111111111111111,
             "#46039f"
            ],
            [
             0.2222222222222222,
             "#7201a8"
            ],
            [
             0.3333333333333333,
             "#9c179e"
            ],
            [
             0.4444444444444444,
             "#bd3786"
            ],
            [
             0.5555555555555556,
             "#d8576b"
            ],
            [
             0.6666666666666666,
             "#ed7953"
            ],
            [
             0.7777777777777778,
             "#fb9f3a"
            ],
            [
             0.8888888888888888,
             "#fdca26"
            ],
            [
             1,
             "#f0f921"
            ]
           ],
           "sequentialminus": [
            [
             0,
             "#0d0887"
            ],
            [
             0.1111111111111111,
             "#46039f"
            ],
            [
             0.2222222222222222,
             "#7201a8"
            ],
            [
             0.3333333333333333,
             "#9c179e"
            ],
            [
             0.4444444444444444,
             "#bd3786"
            ],
            [
             0.5555555555555556,
             "#d8576b"
            ],
            [
             0.6666666666666666,
             "#ed7953"
            ],
            [
             0.7777777777777778,
             "#fb9f3a"
            ],
            [
             0.8888888888888888,
             "#fdca26"
            ],
            [
             1,
             "#f0f921"
            ]
           ]
          },
          "colorway": [
           "#636efa",
           "#EF553B",
           "#00cc96",
           "#ab63fa",
           "#FFA15A",
           "#19d3f3",
           "#FF6692",
           "#B6E880",
           "#FF97FF",
           "#FECB52"
          ],
          "font": {
           "color": "#2a3f5f"
          },
          "geo": {
           "bgcolor": "white",
           "lakecolor": "white",
           "landcolor": "white",
           "showlakes": true,
           "showland": true,
           "subunitcolor": "#C8D4E3"
          },
          "hoverlabel": {
           "align": "left"
          },
          "hovermode": "closest",
          "mapbox": {
           "style": "light"
          },
          "paper_bgcolor": "white",
          "plot_bgcolor": "white",
          "polar": {
           "angularaxis": {
            "gridcolor": "#EBF0F8",
            "linecolor": "#EBF0F8",
            "ticks": ""
           },
           "bgcolor": "white",
           "radialaxis": {
            "gridcolor": "#EBF0F8",
            "linecolor": "#EBF0F8",
            "ticks": ""
           }
          },
          "scene": {
           "xaxis": {
            "backgroundcolor": "white",
            "gridcolor": "#DFE8F3",
            "gridwidth": 2,
            "linecolor": "#EBF0F8",
            "showbackground": true,
            "ticks": "",
            "zerolinecolor": "#EBF0F8"
           },
           "yaxis": {
            "backgroundcolor": "white",
            "gridcolor": "#DFE8F3",
            "gridwidth": 2,
            "linecolor": "#EBF0F8",
            "showbackground": true,
            "ticks": "",
            "zerolinecolor": "#EBF0F8"
           },
           "zaxis": {
            "backgroundcolor": "white",
            "gridcolor": "#DFE8F3",
            "gridwidth": 2,
            "linecolor": "#EBF0F8",
            "showbackground": true,
            "ticks": "",
            "zerolinecolor": "#EBF0F8"
           }
          },
          "shapedefaults": {
           "line": {
            "color": "#2a3f5f"
           }
          },
          "ternary": {
           "aaxis": {
            "gridcolor": "#DFE8F3",
            "linecolor": "#A2B1C6",
            "ticks": ""
           },
           "baxis": {
            "gridcolor": "#DFE8F3",
            "linecolor": "#A2B1C6",
            "ticks": ""
           },
           "bgcolor": "white",
           "caxis": {
            "gridcolor": "#DFE8F3",
            "linecolor": "#A2B1C6",
            "ticks": ""
           }
          },
          "title": {
           "x": 0.05
          },
          "xaxis": {
           "automargin": true,
           "gridcolor": "#EBF0F8",
           "linecolor": "#EBF0F8",
           "ticks": "",
           "title": {
            "standoff": 15
           },
           "zerolinecolor": "#EBF0F8",
           "zerolinewidth": 2
          },
          "yaxis": {
           "automargin": true,
           "gridcolor": "#EBF0F8",
           "linecolor": "#EBF0F8",
           "ticks": "",
           "title": {
            "standoff": 15
           },
           "zerolinecolor": "#EBF0F8",
           "zerolinewidth": 2
          }
         }
        },
        "title": {
         "text": "Relative share of full RE states among fixed points"
        },
        "xaxis": {
         "anchor": "y",
         "categoryarray": [
          "QuadraticGlobalRE",
          "LinearGlobalRE",
          "QuadraticLocalRE",
          "LinearLocalRE"
         ],
         "categoryorder": "array",
         "domain": [
          0,
          1
         ],
         "linecolor": "DarkGrey",
         "showgrid": false,
         "showticklabels": true,
         "title": {
          "text": "Model variant"
         }
        },
        "yaxis": {
         "anchor": "x",
         "domain": [
          0,
          1
         ],
         "linecolor": "DarkGrey",
         "range": [
          0,
          1
         ],
         "showgrid": false,
         "tickcolor": "DarkGrey",
         "ticks": "outside",
         "title": {
          "text": "Relative share"
         },
         "zeroline": true,
         "zerolinecolor": "DarkGrey",
         "zerolinewidth": 1
        }
       }
      },
      "text/html": [
       "<div>                            <div id=\"a697a098-4721-4207-83ce-7d33f001a860\" class=\"plotly-graph-div\" style=\"height:525px; width:100%;\"></div>            <script type=\"text/javascript\">                require([\"plotly\"], function(Plotly) {                    window.PLOTLYENV=window.PLOTLYENV || {};                                    if (document.getElementById(\"a697a098-4721-4207-83ce-7d33f001a860\")) {                    Plotly.newPlot(                        \"a697a098-4721-4207-83ce-7d33f001a860\",                        [{\"alignmentgroup\":\"True\",\"hovertemplate\":\"model_name=%{x}<br>rel_fp_full_re=%{y}<extra></extra>\",\"legendgroup\":\"QuadraticGlobalRE\",\"marker\":{\"color\":\"#472c7a\",\"pattern\":{\"shape\":\"\"}},\"name\":\"QuadraticGlobalRE\",\"offsetgroup\":\"QuadraticGlobalRE\",\"orientation\":\"v\",\"showlegend\":true,\"textposition\":\"auto\",\"texttemplate\":\"%{y}\",\"x\":[\"QuadraticGlobalRE\"],\"xaxis\":\"x\",\"y\":[0.10068063078176677],\"yaxis\":\"y\",\"type\":\"bar\"},{\"alignmentgroup\":\"True\",\"hovertemplate\":\"model_name=%{x}<br>rel_fp_full_re=%{y}<extra></extra>\",\"legendgroup\":\"LinearGlobalRE\",\"marker\":{\"color\":\"#2c718e\",\"pattern\":{\"shape\":\"\"}},\"name\":\"LinearGlobalRE\",\"offsetgroup\":\"LinearGlobalRE\",\"orientation\":\"v\",\"showlegend\":true,\"textposition\":\"auto\",\"texttemplate\":\"%{y}\",\"x\":[\"LinearGlobalRE\"],\"xaxis\":\"x\",\"y\":[0.23030114871158025],\"yaxis\":\"y\",\"type\":\"bar\"},{\"alignmentgroup\":\"True\",\"hovertemplate\":\"model_name=%{x}<br>rel_fp_full_re=%{y}<extra></extra>\",\"legendgroup\":\"QuadraticLocalRE\",\"marker\":{\"color\":\"#29ae80\",\"pattern\":{\"shape\":\"\"}},\"name\":\"QuadraticLocalRE\",\"offsetgroup\":\"QuadraticLocalRE\",\"orientation\":\"v\",\"showlegend\":true,\"textposition\":\"auto\",\"texttemplate\":\"%{y}\",\"x\":[\"QuadraticLocalRE\"],\"xaxis\":\"x\",\"y\":[0.05434880252968972],\"yaxis\":\"y\",\"type\":\"bar\"},{\"alignmentgroup\":\"True\",\"hovertemplate\":\"model_name=%{x}<br>rel_fp_full_re=%{y}<extra></extra>\",\"legendgroup\":\"LinearLocalRE\",\"marker\":{\"color\":\"#b0dd31\",\"pattern\":{\"shape\":\"\"}},\"name\":\"LinearLocalRE\",\"offsetgroup\":\"LinearLocalRE\",\"orientation\":\"v\",\"showlegend\":true,\"textposition\":\"auto\",\"texttemplate\":\"%{y}\",\"x\":[\"LinearLocalRE\"],\"xaxis\":\"x\",\"y\":[0.19750184967576273],\"yaxis\":\"y\",\"type\":\"bar\"}],                        {\"template\":{\"data\":{\"barpolar\":[{\"marker\":{\"line\":{\"color\":\"white\",\"width\":0.5},\"pattern\":{\"fillmode\":\"overlay\",\"size\":10,\"solidity\":0.2}},\"type\":\"barpolar\"}],\"bar\":[{\"error_x\":{\"color\":\"#2a3f5f\"},\"error_y\":{\"color\":\"#2a3f5f\"},\"marker\":{\"line\":{\"color\":\"white\",\"width\":0.5},\"pattern\":{\"fillmode\":\"overlay\",\"size\":10,\"solidity\":0.2}},\"type\":\"bar\"}],\"carpet\":[{\"aaxis\":{\"endlinecolor\":\"#2a3f5f\",\"gridcolor\":\"#C8D4E3\",\"linecolor\":\"#C8D4E3\",\"minorgridcolor\":\"#C8D4E3\",\"startlinecolor\":\"#2a3f5f\"},\"baxis\":{\"endlinecolor\":\"#2a3f5f\",\"gridcolor\":\"#C8D4E3\",\"linecolor\":\"#C8D4E3\",\"minorgridcolor\":\"#C8D4E3\",\"startlinecolor\":\"#2a3f5f\"},\"type\":\"carpet\"}],\"choropleth\":[{\"colorbar\":{\"outlinewidth\":0,\"ticks\":\"\"},\"type\":\"choropleth\"}],\"contourcarpet\":[{\"colorbar\":{\"outlinewidth\":0,\"ticks\":\"\"},\"type\":\"contourcarpet\"}],\"contour\":[{\"colorbar\":{\"outlinewidth\":0,\"ticks\":\"\"},\"colorscale\":[[0.0,\"#0d0887\"],[0.1111111111111111,\"#46039f\"],[0.2222222222222222,\"#7201a8\"],[0.3333333333333333,\"#9c179e\"],[0.4444444444444444,\"#bd3786\"],[0.5555555555555556,\"#d8576b\"],[0.6666666666666666,\"#ed7953\"],[0.7777777777777778,\"#fb9f3a\"],[0.8888888888888888,\"#fdca26\"],[1.0,\"#f0f921\"]],\"type\":\"contour\"}],\"heatmapgl\":[{\"colorbar\":{\"outlinewidth\":0,\"ticks\":\"\"},\"colorscale\":[[0.0,\"#0d0887\"],[0.1111111111111111,\"#46039f\"],[0.2222222222222222,\"#7201a8\"],[0.3333333333333333,\"#9c179e\"],[0.4444444444444444,\"#bd3786\"],[0.5555555555555556,\"#d8576b\"],[0.6666666666666666,\"#ed7953\"],[0.7777777777777778,\"#fb9f3a\"],[0.8888888888888888,\"#fdca26\"],[1.0,\"#f0f921\"]],\"type\":\"heatmapgl\"}],\"heatmap\":[{\"colorbar\":{\"outlinewidth\":0,\"ticks\":\"\"},\"colorscale\":[[0.0,\"#0d0887\"],[0.1111111111111111,\"#46039f\"],[0.2222222222222222,\"#7201a8\"],[0.3333333333333333,\"#9c179e\"],[0.4444444444444444,\"#bd3786\"],[0.5555555555555556,\"#d8576b\"],[0.6666666666666666,\"#ed7953\"],[0.7777777777777778,\"#fb9f3a\"],[0.8888888888888888,\"#fdca26\"],[1.0,\"#f0f921\"]],\"type\":\"heatmap\"}],\"histogram2dcontour\":[{\"colorbar\":{\"outlinewidth\":0,\"ticks\":\"\"},\"colorscale\":[[0.0,\"#0d0887\"],[0.1111111111111111,\"#46039f\"],[0.2222222222222222,\"#7201a8\"],[0.3333333333333333,\"#9c179e\"],[0.4444444444444444,\"#bd3786\"],[0.5555555555555556,\"#d8576b\"],[0.6666666666666666,\"#ed7953\"],[0.7777777777777778,\"#fb9f3a\"],[0.8888888888888888,\"#fdca26\"],[1.0,\"#f0f921\"]],\"type\":\"histogram2dcontour\"}],\"histogram2d\":[{\"colorbar\":{\"outlinewidth\":0,\"ticks\":\"\"},\"colorscale\":[[0.0,\"#0d0887\"],[0.1111111111111111,\"#46039f\"],[0.2222222222222222,\"#7201a8\"],[0.3333333333333333,\"#9c179e\"],[0.4444444444444444,\"#bd3786\"],[0.5555555555555556,\"#d8576b\"],[0.6666666666666666,\"#ed7953\"],[0.7777777777777778,\"#fb9f3a\"],[0.8888888888888888,\"#fdca26\"],[1.0,\"#f0f921\"]],\"type\":\"histogram2d\"}],\"histogram\":[{\"marker\":{\"pattern\":{\"fillmode\":\"overlay\",\"size\":10,\"solidity\":0.2}},\"type\":\"histogram\"}],\"mesh3d\":[{\"colorbar\":{\"outlinewidth\":0,\"ticks\":\"\"},\"type\":\"mesh3d\"}],\"parcoords\":[{\"line\":{\"colorbar\":{\"outlinewidth\":0,\"ticks\":\"\"}},\"type\":\"parcoords\"}],\"pie\":[{\"automargin\":true,\"type\":\"pie\"}],\"scatter3d\":[{\"line\":{\"colorbar\":{\"outlinewidth\":0,\"ticks\":\"\"}},\"marker\":{\"colorbar\":{\"outlinewidth\":0,\"ticks\":\"\"}},\"type\":\"scatter3d\"}],\"scattercarpet\":[{\"marker\":{\"colorbar\":{\"outlinewidth\":0,\"ticks\":\"\"}},\"type\":\"scattercarpet\"}],\"scattergeo\":[{\"marker\":{\"colorbar\":{\"outlinewidth\":0,\"ticks\":\"\"}},\"type\":\"scattergeo\"}],\"scattergl\":[{\"marker\":{\"colorbar\":{\"outlinewidth\":0,\"ticks\":\"\"}},\"type\":\"scattergl\"}],\"scattermapbox\":[{\"marker\":{\"colorbar\":{\"outlinewidth\":0,\"ticks\":\"\"}},\"type\":\"scattermapbox\"}],\"scatterpolargl\":[{\"marker\":{\"colorbar\":{\"outlinewidth\":0,\"ticks\":\"\"}},\"type\":\"scatterpolargl\"}],\"scatterpolar\":[{\"marker\":{\"colorbar\":{\"outlinewidth\":0,\"ticks\":\"\"}},\"type\":\"scatterpolar\"}],\"scatter\":[{\"fillpattern\":{\"fillmode\":\"overlay\",\"size\":10,\"solidity\":0.2},\"type\":\"scatter\"}],\"scatterternary\":[{\"marker\":{\"colorbar\":{\"outlinewidth\":0,\"ticks\":\"\"}},\"type\":\"scatterternary\"}],\"surface\":[{\"colorbar\":{\"outlinewidth\":0,\"ticks\":\"\"},\"colorscale\":[[0.0,\"#0d0887\"],[0.1111111111111111,\"#46039f\"],[0.2222222222222222,\"#7201a8\"],[0.3333333333333333,\"#9c179e\"],[0.4444444444444444,\"#bd3786\"],[0.5555555555555556,\"#d8576b\"],[0.6666666666666666,\"#ed7953\"],[0.7777777777777778,\"#fb9f3a\"],[0.8888888888888888,\"#fdca26\"],[1.0,\"#f0f921\"]],\"type\":\"surface\"}],\"table\":[{\"cells\":{\"fill\":{\"color\":\"#EBF0F8\"},\"line\":{\"color\":\"white\"}},\"header\":{\"fill\":{\"color\":\"#C8D4E3\"},\"line\":{\"color\":\"white\"}},\"type\":\"table\"}]},\"layout\":{\"annotationdefaults\":{\"arrowcolor\":\"#2a3f5f\",\"arrowhead\":0,\"arrowwidth\":1},\"autotypenumbers\":\"strict\",\"coloraxis\":{\"colorbar\":{\"outlinewidth\":0,\"ticks\":\"\"}},\"colorscale\":{\"diverging\":[[0,\"#8e0152\"],[0.1,\"#c51b7d\"],[0.2,\"#de77ae\"],[0.3,\"#f1b6da\"],[0.4,\"#fde0ef\"],[0.5,\"#f7f7f7\"],[0.6,\"#e6f5d0\"],[0.7,\"#b8e186\"],[0.8,\"#7fbc41\"],[0.9,\"#4d9221\"],[1,\"#276419\"]],\"sequential\":[[0.0,\"#0d0887\"],[0.1111111111111111,\"#46039f\"],[0.2222222222222222,\"#7201a8\"],[0.3333333333333333,\"#9c179e\"],[0.4444444444444444,\"#bd3786\"],[0.5555555555555556,\"#d8576b\"],[0.6666666666666666,\"#ed7953\"],[0.7777777777777778,\"#fb9f3a\"],[0.8888888888888888,\"#fdca26\"],[1.0,\"#f0f921\"]],\"sequentialminus\":[[0.0,\"#0d0887\"],[0.1111111111111111,\"#46039f\"],[0.2222222222222222,\"#7201a8\"],[0.3333333333333333,\"#9c179e\"],[0.4444444444444444,\"#bd3786\"],[0.5555555555555556,\"#d8576b\"],[0.6666666666666666,\"#ed7953\"],[0.7777777777777778,\"#fb9f3a\"],[0.8888888888888888,\"#fdca26\"],[1.0,\"#f0f921\"]]},\"colorway\":[\"#636efa\",\"#EF553B\",\"#00cc96\",\"#ab63fa\",\"#FFA15A\",\"#19d3f3\",\"#FF6692\",\"#B6E880\",\"#FF97FF\",\"#FECB52\"],\"font\":{\"color\":\"#2a3f5f\"},\"geo\":{\"bgcolor\":\"white\",\"lakecolor\":\"white\",\"landcolor\":\"white\",\"showlakes\":true,\"showland\":true,\"subunitcolor\":\"#C8D4E3\"},\"hoverlabel\":{\"align\":\"left\"},\"hovermode\":\"closest\",\"mapbox\":{\"style\":\"light\"},\"paper_bgcolor\":\"white\",\"plot_bgcolor\":\"white\",\"polar\":{\"angularaxis\":{\"gridcolor\":\"#EBF0F8\",\"linecolor\":\"#EBF0F8\",\"ticks\":\"\"},\"bgcolor\":\"white\",\"radialaxis\":{\"gridcolor\":\"#EBF0F8\",\"linecolor\":\"#EBF0F8\",\"ticks\":\"\"}},\"scene\":{\"xaxis\":{\"backgroundcolor\":\"white\",\"gridcolor\":\"#DFE8F3\",\"gridwidth\":2,\"linecolor\":\"#EBF0F8\",\"showbackground\":true,\"ticks\":\"\",\"zerolinecolor\":\"#EBF0F8\"},\"yaxis\":{\"backgroundcolor\":\"white\",\"gridcolor\":\"#DFE8F3\",\"gridwidth\":2,\"linecolor\":\"#EBF0F8\",\"showbackground\":true,\"ticks\":\"\",\"zerolinecolor\":\"#EBF0F8\"},\"zaxis\":{\"backgroundcolor\":\"white\",\"gridcolor\":\"#DFE8F3\",\"gridwidth\":2,\"linecolor\":\"#EBF0F8\",\"showbackground\":true,\"ticks\":\"\",\"zerolinecolor\":\"#EBF0F8\"}},\"shapedefaults\":{\"line\":{\"color\":\"#2a3f5f\"}},\"ternary\":{\"aaxis\":{\"gridcolor\":\"#DFE8F3\",\"linecolor\":\"#A2B1C6\",\"ticks\":\"\"},\"baxis\":{\"gridcolor\":\"#DFE8F3\",\"linecolor\":\"#A2B1C6\",\"ticks\":\"\"},\"bgcolor\":\"white\",\"caxis\":{\"gridcolor\":\"#DFE8F3\",\"linecolor\":\"#A2B1C6\",\"ticks\":\"\"}},\"title\":{\"x\":0.05},\"xaxis\":{\"automargin\":true,\"gridcolor\":\"#EBF0F8\",\"linecolor\":\"#EBF0F8\",\"ticks\":\"\",\"title\":{\"standoff\":15},\"zerolinecolor\":\"#EBF0F8\",\"zerolinewidth\":2},\"yaxis\":{\"automargin\":true,\"gridcolor\":\"#EBF0F8\",\"linecolor\":\"#EBF0F8\",\"ticks\":\"\",\"title\":{\"standoff\":15},\"zerolinecolor\":\"#EBF0F8\",\"zerolinewidth\":2}}},\"xaxis\":{\"anchor\":\"y\",\"domain\":[0.0,1.0],\"title\":{\"text\":\"Model variant\"},\"categoryorder\":\"array\",\"categoryarray\":[\"QuadraticGlobalRE\",\"LinearGlobalRE\",\"QuadraticLocalRE\",\"LinearLocalRE\"],\"showticklabels\":true,\"showgrid\":false,\"linecolor\":\"DarkGrey\"},\"yaxis\":{\"anchor\":\"x\",\"domain\":[0.0,1.0],\"title\":{\"text\":\"Relative share\"},\"range\":[0.0,1.0],\"ticks\":\"outside\",\"tickcolor\":\"DarkGrey\",\"showgrid\":false,\"linecolor\":\"DarkGrey\",\"zeroline\":true,\"zerolinecolor\":\"DarkGrey\",\"zerolinewidth\":1},\"legend\":{\"title\":{\"text\":\"\"},\"tracegroupgap\":0},\"margin\":{\"t\":80},\"barmode\":\"relative\",\"showlegend\":false,\"font\":{\"color\":\"black\",\"size\":12},\"title\":{\"text\":\"Relative share of full RE states among fixed points\"}},                        {\"responsive\": true}                    ).then(function(){\n",
       "                            \n",
       "var gd = document.getElementById('a697a098-4721-4207-83ce-7d33f001a860');\n",
       "var x = new MutationObserver(function (mutations, observer) {{\n",
       "        var display = window.getComputedStyle(gd).display;\n",
       "        if (!display || display === 'none') {{\n",
       "            console.log([gd, 'removed!']);\n",
       "            Plotly.purge(gd);\n",
       "            observer.disconnect();\n",
       "        }}\n",
       "}});\n",
       "\n",
       "// Listen for the removal of the full notebook cells\n",
       "var notebookContainer = gd.closest('#notebook-container');\n",
       "if (notebookContainer) {{\n",
       "    x.observe(notebookContainer, {childList: true});\n",
       "}}\n",
       "\n",
       "// Listen for the clearing of the current output cell\n",
       "var outputEl = gd.closest('.output');\n",
       "if (outputEl) {{\n",
       "    x.observe(outputEl, {childList: true});\n",
       "}}\n",
       "\n",
       "                        })                };                });            </script>        </div>"
      ]
     },
     "metadata": {},
     "output_type": "display_data"
    },
    {
     "data": {
      "application/vnd.plotly.v1+json": {
       "config": {
        "plotlyServerURL": "https://plot.ly"
       },
       "data": [
        {
         "alignmentgroup": "True",
         "hovertemplate": "model_name=%{x}<br>rel_go_full_re=%{y}<extra></extra>",
         "legendgroup": "QuadraticGlobalRE",
         "marker": {
          "color": "#472c7a",
          "pattern": {
           "shape": ""
          }
         },
         "name": "QuadraticGlobalRE",
         "offsetgroup": "QuadraticGlobalRE",
         "orientation": "v",
         "showlegend": true,
         "textposition": "auto",
         "texttemplate": "%{y}",
         "type": "bar",
         "x": [
          "QuadraticGlobalRE"
         ],
         "xaxis": "x",
         "y": [
          0.127
         ],
         "yaxis": "y"
        },
        {
         "alignmentgroup": "True",
         "hovertemplate": "model_name=%{x}<br>rel_go_full_re=%{y}<extra></extra>",
         "legendgroup": "LinearGlobalRE",
         "marker": {
          "color": "#2c718e",
          "pattern": {
           "shape": ""
          }
         },
         "name": "LinearGlobalRE",
         "offsetgroup": "LinearGlobalRE",
         "orientation": "v",
         "showlegend": true,
         "textposition": "auto",
         "texttemplate": "%{y}",
         "type": "bar",
         "x": [
          "LinearGlobalRE"
         ],
         "xaxis": "x",
         "y": [
          0.324
         ],
         "yaxis": "y"
        },
        {
         "alignmentgroup": "True",
         "hovertemplate": "model_name=%{x}<br>rel_go_full_re=%{y}<extra></extra>",
         "legendgroup": "QuadraticLocalRE",
         "marker": {
          "color": "#29ae80",
          "pattern": {
           "shape": ""
          }
         },
         "name": "QuadraticLocalRE",
         "offsetgroup": "QuadraticLocalRE",
         "orientation": "v",
         "showlegend": true,
         "textposition": "auto",
         "texttemplate": "%{y}",
         "type": "bar",
         "x": [
          "QuadraticLocalRE"
         ],
         "xaxis": "x",
         "y": [
          0.127
         ],
         "yaxis": "y"
        },
        {
         "alignmentgroup": "True",
         "hovertemplate": "model_name=%{x}<br>rel_go_full_re=%{y}<extra></extra>",
         "legendgroup": "LinearLocalRE",
         "marker": {
          "color": "#b0dd31",
          "pattern": {
           "shape": ""
          }
         },
         "name": "LinearLocalRE",
         "offsetgroup": "LinearLocalRE",
         "orientation": "v",
         "showlegend": true,
         "textposition": "auto",
         "texttemplate": "%{y}",
         "type": "bar",
         "x": [
          "LinearLocalRE"
         ],
         "xaxis": "x",
         "y": [
          0.324
         ],
         "yaxis": "y"
        }
       ],
       "layout": {
        "barmode": "relative",
        "font": {
         "color": "black",
         "size": 12
        },
        "legend": {
         "title": {
          "text": ""
         },
         "tracegroupgap": 0
        },
        "margin": {
         "t": 80
        },
        "showlegend": false,
        "template": {
         "data": {
          "bar": [
           {
            "error_x": {
             "color": "#2a3f5f"
            },
            "error_y": {
             "color": "#2a3f5f"
            },
            "marker": {
             "line": {
              "color": "white",
              "width": 0.5
             },
             "pattern": {
              "fillmode": "overlay",
              "size": 10,
              "solidity": 0.2
             }
            },
            "type": "bar"
           }
          ],
          "barpolar": [
           {
            "marker": {
             "line": {
              "color": "white",
              "width": 0.5
             },
             "pattern": {
              "fillmode": "overlay",
              "size": 10,
              "solidity": 0.2
             }
            },
            "type": "barpolar"
           }
          ],
          "carpet": [
           {
            "aaxis": {
             "endlinecolor": "#2a3f5f",
             "gridcolor": "#C8D4E3",
             "linecolor": "#C8D4E3",
             "minorgridcolor": "#C8D4E3",
             "startlinecolor": "#2a3f5f"
            },
            "baxis": {
             "endlinecolor": "#2a3f5f",
             "gridcolor": "#C8D4E3",
             "linecolor": "#C8D4E3",
             "minorgridcolor": "#C8D4E3",
             "startlinecolor": "#2a3f5f"
            },
            "type": "carpet"
           }
          ],
          "choropleth": [
           {
            "colorbar": {
             "outlinewidth": 0,
             "ticks": ""
            },
            "type": "choropleth"
           }
          ],
          "contour": [
           {
            "colorbar": {
             "outlinewidth": 0,
             "ticks": ""
            },
            "colorscale": [
             [
              0,
              "#0d0887"
             ],
             [
              0.1111111111111111,
              "#46039f"
             ],
             [
              0.2222222222222222,
              "#7201a8"
             ],
             [
              0.3333333333333333,
              "#9c179e"
             ],
             [
              0.4444444444444444,
              "#bd3786"
             ],
             [
              0.5555555555555556,
              "#d8576b"
             ],
             [
              0.6666666666666666,
              "#ed7953"
             ],
             [
              0.7777777777777778,
              "#fb9f3a"
             ],
             [
              0.8888888888888888,
              "#fdca26"
             ],
             [
              1,
              "#f0f921"
             ]
            ],
            "type": "contour"
           }
          ],
          "contourcarpet": [
           {
            "colorbar": {
             "outlinewidth": 0,
             "ticks": ""
            },
            "type": "contourcarpet"
           }
          ],
          "heatmap": [
           {
            "colorbar": {
             "outlinewidth": 0,
             "ticks": ""
            },
            "colorscale": [
             [
              0,
              "#0d0887"
             ],
             [
              0.1111111111111111,
              "#46039f"
             ],
             [
              0.2222222222222222,
              "#7201a8"
             ],
             [
              0.3333333333333333,
              "#9c179e"
             ],
             [
              0.4444444444444444,
              "#bd3786"
             ],
             [
              0.5555555555555556,
              "#d8576b"
             ],
             [
              0.6666666666666666,
              "#ed7953"
             ],
             [
              0.7777777777777778,
              "#fb9f3a"
             ],
             [
              0.8888888888888888,
              "#fdca26"
             ],
             [
              1,
              "#f0f921"
             ]
            ],
            "type": "heatmap"
           }
          ],
          "heatmapgl": [
           {
            "colorbar": {
             "outlinewidth": 0,
             "ticks": ""
            },
            "colorscale": [
             [
              0,
              "#0d0887"
             ],
             [
              0.1111111111111111,
              "#46039f"
             ],
             [
              0.2222222222222222,
              "#7201a8"
             ],
             [
              0.3333333333333333,
              "#9c179e"
             ],
             [
              0.4444444444444444,
              "#bd3786"
             ],
             [
              0.5555555555555556,
              "#d8576b"
             ],
             [
              0.6666666666666666,
              "#ed7953"
             ],
             [
              0.7777777777777778,
              "#fb9f3a"
             ],
             [
              0.8888888888888888,
              "#fdca26"
             ],
             [
              1,
              "#f0f921"
             ]
            ],
            "type": "heatmapgl"
           }
          ],
          "histogram": [
           {
            "marker": {
             "pattern": {
              "fillmode": "overlay",
              "size": 10,
              "solidity": 0.2
             }
            },
            "type": "histogram"
           }
          ],
          "histogram2d": [
           {
            "colorbar": {
             "outlinewidth": 0,
             "ticks": ""
            },
            "colorscale": [
             [
              0,
              "#0d0887"
             ],
             [
              0.1111111111111111,
              "#46039f"
             ],
             [
              0.2222222222222222,
              "#7201a8"
             ],
             [
              0.3333333333333333,
              "#9c179e"
             ],
             [
              0.4444444444444444,
              "#bd3786"
             ],
             [
              0.5555555555555556,
              "#d8576b"
             ],
             [
              0.6666666666666666,
              "#ed7953"
             ],
             [
              0.7777777777777778,
              "#fb9f3a"
             ],
             [
              0.8888888888888888,
              "#fdca26"
             ],
             [
              1,
              "#f0f921"
             ]
            ],
            "type": "histogram2d"
           }
          ],
          "histogram2dcontour": [
           {
            "colorbar": {
             "outlinewidth": 0,
             "ticks": ""
            },
            "colorscale": [
             [
              0,
              "#0d0887"
             ],
             [
              0.1111111111111111,
              "#46039f"
             ],
             [
              0.2222222222222222,
              "#7201a8"
             ],
             [
              0.3333333333333333,
              "#9c179e"
             ],
             [
              0.4444444444444444,
              "#bd3786"
             ],
             [
              0.5555555555555556,
              "#d8576b"
             ],
             [
              0.6666666666666666,
              "#ed7953"
             ],
             [
              0.7777777777777778,
              "#fb9f3a"
             ],
             [
              0.8888888888888888,
              "#fdca26"
             ],
             [
              1,
              "#f0f921"
             ]
            ],
            "type": "histogram2dcontour"
           }
          ],
          "mesh3d": [
           {
            "colorbar": {
             "outlinewidth": 0,
             "ticks": ""
            },
            "type": "mesh3d"
           }
          ],
          "parcoords": [
           {
            "line": {
             "colorbar": {
              "outlinewidth": 0,
              "ticks": ""
             }
            },
            "type": "parcoords"
           }
          ],
          "pie": [
           {
            "automargin": true,
            "type": "pie"
           }
          ],
          "scatter": [
           {
            "fillpattern": {
             "fillmode": "overlay",
             "size": 10,
             "solidity": 0.2
            },
            "type": "scatter"
           }
          ],
          "scatter3d": [
           {
            "line": {
             "colorbar": {
              "outlinewidth": 0,
              "ticks": ""
             }
            },
            "marker": {
             "colorbar": {
              "outlinewidth": 0,
              "ticks": ""
             }
            },
            "type": "scatter3d"
           }
          ],
          "scattercarpet": [
           {
            "marker": {
             "colorbar": {
              "outlinewidth": 0,
              "ticks": ""
             }
            },
            "type": "scattercarpet"
           }
          ],
          "scattergeo": [
           {
            "marker": {
             "colorbar": {
              "outlinewidth": 0,
              "ticks": ""
             }
            },
            "type": "scattergeo"
           }
          ],
          "scattergl": [
           {
            "marker": {
             "colorbar": {
              "outlinewidth": 0,
              "ticks": ""
             }
            },
            "type": "scattergl"
           }
          ],
          "scattermapbox": [
           {
            "marker": {
             "colorbar": {
              "outlinewidth": 0,
              "ticks": ""
             }
            },
            "type": "scattermapbox"
           }
          ],
          "scatterpolar": [
           {
            "marker": {
             "colorbar": {
              "outlinewidth": 0,
              "ticks": ""
             }
            },
            "type": "scatterpolar"
           }
          ],
          "scatterpolargl": [
           {
            "marker": {
             "colorbar": {
              "outlinewidth": 0,
              "ticks": ""
             }
            },
            "type": "scatterpolargl"
           }
          ],
          "scatterternary": [
           {
            "marker": {
             "colorbar": {
              "outlinewidth": 0,
              "ticks": ""
             }
            },
            "type": "scatterternary"
           }
          ],
          "surface": [
           {
            "colorbar": {
             "outlinewidth": 0,
             "ticks": ""
            },
            "colorscale": [
             [
              0,
              "#0d0887"
             ],
             [
              0.1111111111111111,
              "#46039f"
             ],
             [
              0.2222222222222222,
              "#7201a8"
             ],
             [
              0.3333333333333333,
              "#9c179e"
             ],
             [
              0.4444444444444444,
              "#bd3786"
             ],
             [
              0.5555555555555556,
              "#d8576b"
             ],
             [
              0.6666666666666666,
              "#ed7953"
             ],
             [
              0.7777777777777778,
              "#fb9f3a"
             ],
             [
              0.8888888888888888,
              "#fdca26"
             ],
             [
              1,
              "#f0f921"
             ]
            ],
            "type": "surface"
           }
          ],
          "table": [
           {
            "cells": {
             "fill": {
              "color": "#EBF0F8"
             },
             "line": {
              "color": "white"
             }
            },
            "header": {
             "fill": {
              "color": "#C8D4E3"
             },
             "line": {
              "color": "white"
             }
            },
            "type": "table"
           }
          ]
         },
         "layout": {
          "annotationdefaults": {
           "arrowcolor": "#2a3f5f",
           "arrowhead": 0,
           "arrowwidth": 1
          },
          "autotypenumbers": "strict",
          "coloraxis": {
           "colorbar": {
            "outlinewidth": 0,
            "ticks": ""
           }
          },
          "colorscale": {
           "diverging": [
            [
             0,
             "#8e0152"
            ],
            [
             0.1,
             "#c51b7d"
            ],
            [
             0.2,
             "#de77ae"
            ],
            [
             0.3,
             "#f1b6da"
            ],
            [
             0.4,
             "#fde0ef"
            ],
            [
             0.5,
             "#f7f7f7"
            ],
            [
             0.6,
             "#e6f5d0"
            ],
            [
             0.7,
             "#b8e186"
            ],
            [
             0.8,
             "#7fbc41"
            ],
            [
             0.9,
             "#4d9221"
            ],
            [
             1,
             "#276419"
            ]
           ],
           "sequential": [
            [
             0,
             "#0d0887"
            ],
            [
             0.1111111111111111,
             "#46039f"
            ],
            [
             0.2222222222222222,
             "#7201a8"
            ],
            [
             0.3333333333333333,
             "#9c179e"
            ],
            [
             0.4444444444444444,
             "#bd3786"
            ],
            [
             0.5555555555555556,
             "#d8576b"
            ],
            [
             0.6666666666666666,
             "#ed7953"
            ],
            [
             0.7777777777777778,
             "#fb9f3a"
            ],
            [
             0.8888888888888888,
             "#fdca26"
            ],
            [
             1,
             "#f0f921"
            ]
           ],
           "sequentialminus": [
            [
             0,
             "#0d0887"
            ],
            [
             0.1111111111111111,
             "#46039f"
            ],
            [
             0.2222222222222222,
             "#7201a8"
            ],
            [
             0.3333333333333333,
             "#9c179e"
            ],
            [
             0.4444444444444444,
             "#bd3786"
            ],
            [
             0.5555555555555556,
             "#d8576b"
            ],
            [
             0.6666666666666666,
             "#ed7953"
            ],
            [
             0.7777777777777778,
             "#fb9f3a"
            ],
            [
             0.8888888888888888,
             "#fdca26"
            ],
            [
             1,
             "#f0f921"
            ]
           ]
          },
          "colorway": [
           "#636efa",
           "#EF553B",
           "#00cc96",
           "#ab63fa",
           "#FFA15A",
           "#19d3f3",
           "#FF6692",
           "#B6E880",
           "#FF97FF",
           "#FECB52"
          ],
          "font": {
           "color": "#2a3f5f"
          },
          "geo": {
           "bgcolor": "white",
           "lakecolor": "white",
           "landcolor": "white",
           "showlakes": true,
           "showland": true,
           "subunitcolor": "#C8D4E3"
          },
          "hoverlabel": {
           "align": "left"
          },
          "hovermode": "closest",
          "mapbox": {
           "style": "light"
          },
          "paper_bgcolor": "white",
          "plot_bgcolor": "white",
          "polar": {
           "angularaxis": {
            "gridcolor": "#EBF0F8",
            "linecolor": "#EBF0F8",
            "ticks": ""
           },
           "bgcolor": "white",
           "radialaxis": {
            "gridcolor": "#EBF0F8",
            "linecolor": "#EBF0F8",
            "ticks": ""
           }
          },
          "scene": {
           "xaxis": {
            "backgroundcolor": "white",
            "gridcolor": "#DFE8F3",
            "gridwidth": 2,
            "linecolor": "#EBF0F8",
            "showbackground": true,
            "ticks": "",
            "zerolinecolor": "#EBF0F8"
           },
           "yaxis": {
            "backgroundcolor": "white",
            "gridcolor": "#DFE8F3",
            "gridwidth": 2,
            "linecolor": "#EBF0F8",
            "showbackground": true,
            "ticks": "",
            "zerolinecolor": "#EBF0F8"
           },
           "zaxis": {
            "backgroundcolor": "white",
            "gridcolor": "#DFE8F3",
            "gridwidth": 2,
            "linecolor": "#EBF0F8",
            "showbackground": true,
            "ticks": "",
            "zerolinecolor": "#EBF0F8"
           }
          },
          "shapedefaults": {
           "line": {
            "color": "#2a3f5f"
           }
          },
          "ternary": {
           "aaxis": {
            "gridcolor": "#DFE8F3",
            "linecolor": "#A2B1C6",
            "ticks": ""
           },
           "baxis": {
            "gridcolor": "#DFE8F3",
            "linecolor": "#A2B1C6",
            "ticks": ""
           },
           "bgcolor": "white",
           "caxis": {
            "gridcolor": "#DFE8F3",
            "linecolor": "#A2B1C6",
            "ticks": ""
           }
          },
          "title": {
           "x": 0.05
          },
          "xaxis": {
           "automargin": true,
           "gridcolor": "#EBF0F8",
           "linecolor": "#EBF0F8",
           "ticks": "",
           "title": {
            "standoff": 15
           },
           "zerolinecolor": "#EBF0F8",
           "zerolinewidth": 2
          },
          "yaxis": {
           "automargin": true,
           "gridcolor": "#EBF0F8",
           "linecolor": "#EBF0F8",
           "ticks": "",
           "title": {
            "standoff": 15
           },
           "zerolinecolor": "#EBF0F8",
           "zerolinewidth": 2
          }
         }
        },
        "title": {
         "text": "Relative share of full RE states among global optima"
        },
        "xaxis": {
         "anchor": "y",
         "categoryarray": [
          "QuadraticGlobalRE",
          "LinearGlobalRE",
          "QuadraticLocalRE",
          "LinearLocalRE"
         ],
         "categoryorder": "array",
         "domain": [
          0,
          1
         ],
         "linecolor": "DarkGrey",
         "showgrid": false,
         "showticklabels": true,
         "title": {
          "text": "Model variant"
         }
        },
        "yaxis": {
         "anchor": "x",
         "domain": [
          0,
          1
         ],
         "linecolor": "DarkGrey",
         "range": [
          0,
          1
         ],
         "showgrid": false,
         "tickcolor": "DarkGrey",
         "ticks": "outside",
         "title": {
          "text": "Relative share"
         },
         "zeroline": true,
         "zerolinecolor": "DarkGrey",
         "zerolinewidth": 1
        }
       }
      },
      "text/html": [
       "<div>                            <div id=\"92ee1e18-9776-4b2a-8a9b-05d50c31ccf1\" class=\"plotly-graph-div\" style=\"height:525px; width:100%;\"></div>            <script type=\"text/javascript\">                require([\"plotly\"], function(Plotly) {                    window.PLOTLYENV=window.PLOTLYENV || {};                                    if (document.getElementById(\"92ee1e18-9776-4b2a-8a9b-05d50c31ccf1\")) {                    Plotly.newPlot(                        \"92ee1e18-9776-4b2a-8a9b-05d50c31ccf1\",                        [{\"alignmentgroup\":\"True\",\"hovertemplate\":\"model_name=%{x}<br>rel_go_full_re=%{y}<extra></extra>\",\"legendgroup\":\"QuadraticGlobalRE\",\"marker\":{\"color\":\"#472c7a\",\"pattern\":{\"shape\":\"\"}},\"name\":\"QuadraticGlobalRE\",\"offsetgroup\":\"QuadraticGlobalRE\",\"orientation\":\"v\",\"showlegend\":true,\"textposition\":\"auto\",\"texttemplate\":\"%{y}\",\"x\":[\"QuadraticGlobalRE\"],\"xaxis\":\"x\",\"y\":[0.127],\"yaxis\":\"y\",\"type\":\"bar\"},{\"alignmentgroup\":\"True\",\"hovertemplate\":\"model_name=%{x}<br>rel_go_full_re=%{y}<extra></extra>\",\"legendgroup\":\"LinearGlobalRE\",\"marker\":{\"color\":\"#2c718e\",\"pattern\":{\"shape\":\"\"}},\"name\":\"LinearGlobalRE\",\"offsetgroup\":\"LinearGlobalRE\",\"orientation\":\"v\",\"showlegend\":true,\"textposition\":\"auto\",\"texttemplate\":\"%{y}\",\"x\":[\"LinearGlobalRE\"],\"xaxis\":\"x\",\"y\":[0.324],\"yaxis\":\"y\",\"type\":\"bar\"},{\"alignmentgroup\":\"True\",\"hovertemplate\":\"model_name=%{x}<br>rel_go_full_re=%{y}<extra></extra>\",\"legendgroup\":\"QuadraticLocalRE\",\"marker\":{\"color\":\"#29ae80\",\"pattern\":{\"shape\":\"\"}},\"name\":\"QuadraticLocalRE\",\"offsetgroup\":\"QuadraticLocalRE\",\"orientation\":\"v\",\"showlegend\":true,\"textposition\":\"auto\",\"texttemplate\":\"%{y}\",\"x\":[\"QuadraticLocalRE\"],\"xaxis\":\"x\",\"y\":[0.127],\"yaxis\":\"y\",\"type\":\"bar\"},{\"alignmentgroup\":\"True\",\"hovertemplate\":\"model_name=%{x}<br>rel_go_full_re=%{y}<extra></extra>\",\"legendgroup\":\"LinearLocalRE\",\"marker\":{\"color\":\"#b0dd31\",\"pattern\":{\"shape\":\"\"}},\"name\":\"LinearLocalRE\",\"offsetgroup\":\"LinearLocalRE\",\"orientation\":\"v\",\"showlegend\":true,\"textposition\":\"auto\",\"texttemplate\":\"%{y}\",\"x\":[\"LinearLocalRE\"],\"xaxis\":\"x\",\"y\":[0.324],\"yaxis\":\"y\",\"type\":\"bar\"}],                        {\"template\":{\"data\":{\"barpolar\":[{\"marker\":{\"line\":{\"color\":\"white\",\"width\":0.5},\"pattern\":{\"fillmode\":\"overlay\",\"size\":10,\"solidity\":0.2}},\"type\":\"barpolar\"}],\"bar\":[{\"error_x\":{\"color\":\"#2a3f5f\"},\"error_y\":{\"color\":\"#2a3f5f\"},\"marker\":{\"line\":{\"color\":\"white\",\"width\":0.5},\"pattern\":{\"fillmode\":\"overlay\",\"size\":10,\"solidity\":0.2}},\"type\":\"bar\"}],\"carpet\":[{\"aaxis\":{\"endlinecolor\":\"#2a3f5f\",\"gridcolor\":\"#C8D4E3\",\"linecolor\":\"#C8D4E3\",\"minorgridcolor\":\"#C8D4E3\",\"startlinecolor\":\"#2a3f5f\"},\"baxis\":{\"endlinecolor\":\"#2a3f5f\",\"gridcolor\":\"#C8D4E3\",\"linecolor\":\"#C8D4E3\",\"minorgridcolor\":\"#C8D4E3\",\"startlinecolor\":\"#2a3f5f\"},\"type\":\"carpet\"}],\"choropleth\":[{\"colorbar\":{\"outlinewidth\":0,\"ticks\":\"\"},\"type\":\"choropleth\"}],\"contourcarpet\":[{\"colorbar\":{\"outlinewidth\":0,\"ticks\":\"\"},\"type\":\"contourcarpet\"}],\"contour\":[{\"colorbar\":{\"outlinewidth\":0,\"ticks\":\"\"},\"colorscale\":[[0.0,\"#0d0887\"],[0.1111111111111111,\"#46039f\"],[0.2222222222222222,\"#7201a8\"],[0.3333333333333333,\"#9c179e\"],[0.4444444444444444,\"#bd3786\"],[0.5555555555555556,\"#d8576b\"],[0.6666666666666666,\"#ed7953\"],[0.7777777777777778,\"#fb9f3a\"],[0.8888888888888888,\"#fdca26\"],[1.0,\"#f0f921\"]],\"type\":\"contour\"}],\"heatmapgl\":[{\"colorbar\":{\"outlinewidth\":0,\"ticks\":\"\"},\"colorscale\":[[0.0,\"#0d0887\"],[0.1111111111111111,\"#46039f\"],[0.2222222222222222,\"#7201a8\"],[0.3333333333333333,\"#9c179e\"],[0.4444444444444444,\"#bd3786\"],[0.5555555555555556,\"#d8576b\"],[0.6666666666666666,\"#ed7953\"],[0.7777777777777778,\"#fb9f3a\"],[0.8888888888888888,\"#fdca26\"],[1.0,\"#f0f921\"]],\"type\":\"heatmapgl\"}],\"heatmap\":[{\"colorbar\":{\"outlinewidth\":0,\"ticks\":\"\"},\"colorscale\":[[0.0,\"#0d0887\"],[0.1111111111111111,\"#46039f\"],[0.2222222222222222,\"#7201a8\"],[0.3333333333333333,\"#9c179e\"],[0.4444444444444444,\"#bd3786\"],[0.5555555555555556,\"#d8576b\"],[0.6666666666666666,\"#ed7953\"],[0.7777777777777778,\"#fb9f3a\"],[0.8888888888888888,\"#fdca26\"],[1.0,\"#f0f921\"]],\"type\":\"heatmap\"}],\"histogram2dcontour\":[{\"colorbar\":{\"outlinewidth\":0,\"ticks\":\"\"},\"colorscale\":[[0.0,\"#0d0887\"],[0.1111111111111111,\"#46039f\"],[0.2222222222222222,\"#7201a8\"],[0.3333333333333333,\"#9c179e\"],[0.4444444444444444,\"#bd3786\"],[0.5555555555555556,\"#d8576b\"],[0.6666666666666666,\"#ed7953\"],[0.7777777777777778,\"#fb9f3a\"],[0.8888888888888888,\"#fdca26\"],[1.0,\"#f0f921\"]],\"type\":\"histogram2dcontour\"}],\"histogram2d\":[{\"colorbar\":{\"outlinewidth\":0,\"ticks\":\"\"},\"colorscale\":[[0.0,\"#0d0887\"],[0.1111111111111111,\"#46039f\"],[0.2222222222222222,\"#7201a8\"],[0.3333333333333333,\"#9c179e\"],[0.4444444444444444,\"#bd3786\"],[0.5555555555555556,\"#d8576b\"],[0.6666666666666666,\"#ed7953\"],[0.7777777777777778,\"#fb9f3a\"],[0.8888888888888888,\"#fdca26\"],[1.0,\"#f0f921\"]],\"type\":\"histogram2d\"}],\"histogram\":[{\"marker\":{\"pattern\":{\"fillmode\":\"overlay\",\"size\":10,\"solidity\":0.2}},\"type\":\"histogram\"}],\"mesh3d\":[{\"colorbar\":{\"outlinewidth\":0,\"ticks\":\"\"},\"type\":\"mesh3d\"}],\"parcoords\":[{\"line\":{\"colorbar\":{\"outlinewidth\":0,\"ticks\":\"\"}},\"type\":\"parcoords\"}],\"pie\":[{\"automargin\":true,\"type\":\"pie\"}],\"scatter3d\":[{\"line\":{\"colorbar\":{\"outlinewidth\":0,\"ticks\":\"\"}},\"marker\":{\"colorbar\":{\"outlinewidth\":0,\"ticks\":\"\"}},\"type\":\"scatter3d\"}],\"scattercarpet\":[{\"marker\":{\"colorbar\":{\"outlinewidth\":0,\"ticks\":\"\"}},\"type\":\"scattercarpet\"}],\"scattergeo\":[{\"marker\":{\"colorbar\":{\"outlinewidth\":0,\"ticks\":\"\"}},\"type\":\"scattergeo\"}],\"scattergl\":[{\"marker\":{\"colorbar\":{\"outlinewidth\":0,\"ticks\":\"\"}},\"type\":\"scattergl\"}],\"scattermapbox\":[{\"marker\":{\"colorbar\":{\"outlinewidth\":0,\"ticks\":\"\"}},\"type\":\"scattermapbox\"}],\"scatterpolargl\":[{\"marker\":{\"colorbar\":{\"outlinewidth\":0,\"ticks\":\"\"}},\"type\":\"scatterpolargl\"}],\"scatterpolar\":[{\"marker\":{\"colorbar\":{\"outlinewidth\":0,\"ticks\":\"\"}},\"type\":\"scatterpolar\"}],\"scatter\":[{\"fillpattern\":{\"fillmode\":\"overlay\",\"size\":10,\"solidity\":0.2},\"type\":\"scatter\"}],\"scatterternary\":[{\"marker\":{\"colorbar\":{\"outlinewidth\":0,\"ticks\":\"\"}},\"type\":\"scatterternary\"}],\"surface\":[{\"colorbar\":{\"outlinewidth\":0,\"ticks\":\"\"},\"colorscale\":[[0.0,\"#0d0887\"],[0.1111111111111111,\"#46039f\"],[0.2222222222222222,\"#7201a8\"],[0.3333333333333333,\"#9c179e\"],[0.4444444444444444,\"#bd3786\"],[0.5555555555555556,\"#d8576b\"],[0.6666666666666666,\"#ed7953\"],[0.7777777777777778,\"#fb9f3a\"],[0.8888888888888888,\"#fdca26\"],[1.0,\"#f0f921\"]],\"type\":\"surface\"}],\"table\":[{\"cells\":{\"fill\":{\"color\":\"#EBF0F8\"},\"line\":{\"color\":\"white\"}},\"header\":{\"fill\":{\"color\":\"#C8D4E3\"},\"line\":{\"color\":\"white\"}},\"type\":\"table\"}]},\"layout\":{\"annotationdefaults\":{\"arrowcolor\":\"#2a3f5f\",\"arrowhead\":0,\"arrowwidth\":1},\"autotypenumbers\":\"strict\",\"coloraxis\":{\"colorbar\":{\"outlinewidth\":0,\"ticks\":\"\"}},\"colorscale\":{\"diverging\":[[0,\"#8e0152\"],[0.1,\"#c51b7d\"],[0.2,\"#de77ae\"],[0.3,\"#f1b6da\"],[0.4,\"#fde0ef\"],[0.5,\"#f7f7f7\"],[0.6,\"#e6f5d0\"],[0.7,\"#b8e186\"],[0.8,\"#7fbc41\"],[0.9,\"#4d9221\"],[1,\"#276419\"]],\"sequential\":[[0.0,\"#0d0887\"],[0.1111111111111111,\"#46039f\"],[0.2222222222222222,\"#7201a8\"],[0.3333333333333333,\"#9c179e\"],[0.4444444444444444,\"#bd3786\"],[0.5555555555555556,\"#d8576b\"],[0.6666666666666666,\"#ed7953\"],[0.7777777777777778,\"#fb9f3a\"],[0.8888888888888888,\"#fdca26\"],[1.0,\"#f0f921\"]],\"sequentialminus\":[[0.0,\"#0d0887\"],[0.1111111111111111,\"#46039f\"],[0.2222222222222222,\"#7201a8\"],[0.3333333333333333,\"#9c179e\"],[0.4444444444444444,\"#bd3786\"],[0.5555555555555556,\"#d8576b\"],[0.6666666666666666,\"#ed7953\"],[0.7777777777777778,\"#fb9f3a\"],[0.8888888888888888,\"#fdca26\"],[1.0,\"#f0f921\"]]},\"colorway\":[\"#636efa\",\"#EF553B\",\"#00cc96\",\"#ab63fa\",\"#FFA15A\",\"#19d3f3\",\"#FF6692\",\"#B6E880\",\"#FF97FF\",\"#FECB52\"],\"font\":{\"color\":\"#2a3f5f\"},\"geo\":{\"bgcolor\":\"white\",\"lakecolor\":\"white\",\"landcolor\":\"white\",\"showlakes\":true,\"showland\":true,\"subunitcolor\":\"#C8D4E3\"},\"hoverlabel\":{\"align\":\"left\"},\"hovermode\":\"closest\",\"mapbox\":{\"style\":\"light\"},\"paper_bgcolor\":\"white\",\"plot_bgcolor\":\"white\",\"polar\":{\"angularaxis\":{\"gridcolor\":\"#EBF0F8\",\"linecolor\":\"#EBF0F8\",\"ticks\":\"\"},\"bgcolor\":\"white\",\"radialaxis\":{\"gridcolor\":\"#EBF0F8\",\"linecolor\":\"#EBF0F8\",\"ticks\":\"\"}},\"scene\":{\"xaxis\":{\"backgroundcolor\":\"white\",\"gridcolor\":\"#DFE8F3\",\"gridwidth\":2,\"linecolor\":\"#EBF0F8\",\"showbackground\":true,\"ticks\":\"\",\"zerolinecolor\":\"#EBF0F8\"},\"yaxis\":{\"backgroundcolor\":\"white\",\"gridcolor\":\"#DFE8F3\",\"gridwidth\":2,\"linecolor\":\"#EBF0F8\",\"showbackground\":true,\"ticks\":\"\",\"zerolinecolor\":\"#EBF0F8\"},\"zaxis\":{\"backgroundcolor\":\"white\",\"gridcolor\":\"#DFE8F3\",\"gridwidth\":2,\"linecolor\":\"#EBF0F8\",\"showbackground\":true,\"ticks\":\"\",\"zerolinecolor\":\"#EBF0F8\"}},\"shapedefaults\":{\"line\":{\"color\":\"#2a3f5f\"}},\"ternary\":{\"aaxis\":{\"gridcolor\":\"#DFE8F3\",\"linecolor\":\"#A2B1C6\",\"ticks\":\"\"},\"baxis\":{\"gridcolor\":\"#DFE8F3\",\"linecolor\":\"#A2B1C6\",\"ticks\":\"\"},\"bgcolor\":\"white\",\"caxis\":{\"gridcolor\":\"#DFE8F3\",\"linecolor\":\"#A2B1C6\",\"ticks\":\"\"}},\"title\":{\"x\":0.05},\"xaxis\":{\"automargin\":true,\"gridcolor\":\"#EBF0F8\",\"linecolor\":\"#EBF0F8\",\"ticks\":\"\",\"title\":{\"standoff\":15},\"zerolinecolor\":\"#EBF0F8\",\"zerolinewidth\":2},\"yaxis\":{\"automargin\":true,\"gridcolor\":\"#EBF0F8\",\"linecolor\":\"#EBF0F8\",\"ticks\":\"\",\"title\":{\"standoff\":15},\"zerolinecolor\":\"#EBF0F8\",\"zerolinewidth\":2}}},\"xaxis\":{\"anchor\":\"y\",\"domain\":[0.0,1.0],\"title\":{\"text\":\"Model variant\"},\"categoryorder\":\"array\",\"categoryarray\":[\"QuadraticGlobalRE\",\"LinearGlobalRE\",\"QuadraticLocalRE\",\"LinearLocalRE\"],\"showticklabels\":true,\"showgrid\":false,\"linecolor\":\"DarkGrey\"},\"yaxis\":{\"anchor\":\"x\",\"domain\":[0.0,1.0],\"title\":{\"text\":\"Relative share\"},\"range\":[0.0,1.0],\"ticks\":\"outside\",\"tickcolor\":\"DarkGrey\",\"showgrid\":false,\"linecolor\":\"DarkGrey\",\"zeroline\":true,\"zerolinecolor\":\"DarkGrey\",\"zerolinewidth\":1},\"legend\":{\"title\":{\"text\":\"\"},\"tracegroupgap\":0},\"margin\":{\"t\":80},\"barmode\":\"relative\",\"showlegend\":false,\"font\":{\"color\":\"black\",\"size\":12},\"title\":{\"text\":\"Relative share of full RE states among global optima\"}},                        {\"responsive\": true}                    ).then(function(){\n",
       "                            \n",
       "var gd = document.getElementById('92ee1e18-9776-4b2a-8a9b-05d50c31ccf1');\n",
       "var x = new MutationObserver(function (mutations, observer) {{\n",
       "        var display = window.getComputedStyle(gd).display;\n",
       "        if (!display || display === 'none') {{\n",
       "            console.log([gd, 'removed!']);\n",
       "            Plotly.purge(gd);\n",
       "            observer.disconnect();\n",
       "        }}\n",
       "}});\n",
       "\n",
       "// Listen for the removal of the full notebook cells\n",
       "var notebookContainer = gd.closest('#notebook-container');\n",
       "if (notebookContainer) {{\n",
       "    x.observe(notebookContainer, {childList: true});\n",
       "}}\n",
       "\n",
       "// Listen for the clearing of the current output cell\n",
       "var outputEl = gd.closest('.output');\n",
       "if (outputEl) {{\n",
       "    x.observe(outputEl, {childList: true});\n",
       "}}\n",
       "\n",
       "                        })                };                });            </script>        </div>"
      ]
     },
     "metadata": {},
     "output_type": "display_data"
    }
   ],
   "source": [
    "for df, endpoint_type in zip([grouped_fp_data, grouped_go_data], ['fp', 'go']):\n",
    "    \n",
    "    fig = px.bar(df.round(3), \n",
    "                  x=\"model_name\", \n",
    "                  y=\"rel_{}_full_re\".format(endpoint_type),\n",
    "                  color=\"model_name\",\n",
    "                  color_discrete_map = viridis_map,\n",
    "                  text_auto=True)\n",
    "    \n",
    "    fig.update_layout(showlegend=False)\n",
    "    \n",
    "    fig.update_yaxes(range=[0.0, 1.0])\n",
    "    \n",
    "    fig.update_layout(template=\"plotly_white\",\n",
    "                       #paper_bgcolor=\"#e9e8e6\",\n",
    "                       #plot_bgcolor=\"#e9e8e6\",\n",
    "                       font={\"color\": \"black\", \"size\":12},\n",
    "                       #width=900,\n",
    "                       margin={\"t\":80}\n",
    "                      )\n",
    "\n",
    "    fig.update_xaxes(title=\"Model variant\", showticklabels=True, showgrid=False, linecolor= 'DarkGrey')\n",
    "    fig.update_yaxes(title=\"Relative share\", ticks=\"outside\", tickcolor=\"DarkGrey\", showgrid=False, linecolor='DarkGrey', zeroline=True, zerolinecolor=\"DarkGrey\",\n",
    "                      zerolinewidth=1)\n",
    "    fig.update_layout(legend_title_text=\"\")\n",
    "    \n",
    "    endpoints = \"global optima\" if endpoint_type==\"go\" else \"fixed points\"\n",
    "    \n",
    "    if (endpoint_type == \"fp\") & (analyse_branches):\n",
    "        endpoints += \" (all branches)\"\n",
    "    \n",
    "    fig.update_layout(title_text=\"Relative share of full RE states among {}\".format(endpoints))\n",
    "\n",
    "    fig.show()\n",
    "    \n",
    "    if export_results:\n",
    "        file_name = 'overall_full_re_{}_{}.png'.format(endpoint_type, 'branches' if analyse_branches else 'setups')\n",
    "        fig.write_image(path.join(figures_output_dir, file_name), scale=2)\n",
    "        \n",
    "        file_name = 'overall_full_re_{}_{}.pdf'.format(endpoint_type, 'branches' if analyse_branches else 'setups')\n",
    "        fig.write_image(path.join(figures_output_dir, file_name), scale=2)\n",
    "\n",
    "    \n",
    "        \n"
   ]
  },
  {
   "cell_type": "code",
   "execution_count": null,
   "id": "632791aa",
   "metadata": {},
   "outputs": [],
   "source": []
  },
  {
   "cell_type": "markdown",
   "id": "b7552ab5",
   "metadata": {},
   "source": [
    "### Heatmaps"
   ]
  },
  {
   "cell_type": "code",
   "execution_count": 105,
   "id": "aede8ed6",
   "metadata": {},
   "outputs": [],
   "source": [
    "new_grouping = ['model_name', 'weight_account','weight_systematicity']"
   ]
  },
  {
   "cell_type": "code",
   "execution_count": 106,
   "id": "e5bc2dde",
   "metadata": {},
   "outputs": [],
   "source": [
    "wgrouped_go_data=exploded_go_data.groupby(new_grouping)[\"go_full_re_state\"].agg([\"sum\", \"size\"]).reset_index()\n",
    "    \n",
    "wgrouped_go_data = wgrouped_go_data.rename(columns={'sum': \"n_go_full_re_state\",\n",
    "                                                      'size': 'n_global_optima'})\n",
    "\n",
    "# relative shares\n",
    "wgrouped_go_data[\"rel_go_full_re\"] = wgrouped_go_data[\"n_go_full_re_state\"]/wgrouped_go_data[\"n_global_optima\"]\n",
    "wgrouped_go_data[\"rel_go_full_re\"] = wgrouped_go_data[\"rel_go_full_re\"].astype(float).round(2)\n",
    "\n",
    "# sort by model name\n",
    "wgrouped_go_data['model_name'] = pd.Categorical(wgrouped_go_data['model_name'], [\"QuadraticGlobalRE\", \"LinearGlobalRE\", \"QuadraticLocalRE\", \"LinearLocalRE\"])\n",
    "wgrouped_go_data.sort_values(\"model_name\", inplace=True)"
   ]
  },
  {
   "cell_type": "code",
   "execution_count": 107,
   "id": "bc99e174",
   "metadata": {},
   "outputs": [],
   "source": [
    "wgrouped_fp_data=exploded_fp_data.groupby(new_grouping)[\"fp_full_re_state\"].agg([\"sum\", \"size\"]).reset_index()\n",
    "    \n",
    "wgrouped_fp_data = wgrouped_fp_data.rename(columns={'sum': \"n_fp_full_re_state\",\n",
    "                                                      'size': 'n_fixed_points'})\n",
    "\n",
    "# relative shares\n",
    "wgrouped_fp_data[\"rel_fp_full_re\"] = wgrouped_fp_data[\"n_fp_full_re_state\"]/wgrouped_fp_data[\"n_fixed_points\"]\n",
    "\n",
    "wgrouped_fp_data[\"rel_fp_full_re\"] = wgrouped_fp_data[\"rel_fp_full_re\"].astype(float).round(2)\n",
    "\n",
    "# sort by model name\n",
    "wgrouped_fp_data['model_name'] = pd.Categorical(wgrouped_fp_data['model_name'], [\"QuadraticGlobalRE\", \"LinearGlobalRE\", \"QuadraticLocalRE\", \"LinearLocalRE\"])\n",
    "wgrouped_fp_data.sort_values(\"model_name\", inplace=True)"
   ]
  },
  {
   "cell_type": "code",
   "execution_count": 108,
   "id": "68c1393d",
   "metadata": {},
   "outputs": [
    {
     "data": {
      "image/png": "[encoded data removed]",
      "text/plain": [
       "<Figure size 720x720 with 4 Axes>"
      ]
     },
     "metadata": {
      "needs_background": "light"
     },
     "output_type": "display_data"
    }
   ],
   "source": [
    "normalized_heat_maps_by_weights(wgrouped_go_data, \n",
    "                                \"rel_go_full_re\", \n",
    "                                \"Relative share of full RE states among global optima\",\n",
    "                                annot_std = False,\n",
    "                                #annot_fmt=\"{:2.2f}\\n\"\n",
    "                               )\n",
    "      \n",
    "branches = \"branches\" if analyse_branches else \"setups\"\n",
    "        \n",
    "if export_results:\n",
    "    plt.savefig(path.join(figures_output_dir, 'rel_go_full_re_{}.png'.format(branches)), bbox_inches='tight')\n",
    "    plt.savefig(path.join(figures_output_dir, 'rel_go_full_re_{}.pdf'.format(branches)), bbox_inches='tight')"
   ]
  },
  {
   "cell_type": "code",
   "execution_count": 109,
   "id": "679a7e48",
   "metadata": {},
   "outputs": [
    {
     "data": {
      "image/png": "[encoded data removed]",
      "text/plain": [
       "<Figure size 720x720 with 4 Axes>"
      ]
     },
     "metadata": {
      "needs_background": "light"
     },
     "output_type": "display_data"
    }
   ],
   "source": [
    "normalized_heat_maps_by_weights(wgrouped_fp_data, \n",
    "                                \"rel_fp_full_re\", \n",
    "                                \"Relative share of full RE states among fixed points{}\".format(\" (all branches)\" if analyse_branches else \"\"),\n",
    "                                annot_std = False,\n",
    "                                annot_fmt=\"{:2.2f}\\n\")\n",
    "\n",
    "branches = \"branches\" if analyse_branches else \"setups\"\n",
    "        \n",
    "if export_results:\n",
    "    plt.savefig(path.join(figures_output_dir, 'rel_fp_full_re_{}.png'.format(branches)), bbox_inches='tight')\n",
    "    plt.savefig(path.join(figures_output_dir, 'rel_fp_full_re_{}.pdf'.format(branches)), bbox_inches='tight')"
   ]
  },
  {
   "cell_type": "code",
   "execution_count": null,
   "id": "6ae73ae6",
   "metadata": {},
   "outputs": [],
   "source": []
  }
 ],
 "metadata": {
  "kernelspec": {
   "display_name": "Python 3 (ipykernel)",
   "language": "python",
   "name": "python3"
  },
  "language_info": {
   "codemirror_mode": {
    "name": "ipython",
    "version": 3
   },
   "file_extension": ".py",
   "mimetype": "text/x-python",
   "name": "python",
   "nbconvert_exporter": "python",
   "pygments_lexer": "ipython3",
   "version": "3.9.7"
  }
 },
 "nbformat": 4,
 "nbformat_minor": 5
}
