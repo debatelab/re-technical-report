{
 "cells": [
  {
   "cell_type": "code",
   "execution_count": 1,
   "id": "738ffb7e",
   "metadata": {},
   "outputs": [],
   "source": [
    "# importing libraries\n",
    "from os import getcwd, path\n",
    "from pathlib import Path\n",
    "\n",
    "from pandas import Series, DataFrame\n",
    "import pandas as pd\n",
    "import numpy as np\n",
    "from typing import Set, List\n",
    "\n",
    "from data_analysis_helper_fun import *"
   ]
  },
  {
   "cell_type": "code",
   "execution_count": 2,
   "id": "6a660d43",
   "metadata": {},
   "outputs": [],
   "source": [
    "from data_analysis_helper_fun import normalized_heat_maps_by_weights"
   ]
  },
  {
   "cell_type": "markdown",
   "id": "8d5e3cc9",
   "metadata": {},
   "source": [
    "## Loading Data"
   ]
  },
  {
   "cell_type": "code",
   "execution_count": 3,
   "id": "00a6fe95",
   "metadata": {},
   "outputs": [],
   "source": [
    " # relative path to data directory\n",
    "data_dir = path.join(Path(getcwd()).parent.absolute(), \"data\")\n",
    "data_set_name = 're_data_20231108_process_results'\n",
    "data_file_name = f'{data_set_name}.csv.tar.gz'\n",
    "re_data = load_re_data(data_dir, data_file_name)\n",
    "\n",
    "# output directory\n",
    "tables_output_dir = path.join(Path(getcwd()).parent.absolute(), \"report\", \"tables\")\n",
    "figures_output_dir = path.join(Path(getcwd()).parent.absolute(), \"report\", \"figures\")"
   ]
  },
  {
   "cell_type": "code",
   "execution_count": 4,
   "id": "9acdd224",
   "metadata": {},
   "outputs": [
    {
     "name": "stdout",
     "output_type": "stream",
     "text": [
      "\u001b[1mGeneral information: \u001b[0m\n",
      "   Amount of rows: 2047\n",
      "   Number of dialectical structures: 8\n",
      "   Overall number of initial commitments: 20\n",
      "   Sentence-pools: [6 7]\n",
      "   Models: ['StandardGlobalReflectiveEquilibrium'\n",
      " 'StandardGlobalReflectiveEquilibriumLinearG'\n",
      " 'StandardLocalReflectiveEquilibrium'\n",
      " 'StandardLocalReflectiveEquilibriumLinearG']\n",
      "\n",
      "\n"
     ]
    }
   ],
   "source": [
    "print('\\033[1m' + 'General information: ' + '\\033[0m')\n",
    "print(\"   Amount of rows:\" , len(re_data))\n",
    "print('   Number of dialectical structures:', len(re_data['ds'].unique()))\n",
    "print('   Overall number of initial commitments:', len(re_data['init_coms'].unique()))\n",
    "print('   Sentence-pools:' , re_data['n_sentence_pool'].unique())\n",
    "print('   Models:' , re_data['model_name'].unique())\n",
    "print('\\n')"
   ]
  },
  {
   "cell_type": "code",
   "execution_count": 5,
   "id": "3bfbaf65",
   "metadata": {},
   "outputs": [
    {
     "data": {
      "text/plain": [
       "Index(['model_name', 'ds', 'tau_name', 'n_sentence_pool', 'ds_arg_size',\n",
       "       'ds_infer_dens', 'ds_n_consistent_complete_positions', 'ds_mean_prem',\n",
       "       'ds_variance_prem', 'tau_truths', 'principles', 'account_penalties',\n",
       "       'faithfulness_penalties', 'weight_account', 'weight_systematicity',\n",
       "       'weight_faithfulness', 'init_coms', 'init_coms_size',\n",
       "       'init_coms_n_tau_truths', 'init_coms_n_tau_falsehoods',\n",
       "       'init_coms_n_consistent_complete_positions', 'init_coms_dia_consistent',\n",
       "       'init_coms_closed', 'fixed_point_coms', 'fixed_point_coms_size',\n",
       "       'fixed_point_coms_n_tau_truths', 'fixed_point_coms_n_tau_falsehoods',\n",
       "       'fixed_point_coms_closed', 'fixed_point_coms_consistent',\n",
       "       'fixed_point_coms_n_consistent_complete_positions',\n",
       "       'fixed_point_theory', 'fixed_point_theory_closure',\n",
       "       'init_coms_min_ax_bases', 'n_init_coms_min_ax_base',\n",
       "       'achievements_evolution', 'fixed_point_dia_consistent',\n",
       "       'init_final_coms_simple_hamming', 'init_final_coms_hamming',\n",
       "       'init_final_coms_contradictions', 'init_final_coms_expansions',\n",
       "       'init_final_coms_contractions', 'init_final_coms_identities',\n",
       "       'random_choices', 'n_random_choices', 'coms_evolution',\n",
       "       'theory_evolution', 'process_length', 'n_branches', 'fixed_points',\n",
       "       'n_fixed_points', 'fp_coms_consistent', 'fp_union_consistent',\n",
       "       'fp_account', 'fp_faithfulness', 'fixed_point_is_global_optimum',\n",
       "       'fixed_point_is_re_state', 'fixed_point_is_full_re_state',\n",
       "       'global_optima', 'n_global_optima', 'go_coms_consistent',\n",
       "       'go_union_consistent', 'go_full_re_state', 'go_account',\n",
       "       'go_faithfulness', 're_states', 'n_re_states', 'full_re_states',\n",
       "       'n_full_re_states', 'fixed_point_coms_min_ax_bases',\n",
       "       'n_fixed_point_coms_min_ax_base',\n",
       "       'fixed_point_coms_min_ax_bases_theory',\n",
       "       'n_fixed_point_coms_min_ax_base_theory', 'fixed_point_theory_axioms',\n",
       "       'go_fixed_point', 'fp_full_re_state', 'fp_global_optimum'],\n",
       "      dtype='object')"
      ]
     },
     "execution_count": 5,
     "metadata": {},
     "output_type": "execute_result"
    }
   ],
   "source": [
    "re_data.columns"
   ]
  },
  {
   "cell_type": "code",
   "execution_count": 6,
   "id": "3b9a913d",
   "metadata": {},
   "outputs": [],
   "source": [
    "## Setup Dataframes"
   ]
  },
  {
   "cell_type": "code",
   "execution_count": 7,
   "id": "583d4d16",
   "metadata": {},
   "outputs": [],
   "source": [
    "\"\"\" \n",
    "If `analyse_branches` is set to `true`, all branches of RE processes are considered for the analysis. \n",
    "This may lead to the multiple counting of a unique fixed point, \n",
    "if they are reached on different paths from a simulation setup.\n",
    "Otherwise, the subsequent analysis comprises only unique fixed points per simulation setups\n",
    "\"\"\"\n",
    "analyse_branches = False\n",
    "\n",
    "\"\"\"\n",
    "To discuss: Should thi always be set to `true`? \n",
    "\n",
    "If `group_results` is set to `true`, the results (relative share of consistency cases) \n",
    "are grouped by simulation setup, and afterwards, their mean is reported. \n",
    "Otherwise, the relative share of consistency cases is reported without grouping beforehand (=> no mean +- SD).\n",
    "\"\"\"\n",
    "group_results = True\n",
    "\n",
    "# Whether resulting tables and figures are exported to the corresponing output directory\"\"\"\n",
    "export_results = False"
   ]
  },
  {
   "cell_type": "code",
   "execution_count": 8,
   "id": "fc1f2261",
   "metadata": {},
   "outputs": [],
   "source": [
    "# the analysis of global optima is not affected by status of `analyse_branches`\n",
    "\n",
    "# restrict data to unique simulation setups to prevent multiple counting of branches \n",
    "re_data_unique_setups = re_data.drop_duplicates([\"model_name\",\n",
    "                         \"ds\",\n",
    "                         \"n_sentence_pool\",\n",
    "                         'weight_account', \n",
    "                         'weight_systematicity',\n",
    "                         'weight_faithfulness', \n",
    "                         'init_coms'\n",
    "                        ])\n",
    "\n",
    "# restrict to relevant columns\n",
    "go_data = re_data_unique_setups[[\"model_name\",\n",
    "                                 \"ds\",\n",
    "                                 \"init_coms\",\n",
    "                                 \"weight_account\", \n",
    "                                 \"weight_systematicity\",\n",
    "                                 'n_global_optima',\n",
    "                                 'go_full_re_state',\n",
    "                                 'n_full_re_states'\n",
    "                                ]]\n",
    "\n",
    "# explode information about global optima, which is stored rowwise (per simulation setup) \n",
    "# in lists (e.g. in the column `go_coms_consistent`) \n",
    "#exploded_go_data = go_data.set_index([\"model_name\",\n",
    "#                                      \"ds\",\n",
    "#                                      \"init_coms\",\n",
    "#                                      \"weight_account\", \n",
    "#                                      \"weight_systematicity\", \n",
    "#                                      \"init_coms_dia_consistent\"]).apply(pd.Series.explode).reset_index()\n",
    "#\n",
    "#exploded_go_data.shape"
   ]
  },
  {
   "cell_type": "code",
   "execution_count": 46,
   "id": "4bcc8260",
   "metadata": {},
   "outputs": [],
   "source": [
    "#go_data.head()"
   ]
  },
  {
   "cell_type": "code",
   "execution_count": 10,
   "id": "e3bb2025",
   "metadata": {},
   "outputs": [
    {
     "name": "stderr",
     "output_type": "stream",
     "text": [
      "C:\\Users\\afrei\\AppData\\Local\\Temp/ipykernel_11552/808330002.py:1: SettingWithCopyWarning: \n",
      "A value is trying to be set on a copy of a slice from a DataFrame.\n",
      "Try using .loc[row_indexer,col_indexer] = value instead\n",
      "\n",
      "See the caveats in the documentation: https://pandas.pydata.org/pandas-docs/stable/user_guide/indexing.html#returning-a-view-versus-a-copy\n",
      "  go_data[\"rel_go_full_re\"] = go_data[\"n_full_re_states\"]/go_data[\"n_global_optima\"]\n"
     ]
    }
   ],
   "source": [
    "go_data[\"rel_go_full_re\"] = go_data[\"n_full_re_states\"]/go_data[\"n_global_optima\"]"
   ]
  },
  {
   "cell_type": "code",
   "execution_count": 47,
   "id": "7acaa9c3",
   "metadata": {},
   "outputs": [
    {
     "data": {
      "text/html": [
       "<div>\n",
       "<style scoped>\n",
       "    .dataframe tbody tr th:only-of-type {\n",
       "        vertical-align: middle;\n",
       "    }\n",
       "\n",
       "    .dataframe tbody tr th {\n",
       "        vertical-align: top;\n",
       "    }\n",
       "\n",
       "    .dataframe thead th {\n",
       "        text-align: right;\n",
       "    }\n",
       "</style>\n",
       "<table border=\"1\" class=\"dataframe\">\n",
       "  <thead>\n",
       "    <tr style=\"text-align: right;\">\n",
       "      <th></th>\n",
       "      <th>count</th>\n",
       "      <th>mean</th>\n",
       "      <th>std</th>\n",
       "      <th>min</th>\n",
       "      <th>25%</th>\n",
       "      <th>50%</th>\n",
       "      <th>75%</th>\n",
       "      <th>max</th>\n",
       "    </tr>\n",
       "    <tr>\n",
       "      <th>model_name</th>\n",
       "      <th></th>\n",
       "      <th></th>\n",
       "      <th></th>\n",
       "      <th></th>\n",
       "      <th></th>\n",
       "      <th></th>\n",
       "      <th></th>\n",
       "      <th></th>\n",
       "    </tr>\n",
       "  </thead>\n",
       "  <tbody>\n",
       "    <tr>\n",
       "      <th>LinearGlobalRE</th>\n",
       "      <td>240.0</td>\n",
       "      <td>0.479421</td>\n",
       "      <td>0.426389</td>\n",
       "      <td>0.0</td>\n",
       "      <td>0.0</td>\n",
       "      <td>0.333333</td>\n",
       "      <td>1.0</td>\n",
       "      <td>1.0</td>\n",
       "    </tr>\n",
       "    <tr>\n",
       "      <th>LinearLocalRE</th>\n",
       "      <td>240.0</td>\n",
       "      <td>0.479421</td>\n",
       "      <td>0.426389</td>\n",
       "      <td>0.0</td>\n",
       "      <td>0.0</td>\n",
       "      <td>0.333333</td>\n",
       "      <td>1.0</td>\n",
       "      <td>1.0</td>\n",
       "    </tr>\n",
       "    <tr>\n",
       "      <th>QuadraticGlobalRE</th>\n",
       "      <td>240.0</td>\n",
       "      <td>0.352778</td>\n",
       "      <td>0.442765</td>\n",
       "      <td>0.0</td>\n",
       "      <td>0.0</td>\n",
       "      <td>0.000000</td>\n",
       "      <td>1.0</td>\n",
       "      <td>1.0</td>\n",
       "    </tr>\n",
       "    <tr>\n",
       "      <th>QuadraticLocalRE</th>\n",
       "      <td>240.0</td>\n",
       "      <td>0.352778</td>\n",
       "      <td>0.442765</td>\n",
       "      <td>0.0</td>\n",
       "      <td>0.0</td>\n",
       "      <td>0.000000</td>\n",
       "      <td>1.0</td>\n",
       "      <td>1.0</td>\n",
       "    </tr>\n",
       "  </tbody>\n",
       "</table>\n",
       "</div>"
      ],
      "text/plain": [
       "                   count      mean       std  min  25%       50%  75%  max\n",
       "model_name                                                                \n",
       "LinearGlobalRE     240.0  0.479421  0.426389  0.0  0.0  0.333333  1.0  1.0\n",
       "LinearLocalRE      240.0  0.479421  0.426389  0.0  0.0  0.333333  1.0  1.0\n",
       "QuadraticGlobalRE  240.0  0.352778  0.442765  0.0  0.0  0.000000  1.0  1.0\n",
       "QuadraticLocalRE   240.0  0.352778  0.442765  0.0  0.0  0.000000  1.0  1.0"
      ]
     },
     "execution_count": 47,
     "metadata": {},
     "output_type": "execute_result"
    }
   ],
   "source": [
    "go_data.groupby(\"model_name\")[\"rel_go_full_re\"].describe()"
   ]
  },
  {
   "cell_type": "code",
   "execution_count": 12,
   "id": "23a71197",
   "metadata": {},
   "outputs": [],
   "source": [
    "if analyse_branches:\n",
    "    \n",
    "    # use all rows and restrict to relevant columns\n",
    "    fp_data = re_data[[\"model_name\",\n",
    "                       \"ds\",\n",
    "                       \"init_coms\",\n",
    "                       \"weight_account\", \n",
    "                       \"weight_systematicity\", \n",
    "                       \"init_coms_dia_consistent\", \n",
    "                       \"fixed_point_coms_consistent\"]]\n",
    "    \n",
    "    # rename fixed point columns \n",
    "    # note: data is already exploded\n",
    "    exploded_fp_data = fp_data.rename(columns={\"fixed_point_coms_consistent\": \"fp_coms_consistent\",})\n",
    "    \n",
    "    \n",
    "else:\n",
    "    \n",
    "    # use unique setups and restrict to relevant columns\n",
    "    fp_data = re_data_unique_setups[[\"model_name\",\n",
    "                                     \"ds\",\n",
    "                                     \"init_coms\",\n",
    "                                     \"weight_account\", \n",
    "                                     \"weight_systematicity\", \n",
    "                                     \"fp_full_re_state\",\n",
    "                                     \"n_fixed_points\"]]\n",
    "    \n",
    "    # explode information about unique fixed points, which is stored rowwise (per simulation setup) \n",
    "    # in lists (e.g. in the column `go_coms_consistent`) \n",
    "    #exploded_fp_data = fp_data.set_index([\"model_name\",\n",
    "    #                                      \"ds\",\n",
    "    #                                      \"init_coms\",\n",
    "    #                                      \"weight_account\", \n",
    "    #                                      \"weight_systematicity\", \n",
    "    #                                      \"init_coms_dia_consistent\"]).apply(pd.Series.explode).reset_index()\n",
    "    \n",
    "#exploded_fp_data.shape"
   ]
  },
  {
   "cell_type": "code",
   "execution_count": 42,
   "id": "ae2fc907",
   "metadata": {},
   "outputs": [],
   "source": [
    "#fp_data.head()"
   ]
  },
  {
   "cell_type": "code",
   "execution_count": 14,
   "id": "633c3492",
   "metadata": {},
   "outputs": [
    {
     "name": "stderr",
     "output_type": "stream",
     "text": [
      "C:\\Users\\afrei\\AppData\\Local\\Temp/ipykernel_11552/1389633830.py:1: SettingWithCopyWarning: \n",
      "A value is trying to be set on a copy of a slice from a DataFrame.\n",
      "Try using .loc[row_indexer,col_indexer] = value instead\n",
      "\n",
      "See the caveats in the documentation: https://pandas.pydata.org/pandas-docs/stable/user_guide/indexing.html#returning-a-view-versus-a-copy\n",
      "  fp_data[\"n_fp_full_re_state\"] = fp_data[\"fp_full_re_state\"].map(sum)\n"
     ]
    }
   ],
   "source": [
    "fp_data[\"n_fp_full_re_state\"] = fp_data[\"fp_full_re_state\"].map(sum)"
   ]
  },
  {
   "cell_type": "code",
   "execution_count": 43,
   "id": "4cbcdb73",
   "metadata": {},
   "outputs": [],
   "source": [
    "#fp_data.head()"
   ]
  },
  {
   "cell_type": "code",
   "execution_count": 44,
   "id": "509e2877",
   "metadata": {},
   "outputs": [
    {
     "name": "stderr",
     "output_type": "stream",
     "text": [
      "C:\\Users\\afrei\\AppData\\Local\\Temp/ipykernel_11552/910217498.py:1: SettingWithCopyWarning: \n",
      "A value is trying to be set on a copy of a slice from a DataFrame.\n",
      "Try using .loc[row_indexer,col_indexer] = value instead\n",
      "\n",
      "See the caveats in the documentation: https://pandas.pydata.org/pandas-docs/stable/user_guide/indexing.html#returning-a-view-versus-a-copy\n",
      "  fp_data[\"rel_fp_full_re\"] = fp_data[\"n_fp_full_re_state\"]/fp_data[\"n_fixed_points\"]\n"
     ]
    }
   ],
   "source": [
    "fp_data[\"rel_fp_full_re\"] = fp_data[\"n_fp_full_re_state\"]/fp_data[\"n_fixed_points\"]"
   ]
  },
  {
   "cell_type": "code",
   "execution_count": 45,
   "id": "78224beb",
   "metadata": {},
   "outputs": [
    {
     "data": {
      "text/html": [
       "<div>\n",
       "<style scoped>\n",
       "    .dataframe tbody tr th:only-of-type {\n",
       "        vertical-align: middle;\n",
       "    }\n",
       "\n",
       "    .dataframe tbody tr th {\n",
       "        vertical-align: top;\n",
       "    }\n",
       "\n",
       "    .dataframe thead th {\n",
       "        text-align: right;\n",
       "    }\n",
       "</style>\n",
       "<table border=\"1\" class=\"dataframe\">\n",
       "  <thead>\n",
       "    <tr style=\"text-align: right;\">\n",
       "      <th></th>\n",
       "      <th>count</th>\n",
       "      <th>mean</th>\n",
       "      <th>std</th>\n",
       "      <th>min</th>\n",
       "      <th>25%</th>\n",
       "      <th>50%</th>\n",
       "      <th>75%</th>\n",
       "      <th>max</th>\n",
       "    </tr>\n",
       "    <tr>\n",
       "      <th>model_name</th>\n",
       "      <th></th>\n",
       "      <th></th>\n",
       "      <th></th>\n",
       "      <th></th>\n",
       "      <th></th>\n",
       "      <th></th>\n",
       "      <th></th>\n",
       "      <th></th>\n",
       "    </tr>\n",
       "  </thead>\n",
       "  <tbody>\n",
       "    <tr>\n",
       "      <th>LinearGlobalRE</th>\n",
       "      <td>240.0</td>\n",
       "      <td>0.312847</td>\n",
       "      <td>0.410041</td>\n",
       "      <td>0.0</td>\n",
       "      <td>0.0</td>\n",
       "      <td>0.0</td>\n",
       "      <td>0.500000</td>\n",
       "      <td>1.0</td>\n",
       "    </tr>\n",
       "    <tr>\n",
       "      <th>LinearLocalRE</th>\n",
       "      <td>240.0</td>\n",
       "      <td>0.277083</td>\n",
       "      <td>0.430646</td>\n",
       "      <td>0.0</td>\n",
       "      <td>0.0</td>\n",
       "      <td>0.0</td>\n",
       "      <td>0.500000</td>\n",
       "      <td>1.0</td>\n",
       "    </tr>\n",
       "    <tr>\n",
       "      <th>QuadraticGlobalRE</th>\n",
       "      <td>240.0</td>\n",
       "      <td>0.293750</td>\n",
       "      <td>0.438906</td>\n",
       "      <td>0.0</td>\n",
       "      <td>0.0</td>\n",
       "      <td>0.0</td>\n",
       "      <td>1.000000</td>\n",
       "      <td>1.0</td>\n",
       "    </tr>\n",
       "    <tr>\n",
       "      <th>QuadraticLocalRE</th>\n",
       "      <td>240.0</td>\n",
       "      <td>0.211111</td>\n",
       "      <td>0.382821</td>\n",
       "      <td>0.0</td>\n",
       "      <td>0.0</td>\n",
       "      <td>0.0</td>\n",
       "      <td>0.333333</td>\n",
       "      <td>1.0</td>\n",
       "    </tr>\n",
       "  </tbody>\n",
       "</table>\n",
       "</div>"
      ],
      "text/plain": [
       "                   count      mean       std  min  25%  50%       75%  max\n",
       "model_name                                                                \n",
       "LinearGlobalRE     240.0  0.312847  0.410041  0.0  0.0  0.0  0.500000  1.0\n",
       "LinearLocalRE      240.0  0.277083  0.430646  0.0  0.0  0.0  0.500000  1.0\n",
       "QuadraticGlobalRE  240.0  0.293750  0.438906  0.0  0.0  0.0  1.000000  1.0\n",
       "QuadraticLocalRE   240.0  0.211111  0.382821  0.0  0.0  0.0  0.333333  1.0"
      ]
     },
     "execution_count": 45,
     "metadata": {},
     "output_type": "execute_result"
    }
   ],
   "source": [
    "fp_data.groupby(\"model_name\")[\"rel_fp_full_re\"].describe()"
   ]
  },
  {
   "cell_type": "markdown",
   "id": "451ec6e5",
   "metadata": {},
   "source": [
    "## Tables"
   ]
  },
  {
   "cell_type": "code",
   "execution_count": 18,
   "id": "7fbf3692",
   "metadata": {},
   "outputs": [
    {
     "name": "stderr",
     "output_type": "stream",
     "text": [
      "C:\\Users\\afrei\\AppData\\Local\\Temp/ipykernel_11552/2996353887.py:9: SettingWithCopyWarning: \n",
      "A value is trying to be set on a copy of a slice from a DataFrame.\n",
      "Try using .loc[row_indexer,col_indexer] = value instead\n",
      "\n",
      "See the caveats in the documentation: https://pandas.pydata.org/pandas-docs/stable/user_guide/indexing.html#returning-a-view-versus-a-copy\n",
      "  go_data['model_name'] = go_data['model_name'].map(lambda x: model_short_names[x])\n",
      "C:\\Users\\afrei\\AppData\\Local\\Temp/ipykernel_11552/2996353887.py:10: SettingWithCopyWarning: \n",
      "A value is trying to be set on a copy of a slice from a DataFrame.\n",
      "Try using .loc[row_indexer,col_indexer] = value instead\n",
      "\n",
      "See the caveats in the documentation: https://pandas.pydata.org/pandas-docs/stable/user_guide/indexing.html#returning-a-view-versus-a-copy\n",
      "  fp_data['model_name'] = fp_data['model_name'].map(lambda x: model_short_names[x])\n"
     ]
    }
   ],
   "source": [
    "model_short_names = {'StandardGlobalReflectiveEquilibrium':'QuadraticGlobalRE',\n",
    "                     'StandardLocalReflectiveEquilibrium':'QuadraticLocalRE',\n",
    "                     'StandardGlobalReflectiveEquilibriumLinearG': 'LinearGlobalRE',\n",
    "                     'StandardLocalReflectiveEquilibriumLinearG': 'LinearLocalRE'\n",
    "                    }\n",
    "\n",
    "\n",
    "# Adding model short names\n",
    "go_data['model_name'] = go_data['model_name'].map(lambda x: model_short_names[x])\n",
    "fp_data['model_name'] = fp_data['model_name'].map(lambda x: model_short_names[x])"
   ]
  },
  {
   "cell_type": "markdown",
   "id": "1fa5cc33",
   "metadata": {},
   "source": [
    "## Plots"
   ]
  },
  {
   "cell_type": "code",
   "execution_count": 19,
   "id": "9ad677ee",
   "metadata": {},
   "outputs": [],
   "source": [
    "import seaborn as sns\n",
    "import matplotlib.pyplot as plt"
   ]
  },
  {
   "cell_type": "code",
   "execution_count": 90,
   "id": "c17df1eb",
   "metadata": {},
   "outputs": [],
   "source": [
    "\n",
    "\n",
    "custom_params = {\"axes.spines.right\": False, \"axes.spines.top\": False, 'figure.figsize':(11,8)}\n",
    "sns.set_theme(style=\"white\", context=\"notebook\", font_scale=1.25, rc=custom_params)\n",
    "\n",
    "\n",
    "\n",
    "viridis = [\"#472c7a\", \"#2c718e\", \"#29ae80\", \"#b0dd31\"]\n",
    "sns.set_palette(sns.color_palette(viridis))"
   ]
  },
  {
   "cell_type": "code",
   "execution_count": null,
   "id": "10457114",
   "metadata": {},
   "outputs": [],
   "source": []
  },
  {
   "cell_type": "markdown",
   "id": "bf767a75",
   "metadata": {},
   "source": [
    "### Barplots"
   ]
  },
  {
   "cell_type": "code",
   "execution_count": 91,
   "id": "c2d40a38",
   "metadata": {},
   "outputs": [
    {
     "data": {
      "image/png": "[encoded data removed]",
      "text/plain": [
       "<Figure size 792x576 with 1 Axes>"
      ]
     },
     "metadata": {},
     "output_type": "display_data"
    }
   ],
   "source": [
    "ax = sns.barplot(data=go_data, \n",
    "            x=\"model_name\", \n",
    "            y=\"rel_go_full_re\",\n",
    "            hue=\"model_name\",\n",
    "            estimator=np.mean, \n",
    "            errorbar=\"sd\",\n",
    "            legend=False,\n",
    "            )\n",
    "ax.set(xlabel='Model name', ylabel='Relative share')\n",
    "ax.set(title=\"Relative share of full RE states among global optima\")\n",
    "plt.show()"
   ]
  },
  {
   "cell_type": "code",
   "execution_count": 65,
   "id": "ee4db365",
   "metadata": {},
   "outputs": [
    {
     "name": "stderr",
     "output_type": "stream",
     "text": [
      "C:\\Users\\afrei\\AppData\\Local\\Temp/ipykernel_11552/2966707059.py:1: FutureWarning: \n",
      "\n",
      "Passing `palette` without assigning `hue` is deprecated and will be removed in v0.14.0. Assign the `x` variable to `hue` and set `legend=False` for the same effect.\n",
      "\n",
      "  sns.barplot(data=fp_data, x=\"model_name\", y=\"rel_fp_full_re\", palette=\"rocket\")\n"
     ]
    },
    {
     "data": {
      "image/png": "[encoded data removed]",
      "text/plain": [
       "<Figure size 842.4x595.44 with 1 Axes>"
      ]
     },
     "metadata": {},
     "output_type": "display_data"
    }
   ],
   "source": [
    "sns.barplot(data=fp_data, x=\"model_name\", y=\"rel_fp_full_re\", palette=\"rocket\")\n",
    "plt.show()"
   ]
  },
  {
   "cell_type": "markdown",
   "id": "b7552ab5",
   "metadata": {},
   "source": [
    "### Heatmaps"
   ]
  },
  {
   "cell_type": "code",
   "execution_count": 38,
   "id": "68c1393d",
   "metadata": {},
   "outputs": [
    {
     "data": {
      "image/png": "[encoded data removed]",
      "text/plain": [
       "<Figure size 720x720 with 4 Axes>"
      ]
     },
     "metadata": {},
     "output_type": "display_data"
    }
   ],
   "source": [
    "normalized_heat_maps_by_weights(go_data, \n",
    "                                \"rel_go_full_re\", \n",
    "                                \"Relative share of full RE states among global optima\",\n",
    "                                annot_std = True,\n",
    "                                annot_fmt=\"{:2.2f}\\n\")"
   ]
  },
  {
   "cell_type": "code",
   "execution_count": 39,
   "id": "b4cf3fcf",
   "metadata": {},
   "outputs": [
    {
     "data": {
      "image/png": "[encoded data removed]",
      "text/plain": [
       "<Figure size 720x720 with 4 Axes>"
      ]
     },
     "metadata": {},
     "output_type": "display_data"
    }
   ],
   "source": [
    "normalized_heat_maps_by_weights(fp_data, \n",
    "                                \"rel_fp_full_re\", \n",
    "                                \"Relative share of full RE states among fixed_points\",\n",
    "                                annot_std = True,\n",
    "                                annot_fmt=\"{:2.2f}\\n\")"
   ]
  },
  {
   "cell_type": "code",
   "execution_count": null,
   "id": "f2c56527",
   "metadata": {},
   "outputs": [],
   "source": []
  }
 ],
 "metadata": {
  "kernelspec": {
   "display_name": "Python 3 (ipykernel)",
   "language": "python",
   "name": "python3"
  },
  "language_info": {
   "codemirror_mode": {
    "name": "ipython",
    "version": 3
   },
   "file_extension": ".py",
   "mimetype": "text/x-python",
   "name": "python",
   "nbconvert_exporter": "python",
   "pygments_lexer": "ipython3",
   "version": "3.9.7"
  }
 },
 "nbformat": 4,
 "nbformat_minor": 5
}
