{
 "cells": [
  {
   "cell_type": "code",
   "execution_count": 1,
   "id": "738ffb7e",
   "metadata": {},
   "outputs": [],
   "source": [
    "# importing libraries\n",
    "from os import getcwd, path\n",
    "from pathlib import Path\n",
    "\n",
    "from pandas import Series, DataFrame\n",
    "import pandas as pd\n",
    "import numpy as np\n",
    "from typing import Set, List\n",
    "\n",
    "from data_analysis_helper_fun import *"
   ]
  },
  {
   "cell_type": "code",
   "execution_count": 2,
   "id": "6a660d43",
   "metadata": {},
   "outputs": [],
   "source": [
    "from data_analysis_helper_fun import normalized_heat_maps_by_weights"
   ]
  },
  {
   "cell_type": "code",
   "execution_count": 3,
   "id": "ff73e56e",
   "metadata": {},
   "outputs": [],
   "source": [
    "import warnings\n",
    "warnings.filterwarnings('ignore')"
   ]
  },
  {
   "cell_type": "markdown",
   "id": "8d5e3cc9",
   "metadata": {},
   "source": [
    "## Loading Data"
   ]
  },
  {
   "cell_type": "code",
   "execution_count": 4,
   "id": "00a6fe95",
   "metadata": {},
   "outputs": [],
   "source": [
    " # relative path to data directory\n",
    "data_dir = path.join(Path(getcwd()).parent.absolute(), \"data\")\n",
    "data_set_name = 're_data_tau_alpha_001-150'\n",
    "data_file_name = f'{data_set_name}.csv.tar.gz'\n",
    "re_data = load_re_data(data_dir, \n",
    "                                data_file_name,\n",
    "                                usecols = [\"model_name\",\n",
    "                                           'n_sentence_pool',\n",
    "                                           \"ds\",\n",
    "                                           \"init_coms\",\n",
    "                                           'weight_account', \n",
    "                                           'weight_systematicity',\n",
    "                                           \"fixed_point_coms_consistent\",\n",
    "                                           \"n_fixed_points\",\n",
    "                                           \"n_global_optima\",\n",
    "                                           \"fp_full_re_state\",\n",
    "                                           \"go_full_re_state\",\n",
    "                                           'n_full_re_states',\n",
    "                                           'fixed_point_is_full_re_state'\n",
    "                                           ],\n",
    "                               evalcols = [\n",
    "                                    \"fp_full_re_state\",\n",
    "                                    \"go_full_re_state\"\n",
    "                                   ])"
   ]
  },
  {
   "cell_type": "code",
   "execution_count": 5,
   "id": "ba81ba81",
   "metadata": {},
   "outputs": [],
   "source": [
    "# output directory\n",
    "tables_output_dir = path.join(Path(getcwd()).parent.absolute(), \"report\", \"tables\")\n",
    "figures_output_dir = path.join(Path(getcwd()).parent.absolute(), \"report\", \"figures\")"
   ]
  },
  {
   "cell_type": "code",
   "execution_count": 6,
   "id": "9acdd224",
   "metadata": {},
   "outputs": [
    {
     "name": "stdout",
     "output_type": "stream",
     "text": [
      "\u001b[1mGeneral information: \u001b[0m\n",
      "   Amount of rows: 1753906\n",
      "   Number of dialectical structures: 150\n",
      "   Overall number of initial commitments: 60\n",
      "   Sentence-pools: [6 7 8]\n",
      "   Models: ['QuadraticGlobalRE' 'LinearGlobalRE' 'QuadraticLocalRE' 'LinearLocalRE']\n",
      "\n",
      "\n"
     ]
    }
   ],
   "source": [
    "print('\\033[1m' + 'General information: ' + '\\033[0m')\n",
    "print(\"   Amount of rows:\" , len(re_data))\n",
    "print('   Number of dialectical structures:', len(re_data['ds'].unique()))\n",
    "print('   Overall number of initial commitments:', len(re_data['init_coms'].unique()))\n",
    "print('   Sentence-pools:' , re_data['n_sentence_pool'].unique())\n",
    "print('   Models:' , re_data['model_name'].unique())\n",
    "print('\\n')"
   ]
  },
  {
   "cell_type": "code",
   "execution_count": 7,
   "id": "3bfbaf65",
   "metadata": {},
   "outputs": [
    {
     "data": {
      "text/plain": [
       "Index(['model_name', 'ds', 'n_sentence_pool', 'weight_account',\n",
       "       'weight_systematicity', 'init_coms', 'fixed_point_coms_consistent',\n",
       "       'n_fixed_points', 'fixed_point_is_full_re_state', 'n_global_optima',\n",
       "       'go_full_re_state', 'n_full_re_states', 'fp_full_re_state',\n",
       "       'model_short_name'],\n",
       "      dtype='object')"
      ]
     },
     "execution_count": 7,
     "metadata": {},
     "output_type": "execute_result"
    }
   ],
   "source": [
    "re_data.columns"
   ]
  },
  {
   "cell_type": "markdown",
   "id": "5e750126",
   "metadata": {},
   "source": [
    "## Setup Dataframes"
   ]
  },
  {
   "cell_type": "code",
   "execution_count": 8,
   "id": "583d4d16",
   "metadata": {},
   "outputs": [],
   "source": [
    "\"\"\" \n",
    "If `analyse_branches` is set to `true`, all branches of RE processes are considered for the analysis. \n",
    "This may lead to the multiple counting of a unique fixed point, \n",
    "if they are reached on different paths from a simulation setup.\n",
    "Otherwise, the subsequent analysis comprises only unique fixed points per simulation setups\n",
    "\"\"\"\n",
    "analyse_branches = False\n",
    "\n",
    "grouping = [\"model_name\"]\n",
    "\n",
    "# Whether resulting tables and figures are exported to the corresponing output directory\"\"\"\n",
    "export_results = True"
   ]
  },
  {
   "cell_type": "code",
   "execution_count": 9,
   "id": "fc1f2261",
   "metadata": {},
   "outputs": [
    {
     "data": {
      "text/plain": [
       "(1644574, 6)"
      ]
     },
     "execution_count": 9,
     "metadata": {},
     "output_type": "execute_result"
    }
   ],
   "source": [
    "# the analysis of global optima is not affected by status of `analyse_branches`\n",
    "\n",
    "# restrict data to unique simulation setups to prevent multiple counting of branches \n",
    "re_data_unique_setups = re_data.drop_duplicates([\"model_name\",\n",
    "                         \"ds\",\n",
    "                         \"n_sentence_pool\",\n",
    "                         'weight_account', \n",
    "                         'weight_systematicity', \n",
    "                         'init_coms'\n",
    "                        ])\n",
    "\n",
    "# restrict to relevant columns\n",
    "go_data = re_data_unique_setups[[\"model_name\",\n",
    "                                 \"ds\",\n",
    "                                 \"init_coms\",\n",
    "                                 \"weight_account\", \n",
    "                                 \"weight_systematicity\",\n",
    "                                 #'n_global_optima',\n",
    "                                 'go_full_re_state',\n",
    "                                 #'n_full_re_states'\n",
    "                                ]]\n",
    "\n",
    "# explode information about global optima, which is stored rowwise (per simulation setup) \n",
    "# in lists (e.g. in the column `go_full_re_state`)\n",
    "exploded_go_data = go_data.set_index([\"model_name\",\n",
    "                                      \"ds\",\n",
    "                                      \"init_coms\",\n",
    "                                      \"weight_account\", \n",
    "                                      \"weight_systematicity\",\n",
    "                                     ]).apply(pd.Series.explode).reset_index()\n",
    "\n",
    "exploded_go_data.shape"
   ]
  },
  {
   "cell_type": "code",
   "execution_count": 10,
   "id": "e3bb2025",
   "metadata": {},
   "outputs": [],
   "source": [
    "# this corresponds to a grouping according to simulation setups\n",
    "\n",
    "#go_data[\"rel_go_full_re\"] = go_data[\"n_full_re_states\"]/go_data[\"n_global_optima\"]\n",
    "#go_data.groupby(\"model_name\")[\"rel_go_full_re\"].describe()\n"
   ]
  },
  {
   "cell_type": "code",
   "execution_count": 11,
   "id": "12cb72e8",
   "metadata": {},
   "outputs": [],
   "source": [
    "grouped_go_data=exploded_go_data.groupby(grouping)[\"go_full_re_state\"].agg([\"sum\", \"size\"]).reset_index()\n",
    "    \n",
    "grouped_go_data = grouped_go_data.rename(columns={'sum': \"n_go_full_re_state\",\n",
    "                                                      'size': 'n_global_optima'})"
   ]
  },
  {
   "cell_type": "code",
   "execution_count": 12,
   "id": "49512df0",
   "metadata": {},
   "outputs": [
    {
     "data": {
      "text/plain": [
       "1644574"
      ]
     },
     "execution_count": 12,
     "metadata": {},
     "output_type": "execute_result"
    }
   ],
   "source": [
    "grouped_go_data[\"n_global_optima\"].sum()"
   ]
  },
  {
   "cell_type": "code",
   "execution_count": 13,
   "id": "ad23a047",
   "metadata": {},
   "outputs": [],
   "source": [
    "# relative shares\n",
    "grouped_go_data[\"rel_go_full_re\"] = grouped_go_data[\"n_go_full_re_state\"]/grouped_go_data[\"n_global_optima\"]"
   ]
  },
  {
   "cell_type": "code",
   "execution_count": 14,
   "id": "f203ce7f",
   "metadata": {},
   "outputs": [
    {
     "data": {
      "text/html": [
       "<div>\n",
       "<style scoped>\n",
       "    .dataframe tbody tr th:only-of-type {\n",
       "        vertical-align: middle;\n",
       "    }\n",
       "\n",
       "    .dataframe tbody tr th {\n",
       "        vertical-align: top;\n",
       "    }\n",
       "\n",
       "    .dataframe thead th {\n",
       "        text-align: right;\n",
       "    }\n",
       "</style>\n",
       "<table border=\"1\" class=\"dataframe\">\n",
       "  <thead>\n",
       "    <tr style=\"text-align: right;\">\n",
       "      <th></th>\n",
       "      <th>model_name</th>\n",
       "      <th>n_go_full_re_state</th>\n",
       "      <th>n_global_optima</th>\n",
       "      <th>rel_go_full_re</th>\n",
       "    </tr>\n",
       "  </thead>\n",
       "  <tbody>\n",
       "    <tr>\n",
       "      <th>0</th>\n",
       "      <td>LinearGlobalRE</td>\n",
       "      <td>143101</td>\n",
       "      <td>427168</td>\n",
       "      <td>0.334999</td>\n",
       "    </tr>\n",
       "    <tr>\n",
       "      <th>1</th>\n",
       "      <td>LinearLocalRE</td>\n",
       "      <td>143101</td>\n",
       "      <td>427168</td>\n",
       "      <td>0.334999</td>\n",
       "    </tr>\n",
       "    <tr>\n",
       "      <th>2</th>\n",
       "      <td>QuadraticGlobalRE</td>\n",
       "      <td>67300</td>\n",
       "      <td>458389</td>\n",
       "      <td>0.146819</td>\n",
       "    </tr>\n",
       "    <tr>\n",
       "      <th>3</th>\n",
       "      <td>QuadraticLocalRE</td>\n",
       "      <td>60261</td>\n",
       "      <td>331849</td>\n",
       "      <td>0.181592</td>\n",
       "    </tr>\n",
       "  </tbody>\n",
       "</table>\n",
       "</div>"
      ],
      "text/plain": [
       "          model_name n_go_full_re_state  n_global_optima rel_go_full_re\n",
       "0     LinearGlobalRE             143101           427168       0.334999\n",
       "1      LinearLocalRE             143101           427168       0.334999\n",
       "2  QuadraticGlobalRE              67300           458389       0.146819\n",
       "3   QuadraticLocalRE              60261           331849       0.181592"
      ]
     },
     "execution_count": 14,
     "metadata": {},
     "output_type": "execute_result"
    }
   ],
   "source": [
    "grouped_go_data"
   ]
  },
  {
   "cell_type": "code",
   "execution_count": 15,
   "id": "23a71197",
   "metadata": {},
   "outputs": [
    {
     "data": {
      "text/plain": [
       "(922824, 6)"
      ]
     },
     "execution_count": 15,
     "metadata": {},
     "output_type": "execute_result"
    }
   ],
   "source": [
    "if analyse_branches:\n",
    "    \n",
    "    # use all rows and restrict to relevant columns\n",
    "    fp_data = re_data[[\"model_name\",\n",
    "                       \"ds\",\n",
    "                       \"init_coms\",\n",
    "                       \"weight_account\", \n",
    "                       \"weight_systematicity\", \n",
    "                       'fixed_point_is_full_re_state']]\n",
    "    \n",
    "    # rename fixed point columns \n",
    "    # note: df is already exploded\n",
    "    exploded_fp_data = fp_data.rename(columns={'fixed_point_is_full_re_state': \"fp_full_re_state\",})\n",
    "    \n",
    "else:\n",
    "    \n",
    "    # use unique setups and restrict to relevant columns\n",
    "    fp_data = re_data_unique_setups[[\"model_name\",\n",
    "                                     \"ds\",\n",
    "                                     \"init_coms\",\n",
    "                                     \"weight_account\", \n",
    "                                     \"weight_systematicity\", \n",
    "                                     \"fp_full_re_state\",\n",
    "                                     #\"n_fixed_points\"\n",
    "                                    ]]\n",
    "    \n",
    "    # explode information about unique fixed points, which is stored rowwise (per simulation setup) \n",
    "    # in lists (e.g. in the column `fp_full_re_state`) \n",
    "    exploded_fp_data = fp_data.set_index([\"model_name\",\n",
    "                                          \"ds\",\n",
    "                                          \"init_coms\",\n",
    "                                          \"weight_account\", \n",
    "                                          \"weight_systematicity\"]).apply(pd.Series.explode).reset_index()\n",
    "    \n",
    "exploded_fp_data.shape"
   ]
  },
  {
   "cell_type": "code",
   "execution_count": 16,
   "id": "ae2fc907",
   "metadata": {},
   "outputs": [
    {
     "data": {
      "text/plain": [
       "(416160, 6)"
      ]
     },
     "execution_count": 16,
     "metadata": {},
     "output_type": "execute_result"
    }
   ],
   "source": [
    "fp_data.shape"
   ]
  },
  {
   "cell_type": "code",
   "execution_count": 17,
   "id": "4310acd0",
   "metadata": {},
   "outputs": [],
   "source": [
    "grouped_fp_data=exploded_fp_data.groupby(grouping)[\"fp_full_re_state\"].agg([\"sum\", \"size\"]).reset_index()\n",
    "    \n",
    "grouped_fp_data = grouped_fp_data.rename(columns={'sum': \"n_fp_full_re_state\",\n",
    "                                                      'size': 'n_fixed_points'})"
   ]
  },
  {
   "cell_type": "code",
   "execution_count": 18,
   "id": "633c3492",
   "metadata": {},
   "outputs": [],
   "source": [
    "#if analyse_branches:\n",
    "#    \n",
    "#    grouped_fp_data=fp_data.groupby(grouping)[\"fp_full_re_state\"].agg([\"sum\", \"size\"]).reset_index()\n",
    "#    \n",
    "#    grouped_fp_data = grouped_fp_data.rename(columns={'sum': \"n_fp_full_re_state\",\n",
    "#                                                      'size': 'n_fixed_points'})\n",
    "#else:\n",
    "#    \n",
    "#    fp_data[\"n_fp_full_re_state\"] = fp_data[\"fp_full_re_state\"].map(sum)"
   ]
  },
  {
   "cell_type": "code",
   "execution_count": 19,
   "id": "4cbcdb73",
   "metadata": {},
   "outputs": [],
   "source": [
    "#fp_data.head()"
   ]
  },
  {
   "cell_type": "code",
   "execution_count": 20,
   "id": "30b522c8",
   "metadata": {},
   "outputs": [
    {
     "data": {
      "text/plain": [
       "922824"
      ]
     },
     "execution_count": 20,
     "metadata": {},
     "output_type": "execute_result"
    }
   ],
   "source": [
    "grouped_fp_data[\"n_fixed_points\"].sum()"
   ]
  },
  {
   "cell_type": "code",
   "execution_count": 21,
   "id": "509e2877",
   "metadata": {},
   "outputs": [],
   "source": [
    "# relative shares\n",
    "grouped_fp_data[\"rel_fp_full_re\"] = grouped_fp_data[\"n_fp_full_re_state\"]/grouped_fp_data[\"n_fixed_points\"]"
   ]
  },
  {
   "cell_type": "code",
   "execution_count": 22,
   "id": "682dbd3e",
   "metadata": {},
   "outputs": [
    {
     "data": {
      "text/html": [
       "<div>\n",
       "<style scoped>\n",
       "    .dataframe tbody tr th:only-of-type {\n",
       "        vertical-align: middle;\n",
       "    }\n",
       "\n",
       "    .dataframe tbody tr th {\n",
       "        vertical-align: top;\n",
       "    }\n",
       "\n",
       "    .dataframe thead th {\n",
       "        text-align: right;\n",
       "    }\n",
       "</style>\n",
       "<table border=\"1\" class=\"dataframe\">\n",
       "  <thead>\n",
       "    <tr style=\"text-align: right;\">\n",
       "      <th></th>\n",
       "      <th>model_name</th>\n",
       "      <th>n_fp_full_re_state</th>\n",
       "      <th>n_fixed_points</th>\n",
       "      <th>rel_fp_full_re</th>\n",
       "    </tr>\n",
       "  </thead>\n",
       "  <tbody>\n",
       "    <tr>\n",
       "      <th>0</th>\n",
       "      <td>LinearGlobalRE</td>\n",
       "      <td>55536</td>\n",
       "      <td>223116</td>\n",
       "      <td>0.248911</td>\n",
       "    </tr>\n",
       "    <tr>\n",
       "      <th>1</th>\n",
       "      <td>LinearLocalRE</td>\n",
       "      <td>35945</td>\n",
       "      <td>160228</td>\n",
       "      <td>0.224337</td>\n",
       "    </tr>\n",
       "    <tr>\n",
       "      <th>2</th>\n",
       "      <td>QuadraticGlobalRE</td>\n",
       "      <td>35185</td>\n",
       "      <td>299679</td>\n",
       "      <td>0.117409</td>\n",
       "    </tr>\n",
       "    <tr>\n",
       "      <th>3</th>\n",
       "      <td>QuadraticLocalRE</td>\n",
       "      <td>23433</td>\n",
       "      <td>239801</td>\n",
       "      <td>0.097719</td>\n",
       "    </tr>\n",
       "  </tbody>\n",
       "</table>\n",
       "</div>"
      ],
      "text/plain": [
       "          model_name n_fp_full_re_state  n_fixed_points rel_fp_full_re\n",
       "0     LinearGlobalRE              55536          223116       0.248911\n",
       "1      LinearLocalRE              35945          160228       0.224337\n",
       "2  QuadraticGlobalRE              35185          299679       0.117409\n",
       "3   QuadraticLocalRE              23433          239801       0.097719"
      ]
     },
     "execution_count": 22,
     "metadata": {},
     "output_type": "execute_result"
    }
   ],
   "source": [
    "grouped_fp_data"
   ]
  },
  {
   "cell_type": "markdown",
   "id": "451ec6e5",
   "metadata": {},
   "source": [
    "## Tables"
   ]
  },
  {
   "cell_type": "code",
   "execution_count": 23,
   "id": "7fbf3692",
   "metadata": {},
   "outputs": [],
   "source": [
    "#model_short_names = {'StandardGlobalReflectiveEquilibrium':'QuadraticGlobalRE',\n",
    "#                     'StandardLocalReflectiveEquilibrium':'QuadraticLocalRE',\n",
    "#                     'StandardGlobalReflectiveEquilibriumLinearG': 'LinearGlobalRE',\n",
    "#                     'StandardLocalReflectiveEquilibriumLinearG': 'LinearLocalRE'\n",
    "#                    }\n",
    "#\n",
    "#\n",
    "## Adding model short names\n",
    "#go_data['model_name'] = go_data['model_name'].map(lambda x: model_short_names[x])\n",
    "#fp_data['model_name'] = fp_data['model_name'].map(lambda x: model_short_names[x])"
   ]
  },
  {
   "cell_type": "code",
   "execution_count": 24,
   "id": "15c0f6fb",
   "metadata": {},
   "outputs": [],
   "source": [
    "#fp_data.groupby(\"model_name\")[[\"rel_fp_full_re\", \n",
    "#                               \"n_fp_full_re_state\",\n",
    "#                               \"n_fixed_points\"]].agg({\"rel_fp_full_re\":\"mean\",\n",
    "#                                                       \"n_fp_full_re_state\":\"sum\",\n",
    "#                                                       \"n_fixed_points\":\"sum\"})"
   ]
  },
  {
   "cell_type": "code",
   "execution_count": 25,
   "id": "f3c30d1f",
   "metadata": {},
   "outputs": [],
   "source": [
    "#fp_data.groupby(\"model_name\")[[\"rel_fp_full_re\", \n",
    "#                               \"n_fp_full_re_state\",\n",
    "#                               \"n_fixed_points\"]].agg({\"rel_fp_full_re\":\"mean\",\n",
    "#                                                       \"n_fp_full_re_state\":\"sum\",\n",
    "#                                                       \"n_fixed_points\":\"sum\"})"
   ]
  },
  {
   "cell_type": "code",
   "execution_count": 26,
   "id": "becf90e8",
   "metadata": {},
   "outputs": [],
   "source": [
    "# if not analyse_branches:\n",
    "#     \n",
    "#     # group by simulation setup and calculate mean over relative shares of consistency cases\n",
    "#     fp_overall_results = fp_data.groupby(['model_name',\n",
    "#                                                'ds',\n",
    "#                                                'init_coms',\n",
    "#                                                'weight_account',\n",
    "#                                                'weight_systematicity'\n",
    "#                                               ])[\"rel_fp_full_re\"].mean().reset_index()\n",
    "#     \n",
    "#     # and then group by model_name only\n",
    "#     fp_overall_results = fp_overall_results.groupby(['model_name',\n",
    "#                      #'ds',\n",
    "#                      #'init_coms',\n",
    "#                      #'weight_account',\n",
    "#                      #'weight_systematicity'\n",
    "#                      ])[\"rel_fp_full_re\"].mean().round(2).reset_index()\n",
    "#     \n",
    "# else:\n",
    "#     fp_overall_results = fp_data[[\"model_name\", \"rel_fp_full_re\"]].round(2)"
   ]
  },
  {
   "cell_type": "code",
   "execution_count": 27,
   "id": "e15010bf",
   "metadata": {},
   "outputs": [],
   "source": [
    "# group by model_name only\n",
    "fp_overall_results = grouped_fp_data.groupby(['model_name',\n",
    "                      #'ds',\n",
    "                      #'init_coms',\n",
    "                      #'weight_account',\n",
    "                      #'weight_systematicity'\n",
    "                      ])[\"rel_fp_full_re\"].mean().reset_index()\n",
    "\n",
    "go_overall_results =grouped_go_data.groupby(['model_name',\n",
    "                     #'ds',\n",
    "                     #'init_coms',\n",
    "                     #'weight_account',\n",
    "                     #'weight_systematicity'\n",
    "                     ])[\"rel_go_full_re\"].mean().reset_index()"
   ]
  },
  {
   "cell_type": "code",
   "execution_count": 28,
   "id": "5b5ea7be",
   "metadata": {},
   "outputs": [
    {
     "data": {
      "text/html": [
       "<div>\n",
       "<style scoped>\n",
       "    .dataframe tbody tr th:only-of-type {\n",
       "        vertical-align: middle;\n",
       "    }\n",
       "\n",
       "    .dataframe tbody tr th {\n",
       "        vertical-align: top;\n",
       "    }\n",
       "\n",
       "    .dataframe thead th {\n",
       "        text-align: right;\n",
       "    }\n",
       "</style>\n",
       "<table border=\"1\" class=\"dataframe\">\n",
       "  <thead>\n",
       "    <tr style=\"text-align: right;\">\n",
       "      <th></th>\n",
       "      <th>model_name</th>\n",
       "      <th>rel_fp_full_re</th>\n",
       "    </tr>\n",
       "  </thead>\n",
       "  <tbody>\n",
       "    <tr>\n",
       "      <th>0</th>\n",
       "      <td>LinearGlobalRE</td>\n",
       "      <td>0.248911</td>\n",
       "    </tr>\n",
       "    <tr>\n",
       "      <th>1</th>\n",
       "      <td>LinearLocalRE</td>\n",
       "      <td>0.224337</td>\n",
       "    </tr>\n",
       "    <tr>\n",
       "      <th>2</th>\n",
       "      <td>QuadraticGlobalRE</td>\n",
       "      <td>0.117409</td>\n",
       "    </tr>\n",
       "    <tr>\n",
       "      <th>3</th>\n",
       "      <td>QuadraticLocalRE</td>\n",
       "      <td>0.097719</td>\n",
       "    </tr>\n",
       "  </tbody>\n",
       "</table>\n",
       "</div>"
      ],
      "text/plain": [
       "          model_name  rel_fp_full_re\n",
       "0     LinearGlobalRE        0.248911\n",
       "1      LinearLocalRE        0.224337\n",
       "2  QuadraticGlobalRE        0.117409\n",
       "3   QuadraticLocalRE        0.097719"
      ]
     },
     "execution_count": 28,
     "metadata": {},
     "output_type": "execute_result"
    }
   ],
   "source": [
    "fp_overall_results"
   ]
  },
  {
   "cell_type": "code",
   "execution_count": 29,
   "id": "9b079d1d",
   "metadata": {},
   "outputs": [],
   "source": [
    "# group by simulation setup and calculate mean over relative shares of consistency cases\n",
    "#o_overall_results = go_data.groupby(['model_name',\n",
    "#                                              'ds',\n",
    "#                                              'init_coms',\n",
    "#                                              'weight_account',\n",
    "#                                              'weight_systematicity'\n",
    "#                                             ])[\"rel_go_full_re\"].mean().reset_index()\n",
    "\n",
    "#o_overall_results = go_overall_results.groupby(['model_name',\n",
    "#                    #'ds',\n",
    "#                    #'init_coms',\n",
    "#                    #'weight_account',\n",
    "#                    #'weight_systematicity'\n",
    "#                    ])[\"rel_go_full_re\"].mean().round(2).reset_index()"
   ]
  },
  {
   "cell_type": "code",
   "execution_count": 30,
   "id": "65a77f85",
   "metadata": {},
   "outputs": [
    {
     "data": {
      "text/html": [
       "<div>\n",
       "<style scoped>\n",
       "    .dataframe tbody tr th:only-of-type {\n",
       "        vertical-align: middle;\n",
       "    }\n",
       "\n",
       "    .dataframe tbody tr th {\n",
       "        vertical-align: top;\n",
       "    }\n",
       "\n",
       "    .dataframe thead th {\n",
       "        text-align: right;\n",
       "    }\n",
       "</style>\n",
       "<table border=\"1\" class=\"dataframe\">\n",
       "  <thead>\n",
       "    <tr style=\"text-align: right;\">\n",
       "      <th></th>\n",
       "      <th>model_name</th>\n",
       "      <th>rel_go_full_re</th>\n",
       "    </tr>\n",
       "  </thead>\n",
       "  <tbody>\n",
       "    <tr>\n",
       "      <th>0</th>\n",
       "      <td>LinearGlobalRE</td>\n",
       "      <td>0.334999</td>\n",
       "    </tr>\n",
       "    <tr>\n",
       "      <th>1</th>\n",
       "      <td>LinearLocalRE</td>\n",
       "      <td>0.334999</td>\n",
       "    </tr>\n",
       "    <tr>\n",
       "      <th>2</th>\n",
       "      <td>QuadraticGlobalRE</td>\n",
       "      <td>0.146819</td>\n",
       "    </tr>\n",
       "    <tr>\n",
       "      <th>3</th>\n",
       "      <td>QuadraticLocalRE</td>\n",
       "      <td>0.181592</td>\n",
       "    </tr>\n",
       "  </tbody>\n",
       "</table>\n",
       "</div>"
      ],
      "text/plain": [
       "          model_name  rel_go_full_re\n",
       "0     LinearGlobalRE        0.334999\n",
       "1      LinearLocalRE        0.334999\n",
       "2  QuadraticGlobalRE        0.146819\n",
       "3   QuadraticLocalRE        0.181592"
      ]
     },
     "execution_count": 30,
     "metadata": {},
     "output_type": "execute_result"
    }
   ],
   "source": [
    "go_overall_results"
   ]
  },
  {
   "cell_type": "code",
   "execution_count": 31,
   "id": "a0eefb53",
   "metadata": {},
   "outputs": [
    {
     "data": {
      "text/html": [
       "<div>\n",
       "<style scoped>\n",
       "    .dataframe tbody tr th:only-of-type {\n",
       "        vertical-align: middle;\n",
       "    }\n",
       "\n",
       "    .dataframe tbody tr th {\n",
       "        vertical-align: top;\n",
       "    }\n",
       "\n",
       "    .dataframe thead th {\n",
       "        text-align: right;\n",
       "    }\n",
       "</style>\n",
       "<table border=\"1\" class=\"dataframe\">\n",
       "  <thead>\n",
       "    <tr style=\"text-align: right;\">\n",
       "      <th></th>\n",
       "      <th>model_name</th>\n",
       "      <th>rel_go_full_re</th>\n",
       "      <th>rel_fp_full_re</th>\n",
       "    </tr>\n",
       "  </thead>\n",
       "  <tbody>\n",
       "    <tr>\n",
       "      <th>0</th>\n",
       "      <td>LinearGlobalRE</td>\n",
       "      <td>0.334999</td>\n",
       "      <td>0.248911</td>\n",
       "    </tr>\n",
       "    <tr>\n",
       "      <th>1</th>\n",
       "      <td>LinearLocalRE</td>\n",
       "      <td>0.334999</td>\n",
       "      <td>0.224337</td>\n",
       "    </tr>\n",
       "    <tr>\n",
       "      <th>2</th>\n",
       "      <td>QuadraticGlobalRE</td>\n",
       "      <td>0.146819</td>\n",
       "      <td>0.117409</td>\n",
       "    </tr>\n",
       "    <tr>\n",
       "      <th>3</th>\n",
       "      <td>QuadraticLocalRE</td>\n",
       "      <td>0.181592</td>\n",
       "      <td>0.097719</td>\n",
       "    </tr>\n",
       "  </tbody>\n",
       "</table>\n",
       "</div>"
      ],
      "text/plain": [
       "          model_name  rel_go_full_re  rel_fp_full_re\n",
       "0     LinearGlobalRE        0.334999        0.248911\n",
       "1      LinearLocalRE        0.334999        0.224337\n",
       "2  QuadraticGlobalRE        0.146819        0.117409\n",
       "3   QuadraticLocalRE        0.181592        0.097719"
      ]
     },
     "execution_count": 31,
     "metadata": {},
     "output_type": "execute_result"
    }
   ],
   "source": [
    "overall_result_df = go_overall_results.join(fp_overall_results.set_index(\"model_name\"), on=\"model_name\")\n",
    "overall_result_df"
   ]
  },
  {
   "cell_type": "code",
   "execution_count": 32,
   "id": "b7cc0444",
   "metadata": {},
   "outputs": [
    {
     "data": {
      "text/html": [
       "<div>\n",
       "<style scoped>\n",
       "    .dataframe tbody tr th:only-of-type {\n",
       "        vertical-align: middle;\n",
       "    }\n",
       "\n",
       "    .dataframe tbody tr th {\n",
       "        vertical-align: top;\n",
       "    }\n",
       "\n",
       "    .dataframe thead th {\n",
       "        text-align: right;\n",
       "    }\n",
       "</style>\n",
       "<table border=\"1\" class=\"dataframe\">\n",
       "  <thead>\n",
       "    <tr style=\"text-align: right;\">\n",
       "      <th></th>\n",
       "      <th>Model</th>\n",
       "      <th>Relative share of full RE states among global optima</th>\n",
       "      <th>Relative share of full RE states among fixed_points</th>\n",
       "    </tr>\n",
       "  </thead>\n",
       "  <tbody>\n",
       "    <tr>\n",
       "      <th>0</th>\n",
       "      <td>LinearGlobalRE</td>\n",
       "      <td>0.334999</td>\n",
       "      <td>0.248911</td>\n",
       "    </tr>\n",
       "    <tr>\n",
       "      <th>1</th>\n",
       "      <td>LinearLocalRE</td>\n",
       "      <td>0.334999</td>\n",
       "      <td>0.224337</td>\n",
       "    </tr>\n",
       "    <tr>\n",
       "      <th>2</th>\n",
       "      <td>QuadraticGlobalRE</td>\n",
       "      <td>0.146819</td>\n",
       "      <td>0.117409</td>\n",
       "    </tr>\n",
       "    <tr>\n",
       "      <th>3</th>\n",
       "      <td>QuadraticLocalRE</td>\n",
       "      <td>0.181592</td>\n",
       "      <td>0.097719</td>\n",
       "    </tr>\n",
       "  </tbody>\n",
       "</table>\n",
       "</div>"
      ],
      "text/plain": [
       "               Model  Relative share of full RE states among global optima  \\\n",
       "0     LinearGlobalRE                                           0.334999      \n",
       "1      LinearLocalRE                                           0.334999      \n",
       "2  QuadraticGlobalRE                                           0.146819      \n",
       "3   QuadraticLocalRE                                           0.181592      \n",
       "\n",
       "   Relative share of full RE states among fixed_points  \n",
       "0                                           0.248911    \n",
       "1                                           0.224337    \n",
       "2                                           0.117409    \n",
       "3                                           0.097719    "
      ]
     },
     "metadata": {},
     "output_type": "display_data"
    }
   ],
   "source": [
    "# Changing col names for readability\n",
    "cols_for_tables = {'model_name':'Model',\n",
    "                   'rel_go_full_re': 'Relative share of full RE states among global optima',\n",
    "                   'rel_fp_full_re': 'Relative share of full RE states among fixed_points',\n",
    "                  }\n",
    "\n",
    "display(overall_result_df.rename(columns=cols_for_tables))"
   ]
  },
  {
   "cell_type": "code",
   "execution_count": 33,
   "id": "07e0f782",
   "metadata": {},
   "outputs": [],
   "source": [
    "# Export\n",
    "if export_results:\n",
    "    file_name = 'table_rel_full_re_go_fp_{}.csv'.format('branches' if analyse_branches else 'setups')\n",
    "    overall_result_df.rename(columns=cols_for_tables).to_csv(path.join(tables_output_dir, file_name), index=False)"
   ]
  },
  {
   "cell_type": "markdown",
   "id": "1fa5cc33",
   "metadata": {},
   "source": [
    "## Plots"
   ]
  },
  {
   "cell_type": "code",
   "execution_count": 34,
   "id": "9ad677ee",
   "metadata": {},
   "outputs": [],
   "source": [
    "import seaborn as sns\n",
    "import matplotlib.pyplot as plt"
   ]
  },
  {
   "cell_type": "code",
   "execution_count": 35,
   "id": "c17df1eb",
   "metadata": {},
   "outputs": [],
   "source": [
    "#custom_params = {\"axes.spines.right\": False, \"axes.spines.top\": False, 'figure.figsize':(11,8)}\n",
    "#sns.set_theme(style=\"white\", context=\"notebook\", font_scale=1.25, rc=custom_params)\n",
    "\n",
    "\n",
    "\n",
    "viridis = [\"#472c7a\", \"#2c718e\", \"#29ae80\", \"#b0dd31\"]\n",
    "sns.set_palette(sns.color_palette(viridis))"
   ]
  },
  {
   "cell_type": "code",
   "execution_count": null,
   "id": "10457114",
   "metadata": {},
   "outputs": [],
   "source": []
  },
  {
   "cell_type": "markdown",
   "id": "bf767a75",
   "metadata": {},
   "source": [
    "### Barplots"
   ]
  },
  {
   "cell_type": "code",
   "execution_count": 36,
   "id": "c2d40a38",
   "metadata": {
    "scrolled": false
   },
   "outputs": [
    {
     "data": {
      "image/png": "[encoded data removed]",
      "text/plain": [
       "<Figure size 432x288 with 1 Axes>"
      ]
     },
     "metadata": {
      "needs_background": "light"
     },
     "output_type": "display_data"
    },
    {
     "data": {
      "image/png": "[encoded data removed]",
      "text/plain": [
       "<Figure size 432x288 with 1 Axes>"
      ]
     },
     "metadata": {
      "needs_background": "light"
     },
     "output_type": "display_data"
    },
    {
     "data": {
      "text/plain": [
       "<Figure size 432x288 with 0 Axes>"
      ]
     },
     "metadata": {},
     "output_type": "display_data"
    }
   ],
   "source": [
    "for df, endpoint_type in zip([grouped_fp_data, grouped_go_data], ['fp', 'go']):\n",
    "    \n",
    "    \n",
    "\n",
    "    ax = sns.barplot(data=df, \n",
    "                x=\"model_name\", \n",
    "                y=\"rel_{}_full_re\".format(endpoint_type),\n",
    "                hue=\"model_name\",\n",
    "                #estimator=np.mean, \n",
    "                #errorbar=\"sd\",\n",
    "                legend=False,\n",
    "                )\n",
    "    ax.set(xlabel='Model name', ylabel='Relative share')\n",
    "    \n",
    "    endpoint = \"global optima\" if endpoint_type == \"go\" else \"fixed points\"\n",
    "    \n",
    "    ax.set(title=\"Relative share of full RE states among {}\".format(endpoint))\n",
    "    plt.ylim(0,1)\n",
    "    plt.show()\n",
    "    \n",
    "    branches = \"branches\" if analyse_branches else \"setups\"\n",
    "        \n",
    "    if export_results:\n",
    "        plt.savefig(path.join(figures_output_dir, 'overall_{}_full_re_{}.png'.format(endpoint_type, branches)), bbox_inches='tight')\n",
    "        plt.savefig(path.join(figures_output_dir, 'overall_{}_full_re_{}.pdf'.format(endpoint_type, branches)), bbox_inches='tight')"
   ]
  },
  {
   "cell_type": "code",
   "execution_count": null,
   "id": "632791aa",
   "metadata": {},
   "outputs": [],
   "source": []
  },
  {
   "cell_type": "markdown",
   "id": "b7552ab5",
   "metadata": {},
   "source": [
    "### Heatmaps"
   ]
  },
  {
   "cell_type": "code",
   "execution_count": 37,
   "id": "aede8ed6",
   "metadata": {},
   "outputs": [],
   "source": [
    "new_grouping = ['model_name', 'weight_account','weight_systematicity']"
   ]
  },
  {
   "cell_type": "code",
   "execution_count": 38,
   "id": "e5bc2dde",
   "metadata": {},
   "outputs": [],
   "source": [
    "wgrouped_go_data=exploded_go_data.groupby(new_grouping)[\"go_full_re_state\"].agg([\"sum\", \"size\"]).reset_index()\n",
    "    \n",
    "wgrouped_go_data = wgrouped_go_data.rename(columns={'sum': \"n_go_full_re_state\",\n",
    "                                                      'size': 'n_global_optima'})\n",
    "\n",
    "# relative shares\n",
    "wgrouped_go_data[\"rel_go_full_re\"] = wgrouped_go_data[\"n_go_full_re_state\"]/wgrouped_go_data[\"n_global_optima\"]\n",
    "wgrouped_go_data[\"rel_go_full_re\"] = wgrouped_go_data[\"rel_go_full_re\"].astype(float).round(2)"
   ]
  },
  {
   "cell_type": "code",
   "execution_count": 39,
   "id": "bc99e174",
   "metadata": {},
   "outputs": [],
   "source": [
    "wgrouped_fp_data=exploded_fp_data.groupby(new_grouping)[\"fp_full_re_state\"].agg([\"sum\", \"size\"]).reset_index()\n",
    "    \n",
    "wgrouped_fp_data = wgrouped_fp_data.rename(columns={'sum': \"n_fp_full_re_state\",\n",
    "                                                      'size': 'n_fixed_points'})\n",
    "\n",
    "# relative shares\n",
    "wgrouped_fp_data[\"rel_fp_full_re\"] = wgrouped_fp_data[\"n_fp_full_re_state\"]/wgrouped_fp_data[\"n_fixed_points\"]\n",
    "\n",
    "wgrouped_fp_data[\"rel_fp_full_re\"] = wgrouped_fp_data[\"rel_fp_full_re\"].astype(float).round(2)"
   ]
  },
  {
   "cell_type": "code",
   "execution_count": null,
   "id": "409cbbda",
   "metadata": {},
   "outputs": [],
   "source": []
  },
  {
   "cell_type": "code",
   "execution_count": null,
   "id": "46a54cb5",
   "metadata": {},
   "outputs": [],
   "source": []
  },
  {
   "cell_type": "code",
   "execution_count": 40,
   "id": "68c1393d",
   "metadata": {},
   "outputs": [
    {
     "data": {
      "image/png": "[encoded data removed]",
      "text/plain": [
       "<Figure size 720x720 with 4 Axes>"
      ]
     },
     "metadata": {
      "needs_background": "light"
     },
     "output_type": "display_data"
    }
   ],
   "source": [
    "normalized_heat_maps_by_weights(wgrouped_go_data, \n",
    "                                \"rel_go_full_re\", \n",
    "                                \"Relative share of full RE states among global optima\",\n",
    "                                annot_std = False,\n",
    "                                #annot_fmt=\"{:2.2f}\\n\"\n",
    "                               )\n",
    "      \n",
    "branches = \"branches\" if analyse_branches else \"setups\"\n",
    "        \n",
    "if export_results:\n",
    "    plt.savefig(path.join(figures_output_dir, 'rel_go_full_re_{}.png'.format(branches)), bbox_inches='tight')\n",
    "    plt.savefig(path.join(figures_output_dir, 'rel_go_full_re_{}.pdf'.format(branches)), bbox_inches='tight')"
   ]
  },
  {
   "cell_type": "code",
   "execution_count": 41,
   "id": "679a7e48",
   "metadata": {},
   "outputs": [
    {
     "data": {
      "image/png": "[encoded data removed]",
      "text/plain": [
       "<Figure size 720x720 with 4 Axes>"
      ]
     },
     "metadata": {
      "needs_background": "light"
     },
     "output_type": "display_data"
    }
   ],
   "source": [
    "normalized_heat_maps_by_weights(wgrouped_fp_data, \n",
    "                                \"rel_fp_full_re\", \n",
    "                                \"Relative share of full RE states among fixed points\",\n",
    "                                annot_std = False,\n",
    "                                annot_fmt=\"{:2.2f}\\n\")\n",
    "\n",
    "branches = \"branches\" if analyse_branches else \"setups\"\n",
    "        \n",
    "if export_results:\n",
    "    plt.savefig(path.join(figures_output_dir, 'rel_fp_full_re_{}.png'.format(branches)), bbox_inches='tight')\n",
    "    plt.savefig(path.join(figures_output_dir, 'rel_fp_full_re_{}.pdf'.format(branches)), bbox_inches='tight')"
   ]
  },
  {
   "cell_type": "code",
   "execution_count": null,
   "id": "6ae73ae6",
   "metadata": {},
   "outputs": [],
   "source": []
  }
 ],
 "metadata": {
  "kernelspec": {
   "display_name": "Python 3 (ipykernel)",
   "language": "python",
   "name": "python3"
  },
  "language_info": {
   "codemirror_mode": {
    "name": "ipython",
    "version": 3
   },
   "file_extension": ".py",
   "mimetype": "text/x-python",
   "name": "python",
   "nbconvert_exporter": "python",
   "pygments_lexer": "ipython3",
   "version": "3.9.7"
  }
 },
 "nbformat": 4,
 "nbformat_minor": 5
}
