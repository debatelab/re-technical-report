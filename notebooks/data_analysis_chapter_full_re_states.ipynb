{
 "cells": [
  {
   "cell_type": "code",
   "execution_count": 4,
   "id": "738ffb7e",
   "metadata": {},
   "outputs": [],
   "source": [
    "# importing libraries\n",
    "from os import getcwd, path\n",
    "from pathlib import Path\n",
    "\n",
    "from pandas import Series, DataFrame\n",
    "import pandas as pd\n",
    "import numpy as np\n",
    "from typing import Set, List\n",
    "\n",
    "from data_analysis_helper_fun import *"
   ]
  },
  {
   "cell_type": "code",
   "execution_count": 5,
   "id": "ff73e56e",
   "metadata": {},
   "outputs": [],
   "source": [
    "import warnings\n",
    "warnings.filterwarnings('ignore')"
   ]
  },
  {
   "cell_type": "markdown",
   "id": "8d5e3cc9",
   "metadata": {},
   "source": [
    "## Loading Data"
   ]
  },
  {
   "cell_type": "code",
   "execution_count": 6,
   "id": "00a6fe95",
   "metadata": {},
   "outputs": [],
   "source": [
    " # relative path to data directory\n",
    "data_dir = path.join(Path(getcwd()).parent.absolute(), \"data\")\n",
    "data_set_name = 're_data_tau_alpha'\n",
    "data_file_name = f'{data_set_name}.csv.tar.gz'\n",
    "re_data = load_re_data(data_dir, \n",
    "                                data_file_name,\n",
    "                                usecols = [\"model_name\",\n",
    "                                           'n_sentence_pool',\n",
    "                                           \"ds\",\n",
    "                                           \"init_coms\",\n",
    "                                           'weight_account', \n",
    "                                           'weight_systematicity',\n",
    "                                           \"fixed_point_coms_consistent\",\n",
    "                                           \"n_fixed_points\",\n",
    "                                           \"n_global_optima\",\n",
    "                                           \"fp_full_re_state\",\n",
    "                                           \"go_full_re_state\",\n",
    "                                           'n_full_re_states',\n",
    "                                           'fixed_point_is_full_re_state',\n",
    "                                           'error_code'\n",
    "                                           ],\n",
    "                               evalcols = [\n",
    "                                    \"fp_full_re_state\",\n",
    "                                    \"go_full_re_state\"\n",
    "                                   ],\n",
    "                              filter_erroneous_runs = True)"
   ]
  },
  {
   "cell_type": "code",
   "execution_count": 7,
   "id": "ba81ba81",
   "metadata": {},
   "outputs": [],
   "source": [
    "# output directory\n",
    "tables_output_dir = path.join(Path(getcwd()).parent.absolute(), \"report\", \"tables\")\n",
    "figures_output_dir = path.join(Path(getcwd()).parent.absolute(), \"report\", \"figures\")"
   ]
  },
  {
   "cell_type": "code",
   "execution_count": 8,
   "id": "9acdd224",
   "metadata": {},
   "outputs": [
    {
     "name": "stdout",
     "output_type": "stream",
     "text": [
      "\u001b[1mGeneral information: \u001b[0m\n",
      "   Amount of rows: 4136547\n",
      "   Number of dialectical structures: 200\n",
      "   Overall number of initial commitments: 80\n",
      "   Sentence-pools: [6 7 8 9]\n",
      "   Models: ['QuadraticGlobalRE' 'LinearGlobalRE' 'QuadraticLocalRE' 'LinearLocalRE']\n",
      "\n",
      "\n"
     ]
    }
   ],
   "source": [
    "print('\\033[1m' + 'General information: ' + '\\033[0m')\n",
    "print(\"   Amount of rows:\" , len(re_data))\n",
    "print('   Number of dialectical structures:', len(re_data['ds'].unique()))\n",
    "print('   Overall number of initial commitments:', len(re_data['init_coms'].unique()))\n",
    "print('   Sentence-pools:' , re_data['n_sentence_pool'].unique())\n",
    "print('   Models:' , re_data['model_name'].unique())\n",
    "print('\\n')"
   ]
  },
  {
   "cell_type": "code",
   "execution_count": 9,
   "id": "3bfbaf65",
   "metadata": {},
   "outputs": [
    {
     "data": {
      "text/plain": [
       "Index(['model_name', 'ds', 'n_sentence_pool', 'weight_account',\n",
       "       'weight_systematicity', 'init_coms', 'fixed_point_coms_consistent',\n",
       "       'error_code', 'n_fixed_points', 'fixed_point_is_full_re_state',\n",
       "       'n_global_optima', 'go_full_re_state', 'n_full_re_states',\n",
       "       'fp_full_re_state', 'model_short_name'],\n",
       "      dtype='object')"
      ]
     },
     "execution_count": 9,
     "metadata": {},
     "output_type": "execute_result"
    }
   ],
   "source": [
    "re_data.columns"
   ]
  },
  {
   "cell_type": "markdown",
   "id": "5e750126",
   "metadata": {},
   "source": [
    "## Setup Dataframes"
   ]
  },
  {
   "cell_type": "code",
   "execution_count": 209,
   "id": "583d4d16",
   "metadata": {},
   "outputs": [],
   "source": [
    "\"\"\" \n",
    "If `analyse_branches` is set to `true`, all branches of RE processes are considered for the analysis. \n",
    "This may lead to the multiple counting of a unique fixed point, \n",
    "if they are reached on different paths from a simulation setup.\n",
    "Otherwise, the subsequent analysis comprises only unique fixed points per simulation setups\n",
    "\"\"\"\n",
    "analyse_branches = True\n",
    "\n",
    "\"\"\"Whether bootstrapping is applied to estimate mean and standard deviation\"\"\"\n",
    "bootstrap = True\n",
    "n_resamples = 400\n",
    "\n",
    "grouping = [\"model_name\"]\n",
    "\n",
    "# Whether resulting tables and figures are exported to the corresponing output directory\"\"\"\n",
    "export_results = True"
   ]
  },
  {
   "cell_type": "code",
   "execution_count": 210,
   "id": "fc1f2261",
   "metadata": {},
   "outputs": [
    {
     "data": {
      "text/plain": [
       "(2845799, 7)"
      ]
     },
     "execution_count": 210,
     "metadata": {},
     "output_type": "execute_result"
    }
   ],
   "source": [
    "# the analysis of global optima is not affected by status of `analyse_branches`\n",
    "\n",
    "# restrict data to unique simulation setups to prevent multiple counting of branches \n",
    "re_data_unique_setups = re_data.drop_duplicates([\"model_name\",\n",
    "                         \"ds\",\n",
    "                         \"n_sentence_pool\",\n",
    "                         'weight_account', \n",
    "                         'weight_systematicity', \n",
    "                         'init_coms'\n",
    "                        ])\n",
    "\n",
    "# restrict to relevant columns\n",
    "go_data = re_data_unique_setups[[\"model_name\",\n",
    "                                 \"ds\",\n",
    "                                 'n_sentence_pool',\n",
    "                                 \"init_coms\",\n",
    "                                 \"weight_account\", \n",
    "                                 \"weight_systematicity\",\n",
    "                                 #'n_global_optima',\n",
    "                                 'go_full_re_state',\n",
    "                                 #'n_full_re_states'\n",
    "                                ]]\n",
    "\n",
    "# explode information about global optima, which is stored rowwise (per simulation setup) \n",
    "# in lists (e.g. in the column `go_full_re_state`)\n",
    "exploded_go_data = go_data.set_index([\"model_name\",\n",
    "                                      \"ds\",\n",
    "                                      'n_sentence_pool',\n",
    "                                      \"init_coms\",\n",
    "                                      \"weight_account\", \n",
    "                                      \"weight_systematicity\",\n",
    "                                     ]).apply(pd.Series.explode).reset_index()\n",
    "\n",
    "exploded_go_data.shape"
   ]
  },
  {
   "cell_type": "code",
   "execution_count": 211,
   "id": "7cdbc50a",
   "metadata": {},
   "outputs": [
    {
     "data": {
      "text/html": [
       "<div>\n",
       "<style scoped>\n",
       "    .dataframe tbody tr th:only-of-type {\n",
       "        vertical-align: middle;\n",
       "    }\n",
       "\n",
       "    .dataframe tbody tr th {\n",
       "        vertical-align: top;\n",
       "    }\n",
       "\n",
       "    .dataframe thead th {\n",
       "        text-align: right;\n",
       "    }\n",
       "</style>\n",
       "<table border=\"1\" class=\"dataframe\">\n",
       "  <thead>\n",
       "    <tr style=\"text-align: right;\">\n",
       "      <th></th>\n",
       "      <th>model_name</th>\n",
       "      <th>ds</th>\n",
       "    </tr>\n",
       "  </thead>\n",
       "  <tbody>\n",
       "    <tr>\n",
       "      <th>0</th>\n",
       "      <td>LinearGlobalRE</td>\n",
       "      <td>143973</td>\n",
       "    </tr>\n",
       "    <tr>\n",
       "      <th>2</th>\n",
       "      <td>QuadraticGlobalRE</td>\n",
       "      <td>143964</td>\n",
       "    </tr>\n",
       "    <tr>\n",
       "      <th>3</th>\n",
       "      <td>QuadraticLocalRE</td>\n",
       "      <td>143079</td>\n",
       "    </tr>\n",
       "    <tr>\n",
       "      <th>1</th>\n",
       "      <td>LinearLocalRE</td>\n",
       "      <td>142219</td>\n",
       "    </tr>\n",
       "  </tbody>\n",
       "</table>\n",
       "</div>"
      ],
      "text/plain": [
       "          model_name      ds\n",
       "0     LinearGlobalRE  143973\n",
       "2  QuadraticGlobalRE  143964\n",
       "3   QuadraticLocalRE  143079\n",
       "1      LinearLocalRE  142219"
      ]
     },
     "execution_count": 211,
     "metadata": {},
     "output_type": "execute_result"
    }
   ],
   "source": [
    "re_data_unique_setups.groupby(\"model_name\")[\"ds\"].size().reset_index().sort_values(\"ds\", ascending=False)"
   ]
  },
  {
   "cell_type": "code",
   "execution_count": 212,
   "id": "4866b295",
   "metadata": {},
   "outputs": [],
   "source": [
    "# two models variants for global optima graphics in order to avoid (almost) redundant results\n",
    "# criterion:  fewest erroneous runs\n",
    "go_models = [\"LinearGlobalRE\", \"QuadraticGlobalRE\"]"
   ]
  },
  {
   "cell_type": "code",
   "execution_count": 213,
   "id": "e3bb2025",
   "metadata": {},
   "outputs": [],
   "source": [
    "# this corresponds to a grouping according to simulation setups\n",
    "\n",
    "#go_data[\"rel_go_full_re\"] = go_data[\"n_full_re_states\"]/go_data[\"n_global_optima\"]\n",
    "#go_data.groupby(\"model_name\")[\"rel_go_full_re\"].describe()\n"
   ]
  },
  {
   "cell_type": "code",
   "execution_count": 214,
   "id": "23a71197",
   "metadata": {},
   "outputs": [
    {
     "data": {
      "text/plain": [
       "(4136547, 7)"
      ]
     },
     "execution_count": 214,
     "metadata": {},
     "output_type": "execute_result"
    }
   ],
   "source": [
    "if analyse_branches:\n",
    "    \n",
    "    # use all rows and restrict to relevant columns\n",
    "    fp_data = re_data[[\"model_name\",\n",
    "                       \"ds\",\n",
    "                       'n_sentence_pool',\n",
    "                       \"init_coms\",\n",
    "                       \"weight_account\", \n",
    "                       \"weight_systematicity\", \n",
    "                       'fixed_point_is_full_re_state']]\n",
    "    \n",
    "    # rename fixed point columns \n",
    "    # note: df is already exploded\n",
    "    exploded_fp_data = fp_data.rename(columns={'fixed_point_is_full_re_state': \"fp_full_re_state\",})\n",
    "    \n",
    "else:\n",
    "    \n",
    "    # use unique setups and restrict to relevant columns\n",
    "    fp_data = re_data_unique_setups[[\"model_name\",\n",
    "                                     \"ds\",\n",
    "                                     'n_sentence_pool',\n",
    "                                     \"init_coms\",\n",
    "                                     \"weight_account\", \n",
    "                                     \"weight_systematicity\", \n",
    "                                     \"fp_full_re_state\",\n",
    "                                     #\"n_fixed_points\"\n",
    "                                    ]]\n",
    "    \n",
    "    # explode information about unique fixed points, which is stored rowwise (per simulation setup) \n",
    "    # in lists (e.g. in the column `fp_full_re_state`) \n",
    "    exploded_fp_data = fp_data.set_index([\"model_name\",\n",
    "                                          \"ds\",\n",
    "                                          'n_sentence_pool',\n",
    "                                          \"init_coms\",\n",
    "                                          \"weight_account\", \n",
    "                                          \"weight_systematicity\"]).apply(pd.Series.explode).reset_index()\n",
    "    \n",
    "exploded_fp_data.shape"
   ]
  },
  {
   "cell_type": "code",
   "execution_count": 215,
   "id": "524f2f0f",
   "metadata": {},
   "outputs": [],
   "source": [
    "## number of endpoints"
   ]
  },
  {
   "cell_type": "code",
   "execution_count": 216,
   "id": "e5d94404",
   "metadata": {},
   "outputs": [],
   "source": [
    "#for endpoint_type in [\"fixed_points\", \"global_optima\"]:\n",
    "#\n",
    "#    n_min = re_data_unique_setups.groupby([\"weight_account\", \n",
    "#                                           \"weight_systematicity\"])[f\"n_{endpoint_type}\"].mean().min()\n",
    "#    n_max = re_data_unique_setups.groupby([\"weight_account\", \n",
    "#                                           \"weight_systematicity\"])[f\"n_{endpoint_type}\"].mean().max()\n",
    "#\n",
    "#    title_text = 'Number of {}'.format(\"global optima\" if endpoint_type==\"global_optima\" else \"fixed points\")\n",
    "#\n",
    "#    heat_maps_by_weights(re_data = re_data_unique_setups, \n",
    "#                         values = f\"n_{endpoint_type}\", \n",
    "#                         title = title_text,\n",
    "#                         annot_std = True,\n",
    "#                         annot_fmt=\"{:2.2f}\\n\", \n",
    "#                         annot_std_fmt = r'$\\pm${:2.2f}',\n",
    "#                         vmin = n_min,\n",
    "#                         vmax = n_max,\n",
    "#                         bootstrap=True,\n",
    "#                         n_resamples=400)\n",
    "#\n",
    "#    \n",
    "#    \n",
    "#    plt.savefig(path.join(figures_output_dir, 'hm_n_{}.png'.format(endpoint_type)), bbox_inches='tight')\n",
    "#    \n",
    "#    #plt.show()"
   ]
  },
  {
   "cell_type": "code",
   "execution_count": 217,
   "id": "69676777",
   "metadata": {},
   "outputs": [
    {
     "data": {
      "text/plain": [
       "model_name\n",
       "LinearGlobalRE       700830\n",
       "LinearLocalRE        721096\n",
       "QuadraticGlobalRE    714584\n",
       "QuadraticLocalRE     709289\n",
       "Name: n_global_optima, dtype: int64"
      ]
     },
     "execution_count": 217,
     "metadata": {},
     "output_type": "execute_result"
    }
   ],
   "source": [
    "re_data_unique_setups.groupby(\"model_name\")[\"n_global_optima\"].sum()"
   ]
  },
  {
   "cell_type": "code",
   "execution_count": 218,
   "id": "5d4aa1d3",
   "metadata": {},
   "outputs": [
    {
     "data": {
      "text/plain": [
       "model_name\n",
       "LinearGlobalRE       312783\n",
       "LinearLocalRE        228122\n",
       "QuadraticGlobalRE    458147\n",
       "QuadraticLocalRE     588236\n",
       "Name: n_fixed_points, dtype: int64"
      ]
     },
     "execution_count": 218,
     "metadata": {},
     "output_type": "execute_result"
    }
   ],
   "source": [
    "re_data_unique_setups.groupby(\"model_name\")[\"n_fixed_points\"].sum()"
   ]
  },
  {
   "cell_type": "code",
   "execution_count": 219,
   "id": "69847e22",
   "metadata": {},
   "outputs": [
    {
     "data": {
      "text/plain": [
       "model_name\n",
       "LinearGlobalRE       143973\n",
       "LinearLocalRE        142219\n",
       "QuadraticGlobalRE    143964\n",
       "QuadraticLocalRE     143079\n",
       "Name: n_global_optima, dtype: int64"
      ]
     },
     "execution_count": 219,
     "metadata": {},
     "output_type": "execute_result"
    }
   ],
   "source": [
    "re_data_unique_setups.groupby(\"model_name\")[\"n_global_optima\"].size()"
   ]
  },
  {
   "cell_type": "code",
   "execution_count": null,
   "id": "63d5dc08",
   "metadata": {},
   "outputs": [],
   "source": []
  },
  {
   "cell_type": "markdown",
   "id": "1642623e",
   "metadata": {},
   "source": [
    "### Overall relative shares"
   ]
  },
  {
   "cell_type": "code",
   "execution_count": 171,
   "id": "12cb72e8",
   "metadata": {},
   "outputs": [],
   "source": [
    "#grouped_go_data=exploded_go_data.groupby(grouping)[\"go_full_re_state\"].agg([\"sum\", \"size\"]).reset_index()\n",
    "#    \n",
    "#grouped_go_data = grouped_go_data.rename(columns={'sum': \"n_go_full_re_state\",\n",
    "#                                                      'size': 'n_global_optima'})"
   ]
  },
  {
   "cell_type": "code",
   "execution_count": 172,
   "id": "49512df0",
   "metadata": {},
   "outputs": [],
   "source": [
    "#grouped_go_data[\"n_global_optima\"].sum()"
   ]
  },
  {
   "cell_type": "code",
   "execution_count": 173,
   "id": "ad23a047",
   "metadata": {},
   "outputs": [],
   "source": [
    "# relative shares\n",
    "#grouped_go_data[\"rel_go_full_re\"] = grouped_go_data[\"n_go_full_re_state\"]/grouped_go_data[\"n_global_optima\"]"
   ]
  },
  {
   "cell_type": "code",
   "execution_count": 174,
   "id": "f203ce7f",
   "metadata": {},
   "outputs": [],
   "source": [
    "#grouped_go_data"
   ]
  },
  {
   "cell_type": "code",
   "execution_count": 175,
   "id": "ae2fc907",
   "metadata": {},
   "outputs": [],
   "source": [
    "#fp_data.shape"
   ]
  },
  {
   "cell_type": "code",
   "execution_count": 176,
   "id": "4310acd0",
   "metadata": {},
   "outputs": [],
   "source": [
    "#grouped_fp_data=exploded_fp_data.groupby(grouping)[\"fp_full_re_state\"].agg([\"sum\", \"size\"]).reset_index()\n",
    "#    \n",
    "#grouped_fp_data = grouped_fp_data.rename(columns={'sum': \"n_fp_full_re_state\",\n",
    "#                                                      'size': 'n_fixed_points'})"
   ]
  },
  {
   "cell_type": "code",
   "execution_count": 177,
   "id": "633c3492",
   "metadata": {},
   "outputs": [],
   "source": [
    "#if analyse_branches:\n",
    "#    \n",
    "#    grouped_fp_data=fp_data.groupby(grouping)[\"fp_full_re_state\"].agg([\"sum\", \"size\"]).reset_index()\n",
    "#    \n",
    "#    grouped_fp_data = grouped_fp_data.rename(columns={'sum': \"n_fp_full_re_state\",\n",
    "#                                                      'size': 'n_fixed_points'})\n",
    "#else:\n",
    "#    \n",
    "#    fp_data[\"n_fp_full_re_state\"] = fp_data[\"fp_full_re_state\"].map(sum)"
   ]
  },
  {
   "cell_type": "code",
   "execution_count": 178,
   "id": "4cbcdb73",
   "metadata": {},
   "outputs": [],
   "source": [
    "#fp_data.head()"
   ]
  },
  {
   "cell_type": "code",
   "execution_count": 179,
   "id": "30b522c8",
   "metadata": {},
   "outputs": [],
   "source": [
    "#grouped_fp_data[\"n_fixed_points\"].sum()"
   ]
  },
  {
   "cell_type": "code",
   "execution_count": 180,
   "id": "509e2877",
   "metadata": {},
   "outputs": [],
   "source": [
    "# relative shares\n",
    "#grouped_fp_data[\"rel_fp_full_re\"] = grouped_fp_data[\"n_fp_full_re_state\"]/grouped_fp_data[\"n_fixed_points\"]"
   ]
  },
  {
   "cell_type": "code",
   "execution_count": 181,
   "id": "682dbd3e",
   "metadata": {},
   "outputs": [],
   "source": [
    "#grouped_fp_data"
   ]
  },
  {
   "cell_type": "markdown",
   "id": "451ec6e5",
   "metadata": {},
   "source": [
    "## Tables"
   ]
  },
  {
   "cell_type": "code",
   "execution_count": 182,
   "id": "7fbf3692",
   "metadata": {},
   "outputs": [],
   "source": [
    "#model_short_names = {'StandardGlobalReflectiveEquilibrium':'QuadraticGlobalRE',\n",
    "#                     'StandardLocalReflectiveEquilibrium':'QuadraticLocalRE',\n",
    "#                     'StandardGlobalReflectiveEquilibriumLinearG': 'LinearGlobalRE',\n",
    "#                     'StandardLocalReflectiveEquilibriumLinearG': 'LinearLocalRE'\n",
    "#                    }\n",
    "#\n",
    "#\n",
    "## Adding model short names\n",
    "#go_data['model_name'] = go_data['model_name'].map(lambda x: model_short_names[x])\n",
    "#fp_data['model_name'] = fp_data['model_name'].map(lambda x: model_short_names[x])"
   ]
  },
  {
   "cell_type": "code",
   "execution_count": 183,
   "id": "15c0f6fb",
   "metadata": {},
   "outputs": [],
   "source": [
    "#fp_data.groupby(\"model_name\")[[\"rel_fp_full_re\", \n",
    "#                               \"n_fp_full_re_state\",\n",
    "#                               \"n_fixed_points\"]].agg({\"rel_fp_full_re\":\"mean\",\n",
    "#                                                       \"n_fp_full_re_state\":\"sum\",\n",
    "#                                                       \"n_fixed_points\":\"sum\"})"
   ]
  },
  {
   "cell_type": "code",
   "execution_count": 184,
   "id": "f3c30d1f",
   "metadata": {},
   "outputs": [],
   "source": [
    "#fp_data.groupby(\"model_name\")[[\"rel_fp_full_re\", \n",
    "#                               \"n_fp_full_re_state\",\n",
    "#                               \"n_fixed_points\"]].agg({\"rel_fp_full_re\":\"mean\",\n",
    "#                                                       \"n_fp_full_re_state\":\"sum\",\n",
    "#                                                       \"n_fixed_points\":\"sum\"})"
   ]
  },
  {
   "cell_type": "code",
   "execution_count": 185,
   "id": "becf90e8",
   "metadata": {},
   "outputs": [],
   "source": [
    "# if not analyse_branches:\n",
    "#     \n",
    "#     # group by simulation setup and calculate mean over relative shares of consistency cases\n",
    "#     fp_overall_results = fp_data.groupby(['model_name',\n",
    "#                                                'ds',\n",
    "#                                                'init_coms',\n",
    "#                                                'weight_account',\n",
    "#                                                'weight_systematicity'\n",
    "#                                               ])[\"rel_fp_full_re\"].mean().reset_index()\n",
    "#     \n",
    "#     # and then group by model_name only\n",
    "#     fp_overall_results = fp_overall_results.groupby(['model_name',\n",
    "#                      #'ds',\n",
    "#                      #'init_coms',\n",
    "#                      #'weight_account',\n",
    "#                      #'weight_systematicity'\n",
    "#                      ])[\"rel_fp_full_re\"].mean().round(2).reset_index()\n",
    "#     \n",
    "# else:\n",
    "#     fp_overall_results = fp_data[[\"model_name\", \"rel_fp_full_re\"]].round(2)"
   ]
  },
  {
   "cell_type": "code",
   "execution_count": 186,
   "id": "e15010bf",
   "metadata": {},
   "outputs": [],
   "source": [
    "# group by model_name only\n",
    "#fp_overall_results = grouped_fp_data.groupby(['model_name',\n",
    "#                      #'ds',\n",
    "#                      #'init_coms',\n",
    "#                      #'weight_account',\n",
    "#                      #'weight_systematicity'\n",
    "#                      ])[\"rel_fp_full_re\"].mean().reset_index()\n",
    "#\n",
    "#go_overall_results =grouped_go_data.groupby(['model_name',\n",
    "#                     #'ds',\n",
    "#                     #'init_coms',\n",
    "#                     #'weight_account',\n",
    "#                     #'weight_systematicity'\n",
    "#                     ])[\"rel_go_full_re\"].mean().reset_index()"
   ]
  },
  {
   "cell_type": "code",
   "execution_count": 187,
   "id": "5b5ea7be",
   "metadata": {},
   "outputs": [],
   "source": [
    "#fp_overall_results"
   ]
  },
  {
   "cell_type": "code",
   "execution_count": 188,
   "id": "9b079d1d",
   "metadata": {},
   "outputs": [],
   "source": [
    "# group by simulation setup and calculate mean over relative shares of consistency cases\n",
    "#o_overall_results = go_data.groupby(['model_name',\n",
    "#                                              'ds',\n",
    "#                                              'init_coms',\n",
    "#                                              'weight_account',\n",
    "#                                              'weight_systematicity'\n",
    "#                                             ])[\"rel_go_full_re\"].mean().reset_index()\n",
    "\n",
    "#o_overall_results = go_overall_results.groupby(['model_name',\n",
    "#                    #'ds',\n",
    "#                    #'init_coms',\n",
    "#                    #'weight_account',\n",
    "#                    #'weight_systematicity'\n",
    "#                    ])[\"rel_go_full_re\"].mean().round(2).reset_index()"
   ]
  },
  {
   "cell_type": "code",
   "execution_count": 189,
   "id": "65a77f85",
   "metadata": {},
   "outputs": [],
   "source": [
    "#go_overall_results"
   ]
  },
  {
   "cell_type": "code",
   "execution_count": null,
   "id": "9654797d",
   "metadata": {},
   "outputs": [],
   "source": []
  },
  {
   "cell_type": "code",
   "execution_count": 190,
   "id": "8e2e34db",
   "metadata": {},
   "outputs": [],
   "source": [
    "# separate tables for go and fp\n",
    "\n",
    "#for df, endpoint_type in zip([grouped_go_data, grouped_fp_data], [\"go\", \"fp\"]):\n",
    "#    \n",
    "#    # sort by model name\n",
    "#    df['model_name'] = pd.Categorical(df['model_name'], [\"QuadraticGlobalRE\", \"LinearGlobalRE\", \"QuadraticLocalRE\", \"LinearLocalRE\"])\n",
    "#    df.sort_values(\"model_name\", inplace=True)\n",
    "#    \n",
    "#    # Changing col names for readability\n",
    "#    cols_for_tables = {'model_name':'Model',\n",
    "#                   'n_go_full_re_state': 'Number of full RE global optima',\n",
    "#                   'n_global_optima': 'Number of global optima',\n",
    "#                   'rel_go_full_re': 'Relative share of full RE global optima',\n",
    "#                   'n_fp_full_re_state': 'Number of full RE fixed points',\n",
    "#                   'n_fixed_points': 'Number of fixed points',\n",
    "#                   'rel_fp_full_re': 'Relative share of full RE fixed points',\n",
    "#                  }\n",
    "#\n",
    "#    display(df.rename(columns=cols_for_tables))\n",
    "#    \n",
    "#    \n",
    "#    if export_results:\n",
    "#        file_name = 'table_full_re_{}_{}.csv'.format(endpoint_type, 'branches' if analyse_branches else 'setups')\n",
    "#        df.rename(columns=cols_for_tables).to_csv(path.join(tables_output_dir, file_name), index=False)\n",
    "#    "
   ]
  },
  {
   "cell_type": "code",
   "execution_count": 191,
   "id": "d39e8078",
   "metadata": {},
   "outputs": [
    {
     "data": {
      "text/html": [
       "<div>\n",
       "<style scoped>\n",
       "    .dataframe tbody tr th:only-of-type {\n",
       "        vertical-align: middle;\n",
       "    }\n",
       "\n",
       "    .dataframe tbody tr th {\n",
       "        vertical-align: top;\n",
       "    }\n",
       "\n",
       "    .dataframe thead th {\n",
       "        text-align: right;\n",
       "    }\n",
       "</style>\n",
       "<table border=\"1\" class=\"dataframe\">\n",
       "  <thead>\n",
       "    <tr style=\"text-align: right;\">\n",
       "      <th></th>\n",
       "      <th>Model</th>\n",
       "      <th>Relative share of full RE global optima</th>\n",
       "      <th>Standard deviation</th>\n",
       "      <th>Number of full RE global</th>\n",
       "      <th>Number of global optima</th>\n",
       "    </tr>\n",
       "  </thead>\n",
       "  <tbody>\n",
       "    <tr>\n",
       "      <th>2</th>\n",
       "      <td>QuadraticGlobalRE</td>\n",
       "      <td>0.115197</td>\n",
       "      <td>0.000380</td>\n",
       "      <td>82318</td>\n",
       "      <td>714584</td>\n",
       "    </tr>\n",
       "    <tr>\n",
       "      <th>0</th>\n",
       "      <td>LinearGlobalRE</td>\n",
       "      <td>0.274773</td>\n",
       "      <td>0.000524</td>\n",
       "      <td>192559</td>\n",
       "      <td>700830</td>\n",
       "    </tr>\n",
       "    <tr>\n",
       "      <th>3</th>\n",
       "      <td>QuadraticLocalRE</td>\n",
       "      <td>0.115262</td>\n",
       "      <td>0.000369</td>\n",
       "      <td>81750</td>\n",
       "      <td>709289</td>\n",
       "    </tr>\n",
       "    <tr>\n",
       "      <th>1</th>\n",
       "      <td>LinearLocalRE</td>\n",
       "      <td>0.254990</td>\n",
       "      <td>0.000487</td>\n",
       "      <td>183875</td>\n",
       "      <td>721096</td>\n",
       "    </tr>\n",
       "  </tbody>\n",
       "</table>\n",
       "</div>"
      ],
      "text/plain": [
       "               Model  Relative share of full RE global optima  \\\n",
       "2  QuadraticGlobalRE                                 0.115197   \n",
       "0     LinearGlobalRE                                 0.274773   \n",
       "3   QuadraticLocalRE                                 0.115262   \n",
       "1      LinearLocalRE                                 0.254990   \n",
       "\n",
       "   Standard deviation Number of full RE global  Number of global optima  \n",
       "2            0.000380                    82318                   714584  \n",
       "0            0.000524                   192559                   700830  \n",
       "3            0.000369                    81750                   709289  \n",
       "1            0.000487                   183875                   721096  "
      ]
     },
     "metadata": {},
     "output_type": "display_data"
    },
    {
     "data": {
      "text/html": [
       "<div>\n",
       "<style scoped>\n",
       "    .dataframe tbody tr th:only-of-type {\n",
       "        vertical-align: middle;\n",
       "    }\n",
       "\n",
       "    .dataframe tbody tr th {\n",
       "        vertical-align: top;\n",
       "    }\n",
       "\n",
       "    .dataframe thead th {\n",
       "        text-align: right;\n",
       "    }\n",
       "</style>\n",
       "<table border=\"1\" class=\"dataframe\">\n",
       "  <thead>\n",
       "    <tr style=\"text-align: right;\">\n",
       "      <th></th>\n",
       "      <th>Model</th>\n",
       "      <th>Relative share of full RE fixed points</th>\n",
       "      <th>Standard deviation</th>\n",
       "      <th>Number of full RE fixed points</th>\n",
       "      <th>Number of fixed points</th>\n",
       "    </tr>\n",
       "  </thead>\n",
       "  <tbody>\n",
       "    <tr>\n",
       "      <th>2</th>\n",
       "      <td>QuadraticGlobalRE</td>\n",
       "      <td>0.093137</td>\n",
       "      <td>0.000444</td>\n",
       "      <td>42660</td>\n",
       "      <td>458147</td>\n",
       "    </tr>\n",
       "    <tr>\n",
       "      <th>0</th>\n",
       "      <td>LinearGlobalRE</td>\n",
       "      <td>0.234884</td>\n",
       "      <td>0.000779</td>\n",
       "      <td>73477</td>\n",
       "      <td>312783</td>\n",
       "    </tr>\n",
       "    <tr>\n",
       "      <th>3</th>\n",
       "      <td>QuadraticLocalRE</td>\n",
       "      <td>0.052056</td>\n",
       "      <td>0.000287</td>\n",
       "      <td>30616</td>\n",
       "      <td>588236</td>\n",
       "    </tr>\n",
       "    <tr>\n",
       "      <th>1</th>\n",
       "      <td>LinearLocalRE</td>\n",
       "      <td>0.198387</td>\n",
       "      <td>0.000836</td>\n",
       "      <td>45241</td>\n",
       "      <td>228122</td>\n",
       "    </tr>\n",
       "  </tbody>\n",
       "</table>\n",
       "</div>"
      ],
      "text/plain": [
       "               Model  Relative share of full RE fixed points  \\\n",
       "2  QuadraticGlobalRE                                0.093137   \n",
       "0     LinearGlobalRE                                0.234884   \n",
       "3   QuadraticLocalRE                                0.052056   \n",
       "1      LinearLocalRE                                0.198387   \n",
       "\n",
       "   Standard deviation Number of full RE fixed points  Number of fixed points  \n",
       "2            0.000444                          42660                  458147  \n",
       "0            0.000779                          73477                  312783  \n",
       "3            0.000287                          30616                  588236  \n",
       "1            0.000836                          45241                  228122  "
      ]
     },
     "metadata": {},
     "output_type": "display_data"
    }
   ],
   "source": [
    "# separate tables for go and fp\n",
    "\n",
    "for df, endpoint_type in zip([exploded_go_data, exploded_fp_data], [\"go\", \"fp\"]):\n",
    "    \n",
    "    result_df = rel_share_of_property(df, \n",
    "                           \"{}_full_re_state\".format(endpoint_type), \n",
    "                            col_rename = None,\n",
    "                            groupby_cols=['model_name'],\n",
    "                            collapse_branches=False,\n",
    "                            cols_group_branches = ['model_name',\n",
    "                                                   'ds',\n",
    "                                                   'init_coms', \n",
    "                                                   'weight_account', \n",
    "                                                   'weight_systematicity'],\n",
    "                            explode_cols=None,\n",
    "                            bootstrap=bootstrap, \n",
    "                            n_resamples=n_resamples)\n",
    "    \n",
    "    result_df.reset_index(inplace=True)\n",
    "    \n",
    "    # for later use\n",
    "    if endpoint_type == \"go\":\n",
    "        go_result_df = result_df\n",
    "    else:\n",
    "        fp_result_df = result_df\n",
    "    \n",
    "    # sort by model name\n",
    "    result_df['model_name'] = pd.Categorical(result_df['model_name'], [\"QuadraticGlobalRE\", \n",
    "                                                                       \"LinearGlobalRE\", \n",
    "                                                                       \"QuadraticLocalRE\", \n",
    "                                                                       \"LinearLocalRE\"])\n",
    "    result_df.sort_values(\"model_name\", inplace=True)\n",
    "    \n",
    "    # Changing col names for readability\n",
    "    cols_for_tables = {'model_name':'Model',\n",
    "                   'sum_go_full_re_state': 'Number of full RE global',\n",
    "                   'size_go_full_re_state': 'Number of global optima',\n",
    "                   'rel_go_full_re_state': 'Relative share of full RE global optima',\n",
    "                   'std_go_full_re_state': 'Standard deviation', \n",
    "                   'sum_fp_full_re_state': 'Number of full RE fixed points',\n",
    "                   'size_fp_full_re_state': 'Number of fixed points',\n",
    "                   'rel_fp_full_re_state': 'Relative share of full RE fixed points',\n",
    "                   'std_fp_full_re_state': 'Standard deviation',  \n",
    "                  }\n",
    "\n",
    "    display(result_df.rename(columns=cols_for_tables))\n",
    "    \n",
    "    \n",
    "    if export_results:\n",
    "        file_name = 'table_full_re_{}_{}.csv'.format(endpoint_type, 'pp' if analyse_branches else 'rp')\n",
    "        result_df.rename(columns=cols_for_tables).to_csv(path.join(tables_output_dir, file_name), index=False)"
   ]
  },
  {
   "cell_type": "code",
   "execution_count": 192,
   "id": "a0eefb53",
   "metadata": {},
   "outputs": [],
   "source": [
    "#overall_result_df = go_overall_results.join(fp_overall_results.set_index(\"model_name\"), on=\"model_name\")\n",
    "#overall_result_df"
   ]
  },
  {
   "cell_type": "code",
   "execution_count": 193,
   "id": "b7cc0444",
   "metadata": {},
   "outputs": [],
   "source": [
    "# Changing col names for readability\n",
    "#cols_for_tables = {'model_name':'Model',\n",
    "#                   'rel_go_full_re': 'Relative share of full RE states among global optima',\n",
    "#                   'rel_fp_full_re': 'Relative share of full RE states among fixed_points',\n",
    "#                  }\n",
    "#\n",
    "#display(overall_result_df.rename(columns=cols_for_tables))"
   ]
  },
  {
   "cell_type": "code",
   "execution_count": 194,
   "id": "07e0f782",
   "metadata": {},
   "outputs": [],
   "source": [
    "# Export\n",
    "#if export_results:\n",
    "#    file_name = 'table_rel_full_re_go_fp_{}.csv'.format('branches' if analyse_branches else 'setups')\n",
    "#    overall_result_df.rename(columns=cols_for_tables).to_csv(path.join(tables_output_dir, file_name), index=False)"
   ]
  },
  {
   "cell_type": "markdown",
   "id": "1fa5cc33",
   "metadata": {},
   "source": [
    "## Plots"
   ]
  },
  {
   "cell_type": "code",
   "execution_count": 195,
   "id": "9ad677ee",
   "metadata": {},
   "outputs": [],
   "source": [
    "import seaborn as sns\n",
    "import matplotlib.pyplot as plt"
   ]
  },
  {
   "cell_type": "code",
   "execution_count": 196,
   "id": "c17df1eb",
   "metadata": {},
   "outputs": [],
   "source": [
    "\n",
    "viridis = [\"#472c7a\", \"#2c718e\", \"#29ae80\", \"#b0dd31\"]\n",
    "coolwarm = ['#6788ee', '#9abbff', '#e26952', '#f7a889']"
   ]
  },
  {
   "cell_type": "code",
   "execution_count": null,
   "id": "10457114",
   "metadata": {},
   "outputs": [],
   "source": []
  },
  {
   "cell_type": "markdown",
   "id": "bf767a75",
   "metadata": {},
   "source": [
    "### Barplots"
   ]
  },
  {
   "cell_type": "code",
   "execution_count": 197,
   "id": "4c751bd3",
   "metadata": {},
   "outputs": [],
   "source": [
    "import plotly.express as px\n",
    "import plotly.graph_objects as go\n",
    "import plotly.io as pio\n",
    "from plotly.subplots import make_subplots"
   ]
  },
  {
   "cell_type": "code",
   "execution_count": 198,
   "id": "d84117a3",
   "metadata": {},
   "outputs": [],
   "source": [
    "viridis_map = {\"QuadraticGlobalRE\":\"#472c7a\", \n",
    "               \"LinearGlobalRE\":\"#2c718e\", \n",
    "               \"QuadraticLocalRE\":\"#29ae80\", \n",
    "               \"LinearLocalRE\": \"#b0dd31\"}\n",
    "\n",
    "coolwarm_map = {\"QuadraticGlobalRE\":'#6788ee', \n",
    "               \"LinearGlobalRE\":'#e26952', \n",
    "               \"QuadraticLocalRE\":'#9abbff', \n",
    "               \"LinearLocalRE\": '#f7a889'}"
   ]
  },
  {
   "cell_type": "code",
   "execution_count": 199,
   "id": "4bd862c1",
   "metadata": {},
   "outputs": [],
   "source": [
    "#grouped_go_data[\"rel_go_full_re\"] = grouped_go_data[\"rel_go_full_re\"].astype(float)\n",
    "#grouped_fp_data[\"rel_fp_full_re\"] = grouped_fp_data[\"rel_fp_full_re\"].astype(float)"
   ]
  },
  {
   "cell_type": "code",
   "execution_count": 200,
   "id": "c2d40a38",
   "metadata": {
    "scrolled": false
   },
   "outputs": [
    {
     "data": {
      "application/vnd.plotly.v1+json": {
       "config": {
        "plotlyServerURL": "https://plot.ly"
       },
       "data": [
        {
         "marker": {
          "color": [
           "#6788ee",
           "#9abbff",
           "#e26952",
           "#f7a889"
          ]
         },
         "text": [
          0.093,
          0.235,
          0.052,
          0.198
         ],
         "type": "bar",
         "x": [
          "QuadraticGlobalRE",
          "LinearGlobalRE",
          "QuadraticLocalRE",
          "LinearLocalRE"
         ],
         "y": [
          0.093,
          0.235,
          0.052,
          0.198
         ]
        }
       ],
       "layout": {
        "font": {
         "color": "black",
         "size": 12
        },
        "legend": {
         "title": {
          "text": ""
         }
        },
        "showlegend": false,
        "template": {
         "data": {
          "bar": [
           {
            "error_x": {
             "color": "#2a3f5f"
            },
            "error_y": {
             "color": "#2a3f5f"
            },
            "marker": {
             "line": {
              "color": "white",
              "width": 0.5
             },
             "pattern": {
              "fillmode": "overlay",
              "size": 10,
              "solidity": 0.2
             }
            },
            "type": "bar"
           }
          ],
          "barpolar": [
           {
            "marker": {
             "line": {
              "color": "white",
              "width": 0.5
             },
             "pattern": {
              "fillmode": "overlay",
              "size": 10,
              "solidity": 0.2
             }
            },
            "type": "barpolar"
           }
          ],
          "carpet": [
           {
            "aaxis": {
             "endlinecolor": "#2a3f5f",
             "gridcolor": "#C8D4E3",
             "linecolor": "#C8D4E3",
             "minorgridcolor": "#C8D4E3",
             "startlinecolor": "#2a3f5f"
            },
            "baxis": {
             "endlinecolor": "#2a3f5f",
             "gridcolor": "#C8D4E3",
             "linecolor": "#C8D4E3",
             "minorgridcolor": "#C8D4E3",
             "startlinecolor": "#2a3f5f"
            },
            "type": "carpet"
           }
          ],
          "choropleth": [
           {
            "colorbar": {
             "outlinewidth": 0,
             "ticks": ""
            },
            "type": "choropleth"
           }
          ],
          "contour": [
           {
            "colorbar": {
             "outlinewidth": 0,
             "ticks": ""
            },
            "colorscale": [
             [
              0,
              "#0d0887"
             ],
             [
              0.1111111111111111,
              "#46039f"
             ],
             [
              0.2222222222222222,
              "#7201a8"
             ],
             [
              0.3333333333333333,
              "#9c179e"
             ],
             [
              0.4444444444444444,
              "#bd3786"
             ],
             [
              0.5555555555555556,
              "#d8576b"
             ],
             [
              0.6666666666666666,
              "#ed7953"
             ],
             [
              0.7777777777777778,
              "#fb9f3a"
             ],
             [
              0.8888888888888888,
              "#fdca26"
             ],
             [
              1,
              "#f0f921"
             ]
            ],
            "type": "contour"
           }
          ],
          "contourcarpet": [
           {
            "colorbar": {
             "outlinewidth": 0,
             "ticks": ""
            },
            "type": "contourcarpet"
           }
          ],
          "heatmap": [
           {
            "colorbar": {
             "outlinewidth": 0,
             "ticks": ""
            },
            "colorscale": [
             [
              0,
              "#0d0887"
             ],
             [
              0.1111111111111111,
              "#46039f"
             ],
             [
              0.2222222222222222,
              "#7201a8"
             ],
             [
              0.3333333333333333,
              "#9c179e"
             ],
             [
              0.4444444444444444,
              "#bd3786"
             ],
             [
              0.5555555555555556,
              "#d8576b"
             ],
             [
              0.6666666666666666,
              "#ed7953"
             ],
             [
              0.7777777777777778,
              "#fb9f3a"
             ],
             [
              0.8888888888888888,
              "#fdca26"
             ],
             [
              1,
              "#f0f921"
             ]
            ],
            "type": "heatmap"
           }
          ],
          "heatmapgl": [
           {
            "colorbar": {
             "outlinewidth": 0,
             "ticks": ""
            },
            "colorscale": [
             [
              0,
              "#0d0887"
             ],
             [
              0.1111111111111111,
              "#46039f"
             ],
             [
              0.2222222222222222,
              "#7201a8"
             ],
             [
              0.3333333333333333,
              "#9c179e"
             ],
             [
              0.4444444444444444,
              "#bd3786"
             ],
             [
              0.5555555555555556,
              "#d8576b"
             ],
             [
              0.6666666666666666,
              "#ed7953"
             ],
             [
              0.7777777777777778,
              "#fb9f3a"
             ],
             [
              0.8888888888888888,
              "#fdca26"
             ],
             [
              1,
              "#f0f921"
             ]
            ],
            "type": "heatmapgl"
           }
          ],
          "histogram": [
           {
            "marker": {
             "pattern": {
              "fillmode": "overlay",
              "size": 10,
              "solidity": 0.2
             }
            },
            "type": "histogram"
           }
          ],
          "histogram2d": [
           {
            "colorbar": {
             "outlinewidth": 0,
             "ticks": ""
            },
            "colorscale": [
             [
              0,
              "#0d0887"
             ],
             [
              0.1111111111111111,
              "#46039f"
             ],
             [
              0.2222222222222222,
              "#7201a8"
             ],
             [
              0.3333333333333333,
              "#9c179e"
             ],
             [
              0.4444444444444444,
              "#bd3786"
             ],
             [
              0.5555555555555556,
              "#d8576b"
             ],
             [
              0.6666666666666666,
              "#ed7953"
             ],
             [
              0.7777777777777778,
              "#fb9f3a"
             ],
             [
              0.8888888888888888,
              "#fdca26"
             ],
             [
              1,
              "#f0f921"
             ]
            ],
            "type": "histogram2d"
           }
          ],
          "histogram2dcontour": [
           {
            "colorbar": {
             "outlinewidth": 0,
             "ticks": ""
            },
            "colorscale": [
             [
              0,
              "#0d0887"
             ],
             [
              0.1111111111111111,
              "#46039f"
             ],
             [
              0.2222222222222222,
              "#7201a8"
             ],
             [
              0.3333333333333333,
              "#9c179e"
             ],
             [
              0.4444444444444444,
              "#bd3786"
             ],
             [
              0.5555555555555556,
              "#d8576b"
             ],
             [
              0.6666666666666666,
              "#ed7953"
             ],
             [
              0.7777777777777778,
              "#fb9f3a"
             ],
             [
              0.8888888888888888,
              "#fdca26"
             ],
             [
              1,
              "#f0f921"
             ]
            ],
            "type": "histogram2dcontour"
           }
          ],
          "mesh3d": [
           {
            "colorbar": {
             "outlinewidth": 0,
             "ticks": ""
            },
            "type": "mesh3d"
           }
          ],
          "parcoords": [
           {
            "line": {
             "colorbar": {
              "outlinewidth": 0,
              "ticks": ""
             }
            },
            "type": "parcoords"
           }
          ],
          "pie": [
           {
            "automargin": true,
            "type": "pie"
           }
          ],
          "scatter": [
           {
            "fillpattern": {
             "fillmode": "overlay",
             "size": 10,
             "solidity": 0.2
            },
            "type": "scatter"
           }
          ],
          "scatter3d": [
           {
            "line": {
             "colorbar": {
              "outlinewidth": 0,
              "ticks": ""
             }
            },
            "marker": {
             "colorbar": {
              "outlinewidth": 0,
              "ticks": ""
             }
            },
            "type": "scatter3d"
           }
          ],
          "scattercarpet": [
           {
            "marker": {
             "colorbar": {
              "outlinewidth": 0,
              "ticks": ""
             }
            },
            "type": "scattercarpet"
           }
          ],
          "scattergeo": [
           {
            "marker": {
             "colorbar": {
              "outlinewidth": 0,
              "ticks": ""
             }
            },
            "type": "scattergeo"
           }
          ],
          "scattergl": [
           {
            "marker": {
             "colorbar": {
              "outlinewidth": 0,
              "ticks": ""
             }
            },
            "type": "scattergl"
           }
          ],
          "scattermapbox": [
           {
            "marker": {
             "colorbar": {
              "outlinewidth": 0,
              "ticks": ""
             }
            },
            "type": "scattermapbox"
           }
          ],
          "scatterpolar": [
           {
            "marker": {
             "colorbar": {
              "outlinewidth": 0,
              "ticks": ""
             }
            },
            "type": "scatterpolar"
           }
          ],
          "scatterpolargl": [
           {
            "marker": {
             "colorbar": {
              "outlinewidth": 0,
              "ticks": ""
             }
            },
            "type": "scatterpolargl"
           }
          ],
          "scatterternary": [
           {
            "marker": {
             "colorbar": {
              "outlinewidth": 0,
              "ticks": ""
             }
            },
            "type": "scatterternary"
           }
          ],
          "surface": [
           {
            "colorbar": {
             "outlinewidth": 0,
             "ticks": ""
            },
            "colorscale": [
             [
              0,
              "#0d0887"
             ],
             [
              0.1111111111111111,
              "#46039f"
             ],
             [
              0.2222222222222222,
              "#7201a8"
             ],
             [
              0.3333333333333333,
              "#9c179e"
             ],
             [
              0.4444444444444444,
              "#bd3786"
             ],
             [
              0.5555555555555556,
              "#d8576b"
             ],
             [
              0.6666666666666666,
              "#ed7953"
             ],
             [
              0.7777777777777778,
              "#fb9f3a"
             ],
             [
              0.8888888888888888,
              "#fdca26"
             ],
             [
              1,
              "#f0f921"
             ]
            ],
            "type": "surface"
           }
          ],
          "table": [
           {
            "cells": {
             "fill": {
              "color": "#EBF0F8"
             },
             "line": {
              "color": "white"
             }
            },
            "header": {
             "fill": {
              "color": "#C8D4E3"
             },
             "line": {
              "color": "white"
             }
            },
            "type": "table"
           }
          ]
         },
         "layout": {
          "annotationdefaults": {
           "arrowcolor": "#2a3f5f",
           "arrowhead": 0,
           "arrowwidth": 1
          },
          "autotypenumbers": "strict",
          "coloraxis": {
           "colorbar": {
            "outlinewidth": 0,
            "ticks": ""
           }
          },
          "colorscale": {
           "diverging": [
            [
             0,
             "#8e0152"
            ],
            [
             0.1,
             "#c51b7d"
            ],
            [
             0.2,
             "#de77ae"
            ],
            [
             0.3,
             "#f1b6da"
            ],
            [
             0.4,
             "#fde0ef"
            ],
            [
             0.5,
             "#f7f7f7"
            ],
            [
             0.6,
             "#e6f5d0"
            ],
            [
             0.7,
             "#b8e186"
            ],
            [
             0.8,
             "#7fbc41"
            ],
            [
             0.9,
             "#4d9221"
            ],
            [
             1,
             "#276419"
            ]
           ],
           "sequential": [
            [
             0,
             "#0d0887"
            ],
            [
             0.1111111111111111,
             "#46039f"
            ],
            [
             0.2222222222222222,
             "#7201a8"
            ],
            [
             0.3333333333333333,
             "#9c179e"
            ],
            [
             0.4444444444444444,
             "#bd3786"
            ],
            [
             0.5555555555555556,
             "#d8576b"
            ],
            [
             0.6666666666666666,
             "#ed7953"
            ],
            [
             0.7777777777777778,
             "#fb9f3a"
            ],
            [
             0.8888888888888888,
             "#fdca26"
            ],
            [
             1,
             "#f0f921"
            ]
           ],
           "sequentialminus": [
            [
             0,
             "#0d0887"
            ],
            [
             0.1111111111111111,
             "#46039f"
            ],
            [
             0.2222222222222222,
             "#7201a8"
            ],
            [
             0.3333333333333333,
             "#9c179e"
            ],
            [
             0.4444444444444444,
             "#bd3786"
            ],
            [
             0.5555555555555556,
             "#d8576b"
            ],
            [
             0.6666666666666666,
             "#ed7953"
            ],
            [
             0.7777777777777778,
             "#fb9f3a"
            ],
            [
             0.8888888888888888,
             "#fdca26"
            ],
            [
             1,
             "#f0f921"
            ]
           ]
          },
          "colorway": [
           "#636efa",
           "#EF553B",
           "#00cc96",
           "#ab63fa",
           "#FFA15A",
           "#19d3f3",
           "#FF6692",
           "#B6E880",
           "#FF97FF",
           "#FECB52"
          ],
          "font": {
           "color": "#2a3f5f"
          },
          "geo": {
           "bgcolor": "white",
           "lakecolor": "white",
           "landcolor": "white",
           "showlakes": true,
           "showland": true,
           "subunitcolor": "#C8D4E3"
          },
          "hoverlabel": {
           "align": "left"
          },
          "hovermode": "closest",
          "mapbox": {
           "style": "light"
          },
          "paper_bgcolor": "white",
          "plot_bgcolor": "white",
          "polar": {
           "angularaxis": {
            "gridcolor": "#EBF0F8",
            "linecolor": "#EBF0F8",
            "ticks": ""
           },
           "bgcolor": "white",
           "radialaxis": {
            "gridcolor": "#EBF0F8",
            "linecolor": "#EBF0F8",
            "ticks": ""
           }
          },
          "scene": {
           "xaxis": {
            "backgroundcolor": "white",
            "gridcolor": "#DFE8F3",
            "gridwidth": 2,
            "linecolor": "#EBF0F8",
            "showbackground": true,
            "ticks": "",
            "zerolinecolor": "#EBF0F8"
           },
           "yaxis": {
            "backgroundcolor": "white",
            "gridcolor": "#DFE8F3",
            "gridwidth": 2,
            "linecolor": "#EBF0F8",
            "showbackground": true,
            "ticks": "",
            "zerolinecolor": "#EBF0F8"
           },
           "zaxis": {
            "backgroundcolor": "white",
            "gridcolor": "#DFE8F3",
            "gridwidth": 2,
            "linecolor": "#EBF0F8",
            "showbackground": true,
            "ticks": "",
            "zerolinecolor": "#EBF0F8"
           }
          },
          "shapedefaults": {
           "line": {
            "color": "#2a3f5f"
           }
          },
          "ternary": {
           "aaxis": {
            "gridcolor": "#DFE8F3",
            "linecolor": "#A2B1C6",
            "ticks": ""
           },
           "baxis": {
            "gridcolor": "#DFE8F3",
            "linecolor": "#A2B1C6",
            "ticks": ""
           },
           "bgcolor": "white",
           "caxis": {
            "gridcolor": "#DFE8F3",
            "linecolor": "#A2B1C6",
            "ticks": ""
           }
          },
          "title": {
           "x": 0.05
          },
          "xaxis": {
           "automargin": true,
           "gridcolor": "#EBF0F8",
           "linecolor": "#EBF0F8",
           "ticks": "",
           "title": {
            "standoff": 15
           },
           "zerolinecolor": "#EBF0F8",
           "zerolinewidth": 2
          },
          "yaxis": {
           "automargin": true,
           "gridcolor": "#EBF0F8",
           "linecolor": "#EBF0F8",
           "ticks": "",
           "title": {
            "standoff": 15
           },
           "zerolinecolor": "#EBF0F8",
           "zerolinewidth": 2
          }
         }
        },
        "width": 800,
        "xaxis": {
         "linecolor": "DarkGrey",
         "showgrid": false,
         "showticklabels": true,
         "title": {
          "text": "Model variant"
         }
        },
        "yaxis": {
         "linecolor": "DarkGrey",
         "range": [
          0,
          1
         ],
         "showgrid": false,
         "tickcolor": "DarkGrey",
         "ticks": "outside",
         "title": {
          "text": "Relative share"
         },
         "zeroline": true,
         "zerolinecolor": "DarkGrey",
         "zerolinewidth": 1
        }
       }
      },
      "text/html": [
       "<div>                            <div id=\"2810cb62-f743-4c77-985f-e0ce01a0fcbb\" class=\"plotly-graph-div\" style=\"height:525px; width:800px;\"></div>            <script type=\"text/javascript\">                require([\"plotly\"], function(Plotly) {                    window.PLOTLYENV=window.PLOTLYENV || {};                                    if (document.getElementById(\"2810cb62-f743-4c77-985f-e0ce01a0fcbb\")) {                    Plotly.newPlot(                        \"2810cb62-f743-4c77-985f-e0ce01a0fcbb\",                        [{\"marker\":{\"color\":[\"#6788ee\",\"#9abbff\",\"#e26952\",\"#f7a889\"]},\"text\":[0.093,0.235,0.052,0.198],\"x\":[\"QuadraticGlobalRE\",\"LinearGlobalRE\",\"QuadraticLocalRE\",\"LinearLocalRE\"],\"y\":[0.093,0.235,0.052,0.198],\"type\":\"bar\"}],                        {\"template\":{\"data\":{\"barpolar\":[{\"marker\":{\"line\":{\"color\":\"white\",\"width\":0.5},\"pattern\":{\"fillmode\":\"overlay\",\"size\":10,\"solidity\":0.2}},\"type\":\"barpolar\"}],\"bar\":[{\"error_x\":{\"color\":\"#2a3f5f\"},\"error_y\":{\"color\":\"#2a3f5f\"},\"marker\":{\"line\":{\"color\":\"white\",\"width\":0.5},\"pattern\":{\"fillmode\":\"overlay\",\"size\":10,\"solidity\":0.2}},\"type\":\"bar\"}],\"carpet\":[{\"aaxis\":{\"endlinecolor\":\"#2a3f5f\",\"gridcolor\":\"#C8D4E3\",\"linecolor\":\"#C8D4E3\",\"minorgridcolor\":\"#C8D4E3\",\"startlinecolor\":\"#2a3f5f\"},\"baxis\":{\"endlinecolor\":\"#2a3f5f\",\"gridcolor\":\"#C8D4E3\",\"linecolor\":\"#C8D4E3\",\"minorgridcolor\":\"#C8D4E3\",\"startlinecolor\":\"#2a3f5f\"},\"type\":\"carpet\"}],\"choropleth\":[{\"colorbar\":{\"outlinewidth\":0,\"ticks\":\"\"},\"type\":\"choropleth\"}],\"contourcarpet\":[{\"colorbar\":{\"outlinewidth\":0,\"ticks\":\"\"},\"type\":\"contourcarpet\"}],\"contour\":[{\"colorbar\":{\"outlinewidth\":0,\"ticks\":\"\"},\"colorscale\":[[0.0,\"#0d0887\"],[0.1111111111111111,\"#46039f\"],[0.2222222222222222,\"#7201a8\"],[0.3333333333333333,\"#9c179e\"],[0.4444444444444444,\"#bd3786\"],[0.5555555555555556,\"#d8576b\"],[0.6666666666666666,\"#ed7953\"],[0.7777777777777778,\"#fb9f3a\"],[0.8888888888888888,\"#fdca26\"],[1.0,\"#f0f921\"]],\"type\":\"contour\"}],\"heatmapgl\":[{\"colorbar\":{\"outlinewidth\":0,\"ticks\":\"\"},\"colorscale\":[[0.0,\"#0d0887\"],[0.1111111111111111,\"#46039f\"],[0.2222222222222222,\"#7201a8\"],[0.3333333333333333,\"#9c179e\"],[0.4444444444444444,\"#bd3786\"],[0.5555555555555556,\"#d8576b\"],[0.6666666666666666,\"#ed7953\"],[0.7777777777777778,\"#fb9f3a\"],[0.8888888888888888,\"#fdca26\"],[1.0,\"#f0f921\"]],\"type\":\"heatmapgl\"}],\"heatmap\":[{\"colorbar\":{\"outlinewidth\":0,\"ticks\":\"\"},\"colorscale\":[[0.0,\"#0d0887\"],[0.1111111111111111,\"#46039f\"],[0.2222222222222222,\"#7201a8\"],[0.3333333333333333,\"#9c179e\"],[0.4444444444444444,\"#bd3786\"],[0.5555555555555556,\"#d8576b\"],[0.6666666666666666,\"#ed7953\"],[0.7777777777777778,\"#fb9f3a\"],[0.8888888888888888,\"#fdca26\"],[1.0,\"#f0f921\"]],\"type\":\"heatmap\"}],\"histogram2dcontour\":[{\"colorbar\":{\"outlinewidth\":0,\"ticks\":\"\"},\"colorscale\":[[0.0,\"#0d0887\"],[0.1111111111111111,\"#46039f\"],[0.2222222222222222,\"#7201a8\"],[0.3333333333333333,\"#9c179e\"],[0.4444444444444444,\"#bd3786\"],[0.5555555555555556,\"#d8576b\"],[0.6666666666666666,\"#ed7953\"],[0.7777777777777778,\"#fb9f3a\"],[0.8888888888888888,\"#fdca26\"],[1.0,\"#f0f921\"]],\"type\":\"histogram2dcontour\"}],\"histogram2d\":[{\"colorbar\":{\"outlinewidth\":0,\"ticks\":\"\"},\"colorscale\":[[0.0,\"#0d0887\"],[0.1111111111111111,\"#46039f\"],[0.2222222222222222,\"#7201a8\"],[0.3333333333333333,\"#9c179e\"],[0.4444444444444444,\"#bd3786\"],[0.5555555555555556,\"#d8576b\"],[0.6666666666666666,\"#ed7953\"],[0.7777777777777778,\"#fb9f3a\"],[0.8888888888888888,\"#fdca26\"],[1.0,\"#f0f921\"]],\"type\":\"histogram2d\"}],\"histogram\":[{\"marker\":{\"pattern\":{\"fillmode\":\"overlay\",\"size\":10,\"solidity\":0.2}},\"type\":\"histogram\"}],\"mesh3d\":[{\"colorbar\":{\"outlinewidth\":0,\"ticks\":\"\"},\"type\":\"mesh3d\"}],\"parcoords\":[{\"line\":{\"colorbar\":{\"outlinewidth\":0,\"ticks\":\"\"}},\"type\":\"parcoords\"}],\"pie\":[{\"automargin\":true,\"type\":\"pie\"}],\"scatter3d\":[{\"line\":{\"colorbar\":{\"outlinewidth\":0,\"ticks\":\"\"}},\"marker\":{\"colorbar\":{\"outlinewidth\":0,\"ticks\":\"\"}},\"type\":\"scatter3d\"}],\"scattercarpet\":[{\"marker\":{\"colorbar\":{\"outlinewidth\":0,\"ticks\":\"\"}},\"type\":\"scattercarpet\"}],\"scattergeo\":[{\"marker\":{\"colorbar\":{\"outlinewidth\":0,\"ticks\":\"\"}},\"type\":\"scattergeo\"}],\"scattergl\":[{\"marker\":{\"colorbar\":{\"outlinewidth\":0,\"ticks\":\"\"}},\"type\":\"scattergl\"}],\"scattermapbox\":[{\"marker\":{\"colorbar\":{\"outlinewidth\":0,\"ticks\":\"\"}},\"type\":\"scattermapbox\"}],\"scatterpolargl\":[{\"marker\":{\"colorbar\":{\"outlinewidth\":0,\"ticks\":\"\"}},\"type\":\"scatterpolargl\"}],\"scatterpolar\":[{\"marker\":{\"colorbar\":{\"outlinewidth\":0,\"ticks\":\"\"}},\"type\":\"scatterpolar\"}],\"scatter\":[{\"fillpattern\":{\"fillmode\":\"overlay\",\"size\":10,\"solidity\":0.2},\"type\":\"scatter\"}],\"scatterternary\":[{\"marker\":{\"colorbar\":{\"outlinewidth\":0,\"ticks\":\"\"}},\"type\":\"scatterternary\"}],\"surface\":[{\"colorbar\":{\"outlinewidth\":0,\"ticks\":\"\"},\"colorscale\":[[0.0,\"#0d0887\"],[0.1111111111111111,\"#46039f\"],[0.2222222222222222,\"#7201a8\"],[0.3333333333333333,\"#9c179e\"],[0.4444444444444444,\"#bd3786\"],[0.5555555555555556,\"#d8576b\"],[0.6666666666666666,\"#ed7953\"],[0.7777777777777778,\"#fb9f3a\"],[0.8888888888888888,\"#fdca26\"],[1.0,\"#f0f921\"]],\"type\":\"surface\"}],\"table\":[{\"cells\":{\"fill\":{\"color\":\"#EBF0F8\"},\"line\":{\"color\":\"white\"}},\"header\":{\"fill\":{\"color\":\"#C8D4E3\"},\"line\":{\"color\":\"white\"}},\"type\":\"table\"}]},\"layout\":{\"annotationdefaults\":{\"arrowcolor\":\"#2a3f5f\",\"arrowhead\":0,\"arrowwidth\":1},\"autotypenumbers\":\"strict\",\"coloraxis\":{\"colorbar\":{\"outlinewidth\":0,\"ticks\":\"\"}},\"colorscale\":{\"diverging\":[[0,\"#8e0152\"],[0.1,\"#c51b7d\"],[0.2,\"#de77ae\"],[0.3,\"#f1b6da\"],[0.4,\"#fde0ef\"],[0.5,\"#f7f7f7\"],[0.6,\"#e6f5d0\"],[0.7,\"#b8e186\"],[0.8,\"#7fbc41\"],[0.9,\"#4d9221\"],[1,\"#276419\"]],\"sequential\":[[0.0,\"#0d0887\"],[0.1111111111111111,\"#46039f\"],[0.2222222222222222,\"#7201a8\"],[0.3333333333333333,\"#9c179e\"],[0.4444444444444444,\"#bd3786\"],[0.5555555555555556,\"#d8576b\"],[0.6666666666666666,\"#ed7953\"],[0.7777777777777778,\"#fb9f3a\"],[0.8888888888888888,\"#fdca26\"],[1.0,\"#f0f921\"]],\"sequentialminus\":[[0.0,\"#0d0887\"],[0.1111111111111111,\"#46039f\"],[0.2222222222222222,\"#7201a8\"],[0.3333333333333333,\"#9c179e\"],[0.4444444444444444,\"#bd3786\"],[0.5555555555555556,\"#d8576b\"],[0.6666666666666666,\"#ed7953\"],[0.7777777777777778,\"#fb9f3a\"],[0.8888888888888888,\"#fdca26\"],[1.0,\"#f0f921\"]]},\"colorway\":[\"#636efa\",\"#EF553B\",\"#00cc96\",\"#ab63fa\",\"#FFA15A\",\"#19d3f3\",\"#FF6692\",\"#B6E880\",\"#FF97FF\",\"#FECB52\"],\"font\":{\"color\":\"#2a3f5f\"},\"geo\":{\"bgcolor\":\"white\",\"lakecolor\":\"white\",\"landcolor\":\"white\",\"showlakes\":true,\"showland\":true,\"subunitcolor\":\"#C8D4E3\"},\"hoverlabel\":{\"align\":\"left\"},\"hovermode\":\"closest\",\"mapbox\":{\"style\":\"light\"},\"paper_bgcolor\":\"white\",\"plot_bgcolor\":\"white\",\"polar\":{\"angularaxis\":{\"gridcolor\":\"#EBF0F8\",\"linecolor\":\"#EBF0F8\",\"ticks\":\"\"},\"bgcolor\":\"white\",\"radialaxis\":{\"gridcolor\":\"#EBF0F8\",\"linecolor\":\"#EBF0F8\",\"ticks\":\"\"}},\"scene\":{\"xaxis\":{\"backgroundcolor\":\"white\",\"gridcolor\":\"#DFE8F3\",\"gridwidth\":2,\"linecolor\":\"#EBF0F8\",\"showbackground\":true,\"ticks\":\"\",\"zerolinecolor\":\"#EBF0F8\"},\"yaxis\":{\"backgroundcolor\":\"white\",\"gridcolor\":\"#DFE8F3\",\"gridwidth\":2,\"linecolor\":\"#EBF0F8\",\"showbackground\":true,\"ticks\":\"\",\"zerolinecolor\":\"#EBF0F8\"},\"zaxis\":{\"backgroundcolor\":\"white\",\"gridcolor\":\"#DFE8F3\",\"gridwidth\":2,\"linecolor\":\"#EBF0F8\",\"showbackground\":true,\"ticks\":\"\",\"zerolinecolor\":\"#EBF0F8\"}},\"shapedefaults\":{\"line\":{\"color\":\"#2a3f5f\"}},\"ternary\":{\"aaxis\":{\"gridcolor\":\"#DFE8F3\",\"linecolor\":\"#A2B1C6\",\"ticks\":\"\"},\"baxis\":{\"gridcolor\":\"#DFE8F3\",\"linecolor\":\"#A2B1C6\",\"ticks\":\"\"},\"bgcolor\":\"white\",\"caxis\":{\"gridcolor\":\"#DFE8F3\",\"linecolor\":\"#A2B1C6\",\"ticks\":\"\"}},\"title\":{\"x\":0.05},\"xaxis\":{\"automargin\":true,\"gridcolor\":\"#EBF0F8\",\"linecolor\":\"#EBF0F8\",\"ticks\":\"\",\"title\":{\"standoff\":15},\"zerolinecolor\":\"#EBF0F8\",\"zerolinewidth\":2},\"yaxis\":{\"automargin\":true,\"gridcolor\":\"#EBF0F8\",\"linecolor\":\"#EBF0F8\",\"ticks\":\"\",\"title\":{\"standoff\":15},\"zerolinecolor\":\"#EBF0F8\",\"zerolinewidth\":2}}},\"showlegend\":false,\"yaxis\":{\"range\":[0.0,1.0],\"title\":{\"text\":\"Relative share\"},\"ticks\":\"outside\",\"tickcolor\":\"DarkGrey\",\"showgrid\":false,\"linecolor\":\"DarkGrey\",\"zeroline\":true,\"zerolinecolor\":\"DarkGrey\",\"zerolinewidth\":1},\"font\":{\"color\":\"black\",\"size\":12},\"width\":800,\"xaxis\":{\"title\":{\"text\":\"Model variant\"},\"showticklabels\":true,\"showgrid\":false,\"linecolor\":\"DarkGrey\"},\"legend\":{\"title\":{\"text\":\"\"}}},                        {\"responsive\": true}                    ).then(function(){\n",
       "                            \n",
       "var gd = document.getElementById('2810cb62-f743-4c77-985f-e0ce01a0fcbb');\n",
       "var x = new MutationObserver(function (mutations, observer) {{\n",
       "        var display = window.getComputedStyle(gd).display;\n",
       "        if (!display || display === 'none') {{\n",
       "            console.log([gd, 'removed!']);\n",
       "            Plotly.purge(gd);\n",
       "            observer.disconnect();\n",
       "        }}\n",
       "}});\n",
       "\n",
       "// Listen for the removal of the full notebook cells\n",
       "var notebookContainer = gd.closest('#notebook-container');\n",
       "if (notebookContainer) {{\n",
       "    x.observe(notebookContainer, {childList: true});\n",
       "}}\n",
       "\n",
       "// Listen for the clearing of the current output cell\n",
       "var outputEl = gd.closest('.output');\n",
       "if (outputEl) {{\n",
       "    x.observe(outputEl, {childList: true});\n",
       "}}\n",
       "\n",
       "                        })                };                });            </script>        </div>"
      ]
     },
     "metadata": {},
     "output_type": "display_data"
    },
    {
     "data": {
      "application/vnd.plotly.v1+json": {
       "config": {
        "plotlyServerURL": "https://plot.ly"
       },
       "data": [
        {
         "marker": {
          "color": [
           "#6788ee",
           "#e26952"
          ]
         },
         "text": [
          0.115,
          0.275
         ],
         "type": "bar",
         "x": [
          "QuadraticGlobalRE",
          "LinearGlobalRE"
         ],
         "y": [
          0.115,
          0.275
         ]
        }
       ],
       "layout": {
        "font": {
         "color": "black",
         "size": 12
        },
        "legend": {
         "title": {
          "text": ""
         }
        },
        "showlegend": false,
        "template": {
         "data": {
          "bar": [
           {
            "error_x": {
             "color": "#2a3f5f"
            },
            "error_y": {
             "color": "#2a3f5f"
            },
            "marker": {
             "line": {
              "color": "white",
              "width": 0.5
             },
             "pattern": {
              "fillmode": "overlay",
              "size": 10,
              "solidity": 0.2
             }
            },
            "type": "bar"
           }
          ],
          "barpolar": [
           {
            "marker": {
             "line": {
              "color": "white",
              "width": 0.5
             },
             "pattern": {
              "fillmode": "overlay",
              "size": 10,
              "solidity": 0.2
             }
            },
            "type": "barpolar"
           }
          ],
          "carpet": [
           {
            "aaxis": {
             "endlinecolor": "#2a3f5f",
             "gridcolor": "#C8D4E3",
             "linecolor": "#C8D4E3",
             "minorgridcolor": "#C8D4E3",
             "startlinecolor": "#2a3f5f"
            },
            "baxis": {
             "endlinecolor": "#2a3f5f",
             "gridcolor": "#C8D4E3",
             "linecolor": "#C8D4E3",
             "minorgridcolor": "#C8D4E3",
             "startlinecolor": "#2a3f5f"
            },
            "type": "carpet"
           }
          ],
          "choropleth": [
           {
            "colorbar": {
             "outlinewidth": 0,
             "ticks": ""
            },
            "type": "choropleth"
           }
          ],
          "contour": [
           {
            "colorbar": {
             "outlinewidth": 0,
             "ticks": ""
            },
            "colorscale": [
             [
              0,
              "#0d0887"
             ],
             [
              0.1111111111111111,
              "#46039f"
             ],
             [
              0.2222222222222222,
              "#7201a8"
             ],
             [
              0.3333333333333333,
              "#9c179e"
             ],
             [
              0.4444444444444444,
              "#bd3786"
             ],
             [
              0.5555555555555556,
              "#d8576b"
             ],
             [
              0.6666666666666666,
              "#ed7953"
             ],
             [
              0.7777777777777778,
              "#fb9f3a"
             ],
             [
              0.8888888888888888,
              "#fdca26"
             ],
             [
              1,
              "#f0f921"
             ]
            ],
            "type": "contour"
           }
          ],
          "contourcarpet": [
           {
            "colorbar": {
             "outlinewidth": 0,
             "ticks": ""
            },
            "type": "contourcarpet"
           }
          ],
          "heatmap": [
           {
            "colorbar": {
             "outlinewidth": 0,
             "ticks": ""
            },
            "colorscale": [
             [
              0,
              "#0d0887"
             ],
             [
              0.1111111111111111,
              "#46039f"
             ],
             [
              0.2222222222222222,
              "#7201a8"
             ],
             [
              0.3333333333333333,
              "#9c179e"
             ],
             [
              0.4444444444444444,
              "#bd3786"
             ],
             [
              0.5555555555555556,
              "#d8576b"
             ],
             [
              0.6666666666666666,
              "#ed7953"
             ],
             [
              0.7777777777777778,
              "#fb9f3a"
             ],
             [
              0.8888888888888888,
              "#fdca26"
             ],
             [
              1,
              "#f0f921"
             ]
            ],
            "type": "heatmap"
           }
          ],
          "heatmapgl": [
           {
            "colorbar": {
             "outlinewidth": 0,
             "ticks": ""
            },
            "colorscale": [
             [
              0,
              "#0d0887"
             ],
             [
              0.1111111111111111,
              "#46039f"
             ],
             [
              0.2222222222222222,
              "#7201a8"
             ],
             [
              0.3333333333333333,
              "#9c179e"
             ],
             [
              0.4444444444444444,
              "#bd3786"
             ],
             [
              0.5555555555555556,
              "#d8576b"
             ],
             [
              0.6666666666666666,
              "#ed7953"
             ],
             [
              0.7777777777777778,
              "#fb9f3a"
             ],
             [
              0.8888888888888888,
              "#fdca26"
             ],
             [
              1,
              "#f0f921"
             ]
            ],
            "type": "heatmapgl"
           }
          ],
          "histogram": [
           {
            "marker": {
             "pattern": {
              "fillmode": "overlay",
              "size": 10,
              "solidity": 0.2
             }
            },
            "type": "histogram"
           }
          ],
          "histogram2d": [
           {
            "colorbar": {
             "outlinewidth": 0,
             "ticks": ""
            },
            "colorscale": [
             [
              0,
              "#0d0887"
             ],
             [
              0.1111111111111111,
              "#46039f"
             ],
             [
              0.2222222222222222,
              "#7201a8"
             ],
             [
              0.3333333333333333,
              "#9c179e"
             ],
             [
              0.4444444444444444,
              "#bd3786"
             ],
             [
              0.5555555555555556,
              "#d8576b"
             ],
             [
              0.6666666666666666,
              "#ed7953"
             ],
             [
              0.7777777777777778,
              "#fb9f3a"
             ],
             [
              0.8888888888888888,
              "#fdca26"
             ],
             [
              1,
              "#f0f921"
             ]
            ],
            "type": "histogram2d"
           }
          ],
          "histogram2dcontour": [
           {
            "colorbar": {
             "outlinewidth": 0,
             "ticks": ""
            },
            "colorscale": [
             [
              0,
              "#0d0887"
             ],
             [
              0.1111111111111111,
              "#46039f"
             ],
             [
              0.2222222222222222,
              "#7201a8"
             ],
             [
              0.3333333333333333,
              "#9c179e"
             ],
             [
              0.4444444444444444,
              "#bd3786"
             ],
             [
              0.5555555555555556,
              "#d8576b"
             ],
             [
              0.6666666666666666,
              "#ed7953"
             ],
             [
              0.7777777777777778,
              "#fb9f3a"
             ],
             [
              0.8888888888888888,
              "#fdca26"
             ],
             [
              1,
              "#f0f921"
             ]
            ],
            "type": "histogram2dcontour"
           }
          ],
          "mesh3d": [
           {
            "colorbar": {
             "outlinewidth": 0,
             "ticks": ""
            },
            "type": "mesh3d"
           }
          ],
          "parcoords": [
           {
            "line": {
             "colorbar": {
              "outlinewidth": 0,
              "ticks": ""
             }
            },
            "type": "parcoords"
           }
          ],
          "pie": [
           {
            "automargin": true,
            "type": "pie"
           }
          ],
          "scatter": [
           {
            "fillpattern": {
             "fillmode": "overlay",
             "size": 10,
             "solidity": 0.2
            },
            "type": "scatter"
           }
          ],
          "scatter3d": [
           {
            "line": {
             "colorbar": {
              "outlinewidth": 0,
              "ticks": ""
             }
            },
            "marker": {
             "colorbar": {
              "outlinewidth": 0,
              "ticks": ""
             }
            },
            "type": "scatter3d"
           }
          ],
          "scattercarpet": [
           {
            "marker": {
             "colorbar": {
              "outlinewidth": 0,
              "ticks": ""
             }
            },
            "type": "scattercarpet"
           }
          ],
          "scattergeo": [
           {
            "marker": {
             "colorbar": {
              "outlinewidth": 0,
              "ticks": ""
             }
            },
            "type": "scattergeo"
           }
          ],
          "scattergl": [
           {
            "marker": {
             "colorbar": {
              "outlinewidth": 0,
              "ticks": ""
             }
            },
            "type": "scattergl"
           }
          ],
          "scattermapbox": [
           {
            "marker": {
             "colorbar": {
              "outlinewidth": 0,
              "ticks": ""
             }
            },
            "type": "scattermapbox"
           }
          ],
          "scatterpolar": [
           {
            "marker": {
             "colorbar": {
              "outlinewidth": 0,
              "ticks": ""
             }
            },
            "type": "scatterpolar"
           }
          ],
          "scatterpolargl": [
           {
            "marker": {
             "colorbar": {
              "outlinewidth": 0,
              "ticks": ""
             }
            },
            "type": "scatterpolargl"
           }
          ],
          "scatterternary": [
           {
            "marker": {
             "colorbar": {
              "outlinewidth": 0,
              "ticks": ""
             }
            },
            "type": "scatterternary"
           }
          ],
          "surface": [
           {
            "colorbar": {
             "outlinewidth": 0,
             "ticks": ""
            },
            "colorscale": [
             [
              0,
              "#0d0887"
             ],
             [
              0.1111111111111111,
              "#46039f"
             ],
             [
              0.2222222222222222,
              "#7201a8"
             ],
             [
              0.3333333333333333,
              "#9c179e"
             ],
             [
              0.4444444444444444,
              "#bd3786"
             ],
             [
              0.5555555555555556,
              "#d8576b"
             ],
             [
              0.6666666666666666,
              "#ed7953"
             ],
             [
              0.7777777777777778,
              "#fb9f3a"
             ],
             [
              0.8888888888888888,
              "#fdca26"
             ],
             [
              1,
              "#f0f921"
             ]
            ],
            "type": "surface"
           }
          ],
          "table": [
           {
            "cells": {
             "fill": {
              "color": "#EBF0F8"
             },
             "line": {
              "color": "white"
             }
            },
            "header": {
             "fill": {
              "color": "#C8D4E3"
             },
             "line": {
              "color": "white"
             }
            },
            "type": "table"
           }
          ]
         },
         "layout": {
          "annotationdefaults": {
           "arrowcolor": "#2a3f5f",
           "arrowhead": 0,
           "arrowwidth": 1
          },
          "autotypenumbers": "strict",
          "coloraxis": {
           "colorbar": {
            "outlinewidth": 0,
            "ticks": ""
           }
          },
          "colorscale": {
           "diverging": [
            [
             0,
             "#8e0152"
            ],
            [
             0.1,
             "#c51b7d"
            ],
            [
             0.2,
             "#de77ae"
            ],
            [
             0.3,
             "#f1b6da"
            ],
            [
             0.4,
             "#fde0ef"
            ],
            [
             0.5,
             "#f7f7f7"
            ],
            [
             0.6,
             "#e6f5d0"
            ],
            [
             0.7,
             "#b8e186"
            ],
            [
             0.8,
             "#7fbc41"
            ],
            [
             0.9,
             "#4d9221"
            ],
            [
             1,
             "#276419"
            ]
           ],
           "sequential": [
            [
             0,
             "#0d0887"
            ],
            [
             0.1111111111111111,
             "#46039f"
            ],
            [
             0.2222222222222222,
             "#7201a8"
            ],
            [
             0.3333333333333333,
             "#9c179e"
            ],
            [
             0.4444444444444444,
             "#bd3786"
            ],
            [
             0.5555555555555556,
             "#d8576b"
            ],
            [
             0.6666666666666666,
             "#ed7953"
            ],
            [
             0.7777777777777778,
             "#fb9f3a"
            ],
            [
             0.8888888888888888,
             "#fdca26"
            ],
            [
             1,
             "#f0f921"
            ]
           ],
           "sequentialminus": [
            [
             0,
             "#0d0887"
            ],
            [
             0.1111111111111111,
             "#46039f"
            ],
            [
             0.2222222222222222,
             "#7201a8"
            ],
            [
             0.3333333333333333,
             "#9c179e"
            ],
            [
             0.4444444444444444,
             "#bd3786"
            ],
            [
             0.5555555555555556,
             "#d8576b"
            ],
            [
             0.6666666666666666,
             "#ed7953"
            ],
            [
             0.7777777777777778,
             "#fb9f3a"
            ],
            [
             0.8888888888888888,
             "#fdca26"
            ],
            [
             1,
             "#f0f921"
            ]
           ]
          },
          "colorway": [
           "#636efa",
           "#EF553B",
           "#00cc96",
           "#ab63fa",
           "#FFA15A",
           "#19d3f3",
           "#FF6692",
           "#B6E880",
           "#FF97FF",
           "#FECB52"
          ],
          "font": {
           "color": "#2a3f5f"
          },
          "geo": {
           "bgcolor": "white",
           "lakecolor": "white",
           "landcolor": "white",
           "showlakes": true,
           "showland": true,
           "subunitcolor": "#C8D4E3"
          },
          "hoverlabel": {
           "align": "left"
          },
          "hovermode": "closest",
          "mapbox": {
           "style": "light"
          },
          "paper_bgcolor": "white",
          "plot_bgcolor": "white",
          "polar": {
           "angularaxis": {
            "gridcolor": "#EBF0F8",
            "linecolor": "#EBF0F8",
            "ticks": ""
           },
           "bgcolor": "white",
           "radialaxis": {
            "gridcolor": "#EBF0F8",
            "linecolor": "#EBF0F8",
            "ticks": ""
           }
          },
          "scene": {
           "xaxis": {
            "backgroundcolor": "white",
            "gridcolor": "#DFE8F3",
            "gridwidth": 2,
            "linecolor": "#EBF0F8",
            "showbackground": true,
            "ticks": "",
            "zerolinecolor": "#EBF0F8"
           },
           "yaxis": {
            "backgroundcolor": "white",
            "gridcolor": "#DFE8F3",
            "gridwidth": 2,
            "linecolor": "#EBF0F8",
            "showbackground": true,
            "ticks": "",
            "zerolinecolor": "#EBF0F8"
           },
           "zaxis": {
            "backgroundcolor": "white",
            "gridcolor": "#DFE8F3",
            "gridwidth": 2,
            "linecolor": "#EBF0F8",
            "showbackground": true,
            "ticks": "",
            "zerolinecolor": "#EBF0F8"
           }
          },
          "shapedefaults": {
           "line": {
            "color": "#2a3f5f"
           }
          },
          "ternary": {
           "aaxis": {
            "gridcolor": "#DFE8F3",
            "linecolor": "#A2B1C6",
            "ticks": ""
           },
           "baxis": {
            "gridcolor": "#DFE8F3",
            "linecolor": "#A2B1C6",
            "ticks": ""
           },
           "bgcolor": "white",
           "caxis": {
            "gridcolor": "#DFE8F3",
            "linecolor": "#A2B1C6",
            "ticks": ""
           }
          },
          "title": {
           "x": 0.05
          },
          "xaxis": {
           "automargin": true,
           "gridcolor": "#EBF0F8",
           "linecolor": "#EBF0F8",
           "ticks": "",
           "title": {
            "standoff": 15
           },
           "zerolinecolor": "#EBF0F8",
           "zerolinewidth": 2
          },
          "yaxis": {
           "automargin": true,
           "gridcolor": "#EBF0F8",
           "linecolor": "#EBF0F8",
           "ticks": "",
           "title": {
            "standoff": 15
           },
           "zerolinecolor": "#EBF0F8",
           "zerolinewidth": 2
          }
         }
        },
        "width": 500,
        "xaxis": {
         "linecolor": "DarkGrey",
         "showgrid": false,
         "showticklabels": true,
         "title": {
          "text": "Model variant"
         }
        },
        "yaxis": {
         "linecolor": "DarkGrey",
         "range": [
          0,
          1
         ],
         "showgrid": false,
         "tickcolor": "DarkGrey",
         "ticks": "outside",
         "title": {
          "text": "Relative share"
         },
         "zeroline": true,
         "zerolinecolor": "DarkGrey",
         "zerolinewidth": 1
        }
       }
      },
      "text/html": [
       "<div>                            <div id=\"07967b20-95cd-478f-8c9d-e0f6b4049050\" class=\"plotly-graph-div\" style=\"height:525px; width:500px;\"></div>            <script type=\"text/javascript\">                require([\"plotly\"], function(Plotly) {                    window.PLOTLYENV=window.PLOTLYENV || {};                                    if (document.getElementById(\"07967b20-95cd-478f-8c9d-e0f6b4049050\")) {                    Plotly.newPlot(                        \"07967b20-95cd-478f-8c9d-e0f6b4049050\",                        [{\"marker\":{\"color\":[\"#6788ee\",\"#e26952\"]},\"text\":[0.115,0.275],\"x\":[\"QuadraticGlobalRE\",\"LinearGlobalRE\"],\"y\":[0.115,0.275],\"type\":\"bar\"}],                        {\"template\":{\"data\":{\"barpolar\":[{\"marker\":{\"line\":{\"color\":\"white\",\"width\":0.5},\"pattern\":{\"fillmode\":\"overlay\",\"size\":10,\"solidity\":0.2}},\"type\":\"barpolar\"}],\"bar\":[{\"error_x\":{\"color\":\"#2a3f5f\"},\"error_y\":{\"color\":\"#2a3f5f\"},\"marker\":{\"line\":{\"color\":\"white\",\"width\":0.5},\"pattern\":{\"fillmode\":\"overlay\",\"size\":10,\"solidity\":0.2}},\"type\":\"bar\"}],\"carpet\":[{\"aaxis\":{\"endlinecolor\":\"#2a3f5f\",\"gridcolor\":\"#C8D4E3\",\"linecolor\":\"#C8D4E3\",\"minorgridcolor\":\"#C8D4E3\",\"startlinecolor\":\"#2a3f5f\"},\"baxis\":{\"endlinecolor\":\"#2a3f5f\",\"gridcolor\":\"#C8D4E3\",\"linecolor\":\"#C8D4E3\",\"minorgridcolor\":\"#C8D4E3\",\"startlinecolor\":\"#2a3f5f\"},\"type\":\"carpet\"}],\"choropleth\":[{\"colorbar\":{\"outlinewidth\":0,\"ticks\":\"\"},\"type\":\"choropleth\"}],\"contourcarpet\":[{\"colorbar\":{\"outlinewidth\":0,\"ticks\":\"\"},\"type\":\"contourcarpet\"}],\"contour\":[{\"colorbar\":{\"outlinewidth\":0,\"ticks\":\"\"},\"colorscale\":[[0.0,\"#0d0887\"],[0.1111111111111111,\"#46039f\"],[0.2222222222222222,\"#7201a8\"],[0.3333333333333333,\"#9c179e\"],[0.4444444444444444,\"#bd3786\"],[0.5555555555555556,\"#d8576b\"],[0.6666666666666666,\"#ed7953\"],[0.7777777777777778,\"#fb9f3a\"],[0.8888888888888888,\"#fdca26\"],[1.0,\"#f0f921\"]],\"type\":\"contour\"}],\"heatmapgl\":[{\"colorbar\":{\"outlinewidth\":0,\"ticks\":\"\"},\"colorscale\":[[0.0,\"#0d0887\"],[0.1111111111111111,\"#46039f\"],[0.2222222222222222,\"#7201a8\"],[0.3333333333333333,\"#9c179e\"],[0.4444444444444444,\"#bd3786\"],[0.5555555555555556,\"#d8576b\"],[0.6666666666666666,\"#ed7953\"],[0.7777777777777778,\"#fb9f3a\"],[0.8888888888888888,\"#fdca26\"],[1.0,\"#f0f921\"]],\"type\":\"heatmapgl\"}],\"heatmap\":[{\"colorbar\":{\"outlinewidth\":0,\"ticks\":\"\"},\"colorscale\":[[0.0,\"#0d0887\"],[0.1111111111111111,\"#46039f\"],[0.2222222222222222,\"#7201a8\"],[0.3333333333333333,\"#9c179e\"],[0.4444444444444444,\"#bd3786\"],[0.5555555555555556,\"#d8576b\"],[0.6666666666666666,\"#ed7953\"],[0.7777777777777778,\"#fb9f3a\"],[0.8888888888888888,\"#fdca26\"],[1.0,\"#f0f921\"]],\"type\":\"heatmap\"}],\"histogram2dcontour\":[{\"colorbar\":{\"outlinewidth\":0,\"ticks\":\"\"},\"colorscale\":[[0.0,\"#0d0887\"],[0.1111111111111111,\"#46039f\"],[0.2222222222222222,\"#7201a8\"],[0.3333333333333333,\"#9c179e\"],[0.4444444444444444,\"#bd3786\"],[0.5555555555555556,\"#d8576b\"],[0.6666666666666666,\"#ed7953\"],[0.7777777777777778,\"#fb9f3a\"],[0.8888888888888888,\"#fdca26\"],[1.0,\"#f0f921\"]],\"type\":\"histogram2dcontour\"}],\"histogram2d\":[{\"colorbar\":{\"outlinewidth\":0,\"ticks\":\"\"},\"colorscale\":[[0.0,\"#0d0887\"],[0.1111111111111111,\"#46039f\"],[0.2222222222222222,\"#7201a8\"],[0.3333333333333333,\"#9c179e\"],[0.4444444444444444,\"#bd3786\"],[0.5555555555555556,\"#d8576b\"],[0.6666666666666666,\"#ed7953\"],[0.7777777777777778,\"#fb9f3a\"],[0.8888888888888888,\"#fdca26\"],[1.0,\"#f0f921\"]],\"type\":\"histogram2d\"}],\"histogram\":[{\"marker\":{\"pattern\":{\"fillmode\":\"overlay\",\"size\":10,\"solidity\":0.2}},\"type\":\"histogram\"}],\"mesh3d\":[{\"colorbar\":{\"outlinewidth\":0,\"ticks\":\"\"},\"type\":\"mesh3d\"}],\"parcoords\":[{\"line\":{\"colorbar\":{\"outlinewidth\":0,\"ticks\":\"\"}},\"type\":\"parcoords\"}],\"pie\":[{\"automargin\":true,\"type\":\"pie\"}],\"scatter3d\":[{\"line\":{\"colorbar\":{\"outlinewidth\":0,\"ticks\":\"\"}},\"marker\":{\"colorbar\":{\"outlinewidth\":0,\"ticks\":\"\"}},\"type\":\"scatter3d\"}],\"scattercarpet\":[{\"marker\":{\"colorbar\":{\"outlinewidth\":0,\"ticks\":\"\"}},\"type\":\"scattercarpet\"}],\"scattergeo\":[{\"marker\":{\"colorbar\":{\"outlinewidth\":0,\"ticks\":\"\"}},\"type\":\"scattergeo\"}],\"scattergl\":[{\"marker\":{\"colorbar\":{\"outlinewidth\":0,\"ticks\":\"\"}},\"type\":\"scattergl\"}],\"scattermapbox\":[{\"marker\":{\"colorbar\":{\"outlinewidth\":0,\"ticks\":\"\"}},\"type\":\"scattermapbox\"}],\"scatterpolargl\":[{\"marker\":{\"colorbar\":{\"outlinewidth\":0,\"ticks\":\"\"}},\"type\":\"scatterpolargl\"}],\"scatterpolar\":[{\"marker\":{\"colorbar\":{\"outlinewidth\":0,\"ticks\":\"\"}},\"type\":\"scatterpolar\"}],\"scatter\":[{\"fillpattern\":{\"fillmode\":\"overlay\",\"size\":10,\"solidity\":0.2},\"type\":\"scatter\"}],\"scatterternary\":[{\"marker\":{\"colorbar\":{\"outlinewidth\":0,\"ticks\":\"\"}},\"type\":\"scatterternary\"}],\"surface\":[{\"colorbar\":{\"outlinewidth\":0,\"ticks\":\"\"},\"colorscale\":[[0.0,\"#0d0887\"],[0.1111111111111111,\"#46039f\"],[0.2222222222222222,\"#7201a8\"],[0.3333333333333333,\"#9c179e\"],[0.4444444444444444,\"#bd3786\"],[0.5555555555555556,\"#d8576b\"],[0.6666666666666666,\"#ed7953\"],[0.7777777777777778,\"#fb9f3a\"],[0.8888888888888888,\"#fdca26\"],[1.0,\"#f0f921\"]],\"type\":\"surface\"}],\"table\":[{\"cells\":{\"fill\":{\"color\":\"#EBF0F8\"},\"line\":{\"color\":\"white\"}},\"header\":{\"fill\":{\"color\":\"#C8D4E3\"},\"line\":{\"color\":\"white\"}},\"type\":\"table\"}]},\"layout\":{\"annotationdefaults\":{\"arrowcolor\":\"#2a3f5f\",\"arrowhead\":0,\"arrowwidth\":1},\"autotypenumbers\":\"strict\",\"coloraxis\":{\"colorbar\":{\"outlinewidth\":0,\"ticks\":\"\"}},\"colorscale\":{\"diverging\":[[0,\"#8e0152\"],[0.1,\"#c51b7d\"],[0.2,\"#de77ae\"],[0.3,\"#f1b6da\"],[0.4,\"#fde0ef\"],[0.5,\"#f7f7f7\"],[0.6,\"#e6f5d0\"],[0.7,\"#b8e186\"],[0.8,\"#7fbc41\"],[0.9,\"#4d9221\"],[1,\"#276419\"]],\"sequential\":[[0.0,\"#0d0887\"],[0.1111111111111111,\"#46039f\"],[0.2222222222222222,\"#7201a8\"],[0.3333333333333333,\"#9c179e\"],[0.4444444444444444,\"#bd3786\"],[0.5555555555555556,\"#d8576b\"],[0.6666666666666666,\"#ed7953\"],[0.7777777777777778,\"#fb9f3a\"],[0.8888888888888888,\"#fdca26\"],[1.0,\"#f0f921\"]],\"sequentialminus\":[[0.0,\"#0d0887\"],[0.1111111111111111,\"#46039f\"],[0.2222222222222222,\"#7201a8\"],[0.3333333333333333,\"#9c179e\"],[0.4444444444444444,\"#bd3786\"],[0.5555555555555556,\"#d8576b\"],[0.6666666666666666,\"#ed7953\"],[0.7777777777777778,\"#fb9f3a\"],[0.8888888888888888,\"#fdca26\"],[1.0,\"#f0f921\"]]},\"colorway\":[\"#636efa\",\"#EF553B\",\"#00cc96\",\"#ab63fa\",\"#FFA15A\",\"#19d3f3\",\"#FF6692\",\"#B6E880\",\"#FF97FF\",\"#FECB52\"],\"font\":{\"color\":\"#2a3f5f\"},\"geo\":{\"bgcolor\":\"white\",\"lakecolor\":\"white\",\"landcolor\":\"white\",\"showlakes\":true,\"showland\":true,\"subunitcolor\":\"#C8D4E3\"},\"hoverlabel\":{\"align\":\"left\"},\"hovermode\":\"closest\",\"mapbox\":{\"style\":\"light\"},\"paper_bgcolor\":\"white\",\"plot_bgcolor\":\"white\",\"polar\":{\"angularaxis\":{\"gridcolor\":\"#EBF0F8\",\"linecolor\":\"#EBF0F8\",\"ticks\":\"\"},\"bgcolor\":\"white\",\"radialaxis\":{\"gridcolor\":\"#EBF0F8\",\"linecolor\":\"#EBF0F8\",\"ticks\":\"\"}},\"scene\":{\"xaxis\":{\"backgroundcolor\":\"white\",\"gridcolor\":\"#DFE8F3\",\"gridwidth\":2,\"linecolor\":\"#EBF0F8\",\"showbackground\":true,\"ticks\":\"\",\"zerolinecolor\":\"#EBF0F8\"},\"yaxis\":{\"backgroundcolor\":\"white\",\"gridcolor\":\"#DFE8F3\",\"gridwidth\":2,\"linecolor\":\"#EBF0F8\",\"showbackground\":true,\"ticks\":\"\",\"zerolinecolor\":\"#EBF0F8\"},\"zaxis\":{\"backgroundcolor\":\"white\",\"gridcolor\":\"#DFE8F3\",\"gridwidth\":2,\"linecolor\":\"#EBF0F8\",\"showbackground\":true,\"ticks\":\"\",\"zerolinecolor\":\"#EBF0F8\"}},\"shapedefaults\":{\"line\":{\"color\":\"#2a3f5f\"}},\"ternary\":{\"aaxis\":{\"gridcolor\":\"#DFE8F3\",\"linecolor\":\"#A2B1C6\",\"ticks\":\"\"},\"baxis\":{\"gridcolor\":\"#DFE8F3\",\"linecolor\":\"#A2B1C6\",\"ticks\":\"\"},\"bgcolor\":\"white\",\"caxis\":{\"gridcolor\":\"#DFE8F3\",\"linecolor\":\"#A2B1C6\",\"ticks\":\"\"}},\"title\":{\"x\":0.05},\"xaxis\":{\"automargin\":true,\"gridcolor\":\"#EBF0F8\",\"linecolor\":\"#EBF0F8\",\"ticks\":\"\",\"title\":{\"standoff\":15},\"zerolinecolor\":\"#EBF0F8\",\"zerolinewidth\":2},\"yaxis\":{\"automargin\":true,\"gridcolor\":\"#EBF0F8\",\"linecolor\":\"#EBF0F8\",\"ticks\":\"\",\"title\":{\"standoff\":15},\"zerolinecolor\":\"#EBF0F8\",\"zerolinewidth\":2}}},\"showlegend\":false,\"yaxis\":{\"range\":[0.0,1.0],\"title\":{\"text\":\"Relative share\"},\"ticks\":\"outside\",\"tickcolor\":\"DarkGrey\",\"showgrid\":false,\"linecolor\":\"DarkGrey\",\"zeroline\":true,\"zerolinecolor\":\"DarkGrey\",\"zerolinewidth\":1},\"font\":{\"color\":\"black\",\"size\":12},\"width\":500,\"xaxis\":{\"title\":{\"text\":\"Model variant\"},\"showticklabels\":true,\"showgrid\":false,\"linecolor\":\"DarkGrey\"},\"legend\":{\"title\":{\"text\":\"\"}}},                        {\"responsive\": true}                    ).then(function(){\n",
       "                            \n",
       "var gd = document.getElementById('07967b20-95cd-478f-8c9d-e0f6b4049050');\n",
       "var x = new MutationObserver(function (mutations, observer) {{\n",
       "        var display = window.getComputedStyle(gd).display;\n",
       "        if (!display || display === 'none') {{\n",
       "            console.log([gd, 'removed!']);\n",
       "            Plotly.purge(gd);\n",
       "            observer.disconnect();\n",
       "        }}\n",
       "}});\n",
       "\n",
       "// Listen for the removal of the full notebook cells\n",
       "var notebookContainer = gd.closest('#notebook-container');\n",
       "if (notebookContainer) {{\n",
       "    x.observe(notebookContainer, {childList: true});\n",
       "}}\n",
       "\n",
       "// Listen for the clearing of the current output cell\n",
       "var outputEl = gd.closest('.output');\n",
       "if (outputEl) {{\n",
       "    x.observe(outputEl, {childList: true});\n",
       "}}\n",
       "\n",
       "                        })                };                });            </script>        </div>"
      ]
     },
     "metadata": {},
     "output_type": "display_data"
    }
   ],
   "source": [
    "for df, endpoint_type in zip([fp_result_df, go_result_df], ['fp', 'go']):\n",
    "    \n",
    "    # restrict global optima dataframe to two variants\n",
    "    if endpoint_type==\"go\":\n",
    "        rdf = df[df[\"model_name\"].isin(go_models)]\n",
    "        rcoolwarm=coolwarm[0::2]\n",
    "        \n",
    "    else:\n",
    "        rdf=df\n",
    "        rcoolwarm = coolwarm\n",
    "\n",
    "    \n",
    "    fig = go.Figure(data=[go.Bar(x=rdf[\"model_name\"],\n",
    "                                 y=rdf.round(3)[f\"rel_{endpoint_type}_full_re_state\"],\n",
    "                                 text=rdf.round(3)[f\"rel_{endpoint_type}_full_re_state\"],\n",
    "                                 marker_color=rcoolwarm\n",
    "                                )\n",
    "                         ])\n",
    "    \n",
    "\n",
    "    fig.update_layout(showlegend=False)\n",
    "    \n",
    "    fig.update_yaxes(range=[0.0, 1.0])\n",
    "    \n",
    "    fig.update_layout(template=\"plotly_white\",\n",
    "                       #paper_bgcolor=\"#e9e8e6\",\n",
    "                       #plot_bgcolor=\"#e9e8e6\",\n",
    "                       font={\"color\": \"black\", \"size\":12},\n",
    "                       width=800 if endpoint_type==\"fp\" else 500,\n",
    "                       #margin={\"t\":80}\n",
    "                      )\n",
    "\n",
    "    fig.update_xaxes(title=\"Model variant\", showticklabels=True, showgrid=False, linecolor= 'DarkGrey')\n",
    "    fig.update_yaxes(title=\"Relative share\", \n",
    "                     ticks=\"outside\", \n",
    "                     tickcolor=\"DarkGrey\", \n",
    "                     showgrid=False, \n",
    "                     linecolor='DarkGrey', \n",
    "                     zeroline=True, \n",
    "                     zerolinecolor=\"DarkGrey\",\n",
    "                     zerolinewidth=1)\n",
    "    \n",
    "    fig.update_layout(legend_title_text=\"\")\n",
    "    \n",
    "    endpoints = \"global optima\" if endpoint_type==\"go\" else \"fixed points\"\n",
    "    \n",
    "    if (endpoint_type == \"fp\") & (analyse_branches):\n",
    "        endpoints += \" (all branches)\"\n",
    "    \n",
    "    #fig.update_layout(title_text=\"Relative share of full RE states among {}\".format(endpoints))\n",
    "    \n",
    "    \n",
    "\n",
    "    fig.show()\n",
    "    \n",
    "    if export_results:\n",
    "        file_name = 'full_re_{}_{}.png'.format(endpoint_type, 'pp' if analyse_branches else 'rp')\n",
    "        fig.write_image(path.join(figures_output_dir, file_name), scale=2)\n",
    "        \n",
    "        file_name = 'full_re_{}_{}.pdf'.format(endpoint_type, 'pp' if analyse_branches else 'rp')\n",
    "        fig.write_image(path.join(figures_output_dir, file_name), scale=2)\n",
    "\n",
    "    \n",
    "        \n"
   ]
  },
  {
   "cell_type": "markdown",
   "id": "94f974dc",
   "metadata": {},
   "source": [
    "### By Sentence Pool Sizes"
   ]
  },
  {
   "cell_type": "code",
   "execution_count": 201,
   "id": "2b9bb440",
   "metadata": {},
   "outputs": [
    {
     "data": {
      "image/png": "[encoded data removed]",
      "text/plain": [
       "<Figure size 648x540 with 1 Axes>"
      ]
     },
     "metadata": {},
     "output_type": "display_data"
    },
    {
     "data": {
      "image/png": "[encoded data removed]",
      "text/plain": [
       "<Figure size 648x540 with 1 Axes>"
      ]
     },
     "metadata": {},
     "output_type": "display_data"
    }
   ],
   "source": [
    "for df, endpoint_type in zip([exploded_go_data, exploded_fp_data], [\"go\", \"fp\"]):\n",
    "    \n",
    "    result_df = rel_share_of_property(df, \n",
    "                           \"{}_full_re_state\".format(endpoint_type), \n",
    "                            col_rename = None,\n",
    "                            groupby_cols= [\"model_name\", \"n_sentence_pool\"],\n",
    "                            collapse_branches=False,\n",
    "                            cols_group_branches = ['model_name','ds','init_coms', 'weight_account', 'weight_systematicity'],\n",
    "                            explode_cols=None,\n",
    "                            bootstrap=bootstrap, \n",
    "                            n_resamples=n_resamples)\n",
    "    \n",
    "    endpoint = \"global optima\" if endpoint_type == \"go\" else \"fixed points\"\n",
    "    perspective = \"pp\" if analyse_branches else \"rp\"\n",
    "    \n",
    "    file_name = None\n",
    "    if export_results:\n",
    "        file_name = f\"rel_full_re_{endpoint_type}_by_sp_{perspective}\"\n",
    "    \n",
    "    \n",
    "    \n",
    "    plot_multiple_error_bars(result_df.reset_index(), \n",
    "                             var_y = f\"rel_{endpoint_type}_full_re_state\", \n",
    "                             ylabel = f\"Relative share of full RE {endpoint}\",\n",
    "                             xlabel = \"Sentence pool size\",\n",
    "                             var_std=f\"std_{endpoint_type}_full_re_state\",\n",
    "                             file_name=file_name,\n",
    "                             output_dir = figures_output_dir)\n",
    "    \n",
    "    plt.show()"
   ]
  },
  {
   "cell_type": "code",
   "execution_count": null,
   "id": "2e433f44",
   "metadata": {},
   "outputs": [],
   "source": []
  },
  {
   "cell_type": "markdown",
   "id": "b7552ab5",
   "metadata": {},
   "source": [
    "### Heatmaps"
   ]
  },
  {
   "cell_type": "code",
   "execution_count": 202,
   "id": "aede8ed6",
   "metadata": {},
   "outputs": [],
   "source": [
    "#new_grouping = ['model_name', 'weight_account','weight_systematicity']"
   ]
  },
  {
   "cell_type": "code",
   "execution_count": 203,
   "id": "e5bc2dde",
   "metadata": {},
   "outputs": [],
   "source": [
    "#wgrouped_go_data=exploded_go_data.groupby(new_grouping)[\"go_full_re_state\"].agg([\"sum\", \"size\"]).reset_index()\n",
    "#    \n",
    "#wgrouped_go_data = wgrouped_go_data.rename(columns={'sum': \"n_go_full_re_state\",\n",
    "#                                                      'size': 'n_global_optima'})\n",
    "#\n",
    "## relative shares\n",
    "#wgrouped_go_data[\"rel_go_full_re\"] = wgrouped_go_data[\"n_go_full_re_state\"]/wgrouped_go_data[\"n_global_optima\"]\n",
    "#wgrouped_go_data[\"rel_go_full_re\"] = wgrouped_go_data[\"rel_go_full_re\"].astype(float).round(2)\n",
    "#\n",
    "## sort by model name\n",
    "#wgrouped_go_data['model_name'] = pd.Categorical(wgrouped_go_data['model_name'], [\"QuadraticGlobalRE\", \"LinearGlobalRE\", \"QuadraticLocalRE\", \"LinearLocalRE\"])\n",
    "#wgrouped_go_data.sort_values(\"model_name\", inplace=True)"
   ]
  },
  {
   "cell_type": "code",
   "execution_count": 204,
   "id": "bc99e174",
   "metadata": {},
   "outputs": [],
   "source": [
    "#wgrouped_fp_data=exploded_fp_data.groupby(new_grouping)[\"fp_full_re_state\"].agg([\"sum\", \"size\"]).reset_index()\n",
    "#    \n",
    "#wgrouped_fp_data = wgrouped_fp_data.rename(columns={'sum': \"n_fp_full_re_state\",\n",
    "#                                                      'size': 'n_fixed_points'})\n",
    "#\n",
    "## relative shares\n",
    "#wgrouped_fp_data[\"rel_fp_full_re\"] = wgrouped_fp_data[\"n_fp_full_re_state\"]/wgrouped_fp_data[\"n_fixed_points\"]\n",
    "#\n",
    "#wgrouped_fp_data[\"rel_fp_full_re\"] = wgrouped_fp_data[\"rel_fp_full_re\"].astype(float).round(2)\n",
    "#\n",
    "## sort by model name\n",
    "#wgrouped_fp_data['model_name'] = pd.Categorical(wgrouped_fp_data['model_name'], [\"QuadraticGlobalRE\", \"LinearGlobalRE\", \"QuadraticLocalRE\", \"LinearLocalRE\"])\n",
    "#wgrouped_fp_data.sort_values(\"model_name\", inplace=True)"
   ]
  },
  {
   "cell_type": "code",
   "execution_count": 205,
   "id": "68c1393d",
   "metadata": {},
   "outputs": [],
   "source": [
    "#normalized_heat_maps_by_weights(wgrouped_go_data, \n",
    "#                                \"rel_go_full_re\", \n",
    "#                                \"Relative share of full RE states among global optima\",\n",
    "#                                annot_std = False,\n",
    "#                                #annot_fmt=\"{:2.2f}\\n\"\n",
    "#                               )\n",
    "#      \n",
    "#branches = \"branches\" if analyse_branches else \"setups\"\n",
    "#        \n",
    "#if export_results:\n",
    "#    plt.savefig(path.join(figures_output_dir, 'rel_go_full_re_{}.png'.format(branches)), bbox_inches='tight')\n",
    "#    plt.savefig(path.join(figures_output_dir, 'rel_go_full_re_{}.pdf'.format(branches)), bbox_inches='tight')"
   ]
  },
  {
   "cell_type": "code",
   "execution_count": 206,
   "id": "679a7e48",
   "metadata": {},
   "outputs": [],
   "source": [
    "#normalized_heat_maps_by_weights(wgrouped_fp_data, \n",
    "#                                \"rel_fp_full_re\", \n",
    "#                                \"Relative share of full RE states among fixed points{}\".format(\" (all branches)\" if analyse_branches else \"\"),\n",
    "#                                annot_std = False,\n",
    "#                                annot_fmt=\"{:2.2f}\\n\")\n",
    "#\n",
    "#branches = \"branches\" if analyse_branches else \"setups\"\n",
    "#        \n",
    "#if export_results:\n",
    "#    plt.savefig(path.join(figures_output_dir, 'rel_fp_full_re_{}.png'.format(branches)), bbox_inches='tight')\n",
    "#    plt.savefig(path.join(figures_output_dir, 'rel_fp_full_re_{}.pdf'.format(branches)), bbox_inches='tight')"
   ]
  },
  {
   "cell_type": "code",
   "execution_count": 220,
   "id": "044fad14",
   "metadata": {},
   "outputs": [
    {
     "data": {
      "image/png": "[encoded data removed]",
      "text/plain": [
       "<Figure size 720x360 with 2 Axes>"
      ]
     },
     "metadata": {},
     "output_type": "display_data"
    },
    {
     "data": {
      "image/png": "[encoded data removed]",
      "text/plain": [
       "<Figure size 720x720 with 4 Axes>"
      ]
     },
     "metadata": {},
     "output_type": "display_data"
    }
   ],
   "source": [
    "for data, endpoint_type in zip([exploded_go_data, exploded_fp_data], [\"go\", \"fp\"]):\n",
    "    \n",
    "    # restrict global optima dataframe to two variants\n",
    "    if endpoint_type==\"go\":\n",
    "        rdata = data[data[\"model_name\"].isin(go_models)]\n",
    "    else:\n",
    "        rdata=data\n",
    "\n",
    "    endpoint = \"global opima\" if endpoint_type == \"go\" else \"fixed points\"\n",
    "    \n",
    "    if (analyse_branches) & (endpoint_type==\"fp\"):\n",
    "        endpoint += \" (all branches)\"\n",
    "    \n",
    "    heat_maps_by_weights(re_data = rdata, \n",
    "                     values = \"{}_full_re_state\".format(endpoint_type), \n",
    "                     #title = 'Relative share of full RE states among {}'.format(endpoint),\n",
    "                     annot_std = False,\n",
    "                     annot_fmt=\"{:2.2f}\\n\", \n",
    "                     annot_std_fmt = r'$\\pm${:2.3f}',\n",
    "                     vmin=0, vmax=1,\n",
    "                     bootstrap=bootstrap,\n",
    "                     n_resamples=n_resamples)\n",
    "    \n",
    "    \n",
    "    branches = \"pp\" if analyse_branches else \"rp\"\n",
    "        \n",
    "    if export_results:\n",
    "        plt.savefig(path.join(figures_output_dir, 'hm_rel_{}_full_re_{}.png'.format(endpoint_type, branches)), bbox_inches='tight')\n",
    "        plt.savefig(path.join(figures_output_dir, 'hm_rel_{}_full_re_{}.pdf'.format(endpoint_type, branches)), bbox_inches='tight')\n",
    "        \n",
    "    plt.show()"
   ]
  },
  {
   "cell_type": "code",
   "execution_count": null,
   "id": "80340e7c",
   "metadata": {},
   "outputs": [],
   "source": []
  }
 ],
 "metadata": {
  "kernelspec": {
   "display_name": "Python 3 (ipykernel)",
   "language": "python",
   "name": "python3"
  },
  "language_info": {
   "codemirror_mode": {
    "name": "ipython",
    "version": 3
   },
   "file_extension": ".py",
   "mimetype": "text/x-python",
   "name": "python",
   "nbconvert_exporter": "python",
   "pygments_lexer": "ipython3",
   "version": "3.9.7"
  }
 },
 "nbformat": 4,
 "nbformat_minor": 5
}
