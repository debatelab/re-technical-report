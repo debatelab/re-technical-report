{
 "cells": [
  {
   "cell_type": "markdown",
   "id": "cb5aaf77",
   "metadata": {},
   "source": [
    "# Data Generation for \"Technical Report - Assessing a Formal Model of Reflective Equilibrium\""
   ]
  },
  {
   "cell_type": "code",
   "execution_count": 1,
   "id": "721fd3ef",
   "metadata": {},
   "outputs": [],
   "source": [
    "# imports \n",
    "\n",
    "from rethon import GlobalREEnsembleGenerator, ReflectiveEquilibrium, REState, StandardGlobalReflectiveEquilibrium\n",
    "from rethon.util import standard_model_params_varied_alphas\n",
    "from tau.util import create_random_argument_list, tau_dump,tau_load, random_positions\n",
    "\n",
    "from tau import (\n",
    "    StandardPosition, \n",
    "    DAGDialecticalStructure, \n",
    "    DialecticalStructure, \n",
    "    BitarrayPosition, \n",
    "    BDDDialecticalStructure\n",
    ")\n",
    "from tau.util import inferential_density\n",
    "\n",
    "from os import getcwd, path\n",
    "from pathlib import Path\n",
    "\n",
    "from typing import List\n",
    "\n",
    "import pandas as pd\n",
    "from pandas import Series\n",
    "\n",
    "from ast import literal_eval\n",
    "import tarfile\n",
    "\n",
    "from math import floor\n",
    "from datetime import datetime"
   ]
  },
  {
   "cell_type": "code",
   "execution_count": 2,
   "id": "a25ffd76",
   "metadata": {},
   "outputs": [
    {
     "name": "stdout",
     "output_type": "stream",
     "text": [
      "/home/sebastian/Nextcloud/Documents/mindmaps/events/projekte/re/reflective-equilibrium/github-repository/re-technical-report/data\n"
     ]
    }
   ],
   "source": [
    "# relative path to data directory\n",
    "data_dir = path.join(Path(getcwd()).parent.absolute(), \"data\")\n",
    "print(data_dir)\n",
    "#output_directory = path.join(path.dirname(getcwd()), \"data\")"
   ]
  },
  {
   "cell_type": "markdown",
   "id": "a5197a4f-262f-4687-85ae-a7ff64748499",
   "metadata": {},
   "source": [
    "## Creating dialectical structures and initial commitments"
   ]
  },
  {
   "cell_type": "code",
   "execution_count": 3,
   "id": "7ab6e227-e5e7-431a-8965-b2ba85f7723b",
   "metadata": {},
   "outputs": [],
   "source": [
    "# All relevant parameters for generating the data set\n",
    "\n",
    "### Dialectical structures\n",
    "sentence_pool_sizes = [6,7,8,9]\n",
    "n_tau_per_sentence_pool = 2\n",
    "max_n_premises = 1\n",
    "### Initial commitments\n",
    "# number of initial commitment (for each sentence pool)\n",
    "n_init_coms = 2\n",
    "\n",
    "\n",
    "\n",
    "# TEST SET\n",
    "sentence_pool_sizes = [6,7]\n",
    "n_tau_per_sentence_pool = 4\n",
    "max_n_premises = 1\n",
    "### Initial commitments\n",
    "# number of initial commitment (for each sentence pool)\n",
    "n_init_coms = 10\n",
    "\n",
    "data_set_name = f\"re_data_{datetime.now().strftime('%Y%m%d')}\"\n"
   ]
  },
  {
   "cell_type": "code",
   "execution_count": 4,
   "id": "5a29b1d9-735b-46b1-8d0c-718ea82f005e",
   "metadata": {},
   "outputs": [
    {
     "name": "stdout",
     "output_type": "stream",
     "text": [
      "{'re_data_20231108_tau_01': <tau.core.BDDDialecticalStructure object at 0x7ff04a032fa0>, 're_data_20231108_tau_02': <tau.core.BDDDialecticalStructure object at 0x7ff04853aa30>, 're_data_20231108_tau_03': <tau.core.BDDDialecticalStructure object at 0x7ff0486857f0>, 're_data_20231108_tau_04': <tau.core.BDDDialecticalStructure object at 0x7ff04853f9a0>, 're_data_20231108_tau_05': <tau.core.BDDDialecticalStructure object at 0x7ff04853f250>, 're_data_20231108_tau_06': <tau.core.BDDDialecticalStructure object at 0x7ff04853adf0>, 're_data_20231108_tau_07': <tau.core.BDDDialecticalStructure object at 0x7ff04853f460>, 're_data_20231108_tau_08': <tau.core.BDDDialecticalStructure object at 0x7ff0484d95e0>}\n"
     ]
    }
   ],
   "source": [
    "# creation of random dialectical structures\n",
    "tau_dict = {}\n",
    "i = 1\n",
    "for n_sentences in sentence_pool_sizes:\n",
    "    # just for keeping track\n",
    "    args_list = []\n",
    "    while len(args_list) < n_tau_per_sentence_pool:\n",
    "\n",
    "        arguments = create_random_argument_list(n_arguments_min=n_sentences-2, \n",
    "                                                n_arguments_max=n_sentences+1,\n",
    "                                                n_sentences=n_sentences, \n",
    "                                                n_premises_max=max_n_premises)\n",
    "        \n",
    "        tau = BDDDialecticalStructure(n_sentences, arguments)\n",
    "\n",
    "        # used sentences\n",
    "        used_sentences = set(abs(s) for arg in arguments for s in arg)\n",
    "        # check inferential density and usage of all sentences\n",
    "        if (0.15<=inferential_density(tau)<=0.5) and (len(used_sentences)==n_sentences):           \n",
    "            tau_name = f'{data_set_name}_tau_{i:02d}'\n",
    "            tau.set_name(tau_name)\n",
    "            tau_dict[tau_name]= tau\n",
    "            args_list.append(arguments)\n",
    "            #print(arguments)\n",
    "            i+=1\n",
    "\n",
    "print(tau_dict)"
   ]
  },
  {
   "cell_type": "code",
   "execution_count": 5,
   "id": "12dd7786-8ff7-440c-bff3-8fd4ecfe7410",
   "metadata": {},
   "outputs": [
    {
     "name": "stdout",
     "output_type": "stream",
     "text": [
      "Saving data set re_data_20231108 into /home/sebastian/Nextcloud/Documents/mindmaps/events/projekte/re/reflective-equilibrium/github-repository/re-technical-report/data/re_data_20231108_taus.json.\n"
     ]
    }
   ],
   "source": [
    "# saving dialectical structure as json file\n",
    "overwrite = True\n",
    "output_file_path = path.join(data_dir, f'{data_set_name}_taus.json')\n",
    "if path.exists(output_file_path) and not overwrite:\n",
    "    raise RuntimeError(f'Datafile {output_file_path} already exists. Remove file or set `overwrite` to true.')\n",
    "print(f'Saving data set {data_set_name} into {output_file_path}.')\n",
    "with open(file=output_file_path, mode='w') as output_file:\n",
    "    tau_dump(tau_dict, output_file, indent=4, serialize_implementation=True)"
   ]
  },
  {
   "cell_type": "code",
   "execution_count": 6,
   "id": "db032400-bf2b-4e34-bbce-9b4e31dbcb7e",
   "metadata": {},
   "outputs": [
    {
     "name": "stdout",
     "output_type": "stream",
     "text": [
      "{6: [{1, 2, 3, 5, -6}, {3, 4, -1, -2}, {1, 3, 5, -6, -2}, {1, 5, -6, -3, -2}, {2, 5, -6, -4, -1}, {2, 5, 4, -3}, {1, -2, 6}, {2, 3, 6, -5, -1}, {1, 2, 3, -5}, {1, -5, 4}], 7: [{3, 7, -2, -6, -5, -1}, {5, -7, -6, -3, -1}, {2, -7, -6, -4, -3}, {2, -6, -5, -4, -1}, {1, 6, 7, -5, -4}, {5, 4, -3, 7}, {1, -5, -4, -7}, {5, -1, 6}, {-7, -3, -1, 6}, {1, 3, -2, 6}]}\n"
     ]
    }
   ],
   "source": [
    "# generating random initials commitments\n",
    "# for each sentence pool we generate `n_init_coms` initial commitments\n",
    "\n",
    "init_coms_dict = {n_sentence_pool: \n",
    "                  random_positions(n_sentences=n_sentence_pool, k=n_init_coms) for \n",
    "                  n_sentence_pool in sentence_pool_sizes}\n",
    "\n",
    "print(init_coms_dict) \n"
   ]
  },
  {
   "cell_type": "code",
   "execution_count": 7,
   "id": "664a21ae-8805-4ee3-be5e-3ebf469d619d",
   "metadata": {},
   "outputs": [
    {
     "name": "stdout",
     "output_type": "stream",
     "text": [
      "Saving data set re_data_20231108 into /home/sebastian/Nextcloud/Documents/mindmaps/events/projekte/re/reflective-equilibrium/github-repository/re-technical-report/data/re_data_20231108_coms.json.\n"
     ]
    }
   ],
   "source": [
    "# serializing into a JSON file\n",
    "output_file_path = path.join(data_dir, f'{data_set_name}_coms.json')\n",
    "if path.exists(output_file_path) and not overwrite:\n",
    "    raise RuntimeError(f'Datafile {output_file_path} already exists. Remove file or set over_write to true.')\n",
    "print(f'Saving data set {data_set_name} into {output_file_path}.')\n",
    "\n",
    "with open(file=output_file_path, mode='w') as output_file:\n",
    "    tau_dump(init_coms_dict, output_file, indent=4, serialize_implementation=True)"
   ]
  },
  {
   "cell_type": "markdown",
   "id": "bd8c1db2-3026-485d-ae3f-41c5dd9a418e",
   "metadata": {
    "tags": []
   },
   "source": [
    "## RE ensemble runs"
   ]
  },
  {
   "cell_type": "markdown",
   "id": "1063d397-9bf5-472c-b38c-cfc85c93fbe1",
   "metadata": {},
   "source": [
    "### Loading data"
   ]
  },
  {
   "cell_type": "code",
   "execution_count": 3,
   "id": "0a45010e-26f2-495e-bd7a-cc71b04d0e80",
   "metadata": {},
   "outputs": [
    {
     "name": "stdout",
     "output_type": "stream",
     "text": [
      "Loading taus from: /home/sebastian/Nextcloud/Documents/mindmaps/events/projekte/re/reflective-equilibrium/github-repository/re-technical-report/data/re_data_20231108_taus.json\n",
      "Number of taus in file: 8\n",
      "Sentence pools: {6, 7}\n"
     ]
    }
   ],
   "source": [
    "## load dialectical structures\n",
    "data_set_name = 're_data_20231108'\n",
    "tau_file_path = path.join(data_dir, f'{data_set_name}_taus.json')\n",
    "\n",
    "print(f'Loading taus from: {tau_file_path}')\n",
    "input_file_path = tau_file_path\n",
    "with open(file=input_file_path, mode='r') as input_file:\n",
    "    tau_dict = tau_load(input_file, use_json_specified_type=True)\n",
    "s_pools = {tau.sentence_pool().size() for tau in tau_dict.values()}\n",
    "# we create equivalence classes of dialectical structures according to sentence pool size\n",
    "taus_by_n = {n_sentence_pool:[] for n_sentence_pool in s_pools}\n",
    "for tau in tau_dict.values():\n",
    "    taus_by_n[tau.sentence_pool().size()].append(tau)\n",
    "\n",
    "print(f'Number of taus in file: {len(tau_dict.values())}')\n",
    "print(f'Sentence pools: {s_pools}')\n",
    "#print(f'Tau names (keys): {list(tau_dict.keys())}')\n",
    "#print(taus_by_n)"
   ]
  },
  {
   "cell_type": "code",
   "execution_count": 4,
   "id": "7999bf99-a0bc-4da6-86de-c74d8dcee35f",
   "metadata": {},
   "outputs": [
    {
     "name": "stdout",
     "output_type": "stream",
     "text": [
      "Loading init coms from: /home/sebastian/Nextcloud/Documents/mindmaps/events/projekte/re/reflective-equilibrium/github-repository/re-technical-report/data/re_data_20231108_coms.json\n",
      "{'6': [[1, 2, 3, 5, -6], [3, 4, -1, -2], [1, 3, 5, -6, -2], [1, 5, -6, -3, -2], [2, 5, -6, -4, -1], [2, 5, 4, -3], [1, -2, 6], [2, 3, 6, -5, -1], [1, 2, 3, -5], [1, -5, 4]], '7': [[3, 7, -2, -6, -5, -1], [5, -7, -6, -3, -1], [2, -7, -6, -4, -3], [2, -6, -5, -4, -1], [1, 6, 7, -5, -4], [5, 4, -3, 7], [1, -5, -4, -7], [5, -1, 6], [-7, -3, -1, 6], [1, 3, -2, 6]]}\n"
     ]
    }
   ],
   "source": [
    "# loading initial commitments\n",
    "coms_file_path = path.join(data_dir, f'{data_set_name}_coms.json')\n",
    "\n",
    "print(f'Loading init coms from: {coms_file_path}')\n",
    "input_file_path = coms_file_path\n",
    "with open(file=input_file_path, mode='r') as input_file:\n",
    "    coms_dict = tau_load(input_file)\n",
    "print(coms_dict)"
   ]
  },
  {
   "cell_type": "markdown",
   "id": "11356c37-ad53-4c3d-b189-e124dbb792a8",
   "metadata": {},
   "source": [
    "### Process parameters and used models"
   ]
  },
  {
   "cell_type": "code",
   "execution_count": 5,
   "id": "d68d0677",
   "metadata": {},
   "outputs": [],
   "source": [
    "# \n",
    "# data_set_name = 're_data_20231105'\n",
    "output_file_name = f'{data_set_name}_process_results.csv'\n",
    "\n",
    "# RE process parameters\n",
    "track_branches = True\n",
    "\n",
    "# RE weights\n",
    "model_parameters_list = []\n",
    "\n",
    "# weight resolution: 0.10\n",
    "#for model_parameters in standard_model_params_varied_alphas(9):\n",
    "# testing \n",
    "for model_parameters in standard_model_params_varied_alphas(3):\n",
    "    # ToDo: Discuss with Andreas\n",
    "    # rounding\n",
    "    for weight_name in model_parameters[\"weights\"].keys():\n",
    "    \n",
    "        model_parameters[\"weights\"][weight_name] = round(model_parameters[\"weights\"][weight_name],2)\n",
    "        \n",
    "    model_parameters_list.append(model_parameters)\n",
    "\n",
    "#model_parameters_list\n",
    "\n",
    "# model variants\n",
    "\n",
    "implementations = [# globally searching algorithm with quadratic G-function \n",
    "                   {'tau_module_name': 'tau',\n",
    "                    'position_class_name':'StandardPosition',\n",
    "                    'dialectical_structure_class_name': 'DAGDialecticalStructure',\n",
    "                    'reflective_equilibrium_module_name': 'rethon',\n",
    "                    'reflective_equilibrium_class_name': 'StandardGlobalReflectiveEquilibrium'},\n",
    "                   # globally searching algorithm with linear G-function\n",
    "                   {'tau_module_name': 'tau',\n",
    "                    'position_class_name':'StandardPosition',\n",
    "                    'dialectical_structure_class_name': 'DAGDialecticalStructure',\n",
    "                    'reflective_equilibrium_module_name': 'rethon',\n",
    "                    'reflective_equilibrium_class_name': 'StandardGlobalReflectiveEquilibriumLinearG'},\n",
    "                   # locally searching algorithm with quadratic G-function \n",
    "                   {'tau_module_name': 'tau',\n",
    "                    'position_class_name':'StandardPosition',\n",
    "                    'dialectical_structure_class_name': 'BDDDialecticalStructure',\n",
    "                    'reflective_equilibrium_module_name': 'rethon',\n",
    "                    'reflective_equilibrium_class_name': 'StandardLocalReflectiveEquilibriumWithGO'},\n",
    "                   # locally searching algorithm with linear G-function \n",
    "                   {'tau_module_name': 'tau',\n",
    "                    'position_class_name':'StandardPosition',\n",
    "                    'dialectical_structure_class_name': 'BDDDialecticalStructure',\n",
    "                    'reflective_equilibrium_module_name': 'rethon',\n",
    "                    'reflective_equilibrium_class_name': 'StandardLocalReflectiveEquilibriumLinearGWithGO'},\n",
    "                   ]\n"
   ]
  },
  {
   "cell_type": "code",
   "execution_count": 6,
   "id": "ffa1493b-06b5-48e4-8353-fbf53b72b89d",
   "metadata": {},
   "outputs": [],
   "source": [
    "# ToDiscuss: I guess we only need a custom generator if we want to vary/save parameters from the LocalREModel (like search depth)\n",
    "\n",
    "class CustomEnsembleGenerator(GlobalREEnsembleGenerator):\n",
    "    pass"
   ]
  },
  {
   "cell_type": "markdown",
   "id": "6a4a749e-725e-4106-a18f-0ead5e0de0b2",
   "metadata": {},
   "source": [
    "### Running ensembles and saving results"
   ]
  },
  {
   "cell_type": "code",
   "execution_count": 7,
   "id": "a4ddbd16",
   "metadata": {
    "tags": []
   },
   "outputs": [
    {
     "name": "stdout",
     "output_type": "stream",
     "text": [
      "[[1, 2, 3, 5, -6], [3, 4, -1, -2], [1, 3, 5, -6, -2], [1, 5, -6, -3, -2], [2, 5, -6, -4, -1], [2, 5, 4, -3], [1, -2, 6], [2, 3, 6, -5, -1], [1, 2, 3, -5], [1, -5, 4]]\n",
      "2023-11-08 10:08:47,397 [INFO] rethon: Starting ensemble generation with 480 models runs (without branches)\n",
      "[[3, 7, -2, -6, -5, -1], [5, -7, -6, -3, -1], [2, -7, -6, -4, -3], [2, -6, -5, -4, -1], [1, 6, 7, -5, -4], [5, 4, -3, 7], [1, -5, -4, -7], [5, -1, 6], [-7, -3, -1, 6], [1, 3, -2, 6]]\n",
      "2023-11-08 10:11:48,317 [INFO] rethon: Starting ensemble generation with 480 models runs (without branches)\n"
     ]
    }
   ],
   "source": [
    "\n",
    "for n_sentences in s_pools:\n",
    "    \n",
    "    # dialectical structures in inferential density range\n",
    "    arguments_list = [tau.get_arguments() for tau in taus_by_n[n_sentences]]\n",
    "    coms_list = coms_dict[str(n_sentences)]\n",
    "    print(coms_list)\n",
    "\n",
    "    ensemble_gen = CustomEnsembleGenerator(arguments_list = arguments_list, \n",
    "                                           n_sentence_pool = n_sentences,\n",
    "                                           initial_commitments_list = coms_list,\n",
    "                                           model_parameters_list = model_parameters_list,\n",
    "                                           implementations = implementations,\n",
    "                                           create_branches = track_branches,\n",
    "                                           max_branches = 150)\n",
    "\n",
    "\n",
    "    ensemble_gen.ensemble_items_to_csv(\n",
    "                                  output_file_name = output_file_name,\n",
    "                                  output_dir_name =  data_dir,\n",
    "                                  archive = True, # save the csv as archived tar.gz\n",
    "                                  save_preliminary_results = True, # will create preliminary csv-data sets \n",
    "                                  preliminary_results_interval = 100,\n",
    "                                  append=True)"
   ]
  },
  {
   "cell_type": "code",
   "execution_count": null,
   "id": "d27e1b03",
   "metadata": {},
   "outputs": [],
   "source": []
  }
 ],
 "metadata": {
  "kernelspec": {
   "display_name": "py39",
   "language": "python",
   "name": "py39"
  },
  "language_info": {
   "codemirror_mode": {
    "name": "ipython",
    "version": 3
   },
   "file_extension": ".py",
   "mimetype": "text/x-python",
   "name": "python",
   "nbconvert_exporter": "python",
   "pygments_lexer": "ipython3",
   "version": "3.9.16"
  }
 },
 "nbformat": 4,
 "nbformat_minor": 5
}
