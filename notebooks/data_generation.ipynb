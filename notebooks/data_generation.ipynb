{
 "cells": [
  {
   "cell_type": "markdown",
   "id": "cb5aaf77",
   "metadata": {},
   "source": [
    "# Data Generation for \"Technical Report - Assessing a Formal Model of Reflective Equilibrium\""
   ]
  },
  {
   "cell_type": "code",
   "execution_count": 10,
   "id": "721fd3ef",
   "metadata": {
    "tags": []
   },
   "outputs": [],
   "source": [
    "# imports \n",
    "\n",
    "# to do: remove not needed imports \n",
    "from rethon import GlobalREEnsembleGenerator, ReflectiveEquilibrium, REState, StandardGlobalReflectiveEquilibrium\n",
    "from rethon.util import standard_model_params_varied_alphas\n",
    "from tau.util import create_random_argument_list, tau_dump,tau_load, random_positions\n",
    "\n",
    "from tau import (\n",
    "    StandardPosition, \n",
    "    DAGDialecticalStructure, \n",
    "    DialecticalStructure, \n",
    "    BitarrayPosition, \n",
    "    BDDDialecticalStructure\n",
    ")\n",
    "from tau.util import inferential_density\n",
    "\n",
    "from os import getcwd, path\n",
    "from pathlib import Path\n",
    "\n",
    "from typing import List\n",
    "\n",
    "import pandas as pd\n",
    "from pandas import Series\n",
    "\n",
    "from ast import literal_eval\n",
    "import tarfile\n",
    "\n",
    "from math import floor\n",
    "from datetime import datetime\n",
    "\n",
    "from model_variations import *"
   ]
  },
  {
   "cell_type": "code",
   "execution_count": 11,
   "id": "a25ffd76",
   "metadata": {},
   "outputs": [
    {
     "name": "stdout",
     "output_type": "stream",
     "text": [
      "/home/sebastian/Nextcloud/Documents/mindmaps/events/projekte/re/reflective-equilibrium/github-repository/re-technical-report/data\n"
     ]
    }
   ],
   "source": [
    "# relative path to data directory\n",
    "data_dir = path.join(Path(getcwd()).parent.absolute(), \"data\")\n",
    "print(data_dir)\n",
    "#output_directory = path.join(path.dirname(getcwd()), \"data\")"
   ]
  },
  {
   "cell_type": "code",
   "execution_count": 4,
   "id": "da92ce26-79eb-4c9b-a70a-35e217b3596c",
   "metadata": {},
   "outputs": [
    {
     "data": {
      "text/plain": [
       "[{'tau_module_name': 'tau',\n",
       "  'position_class_name': 'StandardPosition',\n",
       "  'dialectical_structure_class_name': 'DAGDialecticalStructure',\n",
       "  'reflective_equilibrium_module_name': 'rethon',\n",
       "  'reflective_equilibrium_class_name': 'StandardGlobalReflectiveEquilibrium'},\n",
       " {'tau_module_name': 'tau',\n",
       "  'position_class_name': 'StandardPosition',\n",
       "  'dialectical_structure_class_name': 'DAGDialecticalStructure',\n",
       "  'reflective_equilibrium_module_name': 'model_variations',\n",
       "  'reflective_equilibrium_class_name': 'StandardGlobalReflectiveEquilibriumLinearG'},\n",
       " {'tau_module_name': 'tau',\n",
       "  'position_class_name': 'StandardPosition',\n",
       "  'dialectical_structure_class_name': 'BDDDialecticalStructure',\n",
       "  'reflective_equilibrium_module_name': 'model_variations',\n",
       "  'reflective_equilibrium_class_name': 'StandardLocalReflectiveEquilibriumWithGO'},\n",
       " {'tau_module_name': 'tau',\n",
       "  'position_class_name': 'StandardPosition',\n",
       "  'dialectical_structure_class_name': 'BDDDialecticalStructure',\n",
       "  'reflective_equilibrium_module_name': 'model_variations',\n",
       "  'reflective_equilibrium_class_name': 'StandardLocalReflectiveEquilibriumLinearGWithGO'}]"
      ]
     },
     "execution_count": 4,
     "metadata": {},
     "output_type": "execute_result"
    }
   ],
   "source": [
    "\n",
    "\n",
    "implementations = {# globally searching algorithm with quadratic G-function \n",
    "                   'QGRE':\n",
    "                   {'tau_module_name': 'tau',\n",
    "                    'position_class_name':'StandardPosition',\n",
    "                    'dialectical_structure_class_name': 'DAGDialecticalStructure',\n",
    "                    'reflective_equilibrium_module_name': 'rethon',\n",
    "                    'reflective_equilibrium_class_name': 'StandardGlobalReflectiveEquilibrium'},\n",
    "                   # globally searching algorithm with linear G-function\n",
    "                   'LGRE':\n",
    "                   {'tau_module_name': 'tau',\n",
    "                    'position_class_name':'StandardPosition',\n",
    "                    'dialectical_structure_class_name': 'DAGDialecticalStructure',\n",
    "                    'reflective_equilibrium_module_name': 'model_variations',\n",
    "                    'reflective_equilibrium_class_name': 'StandardGlobalReflectiveEquilibriumLinearG'},\n",
    "                   # locally searching algorithm with quadratic G-function \n",
    "                   'QLRE':\n",
    "                   {'tau_module_name': 'tau',\n",
    "                    'position_class_name':'StandardPosition',\n",
    "                    'dialectical_structure_class_name': 'BDDDialecticalStructure',\n",
    "                    'reflective_equilibrium_module_name': 'model_variations',\n",
    "                    'reflective_equilibrium_class_name': 'StandardLocalReflectiveEquilibriumWithGO'},\n",
    "                   # locally searching algorithm with linear G-function \n",
    "                   'LLRE':\n",
    "                   {'tau_module_name': 'tau',\n",
    "                    'position_class_name':'StandardPosition',\n",
    "                    'dialectical_structure_class_name': 'BDDDialecticalStructure',\n",
    "                    'reflective_equilibrium_module_name': 'model_variations',\n",
    "                    'reflective_equilibrium_class_name': 'StandardLocalReflectiveEquilibriumLinearGWithGO'},\n",
    "                    }\n",
    "list(implementations.values())"
   ]
  },
  {
   "cell_type": "markdown",
   "id": "a5197a4f-262f-4687-85ae-a7ff64748499",
   "metadata": {},
   "source": [
    "## Creating dialectical structures and initial commitments"
   ]
  },
  {
   "cell_type": "code",
   "execution_count": 20,
   "id": "7ab6e227-e5e7-431a-8965-b2ba85f7723b",
   "metadata": {},
   "outputs": [],
   "source": [
    "# All relevant parameters for generating the data set\n",
    "\n",
    "#### BETA SET (TEST SET) ##### \n",
    "sentence_pool_sizes = [6,7]\n",
    "n_tau_per_sentence_pool = 2\n",
    "max_n_premises = 1\n",
    "# number of initial commitment (for each sentence pool)\n",
    "n_init_coms = 3\n",
    "tau_data_set_name = \"tau_beta\"\n",
    "coms_data_set_name = \"coms_beta\"\n",
    "\n"
   ]
  },
  {
   "cell_type": "code",
   "execution_count": 2,
   "id": "de0da926-8798-420b-979b-89357f535947",
   "metadata": {},
   "outputs": [],
   "source": [
    "sentence_pool_sizes = [6,7,8,9]\n",
    "#### ALPHA SET #####\n",
    "# mean n premises = 1.5\n",
    "n_tau_per_sentence_pool = 20 # i.e., 80 structures in sum\n",
    "max_n_premises = 2 # 1-2 premises per argument\n",
    "# number of initial commitment (for each sentence pool)\n",
    "n_init_coms = 20\n",
    "#tau_data_set_name = \"tau_alpha\"\n",
    "#coms_data_set_name = \"coms_alpha\"\n",
    "#data_set_name = f\"re_data_{datetime.now().strftime('%Y%m%d')}\"\n"
   ]
  },
  {
   "cell_type": "code",
   "execution_count": 3,
   "id": "248350f6-f837-4358-a049-158effbb0c43",
   "metadata": {},
   "outputs": [],
   "source": [
    "sentence_pool_sizes = [6,7,8,9]\n",
    "#### ALPHA SET #####\n",
    "weights_list = [[1,0], # mean n_premises = 1\n",
    "                 [3,1], # mean n_premises = 1.25\n",
    "                 [1,1], # mean n_premises = 1.5\n",
    "                 [1,3], # mean n_premises = 1.75\n",
    "                 [0,1] # mean n_premises = 2\n",
    "                ]\n",
    "                  \n",
    "n_tau_per_sentence_pool = 10 # 10 taus for each sentence pool and each weight combination (i.e., 200 structures in sum)\n",
    "max_n_premises = 2 # 1-2 premises per argument\n",
    "# number of initial commitment (for each sentence pool)\n",
    "n_init_coms = 20\n",
    "#tau_data_set_name = \"tau_alpha\"\n",
    "#coms_data_set_name = \"coms_alpha\"\n",
    "#data_set_name = f\"re_data_{datetime.now().strftime('%Y%m%d')}\"\n"
   ]
  },
  {
   "cell_type": "code",
   "execution_count": 13,
   "id": "5a29b1d9-735b-46b1-8d0c-718ea82f005e",
   "metadata": {
    "collapsed": true,
    "jupyter": {
     "outputs_hidden": true
    },
    "tags": []
   },
   "outputs": [
    {
     "name": "stdout",
     "output_type": "stream",
     "text": [
      "{'tau_alpha_001': <tau.core.BDDDialecticalStructure object at 0x7fa2d3f4b580>, 'tau_alpha_002': <tau.core.BDDDialecticalStructure object at 0x7fa2d3f630a0>, 'tau_alpha_003': <tau.core.BDDDialecticalStructure object at 0x7fa2d3f4bf40>, 'tau_alpha_004': <tau.core.BDDDialecticalStructure object at 0x7fa2d3ff6850>, 'tau_alpha_005': <tau.core.BDDDialecticalStructure object at 0x7fa2d3f4b490>, 'tau_alpha_006': <tau.core.BDDDialecticalStructure object at 0x7fa2d3ff60d0>, 'tau_alpha_007': <tau.core.BDDDialecticalStructure object at 0x7fa2d4b835e0>, 'tau_alpha_008': <tau.core.BDDDialecticalStructure object at 0x7fa2d4b8ad00>, 'tau_alpha_009': <tau.core.BDDDialecticalStructure object at 0x7fa2d3f4b2e0>, 'tau_alpha_010': <tau.core.BDDDialecticalStructure object at 0x7fa2d4e27070>, 'tau_alpha_011': <tau.core.BDDDialecticalStructure object at 0x7fa2d3f4b430>, 'tau_alpha_012': <tau.core.BDDDialecticalStructure object at 0x7fa2d6d45a90>, 'tau_alpha_013': <tau.core.BDDDialecticalStructure object at 0x7fa2d3f4b520>, 'tau_alpha_014': <tau.core.BDDDialecticalStructure object at 0x7fa2d6d453d0>, 'tau_alpha_015': <tau.core.BDDDialecticalStructure object at 0x7fa2d4ad10a0>, 'tau_alpha_016': <tau.core.BDDDialecticalStructure object at 0x7fa3144711f0>, 'tau_alpha_017': <tau.core.BDDDialecticalStructure object at 0x7fa2d4ee78b0>, 'tau_alpha_018': <tau.core.BDDDialecticalStructure object at 0x7fa314471c10>, 'tau_alpha_019': <tau.core.BDDDialecticalStructure object at 0x7fa2d4ee70d0>, 'tau_alpha_020': <tau.core.BDDDialecticalStructure object at 0x7fa2d3f4b0a0>, 'tau_alpha_021': <tau.core.BDDDialecticalStructure object at 0x7fa2d4e1bd60>, 'tau_alpha_022': <tau.core.BDDDialecticalStructure object at 0x7fa2d4ddc940>, 'tau_alpha_023': <tau.core.BDDDialecticalStructure object at 0x7fa2d6d473d0>, 'tau_alpha_024': <tau.core.BDDDialecticalStructure object at 0x7fa2d4e21640>, 'tau_alpha_025': <tau.core.BDDDialecticalStructure object at 0x7fa2d4e21be0>, 'tau_alpha_026': <tau.core.BDDDialecticalStructure object at 0x7fa31446cee0>, 'tau_alpha_027': <tau.core.BDDDialecticalStructure object at 0x7fa2d4e21c10>, 'tau_alpha_028': <tau.core.BDDDialecticalStructure object at 0x7fa2d4e98070>, 'tau_alpha_029': <tau.core.BDDDialecticalStructure object at 0x7fa2d4ec3550>, 'tau_alpha_030': <tau.core.BDDDialecticalStructure object at 0x7fa2d4e98b20>, 'tau_alpha_031': <tau.core.BDDDialecticalStructure object at 0x7fa2d4f33850>, 'tau_alpha_032': <tau.core.BDDDialecticalStructure object at 0x7fa2d4a62640>, 'tau_alpha_033': <tau.core.BDDDialecticalStructure object at 0x7fa2d4f33dc0>, 'tau_alpha_034': <tau.core.BDDDialecticalStructure object at 0x7fa2d4ec3940>, 'tau_alpha_035': <tau.core.BDDDialecticalStructure object at 0x7fa2d4b3a580>, 'tau_alpha_036': <tau.core.BDDDialecticalStructure object at 0x7fa2d4a44460>, 'tau_alpha_037': <tau.core.BDDDialecticalStructure object at 0x7fa2d4e21a90>, 'tau_alpha_038': <tau.core.BDDDialecticalStructure object at 0x7fa2d4c34fa0>, 'tau_alpha_039': <tau.core.BDDDialecticalStructure object at 0x7fa2d4eec100>, 'tau_alpha_040': <tau.core.BDDDialecticalStructure object at 0x7fa2d4b26a90>, 'tau_alpha_041': <tau.core.BDDDialecticalStructure object at 0x7fa3174e1dc0>, 'tau_alpha_042': <tau.core.BDDDialecticalStructure object at 0x7fa2d4a96a30>, 'tau_alpha_043': <tau.core.BDDDialecticalStructure object at 0x7fa2d4e216a0>, 'tau_alpha_044': <tau.core.BDDDialecticalStructure object at 0x7fa2d4bf4940>, 'tau_alpha_045': <tau.core.BDDDialecticalStructure object at 0x7fa2d4fb07c0>, 'tau_alpha_046': <tau.core.BDDDialecticalStructure object at 0x7fa2d4f33e80>, 'tau_alpha_047': <tau.core.BDDDialecticalStructure object at 0x7fa2d4ab96d0>, 'tau_alpha_048': <tau.core.BDDDialecticalStructure object at 0x7fa2d4ac1c40>, 'tau_alpha_049': <tau.core.BDDDialecticalStructure object at 0x7fa2d4b360d0>, 'tau_alpha_050': <tau.core.BDDDialecticalStructure object at 0x7fa2d4aaea30>, 'tau_alpha_051': <tau.core.BDDDialecticalStructure object at 0x7fa2d4ba1400>, 'tau_alpha_052': <tau.core.BDDDialecticalStructure object at 0x7fa2d4a67910>, 'tau_alpha_053': <tau.core.BDDDialecticalStructure object at 0x7fa2d4dfefd0>, 'tau_alpha_054': <tau.core.BDDDialecticalStructure object at 0x7fa2d4a1fee0>, 'tau_alpha_055': <tau.core.BDDDialecticalStructure object at 0x7fa2d4b36640>, 'tau_alpha_056': <tau.core.BDDDialecticalStructure object at 0x7fa2d4e21d30>, 'tau_alpha_057': <tau.core.BDDDialecticalStructure object at 0x7fa2d4c2ef70>, 'tau_alpha_058': <tau.core.BDDDialecticalStructure object at 0x7fa2d4addfd0>, 'tau_alpha_059': <tau.core.BDDDialecticalStructure object at 0x7fa2d4e164f0>, 'tau_alpha_060': <tau.core.BDDDialecticalStructure object at 0x7fa2d4e161c0>, 'tau_alpha_061': <tau.core.BDDDialecticalStructure object at 0x7fa2d4b09730>, 'tau_alpha_062': <tau.core.BDDDialecticalStructure object at 0x7fa2d4fe7e80>, 'tau_alpha_063': <tau.core.BDDDialecticalStructure object at 0x7fa2d4b21af0>, 'tau_alpha_064': <tau.core.BDDDialecticalStructure object at 0x7fa2d4ee7070>, 'tau_alpha_065': <tau.core.BDDDialecticalStructure object at 0x7fa2d4f33af0>, 'tau_alpha_066': <tau.core.BDDDialecticalStructure object at 0x7fa2d4c67250>, 'tau_alpha_067': <tau.core.BDDDialecticalStructure object at 0x7fa2d4b79e80>, 'tau_alpha_068': <tau.core.BDDDialecticalStructure object at 0x7fa2d4d511f0>, 'tau_alpha_069': <tau.core.BDDDialecticalStructure object at 0x7fa2d4b7e970>, 'tau_alpha_070': <tau.core.BDDDialecticalStructure object at 0x7fa2d4c3ed90>, 'tau_alpha_071': <tau.core.BDDDialecticalStructure object at 0x7fa2d4b79400>, 'tau_alpha_072': <tau.core.BDDDialecticalStructure object at 0x7fa2d4cbc160>, 'tau_alpha_073': <tau.core.BDDDialecticalStructure object at 0x7fa2d4cbd1c0>, 'tau_alpha_074': <tau.core.BDDDialecticalStructure object at 0x7fa2d4c3fe20>, 'tau_alpha_075': <tau.core.BDDDialecticalStructure object at 0x7fa2d4c3ff70>, 'tau_alpha_076': <tau.core.BDDDialecticalStructure object at 0x7fa2d4c401c0>, 'tau_alpha_077': <tau.core.BDDDialecticalStructure object at 0x7fa2d4c40220>, 'tau_alpha_078': <tau.core.BDDDialecticalStructure object at 0x7fa2d4c40670>, 'tau_alpha_079': <tau.core.BDDDialecticalStructure object at 0x7fa2d4c407c0>, 'tau_alpha_080': <tau.core.BDDDialecticalStructure object at 0x7fa2d4c4cf40>, 'tau_alpha_081': <tau.core.BDDDialecticalStructure object at 0x7fa2d4b79a30>, 'tau_alpha_082': <tau.core.BDDDialecticalStructure object at 0x7fa2d4c5ca00>, 'tau_alpha_083': <tau.core.BDDDialecticalStructure object at 0x7fa2d4c50160>, 'tau_alpha_084': <tau.core.BDDDialecticalStructure object at 0x7fa2d4c4cee0>, 'tau_alpha_085': <tau.core.BDDDialecticalStructure object at 0x7fa2d4c65520>, 'tau_alpha_086': <tau.core.BDDDialecticalStructure object at 0x7fa2d4c221c0>, 'tau_alpha_087': <tau.core.BDDDialecticalStructure object at 0x7fa2d4bfefa0>, 'tau_alpha_088': <tau.core.BDDDialecticalStructure object at 0x7fa2d4bfee20>, 'tau_alpha_089': <tau.core.BDDDialecticalStructure object at 0x7fa2d4bfe1f0>, 'tau_alpha_090': <tau.core.BDDDialecticalStructure object at 0x7fa2d4c654f0>, 'tau_alpha_091': <tau.core.BDDDialecticalStructure object at 0x7fa2d4c65910>, 'tau_alpha_092': <tau.core.BDDDialecticalStructure object at 0x7fa2d4bfe580>, 'tau_alpha_093': <tau.core.BDDDialecticalStructure object at 0x7fa2d4c39bb0>, 'tau_alpha_094': <tau.core.BDDDialecticalStructure object at 0x7fa2d4bad430>, 'tau_alpha_095': <tau.core.BDDDialecticalStructure object at 0x7fa2d4bfee50>, 'tau_alpha_096': <tau.core.BDDDialecticalStructure object at 0x7fa2d4bc5a30>, 'tau_alpha_097': <tau.core.BDDDialecticalStructure object at 0x7fa2d4bc5970>, 'tau_alpha_098': <tau.core.BDDDialecticalStructure object at 0x7fa2d4bc5ac0>, 'tau_alpha_099': <tau.core.BDDDialecticalStructure object at 0x7fa2d4bb6f10>, 'tau_alpha_100': <tau.core.BDDDialecticalStructure object at 0x7fa314471250>, 'tau_alpha_101': <tau.core.BDDDialecticalStructure object at 0x7fa2d4c39c70>, 'tau_alpha_102': <tau.core.BDDDialecticalStructure object at 0x7fa2d4c2e370>, 'tau_alpha_103': <tau.core.BDDDialecticalStructure object at 0x7fa2d4be8ac0>, 'tau_alpha_104': <tau.core.BDDDialecticalStructure object at 0x7fa2d4b5e970>, 'tau_alpha_105': <tau.core.BDDDialecticalStructure object at 0x7fa2d4f33220>, 'tau_alpha_106': <tau.core.BDDDialecticalStructure object at 0x7fa2d4a2be80>, 'tau_alpha_107': <tau.core.BDDDialecticalStructure object at 0x7fa2d4b5e0d0>, 'tau_alpha_108': <tau.core.BDDDialecticalStructure object at 0x7fa2d4b5e5e0>, 'tau_alpha_109': <tau.core.BDDDialecticalStructure object at 0x7fa2d4b5e040>, 'tau_alpha_110': <tau.core.BDDDialecticalStructure object at 0x7fa2d411b610>, 'tau_alpha_111': <tau.core.BDDDialecticalStructure object at 0x7fa2d411bc40>, 'tau_alpha_112': <tau.core.BDDDialecticalStructure object at 0x7fa2d4a2b880>, 'tau_alpha_113': <tau.core.BDDDialecticalStructure object at 0x7fa2d411bf40>, 'tau_alpha_114': <tau.core.BDDDialecticalStructure object at 0x7fa2d4010e80>, 'tau_alpha_115': <tau.core.BDDDialecticalStructure object at 0x7fa2d411bd90>, 'tau_alpha_116': <tau.core.BDDDialecticalStructure object at 0x7fa2d4010820>, 'tau_alpha_117': <tau.core.BDDDialecticalStructure object at 0x7fa2d3ef6040>, 'tau_alpha_118': <tau.core.BDDDialecticalStructure object at 0x7fa2d3ef6f70>, 'tau_alpha_119': <tau.core.BDDDialecticalStructure object at 0x7fa2d3ef67f0>, 'tau_alpha_120': <tau.core.BDDDialecticalStructure object at 0x7fa2d4b2bc70>, 'tau_alpha_121': <tau.core.BDDDialecticalStructure object at 0x7fa2d3e45dc0>, 'tau_alpha_122': <tau.core.BDDDialecticalStructure object at 0x7fa2d3e966d0>, 'tau_alpha_123': <tau.core.BDDDialecticalStructure object at 0x7fa2d3e19a00>, 'tau_alpha_124': <tau.core.BDDDialecticalStructure object at 0x7fa2d3e96d30>, 'tau_alpha_125': <tau.core.BDDDialecticalStructure object at 0x7fa2d4e56430>, 'tau_alpha_126': <tau.core.BDDDialecticalStructure object at 0x7fa2d3e19a60>, 'tau_alpha_127': <tau.core.BDDDialecticalStructure object at 0x7fa2d3ea7f70>, 'tau_alpha_128': <tau.core.BDDDialecticalStructure object at 0x7fa2d3ea7f40>, 'tau_alpha_129': <tau.core.BDDDialecticalStructure object at 0x7fa2d3e19910>, 'tau_alpha_130': <tau.core.BDDDialecticalStructure object at 0x7fa2d3ea7af0>, 'tau_alpha_131': <tau.core.BDDDialecticalStructure object at 0x7fa2d4b31760>, 'tau_alpha_132': <tau.core.BDDDialecticalStructure object at 0x7fa2d41ee7f0>, 'tau_alpha_133': <tau.core.BDDDialecticalStructure object at 0x7fa2d41ee820>, 'tau_alpha_134': <tau.core.BDDDialecticalStructure object at 0x7fa2d41ee970>, 'tau_alpha_135': <tau.core.BDDDialecticalStructure object at 0x7fa2d3ea7c10>, 'tau_alpha_136': <tau.core.BDDDialecticalStructure object at 0x7fa2d41ee220>, 'tau_alpha_137': <tau.core.BDDDialecticalStructure object at 0x7fa2d41fbb50>, 'tau_alpha_138': <tau.core.BDDDialecticalStructure object at 0x7fa2d41fbe50>, 'tau_alpha_139': <tau.core.BDDDialecticalStructure object at 0x7fa2d41fb520>, 'tau_alpha_140': <tau.core.BDDDialecticalStructure object at 0x7fa2d41a9d00>, 'tau_alpha_141': <tau.core.BDDDialecticalStructure object at 0x7fa2d41a9d60>, 'tau_alpha_142': <tau.core.BDDDialecticalStructure object at 0x7fa2d419d670>, 'tau_alpha_143': <tau.core.BDDDialecticalStructure object at 0x7fa2d41a9af0>, 'tau_alpha_144': <tau.core.BDDDialecticalStructure object at 0x7fa2d419df10>, 'tau_alpha_145': <tau.core.BDDDialecticalStructure object at 0x7fa2d406f550>, 'tau_alpha_146': <tau.core.BDDDialecticalStructure object at 0x7fa2d419df70>, 'tau_alpha_147': <tau.core.BDDDialecticalStructure object at 0x7fa2d406fca0>, 'tau_alpha_148': <tau.core.BDDDialecticalStructure object at 0x7fa2d4072610>, 'tau_alpha_149': <tau.core.BDDDialecticalStructure object at 0x7fa2d4072c10>, 'tau_alpha_150': <tau.core.BDDDialecticalStructure object at 0x7fa2d41fbd00>, 'tau_alpha_151': <tau.core.BDDDialecticalStructure object at 0x7fa2d41fbcd0>, 'tau_alpha_152': <tau.core.BDDDialecticalStructure object at 0x7fa2d3e963d0>, 'tau_alpha_153': <tau.core.BDDDialecticalStructure object at 0x7fa2d41ee9a0>, 'tau_alpha_154': <tau.core.BDDDialecticalStructure object at 0x7fa2d4044d30>, 'tau_alpha_155': <tau.core.BDDDialecticalStructure object at 0x7fa2d3f16250>, 'tau_alpha_156': <tau.core.BDDDialecticalStructure object at 0x7fa2d3f16bb0>, 'tau_alpha_157': <tau.core.BDDDialecticalStructure object at 0x7fa2d41a9e80>, 'tau_alpha_158': <tau.core.BDDDialecticalStructure object at 0x7fa2d3eaf1c0>, 'tau_alpha_159': <tau.core.BDDDialecticalStructure object at 0x7fa2d3f24a90>, 'tau_alpha_160': <tau.core.BDDDialecticalStructure object at 0x7fa2d4072880>, 'tau_alpha_161': <tau.core.BDDDialecticalStructure object at 0x7fa2d4044d60>, 'tau_alpha_162': <tau.core.BDDDialecticalStructure object at 0x7fa2d3f24820>, 'tau_alpha_163': <tau.core.BDDDialecticalStructure object at 0x7fa2d3f1db50>, 'tau_alpha_164': <tau.core.BDDDialecticalStructure object at 0x7fa2d4093610>, 'tau_alpha_165': <tau.core.BDDDialecticalStructure object at 0x7fa2d4b53a60>, 'tau_alpha_166': <tau.core.BDDDialecticalStructure object at 0x7fa2d3f24880>, 'tau_alpha_167': <tau.core.BDDDialecticalStructure object at 0x7fa2d3f16550>, 'tau_alpha_168': <tau.core.BDDDialecticalStructure object at 0x7fa2d41a97f0>, 'tau_alpha_169': <tau.core.BDDDialecticalStructure object at 0x7fa2d409e9d0>, 'tau_alpha_170': <tau.core.BDDDialecticalStructure object at 0x7fa2d409eee0>, 'tau_alpha_171': <tau.core.BDDDialecticalStructure object at 0x7fa2d4082610>, 'tau_alpha_172': <tau.core.BDDDialecticalStructure object at 0x7fa2d409edf0>, 'tau_alpha_173': <tau.core.BDDDialecticalStructure object at 0x7fa2d4082f40>, 'tau_alpha_174': <tau.core.BDDDialecticalStructure object at 0x7fa2d3f95ca0>, 'tau_alpha_175': <tau.core.BDDDialecticalStructure object at 0x7fa2d3f95160>, 'tau_alpha_176': <tau.core.BDDDialecticalStructure object at 0x7fa2d3f7f7c0>, 'tau_alpha_177': <tau.core.BDDDialecticalStructure object at 0x7fa2d3f7f1f0>, 'tau_alpha_178': <tau.core.BDDDialecticalStructure object at 0x7fa2d3f7fe50>, 'tau_alpha_179': <tau.core.BDDDialecticalStructure object at 0x7fa2d3f7ff10>, 'tau_alpha_180': <tau.core.BDDDialecticalStructure object at 0x7fa2d3f84970>, 'tau_alpha_181': <tau.core.BDDDialecticalStructure object at 0x7fa2d3f7f100>, 'tau_alpha_182': <tau.core.BDDDialecticalStructure object at 0x7fa2d3f7f460>, 'tau_alpha_183': <tau.core.BDDDialecticalStructure object at 0x7fa2d4103d30>, 'tau_alpha_184': <tau.core.BDDDialecticalStructure object at 0x7fa2d4103880>, 'tau_alpha_185': <tau.core.BDDDialecticalStructure object at 0x7fa2d4103700>, 'tau_alpha_186': <tau.core.BDDDialecticalStructure object at 0x7fa2d4120730>, 'tau_alpha_187': <tau.core.BDDDialecticalStructure object at 0x7fa2d41038e0>, 'tau_alpha_188': <tau.core.BDDDialecticalStructure object at 0x7fa2d409ed30>, 'tau_alpha_189': <tau.core.BDDDialecticalStructure object at 0x7fa2d3f24f70>, 'tau_alpha_190': <tau.core.BDDDialecticalStructure object at 0x7fa2d4109eb0>, 'tau_alpha_191': <tau.core.BDDDialecticalStructure object at 0x7fa2d40313a0>, 'tau_alpha_192': <tau.core.BDDDialecticalStructure object at 0x7fa2d4031bb0>, 'tau_alpha_193': <tau.core.BDDDialecticalStructure object at 0x7fa2d4031c40>, 'tau_alpha_194': <tau.core.BDDDialecticalStructure object at 0x7fa2d40315b0>, 'tau_alpha_195': <tau.core.BDDDialecticalStructure object at 0x7fa2d401af10>, 'tau_alpha_196': <tau.core.BDDDialecticalStructure object at 0x7fa2d4109c70>, 'tau_alpha_197': <tau.core.BDDDialecticalStructure object at 0x7fa2d401ab50>, 'tau_alpha_198': <tau.core.BDDDialecticalStructure object at 0x7fa2d3f249d0>, 'tau_alpha_199': <tau.core.BDDDialecticalStructure object at 0x7fa2d401aa30>, 'tau_alpha_200': <tau.core.BDDDialecticalStructure object at 0x7fa2d40df5b0>}\n"
     ]
    }
   ],
   "source": [
    "# creation of random dialectical structures\n",
    "tau_dict = {}\n",
    "i = 1\n",
    "for n_sentences in sentence_pool_sizes:\n",
    "    for weights in weights_list:\n",
    "        # just for keeping track\n",
    "        args_list = []\n",
    "        while len(args_list) < n_tau_per_sentence_pool:\n",
    "\n",
    "            arguments = create_random_argument_list(n_arguments_min=n_sentences-2, \n",
    "                                                    n_arguments_max=n_sentences+1,\n",
    "                                                    n_sentences=n_sentences, \n",
    "                                                    n_premises_max=max_n_premises,\n",
    "                                                    n_premises_weights=weights)\n",
    "\n",
    "            tau = BDDDialecticalStructure(n_sentences, arguments)\n",
    "\n",
    "            # used sentences\n",
    "            used_sentences = set(abs(s) for arg in arguments for s in arg)\n",
    "            # check inferential density and usage of all sentences\n",
    "            if (0.15<=inferential_density(tau)<=0.5) and (len(used_sentences)==n_sentences):           \n",
    "                #tau_name = f'{data_set_name}_tau_{i:02d}'\n",
    "                tau_name = f'{tau_data_set_name}_{i:03d}'\n",
    "\n",
    "                tau.set_name(tau_name)\n",
    "                tau_dict[tau_name]= tau\n",
    "                args_list.append(arguments)\n",
    "                #print(arguments)\n",
    "                i+=1\n",
    "\n",
    "#print(tau_dict)"
   ]
  },
  {
   "cell_type": "code",
   "execution_count": 14,
   "id": "12dd7786-8ff7-440c-bff3-8fd4ecfe7410",
   "metadata": {},
   "outputs": [
    {
     "name": "stdout",
     "output_type": "stream",
     "text": [
      "Saving data set tau_alpha into /home/sebastian/Nextcloud/Documents/mindmaps/events/projekte/re/reflective-equilibrium/github-repository/re-technical-report/data/tau_alpha.json.\n"
     ]
    }
   ],
   "source": [
    "# saving dialectical structure as json file\n",
    "overwrite = True\n",
    "#output_file_path = path.join(data_dir, f'{data_set_name}_taus.json')\n",
    "output_file_path = path.join(data_dir, f'{tau_data_set_name}.json')\n",
    "\n",
    "if path.exists(output_file_path) and not overwrite:\n",
    "    raise RuntimeError(f'Datafile {output_file_path} already exists. Remove file or set `overwrite` to true.')\n",
    "print(f'Saving data set {tau_data_set_name} into {output_file_path}.')\n",
    "with open(file=output_file_path, mode='w') as output_file:\n",
    "    tau_dump(tau_dict, output_file, indent=4, serialize_implementation=True)"
   ]
  },
  {
   "cell_type": "code",
   "execution_count": 21,
   "id": "db032400-bf2b-4e34-bbce-9b4e31dbcb7e",
   "metadata": {},
   "outputs": [
    {
     "name": "stdout",
     "output_type": "stream",
     "text": [
      "{6: [{4, 6, -2, -5, -1}, {2, -4, -1}, {1, 3, -6, -5, -2}], 7: [{4, 5, 7, -2, -6, -3, -1}, {2, 7, -6, -5, -4}, {-5, 6, 7}]}\n"
     ]
    }
   ],
   "source": [
    "# generating random initials commitments\n",
    "# for each sentence pool we generate `n_init_coms` initial commitments\n",
    "\n",
    "init_coms_dict = {n_sentence_pool: \n",
    "                  random_positions(n_sentences=n_sentence_pool, k=n_init_coms) for \n",
    "                  n_sentence_pool in sentence_pool_sizes}\n",
    "\n",
    "print(init_coms_dict) \n"
   ]
  },
  {
   "cell_type": "code",
   "execution_count": 22,
   "id": "664a21ae-8805-4ee3-be5e-3ebf469d619d",
   "metadata": {},
   "outputs": [
    {
     "name": "stdout",
     "output_type": "stream",
     "text": [
      "Saving data set coms_alpha into /home/sebastian/Nextcloud/Documents/mindmaps/events/projekte/re/reflective-equilibrium/github-repository/re-technical-report/data/coms_beta.json.\n"
     ]
    }
   ],
   "source": [
    "#data_set_name = \"coms_alpha\"\n",
    "\n",
    "# serializing into a JSON file\n",
    "#output_file_path = path.join(data_dir, f'{data_set_name}_coms.json')\n",
    "output_file_path = path.join(data_dir, f'{coms_data_set_name}.json')\n",
    "\n",
    "if path.exists(output_file_path) and not overwrite:\n",
    "    raise RuntimeError(f'Datafile {output_file_path} already exists. Remove file or set over_write to true.')\n",
    "print(f'Saving data set {data_set_name} into {output_file_path}.')\n",
    "\n",
    "with open(file=output_file_path, mode='w') as output_file:\n",
    "    tau_dump(init_coms_dict, output_file, indent=4, serialize_implementation=True)"
   ]
  },
  {
   "cell_type": "markdown",
   "id": "bd8c1db2-3026-485d-ae3f-41c5dd9a418e",
   "metadata": {
    "tags": []
   },
   "source": [
    "## RE ensemble runs"
   ]
  },
  {
   "cell_type": "markdown",
   "id": "1063d397-9bf5-472c-b38c-cfc85c93fbe1",
   "metadata": {},
   "source": [
    "### Loading data"
   ]
  },
  {
   "cell_type": "code",
   "execution_count": 12,
   "id": "0a45010e-26f2-495e-bd7a-cc71b04d0e80",
   "metadata": {},
   "outputs": [
    {
     "name": "stdout",
     "output_type": "stream",
     "text": [
      "Loading taus from: /home/sebastian/Nextcloud/Documents/mindmaps/events/projekte/re/reflective-equilibrium/github-repository/re-technical-report/data/re_data_20231104_taus.json\n",
      "Number of taus in file: 4\n",
      "Sentence pools: {6, 7}\n"
     ]
    }
   ],
   "source": [
    "## load dialectical structures\n",
    "data_set_name = 're_data_20231104'\n",
    "tau_file_path = path.join(data_dir, f'{data_set_name}_taus.json')\n",
    "\n",
    "print(f'Loading taus from: {tau_file_path}')\n",
    "input_file_path = tau_file_path\n",
    "with open(file=input_file_path, mode='r') as input_file:\n",
    "    tau_dict = tau_load(input_file, use_json_specified_type=True)\n",
    "s_pools = {tau.sentence_pool().size() for tau in tau_dict.values()}\n",
    "# we create equivalence classes of dialectical structures according to sentence pool size\n",
    "taus_by_n = {n_sentence_pool:[] for n_sentence_pool in s_pools}\n",
    "for tau in tau_dict.values():\n",
    "    taus_by_n[tau.sentence_pool().size()].append(tau)\n",
    "\n",
    "print(f'Number of taus in file: {len(tau_dict.values())}')\n",
    "print(f'Sentence pools: {s_pools}')\n",
    "#print(f'Tau names (keys): {list(tau_dict.keys())}')\n",
    "#print(taus_by_n)"
   ]
  },
  {
   "cell_type": "code",
   "execution_count": 13,
   "id": "7999bf99-a0bc-4da6-86de-c74d8dcee35f",
   "metadata": {},
   "outputs": [
    {
     "name": "stdout",
     "output_type": "stream",
     "text": [
      "Loading init coms from: /home/sebastian/Nextcloud/Documents/mindmaps/events/projekte/re/reflective-equilibrium/github-repository/re-technical-report/data/re_data_20231104_coms.json\n",
      "{'6': [[1, 2, 3, 5, -4]], '7': [[2, 3, 5, -7, -4, -1]]}\n"
     ]
    }
   ],
   "source": [
    "# loading initial commitments\n",
    "coms_file_path = path.join(data_dir, f'{data_set_name}_coms.json')\n",
    "\n",
    "print(f'Loading init coms from: {coms_file_path}')\n",
    "input_file_path = coms_file_path\n",
    "with open(file=input_file_path, mode='r') as input_file:\n",
    "    coms_dict = tau_load(input_file)\n",
    "print(coms_dict)"
   ]
  },
  {
   "cell_type": "markdown",
   "id": "11356c37-ad53-4c3d-b189-e124dbb792a8",
   "metadata": {},
   "source": [
    "### Process parameters and used models"
   ]
  },
  {
   "cell_type": "code",
   "execution_count": 8,
   "id": "e93d6edc-1d11-4f25-bd5b-8ab60c6491fd",
   "metadata": {},
   "outputs": [
    {
     "data": {
      "text/plain": [
       "[{'weights': {'account': 0.1, 'faithfulness': 0.8, 'systematicity': 0.1},\n",
       "  'account_penalties': [0.0, 0.3, 1.0, 1.0],\n",
       "  'faithfulness_penalties': [0.0, 0.0, 1.0, 1.0]},\n",
       " {'weights': {'account': 0.1, 'faithfulness': 0.7, 'systematicity': 0.2},\n",
       "  'account_penalties': [0.0, 0.3, 1.0, 1.0],\n",
       "  'faithfulness_penalties': [0.0, 0.0, 1.0, 1.0]},\n",
       " {'weights': {'account': 0.1, 'faithfulness': 0.6, 'systematicity': 0.3},\n",
       "  'account_penalties': [0.0, 0.3, 1.0, 1.0],\n",
       "  'faithfulness_penalties': [0.0, 0.0, 1.0, 1.0]},\n",
       " {'weights': {'account': 0.1, 'faithfulness': 0.5, 'systematicity': 0.4},\n",
       "  'account_penalties': [0.0, 0.3, 1.0, 1.0],\n",
       "  'faithfulness_penalties': [0.0, 0.0, 1.0, 1.0]},\n",
       " {'weights': {'account': 0.1, 'faithfulness': 0.4, 'systematicity': 0.5},\n",
       "  'account_penalties': [0.0, 0.3, 1.0, 1.0],\n",
       "  'faithfulness_penalties': [0.0, 0.0, 1.0, 1.0]},\n",
       " {'weights': {'account': 0.1,\n",
       "   'faithfulness': 0.30000000000000004,\n",
       "   'systematicity': 0.6},\n",
       "  'account_penalties': [0.0, 0.3, 1.0, 1.0],\n",
       "  'faithfulness_penalties': [0.0, 0.0, 1.0, 1.0]},\n",
       " {'weights': {'account': 0.1,\n",
       "   'faithfulness': 0.20000000000000007,\n",
       "   'systematicity': 0.7},\n",
       "  'account_penalties': [0.0, 0.3, 1.0, 1.0],\n",
       "  'faithfulness_penalties': [0.0, 0.0, 1.0, 1.0]},\n",
       " {'weights': {'account': 0.1,\n",
       "   'faithfulness': 0.09999999999999998,\n",
       "   'systematicity': 0.8},\n",
       "  'account_penalties': [0.0, 0.3, 1.0, 1.0],\n",
       "  'faithfulness_penalties': [0.0, 0.0, 1.0, 1.0]},\n",
       " {'weights': {'account': 0.2, 'faithfulness': 0.7, 'systematicity': 0.1},\n",
       "  'account_penalties': [0.0, 0.3, 1.0, 1.0],\n",
       "  'faithfulness_penalties': [0.0, 0.0, 1.0, 1.0]},\n",
       " {'weights': {'account': 0.2, 'faithfulness': 0.6, 'systematicity': 0.2},\n",
       "  'account_penalties': [0.0, 0.3, 1.0, 1.0],\n",
       "  'faithfulness_penalties': [0.0, 0.0, 1.0, 1.0]},\n",
       " {'weights': {'account': 0.2, 'faithfulness': 0.5, 'systematicity': 0.3},\n",
       "  'account_penalties': [0.0, 0.3, 1.0, 1.0],\n",
       "  'faithfulness_penalties': [0.0, 0.0, 1.0, 1.0]},\n",
       " {'weights': {'account': 0.2,\n",
       "   'faithfulness': 0.3999999999999999,\n",
       "   'systematicity': 0.4},\n",
       "  'account_penalties': [0.0, 0.3, 1.0, 1.0],\n",
       "  'faithfulness_penalties': [0.0, 0.0, 1.0, 1.0]},\n",
       " {'weights': {'account': 0.2,\n",
       "   'faithfulness': 0.30000000000000004,\n",
       "   'systematicity': 0.5},\n",
       "  'account_penalties': [0.0, 0.3, 1.0, 1.0],\n",
       "  'faithfulness_penalties': [0.0, 0.0, 1.0, 1.0]},\n",
       " {'weights': {'account': 0.2,\n",
       "   'faithfulness': 0.19999999999999996,\n",
       "   'systematicity': 0.6},\n",
       "  'account_penalties': [0.0, 0.3, 1.0, 1.0],\n",
       "  'faithfulness_penalties': [0.0, 0.0, 1.0, 1.0]},\n",
       " {'weights': {'account': 0.2,\n",
       "   'faithfulness': 0.10000000000000009,\n",
       "   'systematicity': 0.7},\n",
       "  'account_penalties': [0.0, 0.3, 1.0, 1.0],\n",
       "  'faithfulness_penalties': [0.0, 0.0, 1.0, 1.0]},\n",
       " {'weights': {'account': 0.3, 'faithfulness': 0.6, 'systematicity': 0.1},\n",
       "  'account_penalties': [0.0, 0.3, 1.0, 1.0],\n",
       "  'faithfulness_penalties': [0.0, 0.0, 1.0, 1.0]},\n",
       " {'weights': {'account': 0.3, 'faithfulness': 0.5, 'systematicity': 0.2},\n",
       "  'account_penalties': [0.0, 0.3, 1.0, 1.0],\n",
       "  'faithfulness_penalties': [0.0, 0.0, 1.0, 1.0]},\n",
       " {'weights': {'account': 0.3, 'faithfulness': 0.4, 'systematicity': 0.3},\n",
       "  'account_penalties': [0.0, 0.3, 1.0, 1.0],\n",
       "  'faithfulness_penalties': [0.0, 0.0, 1.0, 1.0]},\n",
       " {'weights': {'account': 0.3,\n",
       "   'faithfulness': 0.30000000000000004,\n",
       "   'systematicity': 0.4},\n",
       "  'account_penalties': [0.0, 0.3, 1.0, 1.0],\n",
       "  'faithfulness_penalties': [0.0, 0.0, 1.0, 1.0]},\n",
       " {'weights': {'account': 0.3,\n",
       "   'faithfulness': 0.19999999999999996,\n",
       "   'systematicity': 0.5},\n",
       "  'account_penalties': [0.0, 0.3, 1.0, 1.0],\n",
       "  'faithfulness_penalties': [0.0, 0.0, 1.0, 1.0]},\n",
       " {'weights': {'account': 0.3,\n",
       "   'faithfulness': 0.10000000000000009,\n",
       "   'systematicity': 0.6},\n",
       "  'account_penalties': [0.0, 0.3, 1.0, 1.0],\n",
       "  'faithfulness_penalties': [0.0, 0.0, 1.0, 1.0]},\n",
       " {'weights': {'account': 0.4, 'faithfulness': 0.5, 'systematicity': 0.1},\n",
       "  'account_penalties': [0.0, 0.3, 1.0, 1.0],\n",
       "  'faithfulness_penalties': [0.0, 0.0, 1.0, 1.0]},\n",
       " {'weights': {'account': 0.4,\n",
       "   'faithfulness': 0.3999999999999999,\n",
       "   'systematicity': 0.2},\n",
       "  'account_penalties': [0.0, 0.3, 1.0, 1.0],\n",
       "  'faithfulness_penalties': [0.0, 0.0, 1.0, 1.0]},\n",
       " {'weights': {'account': 0.4,\n",
       "   'faithfulness': 0.30000000000000004,\n",
       "   'systematicity': 0.3},\n",
       "  'account_penalties': [0.0, 0.3, 1.0, 1.0],\n",
       "  'faithfulness_penalties': [0.0, 0.0, 1.0, 1.0]},\n",
       " {'weights': {'account': 0.4,\n",
       "   'faithfulness': 0.19999999999999996,\n",
       "   'systematicity': 0.4},\n",
       "  'account_penalties': [0.0, 0.3, 1.0, 1.0],\n",
       "  'faithfulness_penalties': [0.0, 0.0, 1.0, 1.0]},\n",
       " {'weights': {'account': 0.4,\n",
       "   'faithfulness': 0.09999999999999998,\n",
       "   'systematicity': 0.5},\n",
       "  'account_penalties': [0.0, 0.3, 1.0, 1.0],\n",
       "  'faithfulness_penalties': [0.0, 0.0, 1.0, 1.0]},\n",
       " {'weights': {'account': 0.5, 'faithfulness': 0.4, 'systematicity': 0.1},\n",
       "  'account_penalties': [0.0, 0.3, 1.0, 1.0],\n",
       "  'faithfulness_penalties': [0.0, 0.0, 1.0, 1.0]},\n",
       " {'weights': {'account': 0.5,\n",
       "   'faithfulness': 0.30000000000000004,\n",
       "   'systematicity': 0.2},\n",
       "  'account_penalties': [0.0, 0.3, 1.0, 1.0],\n",
       "  'faithfulness_penalties': [0.0, 0.0, 1.0, 1.0]},\n",
       " {'weights': {'account': 0.5,\n",
       "   'faithfulness': 0.19999999999999996,\n",
       "   'systematicity': 0.3},\n",
       "  'account_penalties': [0.0, 0.3, 1.0, 1.0],\n",
       "  'faithfulness_penalties': [0.0, 0.0, 1.0, 1.0]},\n",
       " {'weights': {'account': 0.5,\n",
       "   'faithfulness': 0.09999999999999998,\n",
       "   'systematicity': 0.4},\n",
       "  'account_penalties': [0.0, 0.3, 1.0, 1.0],\n",
       "  'faithfulness_penalties': [0.0, 0.0, 1.0, 1.0]},\n",
       " {'weights': {'account': 0.6,\n",
       "   'faithfulness': 0.30000000000000004,\n",
       "   'systematicity': 0.1},\n",
       "  'account_penalties': [0.0, 0.3, 1.0, 1.0],\n",
       "  'faithfulness_penalties': [0.0, 0.0, 1.0, 1.0]},\n",
       " {'weights': {'account': 0.6,\n",
       "   'faithfulness': 0.19999999999999996,\n",
       "   'systematicity': 0.2},\n",
       "  'account_penalties': [0.0, 0.3, 1.0, 1.0],\n",
       "  'faithfulness_penalties': [0.0, 0.0, 1.0, 1.0]},\n",
       " {'weights': {'account': 0.6,\n",
       "   'faithfulness': 0.10000000000000009,\n",
       "   'systematicity': 0.3},\n",
       "  'account_penalties': [0.0, 0.3, 1.0, 1.0],\n",
       "  'faithfulness_penalties': [0.0, 0.0, 1.0, 1.0]},\n",
       " {'weights': {'account': 0.7,\n",
       "   'faithfulness': 0.20000000000000007,\n",
       "   'systematicity': 0.1},\n",
       "  'account_penalties': [0.0, 0.3, 1.0, 1.0],\n",
       "  'faithfulness_penalties': [0.0, 0.0, 1.0, 1.0]},\n",
       " {'weights': {'account': 0.7,\n",
       "   'faithfulness': 0.10000000000000009,\n",
       "   'systematicity': 0.2},\n",
       "  'account_penalties': [0.0, 0.3, 1.0, 1.0],\n",
       "  'faithfulness_penalties': [0.0, 0.0, 1.0, 1.0]},\n",
       " {'weights': {'account': 0.8,\n",
       "   'faithfulness': 0.09999999999999998,\n",
       "   'systematicity': 0.1},\n",
       "  'account_penalties': [0.0, 0.3, 1.0, 1.0],\n",
       "  'faithfulness_penalties': [0.0, 0.0, 1.0, 1.0]}]"
      ]
     },
     "execution_count": 8,
     "metadata": {},
     "output_type": "execute_result"
    }
   ],
   "source": [
    "list(standard_model_params_varied_alphas(9))"
   ]
  },
  {
   "cell_type": "code",
   "execution_count": 24,
   "id": "d68d0677",
   "metadata": {
    "tags": []
   },
   "outputs": [
    {
     "name": "stdout",
     "output_type": "stream",
     "text": [
      "re_data_20231125_process_results.csv\n",
      "36\n",
      "[{'weights': {'account': 0.1, 'faithfulness': 0.8, 'systematicity': 0.1}, 'account_penalties': [0.0, 0.3, 1.0, 1.0], 'faithfulness_penalties': [0.0, 0.0, 1.0, 1.0]}, {'weights': {'account': 0.1, 'faithfulness': 0.7, 'systematicity': 0.2}, 'account_penalties': [0.0, 0.3, 1.0, 1.0], 'faithfulness_penalties': [0.0, 0.0, 1.0, 1.0]}, {'weights': {'account': 0.1, 'faithfulness': 0.6, 'systematicity': 0.3}, 'account_penalties': [0.0, 0.3, 1.0, 1.0], 'faithfulness_penalties': [0.0, 0.0, 1.0, 1.0]}, {'weights': {'account': 0.1, 'faithfulness': 0.5, 'systematicity': 0.4}, 'account_penalties': [0.0, 0.3, 1.0, 1.0], 'faithfulness_penalties': [0.0, 0.0, 1.0, 1.0]}, {'weights': {'account': 0.1, 'faithfulness': 0.4, 'systematicity': 0.5}, 'account_penalties': [0.0, 0.3, 1.0, 1.0], 'faithfulness_penalties': [0.0, 0.0, 1.0, 1.0]}, {'weights': {'account': 0.1, 'faithfulness': 0.3, 'systematicity': 0.6}, 'account_penalties': [0.0, 0.3, 1.0, 1.0], 'faithfulness_penalties': [0.0, 0.0, 1.0, 1.0]}, {'weights': {'account': 0.1, 'faithfulness': 0.2, 'systematicity': 0.7}, 'account_penalties': [0.0, 0.3, 1.0, 1.0], 'faithfulness_penalties': [0.0, 0.0, 1.0, 1.0]}, {'weights': {'account': 0.1, 'faithfulness': 0.1, 'systematicity': 0.8}, 'account_penalties': [0.0, 0.3, 1.0, 1.0], 'faithfulness_penalties': [0.0, 0.0, 1.0, 1.0]}, {'weights': {'account': 0.2, 'faithfulness': 0.7, 'systematicity': 0.1}, 'account_penalties': [0.0, 0.3, 1.0, 1.0], 'faithfulness_penalties': [0.0, 0.0, 1.0, 1.0]}, {'weights': {'account': 0.2, 'faithfulness': 0.6, 'systematicity': 0.2}, 'account_penalties': [0.0, 0.3, 1.0, 1.0], 'faithfulness_penalties': [0.0, 0.0, 1.0, 1.0]}, {'weights': {'account': 0.2, 'faithfulness': 0.5, 'systematicity': 0.3}, 'account_penalties': [0.0, 0.3, 1.0, 1.0], 'faithfulness_penalties': [0.0, 0.0, 1.0, 1.0]}, {'weights': {'account': 0.2, 'faithfulness': 0.4, 'systematicity': 0.4}, 'account_penalties': [0.0, 0.3, 1.0, 1.0], 'faithfulness_penalties': [0.0, 0.0, 1.0, 1.0]}, {'weights': {'account': 0.2, 'faithfulness': 0.3, 'systematicity': 0.5}, 'account_penalties': [0.0, 0.3, 1.0, 1.0], 'faithfulness_penalties': [0.0, 0.0, 1.0, 1.0]}, {'weights': {'account': 0.2, 'faithfulness': 0.2, 'systematicity': 0.6}, 'account_penalties': [0.0, 0.3, 1.0, 1.0], 'faithfulness_penalties': [0.0, 0.0, 1.0, 1.0]}, {'weights': {'account': 0.2, 'faithfulness': 0.1, 'systematicity': 0.7}, 'account_penalties': [0.0, 0.3, 1.0, 1.0], 'faithfulness_penalties': [0.0, 0.0, 1.0, 1.0]}, {'weights': {'account': 0.3, 'faithfulness': 0.6, 'systematicity': 0.1}, 'account_penalties': [0.0, 0.3, 1.0, 1.0], 'faithfulness_penalties': [0.0, 0.0, 1.0, 1.0]}, {'weights': {'account': 0.3, 'faithfulness': 0.5, 'systematicity': 0.2}, 'account_penalties': [0.0, 0.3, 1.0, 1.0], 'faithfulness_penalties': [0.0, 0.0, 1.0, 1.0]}, {'weights': {'account': 0.3, 'faithfulness': 0.4, 'systematicity': 0.3}, 'account_penalties': [0.0, 0.3, 1.0, 1.0], 'faithfulness_penalties': [0.0, 0.0, 1.0, 1.0]}, {'weights': {'account': 0.3, 'faithfulness': 0.3, 'systematicity': 0.4}, 'account_penalties': [0.0, 0.3, 1.0, 1.0], 'faithfulness_penalties': [0.0, 0.0, 1.0, 1.0]}, {'weights': {'account': 0.3, 'faithfulness': 0.2, 'systematicity': 0.5}, 'account_penalties': [0.0, 0.3, 1.0, 1.0], 'faithfulness_penalties': [0.0, 0.0, 1.0, 1.0]}, {'weights': {'account': 0.3, 'faithfulness': 0.1, 'systematicity': 0.6}, 'account_penalties': [0.0, 0.3, 1.0, 1.0], 'faithfulness_penalties': [0.0, 0.0, 1.0, 1.0]}, {'weights': {'account': 0.4, 'faithfulness': 0.5, 'systematicity': 0.1}, 'account_penalties': [0.0, 0.3, 1.0, 1.0], 'faithfulness_penalties': [0.0, 0.0, 1.0, 1.0]}, {'weights': {'account': 0.4, 'faithfulness': 0.4, 'systematicity': 0.2}, 'account_penalties': [0.0, 0.3, 1.0, 1.0], 'faithfulness_penalties': [0.0, 0.0, 1.0, 1.0]}, {'weights': {'account': 0.4, 'faithfulness': 0.3, 'systematicity': 0.3}, 'account_penalties': [0.0, 0.3, 1.0, 1.0], 'faithfulness_penalties': [0.0, 0.0, 1.0, 1.0]}, {'weights': {'account': 0.4, 'faithfulness': 0.2, 'systematicity': 0.4}, 'account_penalties': [0.0, 0.3, 1.0, 1.0], 'faithfulness_penalties': [0.0, 0.0, 1.0, 1.0]}, {'weights': {'account': 0.4, 'faithfulness': 0.1, 'systematicity': 0.5}, 'account_penalties': [0.0, 0.3, 1.0, 1.0], 'faithfulness_penalties': [0.0, 0.0, 1.0, 1.0]}, {'weights': {'account': 0.5, 'faithfulness': 0.4, 'systematicity': 0.1}, 'account_penalties': [0.0, 0.3, 1.0, 1.0], 'faithfulness_penalties': [0.0, 0.0, 1.0, 1.0]}, {'weights': {'account': 0.5, 'faithfulness': 0.3, 'systematicity': 0.2}, 'account_penalties': [0.0, 0.3, 1.0, 1.0], 'faithfulness_penalties': [0.0, 0.0, 1.0, 1.0]}, {'weights': {'account': 0.5, 'faithfulness': 0.2, 'systematicity': 0.3}, 'account_penalties': [0.0, 0.3, 1.0, 1.0], 'faithfulness_penalties': [0.0, 0.0, 1.0, 1.0]}, {'weights': {'account': 0.5, 'faithfulness': 0.1, 'systematicity': 0.4}, 'account_penalties': [0.0, 0.3, 1.0, 1.0], 'faithfulness_penalties': [0.0, 0.0, 1.0, 1.0]}, {'weights': {'account': 0.6, 'faithfulness': 0.3, 'systematicity': 0.1}, 'account_penalties': [0.0, 0.3, 1.0, 1.0], 'faithfulness_penalties': [0.0, 0.0, 1.0, 1.0]}, {'weights': {'account': 0.6, 'faithfulness': 0.2, 'systematicity': 0.2}, 'account_penalties': [0.0, 0.3, 1.0, 1.0], 'faithfulness_penalties': [0.0, 0.0, 1.0, 1.0]}, {'weights': {'account': 0.6, 'faithfulness': 0.1, 'systematicity': 0.3}, 'account_penalties': [0.0, 0.3, 1.0, 1.0], 'faithfulness_penalties': [0.0, 0.0, 1.0, 1.0]}, {'weights': {'account': 0.7, 'faithfulness': 0.2, 'systematicity': 0.1}, 'account_penalties': [0.0, 0.3, 1.0, 1.0], 'faithfulness_penalties': [0.0, 0.0, 1.0, 1.0]}, {'weights': {'account': 0.7, 'faithfulness': 0.1, 'systematicity': 0.2}, 'account_penalties': [0.0, 0.3, 1.0, 1.0], 'faithfulness_penalties': [0.0, 0.0, 1.0, 1.0]}, {'weights': {'account': 0.8, 'faithfulness': 0.1, 'systematicity': 0.1}, 'account_penalties': [0.0, 0.3, 1.0, 1.0], 'faithfulness_penalties': [0.0, 0.0, 1.0, 1.0]}]\n"
     ]
    }
   ],
   "source": [
    "# \n",
    "# data_set_name = 're_data_20231105'\n",
    "data_set_name = f\"re_data_{datetime.now().strftime('%Y%m%d')}\"\n",
    "output_file_name = f'{data_set_name}_process_results.csv'\n",
    "print(output_file_name)\n",
    "\n",
    "# RE process parameters\n",
    "track_branches = True\n",
    "\n",
    "# RE weights\n",
    "model_parameters_list = []\n",
    "\n",
    "# weight resolution: 0.10\n",
    "for model_parameters in standard_model_params_varied_alphas(9):\n",
    "# testing \n",
    "#for model_parameters in standard_model_params_varied_alphas(3):\n",
    "    # ToDo: Discuss with Andreas\n",
    "    # rounding\n",
    "    for weight_name in model_parameters[\"weights\"].keys():\n",
    "    \n",
    "        model_parameters[\"weights\"][weight_name] = round(model_parameters[\"weights\"][weight_name],2)\n",
    "        \n",
    "    model_parameters_list.append(model_parameters)\n",
    "\n",
    "print(len(model_parameters_list))\n",
    "    \n",
    "print(model_parameters_list)\n",
    "\n",
    "# model variants\n",
    "\n",
    "implementations = [# globally searching algorithm with quadratic G-function \n",
    "                   {'tau_module_name': 'tau',\n",
    "                    'position_class_name':'StandardPosition',\n",
    "                    'dialectical_structure_class_name': 'DAGDialecticalStructure',\n",
    "                    'reflective_equilibrium_module_name': 'rethon',\n",
    "                    'reflective_equilibrium_class_name': 'StandardGlobalReflectiveEquilibrium'},\n",
    "                   # globally searching algorithm with linear G-function\n",
    "                   {'tau_module_name': 'tau',\n",
    "                    'position_class_name':'StandardPosition',\n",
    "                    'dialectical_structure_class_name': 'DAGDialecticalStructure',\n",
    "                    'reflective_equilibrium_module_name': 'model_variations',\n",
    "                    'reflective_equilibrium_class_name': 'StandardGlobalReflectiveEquilibriumLinearG'},\n",
    "                   # locally searching algorithm with quadratic G-function \n",
    "                   {'tau_module_name': 'tau',\n",
    "                    'position_class_name':'StandardPosition',\n",
    "                    'dialectical_structure_class_name': 'BDDDialecticalStructure',\n",
    "                    'reflective_equilibrium_module_name': 'model_variations',\n",
    "                    'reflective_equilibrium_class_name': 'StandardLocalReflectiveEquilibriumWithGO'},\n",
    "                   # locally searching algorithm with linear G-function \n",
    "                   {'tau_module_name': 'tau',\n",
    "                    'position_class_name':'StandardPosition',\n",
    "                    'dialectical_structure_class_name': 'BDDDialecticalStructure',\n",
    "                    'reflective_equilibrium_module_name': 'model_variations',\n",
    "                    'reflective_equilibrium_class_name': 'StandardLocalReflectiveEquilibriumLinearGWithGO'},\n",
    "                   ]\n"
   ]
  },
  {
   "cell_type": "code",
   "execution_count": 6,
   "id": "ffa1493b-06b5-48e4-8353-fbf53b72b89d",
   "metadata": {},
   "outputs": [],
   "source": [
    "# ToDiscuss: I guess we only need a custom generator if we want to vary/save parameters from the LocalREModel (like search depth)\n",
    "\n",
    "class CustomEnsembleGenerator(GlobalREEnsembleGenerator):\n",
    "    pass"
   ]
  },
  {
   "cell_type": "markdown",
   "id": "6a4a749e-725e-4106-a18f-0ead5e0de0b2",
   "metadata": {},
   "source": [
    "### Running ensembles and saving results"
   ]
  },
  {
   "cell_type": "code",
   "execution_count": 7,
   "id": "a4ddbd16",
   "metadata": {
    "tags": []
   },
   "outputs": [
    {
     "name": "stdout",
     "output_type": "stream",
     "text": [
      "[[1, 2, 3, 5, -4]]\n",
      "2023-11-24 19:52:04,686 [INFO] rethon: Starting ensemble generation with 24 models runs (without branches)\n",
      "2023-11-24 19:52:09,159 [WARNING] rethon: Reached max loop count for re_process without finding a fixed point.Current state is: {'finished': False, 'evolution': [{1, 2, 3, 5, -4}, {1, 2, 5}, {1, 2, 3, 5, -6, -4}, {1, 5}, {1, 3, 5, -6, -4}, {1, 5}, {1, 3, 5, -6, -4}], 'alternatives': [set(), set(), set(), set(), set(), set(), set()], 'time_line': [0, 1, 2, 3, 4, 5, 6]}\n",
      "2023-11-24 19:52:09,718 [WARNING] rethon: Reached max amount of branches.Current state is: {'finished': False, 'evolution': [{1, 2, 3, 5, -4}, {5}], 'alternatives': [set(), {{-5}, {-1}, {-3}, {1}, {4}}], 'time_line': [0, 1]}\n",
      "2023-11-24 19:52:10,338 [WARNING] rethon: Reached max amount of branches.Current state is: {'finished': False, 'evolution': [{1, 2, 3, 5, -4}, {2}, {2, 3, 5, 6, -1}], 'alternatives': [set(), set(), {{1, 2, 3, 5, 6, -4}, {1, 2, 3, 6, -5, -4}, {2, 3, 6, -5, -4, -1}, {2, 3, 5, 6, -4, -1}, {1, 2, 3, 5, 6}, {2, 3, 6, -5, -1}, {1, 2, 3, 6, -5}}], 'time_line': [0, 1, 2]}\n",
      "2023-11-24 19:52:10,620 [WARNING] rethon: Reached max loop count for re_process without finding a fixed point.Current state is: {'finished': False, 'evolution': [{1, 2, 3, 5, -4}, {-3}, {1, 2, 5, -4, -3}, {2, -3}, {1, 2, 5, -6, -4, -3}, {2, -3}, {1, 2, 5, -6, -4, -3}], 'alternatives': [set(), set(), {{1, 2, 3, -5, -4}, {1, 3, -4, 5}}, set(), set(), set(), set()], 'time_line': [0, 1, 2, 3, 4, 5, 6]}\n",
      "2023-11-24 19:52:11,190 [WARNING] rethon: Reached max loop count for re_process without finding a fixed point.Current state is: {'finished': False, 'evolution': [{1, 2, 3, 5, -4}, {-3}, {1, 3, -4, 5}, {-3}, {1, 3, 5, -6, -4}, {-3}, {1, 3, 5, -6, -4}], 'alternatives': [set(), set(), {{1, 2, 3, -5, -4}, {1, 2, 5, -4, -3}}, set(), set(), set(), set()], 'time_line': [0, 1, 2, 3, 4, 5, 6]}\n",
      "2023-11-24 19:52:11,473 [WARNING] rethon: Reached max loop count for re_process without finding a fixed point.Current state is: {'finished': False, 'evolution': [{1, 2, 3, 5, -4}, {-5}, {1, 3, -4, 5}, {3, -5}, {1, 3, 5, -6, -4}, {3, -5}, {1, 3, 5, -6, -4}], 'alternatives': [set(), set(), {{1, 2, -4, 5}, {1, 2, 3, -5, -4}}, set(), set(), set(), set()], 'time_line': [0, 1, 2, 3, 4, 5, 6]}\n",
      "2023-11-24 19:52:11,717 [WARNING] rethon: Reached max loop count for re_process without finding a fixed point.Current state is: {'finished': False, 'evolution': [{1, 2, 3, 5, -4}, {2}, {1, 2, 3, 5}, {2}, {1, 2, 3, 5, 6}, {2}, {1, 2, 3, 5, 6}], 'alternatives': [set(), set(), {{1, 2, 3, -5, -4}, {2, 3, 5, -4, -1}}, set(), set(), set(), set()], 'time_line': [0, 1, 2, 3, 4, 5, 6]}\n",
      "2023-11-24 19:52:12,076 [WARNING] rethon: Reached max loop count for re_process without finding a fixed point.Current state is: {'finished': False, 'evolution': [{1, 2, 3, 5, -4}, {2}, {1, 2, 3, -5, -4}, {2, -4}, {1, 2, 3, 6, -5, -4}, {2, -4}, {1, 2, 3, 6, -5, -4}], 'alternatives': [set(), set(), {{1, 2, 3, 5}, {2, 3, 5, -4, -1}}, set(), set(), set(), set()], 'time_line': [0, 1, 2, 3, 4, 5, 6]}\n",
      "2023-11-24 19:52:12,308 [WARNING] rethon: Reached max loop count for re_process without finding a fixed point.Current state is: {'finished': False, 'evolution': [{1, 2, 3, 5, -4}, {2}, {1, 2, 3, 5}, {2}, {2, 3, 5, -1}, {2}, {2, 3, 5, 6, -1}], 'alternatives': [set(), set(), {{1, 2, 3, -5, -4}, {2, 3, 5, -4, -1}}, set(), {{1, 2, 3, -5}}, set(), set()], 'time_line': [0, 1, 2, 3, 4, 5, 6]}\n",
      "2023-11-24 19:52:13,417 [WARNING] rethon: Reached max loop count for re_process without finding a fixed point.Current state is: {'finished': False, 'evolution': [{1, 2, 3, 5, -4}, {5}, {2, 3, -4, 5}, {2, 5}, {2, 3, 5}, {2, 5}, {3, -6, 2, 5}], 'alternatives': [set(), set(), {{1, 2, 3, 5}, {1, 3, -4, 5}}, {{-4, 5}}, set(), set(), set()], 'time_line': [0, 1, 2, 3, 4, 5, 6]}\n",
      "2023-11-24 19:52:14,545 [WARNING] rethon: Reached max loop count for re_process without finding a fixed point.Current state is: {'finished': False, 'evolution': [{1, 2, 3, 5, -4}, {2}, {1, 2, 3, -5, -4}, {2, -4}, {2, 3, -5, -4, -1}, {2, -4}, {2, 3, 6, -5, -4, -1}], 'alternatives': [set(), set(), {{1, 2, 3, 5}, {2, 3, 5, -4, -1}}, set(), set(), set(), set()], 'time_line': [0, 1, 2, 3, 4, 5, 6]}\n",
      "[[2, 3, 5, -7, -4, -1]]\n",
      "2023-11-24 19:52:14,890 [INFO] rethon: Starting ensemble generation with 24 models runs (without branches)\n",
      "2023-11-24 19:52:15,337 [WARNING] rethon: Reached max amount of branches.Current state is: {'finished': False, 'evolution': [{2, 3, 5, -7, -4, -1}, {-7, 3, -2}, {3, 5, -1, -7, -6, -4, -2}], 'alternatives': [set(), {{1, 3, -7}}, {{2, 3, -7, -6, -5, -4, -1}}], 'time_line': [0, 1, 2]}\n",
      "2023-11-24 19:52:15,482 [WARNING] rethon: Reached max loop count for re_process without finding a fixed point.Current state is: {'finished': False, 'evolution': [{2, 3, 5, -7, -4, -1}, {2, 5}, {2, 4, 5, -7, -3, -1}, {2, 6}, {2, 4, 5, 6, -7, -3, -1}, {2, 6}, {2, 4, 5, 6, -7, -3, -1}], 'alternatives': [set(), set(), {{2, 5, -7, -4, -3, -1}, {2, 3, 4, 5, 7, -1}, {2, 3, 4, 5, -7, -1}, {2, 5, 7, -4, -3, -1}, {2, 3, 5, 7, -4, -1}}, set(), {{2, 3, 4, 5, 6, -7, -1}, {2, 5, 6, 7, -4, -3, -1}, {2, 3, 5, 6, 7, -4, -1}, {2, 5, 6, -7, -4, -3, -1}, {2, 3, 4, 5, 6, 7, -1}}, set(), set()], 'time_line': [0, 1, 2, 3, 4, 5, 6]}\n",
      "2023-11-24 19:52:16,617 [WARNING] rethon: Reached max amount of branches.Current state is: {'finished': False, 'evolution': [{2, 3, 5, -7, -4, -1}, {3, 5, -1}], 'alternatives': [set(), {{2, 3, -5}, {2, 3, -4}, {3, 4, -1}}], 'time_line': [0, 1]}\n",
      "2023-11-24 19:52:18,672 [WARNING] rethon: Reached max amount of branches.Current state is: {'finished': False, 'evolution': [{2, 3, 5, -7, -4, -1}, {1}, {1, 2, 3, 4, 5, 6, -7}], 'alternatives': [set(), set(), {{2, 3, 4, 5, 6, -7, -1}, {1, 2, 3, 5, 6, -7, -4}, {2, 3, 5, 6, -7, -4, -1}}], 'time_line': [0, 1, 2]}\n",
      "2023-11-24 19:52:18,975 [WARNING] rethon: Reached max amount of branches.Current state is: {'finished': False, 'evolution': [{2, 3, 5, -7, -4, -1}, {1}], 'alternatives': [set(), {{2, 3, -4}, {3, 4, -1}, {2, 3, -5}, {3, 5, -1}}], 'time_line': [0, 1]}\n",
      "2023-11-24 19:52:19,304 [WARNING] rethon: Reached max amount of branches.Current state is: {'finished': False, 'evolution': [{2, 3, 5, -7, -4, -1}, {5}, {2, 3, 5, 7, -4, -1}], 'alternatives': [set(), set(), {{2, 5, -7, -4, -3, -1}, {2, 3, 4, 5, -7, -1}, {3, 5, -7, -4, -1}}], 'time_line': [0, 1, 2]}\n",
      "2023-11-24 19:52:20,639 [WARNING] rethon: Reached max amount of branches.Current state is: {'finished': False, 'evolution': [{2, 3, 5, -7, -4, -1}, {5}, {2, 3, 5, 7, -4, -1}], 'alternatives': [set(), set(), {{2, 5, -7, -4, -3, -1}, {2, 3, 4, 5, -7, -1}, {3, 5, -7, -4, -1}}], 'time_line': [0, 1, 2]}\n",
      "2023-11-24 19:52:21,633 [WARNING] rethon: Reached max loop count for re_process without finding a fixed point.Current state is: {'finished': False, 'evolution': [{2, 3, 5, -7, -4, -1}, {5}, {2, 5, -7, -4, -3, -1}, {2, 5}, {2, 5, 7, -4, -3, -1}, {2, 5}, {2, 5, 7, -4, -3, -1}], 'alternatives': [set(), set(), {{2, 3, 4, 5, -7, -1}, {3, 5, -7, -4, -1}, {2, 3, 5, 7, -4, -1}}, set(), {{2, 4, 5, -7, -3, -1}}, set(), set()], 'time_line': [0, 1, 2, 3, 4, 5, 6]}\n",
      "2023-11-24 19:52:22,335 [WARNING] rethon: Reached max loop count for re_process without finding a fixed point.Current state is: {'finished': False, 'evolution': [{2, 3, 5, -7, -4, -1}, {1}, {1, 2, 3, 5, -7, -4}, {1}, {1, 2, 3, 5, 6, -7, -4}, {1}, {1, 2, 3, 5, 6, -7, -4}], 'alternatives': [set(), set(), {{2, 3, 4, 5, -7, -1}}, set(), set(), set(), set()], 'time_line': [0, 1, 2, 3, 4, 5, 6]}\n",
      "2023-11-24 19:52:23,310 [WARNING] rethon: Reached max loop count for re_process without finding a fixed point.Current state is: {'finished': False, 'evolution': [{2, 3, 5, -7, -4, -1}, {1}, {2, 3, 4, 5, -7, -1}, {1}, {2, 3, 4, 5, 6, -7, -1}, {1}, {2, 3, 4, 5, 6, -7, -1}], 'alternatives': [set(), set(), {{1, 2, 3, 5, -7, -4}}, set(), set(), set(), set()], 'time_line': [0, 1, 2, 3, 4, 5, 6]}\n",
      "2023-11-24 19:52:24,090 [WARNING] rethon: Reached max loop count for re_process without finding a fixed point.Current state is: {'finished': False, 'evolution': [{2, 3, 5, -7, -4, -1}, {1}, {2, 3, 4, 5, -7, -1}, {1}, {2, 3, 4, 5, 6, -7, -1}, {1}, {2, 3, 4, 5, 6, -7, -1}], 'alternatives': [set(), set(), {{1, 2, 3, 5, -7, -4}}, set(), set(), set(), set()], 'time_line': [0, 1, 2, 3, 4, 5, 6]}\n",
      "2023-11-24 19:52:27,698 [WARNING] rethon: Reached max loop count for re_process without finding a fixed point.Current state is: {'finished': False, 'evolution': [{2, 3, 5, -7, -4, -1}, {5}, {2, 3, 5, 7, -4, -1}, {2, 5}, {2, 3, 4, 5, 7, -1}, {2, 5}, {2, 4, 5, 7, -3, -1}], 'alternatives': [set(), set(), {{2, 5, -7, -4, -3, -1}, {2, 3, 4, 5, -7, -1}, {3, 5, -7, -4, -1}}, set(), {{2, 5, 7, -4, -3, -1}}, set(), set()], 'time_line': [0, 1, 2, 3, 4, 5, 6]}\n",
      "2023-11-24 19:52:30,331 [WARNING] rethon: Reached max loop count for re_process without finding a fixed point.Current state is: {'finished': False, 'evolution': [{2, 3, 5, -7, -4, -1}, {1}, {1, 2, 3, 5, -7, -4}, {1}, {1, 2, 3, 4, 5, -7}, {1}, {1, 2, 3, 4, 5, 6, -7}], 'alternatives': [set(), set(), {{2, 3, 4, 5, -7, -1}}, set(), set(), set(), set()], 'time_line': [0, 1, 2, 3, 4, 5, 6]}\n"
     ]
    }
   ],
   "source": [
    "\n",
    "for n_sentences in s_pools:\n",
    "    \n",
    "    # dialectical structures in inferential density range\n",
    "    arguments_list = [tau.get_arguments() for tau in taus_by_n[n_sentences]]\n",
    "    coms_list = coms_dict[str(n_sentences)]\n",
    "    print(coms_list)\n",
    "\n",
    "    ensemble_gen = CustomEnsembleGenerator(arguments_list = arguments_list, \n",
    "                                           n_sentence_pool = n_sentences,\n",
    "                                           initial_commitments_list = coms_list,\n",
    "                                           model_parameters_list = model_parameters_list,\n",
    "                                           implementations = implementations,\n",
    "                                           max_re_length = 100,\n",
    "                                           create_branches = track_branches,\n",
    "                                           max_branches = 500)\n",
    "\n",
    "\n",
    "    ensemble_gen.ensemble_items_to_csv(\n",
    "                                  output_file_name = output_file_name,\n",
    "                                  output_dir_name =  data_dir,\n",
    "                                  archive = True, # save the csv as archived tar.gz\n",
    "                                  save_preliminary_results = False,  \n",
    "                                  append=True)"
   ]
  },
  {
   "cell_type": "code",
   "execution_count": null,
   "id": "d27e1b03",
   "metadata": {},
   "outputs": [],
   "source": []
  }
 ],
 "metadata": {
  "kernelspec": {
   "display_name": "py39",
   "language": "python",
   "name": "py39"
  },
  "language_info": {
   "codemirror_mode": {
    "name": "ipython",
    "version": 3
   },
   "file_extension": ".py",
   "mimetype": "text/x-python",
   "name": "python",
   "nbconvert_exporter": "python",
   "pygments_lexer": "ipython3",
   "version": "3.9.16"
  }
 },
 "nbformat": 4,
 "nbformat_minor": 5
}
